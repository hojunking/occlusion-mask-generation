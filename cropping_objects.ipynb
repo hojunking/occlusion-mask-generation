{
 "cells": [
  {
   "cell_type": "code",
   "execution_count": 1,
   "metadata": {},
   "outputs": [],
   "source": [
    "import os\n",
    "import cv2\n",
    "import numpy as np\n",
    "\n",
    "# 이미지 폴더 및 마스크 폴더 경로\n",
    "image_dir = '/home/knuvi/Desktop/song/cucumber-image/data/oi_seg/images'\n",
    "mask_dir = '/home/knuvi/Desktop/song/cucumber-image/data/oi_seg/masks'\n",
    "output_dir = '/home/knuvi/Desktop/song/cucumber-image/data/oi_seg/cropped_objects'\n",
    "\n",
    "# 알파 채널 적용하여 이미지를 저장하는 함수\n",
    "def save_cropped_object(image_path, mask_path, output_dir):\n",
    "    # 이미지와 마스크 파일 이름\n",
    "    image_name = os.path.basename(image_path)\n",
    "    mask_name = os.path.basename(mask_path)\n",
    "    \n",
    "    # 이미지와 마스크 로드\n",
    "    image = cv2.imread(image_path)\n",
    "    mask = cv2.imread(mask_path, cv2.IMREAD_GRAYSCALE)\n",
    "\n",
    "    if image is None or mask is None:\n",
    "        print(f\"이미지 또는 마스크 로드 실패: {image_name}, {mask_name}\")\n",
    "        return\n",
    "\n",
    "    # 마스크가 활성화된 (255인) 영역만 선택\n",
    "    object_mask = mask == 255\n",
    "\n",
    "    # 알파 채널 추가 (이미지 크기에 맞는 투명 채널 생성)\n",
    "    bgr_with_alpha = cv2.cvtColor(image, cv2.COLOR_BGR2BGRA)\n",
    "    \n",
    "    # 배경을 투명하게 처리\n",
    "    bgr_with_alpha[:, :, 3] = np.where(object_mask, 255, 0)\n",
    "\n",
    "    # 활성화된 마스크 영역만 추출하여 객체 크롭\n",
    "    x, y, w, h = cv2.boundingRect(object_mask.astype(np.uint8))\n",
    "    cropped_object = bgr_with_alpha[y:y+h, x:x+w]\n",
    "\n",
    "    # 파일 저장 경로 설정 (PNG 포맷으로 저장)\n",
    "    output_filename = f\"cropped_{os.path.splitext(mask_name)[0]}.png\"\n",
    "    output_path = os.path.join(output_dir, output_filename)\n",
    "\n",
    "    # 디렉토리 확인 및 생성\n",
    "    os.makedirs(output_dir, exist_ok=True)\n",
    "\n",
    "    # 크롭된 객체 이미지 저장\n",
    "    cv2.imwrite(output_path, cropped_object)\n",
    "    print(f\"객체 저장됨: {output_path}\")\n",
    "\n",
    "# 이미지와 마스크 처리 함수\n",
    "def process_images_and_masks(image_dir, mask_dir, output_dir):\n",
    "    # 이미지 파일과 동일한 마스크 파일 찾기\n",
    "    for image_file in os.listdir(image_dir):\n",
    "        image_path = os.path.join(image_dir, image_file)\n",
    "        \n",
    "        # 동일한 이름을 가진 마스크 파일 찾기\n",
    "        mask_file_prefix = os.path.splitext(image_file)[0]\n",
    "        matching_masks = [f for f in os.listdir(mask_dir) if f.startswith(mask_file_prefix)]\n",
    "\n",
    "        for mask_file in matching_masks:\n",
    "            mask_path = os.path.join(mask_dir, mask_file)\n",
    "            save_cropped_object(image_path, mask_path, output_dir)\n",
    "        break\n"
   ]
  },
  {
   "cell_type": "code",
   "execution_count": 2,
   "metadata": {},
   "outputs": [
    {
     "name": "stdout",
     "output_type": "stream",
     "text": [
      "객체 저장됨: /home/knuvi/Desktop/song/cucumber-image/data/oi_seg/cropped_objects/cropped_oi_140_3_oi_140_3_0_00.png\n",
      "객체 저장됨: /home/knuvi/Desktop/song/cucumber-image/data/oi_seg/cropped_objects/cropped_oi_140_3_oi_140_3_1_00.png\n"
     ]
    }
   ],
   "source": [
    "\n",
    "# 실행\n",
    "process_images_and_masks(image_dir, mask_dir, output_dir)"
   ]
  },
  {
   "cell_type": "code",
   "execution_count": null,
   "metadata": {},
   "outputs": [],
   "source": []
  }
 ],
 "metadata": {
  "kernelspec": {
   "display_name": "seg_song",
   "language": "python",
   "name": "python3"
  },
  "language_info": {
   "codemirror_mode": {
    "name": "ipython",
    "version": 3
   },
   "file_extension": ".py",
   "mimetype": "text/x-python",
   "name": "python",
   "nbconvert_exporter": "python",
   "pygments_lexer": "ipython3",
   "version": "3.10.15"
  }
 },
 "nbformat": 4,
 "nbformat_minor": 2
}
