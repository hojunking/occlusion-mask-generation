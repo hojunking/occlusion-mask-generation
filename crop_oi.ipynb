{
 "cells": [
  {
   "cell_type": "code",
   "execution_count": 1,
   "metadata": {},
   "outputs": [],
   "source": [
    "from ultralytics.models.sam import Predictor as SAMPredictor\n",
    "from ultralytics import SAM\n",
    "import cv2\n",
    "import json\n",
    "import os\n",
    "from typing import List, Tuple\n",
    "import torch\n",
    "import numpy as np\n",
    "from custom_utils import load_images_and_boxes, plot_masks_on_images, save_masks, resize_images_and_masks"
   ]
  },
  {
   "cell_type": "code",
   "execution_count": 2,
   "metadata": {},
   "outputs": [
    {
     "name": "stdout",
     "output_type": "stream",
     "text": [
      "{'conf': 0.75, 'task': 'segment', 'model': 'weights/sam_l.pt', 'imgsz': 512, 'project': './attempt'}\n"
     ]
    }
   ],
   "source": [
    "# 이미지와 레이블 경로\n",
    "image_folder = 'data/images/'\n",
    "label_folder = 'data/labels/'\n",
    "mask_output_folder = 'data/masks/'  # 마스크를 저장할 폴더 경로\n",
    "\n",
    "cfg = dict(conf=0.75, task=\"segment\", model='weights/sam_l.pt', imgsz = 512,\n",
    "                 project=\"./attempt\")\n",
    "print(cfg)"
   ]
  },
  {
   "cell_type": "code",
   "execution_count": 7,
   "metadata": {},
   "outputs": [],
   "source": [
    "# SAM 모델을 사용하여 다수의 이미지에 대해 마스크를 생성하는 함수\n",
    "def generate_masks_with_sam(cfg, images: List[np.ndarray], all_boxes: List[List[List[float]]]) -> List[np.ndarray]:\n",
    "    # SAM 모델 초기화\n",
    "    sam = SAMPredictor(overrides=cfg)\n",
    "    print(sam)\n",
    "    # 결과를 저장할 리스트\n",
    "    all_masks = []\n",
    "\n",
    "    for image, boxes in zip(images, all_boxes):\n",
    "        # 이미지를 PyTorch 텐서로 변환\n",
    "        image_tensor = torch.from_numpy(image).permute(2, 0, 1).unsqueeze(0).float()  # [1, C, H, W] 형식으로 변환\n",
    "\n",
    "        # 바운딩 박스가 numpy 배열인지 확인 및 변환\n",
    "        boxes_array = np.array(boxes, dtype=np.float32)\n",
    "        # results = sam(image, bboxes=boxes)\n",
    "        \n",
    "        # masks = []\n",
    "        # for r in results:\n",
    "        #     if r.masks is not None and r.masks.data is not None:\n",
    "        #         masks_data = r.masks.data.cpu().numpy()  # 텐서를 numpy 배열로 변환\n",
    "        #         masks.append(masks_data)\n",
    "        # all_masks.append(masks)\n",
    "        sam.set_image(image_tensor)\n",
    "        # SAM 모델을 사용하여 마스크 생성\n",
    "        \n",
    "        masks, scores, logits = sam.inference(bboxes=boxes)\n",
    "\n",
    "        #생성된 마스크를 결과 리스트에 추가\n",
    "        all_masks.append(masks)\n",
    "\n",
    "        # 결과 출력 (선택 사항)\n",
    "        print(f'scores: {scores}', f'logits: {logits}')\n",
    "\n",
    "    return all_masks"
   ]
  },
  {
   "cell_type": "code",
   "execution_count": 6,
   "metadata": {},
   "outputs": [
    {
     "name": "stdout",
     "output_type": "stream",
     "text": [
      "<ultralytics.models.sam.predict.Predictor object at 0x7f1d9251b340>\n",
      "Ultralytics YOLOv8.2.83 🚀 Python-3.10.14 torch-2.4.0+cu121 CUDA:0 (NVIDIA GeForce RTX 4090, 24195MiB)\n"
     ]
    },
    {
     "ename": "TypeError",
     "evalue": "Predictor.inference() missing 1 required positional argument: 'im'",
     "output_type": "error",
     "traceback": [
      "\u001b[0;31m---------------------------------------------------------------------------\u001b[0m",
      "\u001b[0;31mTypeError\u001b[0m                                 Traceback (most recent call last)",
      "Cell \u001b[0;32mIn[6], line 5\u001b[0m\n\u001b[1;32m      2\u001b[0m images, all_boxes, image_names \u001b[38;5;241m=\u001b[39m load_images_and_boxes(image_folder, label_folder, max_images\u001b[38;5;241m=\u001b[39m\u001b[38;5;241m5\u001b[39m)\n\u001b[1;32m      4\u001b[0m \u001b[38;5;66;03m# 마스크 생성\u001b[39;00m\n\u001b[0;32m----> 5\u001b[0m masks \u001b[38;5;241m=\u001b[39m \u001b[43mgenerate_masks_with_sam\u001b[49m\u001b[43m(\u001b[49m\u001b[43mcfg\u001b[49m\u001b[43m,\u001b[49m\u001b[43m \u001b[49m\u001b[43mimages\u001b[49m\u001b[43m,\u001b[49m\u001b[43m \u001b[49m\u001b[43mall_boxes\u001b[49m\u001b[43m)\u001b[49m\n\u001b[1;32m      7\u001b[0m \u001b[38;5;66;03m# 마스크와 이미지 리사이즈 (목표 크기: 512x384)\u001b[39;00m\n\u001b[1;32m      8\u001b[0m resized_images, resized_masks \u001b[38;5;241m=\u001b[39m resize_images_and_masks(images, masks, target_size\u001b[38;5;241m=\u001b[39m(\u001b[38;5;241m384\u001b[39m, \u001b[38;5;241m512\u001b[39m))\n",
      "Cell \u001b[0;32mIn[5], line 26\u001b[0m, in \u001b[0;36mgenerate_masks_with_sam\u001b[0;34m(cfg, images, all_boxes)\u001b[0m\n\u001b[1;32m     23\u001b[0m sam\u001b[38;5;241m.\u001b[39mset_image(image)\n\u001b[1;32m     24\u001b[0m \u001b[38;5;66;03m# SAM 모델을 사용하여 마스크 생성\u001b[39;00m\n\u001b[0;32m---> 26\u001b[0m masks, scores, logits \u001b[38;5;241m=\u001b[39m \u001b[43msam\u001b[49m\u001b[38;5;241;43m.\u001b[39;49m\u001b[43minference\u001b[49m\u001b[43m(\u001b[49m\u001b[43mbboxes\u001b[49m\u001b[38;5;241;43m=\u001b[39;49m\u001b[43mboxes\u001b[49m\u001b[43m)\u001b[49m\n\u001b[1;32m     28\u001b[0m \u001b[38;5;66;03m#생성된 마스크를 결과 리스트에 추가\u001b[39;00m\n\u001b[1;32m     29\u001b[0m all_masks\u001b[38;5;241m.\u001b[39mappend(masks)\n",
      "\u001b[0;31mTypeError\u001b[0m: Predictor.inference() missing 1 required positional argument: 'im'"
     ]
    }
   ],
   "source": [
    "\n",
    "# 이미지와 바운딩 박스 로드\n",
    "images, all_boxes, image_names = load_images_and_boxes(image_folder, label_folder, max_images=5)\n",
    "\n",
    "# 마스크 생성\n",
    "masks = generate_masks_with_sam(cfg, images, all_boxes)\n",
    "\n",
    "# 마스크와 이미지 리사이즈 (목표 크기: 512x384)\n",
    "resized_images, resized_masks = resize_images_and_masks(images, masks, target_size=(384, 512))\n",
    "\n",
    " # 마스크 저장\n",
    "save_masks(resized_masks, image_names, mask_output_folder)\n",
    "\n",
    "# 결과 시각화\n",
    "plot_masks_on_images(resized_images, resized_masks, image_names)"
   ]
  },
  {
   "cell_type": "code",
   "execution_count": null,
   "metadata": {},
   "outputs": [],
   "source": []
  }
 ],
 "metadata": {
  "kernelspec": {
   "display_name": "seg",
   "language": "python",
   "name": "python3"
  },
  "language_info": {
   "codemirror_mode": {
    "name": "ipython",
    "version": 3
   },
   "file_extension": ".py",
   "mimetype": "text/x-python",
   "name": "python",
   "nbconvert_exporter": "python",
   "pygments_lexer": "ipython3",
   "version": "3.10.14"
  }
 },
 "nbformat": 4,
 "nbformat_minor": 2
}
