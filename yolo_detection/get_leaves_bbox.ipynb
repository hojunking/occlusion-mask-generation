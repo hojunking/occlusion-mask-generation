{
 "cells": [
  {
   "cell_type": "code",
   "execution_count": 3,
   "metadata": {},
   "outputs": [],
   "source": [
    "from ultralytics import YOLO\n",
    "import os"
   ]
  },
  {
   "cell_type": "code",
   "execution_count": 14,
   "metadata": {},
   "outputs": [
    {
     "name": "stdout",
     "output_type": "stream",
     "text": [
      "train.txt 및 val.txt 파일 생성 완료!\n"
     ]
    }
   ],
   "source": [
    "import os\n",
    "\n",
    "# 이미지와 레이블이 함께 저장된 디렉토리\n",
    "train_img_dir = '/home/knuvi/Desktop/song/cucumber-image/data/leaves/train/images'\n",
    "val_img_dir = '/home/knuvi/Desktop/song/cucumber-image/data/leaves/val/images'\n",
    "\n",
    "# 파일 목록을 저장할 텍스트 파일 경로\n",
    "train_txt_path = '/home/knuvi/Desktop/song/cucumber-image/data/leaves/train.txt'\n",
    "val_txt_path = '/home/knuvi/Desktop/song/cucumber-image/data/leaves/val.txt'\n",
    "\n",
    "# train.txt 파일 생성\n",
    "with open(train_txt_path, 'w') as train_f:\n",
    "    for image_file in os.listdir(train_img_dir):\n",
    "        if image_file.endswith(('.jpg', '.jpeg', '.png')):  # 이미지 파일만 처리\n",
    "            train_f.write(f\"{os.path.join(train_img_dir, image_file)}\\n\")\n",
    "\n",
    "# val.txt 파일 생성\n",
    "with open(val_txt_path, 'w') as val_f:\n",
    "    for image_file in os.listdir(val_img_dir):\n",
    "        if image_file.endswith(('.jpg', '.jpeg', '.png')):  # 이미지 파일만 처리\n",
    "            val_f.write(f\"{os.path.join(val_img_dir, image_file)}\\n\")\n",
    "\n",
    "print(\"train.txt 및 val.txt 파일 생성 완료!\")\n"
   ]
  },
  {
   "cell_type": "code",
   "execution_count": 4,
   "metadata": {},
   "outputs": [],
   "source": [
    "data = \"/home/knuvi/Desktop/song/cucumber-image/data/leaves/data.yaml\"\n",
    "project = \"/home/knuvi/Desktop/song/cucumber-image/yolo_detection\""
   ]
  },
  {
   "cell_type": "code",
   "execution_count": 15,
   "metadata": {},
   "outputs": [],
   "source": [
    "os.environ[\"CUDA_LAUNCH_BLOCKING\"] = \"1\"\n",
    "model = YOLO(\"/home/knuvi/Desktop/song/cucumber-image/weights/yolov10b.pt\")"
   ]
  },
  {
   "cell_type": "code",
   "execution_count": 16,
   "metadata": {},
   "outputs": [
    {
     "name": "stdout",
     "output_type": "stream",
     "text": [
      "Ultralytics YOLOv8.2.102 🚀 Python-3.10.15 torch-2.4.1+cu121 CUDA:0 (NVIDIA GeForce RTX 4070 Ti SUPER, 16079MiB)\n",
      "\u001b[34m\u001b[1mengine/trainer: \u001b[0mtask=detect, mode=train, model=/home/knuvi/Desktop/song/cucumber-image/weights/yolov10b.pt, data=/home/knuvi/Desktop/song/cucumber-image/data/leaves/data.yaml, epochs=100, time=None, patience=100, batch=16, imgsz=640, save=True, save_period=-1, cache=False, device=0, workers=8, project=/home/knuvi/Desktop/song/cucumber-image/yolo_detection, name=leaves4, exist_ok=False, pretrained=True, optimizer=auto, verbose=True, seed=0, deterministic=True, single_cls=False, rect=False, cos_lr=False, close_mosaic=10, resume=False, amp=True, fraction=1.0, profile=False, freeze=None, multi_scale=False, overlap_mask=True, mask_ratio=4, dropout=0.0, val=True, split=val, save_json=False, save_hybrid=False, conf=None, iou=0.7, max_det=300, half=False, dnn=False, plots=True, source=None, vid_stride=1, stream_buffer=False, visualize=False, augment=False, agnostic_nms=False, classes=None, retina_masks=False, embed=None, show=False, save_frames=False, save_txt=False, save_conf=False, save_crop=False, show_labels=True, show_conf=True, show_boxes=True, line_width=None, format=torchscript, keras=False, optimize=False, int8=False, dynamic=False, simplify=True, opset=None, workspace=4, nms=False, lr0=0.01, lrf=0.01, momentum=0.937, weight_decay=0.0005, warmup_epochs=3.0, warmup_momentum=0.8, warmup_bias_lr=0.1, box=7.5, cls=0.5, dfl=1.5, pose=12.0, kobj=1.0, label_smoothing=0.0, nbs=64, hsv_h=0.015, hsv_s=0.7, hsv_v=0.4, degrees=0.0, translate=0.1, scale=0.5, shear=0.0, perspective=0.0, flipud=0.0, fliplr=0.5, bgr=0.0, mosaic=1.0, mixup=0.0, copy_paste=0.0, auto_augment=randaugment, erasing=0.4, crop_fraction=1.0, cfg=None, tracker=botsort.yaml, save_dir=/home/knuvi/Desktop/song/cucumber-image/yolo_detection/leaves4\n",
      "Overriding model.yaml nc=80 with nc=1\n",
      "WARNING ⚠️ no model scale passed. Assuming scale='b'.\n",
      "\n",
      "                   from  n    params  module                                       arguments                     \n",
      "  0                  -1  1      1856  ultralytics.nn.modules.conv.Conv             [3, 64, 3, 2]                 \n",
      "  1                  -1  1     73984  ultralytics.nn.modules.conv.Conv             [64, 128, 3, 2]               \n",
      "  2                  -1  2    197632  ultralytics.nn.modules.block.C2f             [128, 128, 2, True]           \n",
      "  3                  -1  1    295424  ultralytics.nn.modules.conv.Conv             [128, 256, 3, 2]              \n",
      "  4                  -1  4   1444864  ultralytics.nn.modules.block.C2f             [256, 256, 4, True]           \n",
      "  5                  -1  1    137728  ultralytics.nn.modules.block.SCDown          [256, 512, 3, 2]              \n",
      "  6                  -1  4   5773312  ultralytics.nn.modules.block.C2f             [512, 512, 4, True]           \n",
      "  7                  -1  1    268800  ultralytics.nn.modules.block.SCDown          [512, 512, 3, 2]              \n",
      "  8                  -1  2   1338368  ultralytics.nn.modules.block.C2fCIB          [512, 512, 2, True]           \n",
      "  9                  -1  1    656896  ultralytics.nn.modules.block.SPPF            [512, 512, 5]                 \n",
      " 10                  -1  1    990976  ultralytics.nn.modules.block.PSA             [512, 512]                    \n",
      " 11                  -1  1         0  torch.nn.modules.upsampling.Upsample         [None, 2, 'nearest']          \n",
      " 12             [-1, 6]  1         0  ultralytics.nn.modules.conv.Concat           [1]                           \n",
      " 13                  -1  2   1600512  ultralytics.nn.modules.block.C2fCIB          [1024, 512, 2, True]          \n",
      " 14                  -1  1         0  torch.nn.modules.upsampling.Upsample         [None, 2, 'nearest']          \n",
      " 15             [-1, 4]  1         0  ultralytics.nn.modules.conv.Concat           [1]                           \n",
      " 16                  -1  2    919552  ultralytics.nn.modules.block.C2f             [768, 256, 2]                 \n",
      " 17                  -1  1    590336  ultralytics.nn.modules.conv.Conv             [256, 256, 3, 2]              \n",
      " 18            [-1, 13]  1         0  ultralytics.nn.modules.conv.Concat           [1]                           \n",
      " 19                  -1  2   1469440  ultralytics.nn.modules.block.C2fCIB          [768, 512, 2, True]           \n",
      " 20                  -1  1    268800  ultralytics.nn.modules.block.SCDown          [512, 512, 3, 2]              \n",
      " 21            [-1, 10]  1         0  ultralytics.nn.modules.conv.Concat           [1]                           \n",
      " 22                  -1  2   1600512  ultralytics.nn.modules.block.C2fCIB          [1024, 512, 2, True]          \n",
      " 23        [16, 19, 22]  1   2823574  ultralytics.nn.modules.head.v10Detect        [1, [256, 512, 512]]          \n",
      "YOLOv10b summary: 518 layers, 20,452,566 parameters, 20,452,550 gradients, 98.7 GFLOPs\n",
      "\n",
      "Transferred 823/835 items from pretrained weights\n",
      "Freezing layer 'model.23.dfl.conv.weight'\n",
      "\u001b[34m\u001b[1mAMP: \u001b[0mrunning Automatic Mixed Precision (AMP) checks with YOLOv8n...\n",
      "\u001b[34m\u001b[1mAMP: \u001b[0mchecks passed ✅\n"
     ]
    },
    {
     "name": "stderr",
     "output_type": "stream",
     "text": [
      "\u001b[34m\u001b[1mtrain: \u001b[0mScanning /home/knuvi/Desktop/song/cucumber-image/data/leaves/train/labels... 244 images, 0 backgrounds, 0 corrupt: 100%|██████████| 244/244 [00:01<00:00, 147.62it/s]"
     ]
    },
    {
     "name": "stdout",
     "output_type": "stream",
     "text": [
      "\u001b[34m\u001b[1mtrain: \u001b[0mWARNING ⚠️ /home/knuvi/Desktop/song/cucumber-image/data/leaves/train/images/V003_3_3_1_2_4_2_2_1_0_0_20221015_5070_20240422195045.jpg: corrupt JPEG restored and saved\n",
      "\u001b[34m\u001b[1mtrain: \u001b[0mWARNING ⚠️ /home/knuvi/Desktop/song/cucumber-image/data/leaves/train/images/V003_3_3_1_2_4_2_2_1_0_0_20221015_5075_20240422195045.jpg: corrupt JPEG restored and saved\n",
      "\u001b[34m\u001b[1mtrain: \u001b[0mWARNING ⚠️ /home/knuvi/Desktop/song/cucumber-image/data/leaves/train/images/V003_3_3_1_2_4_2_2_1_0_0_20221015_5078_20240422195046.jpg: corrupt JPEG restored and saved\n",
      "\u001b[34m\u001b[1mtrain: \u001b[0mWARNING ⚠️ /home/knuvi/Desktop/song/cucumber-image/data/leaves/train/images/V003_3_3_1_2_4_2_2_1_0_0_20221015_5086_20240422195046.jpg: corrupt JPEG restored and saved\n",
      "\u001b[34m\u001b[1mtrain: \u001b[0mWARNING ⚠️ /home/knuvi/Desktop/song/cucumber-image/data/leaves/train/images/V003_3_3_1_2_4_2_2_1_0_0_20221019_5096_20240422195046.jpg: corrupt JPEG restored and saved\n",
      "\u001b[34m\u001b[1mtrain: \u001b[0mWARNING ⚠️ /home/knuvi/Desktop/song/cucumber-image/data/leaves/train/images/V003_3_3_1_2_4_2_2_1_0_0_20221019_5097_20240422195047.jpg: corrupt JPEG restored and saved\n",
      "\u001b[34m\u001b[1mtrain: \u001b[0mWARNING ⚠️ /home/knuvi/Desktop/song/cucumber-image/data/leaves/train/images/V003_3_3_1_2_4_2_2_1_0_0_20221019_5099_20240422195047.jpg: corrupt JPEG restored and saved\n",
      "\u001b[34m\u001b[1mtrain: \u001b[0mWARNING ⚠️ /home/knuvi/Desktop/song/cucumber-image/data/leaves/train/images/V003_3_3_1_2_4_2_2_1_0_0_20221019_5100_20240422195047.jpg: corrupt JPEG restored and saved\n",
      "\u001b[34m\u001b[1mtrain: \u001b[0mWARNING ⚠️ /home/knuvi/Desktop/song/cucumber-image/data/leaves/train/images/V003_3_3_1_2_4_2_2_1_0_0_20221019_5104_20240422195047.jpg: corrupt JPEG restored and saved\n",
      "\u001b[34m\u001b[1mtrain: \u001b[0mWARNING ⚠️ /home/knuvi/Desktop/song/cucumber-image/data/leaves/train/images/V003_3_3_1_2_4_2_2_1_0_0_20221019_5123_20240422195048.jpg: corrupt JPEG restored and saved\n",
      "\u001b[34m\u001b[1mtrain: \u001b[0mWARNING ⚠️ /home/knuvi/Desktop/song/cucumber-image/data/leaves/train/images/V003_3_3_1_2_4_2_2_1_0_0_20221019_5126_20240422195048.jpg: corrupt JPEG restored and saved\n",
      "\u001b[34m\u001b[1mtrain: \u001b[0mWARNING ⚠️ /home/knuvi/Desktop/song/cucumber-image/data/leaves/train/images/V003_3_3_1_2_4_2_2_1_0_0_20221019_5128_20240422195048.jpg: corrupt JPEG restored and saved\n",
      "\u001b[34m\u001b[1mtrain: \u001b[0mWARNING ⚠️ /home/knuvi/Desktop/song/cucumber-image/data/leaves/train/images/V003_3_3_1_2_4_2_2_1_0_0_20221019_5130_20240422195048.jpg: corrupt JPEG restored and saved\n",
      "\u001b[34m\u001b[1mtrain: \u001b[0mWARNING ⚠️ /home/knuvi/Desktop/song/cucumber-image/data/leaves/train/images/V003_3_3_1_2_4_2_2_1_0_0_20221019_5132_20240422195048.jpg: corrupt JPEG restored and saved\n",
      "\u001b[34m\u001b[1mtrain: \u001b[0mWARNING ⚠️ /home/knuvi/Desktop/song/cucumber-image/data/leaves/train/images/V003_3_3_1_2_4_2_2_1_0_0_20221019_5136_20240422195049.jpg: corrupt JPEG restored and saved\n",
      "\u001b[34m\u001b[1mtrain: \u001b[0mWARNING ⚠️ /home/knuvi/Desktop/song/cucumber-image/data/leaves/train/images/V003_3_3_1_2_4_2_2_1_0_0_20221019_5140_20240422195049.jpg: corrupt JPEG restored and saved\n",
      "\u001b[34m\u001b[1mtrain: \u001b[0mWARNING ⚠️ /home/knuvi/Desktop/song/cucumber-image/data/leaves/train/images/V003_3_3_1_2_4_2_2_1_0_0_20221019_5142_20240422195049.jpg: corrupt JPEG restored and saved\n",
      "\u001b[34m\u001b[1mtrain: \u001b[0mWARNING ⚠️ /home/knuvi/Desktop/song/cucumber-image/data/leaves/train/images/V003_3_3_1_2_4_2_2_1_0_0_20221019_5144_20240422195049.jpg: corrupt JPEG restored and saved\n",
      "\u001b[34m\u001b[1mtrain: \u001b[0mWARNING ⚠️ /home/knuvi/Desktop/song/cucumber-image/data/leaves/train/images/V003_3_3_1_2_4_2_2_1_0_0_20221019_5151_20240422195049.jpg: corrupt JPEG restored and saved\n",
      "\u001b[34m\u001b[1mtrain: \u001b[0mWARNING ⚠️ /home/knuvi/Desktop/song/cucumber-image/data/leaves/train/images/V003_3_3_1_2_4_2_2_1_0_0_20221019_5154_20240422195049.jpg: corrupt JPEG restored and saved\n",
      "\u001b[34m\u001b[1mtrain: \u001b[0mWARNING ⚠️ /home/knuvi/Desktop/song/cucumber-image/data/leaves/train/images/V003_3_3_1_2_4_2_2_1_0_0_20221019_5155_20240422195050.jpg: corrupt JPEG restored and saved\n",
      "\u001b[34m\u001b[1mtrain: \u001b[0mWARNING ⚠️ /home/knuvi/Desktop/song/cucumber-image/data/leaves/train/images/V003_3_3_1_2_4_2_2_1_0_0_20221019_5160_20240422195050.jpg: corrupt JPEG restored and saved\n",
      "\u001b[34m\u001b[1mtrain: \u001b[0mWARNING ⚠️ /home/knuvi/Desktop/song/cucumber-image/data/leaves/train/images/V003_3_3_1_2_4_2_2_1_0_0_20221019_5168_20240422195050.jpg: corrupt JPEG restored and saved\n",
      "\u001b[34m\u001b[1mtrain: \u001b[0mWARNING ⚠️ /home/knuvi/Desktop/song/cucumber-image/data/leaves/train/images/V003_3_3_1_2_4_2_2_1_0_0_20221019_5170_20240422195050.jpg: corrupt JPEG restored and saved\n",
      "\u001b[34m\u001b[1mtrain: \u001b[0mWARNING ⚠️ /home/knuvi/Desktop/song/cucumber-image/data/leaves/train/images/V003_3_3_1_2_4_2_2_1_0_0_20221019_5180_20240422195051.jpg: corrupt JPEG restored and saved\n",
      "\u001b[34m\u001b[1mtrain: \u001b[0mWARNING ⚠️ /home/knuvi/Desktop/song/cucumber-image/data/leaves/train/images/V003_3_3_1_2_4_2_2_1_0_0_20221019_5183_20240422195051.jpg: corrupt JPEG restored and saved\n",
      "\u001b[34m\u001b[1mtrain: \u001b[0mWARNING ⚠️ /home/knuvi/Desktop/song/cucumber-image/data/leaves/train/images/V003_3_3_1_2_4_2_2_1_0_0_20221019_5185_20240422195051.jpg: corrupt JPEG restored and saved\n",
      "\u001b[34m\u001b[1mtrain: \u001b[0mWARNING ⚠️ /home/knuvi/Desktop/song/cucumber-image/data/leaves/train/images/V003_3_3_1_2_4_2_2_1_0_0_20221019_5186_20240422195051.jpg: corrupt JPEG restored and saved\n",
      "\u001b[34m\u001b[1mtrain: \u001b[0mWARNING ⚠️ /home/knuvi/Desktop/song/cucumber-image/data/leaves/train/images/V003_3_3_1_2_4_2_2_1_0_0_20221019_5190_20240422195051.jpg: corrupt JPEG restored and saved\n",
      "\u001b[34m\u001b[1mtrain: \u001b[0mWARNING ⚠️ /home/knuvi/Desktop/song/cucumber-image/data/leaves/train/images/V003_3_3_1_2_4_2_2_1_0_0_20221019_5194_20240422195052.jpg: corrupt JPEG restored and saved\n",
      "\u001b[34m\u001b[1mtrain: \u001b[0mWARNING ⚠️ /home/knuvi/Desktop/song/cucumber-image/data/leaves/train/images/V003_3_3_1_2_4_2_2_1_0_0_20221019_5196_20240422195052.jpg: corrupt JPEG restored and saved\n",
      "\u001b[34m\u001b[1mtrain: \u001b[0mWARNING ⚠️ /home/knuvi/Desktop/song/cucumber-image/data/leaves/train/images/V003_3_3_1_2_4_2_2_1_0_0_20221019_5197_20240422195052.jpg: corrupt JPEG restored and saved\n",
      "\u001b[34m\u001b[1mtrain: \u001b[0mWARNING ⚠️ /home/knuvi/Desktop/song/cucumber-image/data/leaves/train/images/V003_3_3_1_2_4_2_2_1_0_0_20221019_5198_20240422195052.jpg: corrupt JPEG restored and saved\n",
      "\u001b[34m\u001b[1mtrain: \u001b[0mWARNING ⚠️ /home/knuvi/Desktop/song/cucumber-image/data/leaves/train/images/V003_3_3_1_2_4_2_2_1_0_0_20221019_5199_20240422195052.jpg: corrupt JPEG restored and saved\n",
      "\u001b[34m\u001b[1mtrain: \u001b[0mWARNING ⚠️ /home/knuvi/Desktop/song/cucumber-image/data/leaves/train/images/V003_3_3_1_2_4_2_2_1_0_0_20221019_5225_20240422195053.jpg: corrupt JPEG restored and saved\n",
      "\u001b[34m\u001b[1mtrain: \u001b[0mWARNING ⚠️ /home/knuvi/Desktop/song/cucumber-image/data/leaves/train/images/V003_3_3_1_2_4_2_2_1_0_0_20221019_5226_20240422195053.jpg: corrupt JPEG restored and saved\n",
      "\u001b[34m\u001b[1mtrain: \u001b[0mWARNING ⚠️ /home/knuvi/Desktop/song/cucumber-image/data/leaves/train/images/V003_3_3_1_2_4_2_2_1_0_0_20221019_5229_20240422195053.jpg: corrupt JPEG restored and saved\n",
      "\u001b[34m\u001b[1mtrain: \u001b[0mWARNING ⚠️ /home/knuvi/Desktop/song/cucumber-image/data/leaves/train/images/V003_3_3_1_2_4_2_2_1_0_0_20221019_5230_20240422195053.jpg: corrupt JPEG restored and saved\n",
      "\u001b[34m\u001b[1mtrain: \u001b[0mWARNING ⚠️ /home/knuvi/Desktop/song/cucumber-image/data/leaves/train/images/V003_3_3_1_2_4_2_2_1_0_0_20221019_5233_20240422195054.jpg: corrupt JPEG restored and saved\n",
      "\u001b[34m\u001b[1mtrain: \u001b[0mWARNING ⚠️ /home/knuvi/Desktop/song/cucumber-image/data/leaves/train/images/V003_3_3_1_2_4_2_2_1_0_0_20221019_5237_20240422195054.jpg: corrupt JPEG restored and saved\n",
      "\u001b[34m\u001b[1mtrain: \u001b[0mWARNING ⚠️ /home/knuvi/Desktop/song/cucumber-image/data/leaves/train/images/V003_3_3_1_2_4_2_2_1_0_0_20221019_5240_20240422195054.jpg: corrupt JPEG restored and saved\n",
      "\u001b[34m\u001b[1mtrain: \u001b[0mWARNING ⚠️ /home/knuvi/Desktop/song/cucumber-image/data/leaves/train/images/V003_3_3_1_2_4_2_2_1_0_0_20221019_5242_20240422195054.jpg: corrupt JPEG restored and saved\n",
      "\u001b[34m\u001b[1mtrain: \u001b[0mWARNING ⚠️ /home/knuvi/Desktop/song/cucumber-image/data/leaves/train/images/V003_3_3_1_2_4_2_2_1_0_0_20221019_5244_20240422195054.jpg: corrupt JPEG restored and saved\n",
      "\u001b[34m\u001b[1mtrain: \u001b[0mWARNING ⚠️ /home/knuvi/Desktop/song/cucumber-image/data/leaves/train/images/V003_3_3_1_2_4_2_2_1_0_0_20221019_5251_20240422195055.jpg: corrupt JPEG restored and saved\n",
      "\u001b[34m\u001b[1mtrain: \u001b[0mWARNING ⚠️ /home/knuvi/Desktop/song/cucumber-image/data/leaves/train/images/V003_3_3_1_2_4_2_2_1_0_0_20221019_5253_20240422195055.jpg: corrupt JPEG restored and saved\n",
      "\u001b[34m\u001b[1mtrain: \u001b[0mWARNING ⚠️ /home/knuvi/Desktop/song/cucumber-image/data/leaves/train/images/V003_3_3_1_2_4_2_2_1_0_0_20221019_5255_20240422195055.jpg: corrupt JPEG restored and saved\n",
      "\u001b[34m\u001b[1mtrain: \u001b[0mWARNING ⚠️ /home/knuvi/Desktop/song/cucumber-image/data/leaves/train/images/V003_3_3_1_2_4_2_2_1_0_0_20221019_5282_20240422195056.jpg: corrupt JPEG restored and saved\n",
      "\u001b[34m\u001b[1mtrain: \u001b[0mWARNING ⚠️ /home/knuvi/Desktop/song/cucumber-image/data/leaves/train/images/V003_3_3_1_2_4_2_2_1_0_0_20221019_5283_20240422195057.jpg: corrupt JPEG restored and saved\n",
      "\u001b[34m\u001b[1mtrain: \u001b[0mWARNING ⚠️ /home/knuvi/Desktop/song/cucumber-image/data/leaves/train/images/V003_3_3_1_2_4_2_2_1_0_0_20221019_5284_20240422195057.jpg: corrupt JPEG restored and saved\n",
      "\u001b[34m\u001b[1mtrain: \u001b[0mWARNING ⚠️ /home/knuvi/Desktop/song/cucumber-image/data/leaves/train/images/V003_3_3_1_2_4_2_2_1_0_0_20221019_5285_20240422195057.jpg: corrupt JPEG restored and saved\n",
      "\u001b[34m\u001b[1mtrain: \u001b[0mWARNING ⚠️ /home/knuvi/Desktop/song/cucumber-image/data/leaves/train/images/V003_3_3_1_2_4_2_2_1_0_0_20221019_5293_20240422195057.jpg: corrupt JPEG restored and saved\n",
      "\u001b[34m\u001b[1mtrain: \u001b[0mWARNING ⚠️ /home/knuvi/Desktop/song/cucumber-image/data/leaves/train/images/V003_3_3_1_2_4_2_2_1_0_0_20221019_5297_20240422195057.jpg: corrupt JPEG restored and saved\n",
      "\u001b[34m\u001b[1mtrain: \u001b[0mWARNING ⚠️ /home/knuvi/Desktop/song/cucumber-image/data/leaves/train/images/V003_3_3_1_2_4_2_2_1_0_0_20221019_5299_20240422195057.jpg: corrupt JPEG restored and saved\n",
      "\u001b[34m\u001b[1mtrain: \u001b[0mWARNING ⚠️ /home/knuvi/Desktop/song/cucumber-image/data/leaves/train/images/V003_3_3_1_2_4_2_2_1_0_0_20221019_5307_20240422195058.jpg: corrupt JPEG restored and saved\n",
      "\u001b[34m\u001b[1mtrain: \u001b[0mWARNING ⚠️ /home/knuvi/Desktop/song/cucumber-image/data/leaves/train/images/V003_3_3_1_2_4_2_2_1_0_0_20221019_5315_20240422195058.jpg: corrupt JPEG restored and saved\n",
      "\u001b[34m\u001b[1mtrain: \u001b[0mWARNING ⚠️ /home/knuvi/Desktop/song/cucumber-image/data/leaves/train/images/V003_3_3_1_2_4_2_2_1_0_0_20221019_5319_20240422195059.jpg: corrupt JPEG restored and saved\n",
      "\u001b[34m\u001b[1mtrain: \u001b[0mNew cache created: /home/knuvi/Desktop/song/cucumber-image/data/leaves/train/labels.cache\n"
     ]
    },
    {
     "name": "stderr",
     "output_type": "stream",
     "text": [
      "\n",
      "\u001b[34m\u001b[1mval: \u001b[0mScanning /home/knuvi/Desktop/song/cucumber-image/data/leaves/val/labels... 67 images, 0 backgrounds, 0 corrupt: 100%|██████████| 67/67 [00:00<00:00, 70.79it/s]"
     ]
    },
    {
     "name": "stdout",
     "output_type": "stream",
     "text": [
      "\u001b[34m\u001b[1mval: \u001b[0mWARNING ⚠️ /home/knuvi/Desktop/song/cucumber-image/data/leaves/val/images/V003_3_3_1_2_4_2_2_1_0_0_20221015_5072_20240422195045.jpg: corrupt JPEG restored and saved\n",
      "\u001b[34m\u001b[1mval: \u001b[0mWARNING ⚠️ /home/knuvi/Desktop/song/cucumber-image/data/leaves/val/images/V003_3_3_1_2_4_2_2_1_0_0_20221015_5073_20240422195045.jpg: corrupt JPEG restored and saved\n",
      "\u001b[34m\u001b[1mval: \u001b[0mWARNING ⚠️ /home/knuvi/Desktop/song/cucumber-image/data/leaves/val/images/V003_3_3_1_2_4_2_2_1_0_0_20221015_5080_20240422195046.jpg: corrupt JPEG restored and saved\n",
      "\u001b[34m\u001b[1mval: \u001b[0mWARNING ⚠️ /home/knuvi/Desktop/song/cucumber-image/data/leaves/val/images/V003_3_3_1_2_4_2_2_1_0_0_20221019_5105_20240422195047.jpg: corrupt JPEG restored and saved\n",
      "\u001b[34m\u001b[1mval: \u001b[0mWARNING ⚠️ /home/knuvi/Desktop/song/cucumber-image/data/leaves/val/images/V003_3_3_1_2_4_2_2_1_0_0_20221019_5145_20240422195049.jpg: corrupt JPEG restored and saved\n",
      "\u001b[34m\u001b[1mval: \u001b[0mWARNING ⚠️ /home/knuvi/Desktop/song/cucumber-image/data/leaves/val/images/V003_3_3_1_2_4_2_2_1_0_0_20221019_5178_20240422195051.jpg: corrupt JPEG restored and saved\n",
      "\u001b[34m\u001b[1mval: \u001b[0mWARNING ⚠️ /home/knuvi/Desktop/song/cucumber-image/data/leaves/val/images/V003_3_3_1_2_4_2_2_1_0_0_20221019_5184_20240422195051.jpg: corrupt JPEG restored and saved\n",
      "\u001b[34m\u001b[1mval: \u001b[0mWARNING ⚠️ /home/knuvi/Desktop/song/cucumber-image/data/leaves/val/images/V003_3_3_1_2_4_2_2_1_0_0_20221019_5227_20240422195053.jpg: corrupt JPEG restored and saved\n",
      "\u001b[34m\u001b[1mval: \u001b[0mWARNING ⚠️ /home/knuvi/Desktop/song/cucumber-image/data/leaves/val/images/V003_3_3_1_2_4_2_2_1_0_0_20221019_5228_20240422195053.jpg: corrupt JPEG restored and saved\n",
      "\u001b[34m\u001b[1mval: \u001b[0mWARNING ⚠️ /home/knuvi/Desktop/song/cucumber-image/data/leaves/val/images/V003_3_3_1_2_4_2_2_1_0_0_20221019_5231_20240422195053.jpg: corrupt JPEG restored and saved\n",
      "\u001b[34m\u001b[1mval: \u001b[0mWARNING ⚠️ /home/knuvi/Desktop/song/cucumber-image/data/leaves/val/images/V003_3_3_1_2_4_2_2_1_0_0_20221019_5252_20240422195055.jpg: corrupt JPEG restored and saved\n",
      "\u001b[34m\u001b[1mval: \u001b[0mWARNING ⚠️ /home/knuvi/Desktop/song/cucumber-image/data/leaves/val/images/V003_3_3_1_2_4_2_2_1_0_0_20221019_5286_20240422195057.jpg: corrupt JPEG restored and saved\n",
      "\u001b[34m\u001b[1mval: \u001b[0mWARNING ⚠️ /home/knuvi/Desktop/song/cucumber-image/data/leaves/val/images/V003_3_3_1_2_4_2_2_1_0_0_20221019_5287_20240422195057.jpg: corrupt JPEG restored and saved\n",
      "\u001b[34m\u001b[1mval: \u001b[0mWARNING ⚠️ /home/knuvi/Desktop/song/cucumber-image/data/leaves/val/images/V003_3_3_1_2_4_2_2_1_0_0_20221019_5313_20240422195058.jpg: corrupt JPEG restored and saved\n",
      "\u001b[34m\u001b[1mval: \u001b[0mWARNING ⚠️ /home/knuvi/Desktop/song/cucumber-image/data/leaves/val/images/V003_3_3_1_2_4_2_2_1_0_0_20221019_5316_20240422195058.jpg: corrupt JPEG restored and saved\n",
      "\u001b[34m\u001b[1mval: \u001b[0mNew cache created: /home/knuvi/Desktop/song/cucumber-image/data/leaves/val/labels.cache\n"
     ]
    },
    {
     "name": "stderr",
     "output_type": "stream",
     "text": [
      "\n"
     ]
    },
    {
     "name": "stdout",
     "output_type": "stream",
     "text": [
      "Plotting labels to /home/knuvi/Desktop/song/cucumber-image/yolo_detection/leaves4/labels.jpg... \n",
      "\u001b[34m\u001b[1moptimizer:\u001b[0m 'optimizer=auto' found, ignoring 'lr0=0.01' and 'momentum=0.937' and determining best 'optimizer', 'lr0' and 'momentum' automatically... \n",
      "\u001b[34m\u001b[1moptimizer:\u001b[0m AdamW(lr=0.002, momentum=0.9) with parameter groups 135 weight(decay=0.0), 148 weight(decay=0.0005), 147 bias(decay=0.0)\n",
      "Image sizes 640 train, 640 val\n",
      "Using 8 dataloader workers\n",
      "Logging results to \u001b[1m/home/knuvi/Desktop/song/cucumber-image/yolo_detection/leaves4\u001b[0m\n",
      "Starting training for 100 epochs...\n",
      "\n",
      "      Epoch    GPU_mem   box_loss   cls_loss   dfl_loss  Instances       Size\n"
     ]
    },
    {
     "name": "stderr",
     "output_type": "stream",
     "text": [
      "      1/100      11.5G      2.002      6.943      3.115         10        640: 100%|██████████| 16/16 [00:07<00:00,  2.14it/s]\n",
      "                 Class     Images  Instances      Box(P          R      mAP50  mAP50-95): 100%|██████████| 3/3 [00:00<00:00,  4.44it/s]"
     ]
    },
    {
     "name": "stdout",
     "output_type": "stream",
     "text": [
      "                   all         67         94      0.418      0.468      0.364      0.202\n"
     ]
    },
    {
     "name": "stderr",
     "output_type": "stream",
     "text": [
      "\n"
     ]
    },
    {
     "name": "stdout",
     "output_type": "stream",
     "text": [
      "\n",
      "      Epoch    GPU_mem   box_loss   cls_loss   dfl_loss  Instances       Size\n"
     ]
    },
    {
     "name": "stderr",
     "output_type": "stream",
     "text": [
      "      2/100      11.6G      2.372      3.737      3.196         14        640: 100%|██████████| 16/16 [00:05<00:00,  2.75it/s]\n",
      "                 Class     Images  Instances      Box(P          R      mAP50  mAP50-95): 100%|██████████| 3/3 [00:00<00:00,  4.90it/s]"
     ]
    },
    {
     "name": "stdout",
     "output_type": "stream",
     "text": [
      "                   all         67         94   0.000737     0.0319   0.000407   0.000134\n"
     ]
    },
    {
     "name": "stderr",
     "output_type": "stream",
     "text": [
      "\n"
     ]
    },
    {
     "name": "stdout",
     "output_type": "stream",
     "text": [
      "\n",
      "      Epoch    GPU_mem   box_loss   cls_loss   dfl_loss  Instances       Size\n"
     ]
    },
    {
     "name": "stderr",
     "output_type": "stream",
     "text": [
      "      3/100      11.7G      2.601      3.302      3.293         19        640: 100%|██████████| 16/16 [00:05<00:00,  3.07it/s]\n",
      "                 Class     Images  Instances      Box(P          R      mAP50  mAP50-95): 100%|██████████| 3/3 [00:00<00:00,  6.48it/s]"
     ]
    },
    {
     "name": "stdout",
     "output_type": "stream",
     "text": [
      "                   all         67         94     0.0149     0.0319    0.00241   0.000794\n"
     ]
    },
    {
     "name": "stderr",
     "output_type": "stream",
     "text": [
      "\n"
     ]
    },
    {
     "name": "stdout",
     "output_type": "stream",
     "text": [
      "\n",
      "      Epoch    GPU_mem   box_loss   cls_loss   dfl_loss  Instances       Size\n"
     ]
    },
    {
     "name": "stderr",
     "output_type": "stream",
     "text": [
      "      4/100      11.6G      2.679      3.342      3.372         10        640: 100%|██████████| 16/16 [00:05<00:00,  3.16it/s]\n",
      "                 Class     Images  Instances      Box(P          R      mAP50  mAP50-95): 100%|██████████| 3/3 [00:00<00:00,  6.60it/s]"
     ]
    },
    {
     "name": "stdout",
     "output_type": "stream",
     "text": [
      "                   all         67         94     0.0149     0.0319    0.00241   0.000794\n"
     ]
    },
    {
     "name": "stderr",
     "output_type": "stream",
     "text": [
      "\n"
     ]
    },
    {
     "name": "stdout",
     "output_type": "stream",
     "text": [
      "\n",
      "      Epoch    GPU_mem   box_loss   cls_loss   dfl_loss  Instances       Size\n"
     ]
    },
    {
     "name": "stderr",
     "output_type": "stream",
     "text": [
      "      5/100      11.7G      2.791      3.354      3.445         20        640: 100%|██████████| 16/16 [00:05<00:00,  2.99it/s]\n",
      "                 Class     Images  Instances      Box(P          R      mAP50  mAP50-95): 100%|██████████| 3/3 [00:00<00:00,  5.70it/s]"
     ]
    },
    {
     "name": "stdout",
     "output_type": "stream",
     "text": [
      "                   all         67         94     0.0149     0.0319    0.00241   0.000794\n"
     ]
    },
    {
     "name": "stderr",
     "output_type": "stream",
     "text": [
      "\n"
     ]
    },
    {
     "name": "stdout",
     "output_type": "stream",
     "text": [
      "\n",
      "      Epoch    GPU_mem   box_loss   cls_loss   dfl_loss  Instances       Size\n"
     ]
    },
    {
     "name": "stderr",
     "output_type": "stream",
     "text": [
      "      6/100      11.7G      2.663      3.222      3.309         23        640: 100%|██████████| 16/16 [00:05<00:00,  2.92it/s]\n",
      "                 Class     Images  Instances      Box(P          R      mAP50  mAP50-95): 100%|██████████| 3/3 [00:00<00:00,  6.04it/s]"
     ]
    },
    {
     "name": "stdout",
     "output_type": "stream",
     "text": [
      "                   all         67         94     0.0149     0.0319    0.00241   0.000794\n"
     ]
    },
    {
     "name": "stderr",
     "output_type": "stream",
     "text": [
      "\n"
     ]
    },
    {
     "name": "stdout",
     "output_type": "stream",
     "text": [
      "\n",
      "      Epoch    GPU_mem   box_loss   cls_loss   dfl_loss  Instances       Size\n"
     ]
    },
    {
     "name": "stderr",
     "output_type": "stream",
     "text": [
      "      7/100      11.6G      2.569      3.339      3.359         11        640: 100%|██████████| 16/16 [00:04<00:00,  3.25it/s]\n",
      "                 Class     Images  Instances      Box(P          R      mAP50  mAP50-95): 100%|██████████| 3/3 [00:00<00:00,  6.56it/s]"
     ]
    },
    {
     "name": "stdout",
     "output_type": "stream",
     "text": [
      "                   all         67         94     0.0149     0.0319    0.00241   0.000794\n"
     ]
    },
    {
     "name": "stderr",
     "output_type": "stream",
     "text": [
      "\n"
     ]
    },
    {
     "name": "stdout",
     "output_type": "stream",
     "text": [
      "\n",
      "      Epoch    GPU_mem   box_loss   cls_loss   dfl_loss  Instances       Size\n"
     ]
    },
    {
     "name": "stderr",
     "output_type": "stream",
     "text": [
      "      8/100      11.6G      2.298      2.836      3.072         15        640: 100%|██████████| 16/16 [00:04<00:00,  3.21it/s]\n",
      "                 Class     Images  Instances      Box(P          R      mAP50  mAP50-95): 100%|██████████| 3/3 [00:00<00:00,  6.50it/s]"
     ]
    },
    {
     "name": "stdout",
     "output_type": "stream",
     "text": [
      "                   all         67         94     0.0184     0.0213    0.00343    0.00127\n"
     ]
    },
    {
     "name": "stderr",
     "output_type": "stream",
     "text": [
      "\n"
     ]
    },
    {
     "name": "stdout",
     "output_type": "stream",
     "text": [
      "\n",
      "      Epoch    GPU_mem   box_loss   cls_loss   dfl_loss  Instances       Size\n"
     ]
    },
    {
     "name": "stderr",
     "output_type": "stream",
     "text": [
      "      9/100      11.6G      2.301      2.747      3.062         12        640: 100%|██████████| 16/16 [00:04<00:00,  3.21it/s]\n",
      "                 Class     Images  Instances      Box(P          R      mAP50  mAP50-95): 100%|██████████| 3/3 [00:00<00:00,  6.02it/s]"
     ]
    },
    {
     "name": "stdout",
     "output_type": "stream",
     "text": [
      "                   all         67         94      0.296      0.266      0.208      0.085\n"
     ]
    },
    {
     "name": "stderr",
     "output_type": "stream",
     "text": [
      "\n"
     ]
    },
    {
     "name": "stdout",
     "output_type": "stream",
     "text": [
      "\n",
      "      Epoch    GPU_mem   box_loss   cls_loss   dfl_loss  Instances       Size\n"
     ]
    },
    {
     "name": "stderr",
     "output_type": "stream",
     "text": [
      "     10/100      11.6G      2.288      2.779      3.022         19        640: 100%|██████████| 16/16 [00:04<00:00,  3.21it/s]\n",
      "                 Class     Images  Instances      Box(P          R      mAP50  mAP50-95): 100%|██████████| 3/3 [00:00<00:00,  5.99it/s]"
     ]
    },
    {
     "name": "stdout",
     "output_type": "stream",
     "text": [
      "                   all         67         94      0.311      0.564      0.355      0.191\n"
     ]
    },
    {
     "name": "stderr",
     "output_type": "stream",
     "text": [
      "\n"
     ]
    },
    {
     "name": "stdout",
     "output_type": "stream",
     "text": [
      "\n",
      "      Epoch    GPU_mem   box_loss   cls_loss   dfl_loss  Instances       Size\n"
     ]
    },
    {
     "name": "stderr",
     "output_type": "stream",
     "text": [
      "     11/100      11.6G      2.236      2.582      3.002         12        640: 100%|██████████| 16/16 [00:04<00:00,  3.20it/s]\n",
      "                 Class     Images  Instances      Box(P          R      mAP50  mAP50-95): 100%|██████████| 3/3 [00:00<00:00,  6.03it/s]"
     ]
    },
    {
     "name": "stdout",
     "output_type": "stream",
     "text": [
      "                   all         67         94      0.165      0.234     0.0849     0.0436\n"
     ]
    },
    {
     "name": "stderr",
     "output_type": "stream",
     "text": [
      "\n"
     ]
    },
    {
     "name": "stdout",
     "output_type": "stream",
     "text": [
      "\n",
      "      Epoch    GPU_mem   box_loss   cls_loss   dfl_loss  Instances       Size\n"
     ]
    },
    {
     "name": "stderr",
     "output_type": "stream",
     "text": [
      "     12/100      11.6G      2.283      2.661      3.081         11        640: 100%|██████████| 16/16 [00:05<00:00,  2.92it/s]\n",
      "                 Class     Images  Instances      Box(P          R      mAP50  mAP50-95): 100%|██████████| 3/3 [00:00<00:00,  5.38it/s]"
     ]
    },
    {
     "name": "stdout",
     "output_type": "stream",
     "text": [
      "                   all         67         94      0.348      0.351      0.263      0.116\n"
     ]
    },
    {
     "name": "stderr",
     "output_type": "stream",
     "text": [
      "\n"
     ]
    },
    {
     "name": "stdout",
     "output_type": "stream",
     "text": [
      "\n",
      "      Epoch    GPU_mem   box_loss   cls_loss   dfl_loss  Instances       Size\n"
     ]
    },
    {
     "name": "stderr",
     "output_type": "stream",
     "text": [
      "     13/100      11.6G      2.124      2.544       2.95         23        640: 100%|██████████| 16/16 [00:06<00:00,  2.40it/s]\n",
      "                 Class     Images  Instances      Box(P          R      mAP50  mAP50-95): 100%|██████████| 3/3 [00:00<00:00,  4.86it/s]"
     ]
    },
    {
     "name": "stdout",
     "output_type": "stream",
     "text": [
      "                   all         67         94      0.137      0.532      0.116     0.0468\n"
     ]
    },
    {
     "name": "stderr",
     "output_type": "stream",
     "text": [
      "\n"
     ]
    },
    {
     "name": "stdout",
     "output_type": "stream",
     "text": [
      "\n",
      "      Epoch    GPU_mem   box_loss   cls_loss   dfl_loss  Instances       Size\n"
     ]
    },
    {
     "name": "stderr",
     "output_type": "stream",
     "text": [
      "     14/100      11.6G      2.121      2.511       2.91         11        640: 100%|██████████| 16/16 [00:04<00:00,  3.20it/s]\n",
      "                 Class     Images  Instances      Box(P          R      mAP50  mAP50-95): 100%|██████████| 3/3 [00:00<00:00,  5.47it/s]"
     ]
    },
    {
     "name": "stdout",
     "output_type": "stream",
     "text": [
      "                   all         67         94      0.623      0.479      0.525      0.366\n"
     ]
    },
    {
     "name": "stderr",
     "output_type": "stream",
     "text": [
      "\n"
     ]
    },
    {
     "name": "stdout",
     "output_type": "stream",
     "text": [
      "\n",
      "      Epoch    GPU_mem   box_loss   cls_loss   dfl_loss  Instances       Size\n"
     ]
    },
    {
     "name": "stderr",
     "output_type": "stream",
     "text": [
      "     15/100      11.6G      2.101      2.585      2.921          9        640: 100%|██████████| 16/16 [00:04<00:00,  3.23it/s]\n",
      "                 Class     Images  Instances      Box(P          R      mAP50  mAP50-95): 100%|██████████| 3/3 [00:00<00:00,  5.99it/s]"
     ]
    },
    {
     "name": "stdout",
     "output_type": "stream",
     "text": [
      "                   all         67         94      0.551       0.56      0.522      0.331\n"
     ]
    },
    {
     "name": "stderr",
     "output_type": "stream",
     "text": [
      "\n"
     ]
    },
    {
     "name": "stdout",
     "output_type": "stream",
     "text": [
      "\n",
      "      Epoch    GPU_mem   box_loss   cls_loss   dfl_loss  Instances       Size\n"
     ]
    },
    {
     "name": "stderr",
     "output_type": "stream",
     "text": [
      "     16/100      11.6G          2      2.224       2.82         16        640: 100%|██████████| 16/16 [00:05<00:00,  3.20it/s]\n",
      "                 Class     Images  Instances      Box(P          R      mAP50  mAP50-95): 100%|██████████| 3/3 [00:00<00:00,  5.44it/s]"
     ]
    },
    {
     "name": "stdout",
     "output_type": "stream",
     "text": [
      "                   all         67         94      0.392      0.528       0.35      0.219\n"
     ]
    },
    {
     "name": "stderr",
     "output_type": "stream",
     "text": [
      "\n"
     ]
    },
    {
     "name": "stdout",
     "output_type": "stream",
     "text": [
      "\n",
      "      Epoch    GPU_mem   box_loss   cls_loss   dfl_loss  Instances       Size\n"
     ]
    },
    {
     "name": "stderr",
     "output_type": "stream",
     "text": [
      "     17/100      11.6G      1.938      2.213      2.811         10        640: 100%|██████████| 16/16 [00:04<00:00,  3.25it/s]\n",
      "                 Class     Images  Instances      Box(P          R      mAP50  mAP50-95): 100%|██████████| 3/3 [00:00<00:00,  6.03it/s]"
     ]
    },
    {
     "name": "stdout",
     "output_type": "stream",
     "text": [
      "                   all         67         94      0.509      0.457       0.48      0.271\n"
     ]
    },
    {
     "name": "stderr",
     "output_type": "stream",
     "text": [
      "\n"
     ]
    },
    {
     "name": "stdout",
     "output_type": "stream",
     "text": [
      "\n",
      "      Epoch    GPU_mem   box_loss   cls_loss   dfl_loss  Instances       Size\n"
     ]
    },
    {
     "name": "stderr",
     "output_type": "stream",
     "text": [
      "     18/100      11.6G      1.988      2.264      2.859         13        640: 100%|██████████| 16/16 [00:05<00:00,  3.03it/s]\n",
      "                 Class     Images  Instances      Box(P          R      mAP50  mAP50-95): 100%|██████████| 3/3 [00:00<00:00,  4.60it/s]"
     ]
    },
    {
     "name": "stdout",
     "output_type": "stream",
     "text": [
      "                   all         67         94      0.442      0.596      0.474      0.327\n"
     ]
    },
    {
     "name": "stderr",
     "output_type": "stream",
     "text": [
      "\n"
     ]
    },
    {
     "name": "stdout",
     "output_type": "stream",
     "text": [
      "\n",
      "      Epoch    GPU_mem   box_loss   cls_loss   dfl_loss  Instances       Size\n"
     ]
    },
    {
     "name": "stderr",
     "output_type": "stream",
     "text": [
      "     19/100      11.6G      1.903      2.156      2.733          9        640: 100%|██████████| 16/16 [00:05<00:00,  2.93it/s]\n",
      "                 Class     Images  Instances      Box(P          R      mAP50  mAP50-95): 100%|██████████| 3/3 [00:00<00:00,  5.40it/s]"
     ]
    },
    {
     "name": "stdout",
     "output_type": "stream",
     "text": [
      "                   all         67         94       0.55      0.606      0.529      0.348\n"
     ]
    },
    {
     "name": "stderr",
     "output_type": "stream",
     "text": [
      "\n"
     ]
    },
    {
     "name": "stdout",
     "output_type": "stream",
     "text": [
      "\n",
      "      Epoch    GPU_mem   box_loss   cls_loss   dfl_loss  Instances       Size\n"
     ]
    },
    {
     "name": "stderr",
     "output_type": "stream",
     "text": [
      "     20/100      11.6G      2.041      2.287      2.812         13        640: 100%|██████████| 16/16 [00:05<00:00,  2.91it/s]\n",
      "                 Class     Images  Instances      Box(P          R      mAP50  mAP50-95): 100%|██████████| 3/3 [00:00<00:00,  5.36it/s]"
     ]
    },
    {
     "name": "stdout",
     "output_type": "stream",
     "text": [
      "                   all         67         94      0.774      0.511      0.624      0.477\n"
     ]
    },
    {
     "name": "stderr",
     "output_type": "stream",
     "text": [
      "\n"
     ]
    },
    {
     "name": "stdout",
     "output_type": "stream",
     "text": [
      "\n",
      "      Epoch    GPU_mem   box_loss   cls_loss   dfl_loss  Instances       Size\n"
     ]
    },
    {
     "name": "stderr",
     "output_type": "stream",
     "text": [
      "     21/100      11.6G      1.832      2.125      2.666         17        640: 100%|██████████| 16/16 [00:05<00:00,  2.93it/s]\n",
      "                 Class     Images  Instances      Box(P          R      mAP50  mAP50-95): 100%|██████████| 3/3 [00:00<00:00,  5.29it/s]"
     ]
    },
    {
     "name": "stdout",
     "output_type": "stream",
     "text": [
      "                   all         67         94      0.583      0.521      0.559      0.414\n"
     ]
    },
    {
     "name": "stderr",
     "output_type": "stream",
     "text": [
      "\n"
     ]
    },
    {
     "name": "stdout",
     "output_type": "stream",
     "text": [
      "\n",
      "      Epoch    GPU_mem   box_loss   cls_loss   dfl_loss  Instances       Size\n"
     ]
    },
    {
     "name": "stderr",
     "output_type": "stream",
     "text": [
      "     22/100      11.6G      1.845      2.085      2.744         20        640: 100%|██████████| 16/16 [00:05<00:00,  2.89it/s]\n",
      "                 Class     Images  Instances      Box(P          R      mAP50  mAP50-95): 100%|██████████| 3/3 [00:00<00:00,  5.34it/s]"
     ]
    },
    {
     "name": "stdout",
     "output_type": "stream",
     "text": [
      "                   all         67         94      0.635      0.555      0.614      0.438\n"
     ]
    },
    {
     "name": "stderr",
     "output_type": "stream",
     "text": [
      "\n"
     ]
    },
    {
     "name": "stdout",
     "output_type": "stream",
     "text": [
      "\n",
      "      Epoch    GPU_mem   box_loss   cls_loss   dfl_loss  Instances       Size\n"
     ]
    },
    {
     "name": "stderr",
     "output_type": "stream",
     "text": [
      "     23/100      11.6G      1.846      2.158      2.721         16        640: 100%|██████████| 16/16 [00:04<00:00,  3.23it/s]\n",
      "                 Class     Images  Instances      Box(P          R      mAP50  mAP50-95): 100%|██████████| 3/3 [00:00<00:00,  6.04it/s]"
     ]
    },
    {
     "name": "stdout",
     "output_type": "stream",
     "text": [
      "                   all         67         94      0.753      0.596      0.732      0.509\n"
     ]
    },
    {
     "name": "stderr",
     "output_type": "stream",
     "text": [
      "\n"
     ]
    },
    {
     "name": "stdout",
     "output_type": "stream",
     "text": [
      "\n",
      "      Epoch    GPU_mem   box_loss   cls_loss   dfl_loss  Instances       Size\n"
     ]
    },
    {
     "name": "stderr",
     "output_type": "stream",
     "text": [
      "     24/100      11.6G       1.78      2.066      2.617         15        640: 100%|██████████| 16/16 [00:09<00:00,  1.71it/s]\n",
      "                 Class     Images  Instances      Box(P          R      mAP50  mAP50-95): 100%|██████████| 3/3 [00:00<00:00,  4.01it/s]"
     ]
    },
    {
     "name": "stdout",
     "output_type": "stream",
     "text": [
      "                   all         67         94      0.705      0.635      0.749      0.554\n"
     ]
    },
    {
     "name": "stderr",
     "output_type": "stream",
     "text": [
      "\n"
     ]
    },
    {
     "name": "stdout",
     "output_type": "stream",
     "text": [
      "\n",
      "      Epoch    GPU_mem   box_loss   cls_loss   dfl_loss  Instances       Size\n"
     ]
    },
    {
     "name": "stderr",
     "output_type": "stream",
     "text": [
      "     25/100      11.6G      1.738      2.125      2.651         11        640: 100%|██████████| 16/16 [00:04<00:00,  3.24it/s]\n",
      "                 Class     Images  Instances      Box(P          R      mAP50  mAP50-95): 100%|██████████| 3/3 [00:00<00:00,  6.01it/s]"
     ]
    },
    {
     "name": "stdout",
     "output_type": "stream",
     "text": [
      "                   all         67         94      0.651        0.5      0.575      0.397\n"
     ]
    },
    {
     "name": "stderr",
     "output_type": "stream",
     "text": [
      "\n"
     ]
    },
    {
     "name": "stdout",
     "output_type": "stream",
     "text": [
      "\n",
      "      Epoch    GPU_mem   box_loss   cls_loss   dfl_loss  Instances       Size\n"
     ]
    },
    {
     "name": "stderr",
     "output_type": "stream",
     "text": [
      "     26/100      11.6G       1.82      2.022      2.675         15        640: 100%|██████████| 16/16 [00:05<00:00,  2.93it/s]\n",
      "                 Class     Images  Instances      Box(P          R      mAP50  mAP50-95): 100%|██████████| 3/3 [00:00<00:00,  4.01it/s]"
     ]
    },
    {
     "name": "stdout",
     "output_type": "stream",
     "text": [
      "                   all         67         94      0.602      0.675      0.647      0.465\n"
     ]
    },
    {
     "name": "stderr",
     "output_type": "stream",
     "text": [
      "\n"
     ]
    },
    {
     "name": "stdout",
     "output_type": "stream",
     "text": [
      "\n",
      "      Epoch    GPU_mem   box_loss   cls_loss   dfl_loss  Instances       Size\n"
     ]
    },
    {
     "name": "stderr",
     "output_type": "stream",
     "text": [
      "     27/100      11.6G      1.784      1.958       2.64         21        640: 100%|██████████| 16/16 [00:06<00:00,  2.58it/s]\n",
      "                 Class     Images  Instances      Box(P          R      mAP50  mAP50-95): 100%|██████████| 3/3 [00:00<00:00,  5.37it/s]"
     ]
    },
    {
     "name": "stdout",
     "output_type": "stream",
     "text": [
      "                   all         67         94      0.589      0.745      0.648      0.483\n"
     ]
    },
    {
     "name": "stderr",
     "output_type": "stream",
     "text": [
      "\n"
     ]
    },
    {
     "name": "stdout",
     "output_type": "stream",
     "text": [
      "\n",
      "      Epoch    GPU_mem   box_loss   cls_loss   dfl_loss  Instances       Size\n"
     ]
    },
    {
     "name": "stderr",
     "output_type": "stream",
     "text": [
      "     28/100      11.6G      1.702      1.943      2.621         15        640: 100%|██████████| 16/16 [00:05<00:00,  2.90it/s]\n",
      "                 Class     Images  Instances      Box(P          R      mAP50  mAP50-95): 100%|██████████| 3/3 [00:00<00:00,  5.30it/s]"
     ]
    },
    {
     "name": "stdout",
     "output_type": "stream",
     "text": [
      "                   all         67         94      0.626       0.82      0.761      0.554\n"
     ]
    },
    {
     "name": "stderr",
     "output_type": "stream",
     "text": [
      "\n"
     ]
    },
    {
     "name": "stdout",
     "output_type": "stream",
     "text": [
      "\n",
      "      Epoch    GPU_mem   box_loss   cls_loss   dfl_loss  Instances       Size\n"
     ]
    },
    {
     "name": "stderr",
     "output_type": "stream",
     "text": [
      "     29/100      11.6G      1.695       1.87      2.561         16        640: 100%|██████████| 16/16 [00:05<00:00,  3.15it/s]\n",
      "                 Class     Images  Instances      Box(P          R      mAP50  mAP50-95): 100%|██████████| 3/3 [00:00<00:00,  5.28it/s]"
     ]
    },
    {
     "name": "stdout",
     "output_type": "stream",
     "text": [
      "                   all         67         94       0.71      0.681      0.733       0.56\n"
     ]
    },
    {
     "name": "stderr",
     "output_type": "stream",
     "text": [
      "\n"
     ]
    },
    {
     "name": "stdout",
     "output_type": "stream",
     "text": [
      "\n",
      "      Epoch    GPU_mem   box_loss   cls_loss   dfl_loss  Instances       Size\n"
     ]
    },
    {
     "name": "stderr",
     "output_type": "stream",
     "text": [
      "     30/100      11.6G      1.656       1.91      2.581         13        640: 100%|██████████| 16/16 [00:04<00:00,  3.24it/s]\n",
      "                 Class     Images  Instances      Box(P          R      mAP50  mAP50-95): 100%|██████████| 3/3 [00:00<00:00,  6.01it/s]"
     ]
    },
    {
     "name": "stdout",
     "output_type": "stream",
     "text": [
      "                   all         67         94      0.818      0.669      0.778      0.614\n"
     ]
    },
    {
     "name": "stderr",
     "output_type": "stream",
     "text": [
      "\n"
     ]
    },
    {
     "name": "stdout",
     "output_type": "stream",
     "text": [
      "\n",
      "      Epoch    GPU_mem   box_loss   cls_loss   dfl_loss  Instances       Size\n"
     ]
    },
    {
     "name": "stderr",
     "output_type": "stream",
     "text": [
      "     31/100      11.6G      1.617      1.932      2.554         16        640: 100%|██████████| 16/16 [00:05<00:00,  3.20it/s]\n",
      "                 Class     Images  Instances      Box(P          R      mAP50  mAP50-95): 100%|██████████| 3/3 [00:00<00:00,  6.03it/s]"
     ]
    },
    {
     "name": "stdout",
     "output_type": "stream",
     "text": [
      "                   all         67         94      0.728       0.67      0.756      0.596\n"
     ]
    },
    {
     "name": "stderr",
     "output_type": "stream",
     "text": [
      "\n"
     ]
    },
    {
     "name": "stdout",
     "output_type": "stream",
     "text": [
      "\n",
      "      Epoch    GPU_mem   box_loss   cls_loss   dfl_loss  Instances       Size\n"
     ]
    },
    {
     "name": "stderr",
     "output_type": "stream",
     "text": [
      "     32/100      11.6G       1.64      1.818      2.536         17        640: 100%|██████████| 16/16 [00:05<00:00,  3.19it/s]\n",
      "                 Class     Images  Instances      Box(P          R      mAP50  mAP50-95): 100%|██████████| 3/3 [00:00<00:00,  6.02it/s]"
     ]
    },
    {
     "name": "stdout",
     "output_type": "stream",
     "text": [
      "                   all         67         94      0.731      0.665      0.726      0.574\n"
     ]
    },
    {
     "name": "stderr",
     "output_type": "stream",
     "text": [
      "\n"
     ]
    },
    {
     "name": "stdout",
     "output_type": "stream",
     "text": [
      "\n",
      "      Epoch    GPU_mem   box_loss   cls_loss   dfl_loss  Instances       Size\n"
     ]
    },
    {
     "name": "stderr",
     "output_type": "stream",
     "text": [
      "     33/100      11.6G      1.641       1.74      2.557         13        640: 100%|██████████| 16/16 [00:04<00:00,  3.27it/s]\n",
      "                 Class     Images  Instances      Box(P          R      mAP50  mAP50-95): 100%|██████████| 3/3 [00:00<00:00,  6.03it/s]"
     ]
    },
    {
     "name": "stdout",
     "output_type": "stream",
     "text": [
      "                   all         67         94      0.774      0.713      0.779      0.613\n"
     ]
    },
    {
     "name": "stderr",
     "output_type": "stream",
     "text": [
      "\n"
     ]
    },
    {
     "name": "stdout",
     "output_type": "stream",
     "text": [
      "\n",
      "      Epoch    GPU_mem   box_loss   cls_loss   dfl_loss  Instances       Size\n"
     ]
    },
    {
     "name": "stderr",
     "output_type": "stream",
     "text": [
      "     34/100      11.6G      1.626        1.8      2.546         19        640: 100%|██████████| 16/16 [00:04<00:00,  3.21it/s]\n",
      "                 Class     Images  Instances      Box(P          R      mAP50  mAP50-95): 100%|██████████| 3/3 [00:00<00:00,  5.50it/s]"
     ]
    },
    {
     "name": "stdout",
     "output_type": "stream",
     "text": [
      "                   all         67         94      0.791       0.67      0.825       0.64\n"
     ]
    },
    {
     "name": "stderr",
     "output_type": "stream",
     "text": [
      "\n"
     ]
    },
    {
     "name": "stdout",
     "output_type": "stream",
     "text": [
      "\n",
      "      Epoch    GPU_mem   box_loss   cls_loss   dfl_loss  Instances       Size\n"
     ]
    },
    {
     "name": "stderr",
     "output_type": "stream",
     "text": [
      "     35/100      11.6G      1.617      1.761      2.547         13        640: 100%|██████████| 16/16 [00:04<00:00,  3.23it/s]\n",
      "                 Class     Images  Instances      Box(P          R      mAP50  mAP50-95): 100%|██████████| 3/3 [00:00<00:00,  6.02it/s]"
     ]
    },
    {
     "name": "stdout",
     "output_type": "stream",
     "text": [
      "                   all         67         94      0.761      0.787      0.843      0.638\n"
     ]
    },
    {
     "name": "stderr",
     "output_type": "stream",
     "text": [
      "\n"
     ]
    },
    {
     "name": "stdout",
     "output_type": "stream",
     "text": [
      "\n",
      "      Epoch    GPU_mem   box_loss   cls_loss   dfl_loss  Instances       Size\n"
     ]
    },
    {
     "name": "stderr",
     "output_type": "stream",
     "text": [
      "     36/100      11.6G      1.621      1.773      2.556         17        640: 100%|██████████| 16/16 [00:04<00:00,  3.23it/s]\n",
      "                 Class     Images  Instances      Box(P          R      mAP50  mAP50-95): 100%|██████████| 3/3 [00:00<00:00,  6.01it/s]"
     ]
    },
    {
     "name": "stdout",
     "output_type": "stream",
     "text": [
      "                   all         67         94      0.745      0.745      0.808      0.632\n"
     ]
    },
    {
     "name": "stderr",
     "output_type": "stream",
     "text": [
      "\n"
     ]
    },
    {
     "name": "stdout",
     "output_type": "stream",
     "text": [
      "\n",
      "      Epoch    GPU_mem   box_loss   cls_loss   dfl_loss  Instances       Size\n"
     ]
    },
    {
     "name": "stderr",
     "output_type": "stream",
     "text": [
      "     37/100      11.6G      1.581      1.768      2.482         18        640: 100%|██████████| 16/16 [00:04<00:00,  3.24it/s]\n",
      "                 Class     Images  Instances      Box(P          R      mAP50  mAP50-95): 100%|██████████| 3/3 [00:00<00:00,  5.93it/s]"
     ]
    },
    {
     "name": "stdout",
     "output_type": "stream",
     "text": [
      "                   all         67         94      0.784      0.713      0.808      0.641\n"
     ]
    },
    {
     "name": "stderr",
     "output_type": "stream",
     "text": [
      "\n"
     ]
    },
    {
     "name": "stdout",
     "output_type": "stream",
     "text": [
      "\n",
      "      Epoch    GPU_mem   box_loss   cls_loss   dfl_loss  Instances       Size\n"
     ]
    },
    {
     "name": "stderr",
     "output_type": "stream",
     "text": [
      "     38/100      11.6G      1.612      1.742      2.578         16        640: 100%|██████████| 16/16 [00:05<00:00,  3.07it/s]\n",
      "                 Class     Images  Instances      Box(P          R      mAP50  mAP50-95): 100%|██████████| 3/3 [00:00<00:00,  6.01it/s]"
     ]
    },
    {
     "name": "stdout",
     "output_type": "stream",
     "text": [
      "                   all         67         94      0.806      0.777       0.85      0.697\n"
     ]
    },
    {
     "name": "stderr",
     "output_type": "stream",
     "text": [
      "\n"
     ]
    },
    {
     "name": "stdout",
     "output_type": "stream",
     "text": [
      "\n",
      "      Epoch    GPU_mem   box_loss   cls_loss   dfl_loss  Instances       Size\n"
     ]
    },
    {
     "name": "stderr",
     "output_type": "stream",
     "text": [
      "     39/100      11.6G       1.48      1.562      2.446         15        640: 100%|██████████| 16/16 [00:04<00:00,  3.23it/s]\n",
      "                 Class     Images  Instances      Box(P          R      mAP50  mAP50-95): 100%|██████████| 3/3 [00:00<00:00,  5.98it/s]"
     ]
    },
    {
     "name": "stdout",
     "output_type": "stream",
     "text": [
      "                   all         67         94      0.717      0.777      0.822      0.665\n"
     ]
    },
    {
     "name": "stderr",
     "output_type": "stream",
     "text": [
      "\n"
     ]
    },
    {
     "name": "stdout",
     "output_type": "stream",
     "text": [
      "\n",
      "      Epoch    GPU_mem   box_loss   cls_loss   dfl_loss  Instances       Size\n"
     ]
    },
    {
     "name": "stderr",
     "output_type": "stream",
     "text": [
      "     40/100      11.6G      1.567      1.707      2.475         16        640: 100%|██████████| 16/16 [00:05<00:00,  3.14it/s]\n",
      "                 Class     Images  Instances      Box(P          R      mAP50  mAP50-95): 100%|██████████| 3/3 [00:00<00:00,  5.98it/s]"
     ]
    },
    {
     "name": "stdout",
     "output_type": "stream",
     "text": [
      "                   all         67         94      0.763      0.755      0.784       0.64\n"
     ]
    },
    {
     "name": "stderr",
     "output_type": "stream",
     "text": [
      "\n"
     ]
    },
    {
     "name": "stdout",
     "output_type": "stream",
     "text": [
      "\n",
      "      Epoch    GPU_mem   box_loss   cls_loss   dfl_loss  Instances       Size\n"
     ]
    },
    {
     "name": "stderr",
     "output_type": "stream",
     "text": [
      "     41/100      11.6G      1.467      1.691       2.43         22        640: 100%|██████████| 16/16 [00:04<00:00,  3.22it/s]\n",
      "                 Class     Images  Instances      Box(P          R      mAP50  mAP50-95): 100%|██████████| 3/3 [00:00<00:00,  5.38it/s]"
     ]
    },
    {
     "name": "stdout",
     "output_type": "stream",
     "text": [
      "                   all         67         94      0.801      0.755      0.852      0.691\n"
     ]
    },
    {
     "name": "stderr",
     "output_type": "stream",
     "text": [
      "\n"
     ]
    },
    {
     "name": "stdout",
     "output_type": "stream",
     "text": [
      "\n",
      "      Epoch    GPU_mem   box_loss   cls_loss   dfl_loss  Instances       Size\n"
     ]
    },
    {
     "name": "stderr",
     "output_type": "stream",
     "text": [
      "     42/100      11.6G        1.4      1.545      2.389         13        640: 100%|██████████| 16/16 [00:04<00:00,  3.21it/s]\n",
      "                 Class     Images  Instances      Box(P          R      mAP50  mAP50-95): 100%|██████████| 3/3 [00:00<00:00,  5.99it/s]"
     ]
    },
    {
     "name": "stdout",
     "output_type": "stream",
     "text": [
      "                   all         67         94      0.682      0.638      0.729      0.578\n"
     ]
    },
    {
     "name": "stderr",
     "output_type": "stream",
     "text": [
      "\n"
     ]
    },
    {
     "name": "stdout",
     "output_type": "stream",
     "text": [
      "\n",
      "      Epoch    GPU_mem   box_loss   cls_loss   dfl_loss  Instances       Size\n"
     ]
    },
    {
     "name": "stderr",
     "output_type": "stream",
     "text": [
      "     43/100      11.6G      1.454      1.575      2.407         12        640: 100%|██████████| 16/16 [00:04<00:00,  3.26it/s]\n",
      "                 Class     Images  Instances      Box(P          R      mAP50  mAP50-95): 100%|██████████| 3/3 [00:00<00:00,  6.01it/s]"
     ]
    },
    {
     "name": "stdout",
     "output_type": "stream",
     "text": [
      "                   all         67         94      0.781      0.608      0.747      0.612\n"
     ]
    },
    {
     "name": "stderr",
     "output_type": "stream",
     "text": [
      "\n"
     ]
    },
    {
     "name": "stdout",
     "output_type": "stream",
     "text": [
      "\n",
      "      Epoch    GPU_mem   box_loss   cls_loss   dfl_loss  Instances       Size\n"
     ]
    },
    {
     "name": "stderr",
     "output_type": "stream",
     "text": [
      "     44/100      11.6G      1.417      1.573      2.443         14        640: 100%|██████████| 16/16 [00:05<00:00,  3.20it/s]\n",
      "                 Class     Images  Instances      Box(P          R      mAP50  mAP50-95): 100%|██████████| 3/3 [00:00<00:00,  5.99it/s]"
     ]
    },
    {
     "name": "stdout",
     "output_type": "stream",
     "text": [
      "                   all         67         94      0.779      0.798      0.841      0.688\n"
     ]
    },
    {
     "name": "stderr",
     "output_type": "stream",
     "text": [
      "\n"
     ]
    },
    {
     "name": "stdout",
     "output_type": "stream",
     "text": [
      "\n",
      "      Epoch    GPU_mem   box_loss   cls_loss   dfl_loss  Instances       Size\n"
     ]
    },
    {
     "name": "stderr",
     "output_type": "stream",
     "text": [
      "     45/100      11.6G      1.458      1.629      2.439         14        640: 100%|██████████| 16/16 [00:04<00:00,  3.24it/s]\n",
      "                 Class     Images  Instances      Box(P          R      mAP50  mAP50-95): 100%|██████████| 3/3 [00:00<00:00,  5.99it/s]"
     ]
    },
    {
     "name": "stdout",
     "output_type": "stream",
     "text": [
      "                   all         67         94      0.787      0.734      0.827      0.665\n"
     ]
    },
    {
     "name": "stderr",
     "output_type": "stream",
     "text": [
      "\n"
     ]
    },
    {
     "name": "stdout",
     "output_type": "stream",
     "text": [
      "\n",
      "      Epoch    GPU_mem   box_loss   cls_loss   dfl_loss  Instances       Size\n"
     ]
    },
    {
     "name": "stderr",
     "output_type": "stream",
     "text": [
      "     46/100      11.6G      1.362      1.473      2.378         16        640: 100%|██████████| 16/16 [00:04<00:00,  3.28it/s]\n",
      "                 Class     Images  Instances      Box(P          R      mAP50  mAP50-95): 100%|██████████| 3/3 [00:00<00:00,  6.02it/s]"
     ]
    },
    {
     "name": "stdout",
     "output_type": "stream",
     "text": [
      "                   all         67         94      0.841      0.676      0.804      0.671\n"
     ]
    },
    {
     "name": "stderr",
     "output_type": "stream",
     "text": [
      "\n"
     ]
    },
    {
     "name": "stdout",
     "output_type": "stream",
     "text": [
      "\n",
      "      Epoch    GPU_mem   box_loss   cls_loss   dfl_loss  Instances       Size\n"
     ]
    },
    {
     "name": "stderr",
     "output_type": "stream",
     "text": [
      "     47/100      11.6G      1.403      1.529      2.396         13        640: 100%|██████████| 16/16 [00:05<00:00,  3.19it/s]\n",
      "                 Class     Images  Instances      Box(P          R      mAP50  mAP50-95): 100%|██████████| 3/3 [00:00<00:00,  5.57it/s]"
     ]
    },
    {
     "name": "stdout",
     "output_type": "stream",
     "text": [
      "                   all         67         94      0.842      0.679      0.815      0.662\n"
     ]
    },
    {
     "name": "stderr",
     "output_type": "stream",
     "text": [
      "\n"
     ]
    },
    {
     "name": "stdout",
     "output_type": "stream",
     "text": [
      "\n",
      "      Epoch    GPU_mem   box_loss   cls_loss   dfl_loss  Instances       Size\n"
     ]
    },
    {
     "name": "stderr",
     "output_type": "stream",
     "text": [
      "     48/100      11.6G      1.369      1.462       2.34         18        640: 100%|██████████| 16/16 [00:04<00:00,  3.23it/s]\n",
      "                 Class     Images  Instances      Box(P          R      mAP50  mAP50-95): 100%|██████████| 3/3 [00:00<00:00,  6.01it/s]"
     ]
    },
    {
     "name": "stdout",
     "output_type": "stream",
     "text": [
      "                   all         67         94      0.779      0.745      0.836      0.675\n"
     ]
    },
    {
     "name": "stderr",
     "output_type": "stream",
     "text": [
      "\n"
     ]
    },
    {
     "name": "stdout",
     "output_type": "stream",
     "text": [
      "\n",
      "      Epoch    GPU_mem   box_loss   cls_loss   dfl_loss  Instances       Size\n"
     ]
    },
    {
     "name": "stderr",
     "output_type": "stream",
     "text": [
      "     49/100      11.6G      1.396      1.437      2.351         13        640: 100%|██████████| 16/16 [00:04<00:00,  3.21it/s]\n",
      "                 Class     Images  Instances      Box(P          R      mAP50  mAP50-95): 100%|██████████| 3/3 [00:00<00:00,  6.03it/s]"
     ]
    },
    {
     "name": "stdout",
     "output_type": "stream",
     "text": [
      "                   all         67         94      0.783      0.692      0.794       0.62\n"
     ]
    },
    {
     "name": "stderr",
     "output_type": "stream",
     "text": [
      "\n"
     ]
    },
    {
     "name": "stdout",
     "output_type": "stream",
     "text": [
      "\n",
      "      Epoch    GPU_mem   box_loss   cls_loss   dfl_loss  Instances       Size\n"
     ]
    },
    {
     "name": "stderr",
     "output_type": "stream",
     "text": [
      "     50/100      11.6G      1.376      1.407      2.365         15        640: 100%|██████████| 16/16 [00:04<00:00,  3.26it/s]\n",
      "                 Class     Images  Instances      Box(P          R      mAP50  mAP50-95): 100%|██████████| 3/3 [00:00<00:00,  5.99it/s]"
     ]
    },
    {
     "name": "stdout",
     "output_type": "stream",
     "text": [
      "                   all         67         94      0.787      0.723      0.825       0.66\n"
     ]
    },
    {
     "name": "stderr",
     "output_type": "stream",
     "text": [
      "\n"
     ]
    },
    {
     "name": "stdout",
     "output_type": "stream",
     "text": [
      "\n",
      "      Epoch    GPU_mem   box_loss   cls_loss   dfl_loss  Instances       Size\n"
     ]
    },
    {
     "name": "stderr",
     "output_type": "stream",
     "text": [
      "     51/100      11.6G      1.414        1.5      2.364         15        640: 100%|██████████| 16/16 [00:04<00:00,  3.21it/s]\n",
      "                 Class     Images  Instances      Box(P          R      mAP50  mAP50-95): 100%|██████████| 3/3 [00:00<00:00,  5.87it/s]"
     ]
    },
    {
     "name": "stdout",
     "output_type": "stream",
     "text": [
      "                   all         67         94      0.844      0.702      0.819      0.682\n"
     ]
    },
    {
     "name": "stderr",
     "output_type": "stream",
     "text": [
      "\n"
     ]
    },
    {
     "name": "stdout",
     "output_type": "stream",
     "text": [
      "\n",
      "      Epoch    GPU_mem   box_loss   cls_loss   dfl_loss  Instances       Size\n"
     ]
    },
    {
     "name": "stderr",
     "output_type": "stream",
     "text": [
      "     52/100      11.6G      1.364      1.403      2.321         14        640: 100%|██████████| 16/16 [00:04<00:00,  3.25it/s]\n",
      "                 Class     Images  Instances      Box(P          R      mAP50  mAP50-95): 100%|██████████| 3/3 [00:00<00:00,  6.03it/s]"
     ]
    },
    {
     "name": "stdout",
     "output_type": "stream",
     "text": [
      "                   all         67         94      0.832      0.681      0.818      0.673\n"
     ]
    },
    {
     "name": "stderr",
     "output_type": "stream",
     "text": [
      "\n"
     ]
    },
    {
     "name": "stdout",
     "output_type": "stream",
     "text": [
      "\n",
      "      Epoch    GPU_mem   box_loss   cls_loss   dfl_loss  Instances       Size\n"
     ]
    },
    {
     "name": "stderr",
     "output_type": "stream",
     "text": [
      "     53/100      11.6G      1.367      1.501      2.354         16        640: 100%|██████████| 16/16 [00:04<00:00,  3.28it/s]\n",
      "                 Class     Images  Instances      Box(P          R      mAP50  mAP50-95): 100%|██████████| 3/3 [00:00<00:00,  6.04it/s]"
     ]
    },
    {
     "name": "stdout",
     "output_type": "stream",
     "text": [
      "                   all         67         94       0.88      0.734      0.875      0.714\n"
     ]
    },
    {
     "name": "stderr",
     "output_type": "stream",
     "text": [
      "\n"
     ]
    },
    {
     "name": "stdout",
     "output_type": "stream",
     "text": [
      "\n",
      "      Epoch    GPU_mem   box_loss   cls_loss   dfl_loss  Instances       Size\n"
     ]
    },
    {
     "name": "stderr",
     "output_type": "stream",
     "text": [
      "     54/100      11.6G       1.33      1.387      2.314         14        640: 100%|██████████| 16/16 [00:05<00:00,  3.20it/s]\n",
      "                 Class     Images  Instances      Box(P          R      mAP50  mAP50-95): 100%|██████████| 3/3 [00:00<00:00,  6.01it/s]"
     ]
    },
    {
     "name": "stdout",
     "output_type": "stream",
     "text": [
      "                   all         67         94      0.763      0.798      0.824      0.673\n"
     ]
    },
    {
     "name": "stderr",
     "output_type": "stream",
     "text": [
      "\n"
     ]
    },
    {
     "name": "stdout",
     "output_type": "stream",
     "text": [
      "\n",
      "      Epoch    GPU_mem   box_loss   cls_loss   dfl_loss  Instances       Size\n"
     ]
    },
    {
     "name": "stderr",
     "output_type": "stream",
     "text": [
      "     55/100      11.6G      1.305      1.354      2.297         10        640: 100%|██████████| 16/16 [00:04<00:00,  3.28it/s]\n",
      "                 Class     Images  Instances      Box(P          R      mAP50  mAP50-95): 100%|██████████| 3/3 [00:00<00:00,  5.91it/s]"
     ]
    },
    {
     "name": "stdout",
     "output_type": "stream",
     "text": [
      "                   all         67         94      0.826      0.777      0.872      0.687\n"
     ]
    },
    {
     "name": "stderr",
     "output_type": "stream",
     "text": [
      "\n"
     ]
    },
    {
     "name": "stdout",
     "output_type": "stream",
     "text": [
      "\n",
      "      Epoch    GPU_mem   box_loss   cls_loss   dfl_loss  Instances       Size\n"
     ]
    },
    {
     "name": "stderr",
     "output_type": "stream",
     "text": [
      "     56/100      11.6G      1.346      1.424      2.341          9        640: 100%|██████████| 16/16 [00:05<00:00,  3.18it/s]\n",
      "                 Class     Images  Instances      Box(P          R      mAP50  mAP50-95): 100%|██████████| 3/3 [00:00<00:00,  6.02it/s]"
     ]
    },
    {
     "name": "stdout",
     "output_type": "stream",
     "text": [
      "                   all         67         94      0.833      0.713      0.844      0.706\n"
     ]
    },
    {
     "name": "stderr",
     "output_type": "stream",
     "text": [
      "\n"
     ]
    },
    {
     "name": "stdout",
     "output_type": "stream",
     "text": [
      "\n",
      "      Epoch    GPU_mem   box_loss   cls_loss   dfl_loss  Instances       Size\n"
     ]
    },
    {
     "name": "stderr",
     "output_type": "stream",
     "text": [
      "     57/100      11.6G      1.367      1.313      2.359         17        640: 100%|██████████| 16/16 [00:04<00:00,  3.22it/s]\n",
      "                 Class     Images  Instances      Box(P          R      mAP50  mAP50-95): 100%|██████████| 3/3 [00:00<00:00,  5.93it/s]"
     ]
    },
    {
     "name": "stdout",
     "output_type": "stream",
     "text": [
      "                   all         67         94      0.825      0.809      0.877      0.742\n"
     ]
    },
    {
     "name": "stderr",
     "output_type": "stream",
     "text": [
      "\n"
     ]
    },
    {
     "name": "stdout",
     "output_type": "stream",
     "text": [
      "\n",
      "      Epoch    GPU_mem   box_loss   cls_loss   dfl_loss  Instances       Size\n"
     ]
    },
    {
     "name": "stderr",
     "output_type": "stream",
     "text": [
      "     58/100      11.6G      1.309      1.309      2.315         11        640: 100%|██████████| 16/16 [00:04<00:00,  3.21it/s]\n",
      "                 Class     Images  Instances      Box(P          R      mAP50  mAP50-95): 100%|██████████| 3/3 [00:00<00:00,  5.05it/s]"
     ]
    },
    {
     "name": "stdout",
     "output_type": "stream",
     "text": [
      "                   all         67         94      0.706      0.809      0.829      0.693\n"
     ]
    },
    {
     "name": "stderr",
     "output_type": "stream",
     "text": [
      "\n"
     ]
    },
    {
     "name": "stdout",
     "output_type": "stream",
     "text": [
      "\n",
      "      Epoch    GPU_mem   box_loss   cls_loss   dfl_loss  Instances       Size\n"
     ]
    },
    {
     "name": "stderr",
     "output_type": "stream",
     "text": [
      "     59/100      11.6G      1.282      1.255      2.256          8        640: 100%|██████████| 16/16 [00:04<00:00,  3.21it/s]\n",
      "                 Class     Images  Instances      Box(P          R      mAP50  mAP50-95): 100%|██████████| 3/3 [00:00<00:00,  6.00it/s]"
     ]
    },
    {
     "name": "stdout",
     "output_type": "stream",
     "text": [
      "                   all         67         94      0.833      0.787      0.865      0.716\n"
     ]
    },
    {
     "name": "stderr",
     "output_type": "stream",
     "text": [
      "\n"
     ]
    },
    {
     "name": "stdout",
     "output_type": "stream",
     "text": [
      "\n",
      "      Epoch    GPU_mem   box_loss   cls_loss   dfl_loss  Instances       Size\n"
     ]
    },
    {
     "name": "stderr",
     "output_type": "stream",
     "text": [
      "     60/100      11.6G      1.308      1.285      2.318         18        640: 100%|██████████| 16/16 [00:04<00:00,  3.21it/s]\n",
      "                 Class     Images  Instances      Box(P          R      mAP50  mAP50-95): 100%|██████████| 3/3 [00:00<00:00,  6.03it/s]"
     ]
    },
    {
     "name": "stdout",
     "output_type": "stream",
     "text": [
      "                   all         67         94      0.818      0.819      0.856      0.705\n"
     ]
    },
    {
     "name": "stderr",
     "output_type": "stream",
     "text": [
      "\n"
     ]
    },
    {
     "name": "stdout",
     "output_type": "stream",
     "text": [
      "\n",
      "      Epoch    GPU_mem   box_loss   cls_loss   dfl_loss  Instances       Size\n"
     ]
    },
    {
     "name": "stderr",
     "output_type": "stream",
     "text": [
      "     61/100      11.6G      1.352      1.336      2.334         11        640: 100%|██████████| 16/16 [00:04<00:00,  3.27it/s]\n",
      "                 Class     Images  Instances      Box(P          R      mAP50  mAP50-95): 100%|██████████| 3/3 [00:00<00:00,  6.02it/s]"
     ]
    },
    {
     "name": "stdout",
     "output_type": "stream",
     "text": [
      "                   all         67         94       0.85      0.785      0.823       0.69\n"
     ]
    },
    {
     "name": "stderr",
     "output_type": "stream",
     "text": [
      "\n"
     ]
    },
    {
     "name": "stdout",
     "output_type": "stream",
     "text": [
      "\n",
      "      Epoch    GPU_mem   box_loss   cls_loss   dfl_loss  Instances       Size\n"
     ]
    },
    {
     "name": "stderr",
     "output_type": "stream",
     "text": [
      "     62/100      11.6G      1.294      1.304      2.323         14        640: 100%|██████████| 16/16 [00:05<00:00,  3.19it/s]\n",
      "                 Class     Images  Instances      Box(P          R      mAP50  mAP50-95): 100%|██████████| 3/3 [00:00<00:00,  6.03it/s]"
     ]
    },
    {
     "name": "stdout",
     "output_type": "stream",
     "text": [
      "                   all         67         94      0.768      0.775      0.856      0.688\n"
     ]
    },
    {
     "name": "stderr",
     "output_type": "stream",
     "text": [
      "\n"
     ]
    },
    {
     "name": "stdout",
     "output_type": "stream",
     "text": [
      "\n",
      "      Epoch    GPU_mem   box_loss   cls_loss   dfl_loss  Instances       Size\n"
     ]
    },
    {
     "name": "stderr",
     "output_type": "stream",
     "text": [
      "     63/100      11.6G      1.285      1.371      2.305         16        640: 100%|██████████| 16/16 [00:04<00:00,  3.22it/s]\n",
      "                 Class     Images  Instances      Box(P          R      mAP50  mAP50-95): 100%|██████████| 3/3 [00:00<00:00,  6.04it/s]"
     ]
    },
    {
     "name": "stdout",
     "output_type": "stream",
     "text": [
      "                   all         67         94      0.772      0.719      0.835      0.677\n"
     ]
    },
    {
     "name": "stderr",
     "output_type": "stream",
     "text": [
      "\n"
     ]
    },
    {
     "name": "stdout",
     "output_type": "stream",
     "text": [
      "\n",
      "      Epoch    GPU_mem   box_loss   cls_loss   dfl_loss  Instances       Size\n"
     ]
    },
    {
     "name": "stderr",
     "output_type": "stream",
     "text": [
      "     64/100      11.6G      1.247      1.268      2.301         11        640: 100%|██████████| 16/16 [00:04<00:00,  3.22it/s]\n",
      "                 Class     Images  Instances      Box(P          R      mAP50  mAP50-95): 100%|██████████| 3/3 [00:00<00:00,  6.00it/s]"
     ]
    },
    {
     "name": "stdout",
     "output_type": "stream",
     "text": [
      "                   all         67         94      0.805      0.691      0.809      0.646\n"
     ]
    },
    {
     "name": "stderr",
     "output_type": "stream",
     "text": [
      "\n"
     ]
    },
    {
     "name": "stdout",
     "output_type": "stream",
     "text": [
      "\n",
      "      Epoch    GPU_mem   box_loss   cls_loss   dfl_loss  Instances       Size\n"
     ]
    },
    {
     "name": "stderr",
     "output_type": "stream",
     "text": [
      "     65/100      11.6G      1.232      1.263      2.225         16        640: 100%|██████████| 16/16 [00:04<00:00,  3.28it/s]\n",
      "                 Class     Images  Instances      Box(P          R      mAP50  mAP50-95): 100%|██████████| 3/3 [00:00<00:00,  5.98it/s]"
     ]
    },
    {
     "name": "stdout",
     "output_type": "stream",
     "text": [
      "                   all         67         94       0.85      0.691      0.833       0.69\n"
     ]
    },
    {
     "name": "stderr",
     "output_type": "stream",
     "text": [
      "\n"
     ]
    },
    {
     "name": "stdout",
     "output_type": "stream",
     "text": [
      "\n",
      "      Epoch    GPU_mem   box_loss   cls_loss   dfl_loss  Instances       Size\n"
     ]
    },
    {
     "name": "stderr",
     "output_type": "stream",
     "text": [
      "     66/100      11.6G        1.3      1.333       2.29         17        640: 100%|██████████| 16/16 [00:04<00:00,  3.22it/s]\n",
      "                 Class     Images  Instances      Box(P          R      mAP50  mAP50-95): 100%|██████████| 3/3 [00:00<00:00,  6.02it/s]"
     ]
    },
    {
     "name": "stdout",
     "output_type": "stream",
     "text": [
      "                   all         67         94      0.837      0.763      0.856      0.717\n"
     ]
    },
    {
     "name": "stderr",
     "output_type": "stream",
     "text": [
      "\n"
     ]
    },
    {
     "name": "stdout",
     "output_type": "stream",
     "text": [
      "\n",
      "      Epoch    GPU_mem   box_loss   cls_loss   dfl_loss  Instances       Size\n"
     ]
    },
    {
     "name": "stderr",
     "output_type": "stream",
     "text": [
      "     67/100      11.6G      1.272      1.342      2.275         19        640: 100%|██████████| 16/16 [00:04<00:00,  3.21it/s]\n",
      "                 Class     Images  Instances      Box(P          R      mAP50  mAP50-95): 100%|██████████| 3/3 [00:00<00:00,  6.04it/s]"
     ]
    },
    {
     "name": "stdout",
     "output_type": "stream",
     "text": [
      "                   all         67         94      0.835      0.808      0.857      0.725\n"
     ]
    },
    {
     "name": "stderr",
     "output_type": "stream",
     "text": [
      "\n"
     ]
    },
    {
     "name": "stdout",
     "output_type": "stream",
     "text": [
      "\n",
      "      Epoch    GPU_mem   box_loss   cls_loss   dfl_loss  Instances       Size\n"
     ]
    },
    {
     "name": "stderr",
     "output_type": "stream",
     "text": [
      "     68/100      11.6G      1.233      1.195      2.245         15        640: 100%|██████████| 16/16 [00:05<00:00,  3.19it/s]\n",
      "                 Class     Images  Instances      Box(P          R      mAP50  mAP50-95): 100%|██████████| 3/3 [00:00<00:00,  6.03it/s]"
     ]
    },
    {
     "name": "stdout",
     "output_type": "stream",
     "text": [
      "                   all         67         94      0.791      0.847      0.845      0.703\n"
     ]
    },
    {
     "name": "stderr",
     "output_type": "stream",
     "text": [
      "\n"
     ]
    },
    {
     "name": "stdout",
     "output_type": "stream",
     "text": [
      "\n",
      "      Epoch    GPU_mem   box_loss   cls_loss   dfl_loss  Instances       Size\n"
     ]
    },
    {
     "name": "stderr",
     "output_type": "stream",
     "text": [
      "     69/100      11.6G      1.247      1.157      2.273         17        640: 100%|██████████| 16/16 [00:04<00:00,  3.23it/s]\n",
      "                 Class     Images  Instances      Box(P          R      mAP50  mAP50-95): 100%|██████████| 3/3 [00:00<00:00,  6.03it/s]"
     ]
    },
    {
     "name": "stdout",
     "output_type": "stream",
     "text": [
      "                   all         67         94      0.828       0.84      0.871      0.728\n"
     ]
    },
    {
     "name": "stderr",
     "output_type": "stream",
     "text": [
      "\n"
     ]
    },
    {
     "name": "stdout",
     "output_type": "stream",
     "text": [
      "\n",
      "      Epoch    GPU_mem   box_loss   cls_loss   dfl_loss  Instances       Size\n"
     ]
    },
    {
     "name": "stderr",
     "output_type": "stream",
     "text": [
      "     70/100      11.6G      1.214      1.224      2.253          7        640: 100%|██████████| 16/16 [00:04<00:00,  3.21it/s]\n",
      "                 Class     Images  Instances      Box(P          R      mAP50  mAP50-95): 100%|██████████| 3/3 [00:00<00:00,  6.02it/s]"
     ]
    },
    {
     "name": "stdout",
     "output_type": "stream",
     "text": [
      "                   all         67         94      0.853      0.787      0.872      0.726\n"
     ]
    },
    {
     "name": "stderr",
     "output_type": "stream",
     "text": [
      "\n"
     ]
    },
    {
     "name": "stdout",
     "output_type": "stream",
     "text": [
      "\n",
      "      Epoch    GPU_mem   box_loss   cls_loss   dfl_loss  Instances       Size\n"
     ]
    },
    {
     "name": "stderr",
     "output_type": "stream",
     "text": [
      "     71/100      11.6G      1.262      1.137      2.298         14        640: 100%|██████████| 16/16 [00:04<00:00,  3.22it/s]\n",
      "                 Class     Images  Instances      Box(P          R      mAP50  mAP50-95): 100%|██████████| 3/3 [00:00<00:00,  6.03it/s]"
     ]
    },
    {
     "name": "stdout",
     "output_type": "stream",
     "text": [
      "                   all         67         94      0.889      0.766      0.892      0.741\n"
     ]
    },
    {
     "name": "stderr",
     "output_type": "stream",
     "text": [
      "\n"
     ]
    },
    {
     "name": "stdout",
     "output_type": "stream",
     "text": [
      "\n",
      "      Epoch    GPU_mem   box_loss   cls_loss   dfl_loss  Instances       Size\n"
     ]
    },
    {
     "name": "stderr",
     "output_type": "stream",
     "text": [
      "     72/100      11.6G      1.231      1.165      2.232         11        640: 100%|██████████| 16/16 [00:04<00:00,  3.22it/s]\n",
      "                 Class     Images  Instances      Box(P          R      mAP50  mAP50-95): 100%|██████████| 3/3 [00:00<00:00,  5.13it/s]"
     ]
    },
    {
     "name": "stdout",
     "output_type": "stream",
     "text": [
      "                   all         67         94       0.86      0.819      0.891      0.754\n"
     ]
    },
    {
     "name": "stderr",
     "output_type": "stream",
     "text": [
      "\n"
     ]
    },
    {
     "name": "stdout",
     "output_type": "stream",
     "text": [
      "\n",
      "      Epoch    GPU_mem   box_loss   cls_loss   dfl_loss  Instances       Size\n"
     ]
    },
    {
     "name": "stderr",
     "output_type": "stream",
     "text": [
      "     73/100      11.6G      1.141      1.098      2.211         14        640: 100%|██████████| 16/16 [00:04<00:00,  3.21it/s]\n",
      "                 Class     Images  Instances      Box(P          R      mAP50  mAP50-95): 100%|██████████| 3/3 [00:00<00:00,  6.03it/s]"
     ]
    },
    {
     "name": "stdout",
     "output_type": "stream",
     "text": [
      "                   all         67         94      0.795      0.798      0.853      0.723\n"
     ]
    },
    {
     "name": "stderr",
     "output_type": "stream",
     "text": [
      "\n"
     ]
    },
    {
     "name": "stdout",
     "output_type": "stream",
     "text": [
      "\n",
      "      Epoch    GPU_mem   box_loss   cls_loss   dfl_loss  Instances       Size\n"
     ]
    },
    {
     "name": "stderr",
     "output_type": "stream",
     "text": [
      "     74/100      11.6G      1.182      1.142      2.235         20        640: 100%|██████████| 16/16 [00:04<00:00,  3.22it/s]\n",
      "                 Class     Images  Instances      Box(P          R      mAP50  mAP50-95): 100%|██████████| 3/3 [00:00<00:00,  6.02it/s]"
     ]
    },
    {
     "name": "stdout",
     "output_type": "stream",
     "text": [
      "                   all         67         94      0.783      0.846      0.865      0.735\n"
     ]
    },
    {
     "name": "stderr",
     "output_type": "stream",
     "text": [
      "\n"
     ]
    },
    {
     "name": "stdout",
     "output_type": "stream",
     "text": [
      "\n",
      "      Epoch    GPU_mem   box_loss   cls_loss   dfl_loss  Instances       Size\n"
     ]
    },
    {
     "name": "stderr",
     "output_type": "stream",
     "text": [
      "     75/100      11.6G      1.163      1.115      2.228         14        640: 100%|██████████| 16/16 [00:04<00:00,  3.23it/s]\n",
      "                 Class     Images  Instances      Box(P          R      mAP50  mAP50-95): 100%|██████████| 3/3 [00:00<00:00,  5.96it/s]"
     ]
    },
    {
     "name": "stdout",
     "output_type": "stream",
     "text": [
      "                   all         67         94      0.786      0.862      0.873      0.734\n"
     ]
    },
    {
     "name": "stderr",
     "output_type": "stream",
     "text": [
      "\n"
     ]
    },
    {
     "name": "stdout",
     "output_type": "stream",
     "text": [
      "\n",
      "      Epoch    GPU_mem   box_loss   cls_loss   dfl_loss  Instances       Size\n"
     ]
    },
    {
     "name": "stderr",
     "output_type": "stream",
     "text": [
      "     76/100      11.6G      1.223      1.114      2.269         12        640: 100%|██████████| 16/16 [00:04<00:00,  3.25it/s]\n",
      "                 Class     Images  Instances      Box(P          R      mAP50  mAP50-95): 100%|██████████| 3/3 [00:00<00:00,  6.00it/s]"
     ]
    },
    {
     "name": "stdout",
     "output_type": "stream",
     "text": [
      "                   all         67         94      0.819      0.819      0.872      0.727\n"
     ]
    },
    {
     "name": "stderr",
     "output_type": "stream",
     "text": [
      "\n"
     ]
    },
    {
     "name": "stdout",
     "output_type": "stream",
     "text": [
      "\n",
      "      Epoch    GPU_mem   box_loss   cls_loss   dfl_loss  Instances       Size\n"
     ]
    },
    {
     "name": "stderr",
     "output_type": "stream",
     "text": [
      "     77/100      11.6G      1.181      1.208      2.245         17        640: 100%|██████████| 16/16 [00:04<00:00,  3.21it/s]\n",
      "                 Class     Images  Instances      Box(P          R      mAP50  mAP50-95): 100%|██████████| 3/3 [00:00<00:00,  6.01it/s]"
     ]
    },
    {
     "name": "stdout",
     "output_type": "stream",
     "text": [
      "                   all         67         94       0.81      0.734      0.833      0.711\n"
     ]
    },
    {
     "name": "stderr",
     "output_type": "stream",
     "text": [
      "\n"
     ]
    },
    {
     "name": "stdout",
     "output_type": "stream",
     "text": [
      "\n",
      "      Epoch    GPU_mem   box_loss   cls_loss   dfl_loss  Instances       Size\n"
     ]
    },
    {
     "name": "stderr",
     "output_type": "stream",
     "text": [
      "     78/100      11.6G      1.103      1.093      2.186         14        640: 100%|██████████| 16/16 [00:05<00:00,  3.19it/s]\n",
      "                 Class     Images  Instances      Box(P          R      mAP50  mAP50-95): 100%|██████████| 3/3 [00:00<00:00,  5.23it/s]"
     ]
    },
    {
     "name": "stdout",
     "output_type": "stream",
     "text": [
      "                   all         67         94      0.814      0.793      0.866      0.726\n"
     ]
    },
    {
     "name": "stderr",
     "output_type": "stream",
     "text": [
      "\n"
     ]
    },
    {
     "name": "stdout",
     "output_type": "stream",
     "text": [
      "\n",
      "      Epoch    GPU_mem   box_loss   cls_loss   dfl_loss  Instances       Size\n"
     ]
    },
    {
     "name": "stderr",
     "output_type": "stream",
     "text": [
      "     79/100      11.6G       1.06      1.034      2.158          9        640: 100%|██████████| 16/16 [00:04<00:00,  3.24it/s]\n",
      "                 Class     Images  Instances      Box(P          R      mAP50  mAP50-95): 100%|██████████| 3/3 [00:00<00:00,  6.03it/s]"
     ]
    },
    {
     "name": "stdout",
     "output_type": "stream",
     "text": [
      "                   all         67         94      0.844      0.798      0.877      0.734\n"
     ]
    },
    {
     "name": "stderr",
     "output_type": "stream",
     "text": [
      "\n"
     ]
    },
    {
     "name": "stdout",
     "output_type": "stream",
     "text": [
      "\n",
      "      Epoch    GPU_mem   box_loss   cls_loss   dfl_loss  Instances       Size\n"
     ]
    },
    {
     "name": "stderr",
     "output_type": "stream",
     "text": [
      "     80/100      11.6G       1.17      1.094      2.253         13        640: 100%|██████████| 16/16 [00:04<00:00,  3.27it/s]\n",
      "                 Class     Images  Instances      Box(P          R      mAP50  mAP50-95): 100%|██████████| 3/3 [00:00<00:00,  6.05it/s]"
     ]
    },
    {
     "name": "stdout",
     "output_type": "stream",
     "text": [
      "                   all         67         94      0.844      0.807      0.879      0.736\n"
     ]
    },
    {
     "name": "stderr",
     "output_type": "stream",
     "text": [
      "\n"
     ]
    },
    {
     "name": "stdout",
     "output_type": "stream",
     "text": [
      "\n",
      "      Epoch    GPU_mem   box_loss   cls_loss   dfl_loss  Instances       Size\n"
     ]
    },
    {
     "name": "stderr",
     "output_type": "stream",
     "text": [
      "     81/100      11.6G      1.148      1.077      2.225         15        640: 100%|██████████| 16/16 [00:04<00:00,  3.20it/s]\n",
      "                 Class     Images  Instances      Box(P          R      mAP50  mAP50-95): 100%|██████████| 3/3 [00:00<00:00,  6.05it/s]"
     ]
    },
    {
     "name": "stdout",
     "output_type": "stream",
     "text": [
      "                   all         67         94      0.772      0.809      0.862      0.735\n"
     ]
    },
    {
     "name": "stderr",
     "output_type": "stream",
     "text": [
      "\n"
     ]
    },
    {
     "name": "stdout",
     "output_type": "stream",
     "text": [
      "\n",
      "      Epoch    GPU_mem   box_loss   cls_loss   dfl_loss  Instances       Size\n"
     ]
    },
    {
     "name": "stderr",
     "output_type": "stream",
     "text": [
      "     82/100      11.6G      1.095      1.023      2.194         19        640: 100%|██████████| 16/16 [00:04<00:00,  3.20it/s]\n",
      "                 Class     Images  Instances      Box(P          R      mAP50  mAP50-95): 100%|██████████| 3/3 [00:00<00:00,  6.02it/s]"
     ]
    },
    {
     "name": "stdout",
     "output_type": "stream",
     "text": [
      "                   all         67         94      0.815      0.798      0.877      0.744\n"
     ]
    },
    {
     "name": "stderr",
     "output_type": "stream",
     "text": [
      "\n"
     ]
    },
    {
     "name": "stdout",
     "output_type": "stream",
     "text": [
      "\n",
      "      Epoch    GPU_mem   box_loss   cls_loss   dfl_loss  Instances       Size\n"
     ]
    },
    {
     "name": "stderr",
     "output_type": "stream",
     "text": [
      "     83/100      11.6G      1.063      1.023       2.13         14        640: 100%|██████████| 16/16 [00:04<00:00,  3.25it/s]\n",
      "                 Class     Images  Instances      Box(P          R      mAP50  mAP50-95): 100%|██████████| 3/3 [00:00<00:00,  6.05it/s]"
     ]
    },
    {
     "name": "stdout",
     "output_type": "stream",
     "text": [
      "                   all         67         94      0.825      0.801      0.872      0.741\n"
     ]
    },
    {
     "name": "stderr",
     "output_type": "stream",
     "text": [
      "\n"
     ]
    },
    {
     "name": "stdout",
     "output_type": "stream",
     "text": [
      "\n",
      "      Epoch    GPU_mem   box_loss   cls_loss   dfl_loss  Instances       Size\n"
     ]
    },
    {
     "name": "stderr",
     "output_type": "stream",
     "text": [
      "     84/100      11.6G      1.055      1.058       2.16         21        640: 100%|██████████| 16/16 [00:05<00:00,  3.18it/s]\n",
      "                 Class     Images  Instances      Box(P          R      mAP50  mAP50-95): 100%|██████████| 3/3 [00:00<00:00,  6.02it/s]"
     ]
    },
    {
     "name": "stdout",
     "output_type": "stream",
     "text": [
      "                   all         67         94      0.869      0.798      0.877      0.744\n"
     ]
    },
    {
     "name": "stderr",
     "output_type": "stream",
     "text": [
      "\n"
     ]
    },
    {
     "name": "stdout",
     "output_type": "stream",
     "text": [
      "\n",
      "      Epoch    GPU_mem   box_loss   cls_loss   dfl_loss  Instances       Size\n"
     ]
    },
    {
     "name": "stderr",
     "output_type": "stream",
     "text": [
      "     85/100      11.6G       1.08       1.06      2.175         16        640: 100%|██████████| 16/16 [00:04<00:00,  3.23it/s]\n",
      "                 Class     Images  Instances      Box(P          R      mAP50  mAP50-95): 100%|██████████| 3/3 [00:00<00:00,  6.03it/s]"
     ]
    },
    {
     "name": "stdout",
     "output_type": "stream",
     "text": [
      "                   all         67         94      0.883      0.801      0.885       0.75\n"
     ]
    },
    {
     "name": "stderr",
     "output_type": "stream",
     "text": [
      "\n"
     ]
    },
    {
     "name": "stdout",
     "output_type": "stream",
     "text": [
      "\n",
      "      Epoch    GPU_mem   box_loss   cls_loss   dfl_loss  Instances       Size\n"
     ]
    },
    {
     "name": "stderr",
     "output_type": "stream",
     "text": [
      "     86/100      11.6G      1.002      1.005      2.133         12        640: 100%|██████████| 16/16 [00:04<00:00,  3.23it/s]\n",
      "                 Class     Images  Instances      Box(P          R      mAP50  mAP50-95): 100%|██████████| 3/3 [00:00<00:00,  6.01it/s]"
     ]
    },
    {
     "name": "stdout",
     "output_type": "stream",
     "text": [
      "                   all         67         94      0.901      0.798      0.893      0.763\n"
     ]
    },
    {
     "name": "stderr",
     "output_type": "stream",
     "text": [
      "\n"
     ]
    },
    {
     "name": "stdout",
     "output_type": "stream",
     "text": [
      "\n",
      "      Epoch    GPU_mem   box_loss   cls_loss   dfl_loss  Instances       Size\n"
     ]
    },
    {
     "name": "stderr",
     "output_type": "stream",
     "text": [
      "     87/100      11.6G      1.046     0.9735      2.175         14        640: 100%|██████████| 16/16 [00:04<00:00,  3.22it/s]\n",
      "                 Class     Images  Instances      Box(P          R      mAP50  mAP50-95): 100%|██████████| 3/3 [00:00<00:00,  6.05it/s]"
     ]
    },
    {
     "name": "stdout",
     "output_type": "stream",
     "text": [
      "                   all         67         94      0.894      0.804      0.901      0.765\n"
     ]
    },
    {
     "name": "stderr",
     "output_type": "stream",
     "text": [
      "\n"
     ]
    },
    {
     "name": "stdout",
     "output_type": "stream",
     "text": [
      "\n",
      "      Epoch    GPU_mem   box_loss   cls_loss   dfl_loss  Instances       Size\n"
     ]
    },
    {
     "name": "stderr",
     "output_type": "stream",
     "text": [
      "     88/100      11.6G       1.04     0.9219      2.185         18        640: 100%|██████████| 16/16 [00:04<00:00,  3.23it/s]\n",
      "                 Class     Images  Instances      Box(P          R      mAP50  mAP50-95): 100%|██████████| 3/3 [00:00<00:00,  4.93it/s]"
     ]
    },
    {
     "name": "stdout",
     "output_type": "stream",
     "text": [
      "                   all         67         94      0.914      0.794       0.89      0.767\n"
     ]
    },
    {
     "name": "stderr",
     "output_type": "stream",
     "text": [
      "\n"
     ]
    },
    {
     "name": "stdout",
     "output_type": "stream",
     "text": [
      "\n",
      "      Epoch    GPU_mem   box_loss   cls_loss   dfl_loss  Instances       Size\n"
     ]
    },
    {
     "name": "stderr",
     "output_type": "stream",
     "text": [
      "     89/100      11.6G      1.044      1.005      2.144         20        640: 100%|██████████| 16/16 [00:04<00:00,  3.23it/s]\n",
      "                 Class     Images  Instances      Box(P          R      mAP50  mAP50-95): 100%|██████████| 3/3 [00:00<00:00,  6.05it/s]"
     ]
    },
    {
     "name": "stdout",
     "output_type": "stream",
     "text": [
      "                   all         67         94      0.865      0.819      0.902      0.771\n"
     ]
    },
    {
     "name": "stderr",
     "output_type": "stream",
     "text": [
      "\n"
     ]
    },
    {
     "name": "stdout",
     "output_type": "stream",
     "text": [
      "\n",
      "      Epoch    GPU_mem   box_loss   cls_loss   dfl_loss  Instances       Size\n"
     ]
    },
    {
     "name": "stderr",
     "output_type": "stream",
     "text": [
      "     90/100      11.6G      1.022      1.011      2.174          7        640: 100%|██████████| 16/16 [00:04<00:00,  3.23it/s]\n",
      "                 Class     Images  Instances      Box(P          R      mAP50  mAP50-95): 100%|██████████| 3/3 [00:00<00:00,  6.05it/s]"
     ]
    },
    {
     "name": "stdout",
     "output_type": "stream",
     "text": [
      "                   all         67         94      0.915      0.798      0.887      0.763\n"
     ]
    },
    {
     "name": "stderr",
     "output_type": "stream",
     "text": [
      "\n"
     ]
    },
    {
     "name": "stdout",
     "output_type": "stream",
     "text": [
      "Closing dataloader mosaic\n",
      "\n",
      "      Epoch    GPU_mem   box_loss   cls_loss   dfl_loss  Instances       Size\n"
     ]
    },
    {
     "name": "stderr",
     "output_type": "stream",
     "text": [
      "     91/100      11.6G      0.965        1.3      2.062          6        640: 100%|██████████| 16/16 [00:05<00:00,  2.72it/s]\n",
      "                 Class     Images  Instances      Box(P          R      mAP50  mAP50-95): 100%|██████████| 3/3 [00:00<00:00,  5.97it/s]"
     ]
    },
    {
     "name": "stdout",
     "output_type": "stream",
     "text": [
      "                   all         67         94      0.838      0.823      0.876      0.749\n"
     ]
    },
    {
     "name": "stderr",
     "output_type": "stream",
     "text": [
      "\n"
     ]
    },
    {
     "name": "stdout",
     "output_type": "stream",
     "text": [
      "\n",
      "      Epoch    GPU_mem   box_loss   cls_loss   dfl_loss  Instances       Size\n"
     ]
    },
    {
     "name": "stderr",
     "output_type": "stream",
     "text": [
      "     92/100      11.6G     0.8043      0.757      1.955          5        640: 100%|██████████| 16/16 [00:04<00:00,  3.24it/s]\n",
      "                 Class     Images  Instances      Box(P          R      mAP50  mAP50-95): 100%|██████████| 3/3 [00:00<00:00,  6.03it/s]"
     ]
    },
    {
     "name": "stdout",
     "output_type": "stream",
     "text": [
      "                   all         67         94      0.904      0.797      0.892      0.746\n"
     ]
    },
    {
     "name": "stderr",
     "output_type": "stream",
     "text": [
      "\n"
     ]
    },
    {
     "name": "stdout",
     "output_type": "stream",
     "text": [
      "\n",
      "      Epoch    GPU_mem   box_loss   cls_loss   dfl_loss  Instances       Size\n"
     ]
    },
    {
     "name": "stderr",
     "output_type": "stream",
     "text": [
      "     93/100      11.6G     0.8202     0.7126       1.94          4        640: 100%|██████████| 16/16 [00:04<00:00,  3.27it/s]\n",
      "                 Class     Images  Instances      Box(P          R      mAP50  mAP50-95): 100%|██████████| 3/3 [00:00<00:00,  6.02it/s]"
     ]
    },
    {
     "name": "stdout",
     "output_type": "stream",
     "text": [
      "                   all         67         94        0.9      0.777      0.892       0.77\n"
     ]
    },
    {
     "name": "stderr",
     "output_type": "stream",
     "text": [
      "\n"
     ]
    },
    {
     "name": "stdout",
     "output_type": "stream",
     "text": [
      "\n",
      "      Epoch    GPU_mem   box_loss   cls_loss   dfl_loss  Instances       Size\n"
     ]
    },
    {
     "name": "stderr",
     "output_type": "stream",
     "text": [
      "     94/100      11.6G      0.798     0.6283      1.934          5        640: 100%|██████████| 16/16 [00:04<00:00,  3.23it/s]\n",
      "                 Class     Images  Instances      Box(P          R      mAP50  mAP50-95): 100%|██████████| 3/3 [00:00<00:00,  5.83it/s]"
     ]
    },
    {
     "name": "stdout",
     "output_type": "stream",
     "text": [
      "                   all         67         94      0.853      0.819      0.889      0.766\n"
     ]
    },
    {
     "name": "stderr",
     "output_type": "stream",
     "text": [
      "\n"
     ]
    },
    {
     "name": "stdout",
     "output_type": "stream",
     "text": [
      "\n",
      "      Epoch    GPU_mem   box_loss   cls_loss   dfl_loss  Instances       Size\n"
     ]
    },
    {
     "name": "stderr",
     "output_type": "stream",
     "text": [
      "     95/100      11.6G     0.7804     0.6393      1.949          8        640: 100%|██████████| 16/16 [00:04<00:00,  3.23it/s]\n",
      "                 Class     Images  Instances      Box(P          R      mAP50  mAP50-95): 100%|██████████| 3/3 [00:00<00:00,  6.00it/s]"
     ]
    },
    {
     "name": "stdout",
     "output_type": "stream",
     "text": [
      "                   all         67         94      0.789      0.838      0.879      0.756\n"
     ]
    },
    {
     "name": "stderr",
     "output_type": "stream",
     "text": [
      "\n"
     ]
    },
    {
     "name": "stdout",
     "output_type": "stream",
     "text": [
      "\n",
      "      Epoch    GPU_mem   box_loss   cls_loss   dfl_loss  Instances       Size\n"
     ]
    },
    {
     "name": "stderr",
     "output_type": "stream",
     "text": [
      "     96/100      11.6G     0.7485      0.607      1.935          9        640: 100%|██████████| 16/16 [00:04<00:00,  3.30it/s]\n",
      "                 Class     Images  Instances      Box(P          R      mAP50  mAP50-95): 100%|██████████| 3/3 [00:00<00:00,  6.02it/s]"
     ]
    },
    {
     "name": "stdout",
     "output_type": "stream",
     "text": [
      "                   all         67         94      0.865      0.819      0.883      0.762\n"
     ]
    },
    {
     "name": "stderr",
     "output_type": "stream",
     "text": [
      "\n"
     ]
    },
    {
     "name": "stdout",
     "output_type": "stream",
     "text": [
      "\n",
      "      Epoch    GPU_mem   box_loss   cls_loss   dfl_loss  Instances       Size\n"
     ]
    },
    {
     "name": "stderr",
     "output_type": "stream",
     "text": [
      "     97/100      11.6G     0.7271     0.5422      1.915          6        640: 100%|██████████| 16/16 [00:05<00:00,  3.20it/s]\n",
      "                 Class     Images  Instances      Box(P          R      mAP50  mAP50-95): 100%|██████████| 3/3 [00:00<00:00,  6.01it/s]"
     ]
    },
    {
     "name": "stdout",
     "output_type": "stream",
     "text": [
      "                   all         67         94      0.863      0.755      0.872      0.756\n"
     ]
    },
    {
     "name": "stderr",
     "output_type": "stream",
     "text": [
      "\n"
     ]
    },
    {
     "name": "stdout",
     "output_type": "stream",
     "text": [
      "\n",
      "      Epoch    GPU_mem   box_loss   cls_loss   dfl_loss  Instances       Size\n"
     ]
    },
    {
     "name": "stderr",
     "output_type": "stream",
     "text": [
      "     98/100      11.6G     0.7459     0.5485      1.938          5        640: 100%|██████████| 16/16 [00:04<00:00,  3.28it/s]\n",
      "                 Class     Images  Instances      Box(P          R      mAP50  mAP50-95): 100%|██████████| 3/3 [00:00<00:00,  5.97it/s]"
     ]
    },
    {
     "name": "stdout",
     "output_type": "stream",
     "text": [
      "                   all         67         94      0.866      0.754      0.869      0.752\n"
     ]
    },
    {
     "name": "stderr",
     "output_type": "stream",
     "text": [
      "\n"
     ]
    },
    {
     "name": "stdout",
     "output_type": "stream",
     "text": [
      "\n",
      "      Epoch    GPU_mem   box_loss   cls_loss   dfl_loss  Instances       Size\n"
     ]
    },
    {
     "name": "stderr",
     "output_type": "stream",
     "text": [
      "     99/100      11.6G     0.7322       0.54      1.881          6        640: 100%|██████████| 16/16 [00:04<00:00,  3.30it/s]\n",
      "                 Class     Images  Instances      Box(P          R      mAP50  mAP50-95): 100%|██████████| 3/3 [00:00<00:00,  6.04it/s]"
     ]
    },
    {
     "name": "stdout",
     "output_type": "stream",
     "text": [
      "                   all         67         94      0.841      0.809       0.88      0.761\n"
     ]
    },
    {
     "name": "stderr",
     "output_type": "stream",
     "text": [
      "\n"
     ]
    },
    {
     "name": "stdout",
     "output_type": "stream",
     "text": [
      "\n",
      "      Epoch    GPU_mem   box_loss   cls_loss   dfl_loss  Instances       Size\n"
     ]
    },
    {
     "name": "stderr",
     "output_type": "stream",
     "text": [
      "    100/100      11.6G     0.7524      0.541      1.956          5        640: 100%|██████████| 16/16 [00:04<00:00,  3.25it/s]\n",
      "                 Class     Images  Instances      Box(P          R      mAP50  mAP50-95): 100%|██████████| 3/3 [00:00<00:00,  5.95it/s]"
     ]
    },
    {
     "name": "stdout",
     "output_type": "stream",
     "text": [
      "                   all         67         94      0.862      0.809      0.877      0.758\n"
     ]
    },
    {
     "name": "stderr",
     "output_type": "stream",
     "text": [
      "\n"
     ]
    },
    {
     "name": "stdout",
     "output_type": "stream",
     "text": [
      "\n",
      "100 epochs completed in 0.194 hours.\n",
      "Optimizer stripped from /home/knuvi/Desktop/song/cucumber-image/yolo_detection/leaves4/weights/last.pt, 41.4MB\n",
      "Optimizer stripped from /home/knuvi/Desktop/song/cucumber-image/yolo_detection/leaves4/weights/best.pt, 41.4MB\n",
      "\n",
      "Validating /home/knuvi/Desktop/song/cucumber-image/yolo_detection/leaves4/weights/best.pt...\n",
      "Ultralytics YOLOv8.2.102 🚀 Python-3.10.15 torch-2.4.1+cu121 CUDA:0 (NVIDIA GeForce RTX 4070 Ti SUPER, 16079MiB)\n",
      "YOLOv10b summary (fused): 383 layers, 20,412,694 parameters, 0 gradients, 97.9 GFLOPs\n"
     ]
    },
    {
     "name": "stderr",
     "output_type": "stream",
     "text": [
      "                 Class     Images  Instances      Box(P          R      mAP50  mAP50-95): 100%|██████████| 3/3 [00:00<00:00,  4.59it/s]\n"
     ]
    },
    {
     "name": "stdout",
     "output_type": "stream",
     "text": [
      "                   all         67         94      0.865      0.819      0.902      0.771\n",
      "Speed: 0.4ms preprocess, 5.1ms inference, 0.0ms loss, 0.1ms postprocess per image\n",
      "Results saved to \u001b[1m/home/knuvi/Desktop/song/cucumber-image/yolo_detection/leaves4\u001b[0m\n"
     ]
    },
    {
     "data": {
      "text/plain": [
       "ultralytics.utils.metrics.DetMetrics object with attributes:\n",
       "\n",
       "ap_class_index: array([0])\n",
       "box: ultralytics.utils.metrics.Metric object\n",
       "confusion_matrix: <ultralytics.utils.metrics.ConfusionMatrix object at 0x7fe6069c9240>\n",
       "curves: ['Precision-Recall(B)', 'F1-Confidence(B)', 'Precision-Confidence(B)', 'Recall-Confidence(B)']\n",
       "curves_results: [[array([          0,    0.001001,    0.002002,    0.003003,    0.004004,    0.005005,    0.006006,    0.007007,    0.008008,    0.009009,     0.01001,    0.011011,    0.012012,    0.013013,    0.014014,    0.015015,    0.016016,    0.017017,    0.018018,    0.019019,     0.02002,    0.021021,    0.022022,    0.023023,\n",
       "          0.024024,    0.025025,    0.026026,    0.027027,    0.028028,    0.029029,     0.03003,    0.031031,    0.032032,    0.033033,    0.034034,    0.035035,    0.036036,    0.037037,    0.038038,    0.039039,     0.04004,    0.041041,    0.042042,    0.043043,    0.044044,    0.045045,    0.046046,    0.047047,\n",
       "          0.048048,    0.049049,     0.05005,    0.051051,    0.052052,    0.053053,    0.054054,    0.055055,    0.056056,    0.057057,    0.058058,    0.059059,     0.06006,    0.061061,    0.062062,    0.063063,    0.064064,    0.065065,    0.066066,    0.067067,    0.068068,    0.069069,     0.07007,    0.071071,\n",
       "          0.072072,    0.073073,    0.074074,    0.075075,    0.076076,    0.077077,    0.078078,    0.079079,     0.08008,    0.081081,    0.082082,    0.083083,    0.084084,    0.085085,    0.086086,    0.087087,    0.088088,    0.089089,     0.09009,    0.091091,    0.092092,    0.093093,    0.094094,    0.095095,\n",
       "          0.096096,    0.097097,    0.098098,    0.099099,      0.1001,      0.1011,      0.1021,      0.1031,      0.1041,     0.10511,     0.10611,     0.10711,     0.10811,     0.10911,     0.11011,     0.11111,     0.11211,     0.11311,     0.11411,     0.11512,     0.11612,     0.11712,     0.11812,     0.11912,\n",
       "           0.12012,     0.12112,     0.12212,     0.12312,     0.12412,     0.12513,     0.12613,     0.12713,     0.12813,     0.12913,     0.13013,     0.13113,     0.13213,     0.13313,     0.13413,     0.13514,     0.13614,     0.13714,     0.13814,     0.13914,     0.14014,     0.14114,     0.14214,     0.14314,\n",
       "           0.14414,     0.14515,     0.14615,     0.14715,     0.14815,     0.14915,     0.15015,     0.15115,     0.15215,     0.15315,     0.15415,     0.15516,     0.15616,     0.15716,     0.15816,     0.15916,     0.16016,     0.16116,     0.16216,     0.16316,     0.16416,     0.16517,     0.16617,     0.16717,\n",
       "           0.16817,     0.16917,     0.17017,     0.17117,     0.17217,     0.17317,     0.17417,     0.17518,     0.17618,     0.17718,     0.17818,     0.17918,     0.18018,     0.18118,     0.18218,     0.18318,     0.18418,     0.18519,     0.18619,     0.18719,     0.18819,     0.18919,     0.19019,     0.19119,\n",
       "           0.19219,     0.19319,     0.19419,      0.1952,      0.1962,      0.1972,      0.1982,      0.1992,      0.2002,      0.2012,      0.2022,      0.2032,      0.2042,     0.20521,     0.20621,     0.20721,     0.20821,     0.20921,     0.21021,     0.21121,     0.21221,     0.21321,     0.21421,     0.21522,\n",
       "           0.21622,     0.21722,     0.21822,     0.21922,     0.22022,     0.22122,     0.22222,     0.22322,     0.22422,     0.22523,     0.22623,     0.22723,     0.22823,     0.22923,     0.23023,     0.23123,     0.23223,     0.23323,     0.23423,     0.23524,     0.23624,     0.23724,     0.23824,     0.23924,\n",
       "           0.24024,     0.24124,     0.24224,     0.24324,     0.24424,     0.24525,     0.24625,     0.24725,     0.24825,     0.24925,     0.25025,     0.25125,     0.25225,     0.25325,     0.25425,     0.25526,     0.25626,     0.25726,     0.25826,     0.25926,     0.26026,     0.26126,     0.26226,     0.26326,\n",
       "           0.26426,     0.26527,     0.26627,     0.26727,     0.26827,     0.26927,     0.27027,     0.27127,     0.27227,     0.27327,     0.27427,     0.27528,     0.27628,     0.27728,     0.27828,     0.27928,     0.28028,     0.28128,     0.28228,     0.28328,     0.28428,     0.28529,     0.28629,     0.28729,\n",
       "           0.28829,     0.28929,     0.29029,     0.29129,     0.29229,     0.29329,     0.29429,      0.2953,      0.2963,      0.2973,      0.2983,      0.2993,      0.3003,      0.3013,      0.3023,      0.3033,      0.3043,     0.30531,     0.30631,     0.30731,     0.30831,     0.30931,     0.31031,     0.31131,\n",
       "           0.31231,     0.31331,     0.31431,     0.31532,     0.31632,     0.31732,     0.31832,     0.31932,     0.32032,     0.32132,     0.32232,     0.32332,     0.32432,     0.32533,     0.32633,     0.32733,     0.32833,     0.32933,     0.33033,     0.33133,     0.33233,     0.33333,     0.33433,     0.33534,\n",
       "           0.33634,     0.33734,     0.33834,     0.33934,     0.34034,     0.34134,     0.34234,     0.34334,     0.34434,     0.34535,     0.34635,     0.34735,     0.34835,     0.34935,     0.35035,     0.35135,     0.35235,     0.35335,     0.35435,     0.35536,     0.35636,     0.35736,     0.35836,     0.35936,\n",
       "           0.36036,     0.36136,     0.36236,     0.36336,     0.36436,     0.36537,     0.36637,     0.36737,     0.36837,     0.36937,     0.37037,     0.37137,     0.37237,     0.37337,     0.37437,     0.37538,     0.37638,     0.37738,     0.37838,     0.37938,     0.38038,     0.38138,     0.38238,     0.38338,\n",
       "           0.38438,     0.38539,     0.38639,     0.38739,     0.38839,     0.38939,     0.39039,     0.39139,     0.39239,     0.39339,     0.39439,      0.3954,      0.3964,      0.3974,      0.3984,      0.3994,      0.4004,      0.4014,      0.4024,      0.4034,      0.4044,     0.40541,     0.40641,     0.40741,\n",
       "           0.40841,     0.40941,     0.41041,     0.41141,     0.41241,     0.41341,     0.41441,     0.41542,     0.41642,     0.41742,     0.41842,     0.41942,     0.42042,     0.42142,     0.42242,     0.42342,     0.42442,     0.42543,     0.42643,     0.42743,     0.42843,     0.42943,     0.43043,     0.43143,\n",
       "           0.43243,     0.43343,     0.43443,     0.43544,     0.43644,     0.43744,     0.43844,     0.43944,     0.44044,     0.44144,     0.44244,     0.44344,     0.44444,     0.44545,     0.44645,     0.44745,     0.44845,     0.44945,     0.45045,     0.45145,     0.45245,     0.45345,     0.45445,     0.45546,\n",
       "           0.45646,     0.45746,     0.45846,     0.45946,     0.46046,     0.46146,     0.46246,     0.46346,     0.46446,     0.46547,     0.46647,     0.46747,     0.46847,     0.46947,     0.47047,     0.47147,     0.47247,     0.47347,     0.47447,     0.47548,     0.47648,     0.47748,     0.47848,     0.47948,\n",
       "           0.48048,     0.48148,     0.48248,     0.48348,     0.48448,     0.48549,     0.48649,     0.48749,     0.48849,     0.48949,     0.49049,     0.49149,     0.49249,     0.49349,     0.49449,      0.4955,      0.4965,      0.4975,      0.4985,      0.4995,      0.5005,      0.5015,      0.5025,      0.5035,\n",
       "            0.5045,     0.50551,     0.50651,     0.50751,     0.50851,     0.50951,     0.51051,     0.51151,     0.51251,     0.51351,     0.51451,     0.51552,     0.51652,     0.51752,     0.51852,     0.51952,     0.52052,     0.52152,     0.52252,     0.52352,     0.52452,     0.52553,     0.52653,     0.52753,\n",
       "           0.52853,     0.52953,     0.53053,     0.53153,     0.53253,     0.53353,     0.53453,     0.53554,     0.53654,     0.53754,     0.53854,     0.53954,     0.54054,     0.54154,     0.54254,     0.54354,     0.54454,     0.54555,     0.54655,     0.54755,     0.54855,     0.54955,     0.55055,     0.55155,\n",
       "           0.55255,     0.55355,     0.55455,     0.55556,     0.55656,     0.55756,     0.55856,     0.55956,     0.56056,     0.56156,     0.56256,     0.56356,     0.56456,     0.56557,     0.56657,     0.56757,     0.56857,     0.56957,     0.57057,     0.57157,     0.57257,     0.57357,     0.57457,     0.57558,\n",
       "           0.57658,     0.57758,     0.57858,     0.57958,     0.58058,     0.58158,     0.58258,     0.58358,     0.58458,     0.58559,     0.58659,     0.58759,     0.58859,     0.58959,     0.59059,     0.59159,     0.59259,     0.59359,     0.59459,      0.5956,      0.5966,      0.5976,      0.5986,      0.5996,\n",
       "            0.6006,      0.6016,      0.6026,      0.6036,      0.6046,     0.60561,     0.60661,     0.60761,     0.60861,     0.60961,     0.61061,     0.61161,     0.61261,     0.61361,     0.61461,     0.61562,     0.61662,     0.61762,     0.61862,     0.61962,     0.62062,     0.62162,     0.62262,     0.62362,\n",
       "           0.62462,     0.62563,     0.62663,     0.62763,     0.62863,     0.62963,     0.63063,     0.63163,     0.63263,     0.63363,     0.63463,     0.63564,     0.63664,     0.63764,     0.63864,     0.63964,     0.64064,     0.64164,     0.64264,     0.64364,     0.64464,     0.64565,     0.64665,     0.64765,\n",
       "           0.64865,     0.64965,     0.65065,     0.65165,     0.65265,     0.65365,     0.65465,     0.65566,     0.65666,     0.65766,     0.65866,     0.65966,     0.66066,     0.66166,     0.66266,     0.66366,     0.66466,     0.66567,     0.66667,     0.66767,     0.66867,     0.66967,     0.67067,     0.67167,\n",
       "           0.67267,     0.67367,     0.67467,     0.67568,     0.67668,     0.67768,     0.67868,     0.67968,     0.68068,     0.68168,     0.68268,     0.68368,     0.68468,     0.68569,     0.68669,     0.68769,     0.68869,     0.68969,     0.69069,     0.69169,     0.69269,     0.69369,     0.69469,      0.6957,\n",
       "            0.6967,      0.6977,      0.6987,      0.6997,      0.7007,      0.7017,      0.7027,      0.7037,      0.7047,     0.70571,     0.70671,     0.70771,     0.70871,     0.70971,     0.71071,     0.71171,     0.71271,     0.71371,     0.71471,     0.71572,     0.71672,     0.71772,     0.71872,     0.71972,\n",
       "           0.72072,     0.72172,     0.72272,     0.72372,     0.72472,     0.72573,     0.72673,     0.72773,     0.72873,     0.72973,     0.73073,     0.73173,     0.73273,     0.73373,     0.73473,     0.73574,     0.73674,     0.73774,     0.73874,     0.73974,     0.74074,     0.74174,     0.74274,     0.74374,\n",
       "           0.74474,     0.74575,     0.74675,     0.74775,     0.74875,     0.74975,     0.75075,     0.75175,     0.75275,     0.75375,     0.75475,     0.75576,     0.75676,     0.75776,     0.75876,     0.75976,     0.76076,     0.76176,     0.76276,     0.76376,     0.76476,     0.76577,     0.76677,     0.76777,\n",
       "           0.76877,     0.76977,     0.77077,     0.77177,     0.77277,     0.77377,     0.77477,     0.77578,     0.77678,     0.77778,     0.77878,     0.77978,     0.78078,     0.78178,     0.78278,     0.78378,     0.78478,     0.78579,     0.78679,     0.78779,     0.78879,     0.78979,     0.79079,     0.79179,\n",
       "           0.79279,     0.79379,     0.79479,      0.7958,      0.7968,      0.7978,      0.7988,      0.7998,      0.8008,      0.8018,      0.8028,      0.8038,      0.8048,     0.80581,     0.80681,     0.80781,     0.80881,     0.80981,     0.81081,     0.81181,     0.81281,     0.81381,     0.81481,     0.81582,\n",
       "           0.81682,     0.81782,     0.81882,     0.81982,     0.82082,     0.82182,     0.82282,     0.82382,     0.82482,     0.82583,     0.82683,     0.82783,     0.82883,     0.82983,     0.83083,     0.83183,     0.83283,     0.83383,     0.83483,     0.83584,     0.83684,     0.83784,     0.83884,     0.83984,\n",
       "           0.84084,     0.84184,     0.84284,     0.84384,     0.84484,     0.84585,     0.84685,     0.84785,     0.84885,     0.84985,     0.85085,     0.85185,     0.85285,     0.85385,     0.85485,     0.85586,     0.85686,     0.85786,     0.85886,     0.85986,     0.86086,     0.86186,     0.86286,     0.86386,\n",
       "           0.86486,     0.86587,     0.86687,     0.86787,     0.86887,     0.86987,     0.87087,     0.87187,     0.87287,     0.87387,     0.87487,     0.87588,     0.87688,     0.87788,     0.87888,     0.87988,     0.88088,     0.88188,     0.88288,     0.88388,     0.88488,     0.88589,     0.88689,     0.88789,\n",
       "           0.88889,     0.88989,     0.89089,     0.89189,     0.89289,     0.89389,     0.89489,      0.8959,      0.8969,      0.8979,      0.8989,      0.8999,      0.9009,      0.9019,      0.9029,      0.9039,      0.9049,     0.90591,     0.90691,     0.90791,     0.90891,     0.90991,     0.91091,     0.91191,\n",
       "           0.91291,     0.91391,     0.91491,     0.91592,     0.91692,     0.91792,     0.91892,     0.91992,     0.92092,     0.92192,     0.92292,     0.92392,     0.92492,     0.92593,     0.92693,     0.92793,     0.92893,     0.92993,     0.93093,     0.93193,     0.93293,     0.93393,     0.93493,     0.93594,\n",
       "           0.93694,     0.93794,     0.93894,     0.93994,     0.94094,     0.94194,     0.94294,     0.94394,     0.94494,     0.94595,     0.94695,     0.94795,     0.94895,     0.94995,     0.95095,     0.95195,     0.95295,     0.95395,     0.95495,     0.95596,     0.95696,     0.95796,     0.95896,     0.95996,\n",
       "           0.96096,     0.96196,     0.96296,     0.96396,     0.96496,     0.96597,     0.96697,     0.96797,     0.96897,     0.96997,     0.97097,     0.97197,     0.97297,     0.97397,     0.97497,     0.97598,     0.97698,     0.97798,     0.97898,     0.97998,     0.98098,     0.98198,     0.98298,     0.98398,\n",
       "           0.98498,     0.98599,     0.98699,     0.98799,     0.98899,     0.98999,     0.99099,     0.99199,     0.99299,     0.99399,     0.99499,       0.996,       0.997,       0.998,       0.999,           1]), array([[          1,           1,           1,           1,           1,           1,           1,           1,           1,           1,           1,           1,           1,           1,           1,           1,           1,           1,           1,           1,           1,           1,           1,\n",
       "                  1,           1,           1,           1,           1,           1,           1,           1,           1,           1,           1,           1,           1,           1,           1,           1,           1,           1,           1,           1,           1,           1,           1,\n",
       "                  1,           1,           1,           1,           1,           1,           1,           1,           1,           1,           1,           1,           1,           1,           1,           1,           1,           1,           1,           1,           1,           1,           1,\n",
       "                  1,           1,           1,           1,           1,           1,           1,           1,           1,           1,           1,           1,           1,           1,           1,           1,           1,           1,           1,           1,           1,           1,           1,\n",
       "                  1,           1,           1,           1,           1,           1,           1,           1,           1,           1,           1,           1,           1,           1,           1,           1,           1,           1,           1,           1,           1,           1,           1,\n",
       "                  1,           1,           1,           1,           1,           1,           1,           1,           1,           1,           1,           1,           1,           1,           1,           1,           1,           1,           1,           1,           1,           1,           1,\n",
       "                  1,           1,           1,           1,           1,           1,           1,           1,           1,           1,           1,           1,           1,           1,           1,           1,           1,           1,           1,           1,           1,           1,           1,\n",
       "                  1,           1,           1,           1,           1,           1,           1,           1,           1,           1,           1,           1,           1,           1,           1,           1,           1,           1,           1,           1,           1,           1,           1,\n",
       "                  1,           1,           1,           1,           1,           1,           1,           1,           1,           1,           1,           1,           1,           1,           1,           1,           1,           1,           1,           1,           1,           1,           1,\n",
       "                  1,           1,           1,           1,           1,           1,           1,           1,           1,           1,           1,           1,           1,           1,           1,           1,           1,           1,           1,           1,           1,           1,           1,\n",
       "                  1,           1,           1,           1,           1,           1,           1,           1,           1,           1,           1,           1,           1,           1,           1,           1,           1,           1,           1,           1,           1,           1,           1,\n",
       "                  1,           1,           1,           1,           1,           1,           1,           1,           1,           1,           1,           1,           1,           1,           1,           1,           1,           1,           1,           1,           1,           1,           1,\n",
       "                  1,           1,           1,           1,           1,           1,           1,           1,           1,           1,           1,           1,           1,           1,           1,           1,           1,           1,           1,           1,           1,           1,           1,\n",
       "                  1,           1,           1,           1,           1,           1,           1,           1,           1,           1,           1,           1,           1,           1,           1,           1,           1,           1,           1,           1,           1,           1,           1,\n",
       "                  1,           1,           1,           1,           1,           1,           1,           1,           1,           1,           1,           1,           1,           1,           1,           1,           1,           1,           1,           1,           1,           1,           1,\n",
       "                  1,           1,           1,           1,           1,           1,           1,           1,           1,           1,           1,           1,           1,           1,           1,           1,           1,           1,           1,           1,           1,           1,           1,\n",
       "                  1,           1,           1,           1,           1,           1,           1,           1,           1,           1,           1,           1,           1,           1,           1,           1,           1,           1,           1,           1,           1,           1,           1,\n",
       "                  1,           1,           1,           1,           1,           1,           1,           1,           1,           1,           1,           1,           1,           1,           1,           1,           1,           1,           1,           1,           1,           1,           1,\n",
       "                  1,           1,           1,           1,           1,           1,           1,           1,           1,           1,           1,           1,           1,           1,           1,           1,           1,           1,           1,           1,           1,           1,           1,\n",
       "                  1,           1,           1,           1,           1,           1,           1,           1,           1,           1,           1,           1,           1,           1,           1,           1,           1,           1,           1,           1,           1,           1,           1,\n",
       "                  1,           1,           1,           1,           1,           1,           1,           1,           1,           1,           1,           1,           1,           1,           1,           1,           1,           1,           1,           1,           1,           1,           1,\n",
       "                  1,           1,           1,           1,           1,           1,           1,           1,           1,           1,           1,           1,           1,           1,           1,           1,           1,           1,           1,           1,           1,           1,           1,\n",
       "                  1,           1,           1,           1,           1,           1,           1,           1,           1,           1,           1,           1,           1,           1,           1,           1,           1,           1,           1,           1,           1,           1,           1,\n",
       "                  1,           1,           1,           1,           1,           1,           1,           1,           1,           1,           1,           1,           1,           1,           1,           1,           1,           1,           1,           1,           1,           1,           1,\n",
       "                  1,           1,           1,           1,           1,           1,           1,           1,           1,           1,           1,           1,           1,           1,           1,           1,           1,           1,           1,           1,           1,           1,           1,\n",
       "                  1,           1,           1,           1,           1,           1,           1,           1,           1,           1,           1,           1,           1,           1,           1,           1,           1,           1,           1,           1,           1,           1,           1,\n",
       "                  1,           1,           1,           1,           1,           1,           1,           1,           1,           1,           1,           1,           1,           1,           1,           1,           1,           1,           1,           1,           1,           1,           1,\n",
       "                  1,           1,           1,           1,           1,           1,           1,     0.98413,     0.98413,     0.98413,     0.98413,     0.98413,     0.98413,     0.98413,     0.98413,     0.98413,     0.98413,     0.98413,     0.98413,     0.98413,     0.98413,     0.98413,     0.98413,\n",
       "            0.98413,     0.98413,     0.98413,     0.98413,     0.98413,     0.98413,     0.98413,     0.98413,     0.98413,     0.98413,     0.98413,     0.98413,     0.98413,     0.98413,     0.98413,     0.93333,     0.93333,     0.93333,     0.93333,     0.93333,     0.93333,     0.93333,     0.93333,\n",
       "            0.93333,     0.93333,     0.93333,     0.93333,     0.93333,     0.93333,     0.93333,     0.93333,     0.93333,     0.93333,     0.93333,     0.93333,     0.93333,     0.93333,     0.93333,     0.93333,     0.93333,     0.93333,     0.93333,     0.93333,     0.93333,     0.93333,     0.93333,\n",
       "            0.93333,     0.93333,     0.93333,     0.93333,     0.93333,     0.93333,     0.93333,     0.93333,     0.93333,     0.93333,     0.93333,     0.93333,     0.93333,     0.93333,     0.93333,     0.93333,     0.93333,     0.93333,     0.93333,     0.93333,     0.93333,     0.93333,     0.93333,\n",
       "            0.93333,     0.93333,     0.93333,     0.93333,     0.93333,     0.93333,     0.93333,     0.93333,     0.93333,     0.93333,     0.93333,     0.93333,     0.93333,     0.93333,     0.93333,     0.93333,     0.93333,     0.93333,     0.93333,     0.93333,     0.93333,     0.93333,     0.93333,\n",
       "            0.93333,     0.93333,     0.93333,     0.93333,     0.93333,     0.93333,     0.93333,     0.93333,     0.92308,     0.92308,     0.92308,     0.92308,     0.92308,     0.92308,     0.92308,     0.92308,     0.92308,     0.92308,     0.92308,     0.92308,     0.92308,     0.92308,     0.92308,\n",
       "            0.92308,     0.92308,     0.92308,     0.92308,     0.92308,     0.92308,     0.92308,     0.91358,     0.91358,     0.91358,     0.91358,     0.91358,     0.91358,     0.91358,     0.91358,     0.91358,     0.91358,     0.91358,     0.91358,     0.91358,     0.91358,     0.91358,     0.91358,\n",
       "            0.91358,     0.91358,     0.91358,     0.91358,     0.91358,       0.875,       0.875,       0.875,       0.875,       0.875,       0.875,       0.875,       0.875,       0.875,       0.875,       0.875,       0.875,       0.875,       0.875,       0.875,       0.875,       0.875,       0.875,\n",
       "              0.875,       0.875,       0.875,       0.875,       0.875,       0.875,       0.875,       0.875,       0.875,       0.875,       0.875,       0.875,       0.875,       0.875,     0.81633,     0.81633,     0.81633,     0.81633,     0.81633,     0.81633,     0.81633,     0.81633,     0.81633,\n",
       "            0.81633,     0.81633,     0.81633,     0.81633,     0.81633,     0.81633,     0.81633,     0.81633,     0.81633,     0.81633,     0.81633,     0.81633,     0.81633,     0.81633,     0.81633,     0.81633,     0.81633,     0.81633,     0.81633,     0.81633,     0.81633,     0.81633,     0.81633,\n",
       "            0.80198,     0.80198,     0.80198,     0.80198,     0.80198,     0.80198,     0.80198,     0.80198,     0.80198,     0.80198,     0.79612,     0.79612,     0.79612,     0.79612,     0.79612,     0.79612,     0.79612,     0.79612,     0.79612,     0.79612,     0.79612,     0.73451,     0.73451,\n",
       "            0.73451,     0.73451,     0.73451,     0.73451,     0.73451,     0.73451,     0.73451,     0.73451,     0.73451,     0.71795,     0.71795,     0.71795,     0.71795,     0.71795,     0.71795,     0.71795,     0.71795,     0.71795,     0.71795,     0.53797,     0.53797,     0.53797,     0.53797,\n",
       "            0.53797,     0.53797,     0.53797,     0.53797,     0.53797,     0.53797,     0.53797,     0.52439,     0.52439,     0.52439,     0.52439,     0.52439,     0.52439,     0.52439,     0.52439,     0.52439,     0.52439,     0.47802,     0.47802,     0.47802,     0.47802,     0.47802,     0.47802,\n",
       "            0.47802,     0.47802,     0.47802,     0.47802,     0.47802,      0.4709,      0.4709,      0.4709,      0.4709,      0.4709,      0.4709,      0.4709,      0.4709,      0.4709,      0.4709,      0.4709,      0.4709,      0.4709,      0.4709,      0.4709,      0.4709,      0.4709,      0.4709,\n",
       "             0.4709,      0.4709,      0.4709,     0.43478,     0.43478,     0.43478,     0.43478,     0.43478,     0.43478,     0.43478,     0.43478,     0.43478,     0.43478,     0.43478,     0.33579,     0.33579,     0.33579,     0.33579,     0.33579,     0.33579,     0.33579,     0.33579,     0.33579,\n",
       "            0.33579,     0.33579,     0.23469,     0.22712,     0.21955,     0.21198,     0.20441,     0.19684,     0.18927,      0.1817,     0.17413,     0.16656,     0.15899,     0.15142,     0.14384,     0.13627,      0.1287,     0.12113,     0.11356,     0.10599,     0.09842,    0.090849,    0.083279,\n",
       "           0.075708,    0.068137,    0.060566,    0.052996,    0.045425,    0.037854,    0.030283,    0.022712,    0.015142,   0.0075708,           0]]), 'Recall', 'Precision'], [array([          0,    0.001001,    0.002002,    0.003003,    0.004004,    0.005005,    0.006006,    0.007007,    0.008008,    0.009009,     0.01001,    0.011011,    0.012012,    0.013013,    0.014014,    0.015015,    0.016016,    0.017017,    0.018018,    0.019019,     0.02002,    0.021021,    0.022022,    0.023023,\n",
       "          0.024024,    0.025025,    0.026026,    0.027027,    0.028028,    0.029029,     0.03003,    0.031031,    0.032032,    0.033033,    0.034034,    0.035035,    0.036036,    0.037037,    0.038038,    0.039039,     0.04004,    0.041041,    0.042042,    0.043043,    0.044044,    0.045045,    0.046046,    0.047047,\n",
       "          0.048048,    0.049049,     0.05005,    0.051051,    0.052052,    0.053053,    0.054054,    0.055055,    0.056056,    0.057057,    0.058058,    0.059059,     0.06006,    0.061061,    0.062062,    0.063063,    0.064064,    0.065065,    0.066066,    0.067067,    0.068068,    0.069069,     0.07007,    0.071071,\n",
       "          0.072072,    0.073073,    0.074074,    0.075075,    0.076076,    0.077077,    0.078078,    0.079079,     0.08008,    0.081081,    0.082082,    0.083083,    0.084084,    0.085085,    0.086086,    0.087087,    0.088088,    0.089089,     0.09009,    0.091091,    0.092092,    0.093093,    0.094094,    0.095095,\n",
       "          0.096096,    0.097097,    0.098098,    0.099099,      0.1001,      0.1011,      0.1021,      0.1031,      0.1041,     0.10511,     0.10611,     0.10711,     0.10811,     0.10911,     0.11011,     0.11111,     0.11211,     0.11311,     0.11411,     0.11512,     0.11612,     0.11712,     0.11812,     0.11912,\n",
       "           0.12012,     0.12112,     0.12212,     0.12312,     0.12412,     0.12513,     0.12613,     0.12713,     0.12813,     0.12913,     0.13013,     0.13113,     0.13213,     0.13313,     0.13413,     0.13514,     0.13614,     0.13714,     0.13814,     0.13914,     0.14014,     0.14114,     0.14214,     0.14314,\n",
       "           0.14414,     0.14515,     0.14615,     0.14715,     0.14815,     0.14915,     0.15015,     0.15115,     0.15215,     0.15315,     0.15415,     0.15516,     0.15616,     0.15716,     0.15816,     0.15916,     0.16016,     0.16116,     0.16216,     0.16316,     0.16416,     0.16517,     0.16617,     0.16717,\n",
       "           0.16817,     0.16917,     0.17017,     0.17117,     0.17217,     0.17317,     0.17417,     0.17518,     0.17618,     0.17718,     0.17818,     0.17918,     0.18018,     0.18118,     0.18218,     0.18318,     0.18418,     0.18519,     0.18619,     0.18719,     0.18819,     0.18919,     0.19019,     0.19119,\n",
       "           0.19219,     0.19319,     0.19419,      0.1952,      0.1962,      0.1972,      0.1982,      0.1992,      0.2002,      0.2012,      0.2022,      0.2032,      0.2042,     0.20521,     0.20621,     0.20721,     0.20821,     0.20921,     0.21021,     0.21121,     0.21221,     0.21321,     0.21421,     0.21522,\n",
       "           0.21622,     0.21722,     0.21822,     0.21922,     0.22022,     0.22122,     0.22222,     0.22322,     0.22422,     0.22523,     0.22623,     0.22723,     0.22823,     0.22923,     0.23023,     0.23123,     0.23223,     0.23323,     0.23423,     0.23524,     0.23624,     0.23724,     0.23824,     0.23924,\n",
       "           0.24024,     0.24124,     0.24224,     0.24324,     0.24424,     0.24525,     0.24625,     0.24725,     0.24825,     0.24925,     0.25025,     0.25125,     0.25225,     0.25325,     0.25425,     0.25526,     0.25626,     0.25726,     0.25826,     0.25926,     0.26026,     0.26126,     0.26226,     0.26326,\n",
       "           0.26426,     0.26527,     0.26627,     0.26727,     0.26827,     0.26927,     0.27027,     0.27127,     0.27227,     0.27327,     0.27427,     0.27528,     0.27628,     0.27728,     0.27828,     0.27928,     0.28028,     0.28128,     0.28228,     0.28328,     0.28428,     0.28529,     0.28629,     0.28729,\n",
       "           0.28829,     0.28929,     0.29029,     0.29129,     0.29229,     0.29329,     0.29429,      0.2953,      0.2963,      0.2973,      0.2983,      0.2993,      0.3003,      0.3013,      0.3023,      0.3033,      0.3043,     0.30531,     0.30631,     0.30731,     0.30831,     0.30931,     0.31031,     0.31131,\n",
       "           0.31231,     0.31331,     0.31431,     0.31532,     0.31632,     0.31732,     0.31832,     0.31932,     0.32032,     0.32132,     0.32232,     0.32332,     0.32432,     0.32533,     0.32633,     0.32733,     0.32833,     0.32933,     0.33033,     0.33133,     0.33233,     0.33333,     0.33433,     0.33534,\n",
       "           0.33634,     0.33734,     0.33834,     0.33934,     0.34034,     0.34134,     0.34234,     0.34334,     0.34434,     0.34535,     0.34635,     0.34735,     0.34835,     0.34935,     0.35035,     0.35135,     0.35235,     0.35335,     0.35435,     0.35536,     0.35636,     0.35736,     0.35836,     0.35936,\n",
       "           0.36036,     0.36136,     0.36236,     0.36336,     0.36436,     0.36537,     0.36637,     0.36737,     0.36837,     0.36937,     0.37037,     0.37137,     0.37237,     0.37337,     0.37437,     0.37538,     0.37638,     0.37738,     0.37838,     0.37938,     0.38038,     0.38138,     0.38238,     0.38338,\n",
       "           0.38438,     0.38539,     0.38639,     0.38739,     0.38839,     0.38939,     0.39039,     0.39139,     0.39239,     0.39339,     0.39439,      0.3954,      0.3964,      0.3974,      0.3984,      0.3994,      0.4004,      0.4014,      0.4024,      0.4034,      0.4044,     0.40541,     0.40641,     0.40741,\n",
       "           0.40841,     0.40941,     0.41041,     0.41141,     0.41241,     0.41341,     0.41441,     0.41542,     0.41642,     0.41742,     0.41842,     0.41942,     0.42042,     0.42142,     0.42242,     0.42342,     0.42442,     0.42543,     0.42643,     0.42743,     0.42843,     0.42943,     0.43043,     0.43143,\n",
       "           0.43243,     0.43343,     0.43443,     0.43544,     0.43644,     0.43744,     0.43844,     0.43944,     0.44044,     0.44144,     0.44244,     0.44344,     0.44444,     0.44545,     0.44645,     0.44745,     0.44845,     0.44945,     0.45045,     0.45145,     0.45245,     0.45345,     0.45445,     0.45546,\n",
       "           0.45646,     0.45746,     0.45846,     0.45946,     0.46046,     0.46146,     0.46246,     0.46346,     0.46446,     0.46547,     0.46647,     0.46747,     0.46847,     0.46947,     0.47047,     0.47147,     0.47247,     0.47347,     0.47447,     0.47548,     0.47648,     0.47748,     0.47848,     0.47948,\n",
       "           0.48048,     0.48148,     0.48248,     0.48348,     0.48448,     0.48549,     0.48649,     0.48749,     0.48849,     0.48949,     0.49049,     0.49149,     0.49249,     0.49349,     0.49449,      0.4955,      0.4965,      0.4975,      0.4985,      0.4995,      0.5005,      0.5015,      0.5025,      0.5035,\n",
       "            0.5045,     0.50551,     0.50651,     0.50751,     0.50851,     0.50951,     0.51051,     0.51151,     0.51251,     0.51351,     0.51451,     0.51552,     0.51652,     0.51752,     0.51852,     0.51952,     0.52052,     0.52152,     0.52252,     0.52352,     0.52452,     0.52553,     0.52653,     0.52753,\n",
       "           0.52853,     0.52953,     0.53053,     0.53153,     0.53253,     0.53353,     0.53453,     0.53554,     0.53654,     0.53754,     0.53854,     0.53954,     0.54054,     0.54154,     0.54254,     0.54354,     0.54454,     0.54555,     0.54655,     0.54755,     0.54855,     0.54955,     0.55055,     0.55155,\n",
       "           0.55255,     0.55355,     0.55455,     0.55556,     0.55656,     0.55756,     0.55856,     0.55956,     0.56056,     0.56156,     0.56256,     0.56356,     0.56456,     0.56557,     0.56657,     0.56757,     0.56857,     0.56957,     0.57057,     0.57157,     0.57257,     0.57357,     0.57457,     0.57558,\n",
       "           0.57658,     0.57758,     0.57858,     0.57958,     0.58058,     0.58158,     0.58258,     0.58358,     0.58458,     0.58559,     0.58659,     0.58759,     0.58859,     0.58959,     0.59059,     0.59159,     0.59259,     0.59359,     0.59459,      0.5956,      0.5966,      0.5976,      0.5986,      0.5996,\n",
       "            0.6006,      0.6016,      0.6026,      0.6036,      0.6046,     0.60561,     0.60661,     0.60761,     0.60861,     0.60961,     0.61061,     0.61161,     0.61261,     0.61361,     0.61461,     0.61562,     0.61662,     0.61762,     0.61862,     0.61962,     0.62062,     0.62162,     0.62262,     0.62362,\n",
       "           0.62462,     0.62563,     0.62663,     0.62763,     0.62863,     0.62963,     0.63063,     0.63163,     0.63263,     0.63363,     0.63463,     0.63564,     0.63664,     0.63764,     0.63864,     0.63964,     0.64064,     0.64164,     0.64264,     0.64364,     0.64464,     0.64565,     0.64665,     0.64765,\n",
       "           0.64865,     0.64965,     0.65065,     0.65165,     0.65265,     0.65365,     0.65465,     0.65566,     0.65666,     0.65766,     0.65866,     0.65966,     0.66066,     0.66166,     0.66266,     0.66366,     0.66466,     0.66567,     0.66667,     0.66767,     0.66867,     0.66967,     0.67067,     0.67167,\n",
       "           0.67267,     0.67367,     0.67467,     0.67568,     0.67668,     0.67768,     0.67868,     0.67968,     0.68068,     0.68168,     0.68268,     0.68368,     0.68468,     0.68569,     0.68669,     0.68769,     0.68869,     0.68969,     0.69069,     0.69169,     0.69269,     0.69369,     0.69469,      0.6957,\n",
       "            0.6967,      0.6977,      0.6987,      0.6997,      0.7007,      0.7017,      0.7027,      0.7037,      0.7047,     0.70571,     0.70671,     0.70771,     0.70871,     0.70971,     0.71071,     0.71171,     0.71271,     0.71371,     0.71471,     0.71572,     0.71672,     0.71772,     0.71872,     0.71972,\n",
       "           0.72072,     0.72172,     0.72272,     0.72372,     0.72472,     0.72573,     0.72673,     0.72773,     0.72873,     0.72973,     0.73073,     0.73173,     0.73273,     0.73373,     0.73473,     0.73574,     0.73674,     0.73774,     0.73874,     0.73974,     0.74074,     0.74174,     0.74274,     0.74374,\n",
       "           0.74474,     0.74575,     0.74675,     0.74775,     0.74875,     0.74975,     0.75075,     0.75175,     0.75275,     0.75375,     0.75475,     0.75576,     0.75676,     0.75776,     0.75876,     0.75976,     0.76076,     0.76176,     0.76276,     0.76376,     0.76476,     0.76577,     0.76677,     0.76777,\n",
       "           0.76877,     0.76977,     0.77077,     0.77177,     0.77277,     0.77377,     0.77477,     0.77578,     0.77678,     0.77778,     0.77878,     0.77978,     0.78078,     0.78178,     0.78278,     0.78378,     0.78478,     0.78579,     0.78679,     0.78779,     0.78879,     0.78979,     0.79079,     0.79179,\n",
       "           0.79279,     0.79379,     0.79479,      0.7958,      0.7968,      0.7978,      0.7988,      0.7998,      0.8008,      0.8018,      0.8028,      0.8038,      0.8048,     0.80581,     0.80681,     0.80781,     0.80881,     0.80981,     0.81081,     0.81181,     0.81281,     0.81381,     0.81481,     0.81582,\n",
       "           0.81682,     0.81782,     0.81882,     0.81982,     0.82082,     0.82182,     0.82282,     0.82382,     0.82482,     0.82583,     0.82683,     0.82783,     0.82883,     0.82983,     0.83083,     0.83183,     0.83283,     0.83383,     0.83483,     0.83584,     0.83684,     0.83784,     0.83884,     0.83984,\n",
       "           0.84084,     0.84184,     0.84284,     0.84384,     0.84484,     0.84585,     0.84685,     0.84785,     0.84885,     0.84985,     0.85085,     0.85185,     0.85285,     0.85385,     0.85485,     0.85586,     0.85686,     0.85786,     0.85886,     0.85986,     0.86086,     0.86186,     0.86286,     0.86386,\n",
       "           0.86486,     0.86587,     0.86687,     0.86787,     0.86887,     0.86987,     0.87087,     0.87187,     0.87287,     0.87387,     0.87487,     0.87588,     0.87688,     0.87788,     0.87888,     0.87988,     0.88088,     0.88188,     0.88288,     0.88388,     0.88488,     0.88589,     0.88689,     0.88789,\n",
       "           0.88889,     0.88989,     0.89089,     0.89189,     0.89289,     0.89389,     0.89489,      0.8959,      0.8969,      0.8979,      0.8989,      0.8999,      0.9009,      0.9019,      0.9029,      0.9039,      0.9049,     0.90591,     0.90691,     0.90791,     0.90891,     0.90991,     0.91091,     0.91191,\n",
       "           0.91291,     0.91391,     0.91491,     0.91592,     0.91692,     0.91792,     0.91892,     0.91992,     0.92092,     0.92192,     0.92292,     0.92392,     0.92492,     0.92593,     0.92693,     0.92793,     0.92893,     0.92993,     0.93093,     0.93193,     0.93293,     0.93393,     0.93493,     0.93594,\n",
       "           0.93694,     0.93794,     0.93894,     0.93994,     0.94094,     0.94194,     0.94294,     0.94394,     0.94494,     0.94595,     0.94695,     0.94795,     0.94895,     0.94995,     0.95095,     0.95195,     0.95295,     0.95395,     0.95495,     0.95596,     0.95696,     0.95796,     0.95896,     0.95996,\n",
       "           0.96096,     0.96196,     0.96296,     0.96396,     0.96496,     0.96597,     0.96697,     0.96797,     0.96897,     0.96997,     0.97097,     0.97197,     0.97297,     0.97397,     0.97497,     0.97598,     0.97698,     0.97798,     0.97898,     0.97998,     0.98098,     0.98198,     0.98298,     0.98398,\n",
       "           0.98498,     0.98599,     0.98699,     0.98799,     0.98899,     0.98999,     0.99099,     0.99199,     0.99299,     0.99399,     0.99499,       0.996,       0.997,       0.998,       0.999,           1]), array([[    0.38641,     0.38641,     0.46504,     0.50278,     0.54092,     0.55814,     0.57564,     0.58796,     0.59359,     0.59663,     0.61509,      0.6197,     0.62768,     0.62082,     0.62442,      0.6277,     0.62866,       0.635,     0.63977,     0.64075,     0.64172,      0.6467,     0.64753,\n",
       "            0.64836,     0.65519,     0.66307,     0.66655,     0.66168,     0.66387,     0.66542,     0.66787,     0.67453,     0.66945,     0.66988,     0.67031,     0.67074,     0.67117,      0.6716,     0.67215,     0.67421,     0.67618,     0.67867,     0.68574,     0.68728,     0.68906,     0.69269,\n",
       "            0.69511,     0.69625,     0.70034,     0.70636,     0.70886,     0.71004,     0.71121,      0.7158,     0.71999,     0.72314,     0.72656,     0.72881,     0.73053,     0.73124,     0.73195,     0.73265,     0.73336,     0.73485,      0.7368,     0.73864,     0.74149,     0.74532,     0.74692,\n",
       "            0.74744,     0.74795,     0.74846,     0.74897,     0.74948,     0.74999,     0.75366,     0.75769,     0.76089,     0.76504,     0.76815,       0.771,     0.77158,     0.77217,     0.77275,     0.77333,     0.77391,     0.77449,     0.77506,     0.77563,      0.7762,     0.77677,     0.77734,\n",
       "            0.78145,     0.78256,     0.78367,     0.78478,     0.78554,     0.78618,     0.78682,     0.78747,     0.78811,     0.78901,     0.79601,     0.79564,     0.79528,     0.79491,     0.79454,     0.79418,     0.79381,     0.79344,     0.79308,     0.79271,     0.79234,     0.79197,     0.79161,\n",
       "            0.79124,     0.79087,      0.7905,     0.79223,      0.7941,     0.79515,     0.79611,     0.79707,     0.79803,     0.79855,     0.79905,     0.79954,     0.80003,     0.80053,     0.80102,     0.80151,     0.80114,     0.79621,     0.79798,     0.79975,     0.80066,     0.80143,     0.80219,\n",
       "            0.80296,     0.80372,      0.8041,     0.80435,     0.80459,     0.80484,     0.80508,     0.80533,     0.80557,     0.80581,     0.80606,      0.8063,     0.80655,     0.80679,     0.80703,     0.80728,     0.80752,     0.80776,     0.80909,     0.81143,     0.81238,     0.81299,     0.81361,\n",
       "            0.81422,     0.81483,     0.81545,     0.81596,     0.81614,     0.81631,     0.81649,     0.81667,     0.81684,     0.81702,      0.8172,     0.81737,     0.81755,     0.81772,      0.8179,     0.81808,     0.81825,     0.81843,      0.8186,     0.81878,     0.81896,     0.81913,     0.81931,\n",
       "            0.81948,     0.81966,     0.81983,     0.82002,     0.82044,     0.82085,     0.82126,     0.82167,     0.82209,      0.8225,     0.82291,     0.82332,     0.82373,     0.82426,     0.82689,     0.82838,     0.82859,     0.82881,     0.82902,     0.82923,     0.82944,     0.82966,     0.82987,\n",
       "            0.83008,     0.83029,      0.8305,     0.83071,     0.83092,     0.83114,     0.83135,     0.83156,     0.83177,     0.83198,     0.83219,      0.8324,     0.83216,     0.83162,     0.83107,     0.83052,     0.82997,     0.82942,     0.82887,     0.82833,     0.82778,     0.82723,     0.82668,\n",
       "            0.82867,      0.8298,     0.82628,      0.8251,     0.82574,     0.82638,     0.82702,     0.82766,     0.82829,     0.82893,     0.83119,     0.83312,     0.83173,     0.83034,     0.82895,     0.82756,     0.82702,     0.82675,     0.82649,     0.82622,     0.82595,     0.82569,     0.82542,\n",
       "            0.82515,     0.82488,     0.82462,     0.82435,     0.82408,     0.82381,     0.82354,     0.82328,     0.82301,     0.82274,     0.82247,      0.8222,     0.82194,     0.82167,      0.8214,     0.82113,     0.82029,     0.81923,     0.81817,      0.8171,     0.81603,     0.81496,     0.81488,\n",
       "            0.81496,     0.81504,     0.81513,     0.81521,     0.81529,     0.81537,     0.81545,     0.81553,     0.81561,     0.81569,     0.81577,     0.81585,     0.81593,     0.81601,     0.81609,     0.81617,     0.81625,     0.81633,     0.81641,     0.81649,     0.81657,     0.81665,     0.81673,\n",
       "            0.81681,     0.81689,     0.81697,     0.81705,     0.81713,     0.81721,     0.81729,     0.81737,     0.81745,     0.81753,     0.81761,     0.81769,     0.81777,     0.81785,     0.81793,     0.81801,     0.81809,     0.81817,     0.81825,     0.81833,     0.81841,     0.81849,     0.81857,\n",
       "            0.81865,     0.81873,     0.81881,     0.81889,     0.81897,     0.81905,     0.81913,     0.81924,     0.81937,      0.8195,     0.81962,     0.81975,     0.81988,     0.82001,     0.82014,     0.82026,     0.82039,     0.82052,     0.82065,     0.82077,      0.8209,     0.82103,     0.82116,\n",
       "            0.82128,     0.82141,     0.82154,     0.82167,     0.82179,     0.82192,     0.82205,     0.82217,      0.8223,     0.82243,     0.82256,     0.82268,     0.82281,     0.82294,     0.82306,     0.82319,     0.82332,     0.82344,     0.82359,     0.82378,     0.82398,     0.82417,     0.82436,\n",
       "            0.82455,     0.82474,     0.82493,     0.82513,     0.82532,     0.82551,      0.8257,     0.82589,     0.82608,     0.82627,     0.82646,     0.82665,     0.82684,     0.82704,     0.82723,     0.82742,     0.82761,      0.8278,     0.82801,     0.82838,     0.82875,     0.82912,     0.82949,\n",
       "            0.82986,     0.83022,     0.83059,     0.83096,     0.83132,     0.83169,     0.83205,     0.83242,     0.83442,     0.83648,     0.83703,     0.83712,     0.83722,     0.83731,     0.83741,      0.8375,     0.83759,     0.83769,     0.83778,     0.83788,     0.83797,     0.83806,     0.83816,\n",
       "            0.83825,     0.83835,     0.83844,     0.83853,     0.83863,     0.83872,     0.83882,     0.83891,       0.839,      0.8391,     0.83919,     0.83929,     0.83938,     0.83947,     0.83957,     0.83966,     0.83975,     0.83985,     0.83994,     0.84003,     0.84013,     0.84022,     0.84032,\n",
       "            0.84041,      0.8405,      0.8406,     0.84069,     0.84078,     0.84088,     0.84097,     0.84106,     0.84116,     0.84125,     0.84134,     0.84144,     0.84153,     0.84177,     0.84201,     0.84225,     0.84249,     0.84273,     0.84297,     0.84321,     0.84345,     0.84369,     0.84393,\n",
       "            0.84417,     0.84441,     0.84465,     0.84489,     0.84513,     0.84537,     0.84561,     0.84585,     0.84609,     0.84579,     0.84529,     0.84479,     0.84429,     0.84379,     0.84329,     0.84278,     0.84228,     0.84178,     0.84127,     0.84077,     0.84027,     0.83976,      0.8391,\n",
       "            0.83844,     0.83778,     0.83712,     0.83646,      0.8358,     0.83514,     0.83447,     0.83381,     0.83329,     0.83313,     0.83296,      0.8328,     0.83264,     0.83248,     0.83231,     0.83215,     0.83199,     0.83183,     0.83166,      0.8315,     0.83134,     0.83118,     0.83101,\n",
       "            0.83085,     0.83069,     0.83052,     0.83036,      0.8302,     0.83004,     0.82987,     0.82971,     0.82955,     0.82938,     0.82922,     0.82906,     0.82889,     0.82873,     0.82857,      0.8284,     0.82824,     0.82808,     0.82791,     0.82775,     0.82759,     0.82742,     0.82726,\n",
       "             0.8271,     0.82693,     0.82697,      0.8275,     0.82803,     0.82856,     0.82909,     0.82962,     0.83014,     0.83067,      0.8312,      0.8316,     0.83188,     0.83215,     0.83243,      0.8327,     0.83298,     0.83326,     0.83353,     0.83381,     0.83408,     0.83436,     0.83463,\n",
       "            0.83491,     0.83518,     0.83545,     0.83573,       0.836,     0.83658,     0.83756,     0.83853,      0.8395,     0.84047,     0.84099,     0.84114,     0.84129,     0.84143,     0.84158,     0.84173,     0.84188,     0.84202,     0.84217,     0.84232,     0.84247,     0.84261,     0.84276,\n",
       "            0.84291,     0.84306,      0.8432,     0.84335,      0.8435,     0.84364,     0.84379,     0.84394,     0.84408,     0.84423,     0.84438,     0.84452,     0.84467,     0.84482,     0.84496,     0.84511,     0.84526,      0.8454,     0.84555,      0.8457,     0.84441,      0.8429,     0.84139,\n",
       "            0.83987,      0.8358,     0.83267,     0.83325,     0.83384,     0.83442,     0.83501,     0.83559,     0.83617,     0.83675,     0.83718,     0.83703,     0.83688,     0.83673,     0.83658,     0.83643,     0.83628,     0.83613,     0.83598,     0.83583,     0.83568,     0.83554,     0.83539,\n",
       "            0.83524,     0.83509,     0.83494,     0.83479,     0.83464,     0.83449,     0.83434,     0.83419,     0.83404,     0.83389,     0.83374,     0.83359,     0.83344,     0.83329,     0.83314,     0.83299,     0.83284,     0.83269,     0.83254,     0.83239,     0.83224,     0.83209,     0.83194,\n",
       "            0.83179,     0.83164,     0.83149,     0.83134,     0.83119,     0.83104,     0.83088,     0.83073,     0.83058,     0.83043,     0.83003,     0.82957,     0.82912,     0.82867,     0.82821,     0.82776,      0.8273,     0.82685,     0.82639,     0.82594,     0.82548,     0.82503,     0.82457,\n",
       "            0.82411,     0.82366,     0.82595,     0.82837,     0.82825,     0.82813,       0.828,     0.82788,     0.82776,     0.82763,     0.82751,     0.82739,     0.82727,     0.82714,     0.82702,      0.8269,     0.82677,     0.82665,     0.82653,     0.82641,     0.82628,     0.82616,     0.82604,\n",
       "            0.82591,     0.82579,     0.82567,     0.82554,     0.82542,      0.8253,     0.82517,     0.82505,     0.82493,     0.82481,     0.82468,     0.82456,     0.82444,     0.82431,     0.82419,     0.82407,     0.82394,     0.82382,     0.82369,     0.82357,     0.82345,     0.82332,      0.8232,\n",
       "            0.82308,     0.82295,     0.82283,     0.82271,     0.82258,     0.82246,     0.82234,     0.82221,     0.82209,     0.82196,     0.82184,     0.82172,     0.82159,     0.82147,     0.81654,     0.81407,     0.81364,     0.81321,     0.81278,     0.81235,     0.81192,     0.81149,     0.81106,\n",
       "            0.81063,      0.8102,     0.80977,     0.80934,     0.80891,     0.80848,     0.80804,     0.80761,     0.80719,     0.80681,     0.80643,     0.80605,     0.80567,     0.80529,     0.80491,     0.80453,     0.80415,     0.80377,     0.80339,     0.80301,     0.80263,     0.80225,     0.80187,\n",
       "            0.80149,     0.80111,     0.80073,     0.80035,     0.79991,     0.79891,     0.79792,     0.79692,     0.79592,     0.79492,     0.79391,     0.79291,     0.78681,     0.78481,     0.78422,     0.78363,     0.78304,     0.78245,     0.78186,     0.78127,     0.78067,     0.78008,     0.77949,\n",
       "             0.7789,      0.7783,     0.77775,     0.77753,     0.77731,     0.77709,     0.77687,     0.77665,     0.77642,      0.7762,     0.77598,     0.77576,     0.77554,     0.77532,     0.77509,     0.77487,     0.77465,     0.77443,      0.7742,     0.77398,     0.77376,     0.77354,     0.77332,\n",
       "            0.77309,     0.77287,     0.77265,     0.77242,      0.7722,     0.77198,     0.77176,     0.77153,     0.77131,     0.77109,     0.77086,     0.77064,     0.77042,     0.77019,     0.77044,      0.7707,     0.77096,     0.77122,     0.77149,     0.77175,     0.77201,     0.77227,     0.77253,\n",
       "            0.77279,     0.77305,      0.7733,     0.77356,     0.77382,     0.77408,     0.77434,      0.7746,     0.77485,     0.77718,     0.78081,     0.78284,     0.78481,     0.78497,     0.78513,     0.78529,     0.78545,     0.78561,     0.78577,     0.78593,     0.78608,     0.78624,      0.7864,\n",
       "            0.78656,     0.78672,     0.78687,     0.78703,     0.78719,     0.78735,     0.78751,     0.78766,     0.78782,     0.78798,     0.78813,     0.78829,     0.78845,     0.78861,     0.78876,     0.78892,     0.78908,     0.78923,     0.78939,     0.78955,      0.7897,     0.78962,     0.78901,\n",
       "             0.7884,     0.78779,     0.78718,     0.78657,     0.78596,     0.78535,     0.78473,     0.78412,     0.78351,     0.78289,     0.78228,     0.78036,     0.77768,     0.77499,     0.77256,     0.77023,      0.7679,     0.76698,     0.76956,     0.76283,     0.76184,     0.76086,     0.75987,\n",
       "            0.75889,      0.7579,     0.75691,     0.75591,     0.75481,     0.75142,     0.74801,     0.74572,     0.74416,     0.74259,     0.74102,     0.73945,     0.73787,     0.73629,     0.73471,     0.73312,     0.73153,     0.72993,     0.72896,     0.72808,     0.72719,     0.72631,     0.72543,\n",
       "            0.72454,     0.72365,     0.72276,     0.72187,     0.71894,     0.71176,     0.71085,     0.70994,     0.70904,     0.70813,     0.70722,      0.7063,     0.70539,     0.70448,     0.70356,     0.68475,      0.6833,     0.68184,     0.68038,     0.67892,     0.67746,     0.67594,     0.67355,\n",
       "            0.67115,     0.66874,     0.65657,     0.65262,     0.64865,     0.63547,     0.61596,     0.60896,     0.60576,     0.60363,     0.60151,     0.59937,     0.59723,     0.59313,      0.5888,     0.58445,     0.58006,     0.56462,      0.5533,     0.52955,     0.50764,      0.5046,     0.50155,\n",
       "            0.49848,     0.49119,     0.46968,     0.46112,     0.44917,     0.42283,     0.40239,     0.38351,     0.34726,     0.33727,     0.32256,     0.26089,     0.24341,     0.22642,     0.19145,     0.15507,    0.078709,    0.049801,    0.033135,           0,           0,           0,           0,\n",
       "                  0,           0,           0,           0,           0,           0,           0,           0,           0,           0,           0]]), 'Confidence', 'F1'], [array([          0,    0.001001,    0.002002,    0.003003,    0.004004,    0.005005,    0.006006,    0.007007,    0.008008,    0.009009,     0.01001,    0.011011,    0.012012,    0.013013,    0.014014,    0.015015,    0.016016,    0.017017,    0.018018,    0.019019,     0.02002,    0.021021,    0.022022,    0.023023,\n",
       "          0.024024,    0.025025,    0.026026,    0.027027,    0.028028,    0.029029,     0.03003,    0.031031,    0.032032,    0.033033,    0.034034,    0.035035,    0.036036,    0.037037,    0.038038,    0.039039,     0.04004,    0.041041,    0.042042,    0.043043,    0.044044,    0.045045,    0.046046,    0.047047,\n",
       "          0.048048,    0.049049,     0.05005,    0.051051,    0.052052,    0.053053,    0.054054,    0.055055,    0.056056,    0.057057,    0.058058,    0.059059,     0.06006,    0.061061,    0.062062,    0.063063,    0.064064,    0.065065,    0.066066,    0.067067,    0.068068,    0.069069,     0.07007,    0.071071,\n",
       "          0.072072,    0.073073,    0.074074,    0.075075,    0.076076,    0.077077,    0.078078,    0.079079,     0.08008,    0.081081,    0.082082,    0.083083,    0.084084,    0.085085,    0.086086,    0.087087,    0.088088,    0.089089,     0.09009,    0.091091,    0.092092,    0.093093,    0.094094,    0.095095,\n",
       "          0.096096,    0.097097,    0.098098,    0.099099,      0.1001,      0.1011,      0.1021,      0.1031,      0.1041,     0.10511,     0.10611,     0.10711,     0.10811,     0.10911,     0.11011,     0.11111,     0.11211,     0.11311,     0.11411,     0.11512,     0.11612,     0.11712,     0.11812,     0.11912,\n",
       "           0.12012,     0.12112,     0.12212,     0.12312,     0.12412,     0.12513,     0.12613,     0.12713,     0.12813,     0.12913,     0.13013,     0.13113,     0.13213,     0.13313,     0.13413,     0.13514,     0.13614,     0.13714,     0.13814,     0.13914,     0.14014,     0.14114,     0.14214,     0.14314,\n",
       "           0.14414,     0.14515,     0.14615,     0.14715,     0.14815,     0.14915,     0.15015,     0.15115,     0.15215,     0.15315,     0.15415,     0.15516,     0.15616,     0.15716,     0.15816,     0.15916,     0.16016,     0.16116,     0.16216,     0.16316,     0.16416,     0.16517,     0.16617,     0.16717,\n",
       "           0.16817,     0.16917,     0.17017,     0.17117,     0.17217,     0.17317,     0.17417,     0.17518,     0.17618,     0.17718,     0.17818,     0.17918,     0.18018,     0.18118,     0.18218,     0.18318,     0.18418,     0.18519,     0.18619,     0.18719,     0.18819,     0.18919,     0.19019,     0.19119,\n",
       "           0.19219,     0.19319,     0.19419,      0.1952,      0.1962,      0.1972,      0.1982,      0.1992,      0.2002,      0.2012,      0.2022,      0.2032,      0.2042,     0.20521,     0.20621,     0.20721,     0.20821,     0.20921,     0.21021,     0.21121,     0.21221,     0.21321,     0.21421,     0.21522,\n",
       "           0.21622,     0.21722,     0.21822,     0.21922,     0.22022,     0.22122,     0.22222,     0.22322,     0.22422,     0.22523,     0.22623,     0.22723,     0.22823,     0.22923,     0.23023,     0.23123,     0.23223,     0.23323,     0.23423,     0.23524,     0.23624,     0.23724,     0.23824,     0.23924,\n",
       "           0.24024,     0.24124,     0.24224,     0.24324,     0.24424,     0.24525,     0.24625,     0.24725,     0.24825,     0.24925,     0.25025,     0.25125,     0.25225,     0.25325,     0.25425,     0.25526,     0.25626,     0.25726,     0.25826,     0.25926,     0.26026,     0.26126,     0.26226,     0.26326,\n",
       "           0.26426,     0.26527,     0.26627,     0.26727,     0.26827,     0.26927,     0.27027,     0.27127,     0.27227,     0.27327,     0.27427,     0.27528,     0.27628,     0.27728,     0.27828,     0.27928,     0.28028,     0.28128,     0.28228,     0.28328,     0.28428,     0.28529,     0.28629,     0.28729,\n",
       "           0.28829,     0.28929,     0.29029,     0.29129,     0.29229,     0.29329,     0.29429,      0.2953,      0.2963,      0.2973,      0.2983,      0.2993,      0.3003,      0.3013,      0.3023,      0.3033,      0.3043,     0.30531,     0.30631,     0.30731,     0.30831,     0.30931,     0.31031,     0.31131,\n",
       "           0.31231,     0.31331,     0.31431,     0.31532,     0.31632,     0.31732,     0.31832,     0.31932,     0.32032,     0.32132,     0.32232,     0.32332,     0.32432,     0.32533,     0.32633,     0.32733,     0.32833,     0.32933,     0.33033,     0.33133,     0.33233,     0.33333,     0.33433,     0.33534,\n",
       "           0.33634,     0.33734,     0.33834,     0.33934,     0.34034,     0.34134,     0.34234,     0.34334,     0.34434,     0.34535,     0.34635,     0.34735,     0.34835,     0.34935,     0.35035,     0.35135,     0.35235,     0.35335,     0.35435,     0.35536,     0.35636,     0.35736,     0.35836,     0.35936,\n",
       "           0.36036,     0.36136,     0.36236,     0.36336,     0.36436,     0.36537,     0.36637,     0.36737,     0.36837,     0.36937,     0.37037,     0.37137,     0.37237,     0.37337,     0.37437,     0.37538,     0.37638,     0.37738,     0.37838,     0.37938,     0.38038,     0.38138,     0.38238,     0.38338,\n",
       "           0.38438,     0.38539,     0.38639,     0.38739,     0.38839,     0.38939,     0.39039,     0.39139,     0.39239,     0.39339,     0.39439,      0.3954,      0.3964,      0.3974,      0.3984,      0.3994,      0.4004,      0.4014,      0.4024,      0.4034,      0.4044,     0.40541,     0.40641,     0.40741,\n",
       "           0.40841,     0.40941,     0.41041,     0.41141,     0.41241,     0.41341,     0.41441,     0.41542,     0.41642,     0.41742,     0.41842,     0.41942,     0.42042,     0.42142,     0.42242,     0.42342,     0.42442,     0.42543,     0.42643,     0.42743,     0.42843,     0.42943,     0.43043,     0.43143,\n",
       "           0.43243,     0.43343,     0.43443,     0.43544,     0.43644,     0.43744,     0.43844,     0.43944,     0.44044,     0.44144,     0.44244,     0.44344,     0.44444,     0.44545,     0.44645,     0.44745,     0.44845,     0.44945,     0.45045,     0.45145,     0.45245,     0.45345,     0.45445,     0.45546,\n",
       "           0.45646,     0.45746,     0.45846,     0.45946,     0.46046,     0.46146,     0.46246,     0.46346,     0.46446,     0.46547,     0.46647,     0.46747,     0.46847,     0.46947,     0.47047,     0.47147,     0.47247,     0.47347,     0.47447,     0.47548,     0.47648,     0.47748,     0.47848,     0.47948,\n",
       "           0.48048,     0.48148,     0.48248,     0.48348,     0.48448,     0.48549,     0.48649,     0.48749,     0.48849,     0.48949,     0.49049,     0.49149,     0.49249,     0.49349,     0.49449,      0.4955,      0.4965,      0.4975,      0.4985,      0.4995,      0.5005,      0.5015,      0.5025,      0.5035,\n",
       "            0.5045,     0.50551,     0.50651,     0.50751,     0.50851,     0.50951,     0.51051,     0.51151,     0.51251,     0.51351,     0.51451,     0.51552,     0.51652,     0.51752,     0.51852,     0.51952,     0.52052,     0.52152,     0.52252,     0.52352,     0.52452,     0.52553,     0.52653,     0.52753,\n",
       "           0.52853,     0.52953,     0.53053,     0.53153,     0.53253,     0.53353,     0.53453,     0.53554,     0.53654,     0.53754,     0.53854,     0.53954,     0.54054,     0.54154,     0.54254,     0.54354,     0.54454,     0.54555,     0.54655,     0.54755,     0.54855,     0.54955,     0.55055,     0.55155,\n",
       "           0.55255,     0.55355,     0.55455,     0.55556,     0.55656,     0.55756,     0.55856,     0.55956,     0.56056,     0.56156,     0.56256,     0.56356,     0.56456,     0.56557,     0.56657,     0.56757,     0.56857,     0.56957,     0.57057,     0.57157,     0.57257,     0.57357,     0.57457,     0.57558,\n",
       "           0.57658,     0.57758,     0.57858,     0.57958,     0.58058,     0.58158,     0.58258,     0.58358,     0.58458,     0.58559,     0.58659,     0.58759,     0.58859,     0.58959,     0.59059,     0.59159,     0.59259,     0.59359,     0.59459,      0.5956,      0.5966,      0.5976,      0.5986,      0.5996,\n",
       "            0.6006,      0.6016,      0.6026,      0.6036,      0.6046,     0.60561,     0.60661,     0.60761,     0.60861,     0.60961,     0.61061,     0.61161,     0.61261,     0.61361,     0.61461,     0.61562,     0.61662,     0.61762,     0.61862,     0.61962,     0.62062,     0.62162,     0.62262,     0.62362,\n",
       "           0.62462,     0.62563,     0.62663,     0.62763,     0.62863,     0.62963,     0.63063,     0.63163,     0.63263,     0.63363,     0.63463,     0.63564,     0.63664,     0.63764,     0.63864,     0.63964,     0.64064,     0.64164,     0.64264,     0.64364,     0.64464,     0.64565,     0.64665,     0.64765,\n",
       "           0.64865,     0.64965,     0.65065,     0.65165,     0.65265,     0.65365,     0.65465,     0.65566,     0.65666,     0.65766,     0.65866,     0.65966,     0.66066,     0.66166,     0.66266,     0.66366,     0.66466,     0.66567,     0.66667,     0.66767,     0.66867,     0.66967,     0.67067,     0.67167,\n",
       "           0.67267,     0.67367,     0.67467,     0.67568,     0.67668,     0.67768,     0.67868,     0.67968,     0.68068,     0.68168,     0.68268,     0.68368,     0.68468,     0.68569,     0.68669,     0.68769,     0.68869,     0.68969,     0.69069,     0.69169,     0.69269,     0.69369,     0.69469,      0.6957,\n",
       "            0.6967,      0.6977,      0.6987,      0.6997,      0.7007,      0.7017,      0.7027,      0.7037,      0.7047,     0.70571,     0.70671,     0.70771,     0.70871,     0.70971,     0.71071,     0.71171,     0.71271,     0.71371,     0.71471,     0.71572,     0.71672,     0.71772,     0.71872,     0.71972,\n",
       "           0.72072,     0.72172,     0.72272,     0.72372,     0.72472,     0.72573,     0.72673,     0.72773,     0.72873,     0.72973,     0.73073,     0.73173,     0.73273,     0.73373,     0.73473,     0.73574,     0.73674,     0.73774,     0.73874,     0.73974,     0.74074,     0.74174,     0.74274,     0.74374,\n",
       "           0.74474,     0.74575,     0.74675,     0.74775,     0.74875,     0.74975,     0.75075,     0.75175,     0.75275,     0.75375,     0.75475,     0.75576,     0.75676,     0.75776,     0.75876,     0.75976,     0.76076,     0.76176,     0.76276,     0.76376,     0.76476,     0.76577,     0.76677,     0.76777,\n",
       "           0.76877,     0.76977,     0.77077,     0.77177,     0.77277,     0.77377,     0.77477,     0.77578,     0.77678,     0.77778,     0.77878,     0.77978,     0.78078,     0.78178,     0.78278,     0.78378,     0.78478,     0.78579,     0.78679,     0.78779,     0.78879,     0.78979,     0.79079,     0.79179,\n",
       "           0.79279,     0.79379,     0.79479,      0.7958,      0.7968,      0.7978,      0.7988,      0.7998,      0.8008,      0.8018,      0.8028,      0.8038,      0.8048,     0.80581,     0.80681,     0.80781,     0.80881,     0.80981,     0.81081,     0.81181,     0.81281,     0.81381,     0.81481,     0.81582,\n",
       "           0.81682,     0.81782,     0.81882,     0.81982,     0.82082,     0.82182,     0.82282,     0.82382,     0.82482,     0.82583,     0.82683,     0.82783,     0.82883,     0.82983,     0.83083,     0.83183,     0.83283,     0.83383,     0.83483,     0.83584,     0.83684,     0.83784,     0.83884,     0.83984,\n",
       "           0.84084,     0.84184,     0.84284,     0.84384,     0.84484,     0.84585,     0.84685,     0.84785,     0.84885,     0.84985,     0.85085,     0.85185,     0.85285,     0.85385,     0.85485,     0.85586,     0.85686,     0.85786,     0.85886,     0.85986,     0.86086,     0.86186,     0.86286,     0.86386,\n",
       "           0.86486,     0.86587,     0.86687,     0.86787,     0.86887,     0.86987,     0.87087,     0.87187,     0.87287,     0.87387,     0.87487,     0.87588,     0.87688,     0.87788,     0.87888,     0.87988,     0.88088,     0.88188,     0.88288,     0.88388,     0.88488,     0.88589,     0.88689,     0.88789,\n",
       "           0.88889,     0.88989,     0.89089,     0.89189,     0.89289,     0.89389,     0.89489,      0.8959,      0.8969,      0.8979,      0.8989,      0.8999,      0.9009,      0.9019,      0.9029,      0.9039,      0.9049,     0.90591,     0.90691,     0.90791,     0.90891,     0.90991,     0.91091,     0.91191,\n",
       "           0.91291,     0.91391,     0.91491,     0.91592,     0.91692,     0.91792,     0.91892,     0.91992,     0.92092,     0.92192,     0.92292,     0.92392,     0.92492,     0.92593,     0.92693,     0.92793,     0.92893,     0.92993,     0.93093,     0.93193,     0.93293,     0.93393,     0.93493,     0.93594,\n",
       "           0.93694,     0.93794,     0.93894,     0.93994,     0.94094,     0.94194,     0.94294,     0.94394,     0.94494,     0.94595,     0.94695,     0.94795,     0.94895,     0.94995,     0.95095,     0.95195,     0.95295,     0.95395,     0.95495,     0.95596,     0.95696,     0.95796,     0.95896,     0.95996,\n",
       "           0.96096,     0.96196,     0.96296,     0.96396,     0.96496,     0.96597,     0.96697,     0.96797,     0.96897,     0.96997,     0.97097,     0.97197,     0.97297,     0.97397,     0.97497,     0.97598,     0.97698,     0.97798,     0.97898,     0.97998,     0.98098,     0.98198,     0.98298,     0.98398,\n",
       "           0.98498,     0.98599,     0.98699,     0.98799,     0.98899,     0.98999,     0.99099,     0.99199,     0.99299,     0.99399,     0.99499,       0.996,       0.997,       0.998,       0.999,           1]), array([[    0.24138,     0.24138,     0.30602,      0.3409,     0.37694,     0.39388,     0.41153,     0.42424,     0.43231,     0.43554,      0.4555,     0.46058,     0.46945,     0.46705,     0.47114,     0.47488,     0.47885,     0.48624,     0.49186,     0.49301,     0.49417,      0.5001,     0.50109,\n",
       "            0.50209,     0.51033,     0.51996,     0.52432,     0.52159,     0.52445,     0.52639,     0.52946,     0.53793,     0.53519,     0.53575,      0.5363,     0.53685,      0.5374,     0.53795,     0.53866,     0.54131,     0.54385,     0.54708,     0.55633,     0.55836,     0.56071,     0.56553,\n",
       "            0.56877,      0.5703,      0.5758,     0.58399,     0.58741,     0.58903,     0.59065,     0.59701,     0.60286,     0.60728,     0.61213,     0.61532,     0.61778,      0.6188,     0.61981,     0.62083,     0.62184,     0.62398,      0.6268,     0.62947,     0.63363,     0.63924,      0.6416,\n",
       "            0.64236,     0.64311,     0.64387,     0.64462,     0.64538,     0.64614,      0.6516,     0.65765,     0.66249,     0.66881,     0.67358,     0.67797,     0.67888,     0.67978,     0.68068,     0.68158,     0.68249,     0.68339,     0.68428,     0.68517,     0.68606,     0.68695,     0.68784,\n",
       "             0.6943,     0.69606,     0.69782,     0.69958,     0.70078,      0.7018,     0.70283,     0.70386,     0.70488,     0.70632,     0.71786,     0.71771,     0.71755,      0.7174,     0.71724,     0.71709,     0.71693,     0.71677,     0.71662,     0.71646,     0.71631,     0.71615,       0.716,\n",
       "            0.71584,     0.71568,     0.71553,     0.71839,     0.72148,      0.7232,      0.7248,      0.7264,       0.728,     0.72886,     0.72968,     0.73051,     0.73133,     0.73216,     0.73299,     0.73381,     0.73419,      0.7323,      0.7353,     0.73831,     0.73986,     0.74117,     0.74248,\n",
       "             0.7438,     0.74511,     0.74576,     0.74619,     0.74661,     0.74703,     0.74745,     0.74787,     0.74829,     0.74872,     0.74914,     0.74956,     0.74998,      0.7504,     0.75082,     0.75125,     0.75167,     0.75209,      0.7544,     0.75848,     0.76013,     0.76121,     0.76229,\n",
       "            0.76336,     0.76444,     0.76552,     0.76642,     0.76674,     0.76705,     0.76736,     0.76767,     0.76799,      0.7683,     0.76861,     0.76892,     0.76923,     0.76955,     0.76986,     0.77017,     0.77048,     0.77079,     0.77111,     0.77142,     0.77173,     0.77204,     0.77235,\n",
       "            0.77267,     0.77298,     0.77329,     0.77362,     0.77436,      0.7751,     0.77583,     0.77657,     0.77731,     0.77804,     0.77878,     0.77952,     0.78026,     0.78121,     0.78594,     0.78864,     0.78903,     0.78941,      0.7898,     0.79018,     0.79057,     0.79095,     0.79134,\n",
       "            0.79172,     0.79211,     0.79249,     0.79288,     0.79326,     0.79365,     0.79403,     0.79442,      0.7948,     0.79519,     0.79557,     0.79596,     0.79601,     0.79582,     0.79564,     0.79546,     0.79527,     0.79509,      0.7949,     0.79472,     0.79453,     0.79435,     0.79417,\n",
       "            0.79808,     0.80166,      0.8005,     0.80068,     0.80189,     0.80309,      0.8043,      0.8055,     0.80671,     0.80791,     0.81223,     0.81626,     0.81583,      0.8154,     0.81497,     0.81454,     0.81437,     0.81429,      0.8142,     0.81412,     0.81403,     0.81395,     0.81387,\n",
       "            0.81378,      0.8137,     0.81361,     0.81353,     0.81345,     0.81336,     0.81328,     0.81319,     0.81311,     0.81303,     0.81294,     0.81286,     0.81278,     0.81269,     0.81261,     0.81252,     0.81226,     0.81192,     0.81158,     0.81125,     0.81091,     0.81057,     0.81066,\n",
       "            0.81082,     0.81098,     0.81114,      0.8113,     0.81146,     0.81162,     0.81178,     0.81194,      0.8121,     0.81226,     0.81242,     0.81257,     0.81273,     0.81289,     0.81305,     0.81321,     0.81337,     0.81353,     0.81369,     0.81385,     0.81401,     0.81417,     0.81433,\n",
       "            0.81449,     0.81464,      0.8148,     0.81496,     0.81512,     0.81528,     0.81544,      0.8156,     0.81576,     0.81592,     0.81608,     0.81624,      0.8164,     0.81656,     0.81671,     0.81687,     0.81703,     0.81719,     0.81735,     0.81751,     0.81767,     0.81783,     0.81799,\n",
       "            0.81815,     0.81831,     0.81847,     0.81863,     0.81879,     0.81894,      0.8191,     0.81933,     0.81959,     0.81984,      0.8201,     0.82036,     0.82061,     0.82087,     0.82113,     0.82138,     0.82164,     0.82189,     0.82215,     0.82241,     0.82266,     0.82292,     0.82317,\n",
       "            0.82343,     0.82369,     0.82394,      0.8242,     0.82445,     0.82471,     0.82497,     0.82522,     0.82548,     0.82574,     0.82599,     0.82625,      0.8265,     0.82676,     0.82702,     0.82727,     0.82753,     0.82778,     0.82808,     0.82847,     0.82886,     0.82925,     0.82964,\n",
       "            0.83003,     0.83041,      0.8308,     0.83119,     0.83158,     0.83197,     0.83236,     0.83274,     0.83313,     0.83352,     0.83391,      0.8343,     0.83469,     0.83507,     0.83546,     0.83585,     0.83624,     0.83663,     0.83707,     0.83783,     0.83858,     0.83934,     0.84009,\n",
       "            0.84084,      0.8416,     0.84235,     0.84311,     0.84386,     0.84462,     0.84537,     0.84612,     0.85027,     0.85455,     0.85571,      0.8559,      0.8561,      0.8563,     0.85649,     0.85669,     0.85689,     0.85709,     0.85728,     0.85748,     0.85768,     0.85787,     0.85807,\n",
       "            0.85827,     0.85847,     0.85866,     0.85886,     0.85906,     0.85925,     0.85945,     0.85965,     0.85984,     0.86004,     0.86024,     0.86044,     0.86063,     0.86083,     0.86103,     0.86122,     0.86142,     0.86162,     0.86182,     0.86201,     0.86221,     0.86241,      0.8626,\n",
       "             0.8628,       0.863,      0.8632,     0.86339,     0.86359,     0.86379,     0.86398,     0.86418,     0.86438,     0.86457,     0.86477,     0.86497,     0.86517,     0.86567,     0.86618,     0.86669,      0.8672,     0.86771,     0.86822,     0.86873,     0.86924,     0.86975,     0.87026,\n",
       "            0.87077,     0.87128,     0.87179,     0.87231,     0.87282,     0.87333,     0.87384,     0.87435,     0.87486,     0.87492,     0.87481,     0.87469,     0.87458,     0.87447,     0.87435,     0.87424,     0.87413,     0.87401,      0.8739,     0.87379,     0.87367,     0.87356,     0.87341,\n",
       "            0.87326,     0.87311,     0.87295,      0.8728,     0.87265,      0.8725,     0.87235,      0.8722,     0.87208,     0.87204,     0.87201,     0.87197,     0.87193,     0.87189,     0.87186,     0.87182,     0.87178,     0.87174,     0.87171,     0.87167,     0.87163,     0.87159,     0.87156,\n",
       "            0.87152,     0.87148,     0.87144,     0.87141,     0.87137,     0.87133,     0.87129,     0.87125,     0.87122,     0.87118,     0.87114,      0.8711,     0.87107,     0.87103,     0.87099,     0.87095,     0.87092,     0.87088,     0.87084,      0.8708,     0.87077,     0.87073,     0.87069,\n",
       "            0.87065,     0.87062,     0.87092,      0.8721,     0.87328,     0.87446,     0.87564,     0.87682,       0.878,     0.87918,     0.88036,     0.88126,     0.88189,     0.88251,     0.88313,     0.88375,     0.88437,     0.88499,     0.88562,     0.88624,     0.88686,     0.88748,      0.8881,\n",
       "            0.88872,     0.88935,     0.88997,     0.89059,     0.89121,     0.89252,     0.89475,     0.89698,     0.89921,     0.90144,     0.90263,     0.90297,     0.90331,     0.90365,     0.90399,     0.90433,     0.90467,     0.90501,     0.90535,     0.90569,     0.90604,     0.90638,     0.90672,\n",
       "            0.90706,      0.9074,     0.90774,     0.90808,     0.90842,     0.90876,      0.9091,     0.90944,     0.90979,     0.91013,     0.91047,     0.91081,     0.91115,     0.91149,     0.91183,     0.91217,     0.91251,     0.91285,     0.91319,     0.91354,     0.91337,     0.91312,     0.91287,\n",
       "            0.91263,     0.91196,      0.9121,     0.91351,     0.91492,     0.91633,     0.91774,     0.91915,     0.92055,     0.92196,     0.92307,     0.92305,     0.92303,     0.92301,     0.92298,     0.92296,     0.92294,     0.92292,      0.9229,     0.92287,     0.92285,     0.92283,     0.92281,\n",
       "            0.92279,     0.92276,     0.92274,     0.92272,      0.9227,     0.92268,     0.92265,     0.92263,     0.92261,     0.92259,     0.92257,     0.92254,     0.92252,      0.9225,     0.92248,     0.92246,     0.92243,     0.92241,     0.92239,     0.92237,     0.92235,     0.92232,      0.9223,\n",
       "            0.92228,     0.92226,     0.92224,     0.92221,     0.92219,     0.92217,     0.92215,     0.92213,      0.9221,     0.92208,     0.92202,     0.92195,     0.92189,     0.92182,     0.92175,     0.92168,     0.92161,     0.92155,     0.92148,     0.92141,     0.92134,     0.92127,     0.92121,\n",
       "            0.92114,     0.92107,     0.92713,     0.93333,     0.93331,      0.9333,     0.93328,     0.93327,     0.93325,     0.93323,     0.93322,      0.9332,     0.93319,     0.93317,     0.93315,     0.93314,     0.93312,     0.93311,     0.93309,     0.93307,     0.93306,     0.93304,     0.93303,\n",
       "            0.93301,     0.93299,     0.93298,     0.93296,     0.93295,     0.93293,     0.93292,      0.9329,     0.93288,     0.93287,     0.93285,     0.93284,     0.93282,      0.9328,     0.93279,     0.93277,     0.93276,     0.93274,     0.93272,     0.93271,     0.93269,     0.93268,     0.93266,\n",
       "            0.93264,     0.93263,     0.93261,      0.9326,     0.93258,     0.93256,     0.93255,     0.93253,     0.93252,      0.9325,     0.93249,     0.93247,     0.93245,     0.93244,     0.93179,     0.93147,     0.93141,     0.93135,     0.93129,     0.93124,     0.93118,     0.93112,     0.93107,\n",
       "            0.93101,     0.93095,     0.93089,     0.93084,     0.93078,     0.93072,     0.93066,     0.93061,     0.93055,      0.9305,     0.93045,      0.9304,     0.93034,     0.93029,     0.93024,     0.93019,     0.93014,     0.93009,     0.93004,     0.92998,     0.92993,     0.92988,     0.92983,\n",
       "            0.92978,     0.92973,     0.92968,     0.92962,     0.92956,     0.92943,     0.92929,     0.92915,     0.92901,     0.92888,     0.92874,      0.9286,     0.92775,     0.92747,     0.92739,      0.9273,     0.92722,     0.92713,     0.92705,     0.92696,     0.92688,      0.9268,     0.92671,\n",
       "            0.92663,     0.92654,     0.92647,     0.92643,      0.9264,     0.92637,     0.92634,     0.92631,     0.92627,     0.92624,     0.92621,     0.92618,     0.92615,     0.92611,     0.92608,     0.92605,     0.92602,     0.92598,     0.92595,     0.92592,     0.92589,     0.92586,     0.92582,\n",
       "            0.92579,     0.92576,     0.92573,      0.9257,     0.92566,     0.92563,      0.9256,     0.92557,     0.92553,      0.9255,     0.92547,     0.92544,     0.92541,     0.92537,     0.92611,     0.92686,     0.92762,     0.92838,     0.92913,     0.92989,     0.93065,      0.9314,     0.93216,\n",
       "            0.93292,     0.93367,     0.93443,     0.93518,     0.93594,      0.9367,     0.93745,     0.93821,     0.93897,     0.94584,     0.95665,     0.96276,     0.96876,     0.96924,     0.96973,     0.97021,      0.9707,     0.97118,     0.97167,     0.97215,     0.97264,     0.97312,     0.97361,\n",
       "            0.97409,     0.97458,     0.97506,     0.97555,     0.97603,     0.97652,       0.977,     0.97749,     0.97797,     0.97846,     0.97894,     0.97943,     0.97991,      0.9804,     0.98088,     0.98137,     0.98185,     0.98234,     0.98282,     0.98331,     0.98379,     0.98412,      0.9841,\n",
       "            0.98408,     0.98406,     0.98404,     0.98402,       0.984,     0.98398,     0.98396,     0.98394,     0.98392,      0.9839,     0.98388,     0.98381,     0.98372,     0.98363,     0.98355,     0.98347,     0.98339,     0.98581,     0.99435,           1,           1,           1,           1,\n",
       "                  1,           1,           1,           1,           1,           1,           1,           1,           1,           1,           1,           1,           1,           1,           1,           1,           1,           1,           1,           1,           1,           1,           1,\n",
       "                  1,           1,           1,           1,           1,           1,           1,           1,           1,           1,           1,           1,           1,           1,           1,           1,           1,           1,           1,           1,           1,           1,           1,\n",
       "                  1,           1,           1,           1,           1,           1,           1,           1,           1,           1,           1,           1,           1,           1,           1,           1,           1,           1,           1,           1,           1,           1,           1,\n",
       "                  1,           1,           1,           1,           1,           1,           1,           1,           1,           1,           1,           1,           1,           1,           1,           1,           1,           1,           1,           1,           1,           1,           1,\n",
       "                  1,           1,           1,           1,           1,           1,           1,           1,           1,           1,           1]]), 'Confidence', 'Precision'], [array([          0,    0.001001,    0.002002,    0.003003,    0.004004,    0.005005,    0.006006,    0.007007,    0.008008,    0.009009,     0.01001,    0.011011,    0.012012,    0.013013,    0.014014,    0.015015,    0.016016,    0.017017,    0.018018,    0.019019,     0.02002,    0.021021,    0.022022,    0.023023,\n",
       "          0.024024,    0.025025,    0.026026,    0.027027,    0.028028,    0.029029,     0.03003,    0.031031,    0.032032,    0.033033,    0.034034,    0.035035,    0.036036,    0.037037,    0.038038,    0.039039,     0.04004,    0.041041,    0.042042,    0.043043,    0.044044,    0.045045,    0.046046,    0.047047,\n",
       "          0.048048,    0.049049,     0.05005,    0.051051,    0.052052,    0.053053,    0.054054,    0.055055,    0.056056,    0.057057,    0.058058,    0.059059,     0.06006,    0.061061,    0.062062,    0.063063,    0.064064,    0.065065,    0.066066,    0.067067,    0.068068,    0.069069,     0.07007,    0.071071,\n",
       "          0.072072,    0.073073,    0.074074,    0.075075,    0.076076,    0.077077,    0.078078,    0.079079,     0.08008,    0.081081,    0.082082,    0.083083,    0.084084,    0.085085,    0.086086,    0.087087,    0.088088,    0.089089,     0.09009,    0.091091,    0.092092,    0.093093,    0.094094,    0.095095,\n",
       "          0.096096,    0.097097,    0.098098,    0.099099,      0.1001,      0.1011,      0.1021,      0.1031,      0.1041,     0.10511,     0.10611,     0.10711,     0.10811,     0.10911,     0.11011,     0.11111,     0.11211,     0.11311,     0.11411,     0.11512,     0.11612,     0.11712,     0.11812,     0.11912,\n",
       "           0.12012,     0.12112,     0.12212,     0.12312,     0.12412,     0.12513,     0.12613,     0.12713,     0.12813,     0.12913,     0.13013,     0.13113,     0.13213,     0.13313,     0.13413,     0.13514,     0.13614,     0.13714,     0.13814,     0.13914,     0.14014,     0.14114,     0.14214,     0.14314,\n",
       "           0.14414,     0.14515,     0.14615,     0.14715,     0.14815,     0.14915,     0.15015,     0.15115,     0.15215,     0.15315,     0.15415,     0.15516,     0.15616,     0.15716,     0.15816,     0.15916,     0.16016,     0.16116,     0.16216,     0.16316,     0.16416,     0.16517,     0.16617,     0.16717,\n",
       "           0.16817,     0.16917,     0.17017,     0.17117,     0.17217,     0.17317,     0.17417,     0.17518,     0.17618,     0.17718,     0.17818,     0.17918,     0.18018,     0.18118,     0.18218,     0.18318,     0.18418,     0.18519,     0.18619,     0.18719,     0.18819,     0.18919,     0.19019,     0.19119,\n",
       "           0.19219,     0.19319,     0.19419,      0.1952,      0.1962,      0.1972,      0.1982,      0.1992,      0.2002,      0.2012,      0.2022,      0.2032,      0.2042,     0.20521,     0.20621,     0.20721,     0.20821,     0.20921,     0.21021,     0.21121,     0.21221,     0.21321,     0.21421,     0.21522,\n",
       "           0.21622,     0.21722,     0.21822,     0.21922,     0.22022,     0.22122,     0.22222,     0.22322,     0.22422,     0.22523,     0.22623,     0.22723,     0.22823,     0.22923,     0.23023,     0.23123,     0.23223,     0.23323,     0.23423,     0.23524,     0.23624,     0.23724,     0.23824,     0.23924,\n",
       "           0.24024,     0.24124,     0.24224,     0.24324,     0.24424,     0.24525,     0.24625,     0.24725,     0.24825,     0.24925,     0.25025,     0.25125,     0.25225,     0.25325,     0.25425,     0.25526,     0.25626,     0.25726,     0.25826,     0.25926,     0.26026,     0.26126,     0.26226,     0.26326,\n",
       "           0.26426,     0.26527,     0.26627,     0.26727,     0.26827,     0.26927,     0.27027,     0.27127,     0.27227,     0.27327,     0.27427,     0.27528,     0.27628,     0.27728,     0.27828,     0.27928,     0.28028,     0.28128,     0.28228,     0.28328,     0.28428,     0.28529,     0.28629,     0.28729,\n",
       "           0.28829,     0.28929,     0.29029,     0.29129,     0.29229,     0.29329,     0.29429,      0.2953,      0.2963,      0.2973,      0.2983,      0.2993,      0.3003,      0.3013,      0.3023,      0.3033,      0.3043,     0.30531,     0.30631,     0.30731,     0.30831,     0.30931,     0.31031,     0.31131,\n",
       "           0.31231,     0.31331,     0.31431,     0.31532,     0.31632,     0.31732,     0.31832,     0.31932,     0.32032,     0.32132,     0.32232,     0.32332,     0.32432,     0.32533,     0.32633,     0.32733,     0.32833,     0.32933,     0.33033,     0.33133,     0.33233,     0.33333,     0.33433,     0.33534,\n",
       "           0.33634,     0.33734,     0.33834,     0.33934,     0.34034,     0.34134,     0.34234,     0.34334,     0.34434,     0.34535,     0.34635,     0.34735,     0.34835,     0.34935,     0.35035,     0.35135,     0.35235,     0.35335,     0.35435,     0.35536,     0.35636,     0.35736,     0.35836,     0.35936,\n",
       "           0.36036,     0.36136,     0.36236,     0.36336,     0.36436,     0.36537,     0.36637,     0.36737,     0.36837,     0.36937,     0.37037,     0.37137,     0.37237,     0.37337,     0.37437,     0.37538,     0.37638,     0.37738,     0.37838,     0.37938,     0.38038,     0.38138,     0.38238,     0.38338,\n",
       "           0.38438,     0.38539,     0.38639,     0.38739,     0.38839,     0.38939,     0.39039,     0.39139,     0.39239,     0.39339,     0.39439,      0.3954,      0.3964,      0.3974,      0.3984,      0.3994,      0.4004,      0.4014,      0.4024,      0.4034,      0.4044,     0.40541,     0.40641,     0.40741,\n",
       "           0.40841,     0.40941,     0.41041,     0.41141,     0.41241,     0.41341,     0.41441,     0.41542,     0.41642,     0.41742,     0.41842,     0.41942,     0.42042,     0.42142,     0.42242,     0.42342,     0.42442,     0.42543,     0.42643,     0.42743,     0.42843,     0.42943,     0.43043,     0.43143,\n",
       "           0.43243,     0.43343,     0.43443,     0.43544,     0.43644,     0.43744,     0.43844,     0.43944,     0.44044,     0.44144,     0.44244,     0.44344,     0.44444,     0.44545,     0.44645,     0.44745,     0.44845,     0.44945,     0.45045,     0.45145,     0.45245,     0.45345,     0.45445,     0.45546,\n",
       "           0.45646,     0.45746,     0.45846,     0.45946,     0.46046,     0.46146,     0.46246,     0.46346,     0.46446,     0.46547,     0.46647,     0.46747,     0.46847,     0.46947,     0.47047,     0.47147,     0.47247,     0.47347,     0.47447,     0.47548,     0.47648,     0.47748,     0.47848,     0.47948,\n",
       "           0.48048,     0.48148,     0.48248,     0.48348,     0.48448,     0.48549,     0.48649,     0.48749,     0.48849,     0.48949,     0.49049,     0.49149,     0.49249,     0.49349,     0.49449,      0.4955,      0.4965,      0.4975,      0.4985,      0.4995,      0.5005,      0.5015,      0.5025,      0.5035,\n",
       "            0.5045,     0.50551,     0.50651,     0.50751,     0.50851,     0.50951,     0.51051,     0.51151,     0.51251,     0.51351,     0.51451,     0.51552,     0.51652,     0.51752,     0.51852,     0.51952,     0.52052,     0.52152,     0.52252,     0.52352,     0.52452,     0.52553,     0.52653,     0.52753,\n",
       "           0.52853,     0.52953,     0.53053,     0.53153,     0.53253,     0.53353,     0.53453,     0.53554,     0.53654,     0.53754,     0.53854,     0.53954,     0.54054,     0.54154,     0.54254,     0.54354,     0.54454,     0.54555,     0.54655,     0.54755,     0.54855,     0.54955,     0.55055,     0.55155,\n",
       "           0.55255,     0.55355,     0.55455,     0.55556,     0.55656,     0.55756,     0.55856,     0.55956,     0.56056,     0.56156,     0.56256,     0.56356,     0.56456,     0.56557,     0.56657,     0.56757,     0.56857,     0.56957,     0.57057,     0.57157,     0.57257,     0.57357,     0.57457,     0.57558,\n",
       "           0.57658,     0.57758,     0.57858,     0.57958,     0.58058,     0.58158,     0.58258,     0.58358,     0.58458,     0.58559,     0.58659,     0.58759,     0.58859,     0.58959,     0.59059,     0.59159,     0.59259,     0.59359,     0.59459,      0.5956,      0.5966,      0.5976,      0.5986,      0.5996,\n",
       "            0.6006,      0.6016,      0.6026,      0.6036,      0.6046,     0.60561,     0.60661,     0.60761,     0.60861,     0.60961,     0.61061,     0.61161,     0.61261,     0.61361,     0.61461,     0.61562,     0.61662,     0.61762,     0.61862,     0.61962,     0.62062,     0.62162,     0.62262,     0.62362,\n",
       "           0.62462,     0.62563,     0.62663,     0.62763,     0.62863,     0.62963,     0.63063,     0.63163,     0.63263,     0.63363,     0.63463,     0.63564,     0.63664,     0.63764,     0.63864,     0.63964,     0.64064,     0.64164,     0.64264,     0.64364,     0.64464,     0.64565,     0.64665,     0.64765,\n",
       "           0.64865,     0.64965,     0.65065,     0.65165,     0.65265,     0.65365,     0.65465,     0.65566,     0.65666,     0.65766,     0.65866,     0.65966,     0.66066,     0.66166,     0.66266,     0.66366,     0.66466,     0.66567,     0.66667,     0.66767,     0.66867,     0.66967,     0.67067,     0.67167,\n",
       "           0.67267,     0.67367,     0.67467,     0.67568,     0.67668,     0.67768,     0.67868,     0.67968,     0.68068,     0.68168,     0.68268,     0.68368,     0.68468,     0.68569,     0.68669,     0.68769,     0.68869,     0.68969,     0.69069,     0.69169,     0.69269,     0.69369,     0.69469,      0.6957,\n",
       "            0.6967,      0.6977,      0.6987,      0.6997,      0.7007,      0.7017,      0.7027,      0.7037,      0.7047,     0.70571,     0.70671,     0.70771,     0.70871,     0.70971,     0.71071,     0.71171,     0.71271,     0.71371,     0.71471,     0.71572,     0.71672,     0.71772,     0.71872,     0.71972,\n",
       "           0.72072,     0.72172,     0.72272,     0.72372,     0.72472,     0.72573,     0.72673,     0.72773,     0.72873,     0.72973,     0.73073,     0.73173,     0.73273,     0.73373,     0.73473,     0.73574,     0.73674,     0.73774,     0.73874,     0.73974,     0.74074,     0.74174,     0.74274,     0.74374,\n",
       "           0.74474,     0.74575,     0.74675,     0.74775,     0.74875,     0.74975,     0.75075,     0.75175,     0.75275,     0.75375,     0.75475,     0.75576,     0.75676,     0.75776,     0.75876,     0.75976,     0.76076,     0.76176,     0.76276,     0.76376,     0.76476,     0.76577,     0.76677,     0.76777,\n",
       "           0.76877,     0.76977,     0.77077,     0.77177,     0.77277,     0.77377,     0.77477,     0.77578,     0.77678,     0.77778,     0.77878,     0.77978,     0.78078,     0.78178,     0.78278,     0.78378,     0.78478,     0.78579,     0.78679,     0.78779,     0.78879,     0.78979,     0.79079,     0.79179,\n",
       "           0.79279,     0.79379,     0.79479,      0.7958,      0.7968,      0.7978,      0.7988,      0.7998,      0.8008,      0.8018,      0.8028,      0.8038,      0.8048,     0.80581,     0.80681,     0.80781,     0.80881,     0.80981,     0.81081,     0.81181,     0.81281,     0.81381,     0.81481,     0.81582,\n",
       "           0.81682,     0.81782,     0.81882,     0.81982,     0.82082,     0.82182,     0.82282,     0.82382,     0.82482,     0.82583,     0.82683,     0.82783,     0.82883,     0.82983,     0.83083,     0.83183,     0.83283,     0.83383,     0.83483,     0.83584,     0.83684,     0.83784,     0.83884,     0.83984,\n",
       "           0.84084,     0.84184,     0.84284,     0.84384,     0.84484,     0.84585,     0.84685,     0.84785,     0.84885,     0.84985,     0.85085,     0.85185,     0.85285,     0.85385,     0.85485,     0.85586,     0.85686,     0.85786,     0.85886,     0.85986,     0.86086,     0.86186,     0.86286,     0.86386,\n",
       "           0.86486,     0.86587,     0.86687,     0.86787,     0.86887,     0.86987,     0.87087,     0.87187,     0.87287,     0.87387,     0.87487,     0.87588,     0.87688,     0.87788,     0.87888,     0.87988,     0.88088,     0.88188,     0.88288,     0.88388,     0.88488,     0.88589,     0.88689,     0.88789,\n",
       "           0.88889,     0.88989,     0.89089,     0.89189,     0.89289,     0.89389,     0.89489,      0.8959,      0.8969,      0.8979,      0.8989,      0.8999,      0.9009,      0.9019,      0.9029,      0.9039,      0.9049,     0.90591,     0.90691,     0.90791,     0.90891,     0.90991,     0.91091,     0.91191,\n",
       "           0.91291,     0.91391,     0.91491,     0.91592,     0.91692,     0.91792,     0.91892,     0.91992,     0.92092,     0.92192,     0.92292,     0.92392,     0.92492,     0.92593,     0.92693,     0.92793,     0.92893,     0.92993,     0.93093,     0.93193,     0.93293,     0.93393,     0.93493,     0.93594,\n",
       "           0.93694,     0.93794,     0.93894,     0.93994,     0.94094,     0.94194,     0.94294,     0.94394,     0.94494,     0.94595,     0.94695,     0.94795,     0.94895,     0.94995,     0.95095,     0.95195,     0.95295,     0.95395,     0.95495,     0.95596,     0.95696,     0.95796,     0.95896,     0.95996,\n",
       "           0.96096,     0.96196,     0.96296,     0.96396,     0.96496,     0.96597,     0.96697,     0.96797,     0.96897,     0.96997,     0.97097,     0.97197,     0.97297,     0.97397,     0.97497,     0.97598,     0.97698,     0.97798,     0.97898,     0.97998,     0.98098,     0.98198,     0.98298,     0.98398,\n",
       "           0.98498,     0.98599,     0.98699,     0.98799,     0.98899,     0.98999,     0.99099,     0.99199,     0.99299,     0.99399,     0.99499,       0.996,       0.997,       0.998,       0.999,           1]), array([[    0.96809,     0.96809,     0.96809,     0.95745,     0.95745,     0.95745,     0.95745,     0.95745,     0.94681,     0.94681,     0.94681,     0.94681,     0.94681,     0.92553,     0.92553,     0.92553,     0.91489,     0.91489,     0.91489,     0.91489,     0.91489,     0.91489,     0.91489,\n",
       "            0.91489,     0.91489,     0.91489,     0.91464,     0.90467,     0.90426,     0.90426,     0.90426,     0.90411,     0.89362,     0.89362,     0.89362,     0.89362,     0.89362,     0.89362,     0.89362,     0.89362,     0.89362,     0.89362,     0.89362,     0.89362,     0.89362,     0.89362,\n",
       "            0.89362,     0.89362,     0.89362,     0.89362,     0.89362,     0.89362,     0.89362,     0.89362,     0.89362,     0.89362,     0.89362,     0.89362,     0.89362,     0.89362,     0.89362,     0.89362,     0.89362,     0.89362,     0.89362,     0.89362,     0.89362,     0.89362,     0.89362,\n",
       "            0.89362,     0.89362,     0.89362,     0.89362,     0.89362,     0.89362,     0.89362,     0.89362,     0.89362,     0.89362,     0.89362,     0.89362,     0.89362,     0.89362,     0.89362,     0.89362,     0.89362,     0.89362,     0.89362,     0.89362,     0.89362,     0.89362,     0.89362,\n",
       "            0.89362,     0.89362,     0.89362,     0.89362,     0.89362,     0.89362,     0.89362,     0.89362,     0.89362,     0.89362,     0.89325,     0.89257,     0.89189,     0.89121,     0.89052,     0.88984,     0.88916,     0.88848,      0.8878,     0.88712,     0.88643,     0.88575,     0.88507,\n",
       "            0.88439,     0.88371,     0.88303,     0.88298,     0.88298,     0.88298,     0.88298,     0.88298,     0.88298,     0.88298,     0.88298,     0.88298,     0.88298,     0.88298,     0.88298,     0.88298,     0.88153,     0.87234,     0.87234,     0.87234,     0.87234,     0.87234,     0.87234,\n",
       "            0.87234,     0.87234,     0.87234,     0.87234,     0.87234,     0.87234,     0.87234,     0.87234,     0.87234,     0.87234,     0.87234,     0.87234,     0.87234,     0.87234,     0.87234,     0.87234,     0.87234,     0.87234,     0.87234,     0.87234,     0.87234,     0.87234,     0.87234,\n",
       "            0.87234,     0.87234,     0.87234,     0.87234,     0.87234,     0.87234,     0.87234,     0.87234,     0.87234,     0.87234,     0.87234,     0.87234,     0.87234,     0.87234,     0.87234,     0.87234,     0.87234,     0.87234,     0.87234,     0.87234,     0.87234,     0.87234,     0.87234,\n",
       "            0.87234,     0.87234,     0.87234,     0.87234,     0.87234,     0.87234,     0.87234,     0.87234,     0.87234,     0.87234,     0.87234,     0.87234,     0.87234,     0.87234,     0.87234,     0.87234,     0.87234,     0.87234,     0.87234,     0.87234,     0.87234,     0.87234,     0.87234,\n",
       "            0.87234,     0.87234,     0.87234,     0.87234,     0.87234,     0.87234,     0.87234,     0.87234,     0.87234,     0.87234,     0.87234,     0.87234,     0.87176,     0.87078,      0.8698,     0.86882,     0.86784,     0.86686,     0.86588,      0.8649,     0.86392,     0.86294,     0.86196,\n",
       "             0.8617,        0.86,     0.85376,     0.85106,     0.85106,     0.85106,     0.85106,     0.85106,     0.85106,     0.85106,     0.85106,     0.85069,     0.84827,     0.84585,     0.84343,       0.841,     0.84007,     0.83961,     0.83915,     0.83869,     0.83823,     0.83777,      0.8373,\n",
       "            0.83684,     0.83638,     0.83592,     0.83546,       0.835,     0.83453,     0.83407,     0.83361,     0.83315,     0.83269,     0.83223,     0.83177,      0.8313,     0.83084,     0.83038,     0.82992,     0.82849,     0.82667,     0.82485,     0.82304,     0.82122,      0.8194,     0.81915,\n",
       "            0.81915,     0.81915,     0.81915,     0.81915,     0.81915,     0.81915,     0.81915,     0.81915,     0.81915,     0.81915,     0.81915,     0.81915,     0.81915,     0.81915,     0.81915,     0.81915,     0.81915,     0.81915,     0.81915,     0.81915,     0.81915,     0.81915,     0.81915,\n",
       "            0.81915,     0.81915,     0.81915,     0.81915,     0.81915,     0.81915,     0.81915,     0.81915,     0.81915,     0.81915,     0.81915,     0.81915,     0.81915,     0.81915,     0.81915,     0.81915,     0.81915,     0.81915,     0.81915,     0.81915,     0.81915,     0.81915,     0.81915,\n",
       "            0.81915,     0.81915,     0.81915,     0.81915,     0.81915,     0.81915,     0.81915,     0.81915,     0.81915,     0.81915,     0.81915,     0.81915,     0.81915,     0.81915,     0.81915,     0.81915,     0.81915,     0.81915,     0.81915,     0.81915,     0.81915,     0.81915,     0.81915,\n",
       "            0.81915,     0.81915,     0.81915,     0.81915,     0.81915,     0.81915,     0.81915,     0.81915,     0.81915,     0.81915,     0.81915,     0.81915,     0.81915,     0.81915,     0.81915,     0.81915,     0.81915,     0.81915,     0.81915,     0.81915,     0.81915,     0.81915,     0.81915,\n",
       "            0.81915,     0.81915,     0.81915,     0.81915,     0.81915,     0.81915,     0.81915,     0.81915,     0.81915,     0.81915,     0.81915,     0.81915,     0.81915,     0.81915,     0.81915,     0.81915,     0.81915,     0.81915,     0.81915,     0.81915,     0.81915,     0.81915,     0.81915,\n",
       "            0.81915,     0.81915,     0.81915,     0.81915,     0.81915,     0.81915,     0.81915,     0.81915,     0.81915,     0.81915,     0.81915,     0.81915,     0.81915,     0.81915,     0.81915,     0.81915,     0.81915,     0.81915,     0.81915,     0.81915,     0.81915,     0.81915,     0.81915,\n",
       "            0.81915,     0.81915,     0.81915,     0.81915,     0.81915,     0.81915,     0.81915,     0.81915,     0.81915,     0.81915,     0.81915,     0.81915,     0.81915,     0.81915,     0.81915,     0.81915,     0.81915,     0.81915,     0.81915,     0.81915,     0.81915,     0.81915,     0.81915,\n",
       "            0.81915,     0.81915,     0.81915,     0.81915,     0.81915,     0.81915,     0.81915,     0.81915,     0.81915,     0.81915,     0.81915,     0.81915,     0.81915,     0.81915,     0.81915,     0.81915,     0.81915,     0.81915,     0.81915,     0.81915,     0.81915,     0.81915,     0.81915,\n",
       "            0.81915,     0.81915,     0.81915,     0.81915,     0.81915,     0.81915,     0.81915,     0.81915,     0.81915,     0.81855,     0.81771,     0.81687,     0.81603,     0.81519,     0.81435,     0.81351,     0.81267,     0.81184,       0.811,     0.81016,     0.80932,     0.80847,     0.80738,\n",
       "            0.80629,      0.8052,     0.80411,     0.80302,     0.80193,     0.80084,     0.79975,     0.79866,      0.7978,     0.79753,     0.79727,       0.797,     0.79673,     0.79647,      0.7962,     0.79594,     0.79567,      0.7954,     0.79514,     0.79487,     0.79461,     0.79434,     0.79407,\n",
       "            0.79381,     0.79354,     0.79328,     0.79301,     0.79274,     0.79248,     0.79221,     0.79195,     0.79168,     0.79141,     0.79115,     0.79088,     0.79062,     0.79035,     0.79008,     0.78982,     0.78955,     0.78929,     0.78902,     0.78876,     0.78849,     0.78822,     0.78796,\n",
       "            0.78769,     0.78743,     0.78723,     0.78723,     0.78723,     0.78723,     0.78723,     0.78723,     0.78723,     0.78723,     0.78723,     0.78723,     0.78723,     0.78723,     0.78723,     0.78723,     0.78723,     0.78723,     0.78723,     0.78723,     0.78723,     0.78723,     0.78723,\n",
       "            0.78723,     0.78723,     0.78723,     0.78723,     0.78723,     0.78723,     0.78723,     0.78723,     0.78723,     0.78723,     0.78723,     0.78723,     0.78723,     0.78723,     0.78723,     0.78723,     0.78723,     0.78723,     0.78723,     0.78723,     0.78723,     0.78723,     0.78723,\n",
       "            0.78723,     0.78723,     0.78723,     0.78723,     0.78723,     0.78723,     0.78723,     0.78723,     0.78723,     0.78723,     0.78723,     0.78723,     0.78723,     0.78723,     0.78723,     0.78723,     0.78723,     0.78723,     0.78723,     0.78723,     0.78513,     0.78271,     0.78028,\n",
       "            0.77786,     0.77138,     0.76596,     0.76596,     0.76596,     0.76596,     0.76596,     0.76596,     0.76596,     0.76596,     0.76591,     0.76567,     0.76544,      0.7652,     0.76497,     0.76474,      0.7645,     0.76427,     0.76403,      0.7638,     0.76356,     0.76333,     0.76309,\n",
       "            0.76286,     0.76263,     0.76239,     0.76216,     0.76192,     0.76169,     0.76145,     0.76122,     0.76098,     0.76075,     0.76051,     0.76028,     0.76005,     0.75981,     0.75958,     0.75934,     0.75911,     0.75887,     0.75864,      0.7584,     0.75817,     0.75794,      0.7577,\n",
       "            0.75747,     0.75723,       0.757,     0.75676,     0.75653,     0.75629,     0.75606,     0.75582,     0.75559,     0.75536,     0.75472,     0.75402,     0.75332,     0.75261,     0.75191,     0.75121,      0.7505,      0.7498,      0.7491,     0.74839,     0.74769,     0.74699,     0.74628,\n",
       "            0.74558,     0.74488,     0.74468,     0.74463,     0.74444,     0.74426,     0.74407,     0.74388,     0.74369,      0.7435,     0.74332,     0.74313,     0.74294,     0.74275,     0.74256,     0.74238,     0.74219,       0.742,     0.74181,     0.74162,     0.74144,     0.74125,     0.74106,\n",
       "            0.74087,     0.74068,      0.7405,     0.74031,     0.74012,     0.73993,     0.73974,     0.73956,     0.73937,     0.73918,     0.73899,      0.7388,     0.73862,     0.73843,     0.73824,     0.73805,     0.73786,     0.73768,     0.73749,      0.7373,     0.73711,     0.73692,     0.73674,\n",
       "            0.73655,     0.73636,     0.73617,     0.73598,      0.7358,     0.73561,     0.73542,     0.73523,     0.73504,     0.73486,     0.73467,     0.73448,     0.73429,      0.7341,     0.72667,     0.72295,     0.72231,     0.72167,     0.72103,     0.72039,     0.71975,     0.71911,     0.71846,\n",
       "            0.71782,     0.71718,     0.71654,      0.7159,     0.71526,     0.71462,     0.71397,     0.71333,      0.7127,     0.71214,     0.71158,     0.71102,     0.71046,     0.70991,     0.70935,     0.70879,     0.70823,     0.70767,     0.70711,     0.70655,     0.70599,     0.70543,     0.70487,\n",
       "            0.70431,     0.70375,     0.70319,     0.70264,     0.70199,     0.70054,     0.69909,     0.69763,     0.69618,     0.69472,     0.69327,     0.69182,     0.68304,     0.68018,     0.67934,      0.6785,     0.67766,     0.67683,     0.67599,     0.67515,     0.67431,     0.67347,     0.67263,\n",
       "            0.67179,     0.67095,     0.67018,     0.66986,     0.66955,     0.66924,     0.66893,     0.66862,     0.66831,       0.668,     0.66768,     0.66737,     0.66706,     0.66675,     0.66644,     0.66613,     0.66581,      0.6655,     0.66519,     0.66488,     0.66457,     0.66426,     0.66395,\n",
       "            0.66363,     0.66332,     0.66301,      0.6627,     0.66239,     0.66208,     0.66176,     0.66145,     0.66114,     0.66083,     0.66052,     0.66021,      0.6599,     0.65958,     0.65957,     0.65957,     0.65957,     0.65957,     0.65957,     0.65957,     0.65957,     0.65957,     0.65957,\n",
       "            0.65957,     0.65957,     0.65957,     0.65957,     0.65957,     0.65957,     0.65957,     0.65957,     0.65957,     0.65957,     0.65957,     0.65957,     0.65957,     0.65957,     0.65957,     0.65957,     0.65957,     0.65957,     0.65957,     0.65957,     0.65957,     0.65957,     0.65957,\n",
       "            0.65957,     0.65957,     0.65957,     0.65957,     0.65957,     0.65957,     0.65957,     0.65957,     0.65957,     0.65957,     0.65957,     0.65957,     0.65957,     0.65957,     0.65957,     0.65957,     0.65957,     0.65957,     0.65957,     0.65957,     0.65957,     0.65931,     0.65847,\n",
       "            0.65763,     0.65679,     0.65596,     0.65512,     0.65428,     0.65344,      0.6526,     0.65176,     0.65092,     0.65008,     0.64925,     0.64664,     0.64301,     0.63937,      0.6361,     0.63299,     0.62987,     0.62766,     0.62766,     0.61659,      0.6153,     0.61402,     0.61274,\n",
       "            0.61146,     0.61017,     0.60889,     0.60761,     0.60618,     0.60182,     0.59746,     0.59454,     0.59256,     0.59058,     0.58859,     0.58661,     0.58463,     0.58264,     0.58066,     0.57868,      0.5767,     0.57471,     0.57351,     0.57242,     0.57133,     0.57024,     0.56915,\n",
       "            0.56806,     0.56697,     0.56588,     0.56479,     0.56121,      0.5525,     0.55141,     0.55032,     0.54923,     0.54814,     0.54705,     0.54596,     0.54487,     0.54378,     0.54269,     0.52062,     0.51895,     0.51727,     0.51559,     0.51391,     0.51224,     0.51051,     0.50778,\n",
       "            0.50506,     0.50233,     0.48873,     0.48437,     0.48001,     0.46571,     0.44504,     0.43777,     0.43447,     0.43229,     0.43011,     0.42793,     0.42575,      0.4216,     0.41724,     0.41288,     0.40851,     0.39336,     0.38246,     0.36013,     0.34016,     0.33744,     0.33471,\n",
       "            0.33198,     0.32555,     0.30692,     0.29965,     0.28964,     0.26809,     0.25187,     0.23725,     0.21011,     0.20284,     0.19229,     0.15001,     0.13857,     0.12766,     0.10586,    0.084052,    0.040966,    0.025536,    0.016847,           0,           0,           0,           0,\n",
       "                  0,           0,           0,           0,           0,           0,           0,           0,           0,           0,           0]]), 'Confidence', 'Recall']]\n",
       "fitness: 0.7841422616811973\n",
       "keys: ['metrics/precision(B)', 'metrics/recall(B)', 'metrics/mAP50(B)', 'metrics/mAP50-95(B)']\n",
       "maps: array([    0.77108])\n",
       "names: {0: 'leaves'}\n",
       "plot: True\n",
       "results_dict: {'metrics/precision(B)': 0.8649688221304951, 'metrics/recall(B)': 0.8191489361702128, 'metrics/mAP50(B)': 0.9017311502731529, 'metrics/mAP50-95(B)': 0.7710768296154245, 'fitness': 0.7841422616811973}\n",
       "save_dir: PosixPath('/home/knuvi/Desktop/song/cucumber-image/yolo_detection/leaves4')\n",
       "speed: {'preprocess': 0.4359074492952717, 'inference': 5.08859620165469, 'loss': 0.0004199013781191698, 'postprocess': 0.11799228725148671}\n",
       "task: 'detect'"
      ]
     },
     "execution_count": 16,
     "metadata": {},
     "output_type": "execute_result"
    }
   ],
   "source": [
    "model.train(data = data,\n",
    "            epochs = 100,\n",
    "            batch = 16,\n",
    "            imgsz = 640,\n",
    "            device = \"0\",\n",
    "            project = project,\n",
    "            name = \"leaves\",\n",
    "            workers = 8)"
   ]
  },
  {
   "cell_type": "code",
   "execution_count": 13,
   "metadata": {},
   "outputs": [
    {
     "name": "stdout",
     "output_type": "stream",
     "text": [
      "\n",
      "image 1/1 /home/knuvi/Desktop/song/cucumber-image/data/oi/train/V003_3_3_1_2_4_2_2_1_0_0_20221019_5152_20240422195049.jpg: 640x480 (no detections), 17.6ms\n",
      "Speed: 1.8ms preprocess, 17.6ms inference, 0.2ms postprocess per image at shape (1, 3, 640, 480)\n",
      "\n",
      "image 1/1 /home/knuvi/Desktop/song/cucumber-image/data/oi/train/V003_3_3_1_2_4_2_2_1_0_0_20221019_5317_20240422195058.jpg: 640x480 (no detections), 17.0ms\n",
      "Speed: 1.7ms preprocess, 17.0ms inference, 0.2ms postprocess per image at shape (1, 3, 640, 480)\n",
      "\n",
      "image 1/1 /home/knuvi/Desktop/song/cucumber-image/data/oi/train/V003_3_3_1_2_4_2_2_1_0_0_20221019_5200_20240422195052.jpg: 640x480 1 leaves, 16.9ms\n",
      "Speed: 1.7ms preprocess, 16.9ms inference, 0.4ms postprocess per image at shape (1, 3, 640, 480)\n",
      "x: 1885, y: 0, w: 1114, h: 661, class: 1\n",
      "\n",
      "image 1/1 /home/knuvi/Desktop/song/cucumber-image/data/oi/train/V003_3_3_1_2_4_2_2_1_0_0_20221019_5131_20240422195048.jpg: 640x480 (no detections), 17.1ms\n",
      "Speed: 1.8ms preprocess, 17.1ms inference, 0.2ms postprocess per image at shape (1, 3, 640, 480)\n",
      "\n",
      "image 1/1 /home/knuvi/Desktop/song/cucumber-image/data/oi/train/V003_3_3_1_2_4_2_2_1_0_0_20221019_5307_20240422195058.jpg: 640x480 2 leavess, 16.9ms\n",
      "Speed: 1.7ms preprocess, 16.9ms inference, 0.4ms postprocess per image at shape (1, 3, 640, 480)\n",
      "x: 1625, y: 1424, w: 994, h: 906, class: 1\n",
      "x: 2098, y: 2496, w: 901, h: 1501, class: 1\n",
      "V003_3_3_1_2_4_2_2_1_0_0_20221019_5307_20240422195058.jpg: 1개의 leaf 객체 추가\n",
      "\n",
      "image 1/1 /home/knuvi/Desktop/song/cucumber-image/data/oi/train/V003_3_3_1_2_4_2_2_1_0_0_20221019_5280_20240422195056.jpg: 640x480 1 leaves, 16.9ms\n",
      "Speed: 1.7ms preprocess, 16.9ms inference, 0.4ms postprocess per image at shape (1, 3, 640, 480)\n",
      "x: 640, y: 23, w: 2359, h: 3193, class: 1\n",
      "\n",
      "image 1/1 /home/knuvi/Desktop/song/cucumber-image/data/oi/train/V003_3_3_1_2_4_2_2_1_0_0_20221019_5181_20240422195051.jpg: 640x480 1 leaves, 16.7ms\n",
      "Speed: 1.6ms preprocess, 16.7ms inference, 0.4ms postprocess per image at shape (1, 3, 640, 480)\n",
      "x: 1, y: 2814, w: 941, h: 1185, class: 1\n",
      "\n",
      "image 1/1 /home/knuvi/Desktop/song/cucumber-image/data/oi/train/V003_3_3_1_2_4_2_2_1_0_0_20221019_5171_20240422195050.jpg: 640x480 (no detections), 16.7ms\n",
      "Speed: 1.6ms preprocess, 16.7ms inference, 0.2ms postprocess per image at shape (1, 3, 640, 480)\n",
      "\n",
      "image 1/1 /home/knuvi/Desktop/song/cucumber-image/data/oi/train/V003_3_3_1_2_4_2_2_1_0_0_20221019_5291_20240422195057.jpg: 640x480 1 leaves, 16.9ms\n",
      "Speed: 1.8ms preprocess, 16.9ms inference, 0.4ms postprocess per image at shape (1, 3, 640, 480)\n",
      "x: 2335, y: 3, w: 663, h: 955, class: 1\n",
      "\n",
      "image 1/1 /home/knuvi/Desktop/song/cucumber-image/data/oi/train/V003_3_3_1_2_4_2_2_1_0_0_20221019_5134_20240422195048.jpg: 640x480 (no detections), 17.0ms\n",
      "Speed: 1.8ms preprocess, 17.0ms inference, 0.2ms postprocess per image at shape (1, 3, 640, 480)\n",
      "\n",
      "image 1/1 /home/knuvi/Desktop/song/cucumber-image/data/oi/train/V003_3_3_1_2_4_2_2_1_0_0_20221019_5294_20240422195057.jpg: 640x480 (no detections), 17.0ms\n",
      "Speed: 1.8ms preprocess, 17.0ms inference, 0.2ms postprocess per image at shape (1, 3, 640, 480)\n",
      "\n",
      "image 1/1 /home/knuvi/Desktop/song/cucumber-image/data/oi/train/V003_3_3_1_2_4_2_2_1_0_0_20221019_5270_20240422195056.jpg: 640x480 (no detections), 17.0ms\n",
      "Speed: 1.8ms preprocess, 17.0ms inference, 0.2ms postprocess per image at shape (1, 3, 640, 480)\n",
      "\n",
      "image 1/1 /home/knuvi/Desktop/song/cucumber-image/data/oi/train/V003_3_3_1_2_4_2_2_1_0_0_20221019_5096_20240422195046.jpg: 640x480 2 leavess, 16.8ms\n",
      "Speed: 1.6ms preprocess, 16.8ms inference, 0.4ms postprocess per image at shape (1, 3, 640, 480)\n",
      "x: 1, y: 0, w: 1017, h: 1625, class: 1\n",
      "x: 0, y: 1503, w: 636, h: 2331, class: 1\n",
      "V003_3_3_1_2_4_2_2_1_0_0_20221019_5096_20240422195046.jpg: 1개의 leaf 객체 추가\n",
      "\n",
      "image 1/1 /home/knuvi/Desktop/song/cucumber-image/data/oi/train/V003_3_3_1_2_4_2_2_1_0_0_20221019_5233_20240422195054.jpg: 640x480 4 leavess, 17.0ms\n",
      "Speed: 1.8ms preprocess, 17.0ms inference, 0.4ms postprocess per image at shape (1, 3, 640, 480)\n",
      "x: 211, y: 926, w: 886, h: 920, class: 1\n",
      "x: 320, y: 1, w: 1472, h: 1033, class: 1\n",
      "x: 1176, y: 1027, w: 1806, h: 2480, class: 1\n",
      "x: 2378, y: 798, w: 619, h: 1134, class: 1\n",
      "V003_3_3_1_2_4_2_2_1_0_0_20221019_5233_20240422195054.jpg: 3개의 leaf 객체 추가\n",
      "\n",
      "image 1/1 /home/knuvi/Desktop/song/cucumber-image/data/oi/train/V003_3_3_1_2_4_2_2_1_0_0_20221019_5256_20240422195055.jpg: 640x480 (no detections), 17.2ms\n",
      "Speed: 1.7ms preprocess, 17.2ms inference, 0.2ms postprocess per image at shape (1, 3, 640, 480)\n",
      "\n",
      "image 1/1 /home/knuvi/Desktop/song/cucumber-image/data/oi/train/V003_3_3_1_2_4_2_2_1_0_0_20221019_5140_20240422195049.jpg: 640x480 4 leavess, 17.6ms\n",
      "Speed: 1.8ms preprocess, 17.6ms inference, 0.4ms postprocess per image at shape (1, 3, 640, 480)\n",
      "x: 4, y: 2153, w: 1441, h: 1846, class: 1\n",
      "x: 1744, y: 1770, w: 1249, h: 2229, class: 1\n",
      "x: 0, y: 4, w: 594, h: 2194, class: 1\n",
      "V003_3_3_1_2_4_2_2_1_0_0_20221019_5140_20240422195049.jpg: 2개의 leaf 객체 추가\n",
      "\n",
      "image 1/1 /home/knuvi/Desktop/song/cucumber-image/data/oi/train/V003_3_3_1_2_4_2_2_1_0_0_20221019_5193_20240422195052.jpg: 640x480 1 leaves, 16.8ms\n",
      "Speed: 1.7ms preprocess, 16.8ms inference, 0.4ms postprocess per image at shape (1, 3, 640, 480)\n",
      "x: 0, y: 2944, w: 895, h: 1055, class: 1\n",
      "\n",
      "image 1/1 /home/knuvi/Desktop/song/cucumber-image/data/oi/train/V003_3_3_1_2_4_2_2_1_0_0_20221019_5173_20240422195051.jpg: 640x480 (no detections), 16.7ms\n",
      "Speed: 1.6ms preprocess, 16.7ms inference, 0.2ms postprocess per image at shape (1, 3, 640, 480)\n",
      "\n",
      "image 1/1 /home/knuvi/Desktop/song/cucumber-image/data/oi/train/V003_3_3_1_2_4_2_2_1_0_0_20221019_5226_20240422195053.jpg: 640x480 2 leavess, 16.6ms\n",
      "Speed: 1.6ms preprocess, 16.6ms inference, 0.4ms postprocess per image at shape (1, 3, 640, 480)\n",
      "x: 0, y: 0, w: 1412, h: 992, class: 1\n",
      "x: 0, y: 825, w: 753, h: 969, class: 1\n",
      "V003_3_3_1_2_4_2_2_1_0_0_20221019_5226_20240422195053.jpg: 1개의 leaf 객체 추가\n",
      "\n",
      "image 1/1 /home/knuvi/Desktop/song/cucumber-image/data/oi/train/V003_3_3_1_2_4_2_2_1_0_0_20221019_5246_20240422195054.jpg: 640x480 1 leaves, 16.7ms\n",
      "Speed: 1.7ms preprocess, 16.7ms inference, 0.4ms postprocess per image at shape (1, 3, 640, 480)\n",
      "x: 91, y: 0, w: 2908, h: 3268, class: 1\n",
      "\n",
      "image 1/1 /home/knuvi/Desktop/song/cucumber-image/data/oi/train/V003_3_3_1_2_4_2_2_1_0_0_20221019_5221_20240422195053.jpg: 640x480 1 leaves, 17.2ms\n",
      "Speed: 1.8ms preprocess, 17.2ms inference, 0.4ms postprocess per image at shape (1, 3, 640, 480)\n",
      "x: 1947, y: 1, w: 1052, h: 1181, class: 1\n",
      "\n",
      "image 1/1 /home/knuvi/Desktop/song/cucumber-image/data/oi/train/V003_3_3_1_2_4_2_2_1_0_0_20221019_5139_20240422195049.jpg: 640x480 (no detections), 17.7ms\n",
      "Speed: 1.7ms preprocess, 17.7ms inference, 0.2ms postprocess per image at shape (1, 3, 640, 480)\n",
      "\n",
      "image 1/1 /home/knuvi/Desktop/song/cucumber-image/data/oi/train/V003_3_3_1_2_4_2_2_1_0_0_20221019_5316_20240422195058.jpg: 640x480 3 leavess, 16.7ms\n",
      "Speed: 1.7ms preprocess, 16.7ms inference, 0.4ms postprocess per image at shape (1, 3, 640, 480)\n",
      "x: 3, y: 3, w: 2996, h: 1894, class: 1\n",
      "x: 1858, y: 1687, w: 1141, h: 1248, class: 1\n",
      "V003_3_3_1_2_4_2_2_1_0_0_20221019_5316_20240422195058.jpg: 1개의 leaf 객체 추가\n",
      "\n",
      "image 1/1 /home/knuvi/Desktop/song/cucumber-image/data/oi/train/V003_3_3_1_2_4_2_2_1_0_0_20221019_5304_20240422195058.jpg: 640x480 (no detections), 16.7ms\n",
      "Speed: 1.7ms preprocess, 16.7ms inference, 0.2ms postprocess per image at shape (1, 3, 640, 480)\n",
      "\n",
      "image 1/1 /home/knuvi/Desktop/song/cucumber-image/data/oi/train/V003_3_3_1_2_4_2_2_1_0_0_20221019_5288_20240422195057.jpg: 640x480 (no detections), 16.6ms\n",
      "Speed: 1.6ms preprocess, 16.6ms inference, 0.2ms postprocess per image at shape (1, 3, 640, 480)\n",
      "\n",
      "image 1/1 /home/knuvi/Desktop/song/cucumber-image/data/oi/train/V003_3_3_1_2_4_2_2_1_0_0_20221019_5234_20240422195054.jpg: 640x480 (no detections), 16.6ms\n",
      "Speed: 1.6ms preprocess, 16.6ms inference, 0.2ms postprocess per image at shape (1, 3, 640, 480)\n",
      "\n",
      "image 1/1 /home/knuvi/Desktop/song/cucumber-image/data/oi/train/V003_3_3_1_2_4_2_2_1_0_0_20221019_5258_20240422195055.jpg: 640x480 1 leaves, 17.1ms\n",
      "Speed: 2.3ms preprocess, 17.1ms inference, 0.4ms postprocess per image at shape (1, 3, 640, 480)\n",
      "x: 2409, y: 0, w: 588, h: 1048, class: 1\n",
      "\n",
      "image 1/1 /home/knuvi/Desktop/song/cucumber-image/data/oi/train/V003_3_3_1_2_4_2_2_1_0_0_20221019_5198_20240422195052.jpg: 640x480 3 leavess, 16.9ms\n",
      "Speed: 1.7ms preprocess, 16.9ms inference, 0.4ms postprocess per image at shape (1, 3, 640, 480)\n",
      "x: 369, y: 167, w: 645, h: 776, class: 1\n",
      "x: 1585, y: 0, w: 1414, h: 708, class: 1\n",
      "x: 276, y: 0, w: 655, h: 191, class: 1\n",
      "V003_3_3_1_2_4_2_2_1_0_0_20221019_5198_20240422195052.jpg: 2개의 leaf 객체 추가\n",
      "\n",
      "image 1/1 /home/knuvi/Desktop/song/cucumber-image/data/oi/train/V003_3_3_1_2_4_2_2_1_0_0_20221019_5105_20240422195047.jpg: 640x480 2 leavess, 16.8ms\n",
      "Speed: 1.7ms preprocess, 16.8ms inference, 0.4ms postprocess per image at shape (1, 3, 640, 480)\n",
      "x: 3, y: 2534, w: 961, h: 1465, class: 1\n",
      "x: 4, y: 0, w: 1639, h: 1207, class: 1\n",
      "V003_3_3_1_2_4_2_2_1_0_0_20221019_5105_20240422195047.jpg: 1개의 leaf 객체 추가\n",
      "\n",
      "image 1/1 /home/knuvi/Desktop/song/cucumber-image/data/oi/train/V003_3_3_1_2_4_2_2_1_0_0_20221019_5158_20240422195050.jpg: 640x480 (no detections), 16.7ms\n",
      "Speed: 1.7ms preprocess, 16.7ms inference, 0.2ms postprocess per image at shape (1, 3, 640, 480)\n",
      "\n",
      "image 1/1 /home/knuvi/Desktop/song/cucumber-image/data/oi/train/V003_3_3_1_2_4_2_2_1_0_0_20221019_5315_20240422195058.jpg: 640x480 3 leavess, 16.7ms\n",
      "Speed: 1.6ms preprocess, 16.7ms inference, 0.4ms postprocess per image at shape (1, 3, 640, 480)\n",
      "x: 4, y: 2059, w: 1197, h: 1940, class: 1\n",
      "x: 315, y: 446, w: 1170, h: 997, class: 1\n",
      "x: 2144, y: 0, w: 855, h: 2729, class: 1\n",
      "V003_3_3_1_2_4_2_2_1_0_0_20221019_5315_20240422195058.jpg: 2개의 leaf 객체 추가\n",
      "\n",
      "image 1/1 /home/knuvi/Desktop/song/cucumber-image/data/oi/train/V003_3_3_1_2_4_2_2_1_0_0_20221019_5223_20240422195053.jpg: 640x480 1 leaves, 16.7ms\n",
      "Speed: 1.7ms preprocess, 16.7ms inference, 0.4ms postprocess per image at shape (1, 3, 640, 480)\n",
      "x: 2327, y: 0, w: 671, h: 3319, class: 1\n",
      "\n",
      "image 1/1 /home/knuvi/Desktop/song/cucumber-image/data/oi/train/V003_3_3_1_2_4_2_2_1_0_0_20221019_5129_20240422195048.jpg: 640x480 (no detections), 16.9ms\n",
      "Speed: 2.0ms preprocess, 16.9ms inference, 0.2ms postprocess per image at shape (1, 3, 640, 480)\n",
      "\n",
      "image 1/1 /home/knuvi/Desktop/song/cucumber-image/data/oi/train/V003_3_3_1_2_4_2_2_1_0_0_20221019_5214_20240422195053.jpg: 640x480 (no detections), 17.5ms\n",
      "Speed: 1.7ms preprocess, 17.5ms inference, 0.2ms postprocess per image at shape (1, 3, 640, 480)\n",
      "\n",
      "image 1/1 /home/knuvi/Desktop/song/cucumber-image/data/oi/train/V003_3_3_1_2_4_2_2_1_0_0_20221019_5306_20240422195058.jpg: 640x480 1 leaves, 16.8ms\n",
      "Speed: 1.7ms preprocess, 16.8ms inference, 0.4ms postprocess per image at shape (1, 3, 640, 480)\n",
      "x: 0, y: 870, w: 606, h: 3048, class: 1\n",
      "\n",
      "image 1/1 /home/knuvi/Desktop/song/cucumber-image/data/oi/train/V003_3_3_1_2_4_2_2_1_0_0_20221015_5082_20240422195046.jpg: 640x480 1 leaves, 16.9ms\n",
      "Speed: 1.7ms preprocess, 16.9ms inference, 0.4ms postprocess per image at shape (1, 3, 640, 480)\n",
      "x: 1087, y: 3135, w: 1905, h: 861, class: 1\n",
      "\n",
      "image 1/1 /home/knuvi/Desktop/song/cucumber-image/data/oi/train/V003_3_3_1_2_4_2_2_1_0_0_20221019_5172_20240422195050.jpg: 640x480 (no detections), 16.6ms\n",
      "Speed: 1.6ms preprocess, 16.6ms inference, 0.2ms postprocess per image at shape (1, 3, 640, 480)\n",
      "\n",
      "image 1/1 /home/knuvi/Desktop/song/cucumber-image/data/oi/train/V003_3_3_1_2_4_2_2_1_0_0_20221019_5111_20240422195047.jpg: 640x480 1 leaves, 17.0ms\n",
      "Speed: 1.7ms preprocess, 17.0ms inference, 0.4ms postprocess per image at shape (1, 3, 640, 480)\n",
      "x: 2, y: 3413, w: 603, h: 586, class: 1\n",
      "\n",
      "image 1/1 /home/knuvi/Desktop/song/cucumber-image/data/oi/train/V003_3_3_1_2_4_2_2_1_0_0_20221019_5260_20240422195055.jpg: 640x480 2 leavess, 16.7ms\n",
      "Speed: 1.7ms preprocess, 16.7ms inference, 0.4ms postprocess per image at shape (1, 3, 640, 480)\n",
      "x: 25, y: 0, w: 2971, h: 598, class: 1\n",
      "\n",
      "image 1/1 /home/knuvi/Desktop/song/cucumber-image/data/oi/train/V003_3_3_1_2_4_2_2_1_0_0_20221019_5151_20240422195049.jpg: 640x480 3 leavess, 17.1ms\n",
      "Speed: 1.8ms preprocess, 17.1ms inference, 0.4ms postprocess per image at shape (1, 3, 640, 480)\n",
      "x: 1792, y: 1423, w: 1205, h: 2576, class: 1\n",
      "x: 5, y: 1914, w: 1400, h: 2085, class: 1\n",
      "x: 0, y: 0, w: 690, h: 1747, class: 1\n",
      "V003_3_3_1_2_4_2_2_1_0_0_20221019_5151_20240422195049.jpg: 2개의 leaf 객체 추가\n",
      "\n",
      "image 1/1 /home/knuvi/Desktop/song/cucumber-image/data/oi/train/V003_3_3_1_2_4_2_2_1_0_0_20221019_5259_20240422195055.jpg: 640x480 1 leaves, 17.0ms\n",
      "Speed: 1.7ms preprocess, 17.0ms inference, 0.4ms postprocess per image at shape (1, 3, 640, 480)\n",
      "x: 9, y: 558, w: 2990, h: 3424, class: 1\n",
      "\n",
      "image 1/1 /home/knuvi/Desktop/song/cucumber-image/data/oi/train/V003_3_3_1_2_4_2_2_1_0_0_20221019_5161_20240422195050.jpg: 640x480 1 leaves, 16.7ms\n",
      "Speed: 1.7ms preprocess, 16.7ms inference, 0.4ms postprocess per image at shape (1, 3, 640, 480)\n",
      "x: 1, y: 2201, w: 1479, h: 1794, class: 1\n",
      "\n",
      "image 1/1 /home/knuvi/Desktop/song/cucumber-image/data/oi/train/V003_3_3_1_2_4_2_2_1_0_0_20221019_5109_20240422195047.jpg: 640x480 (no detections), 16.9ms\n",
      "Speed: 1.7ms preprocess, 16.9ms inference, 0.2ms postprocess per image at shape (1, 3, 640, 480)\n",
      "\n",
      "image 1/1 /home/knuvi/Desktop/song/cucumber-image/data/oi/train/V003_3_3_1_2_4_2_2_1_0_0_20221019_5237_20240422195054.jpg: 640x480 2 leavess, 16.8ms\n",
      "Speed: 1.7ms preprocess, 16.8ms inference, 0.4ms postprocess per image at shape (1, 3, 640, 480)\n",
      "x: 381, y: 2859, w: 741, h: 942, class: 1\n",
      "x: 1925, y: 0, w: 1074, h: 710, class: 1\n",
      "V003_3_3_1_2_4_2_2_1_0_0_20221019_5237_20240422195054.jpg: 1개의 leaf 객체 추가\n",
      "\n",
      "image 1/1 /home/knuvi/Desktop/song/cucumber-image/data/oi/train/V003_3_3_1_2_4_2_2_1_0_0_20221019_5187_20240422195051.jpg: 640x480 1 leaves, 17.5ms\n",
      "Speed: 1.8ms preprocess, 17.5ms inference, 0.4ms postprocess per image at shape (1, 3, 640, 480)\n",
      "x: 142, y: 2828, w: 1001, h: 1171, class: 1\n",
      "\n",
      "image 1/1 /home/knuvi/Desktop/song/cucumber-image/data/oi/train/V003_3_3_1_2_4_2_2_1_0_0_20221019_5102_20240422195047.jpg: 640x480 (no detections), 17.0ms\n",
      "Speed: 2.3ms preprocess, 17.0ms inference, 0.2ms postprocess per image at shape (1, 3, 640, 480)\n",
      "\n",
      "image 1/1 /home/knuvi/Desktop/song/cucumber-image/data/oi/train/V003_3_3_1_2_4_2_2_1_0_0_20221019_5209_20240422195052.jpg: 640x480 1 leaves, 16.7ms\n",
      "Speed: 1.6ms preprocess, 16.7ms inference, 0.4ms postprocess per image at shape (1, 3, 640, 480)\n",
      "x: 0, y: 1610, w: 3000, h: 2389, class: 1\n",
      "\n",
      "image 1/1 /home/knuvi/Desktop/song/cucumber-image/data/oi/train/V003_3_3_1_2_4_2_2_1_0_0_20221019_5182_20240422195051.jpg: 640x480 (no detections), 16.7ms\n",
      "Speed: 1.7ms preprocess, 16.7ms inference, 0.2ms postprocess per image at shape (1, 3, 640, 480)\n",
      "\n",
      "image 1/1 /home/knuvi/Desktop/song/cucumber-image/data/oi/train/V003_3_3_1_2_4_2_2_1_0_0_20221019_5175_20240422195051.jpg: 640x480 1 leaves, 16.6ms\n",
      "Speed: 1.7ms preprocess, 16.6ms inference, 0.4ms postprocess per image at shape (1, 3, 640, 480)\n",
      "x: 7, y: 3421, w: 1844, h: 575, class: 1\n",
      "\n",
      "image 1/1 /home/knuvi/Desktop/song/cucumber-image/data/oi/train/V003_3_3_1_2_4_2_2_1_0_0_20221019_5124_20240422195048.jpg: 640x480 (no detections), 16.7ms\n",
      "Speed: 1.6ms preprocess, 16.7ms inference, 0.2ms postprocess per image at shape (1, 3, 640, 480)\n",
      "\n",
      "image 1/1 /home/knuvi/Desktop/song/cucumber-image/data/oi/train/V003_3_3_1_2_4_2_2_1_0_0_20221019_5132_20240422195048.jpg: 640x480 2 leavess, 17.1ms\n",
      "Speed: 1.7ms preprocess, 17.1ms inference, 0.4ms postprocess per image at shape (1, 3, 640, 480)\n",
      "x: 0, y: 17, w: 661, h: 3511, class: 1\n",
      "x: 0, y: 0, w: 1919, h: 3720, class: 1\n",
      "V003_3_3_1_2_4_2_2_1_0_0_20221019_5132_20240422195048.jpg: 1개의 leaf 객체 추가\n",
      "\n",
      "image 1/1 /home/knuvi/Desktop/song/cucumber-image/data/oi/train/V003_3_3_1_2_4_2_2_1_0_0_20221019_5228_20240422195053.jpg: 640x480 4 leavess, 17.0ms\n",
      "Speed: 1.8ms preprocess, 17.0ms inference, 0.4ms postprocess per image at shape (1, 3, 640, 480)\n",
      "x: 1467, y: 0, w: 1243, h: 573, class: 1\n",
      "x: 4, y: 0, w: 977, h: 784, class: 1\n",
      "V003_3_3_1_2_4_2_2_1_0_0_20221019_5228_20240422195053.jpg: 1개의 leaf 객체 추가\n",
      "\n",
      "image 1/1 /home/knuvi/Desktop/song/cucumber-image/data/oi/train/V003_3_3_1_2_4_2_2_1_0_0_20221019_5112_20240422195047.jpg: 640x480 (no detections), 16.8ms\n",
      "Speed: 1.7ms preprocess, 16.8ms inference, 0.2ms postprocess per image at shape (1, 3, 640, 480)\n",
      "\n",
      "image 1/1 /home/knuvi/Desktop/song/cucumber-image/data/oi/train/V003_3_3_1_2_4_2_2_1_0_0_20221019_5174_20240422195051.jpg: 640x480 (no detections), 16.7ms\n",
      "Speed: 1.7ms preprocess, 16.7ms inference, 0.2ms postprocess per image at shape (1, 3, 640, 480)\n",
      "\n",
      "image 1/1 /home/knuvi/Desktop/song/cucumber-image/data/oi/train/V003_3_3_1_2_4_2_2_1_0_0_20221015_5070_20240422195045.jpg: 640x480 3 leavess, 16.8ms\n",
      "Speed: 1.7ms preprocess, 16.8ms inference, 0.4ms postprocess per image at shape (1, 3, 640, 480)\n",
      "x: 2295, y: 10, w: 703, h: 3697, class: 1\n",
      "x: 121, y: 2584, w: 1311, h: 1415, class: 1\n",
      "x: 130, y: 0, w: 2869, h: 3671, class: 1\n",
      "V003_3_3_1_2_4_2_2_1_0_0_20221015_5070_20240422195045.jpg: 2개의 leaf 객체 추가\n",
      "\n",
      "image 1/1 /home/knuvi/Desktop/song/cucumber-image/data/oi/train/V003_3_3_1_2_4_2_2_1_0_0_20221019_5204_20240422195052.jpg: 640x480 1 leaves, 17.1ms\n",
      "Speed: 1.7ms preprocess, 17.1ms inference, 0.4ms postprocess per image at shape (1, 3, 640, 480)\n",
      "x: 0, y: 0, w: 1475, h: 2094, class: 1\n",
      "\n",
      "image 1/1 /home/knuvi/Desktop/song/cucumber-image/data/oi/train/V003_3_3_1_2_4_2_2_1_0_0_20221019_5277_20240422195056.jpg: 640x480 (no detections), 16.8ms\n",
      "Speed: 1.7ms preprocess, 16.8ms inference, 0.2ms postprocess per image at shape (1, 3, 640, 480)\n",
      "\n",
      "image 1/1 /home/knuvi/Desktop/song/cucumber-image/data/oi/train/V003_3_3_1_2_4_2_2_1_0_0_20221019_5137_20240422195049.jpg: 640x480 1 leaves, 17.0ms\n",
      "Speed: 1.8ms preprocess, 17.0ms inference, 0.4ms postprocess per image at shape (1, 3, 640, 480)\n",
      "x: 2082, y: 0, w: 917, h: 1446, class: 1\n",
      "\n",
      "image 1/1 /home/knuvi/Desktop/song/cucumber-image/data/oi/train/V003_3_3_1_2_4_2_2_1_0_0_20221019_5265_20240422195055.jpg: 640x480 1 leaves, 19.0ms\n",
      "Speed: 1.7ms preprocess, 19.0ms inference, 0.4ms postprocess per image at shape (1, 3, 640, 480)\n",
      "x: 37, y: 0, w: 1923, h: 486, class: 1\n",
      "\n",
      "image 1/1 /home/knuvi/Desktop/song/cucumber-image/data/oi/train/V003_3_3_1_2_4_2_2_1_0_0_20221019_5257_20240422195055.jpg: 640x480 (no detections), 16.7ms\n",
      "Speed: 1.7ms preprocess, 16.7ms inference, 0.2ms postprocess per image at shape (1, 3, 640, 480)\n",
      "\n",
      "image 1/1 /home/knuvi/Desktop/song/cucumber-image/data/oi/train/V003_3_3_1_2_4_2_2_1_0_0_20221019_5167_20240422195050.jpg: 640x480 (no detections), 16.6ms\n",
      "Speed: 1.6ms preprocess, 16.6ms inference, 0.2ms postprocess per image at shape (1, 3, 640, 480)\n",
      "\n",
      "image 1/1 /home/knuvi/Desktop/song/cucumber-image/data/oi/train/V003_3_3_1_2_4_2_2_1_0_0_20221019_5162_20240422195050.jpg: 640x480 (no detections), 16.6ms\n",
      "Speed: 1.6ms preprocess, 16.6ms inference, 0.2ms postprocess per image at shape (1, 3, 640, 480)\n",
      "\n",
      "image 1/1 /home/knuvi/Desktop/song/cucumber-image/data/oi/train/V003_3_3_1_2_4_2_2_1_0_0_20221019_5188_20240422195051.jpg: 640x480 (no detections), 16.7ms\n",
      "Speed: 1.7ms preprocess, 16.7ms inference, 0.2ms postprocess per image at shape (1, 3, 640, 480)\n",
      "\n",
      "image 1/1 /home/knuvi/Desktop/song/cucumber-image/data/oi/train/V003_3_3_1_2_4_2_2_1_0_0_20221019_5165_20240422195050.jpg: 640x480 1 leaves, 17.0ms\n",
      "Speed: 1.8ms preprocess, 17.0ms inference, 0.4ms postprocess per image at shape (1, 3, 640, 480)\n",
      "x: 13, y: 0, w: 2986, h: 3495, class: 1\n",
      "\n",
      "image 1/1 /home/knuvi/Desktop/song/cucumber-image/data/oi/train/V003_3_3_1_2_4_2_2_1_0_0_20221015_5068_20240422195045.jpg: 640x480 1 leaves, 16.9ms\n",
      "Speed: 1.7ms preprocess, 16.9ms inference, 0.4ms postprocess per image at shape (1, 3, 640, 480)\n",
      "x: 0, y: 3614, w: 1276, h: 383, class: 1\n",
      "\n",
      "image 1/1 /home/knuvi/Desktop/song/cucumber-image/data/oi/train/V003_3_3_1_2_4_2_2_1_0_0_20221019_5104_20240422195047.jpg: 640x480 3 leavess, 17.1ms\n",
      "Speed: 1.8ms preprocess, 17.1ms inference, 0.4ms postprocess per image at shape (1, 3, 640, 480)\n",
      "x: 2229, y: 835, w: 770, h: 664, class: 1\n",
      "x: 2064, y: 2, w: 935, h: 905, class: 1\n",
      "x: 25, y: 0, w: 2974, h: 2828, class: 1\n",
      "V003_3_3_1_2_4_2_2_1_0_0_20221019_5104_20240422195047.jpg: 2개의 leaf 객체 추가\n",
      "\n",
      "image 1/1 /home/knuvi/Desktop/song/cucumber-image/data/oi/train/V003_3_3_1_2_4_2_2_1_0_0_20221019_5309_20240422195058.jpg: 640x480 (no detections), 16.8ms\n",
      "Speed: 1.7ms preprocess, 16.8ms inference, 0.2ms postprocess per image at shape (1, 3, 640, 480)\n",
      "\n",
      "image 1/1 /home/knuvi/Desktop/song/cucumber-image/data/oi/train/V003_3_3_1_2_4_2_2_1_0_0_20221019_5287_20240422195057.jpg: 640x480 5 leavess, 16.6ms\n",
      "Speed: 1.6ms preprocess, 16.6ms inference, 0.4ms postprocess per image at shape (1, 3, 640, 480)\n",
      "x: 31, y: 0, w: 2968, h: 3569, class: 1\n",
      "x: 1601, y: 2064, w: 1390, h: 1935, class: 1\n",
      "x: 0, y: 26, w: 922, h: 3312, class: 1\n",
      "x: 2346, y: 12, w: 650, h: 3702, class: 1\n",
      "V003_3_3_1_2_4_2_2_1_0_0_20221019_5287_20240422195057.jpg: 3개의 leaf 객체 추가\n",
      "\n",
      "image 1/1 /home/knuvi/Desktop/song/cucumber-image/data/oi/train/V003_3_3_1_2_4_2_2_1_0_0_20221019_5310_20240422195058.jpg: 640x480 1 leaves, 17.2ms\n",
      "Speed: 2.3ms preprocess, 17.2ms inference, 0.4ms postprocess per image at shape (1, 3, 640, 480)\n",
      "x: 2, y: 87, w: 622, h: 1350, class: 1\n",
      "\n",
      "image 1/1 /home/knuvi/Desktop/song/cucumber-image/data/oi/train/V003_3_3_1_2_4_2_2_1_0_0_20221019_5229_20240422195053.jpg: 640x480 2 leavess, 17.0ms\n",
      "Speed: 1.8ms preprocess, 17.0ms inference, 0.4ms postprocess per image at shape (1, 3, 640, 480)\n",
      "x: 1510, y: 0, w: 1337, h: 680, class: 1\n",
      "x: 2522, y: 864, w: 477, h: 2438, class: 1\n",
      "V003_3_3_1_2_4_2_2_1_0_0_20221019_5229_20240422195053.jpg: 1개의 leaf 객체 추가\n",
      "\n",
      "image 1/1 /home/knuvi/Desktop/song/cucumber-image/data/oi/train/V003_3_3_1_2_4_2_2_1_0_0_20221019_5155_20240422195050.jpg: 640x480 2 leavess, 17.3ms\n",
      "Speed: 1.6ms preprocess, 17.3ms inference, 0.4ms postprocess per image at shape (1, 3, 640, 480)\n",
      "x: 144, y: 0, w: 2836, h: 1435, class: 1\n",
      "x: 0, y: 1017, w: 1257, h: 1542, class: 1\n",
      "V003_3_3_1_2_4_2_2_1_0_0_20221019_5155_20240422195050.jpg: 1개의 leaf 객체 추가\n",
      "\n",
      "image 1/1 /home/knuvi/Desktop/song/cucumber-image/data/oi/train/V003_3_3_1_2_4_2_2_1_0_0_20221019_5164_20240422195050.jpg: 640x480 1 leaves, 16.7ms\n",
      "Speed: 1.7ms preprocess, 16.7ms inference, 0.4ms postprocess per image at shape (1, 3, 640, 480)\n",
      "x: 2, y: 1085, w: 2036, h: 2914, class: 1\n",
      "\n",
      "image 1/1 /home/knuvi/Desktop/song/cucumber-image/data/oi/train/V003_3_3_1_2_4_2_2_1_0_0_20221019_5094_20240422195046.jpg: 640x480 1 leaves, 16.7ms\n",
      "Speed: 1.7ms preprocess, 16.7ms inference, 0.4ms postprocess per image at shape (1, 3, 640, 480)\n",
      "x: 0, y: 2378, w: 764, h: 1621, class: 1\n",
      "\n",
      "image 1/1 /home/knuvi/Desktop/song/cucumber-image/data/oi/train/V003_3_3_1_2_4_2_2_1_0_0_20221019_5121_20240422195048.jpg: 480x640 (no detections), 39.7ms\n",
      "Speed: 1.6ms preprocess, 39.7ms inference, 0.2ms postprocess per image at shape (1, 3, 480, 640)\n",
      "\n",
      "image 1/1 /home/knuvi/Desktop/song/cucumber-image/data/oi/train/V003_3_3_1_2_4_2_2_1_0_0_20221019_5218_20240422195053.jpg: 640x480 (no detections), 17.4ms\n",
      "Speed: 1.9ms preprocess, 17.4ms inference, 0.2ms postprocess per image at shape (1, 3, 640, 480)\n",
      "\n",
      "image 1/1 /home/knuvi/Desktop/song/cucumber-image/data/oi/train/V003_3_3_1_2_4_2_2_1_0_0_20221019_5264_20240422195055.jpg: 640x480 (no detections), 16.9ms\n",
      "Speed: 1.7ms preprocess, 16.9ms inference, 0.2ms postprocess per image at shape (1, 3, 640, 480)\n",
      "\n",
      "image 1/1 /home/knuvi/Desktop/song/cucumber-image/data/oi/train/V003_3_3_1_2_4_2_2_1_0_0_20221019_5293_20240422195057.jpg: 640x480 2 leavess, 16.7ms\n",
      "Speed: 1.7ms preprocess, 16.7ms inference, 0.4ms postprocess per image at shape (1, 3, 640, 480)\n",
      "x: 1609, y: 1700, w: 607, h: 678, class: 1\n",
      "x: 1709, y: 5, w: 861, h: 895, class: 1\n",
      "V003_3_3_1_2_4_2_2_1_0_0_20221019_5293_20240422195057.jpg: 1개의 leaf 객체 추가\n",
      "\n",
      "image 1/1 /home/knuvi/Desktop/song/cucumber-image/data/oi/train/V003_3_3_1_2_4_2_2_1_0_0_20221019_5275_20240422195056.jpg: 640x480 1 leaves, 16.8ms\n",
      "Speed: 1.7ms preprocess, 16.8ms inference, 0.4ms postprocess per image at shape (1, 3, 640, 480)\n",
      "x: 2172, y: 0, w: 827, h: 1055, class: 1\n",
      "\n",
      "image 1/1 /home/knuvi/Desktop/song/cucumber-image/data/oi/train/V003_3_3_1_2_4_2_2_1_0_0_20221019_5143_20240422195049.jpg: 640x480 1 leaves, 16.7ms\n",
      "Speed: 1.6ms preprocess, 16.7ms inference, 0.4ms postprocess per image at shape (1, 3, 640, 480)\n",
      "x: 2347, y: 1398, w: 652, h: 2601, class: 1\n",
      "\n",
      "image 1/1 /home/knuvi/Desktop/song/cucumber-image/data/oi/train/V003_3_3_1_2_4_2_2_1_0_0_20221019_5097_20240422195047.jpg: 640x480 3 leavess, 16.8ms\n",
      "Speed: 1.7ms preprocess, 16.8ms inference, 0.4ms postprocess per image at shape (1, 3, 640, 480)\n",
      "x: 2, y: 0, w: 935, h: 1518, class: 1\n",
      "x: 0, y: 1297, w: 599, h: 2612, class: 1\n",
      "V003_3_3_1_2_4_2_2_1_0_0_20221019_5097_20240422195047.jpg: 1개의 leaf 객체 추가\n",
      "\n",
      "image 1/1 /home/knuvi/Desktop/song/cucumber-image/data/oi/train/V003_3_3_1_2_4_2_2_1_0_0_20221019_5215_20240422195053.jpg: 640x480 (no detections), 16.8ms\n",
      "Speed: 1.8ms preprocess, 16.8ms inference, 0.2ms postprocess per image at shape (1, 3, 640, 480)\n",
      "\n",
      "image 1/1 /home/knuvi/Desktop/song/cucumber-image/data/oi/train/V003_3_3_1_2_4_2_2_1_0_0_20221019_5098_20240422195047.jpg: 640x480 1 leaves, 16.9ms\n",
      "Speed: 1.7ms preprocess, 16.9ms inference, 0.4ms postprocess per image at shape (1, 3, 640, 480)\n",
      "x: 0, y: 1709, w: 823, h: 2243, class: 1\n",
      "\n",
      "image 1/1 /home/knuvi/Desktop/song/cucumber-image/data/oi/train/V003_3_3_1_2_4_2_2_1_0_0_20221015_5083_20240422195046.jpg: 640x480 (no detections), 16.7ms\n",
      "Speed: 1.6ms preprocess, 16.7ms inference, 0.2ms postprocess per image at shape (1, 3, 640, 480)\n",
      "\n",
      "image 1/1 /home/knuvi/Desktop/song/cucumber-image/data/oi/train/V003_3_3_1_2_4_2_2_1_0_0_20221019_5159_20240422195050.jpg: 640x480 1 leaves, 16.7ms\n",
      "Speed: 1.7ms preprocess, 16.7ms inference, 0.4ms postprocess per image at shape (1, 3, 640, 480)\n",
      "x: 3, y: 2435, w: 1710, h: 1561, class: 1\n",
      "\n",
      "image 1/1 /home/knuvi/Desktop/song/cucumber-image/data/oi/train/V003_3_3_1_2_4_2_2_1_0_0_20221019_5312_20240422195058.jpg: 640x480 (no detections), 16.7ms\n",
      "Speed: 1.6ms preprocess, 16.7ms inference, 0.2ms postprocess per image at shape (1, 3, 640, 480)\n",
      "\n",
      "image 1/1 /home/knuvi/Desktop/song/cucumber-image/data/oi/train/V003_3_3_1_2_4_2_2_1_0_0_20221019_5168_20240422195050.jpg: 640x480 4 leavess, 16.9ms\n",
      "Speed: 1.8ms preprocess, 16.9ms inference, 0.4ms postprocess per image at shape (1, 3, 640, 480)\n",
      "x: 4, y: 2153, w: 1441, h: 1846, class: 1\n",
      "x: 1744, y: 1770, w: 1249, h: 2229, class: 1\n",
      "x: 0, y: 4, w: 594, h: 2194, class: 1\n",
      "V003_3_3_1_2_4_2_2_1_0_0_20221019_5168_20240422195050.jpg: 2개의 leaf 객체 추가\n",
      "\n",
      "image 1/1 /home/knuvi/Desktop/song/cucumber-image/data/oi/train/V003_3_3_1_2_4_2_2_1_0_0_20221019_5150_20240422195049.jpg: 640x480 (no detections), 17.1ms\n",
      "Speed: 1.8ms preprocess, 17.1ms inference, 0.2ms postprocess per image at shape (1, 3, 640, 480)\n",
      "\n",
      "image 1/1 /home/knuvi/Desktop/song/cucumber-image/data/oi/train/V003_3_3_1_2_4_2_2_1_0_0_20221019_5224_20240422195053.jpg: 640x480 1 leaves, 16.8ms\n",
      "Speed: 1.7ms preprocess, 16.8ms inference, 0.4ms postprocess per image at shape (1, 3, 640, 480)\n",
      "x: 0, y: 2801, w: 877, h: 1198, class: 1\n",
      "\n",
      "image 1/1 /home/knuvi/Desktop/song/cucumber-image/data/oi/train/V003_3_3_1_2_4_2_2_1_0_0_20221019_5245_20240422195054.jpg: 640x480 (no detections), 16.7ms\n",
      "Speed: 1.6ms preprocess, 16.7ms inference, 0.2ms postprocess per image at shape (1, 3, 640, 480)\n",
      "\n",
      "image 1/1 /home/knuvi/Desktop/song/cucumber-image/data/oi/train/V003_3_3_1_2_4_2_2_1_0_0_20221019_5122_20240422195048.jpg: 640x480 (no detections), 16.7ms\n",
      "Speed: 1.6ms preprocess, 16.7ms inference, 0.2ms postprocess per image at shape (1, 3, 640, 480)\n",
      "\n",
      "image 1/1 /home/knuvi/Desktop/song/cucumber-image/data/oi/train/V003_3_3_1_2_4_2_2_1_0_0_20221019_5311_20240422195058.jpg: 640x480 (no detections), 16.7ms\n",
      "Speed: 1.6ms preprocess, 16.7ms inference, 0.2ms postprocess per image at shape (1, 3, 640, 480)\n",
      "\n",
      "image 1/1 /home/knuvi/Desktop/song/cucumber-image/data/oi/train/V003_3_3_1_2_4_2_2_1_0_0_20221019_5145_20240422195049.jpg: 640x480 2 leavess, 17.3ms\n",
      "Speed: 1.9ms preprocess, 17.3ms inference, 0.4ms postprocess per image at shape (1, 3, 640, 480)\n",
      "x: 0, y: 2983, w: 839, h: 1016, class: 1\n",
      "x: 2191, y: 962, w: 808, h: 3031, class: 1\n",
      "V003_3_3_1_2_4_2_2_1_0_0_20221019_5145_20240422195049.jpg: 1개의 leaf 객체 추가\n",
      "\n",
      "image 1/1 /home/knuvi/Desktop/song/cucumber-image/data/oi/train/V003_3_3_1_2_4_2_2_1_0_0_20221019_5185_20240422195051.jpg: 640x480 2 leavess, 17.6ms\n",
      "Speed: 1.7ms preprocess, 17.6ms inference, 0.4ms postprocess per image at shape (1, 3, 640, 480)\n",
      "x: 0, y: 2113, w: 602, h: 1886, class: 1\n",
      "x: 851, y: 0, w: 2146, h: 2832, class: 1\n",
      "V003_3_3_1_2_4_2_2_1_0_0_20221019_5185_20240422195051.jpg: 1개의 leaf 객체 추가\n",
      "\n",
      "image 1/1 /home/knuvi/Desktop/song/cucumber-image/data/oi/train/V003_3_3_1_2_4_2_2_1_0_0_20221019_5220_20240422195053.jpg: 640x480 (no detections), 16.8ms\n",
      "Speed: 1.7ms preprocess, 16.8ms inference, 0.2ms postprocess per image at shape (1, 3, 640, 480)\n",
      "\n",
      "image 1/1 /home/knuvi/Desktop/song/cucumber-image/data/oi/train/V003_3_3_1_2_4_2_2_1_0_0_20221019_5142_20240422195049.jpg: 640x480 2 leavess, 16.7ms\n",
      "Speed: 1.7ms preprocess, 16.7ms inference, 0.4ms postprocess per image at shape (1, 3, 640, 480)\n",
      "x: 2502, y: 1369, w: 497, h: 2630, class: 1\n",
      "x: 0, y: 1443, w: 587, h: 2312, class: 1\n",
      "V003_3_3_1_2_4_2_2_1_0_0_20221019_5142_20240422195049.jpg: 1개의 leaf 객체 추가\n",
      "\n",
      "image 1/1 /home/knuvi/Desktop/song/cucumber-image/data/oi/train/V003_3_3_1_2_4_2_2_1_0_0_20221019_5247_20240422195054.jpg: 640x480 1 leaves, 16.7ms\n",
      "Speed: 1.6ms preprocess, 16.7ms inference, 0.4ms postprocess per image at shape (1, 3, 640, 480)\n",
      "x: 421, y: 1404, w: 827, h: 829, class: 1\n",
      "\n",
      "image 1/1 /home/knuvi/Desktop/song/cucumber-image/data/oi/train/V003_3_3_1_2_4_2_2_1_0_0_20221019_5297_20240422195057.jpg: 640x480 2 leavess, 16.6ms\n",
      "Speed: 1.6ms preprocess, 16.6ms inference, 0.4ms postprocess per image at shape (1, 3, 640, 480)\n",
      "x: 1835, y: 1775, w: 663, h: 706, class: 1\n",
      "x: 0, y: 3, w: 1002, h: 1653, class: 1\n",
      "V003_3_3_1_2_4_2_2_1_0_0_20221019_5297_20240422195057.jpg: 1개의 leaf 객체 추가\n",
      "\n",
      "image 1/1 /home/knuvi/Desktop/song/cucumber-image/data/oi/train/V003_3_3_1_2_4_2_2_1_0_0_20221019_5243_20240422195054.jpg: 640x480 1 leaves, 17.1ms\n",
      "Speed: 2.3ms preprocess, 17.1ms inference, 0.4ms postprocess per image at shape (1, 3, 640, 480)\n",
      "x: 2115, y: 0, w: 884, h: 2902, class: 1\n",
      "\n",
      "image 1/1 /home/knuvi/Desktop/song/cucumber-image/data/oi/train/V003_3_3_1_2_4_2_2_1_0_0_20221019_5268_20240422195056.jpg: 640x480 (no detections), 17.6ms\n",
      "Speed: 1.7ms preprocess, 17.6ms inference, 0.2ms postprocess per image at shape (1, 3, 640, 480)\n",
      "\n",
      "image 1/1 /home/knuvi/Desktop/song/cucumber-image/data/oi/train/V003_3_3_1_2_4_2_2_1_0_0_20221019_5314_20240422195058.jpg: 640x480 1 leaves, 16.8ms\n",
      "Speed: 1.7ms preprocess, 16.8ms inference, 0.4ms postprocess per image at shape (1, 3, 640, 480)\n",
      "x: 2308, y: 773, w: 691, h: 1798, class: 1\n",
      "\n",
      "image 1/1 /home/knuvi/Desktop/song/cucumber-image/data/oi/train/V003_3_3_1_2_4_2_2_1_0_0_20221019_5184_20240422195051.jpg: 640x480 2 leavess, 16.7ms\n",
      "Speed: 1.7ms preprocess, 16.7ms inference, 0.4ms postprocess per image at shape (1, 3, 640, 480)\n",
      "x: 661, y: 0, w: 2338, h: 2894, class: 1\n",
      "x: 2163, y: 12, w: 836, h: 3386, class: 1\n",
      "V003_3_3_1_2_4_2_2_1_0_0_20221019_5184_20240422195051.jpg: 1개의 leaf 객체 추가\n",
      "\n",
      "image 1/1 /home/knuvi/Desktop/song/cucumber-image/data/oi/train/V003_3_3_1_2_4_2_2_1_0_0_20221019_5201_20240422195052.jpg: 640x480 (no detections), 16.7ms\n",
      "Speed: 1.7ms preprocess, 16.7ms inference, 0.2ms postprocess per image at shape (1, 3, 640, 480)\n",
      "\n",
      "image 1/1 /home/knuvi/Desktop/song/cucumber-image/data/oi/train/V003_3_3_1_2_4_2_2_1_0_0_20221019_5128_20240422195048.jpg: 640x480 2 leavess, 16.7ms\n",
      "Speed: 1.7ms preprocess, 16.7ms inference, 0.4ms postprocess per image at shape (1, 3, 640, 480)\n",
      "x: 2, y: 3075, w: 1246, h: 924, class: 1\n",
      "x: 0, y: 0, w: 1428, h: 1856, class: 1\n",
      "V003_3_3_1_2_4_2_2_1_0_0_20221019_5128_20240422195048.jpg: 1개의 leaf 객체 추가\n",
      "\n",
      "image 1/1 /home/knuvi/Desktop/song/cucumber-image/data/oi/train/V003_3_3_1_2_4_2_2_1_0_0_20221019_5194_20240422195052.jpg: 640x480 2 leavess, 17.2ms\n",
      "Speed: 1.7ms preprocess, 17.2ms inference, 0.4ms postprocess per image at shape (1, 3, 640, 480)\n",
      "x: 2072, y: 2692, w: 927, h: 1307, class: 1\n",
      "x: 814, y: 5, w: 2185, h: 2182, class: 1\n",
      "V003_3_3_1_2_4_2_2_1_0_0_20221019_5194_20240422195052.jpg: 1개의 leaf 객체 추가\n",
      "\n",
      "image 1/1 /home/knuvi/Desktop/song/cucumber-image/data/oi/train/V003_3_3_1_2_4_2_2_1_0_0_20221019_5236_20240422195054.jpg: 640x480 1 leaves, 17.7ms\n",
      "Speed: 1.7ms preprocess, 17.7ms inference, 0.4ms postprocess per image at shape (1, 3, 640, 480)\n",
      "x: 0, y: 0, w: 2637, h: 3629, class: 1\n",
      "\n",
      "image 1/1 /home/knuvi/Desktop/song/cucumber-image/data/oi/train/V003_3_3_1_2_4_2_2_1_0_0_20221019_5278_20240422195056.jpg: 640x480 (no detections), 16.8ms\n",
      "Speed: 1.7ms preprocess, 16.8ms inference, 0.2ms postprocess per image at shape (1, 3, 640, 480)\n",
      "\n",
      "image 1/1 /home/knuvi/Desktop/song/cucumber-image/data/oi/train/V003_3_3_1_2_4_2_2_1_0_0_20221019_5319_20240422195059.jpg: 640x480 3 leavess, 16.7ms\n",
      "Speed: 1.6ms preprocess, 16.7ms inference, 0.4ms postprocess per image at shape (1, 3, 640, 480)\n",
      "x: 3, y: 0, w: 1643, h: 1623, class: 1\n",
      "x: 1358, y: 256, w: 1204, h: 1413, class: 1\n",
      "x: 1336, y: 1554, w: 1133, h: 938, class: 1\n",
      "V003_3_3_1_2_4_2_2_1_0_0_20221019_5319_20240422195059.jpg: 2개의 leaf 객체 추가\n",
      "\n",
      "image 1/1 /home/knuvi/Desktop/song/cucumber-image/data/oi/train/V003_3_3_1_2_4_2_2_1_0_0_20221019_5190_20240422195051.jpg: 640x480 2 leavess, 16.7ms\n",
      "Speed: 1.7ms preprocess, 16.7ms inference, 0.4ms postprocess per image at shape (1, 3, 640, 480)\n",
      "x: 0, y: 0, w: 1519, h: 4000, class: 1\n",
      "x: 25, y: 0, w: 2974, h: 3042, class: 1\n",
      "V003_3_3_1_2_4_2_2_1_0_0_20221019_5190_20240422195051.jpg: 1개의 leaf 객체 추가\n",
      "\n",
      "image 1/1 /home/knuvi/Desktop/song/cucumber-image/data/oi/train/V003_3_3_1_2_4_2_2_1_0_0_20221019_5238_20240422195054.jpg: 640x480 1 leaves, 16.8ms\n",
      "Speed: 1.7ms preprocess, 16.8ms inference, 0.4ms postprocess per image at shape (1, 3, 640, 480)\n",
      "x: 26, y: 0, w: 2973, h: 3077, class: 1\n",
      "\n",
      "image 1/1 /home/knuvi/Desktop/song/cucumber-image/data/oi/train/V003_3_3_1_2_4_2_2_1_0_0_20221019_5191_20240422195051.jpg: 640x480 1 leaves, 17.1ms\n",
      "Speed: 2.4ms preprocess, 17.1ms inference, 0.4ms postprocess per image at shape (1, 3, 640, 480)\n",
      "x: 34, y: 0, w: 2965, h: 3239, class: 1\n",
      "\n",
      "image 1/1 /home/knuvi/Desktop/song/cucumber-image/data/oi/train/V003_3_3_1_2_4_2_2_1_0_0_20221019_5313_20240422195058.jpg: 640x480 2 leavess, 17.5ms\n",
      "Speed: 1.7ms preprocess, 17.5ms inference, 0.4ms postprocess per image at shape (1, 3, 640, 480)\n",
      "x: 1890, y: 0, w: 1107, h: 2188, class: 1\n",
      "x: 0, y: 0, w: 2451, h: 1753, class: 1\n",
      "V003_3_3_1_2_4_2_2_1_0_0_20221019_5313_20240422195058.jpg: 1개의 leaf 객체 추가\n",
      "\n",
      "image 1/1 /home/knuvi/Desktop/song/cucumber-image/data/oi/train/V003_3_3_1_2_4_2_2_1_0_0_20221019_5160_20240422195050.jpg: 640x480 2 leavess, 16.9ms\n",
      "Speed: 1.7ms preprocess, 16.9ms inference, 0.4ms postprocess per image at shape (1, 3, 640, 480)\n",
      "x: 0, y: 3161, w: 1638, h: 833, class: 1\n",
      "x: 2000, y: 855, w: 999, h: 1600, class: 1\n",
      "V003_3_3_1_2_4_2_2_1_0_0_20221019_5160_20240422195050.jpg: 1개의 leaf 객체 추가\n",
      "\n",
      "image 1/1 /home/knuvi/Desktop/song/cucumber-image/data/oi/train/V003_3_3_1_2_4_2_2_1_0_0_20221019_5196_20240422195052.jpg: 640x480 2 leavess, 16.7ms\n",
      "Speed: 1.6ms preprocess, 16.7ms inference, 0.4ms postprocess per image at shape (1, 3, 640, 480)\n",
      "x: 2565, y: 1349, w: 434, h: 588, class: 1\n",
      "x: 3, y: 3, w: 1270, h: 1117, class: 1\n",
      "V003_3_3_1_2_4_2_2_1_0_0_20221019_5196_20240422195052.jpg: 1개의 leaf 객체 추가\n",
      "\n",
      "image 1/1 /home/knuvi/Desktop/song/cucumber-image/data/oi/train/V003_3_3_1_2_4_2_2_1_0_0_20221019_5308_20240422195058.jpg: 640x480 2 leavess, 16.8ms\n",
      "Speed: 1.7ms preprocess, 16.8ms inference, 0.4ms postprocess per image at shape (1, 3, 640, 480)\n",
      "x: 0, y: 224, w: 1339, h: 1846, class: 1\n",
      "\n",
      "image 1/1 /home/knuvi/Desktop/song/cucumber-image/data/oi/train/V003_3_3_1_2_4_2_2_1_0_0_20221019_5250_20240422195055.jpg: 640x480 1 leaves, 16.7ms\n",
      "Speed: 1.6ms preprocess, 16.7ms inference, 0.4ms postprocess per image at shape (1, 3, 640, 480)\n",
      "x: 1960, y: 2408, w: 1039, h: 1587, class: 1\n",
      "\n",
      "image 1/1 /home/knuvi/Desktop/song/cucumber-image/data/oi/train/V003_3_3_1_2_4_2_2_1_0_0_20221019_5169_20240422195050.jpg: 640x480 (no detections), 16.9ms\n",
      "Speed: 1.8ms preprocess, 16.9ms inference, 0.2ms postprocess per image at shape (1, 3, 640, 480)\n",
      "\n",
      "image 1/1 /home/knuvi/Desktop/song/cucumber-image/data/oi/train/V003_3_3_1_2_4_2_2_1_0_0_20221019_5296_20240422195057.jpg: 640x480 1 leaves, 17.0ms\n",
      "Speed: 1.8ms preprocess, 17.0ms inference, 0.4ms postprocess per image at shape (1, 3, 640, 480)\n",
      "x: 2404, y: 606, w: 595, h: 1019, class: 1\n",
      "\n",
      "image 1/1 /home/knuvi/Desktop/song/cucumber-image/data/oi/train/V003_3_3_1_2_4_2_2_1_0_0_20221019_5127_20240422195048.jpg: 640x480 (no detections), 16.8ms\n",
      "Speed: 1.7ms preprocess, 16.8ms inference, 0.2ms postprocess per image at shape (1, 3, 640, 480)\n",
      "\n",
      "image 1/1 /home/knuvi/Desktop/song/cucumber-image/data/oi/train/V003_3_3_1_2_4_2_2_1_0_0_20221019_5300_20240422195057.jpg: 640x480 1 leaves, 16.7ms\n",
      "Speed: 1.6ms preprocess, 16.7ms inference, 0.4ms postprocess per image at shape (1, 3, 640, 480)\n",
      "x: 2091, y: 0, w: 908, h: 2917, class: 1\n",
      "\n",
      "image 1/1 /home/knuvi/Desktop/song/cucumber-image/data/oi/train/V003_3_3_1_2_4_2_2_1_0_0_20221019_5147_20240422195049.jpg: 640x480 (no detections), 16.7ms\n",
      "Speed: 1.6ms preprocess, 16.7ms inference, 0.2ms postprocess per image at shape (1, 3, 640, 480)\n",
      "\n",
      "image 1/1 /home/knuvi/Desktop/song/cucumber-image/data/oi/train/V003_3_3_1_2_4_2_2_1_0_0_20221019_5135_20240422195048.jpg: 640x480 1 leaves, 16.6ms\n",
      "Speed: 1.6ms preprocess, 16.6ms inference, 0.4ms postprocess per image at shape (1, 3, 640, 480)\n",
      "x: 0, y: 2801, w: 877, h: 1198, class: 1\n",
      "\n",
      "image 1/1 /home/knuvi/Desktop/song/cucumber-image/data/oi/train/V003_3_3_1_2_4_2_2_1_0_0_20221019_5089_20240422195046.jpg: 640x480 (no detections), 16.8ms\n",
      "Speed: 1.9ms preprocess, 16.8ms inference, 0.2ms postprocess per image at shape (1, 3, 640, 480)\n",
      "\n",
      "image 1/1 /home/knuvi/Desktop/song/cucumber-image/data/oi/train/V003_3_3_1_2_4_2_2_1_0_0_20221019_5239_20240422195054.jpg: 640x480 (no detections), 16.9ms\n",
      "Speed: 1.7ms preprocess, 16.9ms inference, 0.2ms postprocess per image at shape (1, 3, 640, 480)\n",
      "\n",
      "image 1/1 /home/knuvi/Desktop/song/cucumber-image/data/oi/train/V003_3_3_1_2_4_2_2_1_0_0_20221019_5177_20240422195051.jpg: 640x480 (no detections), 17.0ms\n",
      "Speed: 1.8ms preprocess, 17.0ms inference, 0.2ms postprocess per image at shape (1, 3, 640, 480)\n",
      "\n",
      "image 1/1 /home/knuvi/Desktop/song/cucumber-image/data/oi/train/V003_3_3_1_2_4_2_2_1_0_0_20221019_5305_20240422195058.jpg: 640x480 (no detections), 16.9ms\n",
      "Speed: 1.7ms preprocess, 16.9ms inference, 0.2ms postprocess per image at shape (1, 3, 640, 480)\n",
      "\n",
      "image 1/1 /home/knuvi/Desktop/song/cucumber-image/data/oi/train/V003_3_3_1_2_4_2_2_1_0_0_20221015_5072_20240422195045.jpg: 640x480 4 leavess, 16.7ms\n",
      "Speed: 1.7ms preprocess, 16.7ms inference, 0.4ms postprocess per image at shape (1, 3, 640, 480)\n",
      "x: 18, y: 0, w: 2981, h: 3940, class: 1\n",
      "x: 5, y: 2752, w: 2994, h: 1247, class: 1\n",
      "x: 2497, y: 14, w: 502, h: 3628, class: 1\n",
      "V003_3_3_1_2_4_2_2_1_0_0_20221015_5072_20240422195045.jpg: 2개의 leaf 객체 추가\n",
      "\n",
      "image 1/1 /home/knuvi/Desktop/song/cucumber-image/data/oi/train/V003_3_3_1_2_4_2_2_1_0_0_20221019_5318_20240422195058.jpg: 640x480 (no detections), 16.7ms\n",
      "Speed: 1.7ms preprocess, 16.7ms inference, 0.2ms postprocess per image at shape (1, 3, 640, 480)\n",
      "\n",
      "image 1/1 /home/knuvi/Desktop/song/cucumber-image/data/oi/train/V003_3_3_1_2_4_2_2_1_0_0_20221019_5282_20240422195056.jpg: 640x480 3 leavess, 16.8ms\n",
      "Speed: 1.9ms preprocess, 16.8ms inference, 0.4ms postprocess per image at shape (1, 3, 640, 480)\n",
      "x: 19, y: 0, w: 2980, h: 3637, class: 1\n",
      "x: 2377, y: 5, w: 622, h: 3697, class: 1\n",
      "x: 1579, y: 20, w: 1420, h: 3658, class: 1\n",
      "V003_3_3_1_2_4_2_2_1_0_0_20221019_5282_20240422195056.jpg: 2개의 leaf 객체 추가\n",
      "\n",
      "image 1/1 /home/knuvi/Desktop/song/cucumber-image/data/oi/train/V003_3_3_1_2_4_2_2_1_0_0_20221019_5266_20240422195055.jpg: 640x480 (no detections), 17.1ms\n",
      "Speed: 1.7ms preprocess, 17.1ms inference, 0.2ms postprocess per image at shape (1, 3, 640, 480)\n",
      "\n",
      "image 1/1 /home/knuvi/Desktop/song/cucumber-image/data/oi/train/V003_3_3_1_2_4_2_2_1_0_0_20221019_5290_20240422195057.jpg: 640x480 (no detections), 16.8ms\n",
      "Speed: 1.7ms preprocess, 16.8ms inference, 0.2ms postprocess per image at shape (1, 3, 640, 480)\n",
      "\n",
      "image 1/1 /home/knuvi/Desktop/song/cucumber-image/data/oi/train/V003_3_3_1_2_4_2_2_1_0_0_20221019_5267_20240422195056.jpg: 640x480 (no detections), 16.7ms\n",
      "Speed: 1.7ms preprocess, 16.7ms inference, 0.2ms postprocess per image at shape (1, 3, 640, 480)\n",
      "\n",
      "image 1/1 /home/knuvi/Desktop/song/cucumber-image/data/oi/train/V003_3_3_1_2_4_2_2_1_0_0_20221019_5252_20240422195055.jpg: 640x480 2 leavess, 16.7ms\n",
      "Speed: 1.6ms preprocess, 16.7ms inference, 0.4ms postprocess per image at shape (1, 3, 640, 480)\n",
      "x: 71, y: 2886, w: 1952, h: 1113, class: 1\n",
      "x: 1890, y: 2098, w: 1109, h: 1901, class: 1\n",
      "V003_3_3_1_2_4_2_2_1_0_0_20221019_5252_20240422195055.jpg: 1개의 leaf 객체 추가\n",
      "\n",
      "image 1/1 /home/knuvi/Desktop/song/cucumber-image/data/oi/train/V003_3_3_1_2_4_2_2_1_0_0_20221019_5213_20240422195053.jpg: 640x480 (no detections), 16.8ms\n",
      "Speed: 1.6ms preprocess, 16.8ms inference, 0.2ms postprocess per image at shape (1, 3, 640, 480)\n",
      "\n",
      "image 1/1 /home/knuvi/Desktop/song/cucumber-image/data/oi/train/V003_3_3_1_2_4_2_2_1_0_0_20221019_5251_20240422195055.jpg: 640x480 2 leavess, 16.8ms\n",
      "Speed: 1.9ms preprocess, 16.8ms inference, 0.4ms postprocess per image at shape (1, 3, 640, 480)\n",
      "x: 1588, y: 1676, w: 1401, h: 2323, class: 1\n",
      "x: 2, y: 2193, w: 961, h: 1806, class: 1\n",
      "V003_3_3_1_2_4_2_2_1_0_0_20221019_5251_20240422195055.jpg: 1개의 leaf 객체 추가\n",
      "\n",
      "image 1/1 /home/knuvi/Desktop/song/cucumber-image/data/oi/train/V003_3_3_1_2_4_2_2_1_0_0_20221019_5273_20240422195056.jpg: 640x480 (no detections), 17.0ms\n",
      "Speed: 1.7ms preprocess, 17.0ms inference, 0.2ms postprocess per image at shape (1, 3, 640, 480)\n",
      "\n",
      "image 1/1 /home/knuvi/Desktop/song/cucumber-image/data/oi/train/V003_3_3_1_2_4_2_2_1_0_0_20221019_5299_20240422195057.jpg: 640x480 2 leavess, 16.9ms\n",
      "Speed: 1.7ms preprocess, 16.9ms inference, 0.4ms postprocess per image at shape (1, 3, 640, 480)\n",
      "x: 507, y: 253, w: 1275, h: 1564, class: 1\n",
      "x: 1707, y: 1395, w: 1080, h: 1616, class: 1\n",
      "V003_3_3_1_2_4_2_2_1_0_0_20221019_5299_20240422195057.jpg: 1개의 leaf 객체 추가\n",
      "\n",
      "image 1/1 /home/knuvi/Desktop/song/cucumber-image/data/oi/train/V003_3_3_1_2_4_2_2_1_0_0_20221019_5153_20240422195049.jpg: 640x480 (no detections), 16.8ms\n",
      "Speed: 1.6ms preprocess, 16.8ms inference, 0.2ms postprocess per image at shape (1, 3, 640, 480)\n",
      "\n",
      "image 1/1 /home/knuvi/Desktop/song/cucumber-image/data/oi/train/V003_3_3_1_2_4_2_2_1_0_0_20221019_5146_20240422195049.jpg: 640x480 (no detections), 16.7ms\n",
      "Speed: 1.7ms preprocess, 16.7ms inference, 0.2ms postprocess per image at shape (1, 3, 640, 480)\n",
      "\n",
      "image 1/1 /home/knuvi/Desktop/song/cucumber-image/data/oi/train/V003_3_3_1_2_4_2_2_1_0_0_20221019_5148_20240422195049.jpg: 640x480 (no detections), 16.6ms\n",
      "Speed: 1.7ms preprocess, 16.6ms inference, 0.2ms postprocess per image at shape (1, 3, 640, 480)\n",
      "\n",
      "image 1/1 /home/knuvi/Desktop/song/cucumber-image/data/oi/train/V003_3_3_1_2_4_2_2_1_0_0_20221019_5283_20240422195057.jpg: 640x480 2 leavess, 16.9ms\n",
      "Speed: 1.8ms preprocess, 16.9ms inference, 0.4ms postprocess per image at shape (1, 3, 640, 480)\n",
      "x: 1743, y: 17, w: 1256, h: 3672, class: 1\n",
      "x: 0, y: 686, w: 581, h: 1520, class: 1\n",
      "V003_3_3_1_2_4_2_2_1_0_0_20221019_5283_20240422195057.jpg: 1개의 leaf 객체 추가\n",
      "\n",
      "image 1/1 /home/knuvi/Desktop/song/cucumber-image/data/oi/train/V003_3_3_1_2_4_2_2_1_0_0_20221019_5298_20240422195057.jpg: 640x480 1 leaves, 17.1ms\n",
      "Speed: 1.7ms preprocess, 17.1ms inference, 0.4ms postprocess per image at shape (1, 3, 640, 480)\n",
      "x: 2288, y: 509, w: 711, h: 1533, class: 1\n",
      "\n",
      "image 1/1 /home/knuvi/Desktop/song/cucumber-image/data/oi/train/V003_3_3_1_2_4_2_2_1_0_0_20221019_5279_20240422195056.jpg: 640x480 1 leaves, 16.8ms\n",
      "Speed: 1.7ms preprocess, 16.8ms inference, 0.4ms postprocess per image at shape (1, 3, 640, 480)\n",
      "x: 0, y: 2970, w: 1727, h: 1027, class: 1\n",
      "\n",
      "image 1/1 /home/knuvi/Desktop/song/cucumber-image/data/oi/train/V003_3_3_1_2_4_2_2_1_0_0_20221019_5261_20240422195055.jpg: 640x480 1 leaves, 16.7ms\n",
      "Speed: 1.6ms preprocess, 16.7ms inference, 0.4ms postprocess per image at shape (1, 3, 640, 480)\n",
      "x: 2459, y: 43, w: 540, h: 2993, class: 1\n",
      "\n",
      "image 1/1 /home/knuvi/Desktop/song/cucumber-image/data/oi/train/V003_3_3_1_2_4_2_2_1_0_0_20221019_5272_20240422195056.jpg: 640x480 (no detections), 16.7ms\n",
      "Speed: 1.6ms preprocess, 16.7ms inference, 0.2ms postprocess per image at shape (1, 3, 640, 480)\n",
      "\n",
      "image 1/1 /home/knuvi/Desktop/song/cucumber-image/data/oi/train/V003_3_3_1_2_4_2_2_1_0_0_20221019_5093_20240422195046.jpg: 640x480 (no detections), 16.9ms\n",
      "Speed: 1.8ms preprocess, 16.9ms inference, 0.2ms postprocess per image at shape (1, 3, 640, 480)\n",
      "\n",
      "image 1/1 /home/knuvi/Desktop/song/cucumber-image/data/oi/train/V003_3_3_1_2_4_2_2_1_0_0_20221015_5080_20240422195046.jpg: 640x480 2 leavess, 17.0ms\n",
      "Speed: 1.8ms preprocess, 17.0ms inference, 0.4ms postprocess per image at shape (1, 3, 640, 480)\n",
      "x: 309, y: 8, w: 988, h: 710, class: 1\n",
      "x: 305, y: 0, w: 2694, h: 3351, class: 1\n",
      "V003_3_3_1_2_4_2_2_1_0_0_20221015_5080_20240422195046.jpg: 1개의 leaf 객체 추가\n",
      "\n",
      "image 1/1 /home/knuvi/Desktop/song/cucumber-image/data/oi/train/V003_3_3_1_2_4_2_2_1_0_0_20221015_5077_20240422195046.jpg: 640x480 1 leaves, 17.0ms\n",
      "Speed: 1.7ms preprocess, 17.0ms inference, 0.4ms postprocess per image at shape (1, 3, 640, 480)\n",
      "x: 0, y: 0, w: 879, h: 592, class: 1\n",
      "\n",
      "image 1/1 /home/knuvi/Desktop/song/cucumber-image/data/oi/train/V003_3_3_1_2_4_2_2_1_0_0_20221019_5101_20240422195047.jpg: 640x480 1 leaves, 16.9ms\n",
      "Speed: 1.7ms preprocess, 16.9ms inference, 0.4ms postprocess per image at shape (1, 3, 640, 480)\n",
      "x: 17, y: 3, w: 2982, h: 3153, class: 1\n",
      "\n",
      "image 1/1 /home/knuvi/Desktop/song/cucumber-image/data/oi/train/V003_3_3_1_2_4_2_2_1_0_0_20221019_5202_20240422195052.jpg: 640x480 (no detections), 16.8ms\n",
      "Speed: 1.6ms preprocess, 16.8ms inference, 0.2ms postprocess per image at shape (1, 3, 640, 480)\n",
      "\n",
      "image 1/1 /home/knuvi/Desktop/song/cucumber-image/data/oi/train/V003_3_3_1_2_4_2_2_1_0_0_20221015_5076_20240422195046.jpg: 640x480 1 leaves, 16.6ms\n",
      "Speed: 1.7ms preprocess, 16.6ms inference, 0.4ms postprocess per image at shape (1, 3, 640, 480)\n",
      "x: 35, y: 0, w: 2964, h: 3890, class: 1\n",
      "\n",
      "image 1/1 /home/knuvi/Desktop/song/cucumber-image/data/oi/train/V003_3_3_1_2_4_2_2_1_0_0_20221015_5084_20240422195046.jpg: 640x480 (no detections), 17.3ms\n",
      "Speed: 1.9ms preprocess, 17.3ms inference, 0.2ms postprocess per image at shape (1, 3, 640, 480)\n",
      "\n",
      "image 1/1 /home/knuvi/Desktop/song/cucumber-image/data/oi/train/V003_3_3_1_2_4_2_2_1_0_0_20221015_5071_20240422195045.jpg: 640x480 1 leaves, 17.6ms\n",
      "Speed: 1.7ms preprocess, 17.6ms inference, 0.4ms postprocess per image at shape (1, 3, 640, 480)\n",
      "x: 2303, y: 2016, w: 694, h: 1983, class: 1\n",
      "\n",
      "image 1/1 /home/knuvi/Desktop/song/cucumber-image/data/oi/train/V003_3_3_1_2_4_2_2_1_0_0_20221019_5269_20240422195056.jpg: 640x480 (no detections), 16.8ms\n",
      "Speed: 1.7ms preprocess, 16.8ms inference, 0.2ms postprocess per image at shape (1, 3, 640, 480)\n",
      "\n",
      "image 1/1 /home/knuvi/Desktop/song/cucumber-image/data/oi/train/V003_3_3_1_2_4_2_2_1_0_0_20221019_5216_20240422195053.jpg: 640x480 (no detections), 16.7ms\n",
      "Speed: 1.7ms preprocess, 16.7ms inference, 0.2ms postprocess per image at shape (1, 3, 640, 480)\n",
      "\n",
      "image 1/1 /home/knuvi/Desktop/song/cucumber-image/data/oi/train/V003_3_3_1_2_4_2_2_1_0_0_20221019_5301_20240422195057.jpg: 640x480 (no detections), 16.7ms\n",
      "Speed: 1.6ms preprocess, 16.7ms inference, 0.2ms postprocess per image at shape (1, 3, 640, 480)\n",
      "\n",
      "image 1/1 /home/knuvi/Desktop/song/cucumber-image/data/oi/train/V003_3_3_1_2_4_2_2_1_0_0_20221019_5103_20240422195047.jpg: 640x480 1 leaves, 16.7ms\n",
      "Speed: 1.6ms preprocess, 16.7ms inference, 0.4ms postprocess per image at shape (1, 3, 640, 480)\n",
      "x: 2467, y: 579, w: 532, h: 744, class: 1\n",
      "\n",
      "image 1/1 /home/knuvi/Desktop/song/cucumber-image/data/oi/train/V003_3_3_1_2_4_2_2_1_0_0_20221019_5180_20240422195051.jpg: 640x480 3 leavess, 17.3ms\n",
      "Speed: 1.8ms preprocess, 17.3ms inference, 0.4ms postprocess per image at shape (1, 3, 640, 480)\n",
      "x: 2039, y: 1969, w: 960, h: 2030, class: 1\n",
      "x: 3, y: 2885, w: 1089, h: 1114, class: 1\n",
      "x: 77, y: 0, w: 2918, h: 864, class: 1\n",
      "V003_3_3_1_2_4_2_2_1_0_0_20221019_5180_20240422195051.jpg: 2개의 leaf 객체 추가\n",
      "\n",
      "image 1/1 /home/knuvi/Desktop/song/cucumber-image/data/oi/train/V003_3_3_1_2_4_2_2_1_0_0_20221019_5170_20240422195050.jpg: 640x480 2 leavess, 17.5ms\n",
      "Speed: 1.7ms preprocess, 17.5ms inference, 0.4ms postprocess per image at shape (1, 3, 640, 480)\n",
      "x: 62, y: 0, w: 2937, h: 3090, class: 1\n",
      "x: 1968, y: 20, w: 1031, h: 3873, class: 1\n",
      "V003_3_3_1_2_4_2_2_1_0_0_20221019_5170_20240422195050.jpg: 1개의 leaf 객체 추가\n",
      "\n",
      "image 1/1 /home/knuvi/Desktop/song/cucumber-image/data/oi/train/V003_3_3_1_2_4_2_2_1_0_0_20221019_5149_20240422195049.jpg: 640x480 1 leaves, 16.8ms\n",
      "Speed: 1.7ms preprocess, 16.8ms inference, 0.4ms postprocess per image at shape (1, 3, 640, 480)\n",
      "x: 5, y: 2, w: 2994, h: 1250, class: 1\n",
      "\n",
      "image 1/1 /home/knuvi/Desktop/song/cucumber-image/data/oi/train/V003_3_3_1_2_4_2_2_1_0_0_20221019_5183_20240422195051.jpg: 640x480 3 leavess, 16.8ms\n",
      "Speed: 1.7ms preprocess, 16.8ms inference, 0.4ms postprocess per image at shape (1, 3, 640, 480)\n",
      "x: 2010, y: 795, w: 989, h: 3194, class: 1\n",
      "x: 14, y: 2934, w: 1378, h: 1064, class: 1\n",
      "V003_3_3_1_2_4_2_2_1_0_0_20221019_5183_20240422195051.jpg: 1개의 leaf 객체 추가\n",
      "\n",
      "image 1/1 /home/knuvi/Desktop/song/cucumber-image/data/oi/train/V003_3_3_1_2_4_2_2_1_0_0_20221015_5087_20240422195046.jpg: 640x480 (no detections), 16.7ms\n",
      "Speed: 1.7ms preprocess, 16.7ms inference, 0.2ms postprocess per image at shape (1, 3, 640, 480)\n",
      "\n",
      "image 1/1 /home/knuvi/Desktop/song/cucumber-image/data/oi/train/V003_3_3_1_2_4_2_2_1_0_0_20221019_5203_20240422195052.jpg: 640x480 (no detections), 16.7ms\n",
      "Speed: 1.7ms preprocess, 16.7ms inference, 0.2ms postprocess per image at shape (1, 3, 640, 480)\n",
      "\n",
      "image 1/1 /home/knuvi/Desktop/song/cucumber-image/data/oi/train/V003_3_3_1_2_4_2_2_1_0_0_20221019_5253_20240422195055.jpg: 640x480 2 leavess, 16.9ms\n",
      "Speed: 1.6ms preprocess, 16.9ms inference, 0.4ms postprocess per image at shape (1, 3, 640, 480)\n",
      "x: 34, y: 0, w: 1973, h: 458, class: 1\n",
      "x: 2048, y: 0, w: 951, h: 1548, class: 1\n",
      "V003_3_3_1_2_4_2_2_1_0_0_20221019_5253_20240422195055.jpg: 1개의 leaf 객체 추가\n",
      "\n",
      "image 1/1 /home/knuvi/Desktop/song/cucumber-image/data/oi/train/V003_3_3_1_2_4_2_2_1_0_0_20221019_5262_20240422195055.jpg: 640x480 (no detections), 17.1ms\n",
      "Speed: 1.8ms preprocess, 17.1ms inference, 0.2ms postprocess per image at shape (1, 3, 640, 480)\n",
      "\n",
      "image 1/1 /home/knuvi/Desktop/song/cucumber-image/data/oi/train/V003_3_3_1_2_4_2_2_1_0_0_20221015_5086_20240422195046.jpg: 640x480 2 leavess, 17.1ms\n",
      "Speed: 1.8ms preprocess, 17.1ms inference, 0.4ms postprocess per image at shape (1, 3, 640, 480)\n",
      "x: 140, y: 1436, w: 2859, h: 2552, class: 1\n",
      "x: 0, y: 0, w: 1229, h: 1298, class: 1\n",
      "V003_3_3_1_2_4_2_2_1_0_0_20221015_5086_20240422195046.jpg: 1개의 leaf 객체 추가\n",
      "\n",
      "image 1/1 /home/knuvi/Desktop/song/cucumber-image/data/oi/train/V003_3_3_1_2_4_2_2_1_0_0_20221019_5219_20240422195053.jpg: 640x480 (no detections), 17.0ms\n",
      "Speed: 1.7ms preprocess, 17.0ms inference, 0.2ms postprocess per image at shape (1, 3, 640, 480)\n",
      "\n",
      "image 1/1 /home/knuvi/Desktop/song/cucumber-image/data/oi/train/V003_3_3_1_2_4_2_2_1_0_0_20221019_5088_20240422195046.jpg: 640x480 (no detections), 16.7ms\n",
      "Speed: 1.7ms preprocess, 16.7ms inference, 0.2ms postprocess per image at shape (1, 3, 640, 480)\n",
      "\n",
      "image 1/1 /home/knuvi/Desktop/song/cucumber-image/data/oi/train/V003_3_3_1_2_4_2_2_1_0_0_20221019_5295_20240422195057.jpg: 640x480 (no detections), 16.9ms\n",
      "Speed: 1.7ms preprocess, 16.9ms inference, 0.2ms postprocess per image at shape (1, 3, 640, 480)\n",
      "\n",
      "image 1/1 /home/knuvi/Desktop/song/cucumber-image/data/oi/train/V003_3_3_1_2_4_2_2_1_0_0_20221019_5240_20240422195054.jpg: 640x480 2 leavess, 17.0ms\n",
      "Speed: 1.8ms preprocess, 17.0ms inference, 0.4ms postprocess per image at shape (1, 3, 640, 480)\n",
      "x: 67, y: 9, w: 2926, h: 544, class: 1\n",
      "x: 22, y: 0, w: 2977, h: 3968, class: 1\n",
      "V003_3_3_1_2_4_2_2_1_0_0_20221019_5240_20240422195054.jpg: 1개의 leaf 객체 추가\n",
      "\n",
      "image 1/1 /home/knuvi/Desktop/song/cucumber-image/data/oi/train/V003_3_3_1_2_4_2_2_1_0_0_20221015_5079_20240422195046.jpg: 640x480 1 leaves, 16.8ms\n",
      "Speed: 1.8ms preprocess, 16.8ms inference, 0.4ms postprocess per image at shape (1, 3, 640, 480)\n",
      "x: 275, y: 1, w: 1200, h: 623, class: 1\n",
      "\n",
      "image 1/1 /home/knuvi/Desktop/song/cucumber-image/data/oi/train/V003_3_3_1_2_4_2_2_1_0_0_20221019_5091_20240422195046.jpg: 640x480 (no detections), 17.0ms\n",
      "Speed: 1.8ms preprocess, 17.0ms inference, 0.2ms postprocess per image at shape (1, 3, 640, 480)\n",
      "\n",
      "image 1/1 /home/knuvi/Desktop/song/cucumber-image/data/oi/train/V003_3_3_1_2_4_2_2_1_0_0_20221019_5263_20240422195055.jpg: 640x480 1 leaves, 16.7ms\n",
      "Speed: 1.7ms preprocess, 16.7ms inference, 0.4ms postprocess per image at shape (1, 3, 640, 480)\n",
      "x: 2049, y: 0, w: 950, h: 1230, class: 1\n",
      "\n",
      "image 1/1 /home/knuvi/Desktop/song/cucumber-image/data/oi/train/V003_3_3_1_2_4_2_2_1_0_0_20221019_5302_20240422195058.jpg: 640x480 1 leaves, 16.7ms\n",
      "Speed: 1.6ms preprocess, 16.7ms inference, 0.4ms postprocess per image at shape (1, 3, 640, 480)\n",
      "x: 482, y: 16, w: 1313, h: 1656, class: 1\n",
      "\n",
      "image 1/1 /home/knuvi/Desktop/song/cucumber-image/data/oi/train/V003_3_3_1_2_4_2_2_1_0_0_20221019_5274_20240422195056.jpg: 640x480 (no detections), 16.7ms\n",
      "Speed: 1.7ms preprocess, 16.7ms inference, 0.2ms postprocess per image at shape (1, 3, 640, 480)\n",
      "\n",
      "image 1/1 /home/knuvi/Desktop/song/cucumber-image/data/oi/train/V003_3_3_1_2_4_2_2_1_0_0_20221019_5117_20240422195048.jpg: 640x480 1 leaves, 16.7ms\n",
      "Speed: 1.7ms preprocess, 16.7ms inference, 0.4ms postprocess per image at shape (1, 3, 640, 480)\n",
      "x: 12, y: 1395, w: 2987, h: 2561, class: 1\n",
      "\n",
      "image 1/1 /home/knuvi/Desktop/song/cucumber-image/data/oi/train/V003_3_3_1_2_4_2_2_1_0_0_20221019_5276_20240422195056.jpg: 640x480 1 leaves, 16.8ms\n",
      "Speed: 1.8ms preprocess, 16.8ms inference, 0.4ms postprocess per image at shape (1, 3, 640, 480)\n",
      "x: 743, y: 1087, w: 840, h: 906, class: 1\n",
      "\n",
      "image 1/1 /home/knuvi/Desktop/song/cucumber-image/data/oi/train/V003_3_3_1_2_4_2_2_1_0_0_20221015_5075_20240422195045.jpg: 640x480 2 leavess, 17.1ms\n",
      "Speed: 1.7ms preprocess, 17.1ms inference, 0.4ms postprocess per image at shape (1, 3, 640, 480)\n",
      "x: 0, y: 0, w: 1999, h: 4000, class: 1\n",
      "x: 141, y: 3387, w: 2856, h: 609, class: 1\n",
      "V003_3_3_1_2_4_2_2_1_0_0_20221015_5075_20240422195045.jpg: 1개의 leaf 객체 추가\n",
      "\n",
      "image 1/1 /home/knuvi/Desktop/song/cucumber-image/data/oi/train/V003_3_3_1_2_4_2_2_1_0_0_20221015_5078_20240422195046.jpg: 640x480 3 leavess, 16.8ms\n",
      "Speed: 1.7ms preprocess, 16.8ms inference, 0.4ms postprocess per image at shape (1, 3, 640, 480)\n",
      "x: 2, y: 1, w: 497, h: 586, class: 1\n",
      "x: 15, y: 0, w: 2984, h: 3977, class: 1\n",
      "x: 2396, y: 0, w: 602, h: 1013, class: 1\n",
      "V003_3_3_1_2_4_2_2_1_0_0_20221015_5078_20240422195046.jpg: 2개의 leaf 객체 추가\n",
      "\n",
      "image 1/1 /home/knuvi/Desktop/song/cucumber-image/data/oi/train/V003_3_3_1_2_4_2_2_1_0_0_20221019_5255_20240422195055.jpg: 640x480 4 leavess, 16.7ms\n",
      "Speed: 1.6ms preprocess, 16.7ms inference, 0.4ms postprocess per image at shape (1, 3, 640, 480)\n",
      "x: 1706, y: 1405, w: 1291, h: 2567, class: 1\n",
      "x: 28, y: 0, w: 2971, h: 3222, class: 1\n",
      "x: 2046, y: 4, w: 953, h: 860, class: 1\n",
      "V003_3_3_1_2_4_2_2_1_0_0_20221019_5255_20240422195055.jpg: 2개의 leaf 객체 추가\n",
      "\n",
      "image 1/1 /home/knuvi/Desktop/song/cucumber-image/data/oi/train/V003_3_3_1_2_4_2_2_1_0_0_20221019_5115_20240422195047.jpg: 640x480 (no detections), 16.7ms\n",
      "Speed: 1.6ms preprocess, 16.7ms inference, 0.2ms postprocess per image at shape (1, 3, 640, 480)\n",
      "\n",
      "image 1/1 /home/knuvi/Desktop/song/cucumber-image/data/oi/train/V003_3_3_1_2_4_2_2_1_0_0_20221019_5130_20240422195048.jpg: 640x480 2 leavess, 16.7ms\n",
      "Speed: 1.7ms preprocess, 16.7ms inference, 0.4ms postprocess per image at shape (1, 3, 640, 480)\n",
      "x: 0, y: 2862, w: 963, h: 1137, class: 1\n",
      "x: 2402, y: 1, w: 597, h: 1621, class: 1\n",
      "V003_3_3_1_2_4_2_2_1_0_0_20221019_5130_20240422195048.jpg: 1개의 leaf 객체 추가\n",
      "\n",
      "image 1/1 /home/knuvi/Desktop/song/cucumber-image/data/oi/train/V003_3_3_1_2_4_2_2_1_0_0_20221019_5114_20240422195047.jpg: 640x480 (no detections), 17.1ms\n",
      "Speed: 1.8ms preprocess, 17.1ms inference, 0.2ms postprocess per image at shape (1, 3, 640, 480)\n",
      "\n",
      "image 1/1 /home/knuvi/Desktop/song/cucumber-image/data/oi/train/V003_3_3_1_2_4_2_2_1_0_0_20221019_5138_20240422195049.jpg: 640x480 (no detections), 17.0ms\n",
      "Speed: 1.7ms preprocess, 17.0ms inference, 0.2ms postprocess per image at shape (1, 3, 640, 480)\n",
      "\n",
      "image 1/1 /home/knuvi/Desktop/song/cucumber-image/data/oi/train/V003_3_3_1_2_4_2_2_1_0_0_20221015_5069_20240422195045.jpg: 640x480 (no detections), 16.7ms\n",
      "Speed: 1.7ms preprocess, 16.7ms inference, 0.2ms postprocess per image at shape (1, 3, 640, 480)\n",
      "\n",
      "image 1/1 /home/knuvi/Desktop/song/cucumber-image/data/oi/train/V003_3_3_1_2_4_2_2_1_0_0_20221019_5090_20240422195046.jpg: 640x480 (no detections), 16.7ms\n",
      "Speed: 1.7ms preprocess, 16.7ms inference, 0.2ms postprocess per image at shape (1, 3, 640, 480)\n",
      "\n",
      "image 1/1 /home/knuvi/Desktop/song/cucumber-image/data/oi/train/V003_3_3_1_2_4_2_2_1_0_0_20221019_5110_20240422195047.jpg: 640x480 (no detections), 16.7ms\n",
      "Speed: 1.6ms preprocess, 16.7ms inference, 0.2ms postprocess per image at shape (1, 3, 640, 480)\n",
      "\n",
      "image 1/1 /home/knuvi/Desktop/song/cucumber-image/data/oi/train/V003_3_3_1_2_4_2_2_1_0_0_20221019_5119_20240422195048.jpg: 480x640 (no detections), 16.7ms\n",
      "Speed: 1.7ms preprocess, 16.7ms inference, 0.2ms postprocess per image at shape (1, 3, 480, 640)\n",
      "\n",
      "image 1/1 /home/knuvi/Desktop/song/cucumber-image/data/oi/train/V003_3_3_1_2_4_2_2_1_0_0_20221019_5212_20240422195053.jpg: 640x480 (no detections), 17.7ms\n",
      "Speed: 1.8ms preprocess, 17.7ms inference, 0.2ms postprocess per image at shape (1, 3, 640, 480)\n",
      "\n",
      "image 1/1 /home/knuvi/Desktop/song/cucumber-image/data/oi/train/V003_3_3_1_2_4_2_2_1_0_0_20221019_5118_20240422195048.jpg: 640x480 (no detections), 16.8ms\n",
      "Speed: 1.7ms preprocess, 16.8ms inference, 0.2ms postprocess per image at shape (1, 3, 640, 480)\n",
      "\n",
      "image 1/1 /home/knuvi/Desktop/song/cucumber-image/data/oi/train/V003_3_3_1_2_4_2_2_1_0_0_20221015_5073_20240422195045.jpg: 640x480 3 leavess, 16.6ms\n",
      "Speed: 1.6ms preprocess, 16.6ms inference, 0.4ms postprocess per image at shape (1, 3, 640, 480)\n",
      "x: 0, y: 0, w: 2043, h: 3989, class: 1\n",
      "x: 45, y: 3577, w: 2954, h: 422, class: 1\n",
      "V003_3_3_1_2_4_2_2_1_0_0_20221015_5073_20240422195045.jpg: 1개의 leaf 객체 추가\n",
      "\n",
      "image 1/1 /home/knuvi/Desktop/song/cucumber-image/data/oi/train/V003_3_3_1_2_4_2_2_1_0_0_20221019_5157_20240422195050.jpg: 640x480 (no detections), 16.8ms\n",
      "Speed: 1.6ms preprocess, 16.8ms inference, 0.2ms postprocess per image at shape (1, 3, 640, 480)\n",
      "\n",
      "image 1/1 /home/knuvi/Desktop/song/cucumber-image/data/oi/train/V003_3_3_1_2_4_2_2_1_0_0_20221019_5095_20240422195046.jpg: 640x480 1 leaves, 16.7ms\n",
      "Speed: 1.7ms preprocess, 16.7ms inference, 0.4ms postprocess per image at shape (1, 3, 640, 480)\n",
      "x: 55, y: 6, w: 2939, h: 468, class: 1\n",
      "\n",
      "image 1/1 /home/knuvi/Desktop/song/cucumber-image/data/oi/train/V003_3_3_1_2_4_2_2_1_0_0_20221019_5235_20240422195054.jpg: 640x480 2 leavess, 17.1ms\n",
      "Speed: 1.9ms preprocess, 17.1ms inference, 0.4ms postprocess per image at shape (1, 3, 640, 480)\n",
      "x: 0, y: 0, w: 2374, h: 3944, class: 1\n",
      "\n",
      "image 1/1 /home/knuvi/Desktop/song/cucumber-image/data/oi/train/V003_3_3_1_2_4_2_2_1_0_0_20221019_5195_20240422195052.jpg: 640x480 1 leaves, 17.1ms\n",
      "Speed: 1.8ms preprocess, 17.1ms inference, 0.4ms postprocess per image at shape (1, 3, 640, 480)\n",
      "x: 2271, y: 1407, w: 724, h: 516, class: 1\n",
      "\n",
      "image 1/1 /home/knuvi/Desktop/song/cucumber-image/data/oi/train/V003_3_3_1_2_4_2_2_1_0_0_20221019_5197_20240422195052.jpg: 640x480 2 leavess, 16.9ms\n",
      "Speed: 1.7ms preprocess, 16.9ms inference, 0.4ms postprocess per image at shape (1, 3, 640, 480)\n",
      "x: 2080, y: 2596, w: 919, h: 1403, class: 1\n",
      "x: 675, y: 7, w: 2319, h: 1930, class: 1\n",
      "V003_3_3_1_2_4_2_2_1_0_0_20221019_5197_20240422195052.jpg: 1개의 leaf 객체 추가\n",
      "\n",
      "image 1/1 /home/knuvi/Desktop/song/cucumber-image/data/oi/train/V003_3_3_1_2_4_2_2_1_0_0_20221019_5231_20240422195053.jpg: 640x480 2 leavess, 16.9ms\n",
      "Speed: 1.7ms preprocess, 16.9ms inference, 0.4ms postprocess per image at shape (1, 3, 640, 480)\n",
      "x: 6, y: 1079, w: 684, h: 886, class: 1\n",
      "x: 5, y: 0, w: 1007, h: 1189, class: 1\n",
      "V003_3_3_1_2_4_2_2_1_0_0_20221019_5231_20240422195053.jpg: 1개의 leaf 객체 추가\n",
      "\n",
      "image 1/1 /home/knuvi/Desktop/song/cucumber-image/data/oi/train/V003_3_3_1_2_4_2_2_1_0_0_20221019_5133_20240422195048.jpg: 640x480 1 leaves, 16.9ms\n",
      "Speed: 1.7ms preprocess, 16.9ms inference, 0.4ms postprocess per image at shape (1, 3, 640, 480)\n",
      "x: 103, y: 2520, w: 1536, h: 1479, class: 1\n",
      "\n",
      "image 1/1 /home/knuvi/Desktop/song/cucumber-image/data/oi/train/V003_3_3_1_2_4_2_2_1_0_0_20221019_5141_20240422195049.jpg: 640x480 1 leaves, 16.7ms\n",
      "Speed: 1.7ms preprocess, 16.7ms inference, 0.4ms postprocess per image at shape (1, 3, 640, 480)\n",
      "x: 0, y: 2903, w: 796, h: 1096, class: 1\n",
      "\n",
      "image 1/1 /home/knuvi/Desktop/song/cucumber-image/data/oi/train/V003_3_3_1_2_4_2_2_1_0_0_20221019_5230_20240422195053.jpg: 640x480 2 leavess, 17.2ms\n",
      "Speed: 1.9ms preprocess, 17.2ms inference, 0.4ms postprocess per image at shape (1, 3, 640, 480)\n",
      "x: 1638, y: 0, w: 1361, h: 3995, class: 1\n",
      "x: 1291, y: 2, w: 1703, h: 674, class: 1\n",
      "V003_3_3_1_2_4_2_2_1_0_0_20221019_5230_20240422195053.jpg: 1개의 leaf 객체 추가\n",
      "\n",
      "image 1/1 /home/knuvi/Desktop/song/cucumber-image/data/oi/train/V003_3_3_1_2_4_2_2_1_0_0_20221019_5281_20240422195056.jpg: 640x480 1 leaves, 17.6ms\n",
      "Speed: 1.7ms preprocess, 17.6ms inference, 0.4ms postprocess per image at shape (1, 3, 640, 480)\n",
      "x: 1976, y: 1404, w: 739, h: 756, class: 1\n",
      "\n",
      "image 1/1 /home/knuvi/Desktop/song/cucumber-image/data/oi/train/V003_3_3_1_2_4_2_2_1_0_0_20221015_5081_20240422195046.jpg: 640x480 (no detections), 16.8ms\n",
      "Speed: 1.7ms preprocess, 16.8ms inference, 0.2ms postprocess per image at shape (1, 3, 640, 480)\n",
      "\n",
      "image 1/1 /home/knuvi/Desktop/song/cucumber-image/data/oi/train/V003_3_3_1_2_4_2_2_1_0_0_20221019_5285_20240422195057.jpg: 640x480 2 leavess, 16.9ms\n",
      "Speed: 1.7ms preprocess, 16.9ms inference, 0.4ms postprocess per image at shape (1, 3, 640, 480)\n",
      "x: 90, y: 0, w: 2909, h: 3082, class: 1\n",
      "x: 1704, y: 23, w: 1295, h: 3125, class: 1\n",
      "V003_3_3_1_2_4_2_2_1_0_0_20221019_5285_20240422195057.jpg: 1개의 leaf 객체 추가\n",
      "\n",
      "image 1/1 /home/knuvi/Desktop/song/cucumber-image/data/oi/val/V003_3_3_1_2_4_2_2_1_0_0_20221019_5292_20240422195057.jpg: 640x480 (no detections), 16.7ms\n",
      "Speed: 1.6ms preprocess, 16.7ms inference, 0.5ms postprocess per image at shape (1, 3, 640, 480)\n",
      "\n",
      "image 1/1 /home/knuvi/Desktop/song/cucumber-image/data/oi/val/V003_3_3_1_2_4_2_2_1_0_0_20221019_5186_20240422195051.jpg: 640x480 2 leavess, 16.7ms\n",
      "Speed: 1.6ms preprocess, 16.7ms inference, 0.4ms postprocess per image at shape (1, 3, 640, 480)\n",
      "x: 500, y: 0, w: 2499, h: 2911, class: 1\n",
      "x: 2502, y: 1983, w: 496, h: 1452, class: 1\n",
      "V003_3_3_1_2_4_2_2_1_0_0_20221019_5186_20240422195051.jpg: 1개의 leaf 객체 추가\n",
      "\n",
      "image 1/1 /home/knuvi/Desktop/song/cucumber-image/data/oi/val/V003_3_3_1_2_4_2_2_1_0_0_20221019_5107_20240422195047.jpg: 640x480 1 leaves, 16.9ms\n",
      "Speed: 2.0ms preprocess, 16.9ms inference, 0.4ms postprocess per image at shape (1, 3, 640, 480)\n",
      "x: 1524, y: 3, w: 1471, h: 1073, class: 1\n",
      "\n",
      "image 1/1 /home/knuvi/Desktop/song/cucumber-image/data/oi/val/V003_3_3_1_2_4_2_2_1_0_0_20221019_5199_20240422195052.jpg: 640x480 2 leavess, 17.0ms\n",
      "Speed: 1.7ms preprocess, 17.0ms inference, 0.4ms postprocess per image at shape (1, 3, 640, 480)\n",
      "x: 2303, y: 1516, w: 696, h: 548, class: 1\n",
      "x: 1, y: 0, w: 981, h: 1653, class: 1\n",
      "V003_3_3_1_2_4_2_2_1_0_0_20221019_5199_20240422195052.jpg: 1개의 leaf 객체 추가\n",
      "\n",
      "image 1/1 /home/knuvi/Desktop/song/cucumber-image/data/oi/val/V003_3_3_1_2_4_2_2_1_0_0_20221019_5232_20240422195054.jpg: 640x480 (no detections), 16.9ms\n",
      "Speed: 1.7ms preprocess, 16.9ms inference, 0.2ms postprocess per image at shape (1, 3, 640, 480)\n",
      "\n",
      "image 1/1 /home/knuvi/Desktop/song/cucumber-image/data/oi/val/V003_3_3_1_2_4_2_2_1_0_0_20221019_5249_20240422195054.jpg: 640x480 1 leaves, 16.8ms\n",
      "Speed: 1.7ms preprocess, 16.8ms inference, 0.4ms postprocess per image at shape (1, 3, 640, 480)\n",
      "x: 9, y: 3491, w: 2022, h: 505, class: 1\n",
      "\n",
      "image 1/1 /home/knuvi/Desktop/song/cucumber-image/data/oi/val/V003_3_3_1_2_4_2_2_1_0_0_20221019_5303_20240422195058.jpg: 640x480 (no detections), 16.9ms\n",
      "Speed: 1.7ms preprocess, 16.9ms inference, 0.2ms postprocess per image at shape (1, 3, 640, 480)\n",
      "\n",
      "image 1/1 /home/knuvi/Desktop/song/cucumber-image/data/oi/val/V003_3_3_1_2_4_2_2_1_0_0_20221019_5176_20240422195051.jpg: 640x480 (no detections), 16.9ms\n",
      "Speed: 1.7ms preprocess, 16.9ms inference, 0.2ms postprocess per image at shape (1, 3, 640, 480)\n",
      "\n",
      "image 1/1 /home/knuvi/Desktop/song/cucumber-image/data/oi/val/V003_3_3_1_2_4_2_2_1_0_0_20221019_5156_20240422195050.jpg: 640x480 (no detections), 16.8ms\n",
      "Speed: 1.9ms preprocess, 16.8ms inference, 0.2ms postprocess per image at shape (1, 3, 640, 480)\n",
      "\n",
      "image 1/1 /home/knuvi/Desktop/song/cucumber-image/data/oi/val/V003_3_3_1_2_4_2_2_1_0_0_20221019_5217_20240422195053.jpg: 640x480 1 leaves, 17.0ms\n",
      "Speed: 1.7ms preprocess, 17.0ms inference, 0.4ms postprocess per image at shape (1, 3, 640, 480)\n",
      "x: 0, y: 2, w: 1638, h: 1242, class: 1\n",
      "\n",
      "image 1/1 /home/knuvi/Desktop/song/cucumber-image/data/oi/val/V003_3_3_1_2_4_2_2_1_0_0_20221019_5205_20240422195052.jpg: 640x480 (no detections), 17.0ms\n",
      "Speed: 1.7ms preprocess, 17.0ms inference, 0.2ms postprocess per image at shape (1, 3, 640, 480)\n",
      "\n",
      "image 1/1 /home/knuvi/Desktop/song/cucumber-image/data/oi/val/V003_3_3_1_2_4_2_2_1_0_0_20221019_5106_20240422195047.jpg: 640x480 1 leaves, 16.6ms\n",
      "Speed: 1.7ms preprocess, 16.6ms inference, 0.4ms postprocess per image at shape (1, 3, 640, 480)\n",
      "x: 1187, y: 0, w: 1812, h: 982, class: 1\n",
      "\n",
      "image 1/1 /home/knuvi/Desktop/song/cucumber-image/data/oi/val/V003_3_3_1_2_4_2_2_1_0_0_20221019_5178_20240422195051.jpg: 640x480 2 leavess, 16.9ms\n",
      "Speed: 1.7ms preprocess, 16.9ms inference, 0.4ms postprocess per image at shape (1, 3, 640, 480)\n",
      "x: 0, y: 17, w: 661, h: 3511, class: 1\n",
      "x: 0, y: 0, w: 1919, h: 3720, class: 1\n",
      "V003_3_3_1_2_4_2_2_1_0_0_20221019_5178_20240422195051.jpg: 1개의 leaf 객체 추가\n",
      "\n",
      "image 1/1 /home/knuvi/Desktop/song/cucumber-image/data/oi/val/V003_3_3_1_2_4_2_2_1_0_0_20221019_5144_20240422195049.jpg: 640x480 3 leavess, 16.8ms\n",
      "Speed: 1.7ms preprocess, 16.8ms inference, 0.4ms postprocess per image at shape (1, 3, 640, 480)\n",
      "x: 2474, y: 1361, w: 525, h: 2638, class: 1\n",
      "x: 2, y: 1663, w: 879, h: 2012, class: 1\n",
      "V003_3_3_1_2_4_2_2_1_0_0_20221019_5144_20240422195049.jpg: 1개의 leaf 객체 추가\n",
      "\n",
      "image 1/1 /home/knuvi/Desktop/song/cucumber-image/data/oi/val/V003_3_3_1_2_4_2_2_1_0_0_20221019_5210_20240422195052.jpg: 640x480 (no detections), 16.8ms\n",
      "Speed: 1.8ms preprocess, 16.8ms inference, 0.2ms postprocess per image at shape (1, 3, 640, 480)\n",
      "\n",
      "image 1/1 /home/knuvi/Desktop/song/cucumber-image/data/oi/val/V003_3_3_1_2_4_2_2_1_0_0_20221019_5206_20240422195052.jpg: 640x480 1 leaves, 17.1ms\n",
      "Speed: 1.7ms preprocess, 17.1ms inference, 0.4ms postprocess per image at shape (1, 3, 640, 480)\n",
      "x: 58, y: 0, w: 2941, h: 3260, class: 1\n",
      "\n",
      "image 1/1 /home/knuvi/Desktop/song/cucumber-image/data/oi/val/V003_3_3_1_2_4_2_2_1_0_0_20221019_5225_20240422195053.jpg: 640x480 2 leavess, 16.9ms\n",
      "Speed: 1.7ms preprocess, 16.9ms inference, 0.4ms postprocess per image at shape (1, 3, 640, 480)\n",
      "x: 1461, y: 747, w: 1335, h: 1473, class: 1\n",
      "x: 2348, y: 2297, w: 651, h: 1702, class: 1\n",
      "V003_3_3_1_2_4_2_2_1_0_0_20221019_5225_20240422195053.jpg: 1개의 leaf 객체 추가\n",
      "\n",
      "image 1/1 /home/knuvi/Desktop/song/cucumber-image/data/oi/val/V003_3_3_1_2_4_2_2_1_0_0_20221019_5222_20240422195053.jpg: 640x480 (no detections), 16.8ms\n",
      "Speed: 1.7ms preprocess, 16.8ms inference, 0.2ms postprocess per image at shape (1, 3, 640, 480)\n",
      "\n",
      "image 1/1 /home/knuvi/Desktop/song/cucumber-image/data/oi/val/V003_3_3_1_2_4_2_2_1_0_0_20221019_5207_20240422195052.jpg: 640x480 (no detections), 16.8ms\n",
      "Speed: 1.7ms preprocess, 16.8ms inference, 0.2ms postprocess per image at shape (1, 3, 640, 480)\n",
      "\n",
      "image 1/1 /home/knuvi/Desktop/song/cucumber-image/data/oi/val/V003_3_3_1_2_4_2_2_1_0_0_20221019_5108_20240422195047.jpg: 640x480 1 leaves, 16.9ms\n",
      "Speed: 1.7ms preprocess, 16.9ms inference, 0.4ms postprocess per image at shape (1, 3, 640, 480)\n",
      "x: 1451, y: 4, w: 1540, h: 1062, class: 1\n",
      "\n",
      "image 1/1 /home/knuvi/Desktop/song/cucumber-image/data/oi/val/V003_3_3_1_2_4_2_2_1_0_0_20221019_5241_20240422195054.jpg: 640x480 (no detections), 17.0ms\n",
      "Speed: 1.8ms preprocess, 17.0ms inference, 0.2ms postprocess per image at shape (1, 3, 640, 480)\n",
      "\n",
      "image 1/1 /home/knuvi/Desktop/song/cucumber-image/data/oi/val/V003_3_3_1_2_4_2_2_1_0_0_20221019_5211_20240422195052.jpg: 640x480 (no detections), 17.0ms\n",
      "Speed: 1.7ms preprocess, 17.0ms inference, 0.2ms postprocess per image at shape (1, 3, 640, 480)\n",
      "\n",
      "image 1/1 /home/knuvi/Desktop/song/cucumber-image/data/oi/val/V003_3_3_1_2_4_2_2_1_0_0_20221019_5320_20240422195059.jpg: 640x480 (no detections), 16.7ms\n",
      "Speed: 1.6ms preprocess, 16.7ms inference, 0.2ms postprocess per image at shape (1, 3, 640, 480)\n",
      "\n",
      "image 1/1 /home/knuvi/Desktop/song/cucumber-image/data/oi/val/V003_3_3_1_2_4_2_2_1_0_0_20221019_5136_20240422195049.jpg: 640x480 2 leavess, 16.8ms\n",
      "Speed: 1.7ms preprocess, 16.8ms inference, 0.4ms postprocess per image at shape (1, 3, 640, 480)\n",
      "x: 0, y: 1, w: 1361, h: 1458, class: 1\n",
      "x: 4, y: 1549, w: 1034, h: 2394, class: 1\n",
      "V003_3_3_1_2_4_2_2_1_0_0_20221019_5136_20240422195049.jpg: 1개의 leaf 객체 추가\n",
      "\n",
      "image 1/1 /home/knuvi/Desktop/song/cucumber-image/data/oi/val/V003_3_3_1_2_4_2_2_1_0_0_20221015_5085_20240422195046.jpg: 640x480 (no detections), 16.8ms\n",
      "Speed: 1.7ms preprocess, 16.8ms inference, 0.2ms postprocess per image at shape (1, 3, 640, 480)\n",
      "\n",
      "image 1/1 /home/knuvi/Desktop/song/cucumber-image/data/oi/val/V003_3_3_1_2_4_2_2_1_0_0_20221019_5120_20240422195048.jpg: 480x640 (no detections), 16.4ms\n",
      "Speed: 1.6ms preprocess, 16.4ms inference, 0.2ms postprocess per image at shape (1, 3, 480, 640)\n",
      "\n",
      "image 1/1 /home/knuvi/Desktop/song/cucumber-image/data/oi/val/V003_3_3_1_2_4_2_2_1_0_0_20221015_5074_20240422195045.jpg: 640x480 1 leaves, 17.5ms\n",
      "Speed: 1.9ms preprocess, 17.5ms inference, 0.4ms postprocess per image at shape (1, 3, 640, 480)\n",
      "x: 18, y: 0, w: 2981, h: 3936, class: 1\n",
      "\n",
      "image 1/1 /home/knuvi/Desktop/song/cucumber-image/data/oi/val/V003_3_3_1_2_4_2_2_1_0_0_20221019_5113_20240422195047.jpg: 640x480 (no detections), 17.0ms\n",
      "Speed: 1.8ms preprocess, 17.0ms inference, 0.2ms postprocess per image at shape (1, 3, 640, 480)\n",
      "\n",
      "image 1/1 /home/knuvi/Desktop/song/cucumber-image/data/oi/val/V003_3_3_1_2_4_2_2_1_0_0_20221019_5126_20240422195048.jpg: 640x480 3 leavess, 16.7ms\n",
      "Speed: 1.6ms preprocess, 16.7ms inference, 0.4ms postprocess per image at shape (1, 3, 640, 480)\n",
      "x: 0, y: 13, w: 509, h: 3920, class: 1\n",
      "x: 2501, y: 60, w: 498, h: 2922, class: 1\n",
      "x: 10, y: 16, w: 2989, h: 3690, class: 1\n",
      "V003_3_3_1_2_4_2_2_1_0_0_20221019_5126_20240422195048.jpg: 2개의 leaf 객체 추가\n",
      "\n",
      "image 1/1 /home/knuvi/Desktop/song/cucumber-image/data/oi/val/V003_3_3_1_2_4_2_2_1_0_0_20221019_5227_20240422195053.jpg: 640x480 2 leavess, 16.7ms\n",
      "Speed: 1.7ms preprocess, 16.7ms inference, 0.4ms postprocess per image at shape (1, 3, 640, 480)\n",
      "x: 2000, y: 613, w: 999, h: 3077, class: 1\n",
      "x: 1196, y: 0, w: 1121, h: 574, class: 1\n",
      "V003_3_3_1_2_4_2_2_1_0_0_20221019_5227_20240422195053.jpg: 1개의 leaf 객체 추가\n",
      "\n",
      "image 1/1 /home/knuvi/Desktop/song/cucumber-image/data/oi/val/V003_3_3_1_2_4_2_2_1_0_0_20221019_5163_20240422195050.jpg: 640x480 (no detections), 16.9ms\n",
      "Speed: 1.7ms preprocess, 16.9ms inference, 0.2ms postprocess per image at shape (1, 3, 640, 480)\n",
      "\n",
      "image 1/1 /home/knuvi/Desktop/song/cucumber-image/data/oi/val/V003_3_3_1_2_4_2_2_1_0_0_20221019_5289_20240422195057.jpg: 640x480 (no detections), 16.7ms\n",
      "Speed: 1.7ms preprocess, 16.7ms inference, 0.2ms postprocess per image at shape (1, 3, 640, 480)\n",
      "\n",
      "image 1/1 /home/knuvi/Desktop/song/cucumber-image/data/oi/val/V003_3_3_1_2_4_2_2_1_0_0_20221019_5166_20240422195050.jpg: 640x480 1 leaves, 16.8ms\n",
      "Speed: 1.9ms preprocess, 16.8ms inference, 0.4ms postprocess per image at shape (1, 3, 640, 480)\n",
      "x: 1774, y: 1137, w: 1220, h: 2860, class: 1\n",
      "\n",
      "image 1/1 /home/knuvi/Desktop/song/cucumber-image/data/oi/val/V003_3_3_1_2_4_2_2_1_0_0_20221019_5092_20240422195046.jpg: 640x480 1 leaves, 17.0ms\n",
      "Speed: 1.7ms preprocess, 17.0ms inference, 0.4ms postprocess per image at shape (1, 3, 640, 480)\n",
      "x: 28, y: 0, w: 2968, h: 864, class: 1\n",
      "\n",
      "image 1/1 /home/knuvi/Desktop/song/cucumber-image/data/oi/val/V003_3_3_1_2_4_2_2_1_0_0_20221019_5116_20240422195048.jpg: 640x480 1 leaves, 16.7ms\n",
      "Speed: 1.6ms preprocess, 16.7ms inference, 0.4ms postprocess per image at shape (1, 3, 640, 480)\n",
      "x: 0, y: 0, w: 1161, h: 593, class: 1\n",
      "\n",
      "image 1/1 /home/knuvi/Desktop/song/cucumber-image/data/oi/val/V003_3_3_1_2_4_2_2_1_0_0_20221019_5192_20240422195052.jpg: 640x480 (no detections), 16.7ms\n",
      "Speed: 1.7ms preprocess, 16.7ms inference, 0.2ms postprocess per image at shape (1, 3, 640, 480)\n",
      "\n",
      "image 1/1 /home/knuvi/Desktop/song/cucumber-image/data/oi/val/V003_3_3_1_2_4_2_2_1_0_0_20221019_5286_20240422195057.jpg: 640x480 2 leavess, 16.7ms\n",
      "Speed: 1.6ms preprocess, 16.7ms inference, 0.4ms postprocess per image at shape (1, 3, 640, 480)\n",
      "x: 566, y: 0, w: 2433, h: 3010, class: 1\n",
      "x: 2289, y: 0, w: 710, h: 2992, class: 1\n",
      "V003_3_3_1_2_4_2_2_1_0_0_20221019_5286_20240422195057.jpg: 1개의 leaf 객체 추가\n",
      "\n",
      "image 1/1 /home/knuvi/Desktop/song/cucumber-image/data/oi/val/V003_3_3_1_2_4_2_2_1_0_0_20221019_5248_20240422195054.jpg: 640x480 (no detections), 16.8ms\n",
      "Speed: 1.7ms preprocess, 16.8ms inference, 0.2ms postprocess per image at shape (1, 3, 640, 480)\n",
      "\n",
      "image 1/1 /home/knuvi/Desktop/song/cucumber-image/data/oi/val/V003_3_3_1_2_4_2_2_1_0_0_20221019_5271_20240422195056.jpg: 640x480 1 leaves, 16.9ms\n",
      "Speed: 2.0ms preprocess, 16.9ms inference, 0.4ms postprocess per image at shape (1, 3, 640, 480)\n",
      "x: 0, y: 274, w: 1352, h: 1842, class: 1\n",
      "\n",
      "image 1/1 /home/knuvi/Desktop/song/cucumber-image/data/oi/val/V003_3_3_1_2_4_2_2_1_0_0_20221019_5189_20240422195051.jpg: 640x480 (no detections), 17.0ms\n",
      "Speed: 1.8ms preprocess, 17.0ms inference, 0.2ms postprocess per image at shape (1, 3, 640, 480)\n",
      "\n",
      "image 1/1 /home/knuvi/Desktop/song/cucumber-image/data/oi/val/V003_3_3_1_2_4_2_2_1_0_0_20221019_5179_20240422195051.jpg: 640x480 (no detections), 16.8ms\n",
      "Speed: 1.7ms preprocess, 16.8ms inference, 0.2ms postprocess per image at shape (1, 3, 640, 480)\n",
      "\n",
      "image 1/1 /home/knuvi/Desktop/song/cucumber-image/data/oi/val/V003_3_3_1_2_4_2_2_1_0_0_20221019_5244_20240422195054.jpg: 640x480 2 leavess, 16.6ms\n",
      "Speed: 1.6ms preprocess, 16.6ms inference, 0.4ms postprocess per image at shape (1, 3, 640, 480)\n",
      "x: 405, y: 1338, w: 833, h: 948, class: 1\n",
      "x: 2, y: 1323, w: 808, h: 1688, class: 1\n",
      "V003_3_3_1_2_4_2_2_1_0_0_20221019_5244_20240422195054.jpg: 1개의 leaf 객체 추가\n",
      "\n",
      "image 1/1 /home/knuvi/Desktop/song/cucumber-image/data/oi/val/V003_3_3_1_2_4_2_2_1_0_0_20221019_5099_20240422195047.jpg: 640x480 2 leavess, 16.6ms\n",
      "Speed: 1.6ms preprocess, 16.6ms inference, 0.4ms postprocess per image at shape (1, 3, 640, 480)\n",
      "x: 3, y: 1, w: 1187, h: 1614, class: 1\n",
      "x: 0, y: 1762, w: 739, h: 1995, class: 1\n",
      "V003_3_3_1_2_4_2_2_1_0_0_20221019_5099_20240422195047.jpg: 1개의 leaf 객체 추가\n",
      "\n",
      "image 1/1 /home/knuvi/Desktop/song/cucumber-image/data/oi/val/V003_3_3_1_2_4_2_2_1_0_0_20221019_5254_20240422195055.jpg: 640x480 1 leaves, 16.7ms\n",
      "Speed: 1.7ms preprocess, 16.7ms inference, 0.4ms postprocess per image at shape (1, 3, 640, 480)\n",
      "x: 0, y: 12, w: 1381, h: 3109, class: 1\n",
      "\n",
      "image 1/1 /home/knuvi/Desktop/song/cucumber-image/data/oi/val/V003_3_3_1_2_4_2_2_1_0_0_20221019_5284_20240422195057.jpg: 640x480 2 leavess, 16.9ms\n",
      "Speed: 1.8ms preprocess, 16.9ms inference, 0.4ms postprocess per image at shape (1, 3, 640, 480)\n",
      "x: 1898, y: 6, w: 1101, h: 3187, class: 1\n",
      "x: 0, y: 528, w: 623, h: 1469, class: 1\n",
      "V003_3_3_1_2_4_2_2_1_0_0_20221019_5284_20240422195057.jpg: 1개의 leaf 객체 추가\n",
      "\n",
      "image 1/1 /home/knuvi/Desktop/song/cucumber-image/data/oi/val/V003_3_3_1_2_4_2_2_1_0_0_20221019_5100_20240422195047.jpg: 640x480 2 leavess, 17.0ms\n",
      "Speed: 1.8ms preprocess, 17.0ms inference, 0.4ms postprocess per image at shape (1, 3, 640, 480)\n",
      "x: 2, y: 3138, w: 1247, h: 859, class: 1\n",
      "x: 26, y: 4, w: 2973, h: 3145, class: 1\n",
      "V003_3_3_1_2_4_2_2_1_0_0_20221019_5100_20240422195047.jpg: 1개의 leaf 객체 추가\n",
      "\n",
      "image 1/1 /home/knuvi/Desktop/song/cucumber-image/data/oi/val/V003_3_3_1_2_4_2_2_1_0_0_20221019_5154_20240422195049.jpg: 640x480 2 leavess, 16.9ms\n",
      "Speed: 1.7ms preprocess, 16.9ms inference, 0.4ms postprocess per image at shape (1, 3, 640, 480)\n",
      "x: 0, y: 925, w: 768, h: 2742, class: 1\n",
      "x: 2, y: 0, w: 2818, h: 1378, class: 1\n",
      "V003_3_3_1_2_4_2_2_1_0_0_20221019_5154_20240422195049.jpg: 1개의 leaf 객체 추가\n",
      "\n",
      "image 1/1 /home/knuvi/Desktop/song/cucumber-image/data/oi/val/V003_3_3_1_2_4_2_2_1_0_0_20221019_5242_20240422195054.jpg: 640x480 3 leavess, 16.7ms\n",
      "Speed: 1.6ms preprocess, 16.7ms inference, 0.4ms postprocess per image at shape (1, 3, 640, 480)\n",
      "x: 2005, y: 0, w: 994, h: 3717, class: 1\n",
      "x: 2527, y: 2798, w: 472, h: 1201, class: 1\n",
      "x: 39, y: 0, w: 2960, h: 3850, class: 1\n",
      "V003_3_3_1_2_4_2_2_1_0_0_20221019_5242_20240422195054.jpg: 2개의 leaf 객체 추가\n",
      "\n",
      "image 1/1 /home/knuvi/Desktop/song/cucumber-image/data/oi/val/V003_3_3_1_2_4_2_2_1_0_0_20221019_5123_20240422195048.jpg: 640x480 2 leavess, 17.0ms\n",
      "Speed: 1.7ms preprocess, 17.0ms inference, 0.4ms postprocess per image at shape (1, 3, 640, 480)\n",
      "x: 0, y: 2726, w: 893, h: 1273, class: 1\n",
      "x: 1468, y: 794, w: 805, h: 851, class: 1\n",
      "V003_3_3_1_2_4_2_2_1_0_0_20221019_5123_20240422195048.jpg: 1개의 leaf 객체 추가\n",
      "\n",
      "image 1/1 /home/knuvi/Desktop/song/cucumber-image/data/oi/val/V003_3_3_1_2_4_2_2_1_0_0_20221019_5125_20240422195048.jpg: 640x480 (no detections), 16.9ms\n",
      "Speed: 1.7ms preprocess, 16.9ms inference, 0.2ms postprocess per image at shape (1, 3, 640, 480)\n",
      "\n",
      "image 1/1 /home/knuvi/Desktop/song/cucumber-image/data/oi/val/V003_3_3_1_2_4_2_2_1_0_0_20221019_5208_20240422195052.jpg: 640x480 (no detections), 17.2ms\n",
      "Speed: 1.8ms preprocess, 17.2ms inference, 0.2ms postprocess per image at shape (1, 3, 640, 480)\n",
      "Train set에서 새롭게 추가된 레이블 수: 72\n",
      "Validation set에서 새롭게 추가된 레이블 수: 18\n",
      "총 새롭게 추가된 레이블 수: 90\n"
     ]
    }
   ],
   "source": [
    "import os\n",
    "import json\n",
    "import torch\n",
    "from torchvision.ops import nms\n",
    "from ultralytics import YOLO\n",
    "\n",
    "# YOLO 모델 불러오기\n",
    "model = YOLO(\"/home/knuvi/Desktop/song/cucumber-image/yolo_detection/leaves3/weights/best.pt\")\n",
    "\n",
    "# train 및 val 이미지 경로\n",
    "train_dir = '/home/knuvi/Desktop/song/cucumber-image/data/oi/train'\n",
    "val_dir = '/home/knuvi/Desktop/song/cucumber-image/data/oi/val'\n",
    "label_dir = '/home/knuvi/Desktop/song/cucumber-image/data/oi/labels'  # 기존 레이블 JSON 파일이 있는 디렉토리\n",
    "\n",
    "# YOLO 추론 및 레이블 업데이트 함수\n",
    "def update_labels_with_yolo(model, image_dir, label_dir):\n",
    "    total_new_labels = 0  # 새로 추가된 레이블 수를 저장할 변수\n",
    "    iou_threshold = 0.5  # NMS 적용을 위한 IoU 임계값\n",
    "\n",
    "    for image_file in os.listdir(image_dir):\n",
    "        if image_file.endswith(('.jpg', '.jpeg', '.png')):  # 이미지 파일만 처리\n",
    "            image_path = os.path.join(image_dir, image_file)\n",
    "            label_file = os.path.splitext(image_file)[0] + '.json'\n",
    "            label_path = os.path.join(label_dir, label_file)\n",
    "            \n",
    "            # 기존 레이블 파일 열기\n",
    "            if os.path.exists(label_path):\n",
    "                with open(label_path, 'r', encoding='utf-8') as f:\n",
    "                    label_data = json.load(f)\n",
    "            else:\n",
    "                continue  # 레이블 파일이 없으면 다음 이미지로 이동\n",
    "            \n",
    "            # 기존 레이블의 객체 수\n",
    "            existing_objects = len(label_data['result'])\n",
    "            \n",
    "            # YOLO 추론 수행\n",
    "            results = model(image_path)\n",
    "            detections = results[0].boxes\n",
    "\n",
    "            if len(detections) == 0:\n",
    "                continue\n",
    "\n",
    "            # YOLO 결과에서 박스 좌표와 신뢰도 추출\n",
    "            boxes = torch.stack([detection.xyxy[0] for detection in detections]).cpu()  # 박스 좌표 [x_min, y_min, x_max, y_max]\n",
    "            scores = torch.tensor([detection.conf.item() for detection in detections])  # 신뢰도\n",
    "\n",
    "            # NMS 적용 (비최대 억제)\n",
    "            indices = nms(boxes, scores, iou_threshold)\n",
    "            filtered_detections = [detections[i] for i in indices]  # NMS 결과에 따른 필터링된 detection\n",
    "\n",
    "            # 이미지 크기 정보 가져오기\n",
    "            image_width = label_data['description']['width']\n",
    "            image_height = label_data['description']['height']\n",
    "            \n",
    "            # YOLO 탐지 결과를 기존 레이블에 추가\n",
    "            for detection in filtered_detections:\n",
    "                xyxy = detection.xyxy[0].cpu().numpy()  # 경계 상자 좌표 [x_min, y_min, x_max, y_max]\n",
    "                x_min, y_min, x_max, y_max = xyxy\n",
    "                x = int(x_min)\n",
    "                y = int(y_min)\n",
    "                w = int(x_max - x_min)\n",
    "                h = int(y_max - y_min)\n",
    "                \n",
    "                # 클래스 정보는 모두 leaf(클래스 1)로 추가\n",
    "                class_id = 1\n",
    "\n",
    "                # 새로 탐지된 객체를 레이블에 추가\n",
    "                new_bbox = {\n",
    "                    \"id\": \"generated_leaf_id\",  # 고유한 ID\n",
    "                    \"type\": \"bbox\",\n",
    "                    \"x\": x,\n",
    "                    \"y\": y,\n",
    "                    \"w\": w,\n",
    "                    \"h\": h,\n",
    "                    \"class\": class_id,  # 모든 결과는 class: 1 (leaf)\n",
    "                    \"cx\": None,\n",
    "                    \"cy\": None,\n",
    "                    \"r\": None,\n",
    "                    \"segmentation\": []\n",
    "                }\n",
    "                label_data['result'].append(new_bbox)\n",
    "                print(f'x: {x}, y: {y}, w: {w}, h: {h}, class: {class_id}')\n",
    "            \n",
    "            # 새로 추가된 객체 수 계산\n",
    "            original_objects = len(label_data['result']) - 1\n",
    "            new_objects = original_objects - existing_objects\n",
    "            if new_objects > 0:\n",
    "                print(f'{image_file}: {new_objects}개의 leaf 객체 추가')\n",
    "                # 레이블 파일 저장\n",
    "                with open(label_path, 'w', encoding='utf-8') as f:\n",
    "                    json.dump(label_data, f, indent=4)\n",
    "            \n",
    "            total_new_labels += new_objects\n",
    "\n",
    "    return total_new_labels\n",
    "\n",
    "# train 및 val 이미지에 대해 YOLO 추론 및 레이블 업데이트 수행\n",
    "new_train_labels = update_labels_with_yolo(model, train_dir, label_dir)\n",
    "new_val_labels = update_labels_with_yolo(model, val_dir, label_dir)\n",
    "\n",
    "# 새로 추가된 레이블 수 출력\n",
    "print(f\"Train set에서 새롭게 추가된 레이블 수: {new_train_labels}\")\n",
    "print(f\"Validation set에서 새롭게 추가된 레이블 수: {new_val_labels}\")\n",
    "print(f\"총 새롭게 추가된 레이블 수: {new_train_labels + new_val_labels}\")"
   ]
  },
  {
   "cell_type": "code",
   "execution_count": 11,
   "metadata": {},
   "outputs": [
    {
     "name": "stdout",
     "output_type": "stream",
     "text": [
      "\n",
      "image 1/1 /home/knuvi/Desktop/song/cucumber-image/data/oi/train/V003_3_3_1_2_4_2_2_1_0_0_20221019_5152_20240422195049.jpg: 640x480 (no detections), 17.6ms\n",
      "Speed: 1.8ms preprocess, 17.6ms inference, 0.2ms postprocess per image at shape (1, 3, 640, 480)\n",
      "No detections for: V003_3_3_1_2_4_2_2_1_0_0_20221019_5152_20240422195049.jpg, skipping...\n",
      "\n",
      "image 1/1 /home/knuvi/Desktop/song/cucumber-image/data/oi/train/V003_3_3_1_2_4_2_2_1_0_0_20221019_5317_20240422195058.jpg: 640x480 (no detections), 16.8ms\n",
      "Speed: 1.7ms preprocess, 16.8ms inference, 0.2ms postprocess per image at shape (1, 3, 640, 480)\n",
      "No detections for: V003_3_3_1_2_4_2_2_1_0_0_20221019_5317_20240422195058.jpg, skipping...\n",
      "\n",
      "image 1/1 /home/knuvi/Desktop/song/cucumber-image/data/oi/train/V003_3_3_1_2_4_2_2_1_0_0_20221019_5200_20240422195052.jpg: 640x480 1 leaves, 16.7ms\n",
      "Speed: 1.6ms preprocess, 16.7ms inference, 0.4ms postprocess per image at shape (1, 3, 640, 480)\n",
      "Processed and saved: /home/knuvi/Desktop/song/cucumber-image/yolo_detection/leaves3/inference_results/V003_3_3_1_2_4_2_2_1_0_0_20221019_5200_20240422195052_result.jpg\n",
      "\n",
      "image 1/1 /home/knuvi/Desktop/song/cucumber-image/data/oi/train/V003_3_3_1_2_4_2_2_1_0_0_20221019_5131_20240422195048.jpg: 640x480 (no detections), 17.1ms\n",
      "Speed: 1.7ms preprocess, 17.1ms inference, 0.2ms postprocess per image at shape (1, 3, 640, 480)\n",
      "No detections for: V003_3_3_1_2_4_2_2_1_0_0_20221019_5131_20240422195048.jpg, skipping...\n",
      "\n",
      "image 1/1 /home/knuvi/Desktop/song/cucumber-image/data/oi/train/V003_3_3_1_2_4_2_2_1_0_0_20221019_5307_20240422195058.jpg: 640x480 2 leavess, 17.1ms\n",
      "Speed: 1.7ms preprocess, 17.1ms inference, 0.4ms postprocess per image at shape (1, 3, 640, 480)\n",
      "Processed and saved: /home/knuvi/Desktop/song/cucumber-image/yolo_detection/leaves3/inference_results/V003_3_3_1_2_4_2_2_1_0_0_20221019_5307_20240422195058_result.jpg\n",
      "\n",
      "image 1/1 /home/knuvi/Desktop/song/cucumber-image/data/oi/train/V003_3_3_1_2_4_2_2_1_0_0_20221019_5280_20240422195056.jpg: 640x480 1 leaves, 17.1ms\n",
      "Speed: 1.8ms preprocess, 17.1ms inference, 0.4ms postprocess per image at shape (1, 3, 640, 480)\n",
      "Processed and saved: /home/knuvi/Desktop/song/cucumber-image/yolo_detection/leaves3/inference_results/V003_3_3_1_2_4_2_2_1_0_0_20221019_5280_20240422195056_result.jpg\n",
      "\n",
      "image 1/1 /home/knuvi/Desktop/song/cucumber-image/data/oi/train/V003_3_3_1_2_4_2_2_1_0_0_20221019_5181_20240422195051.jpg: 640x480 1 leaves, 17.2ms\n",
      "Speed: 1.8ms preprocess, 17.2ms inference, 0.4ms postprocess per image at shape (1, 3, 640, 480)\n",
      "Processed and saved: /home/knuvi/Desktop/song/cucumber-image/yolo_detection/leaves3/inference_results/V003_3_3_1_2_4_2_2_1_0_0_20221019_5181_20240422195051_result.jpg\n",
      "\n",
      "image 1/1 /home/knuvi/Desktop/song/cucumber-image/data/oi/train/V003_3_3_1_2_4_2_2_1_0_0_20221019_5171_20240422195050.jpg: 640x480 (no detections), 17.1ms\n",
      "Speed: 1.8ms preprocess, 17.1ms inference, 0.2ms postprocess per image at shape (1, 3, 640, 480)\n",
      "No detections for: V003_3_3_1_2_4_2_2_1_0_0_20221019_5171_20240422195050.jpg, skipping...\n",
      "\n",
      "image 1/1 /home/knuvi/Desktop/song/cucumber-image/data/oi/train/V003_3_3_1_2_4_2_2_1_0_0_20221019_5291_20240422195057.jpg: 640x480 1 leaves, 17.0ms\n",
      "Speed: 1.7ms preprocess, 17.0ms inference, 0.4ms postprocess per image at shape (1, 3, 640, 480)\n",
      "Processed and saved: /home/knuvi/Desktop/song/cucumber-image/yolo_detection/leaves3/inference_results/V003_3_3_1_2_4_2_2_1_0_0_20221019_5291_20240422195057_result.jpg\n",
      "\n",
      "image 1/1 /home/knuvi/Desktop/song/cucumber-image/data/oi/train/V003_3_3_1_2_4_2_2_1_0_0_20221019_5134_20240422195048.jpg: 640x480 (no detections), 17.3ms\n",
      "Speed: 1.8ms preprocess, 17.3ms inference, 0.2ms postprocess per image at shape (1, 3, 640, 480)\n",
      "No detections for: V003_3_3_1_2_4_2_2_1_0_0_20221019_5134_20240422195048.jpg, skipping...\n",
      "\n",
      "image 1/1 /home/knuvi/Desktop/song/cucumber-image/data/oi/train/V003_3_3_1_2_4_2_2_1_0_0_20221019_5294_20240422195057.jpg: 640x480 (no detections), 17.1ms\n",
      "Speed: 1.8ms preprocess, 17.1ms inference, 0.2ms postprocess per image at shape (1, 3, 640, 480)\n",
      "No detections for: V003_3_3_1_2_4_2_2_1_0_0_20221019_5294_20240422195057.jpg, skipping...\n",
      "\n",
      "image 1/1 /home/knuvi/Desktop/song/cucumber-image/data/oi/train/V003_3_3_1_2_4_2_2_1_0_0_20221019_5270_20240422195056.jpg: 640x480 (no detections), 17.0ms\n",
      "Speed: 1.7ms preprocess, 17.0ms inference, 0.2ms postprocess per image at shape (1, 3, 640, 480)\n",
      "No detections for: V003_3_3_1_2_4_2_2_1_0_0_20221019_5270_20240422195056.jpg, skipping...\n",
      "\n",
      "image 1/1 /home/knuvi/Desktop/song/cucumber-image/data/oi/train/V003_3_3_1_2_4_2_2_1_0_0_20221019_5096_20240422195046.jpg: 640x480 2 leavess, 17.1ms\n",
      "Speed: 1.8ms preprocess, 17.1ms inference, 0.4ms postprocess per image at shape (1, 3, 640, 480)\n",
      "Processed and saved: /home/knuvi/Desktop/song/cucumber-image/yolo_detection/leaves3/inference_results/V003_3_3_1_2_4_2_2_1_0_0_20221019_5096_20240422195046_result.jpg\n",
      "\n",
      "image 1/1 /home/knuvi/Desktop/song/cucumber-image/data/oi/train/V003_3_3_1_2_4_2_2_1_0_0_20221019_5233_20240422195054.jpg: 640x480 4 leavess, 17.1ms\n",
      "Speed: 1.8ms preprocess, 17.1ms inference, 0.4ms postprocess per image at shape (1, 3, 640, 480)\n",
      "Processed and saved: /home/knuvi/Desktop/song/cucumber-image/yolo_detection/leaves3/inference_results/V003_3_3_1_2_4_2_2_1_0_0_20221019_5233_20240422195054_result.jpg\n",
      "\n",
      "image 1/1 /home/knuvi/Desktop/song/cucumber-image/data/oi/train/V003_3_3_1_2_4_2_2_1_0_0_20221019_5256_20240422195055.jpg: 640x480 (no detections), 17.1ms\n",
      "Speed: 1.8ms preprocess, 17.1ms inference, 0.2ms postprocess per image at shape (1, 3, 640, 480)\n",
      "No detections for: V003_3_3_1_2_4_2_2_1_0_0_20221019_5256_20240422195055.jpg, skipping...\n",
      "\n",
      "image 1/1 /home/knuvi/Desktop/song/cucumber-image/data/oi/train/V003_3_3_1_2_4_2_2_1_0_0_20221019_5140_20240422195049.jpg: 640x480 4 leavess, 17.1ms\n",
      "Speed: 1.8ms preprocess, 17.1ms inference, 0.4ms postprocess per image at shape (1, 3, 640, 480)\n",
      "Processed and saved: /home/knuvi/Desktop/song/cucumber-image/yolo_detection/leaves3/inference_results/V003_3_3_1_2_4_2_2_1_0_0_20221019_5140_20240422195049_result.jpg\n",
      "\n",
      "image 1/1 /home/knuvi/Desktop/song/cucumber-image/data/oi/train/V003_3_3_1_2_4_2_2_1_0_0_20221019_5193_20240422195052.jpg: 640x480 1 leaves, 17.1ms\n",
      "Speed: 1.8ms preprocess, 17.1ms inference, 0.4ms postprocess per image at shape (1, 3, 640, 480)\n",
      "Processed and saved: /home/knuvi/Desktop/song/cucumber-image/yolo_detection/leaves3/inference_results/V003_3_3_1_2_4_2_2_1_0_0_20221019_5193_20240422195052_result.jpg\n",
      "\n",
      "image 1/1 /home/knuvi/Desktop/song/cucumber-image/data/oi/train/V003_3_3_1_2_4_2_2_1_0_0_20221019_5173_20240422195051.jpg: 640x480 (no detections), 17.2ms\n",
      "Speed: 1.8ms preprocess, 17.2ms inference, 0.2ms postprocess per image at shape (1, 3, 640, 480)\n",
      "No detections for: V003_3_3_1_2_4_2_2_1_0_0_20221019_5173_20240422195051.jpg, skipping...\n",
      "\n",
      "image 1/1 /home/knuvi/Desktop/song/cucumber-image/data/oi/train/V003_3_3_1_2_4_2_2_1_0_0_20221019_5226_20240422195053.jpg: 640x480 2 leavess, 16.9ms\n",
      "Speed: 1.7ms preprocess, 16.9ms inference, 0.4ms postprocess per image at shape (1, 3, 640, 480)\n",
      "Processed and saved: /home/knuvi/Desktop/song/cucumber-image/yolo_detection/leaves3/inference_results/V003_3_3_1_2_4_2_2_1_0_0_20221019_5226_20240422195053_result.jpg\n",
      "\n",
      "image 1/1 /home/knuvi/Desktop/song/cucumber-image/data/oi/train/V003_3_3_1_2_4_2_2_1_0_0_20221019_5246_20240422195054.jpg: 640x480 1 leaves, 17.1ms\n",
      "Speed: 1.8ms preprocess, 17.1ms inference, 0.4ms postprocess per image at shape (1, 3, 640, 480)\n",
      "Processed and saved: /home/knuvi/Desktop/song/cucumber-image/yolo_detection/leaves3/inference_results/V003_3_3_1_2_4_2_2_1_0_0_20221019_5246_20240422195054_result.jpg\n",
      "\n",
      "image 1/1 /home/knuvi/Desktop/song/cucumber-image/data/oi/train/V003_3_3_1_2_4_2_2_1_0_0_20221019_5221_20240422195053.jpg: 640x480 1 leaves, 17.8ms\n",
      "Speed: 1.8ms preprocess, 17.8ms inference, 0.4ms postprocess per image at shape (1, 3, 640, 480)\n",
      "Processed and saved: /home/knuvi/Desktop/song/cucumber-image/yolo_detection/leaves3/inference_results/V003_3_3_1_2_4_2_2_1_0_0_20221019_5221_20240422195053_result.jpg\n",
      "\n",
      "image 1/1 /home/knuvi/Desktop/song/cucumber-image/data/oi/train/V003_3_3_1_2_4_2_2_1_0_0_20221019_5139_20240422195049.jpg: 640x480 (no detections), 17.2ms\n",
      "Speed: 1.8ms preprocess, 17.2ms inference, 0.2ms postprocess per image at shape (1, 3, 640, 480)\n",
      "No detections for: V003_3_3_1_2_4_2_2_1_0_0_20221019_5139_20240422195049.jpg, skipping...\n",
      "\n",
      "image 1/1 /home/knuvi/Desktop/song/cucumber-image/data/oi/train/V003_3_3_1_2_4_2_2_1_0_0_20221019_5316_20240422195058.jpg: 640x480 3 leavess, 17.1ms\n",
      "Speed: 1.7ms preprocess, 17.1ms inference, 0.4ms postprocess per image at shape (1, 3, 640, 480)\n",
      "Processed and saved: /home/knuvi/Desktop/song/cucumber-image/yolo_detection/leaves3/inference_results/V003_3_3_1_2_4_2_2_1_0_0_20221019_5316_20240422195058_result.jpg\n",
      "\n",
      "image 1/1 /home/knuvi/Desktop/song/cucumber-image/data/oi/train/V003_3_3_1_2_4_2_2_1_0_0_20221019_5304_20240422195058.jpg: 640x480 (no detections), 17.0ms\n",
      "Speed: 1.7ms preprocess, 17.0ms inference, 0.2ms postprocess per image at shape (1, 3, 640, 480)\n",
      "No detections for: V003_3_3_1_2_4_2_2_1_0_0_20221019_5304_20240422195058.jpg, skipping...\n",
      "\n",
      "image 1/1 /home/knuvi/Desktop/song/cucumber-image/data/oi/train/V003_3_3_1_2_4_2_2_1_0_0_20221019_5288_20240422195057.jpg: 640x480 (no detections), 17.0ms\n",
      "Speed: 1.7ms preprocess, 17.0ms inference, 0.2ms postprocess per image at shape (1, 3, 640, 480)\n",
      "No detections for: V003_3_3_1_2_4_2_2_1_0_0_20221019_5288_20240422195057.jpg, skipping...\n",
      "\n",
      "image 1/1 /home/knuvi/Desktop/song/cucumber-image/data/oi/train/V003_3_3_1_2_4_2_2_1_0_0_20221019_5234_20240422195054.jpg: 640x480 (no detections), 17.1ms\n",
      "Speed: 1.8ms preprocess, 17.1ms inference, 0.2ms postprocess per image at shape (1, 3, 640, 480)\n",
      "No detections for: V003_3_3_1_2_4_2_2_1_0_0_20221019_5234_20240422195054.jpg, skipping...\n",
      "\n",
      "image 1/1 /home/knuvi/Desktop/song/cucumber-image/data/oi/train/V003_3_3_1_2_4_2_2_1_0_0_20221019_5258_20240422195055.jpg: 640x480 1 leaves, 17.0ms\n",
      "Speed: 1.8ms preprocess, 17.0ms inference, 0.4ms postprocess per image at shape (1, 3, 640, 480)\n",
      "Processed and saved: /home/knuvi/Desktop/song/cucumber-image/yolo_detection/leaves3/inference_results/V003_3_3_1_2_4_2_2_1_0_0_20221019_5258_20240422195055_result.jpg\n",
      "\n",
      "image 1/1 /home/knuvi/Desktop/song/cucumber-image/data/oi/train/V003_3_3_1_2_4_2_2_1_0_0_20221019_5198_20240422195052.jpg: 640x480 3 leavess, 17.1ms\n",
      "Speed: 1.7ms preprocess, 17.1ms inference, 0.4ms postprocess per image at shape (1, 3, 640, 480)\n",
      "Processed and saved: /home/knuvi/Desktop/song/cucumber-image/yolo_detection/leaves3/inference_results/V003_3_3_1_2_4_2_2_1_0_0_20221019_5198_20240422195052_result.jpg\n",
      "\n",
      "image 1/1 /home/knuvi/Desktop/song/cucumber-image/data/oi/train/V003_3_3_1_2_4_2_2_1_0_0_20221019_5105_20240422195047.jpg: 640x480 2 leavess, 17.2ms\n",
      "Speed: 1.7ms preprocess, 17.2ms inference, 0.4ms postprocess per image at shape (1, 3, 640, 480)\n",
      "Processed and saved: /home/knuvi/Desktop/song/cucumber-image/yolo_detection/leaves3/inference_results/V003_3_3_1_2_4_2_2_1_0_0_20221019_5105_20240422195047_result.jpg\n",
      "\n",
      "image 1/1 /home/knuvi/Desktop/song/cucumber-image/data/oi/train/V003_3_3_1_2_4_2_2_1_0_0_20221019_5158_20240422195050.jpg: 640x480 (no detections), 17.4ms\n",
      "Speed: 1.7ms preprocess, 17.4ms inference, 0.2ms postprocess per image at shape (1, 3, 640, 480)\n",
      "No detections for: V003_3_3_1_2_4_2_2_1_0_0_20221019_5158_20240422195050.jpg, skipping...\n",
      "모든 추론 결과가 저장되었습니다.\n"
     ]
    }
   ],
   "source": [
    "import os\n",
    "import cv2\n",
    "import matplotlib.pyplot as plt\n",
    "\n",
    "# YOLO 모델 불러오기\n",
    "model = YOLO(\"/home/knuvi/Desktop/song/cucumber-image/yolo_detection/leaves4/weights/best.pt\")\n",
    "\n",
    "# 이미지 경로와 저장 경로 설정\n",
    "train_dir = '/home/knuvi/Desktop/song/cucumber-image/data/oi/train'  # 추론할 train 이미지 경로\n",
    "save_dir = '/home/knuvi/Desktop/song/cucumber-image/yolo_detection/leaves4/inference_results/'  # 결과 저장 경로\n",
    "\n",
    "# 저장 경로 디렉토리 생성\n",
    "os.makedirs(save_dir, exist_ok=True)\n",
    "\n",
    "# 이미지 파일 목록 가져오기\n",
    "image_files = [f for f in os.listdir(train_dir) if f.endswith(('.jpg', '.jpeg', '.png'))]\n",
    "\n",
    "\n",
    "# 30개의 이미지에 대해 추론 및 저장 수행\n",
    "for idx, image_file in enumerate(image_files[:30]):  # 30장만 선택\n",
    "    image_path = os.path.join(train_dir, image_file)\n",
    "    \n",
    "    # YOLO 모델 추론 수행\n",
    "    results = model(image_path)\n",
    "\n",
    "    # 결과에 detection이 있는지 확인\n",
    "    if len(results[0].boxes) == 0:\n",
    "        print(f\"No detections for: {image_file}, skipping...\")\n",
    "        continue  # detection 결과가 없으면 건너뜀\n",
    "    \n",
    "    # 저장할 파일명 생성 (확장자 포함)\n",
    "    save_path = os.path.join(save_dir, f\"{os.path.splitext(image_file)[0]}_result.jpg\")\n",
    "    \n",
    "    # 결과를 지정한 경로에 저장\n",
    "    for result in results:\n",
    "        result.save(filename=save_path)  # 지정한 경로에 결과 저장\n",
    "\n",
    "    print(f\"Processed and saved: {save_path}\")\n",
    "\n",
    "print(\"모든 추론 결과가 저장되었습니다.\")\n"
   ]
  },
  {
   "cell_type": "code",
   "execution_count": 48,
   "metadata": {},
   "outputs": [
    {
     "name": "stdout",
     "output_type": "stream",
     "text": [
      "ultralytics.engine.results.Boxes object with attributes:\n",
      "\n",
      "cls: tensor([0.], device='cuda:0')\n",
      "conf: tensor([0.9707], device='cuda:0')\n",
      "data: tensor([[1.0269e+03, 1.1921e+03, 1.5643e+03, 2.7436e+03, 9.7070e-01, 0.0000e+00]], device='cuda:0')\n",
      "id: None\n",
      "is_track: False\n",
      "orig_shape: (4000, 3000)\n",
      "shape: torch.Size([1, 6])\n",
      "xywh: tensor([[1295.5928, 1967.8506,  537.3885, 1551.4126]], device='cuda:0')\n",
      "xywhn: tensor([[0.4319, 0.4920, 0.1791, 0.3879]], device='cuda:0')\n",
      "xyxy: tensor([[1026.8984, 1192.1443, 1564.2870, 2743.5569]], device='cuda:0')\n",
      "xyxyn: tensor([[0.3423, 0.2980, 0.5214, 0.6859]], device='cuda:0')\n"
     ]
    }
   ],
   "source": [
    "print(boxes)"
   ]
  },
  {
   "cell_type": "code",
   "execution_count": null,
   "metadata": {},
   "outputs": [],
   "source": []
  }
 ],
 "metadata": {
  "kernelspec": {
   "display_name": "seg",
   "language": "python",
   "name": "python3"
  },
  "language_info": {
   "codemirror_mode": {
    "name": "ipython",
    "version": 3
   },
   "file_extension": ".py",
   "mimetype": "text/x-python",
   "name": "python",
   "nbconvert_exporter": "python",
   "pygments_lexer": "ipython3",
   "version": "3.10.15"
  }
 },
 "nbformat": 4,
 "nbformat_minor": 2
}
