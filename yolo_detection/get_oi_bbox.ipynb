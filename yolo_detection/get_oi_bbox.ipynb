{
 "cells": [
  {
   "cell_type": "code",
   "execution_count": 5,
   "metadata": {},
   "outputs": [],
   "source": [
    "from ultralytics import YOLO"
   ]
  },
  {
   "cell_type": "code",
   "execution_count": 11,
   "metadata": {},
   "outputs": [],
   "source": [
    "data = \"/home/oi/Desktop/song/cucumber-image/yolo_detection/data.yaml\"\n",
    "project = \"/home/oi/Desktop/song/cucumber-image/yolo_detection\""
   ]
  },
  {
   "cell_type": "code",
   "execution_count": 12,
   "metadata": {},
   "outputs": [],
   "source": [
    "model = YOLO(\"/home/oi/Desktop/song/cucumber-image/weights/yolov10b.pt\")"
   ]
  },
  {
   "cell_type": "code",
   "execution_count": 14,
   "metadata": {},
   "outputs": [
    {
     "name": "stdout",
     "output_type": "stream",
     "text": [
      "New https://pypi.org/project/ultralytics/8.2.101 available 😃 Update with 'pip install -U ultralytics'\n",
      "Ultralytics YOLOv8.2.83 🚀 Python-3.10.14 torch-2.4.0+cu121 CUDA:0 (NVIDIA GeForce RTX 4090, 24195MiB)\n",
      "\u001b[34m\u001b[1mengine/trainer: \u001b[0mtask=detect, mode=train, model=/home/oi/Desktop/song/cucumber-image/weights/yolov10b.pt, data=/home/oi/Desktop/song/cucumber-image/yolo_detection/data.yaml, epochs=100, time=None, patience=100, batch=16, imgsz=640, save=True, save_period=-1, cache=False, device=0, workers=8, project=/home/oi/Desktop/song/cucumber-image/yolo_detection, name=oi, exist_ok=False, pretrained=True, optimizer=auto, verbose=True, seed=0, deterministic=True, single_cls=False, rect=False, cos_lr=False, close_mosaic=10, resume=False, amp=True, fraction=1.0, profile=False, freeze=None, multi_scale=False, overlap_mask=True, mask_ratio=4, dropout=0.0, val=True, split=val, save_json=False, save_hybrid=False, conf=None, iou=0.7, max_det=300, half=False, dnn=False, plots=True, source=None, vid_stride=1, stream_buffer=False, visualize=False, augment=False, agnostic_nms=False, classes=None, retina_masks=False, embed=None, show=False, save_frames=False, save_txt=False, save_conf=False, save_crop=False, show_labels=True, show_conf=True, show_boxes=True, line_width=None, format=torchscript, keras=False, optimize=False, int8=False, dynamic=False, simplify=False, opset=None, workspace=4, nms=False, lr0=0.01, lrf=0.01, momentum=0.937, weight_decay=0.0005, warmup_epochs=3.0, warmup_momentum=0.8, warmup_bias_lr=0.1, box=7.5, cls=0.5, dfl=1.5, pose=12.0, kobj=1.0, label_smoothing=0.0, nbs=64, hsv_h=0.015, hsv_s=0.7, hsv_v=0.4, degrees=0.0, translate=0.1, scale=0.5, shear=0.0, perspective=0.0, flipud=0.0, fliplr=0.5, bgr=0.0, mosaic=1.0, mixup=0.0, copy_paste=0.0, auto_augment=randaugment, erasing=0.4, crop_fraction=1.0, cfg=None, tracker=botsort.yaml, save_dir=/home/oi/Desktop/song/cucumber-image/yolo_detection/oi\n",
      "Downloading https://ultralytics.com/assets/Arial.ttf to '/home/oi/.config/Ultralytics/Arial.ttf'...\n"
     ]
    },
    {
     "name": "stderr",
     "output_type": "stream",
     "text": [
      "100%|██████████| 755k/755k [00:00<00:00, 25.0MB/s]"
     ]
    },
    {
     "name": "stdout",
     "output_type": "stream",
     "text": [
      "Overriding model.yaml nc=80 with nc=1\n",
      "\n",
      "                   from  n    params  module                                       arguments                     \n",
      "  0                  -1  1      1856  ultralytics.nn.modules.conv.Conv             [3, 64, 3, 2]                 \n",
      "  1                  -1  1     73984  ultralytics.nn.modules.conv.Conv             [64, 128, 3, 2]               \n",
      "  2                  -1  2    197632  ultralytics.nn.modules.block.C2f             [128, 128, 2, True]           \n",
      "  3                  -1  1    295424  ultralytics.nn.modules.conv.Conv             [128, 256, 3, 2]              \n",
      "  4                  -1  4   1444864  ultralytics.nn.modules.block.C2f             [256, 256, 4, True]           \n",
      "  5                  -1  1    137728  ultralytics.nn.modules.block.SCDown          [256, 512, 3, 2]              \n",
      "  6                  -1  4   5773312  ultralytics.nn.modules.block.C2f             [512, 512, 4, True]           \n",
      "  7                  -1  1    268800  ultralytics.nn.modules.block.SCDown          [512, 512, 3, 2]              \n",
      "  8                  -1  2   1338368  ultralytics.nn.modules.block.C2fCIB          [512, 512, 2, True]           \n",
      "  9                  -1  1    656896  ultralytics.nn.modules.block.SPPF            [512, 512, 5]                 \n",
      " 10                  -1  1    990976  ultralytics.nn.modules.block.PSA             [512, 512]                    \n",
      " 11                  -1  1         0  torch.nn.modules.upsampling.Upsample         [None, 2, 'nearest']          \n",
      " 12             [-1, 6]  1         0  ultralytics.nn.modules.conv.Concat           [1]                           \n",
      " 13                  -1  2   1600512  ultralytics.nn.modules.block.C2fCIB          [1024, 512, 2, True]          \n",
      " 14                  -1  1         0  torch.nn.modules.upsampling.Upsample         [None, 2, 'nearest']          \n",
      " 15             [-1, 4]  1         0  ultralytics.nn.modules.conv.Concat           [1]                           \n",
      " 16                  -1  2    919552  ultralytics.nn.modules.block.C2f             [768, 256, 2]                 \n",
      " 17                  -1  1    590336  ultralytics.nn.modules.conv.Conv             [256, 256, 3, 2]              \n",
      " 18            [-1, 13]  1         0  ultralytics.nn.modules.conv.Concat           [1]                           \n"
     ]
    },
    {
     "name": "stderr",
     "output_type": "stream",
     "text": [
      "\n"
     ]
    },
    {
     "name": "stdout",
     "output_type": "stream",
     "text": [
      " 19                  -1  2   1469440  ultralytics.nn.modules.block.C2fCIB          [768, 512, 2, True]           \n",
      " 20                  -1  1    268800  ultralytics.nn.modules.block.SCDown          [512, 512, 3, 2]              \n",
      " 21            [-1, 10]  1         0  ultralytics.nn.modules.conv.Concat           [1]                           \n",
      " 22                  -1  2   1600512  ultralytics.nn.modules.block.C2fCIB          [1024, 512, 2, True]          \n",
      " 23        [16, 19, 22]  1   2823574  ultralytics.nn.modules.head.v10Detect        [1, [256, 512, 512]]          \n",
      "YOLOv10b summary: 518 layers, 20,452,566 parameters, 20,452,550 gradients, 98.7 GFLOPs\n",
      "\n",
      "Transferred 823/835 items from pretrained weights\n",
      "Freezing layer 'model.23.dfl.conv.weight'\n",
      "\u001b[34m\u001b[1mAMP: \u001b[0mrunning Automatic Mixed Precision (AMP) checks with YOLOv8n...\n",
      "Downloading https://github.com/ultralytics/assets/releases/download/v8.2.0/yolov8n.pt to 'yolov8n.pt'...\n"
     ]
    },
    {
     "name": "stderr",
     "output_type": "stream",
     "text": [
      "100%|██████████| 6.25M/6.25M [00:00<00:00, 24.9MB/s]\n"
     ]
    },
    {
     "name": "stdout",
     "output_type": "stream",
     "text": [
      "\u001b[34m\u001b[1mAMP: \u001b[0mchecks passed ✅\n"
     ]
    },
    {
     "name": "stderr",
     "output_type": "stream",
     "text": [
      "/home/oi/miniconda3/envs/seg/lib/python3.10/site-packages/ultralytics/engine/trainer.py:268: FutureWarning: `torch.cuda.amp.GradScaler(args...)` is deprecated. Please use `torch.amp.GradScaler('cuda', args...)` instead.\n",
      "  self.scaler = torch.cuda.amp.GradScaler(enabled=self.amp)\n",
      "\u001b[34m\u001b[1mtrain: \u001b[0mScanning /home/oi/Desktop/song/cucumber-image/data/train... 202 images, 0 backgrounds, 0 corrupt: 100%|██████████| 202/202 [00:03<00:00, 59.03it/s]"
     ]
    },
    {
     "name": "stdout",
     "output_type": "stream",
     "text": [
      "\u001b[34m\u001b[1mtrain: \u001b[0mWARNING ⚠️ /home/oi/Desktop/song/cucumber-image/data/train/V003_3_3_1_2_4_2_2_1_0_0_20221015_5068_20240422195045.jpg: corrupt JPEG restored and saved\n",
      "\u001b[34m\u001b[1mtrain: \u001b[0mWARNING ⚠️ /home/oi/Desktop/song/cucumber-image/data/train/V003_3_3_1_2_4_2_2_1_0_0_20221015_5069_20240422195045.jpg: corrupt JPEG restored and saved\n",
      "\u001b[34m\u001b[1mtrain: \u001b[0mWARNING ⚠️ /home/oi/Desktop/song/cucumber-image/data/train/V003_3_3_1_2_4_2_2_1_0_0_20221015_5070_20240422195045.jpg: corrupt JPEG restored and saved\n",
      "\u001b[34m\u001b[1mtrain: \u001b[0mWARNING ⚠️ /home/oi/Desktop/song/cucumber-image/data/train/V003_3_3_1_2_4_2_2_1_0_0_20221015_5071_20240422195045.jpg: corrupt JPEG restored and saved\n",
      "\u001b[34m\u001b[1mtrain: \u001b[0mWARNING ⚠️ /home/oi/Desktop/song/cucumber-image/data/train/V003_3_3_1_2_4_2_2_1_0_0_20221015_5072_20240422195045.jpg: corrupt JPEG restored and saved\n",
      "\u001b[34m\u001b[1mtrain: \u001b[0mWARNING ⚠️ /home/oi/Desktop/song/cucumber-image/data/train/V003_3_3_1_2_4_2_2_1_0_0_20221015_5073_20240422195045.jpg: corrupt JPEG restored and saved\n",
      "\u001b[34m\u001b[1mtrain: \u001b[0mWARNING ⚠️ /home/oi/Desktop/song/cucumber-image/data/train/V003_3_3_1_2_4_2_2_1_0_0_20221015_5075_20240422195045.jpg: corrupt JPEG restored and saved\n",
      "\u001b[34m\u001b[1mtrain: \u001b[0mWARNING ⚠️ /home/oi/Desktop/song/cucumber-image/data/train/V003_3_3_1_2_4_2_2_1_0_0_20221015_5076_20240422195046.jpg: corrupt JPEG restored and saved\n",
      "\u001b[34m\u001b[1mtrain: \u001b[0mWARNING ⚠️ /home/oi/Desktop/song/cucumber-image/data/train/V003_3_3_1_2_4_2_2_1_0_0_20221015_5077_20240422195046.jpg: corrupt JPEG restored and saved\n",
      "\u001b[34m\u001b[1mtrain: \u001b[0mWARNING ⚠️ /home/oi/Desktop/song/cucumber-image/data/train/V003_3_3_1_2_4_2_2_1_0_0_20221015_5078_20240422195046.jpg: corrupt JPEG restored and saved\n",
      "\u001b[34m\u001b[1mtrain: \u001b[0mWARNING ⚠️ /home/oi/Desktop/song/cucumber-image/data/train/V003_3_3_1_2_4_2_2_1_0_0_20221015_5079_20240422195046.jpg: corrupt JPEG restored and saved\n",
      "\u001b[34m\u001b[1mtrain: \u001b[0mWARNING ⚠️ /home/oi/Desktop/song/cucumber-image/data/train/V003_3_3_1_2_4_2_2_1_0_0_20221015_5080_20240422195046.jpg: corrupt JPEG restored and saved\n",
      "\u001b[34m\u001b[1mtrain: \u001b[0mWARNING ⚠️ /home/oi/Desktop/song/cucumber-image/data/train/V003_3_3_1_2_4_2_2_1_0_0_20221015_5081_20240422195046.jpg: corrupt JPEG restored and saved\n",
      "\u001b[34m\u001b[1mtrain: \u001b[0mWARNING ⚠️ /home/oi/Desktop/song/cucumber-image/data/train/V003_3_3_1_2_4_2_2_1_0_0_20221015_5082_20240422195046.jpg: corrupt JPEG restored and saved\n",
      "\u001b[34m\u001b[1mtrain: \u001b[0mWARNING ⚠️ /home/oi/Desktop/song/cucumber-image/data/train/V003_3_3_1_2_4_2_2_1_0_0_20221015_5083_20240422195046.jpg: corrupt JPEG restored and saved\n",
      "\u001b[34m\u001b[1mtrain: \u001b[0mWARNING ⚠️ /home/oi/Desktop/song/cucumber-image/data/train/V003_3_3_1_2_4_2_2_1_0_0_20221015_5084_20240422195046.jpg: corrupt JPEG restored and saved\n",
      "\u001b[34m\u001b[1mtrain: \u001b[0mWARNING ⚠️ /home/oi/Desktop/song/cucumber-image/data/train/V003_3_3_1_2_4_2_2_1_0_0_20221015_5086_20240422195046.jpg: corrupt JPEG restored and saved\n",
      "\u001b[34m\u001b[1mtrain: \u001b[0mWARNING ⚠️ /home/oi/Desktop/song/cucumber-image/data/train/V003_3_3_1_2_4_2_2_1_0_0_20221015_5087_20240422195046.jpg: corrupt JPEG restored and saved\n",
      "\u001b[34m\u001b[1mtrain: \u001b[0mWARNING ⚠️ /home/oi/Desktop/song/cucumber-image/data/train/V003_3_3_1_2_4_2_2_1_0_0_20221019_5088_20240422195046.jpg: corrupt JPEG restored and saved\n",
      "\u001b[34m\u001b[1mtrain: \u001b[0mWARNING ⚠️ /home/oi/Desktop/song/cucumber-image/data/train/V003_3_3_1_2_4_2_2_1_0_0_20221019_5089_20240422195046.jpg: corrupt JPEG restored and saved\n",
      "\u001b[34m\u001b[1mtrain: \u001b[0mWARNING ⚠️ /home/oi/Desktop/song/cucumber-image/data/train/V003_3_3_1_2_4_2_2_1_0_0_20221019_5090_20240422195046.jpg: corrupt JPEG restored and saved\n",
      "\u001b[34m\u001b[1mtrain: \u001b[0mWARNING ⚠️ /home/oi/Desktop/song/cucumber-image/data/train/V003_3_3_1_2_4_2_2_1_0_0_20221019_5091_20240422195046.jpg: corrupt JPEG restored and saved\n",
      "\u001b[34m\u001b[1mtrain: \u001b[0mWARNING ⚠️ /home/oi/Desktop/song/cucumber-image/data/train/V003_3_3_1_2_4_2_2_1_0_0_20221019_5093_20240422195046.jpg: corrupt JPEG restored and saved\n",
      "\u001b[34m\u001b[1mtrain: \u001b[0mWARNING ⚠️ /home/oi/Desktop/song/cucumber-image/data/train/V003_3_3_1_2_4_2_2_1_0_0_20221019_5094_20240422195046.jpg: corrupt JPEG restored and saved\n",
      "\u001b[34m\u001b[1mtrain: \u001b[0mWARNING ⚠️ /home/oi/Desktop/song/cucumber-image/data/train/V003_3_3_1_2_4_2_2_1_0_0_20221019_5095_20240422195046.jpg: corrupt JPEG restored and saved\n",
      "\u001b[34m\u001b[1mtrain: \u001b[0mWARNING ⚠️ /home/oi/Desktop/song/cucumber-image/data/train/V003_3_3_1_2_4_2_2_1_0_0_20221019_5096_20240422195046.jpg: corrupt JPEG restored and saved\n",
      "\u001b[34m\u001b[1mtrain: \u001b[0mWARNING ⚠️ /home/oi/Desktop/song/cucumber-image/data/train/V003_3_3_1_2_4_2_2_1_0_0_20221019_5097_20240422195047.jpg: corrupt JPEG restored and saved\n",
      "\u001b[34m\u001b[1mtrain: \u001b[0mWARNING ⚠️ /home/oi/Desktop/song/cucumber-image/data/train/V003_3_3_1_2_4_2_2_1_0_0_20221019_5098_20240422195047.jpg: corrupt JPEG restored and saved\n",
      "\u001b[34m\u001b[1mtrain: \u001b[0mWARNING ⚠️ /home/oi/Desktop/song/cucumber-image/data/train/V003_3_3_1_2_4_2_2_1_0_0_20221019_5101_20240422195047.jpg: corrupt JPEG restored and saved\n",
      "\u001b[34m\u001b[1mtrain: \u001b[0mWARNING ⚠️ /home/oi/Desktop/song/cucumber-image/data/train/V003_3_3_1_2_4_2_2_1_0_0_20221019_5102_20240422195047.jpg: corrupt JPEG restored and saved\n",
      "\u001b[34m\u001b[1mtrain: \u001b[0mWARNING ⚠️ /home/oi/Desktop/song/cucumber-image/data/train/V003_3_3_1_2_4_2_2_1_0_0_20221019_5103_20240422195047.jpg: corrupt JPEG restored and saved\n",
      "\u001b[34m\u001b[1mtrain: \u001b[0mWARNING ⚠️ /home/oi/Desktop/song/cucumber-image/data/train/V003_3_3_1_2_4_2_2_1_0_0_20221019_5104_20240422195047.jpg: corrupt JPEG restored and saved\n",
      "\u001b[34m\u001b[1mtrain: \u001b[0mWARNING ⚠️ /home/oi/Desktop/song/cucumber-image/data/train/V003_3_3_1_2_4_2_2_1_0_0_20221019_5105_20240422195047.jpg: corrupt JPEG restored and saved\n",
      "\u001b[34m\u001b[1mtrain: \u001b[0mWARNING ⚠️ /home/oi/Desktop/song/cucumber-image/data/train/V003_3_3_1_2_4_2_2_1_0_0_20221019_5109_20240422195047.jpg: corrupt JPEG restored and saved\n",
      "\u001b[34m\u001b[1mtrain: \u001b[0mWARNING ⚠️ /home/oi/Desktop/song/cucumber-image/data/train/V003_3_3_1_2_4_2_2_1_0_0_20221019_5110_20240422195047.jpg: corrupt JPEG restored and saved\n",
      "\u001b[34m\u001b[1mtrain: \u001b[0mWARNING ⚠️ /home/oi/Desktop/song/cucumber-image/data/train/V003_3_3_1_2_4_2_2_1_0_0_20221019_5111_20240422195047.jpg: corrupt JPEG restored and saved\n",
      "\u001b[34m\u001b[1mtrain: \u001b[0mWARNING ⚠️ /home/oi/Desktop/song/cucumber-image/data/train/V003_3_3_1_2_4_2_2_1_0_0_20221019_5112_20240422195047.jpg: corrupt JPEG restored and saved\n",
      "\u001b[34m\u001b[1mtrain: \u001b[0mWARNING ⚠️ /home/oi/Desktop/song/cucumber-image/data/train/V003_3_3_1_2_4_2_2_1_0_0_20221019_5114_20240422195047.jpg: corrupt JPEG restored and saved\n",
      "\u001b[34m\u001b[1mtrain: \u001b[0mWARNING ⚠️ /home/oi/Desktop/song/cucumber-image/data/train/V003_3_3_1_2_4_2_2_1_0_0_20221019_5115_20240422195047.jpg: corrupt JPEG restored and saved\n",
      "\u001b[34m\u001b[1mtrain: \u001b[0mWARNING ⚠️ /home/oi/Desktop/song/cucumber-image/data/train/V003_3_3_1_2_4_2_2_1_0_0_20221019_5117_20240422195048.jpg: corrupt JPEG restored and saved\n",
      "\u001b[34m\u001b[1mtrain: \u001b[0mWARNING ⚠️ /home/oi/Desktop/song/cucumber-image/data/train/V003_3_3_1_2_4_2_2_1_0_0_20221019_5118_20240422195048.jpg: corrupt JPEG restored and saved\n",
      "\u001b[34m\u001b[1mtrain: \u001b[0mWARNING ⚠️ /home/oi/Desktop/song/cucumber-image/data/train/V003_3_3_1_2_4_2_2_1_0_0_20221019_5119_20240422195048.jpg: corrupt JPEG restored and saved\n",
      "\u001b[34m\u001b[1mtrain: \u001b[0mWARNING ⚠️ /home/oi/Desktop/song/cucumber-image/data/train/V003_3_3_1_2_4_2_2_1_0_0_20221019_5121_20240422195048.jpg: corrupt JPEG restored and saved\n",
      "\u001b[34m\u001b[1mtrain: \u001b[0mWARNING ⚠️ /home/oi/Desktop/song/cucumber-image/data/train/V003_3_3_1_2_4_2_2_1_0_0_20221019_5122_20240422195048.jpg: corrupt JPEG restored and saved\n",
      "\u001b[34m\u001b[1mtrain: \u001b[0mWARNING ⚠️ /home/oi/Desktop/song/cucumber-image/data/train/V003_3_3_1_2_4_2_2_1_0_0_20221019_5124_20240422195048.jpg: corrupt JPEG restored and saved\n",
      "\u001b[34m\u001b[1mtrain: \u001b[0mWARNING ⚠️ /home/oi/Desktop/song/cucumber-image/data/train/V003_3_3_1_2_4_2_2_1_0_0_20221019_5127_20240422195048.jpg: corrupt JPEG restored and saved\n",
      "\u001b[34m\u001b[1mtrain: \u001b[0mWARNING ⚠️ /home/oi/Desktop/song/cucumber-image/data/train/V003_3_3_1_2_4_2_2_1_0_0_20221019_5128_20240422195048.jpg: corrupt JPEG restored and saved\n",
      "\u001b[34m\u001b[1mtrain: \u001b[0mWARNING ⚠️ /home/oi/Desktop/song/cucumber-image/data/train/V003_3_3_1_2_4_2_2_1_0_0_20221019_5129_20240422195048.jpg: corrupt JPEG restored and saved\n",
      "\u001b[34m\u001b[1mtrain: \u001b[0mWARNING ⚠️ /home/oi/Desktop/song/cucumber-image/data/train/V003_3_3_1_2_4_2_2_1_0_0_20221019_5130_20240422195048.jpg: corrupt JPEG restored and saved\n",
      "\u001b[34m\u001b[1mtrain: \u001b[0mWARNING ⚠️ /home/oi/Desktop/song/cucumber-image/data/train/V003_3_3_1_2_4_2_2_1_0_0_20221019_5131_20240422195048.jpg: corrupt JPEG restored and saved\n",
      "\u001b[34m\u001b[1mtrain: \u001b[0mWARNING ⚠️ /home/oi/Desktop/song/cucumber-image/data/train/V003_3_3_1_2_4_2_2_1_0_0_20221019_5132_20240422195048.jpg: corrupt JPEG restored and saved\n",
      "\u001b[34m\u001b[1mtrain: \u001b[0mWARNING ⚠️ /home/oi/Desktop/song/cucumber-image/data/train/V003_3_3_1_2_4_2_2_1_0_0_20221019_5133_20240422195048.jpg: corrupt JPEG restored and saved\n",
      "\u001b[34m\u001b[1mtrain: \u001b[0mWARNING ⚠️ /home/oi/Desktop/song/cucumber-image/data/train/V003_3_3_1_2_4_2_2_1_0_0_20221019_5134_20240422195048.jpg: corrupt JPEG restored and saved\n",
      "\u001b[34m\u001b[1mtrain: \u001b[0mWARNING ⚠️ /home/oi/Desktop/song/cucumber-image/data/train/V003_3_3_1_2_4_2_2_1_0_0_20221019_5135_20240422195048.jpg: corrupt JPEG restored and saved\n",
      "\u001b[34m\u001b[1mtrain: \u001b[0mWARNING ⚠️ /home/oi/Desktop/song/cucumber-image/data/train/V003_3_3_1_2_4_2_2_1_0_0_20221019_5137_20240422195049.jpg: corrupt JPEG restored and saved\n",
      "\u001b[34m\u001b[1mtrain: \u001b[0mWARNING ⚠️ /home/oi/Desktop/song/cucumber-image/data/train/V003_3_3_1_2_4_2_2_1_0_0_20221019_5138_20240422195049.jpg: corrupt JPEG restored and saved\n",
      "\u001b[34m\u001b[1mtrain: \u001b[0mWARNING ⚠️ /home/oi/Desktop/song/cucumber-image/data/train/V003_3_3_1_2_4_2_2_1_0_0_20221019_5139_20240422195049.jpg: corrupt JPEG restored and saved\n",
      "\u001b[34m\u001b[1mtrain: \u001b[0mWARNING ⚠️ /home/oi/Desktop/song/cucumber-image/data/train/V003_3_3_1_2_4_2_2_1_0_0_20221019_5140_20240422195049.jpg: corrupt JPEG restored and saved\n",
      "\u001b[34m\u001b[1mtrain: \u001b[0mWARNING ⚠️ /home/oi/Desktop/song/cucumber-image/data/train/V003_3_3_1_2_4_2_2_1_0_0_20221019_5141_20240422195049.jpg: corrupt JPEG restored and saved\n",
      "\u001b[34m\u001b[1mtrain: \u001b[0mWARNING ⚠️ /home/oi/Desktop/song/cucumber-image/data/train/V003_3_3_1_2_4_2_2_1_0_0_20221019_5142_20240422195049.jpg: corrupt JPEG restored and saved\n",
      "\u001b[34m\u001b[1mtrain: \u001b[0mWARNING ⚠️ /home/oi/Desktop/song/cucumber-image/data/train/V003_3_3_1_2_4_2_2_1_0_0_20221019_5143_20240422195049.jpg: corrupt JPEG restored and saved\n",
      "\u001b[34m\u001b[1mtrain: \u001b[0mWARNING ⚠️ /home/oi/Desktop/song/cucumber-image/data/train/V003_3_3_1_2_4_2_2_1_0_0_20221019_5145_20240422195049.jpg: corrupt JPEG restored and saved\n",
      "\u001b[34m\u001b[1mtrain: \u001b[0mWARNING ⚠️ /home/oi/Desktop/song/cucumber-image/data/train/V003_3_3_1_2_4_2_2_1_0_0_20221019_5146_20240422195049.jpg: corrupt JPEG restored and saved\n",
      "\u001b[34m\u001b[1mtrain: \u001b[0mWARNING ⚠️ /home/oi/Desktop/song/cucumber-image/data/train/V003_3_3_1_2_4_2_2_1_0_0_20221019_5147_20240422195049.jpg: corrupt JPEG restored and saved\n",
      "\u001b[34m\u001b[1mtrain: \u001b[0mWARNING ⚠️ /home/oi/Desktop/song/cucumber-image/data/train/V003_3_3_1_2_4_2_2_1_0_0_20221019_5148_20240422195049.jpg: corrupt JPEG restored and saved\n",
      "\u001b[34m\u001b[1mtrain: \u001b[0mWARNING ⚠️ /home/oi/Desktop/song/cucumber-image/data/train/V003_3_3_1_2_4_2_2_1_0_0_20221019_5149_20240422195049.jpg: corrupt JPEG restored and saved\n",
      "\u001b[34m\u001b[1mtrain: \u001b[0mWARNING ⚠️ /home/oi/Desktop/song/cucumber-image/data/train/V003_3_3_1_2_4_2_2_1_0_0_20221019_5150_20240422195049.jpg: corrupt JPEG restored and saved\n",
      "\u001b[34m\u001b[1mtrain: \u001b[0mWARNING ⚠️ /home/oi/Desktop/song/cucumber-image/data/train/V003_3_3_1_2_4_2_2_1_0_0_20221019_5151_20240422195049.jpg: corrupt JPEG restored and saved\n",
      "\u001b[34m\u001b[1mtrain: \u001b[0mWARNING ⚠️ /home/oi/Desktop/song/cucumber-image/data/train/V003_3_3_1_2_4_2_2_1_0_0_20221019_5152_20240422195049.jpg: corrupt JPEG restored and saved\n",
      "\u001b[34m\u001b[1mtrain: \u001b[0mWARNING ⚠️ /home/oi/Desktop/song/cucumber-image/data/train/V003_3_3_1_2_4_2_2_1_0_0_20221019_5153_20240422195049.jpg: corrupt JPEG restored and saved\n",
      "\u001b[34m\u001b[1mtrain: \u001b[0mWARNING ⚠️ /home/oi/Desktop/song/cucumber-image/data/train/V003_3_3_1_2_4_2_2_1_0_0_20221019_5155_20240422195050.jpg: corrupt JPEG restored and saved\n",
      "\u001b[34m\u001b[1mtrain: \u001b[0mWARNING ⚠️ /home/oi/Desktop/song/cucumber-image/data/train/V003_3_3_1_2_4_2_2_1_0_0_20221019_5157_20240422195050.jpg: corrupt JPEG restored and saved\n",
      "\u001b[34m\u001b[1mtrain: \u001b[0mWARNING ⚠️ /home/oi/Desktop/song/cucumber-image/data/train/V003_3_3_1_2_4_2_2_1_0_0_20221019_5158_20240422195050.jpg: corrupt JPEG restored and saved\n",
      "\u001b[34m\u001b[1mtrain: \u001b[0mWARNING ⚠️ /home/oi/Desktop/song/cucumber-image/data/train/V003_3_3_1_2_4_2_2_1_0_0_20221019_5159_20240422195050.jpg: corrupt JPEG restored and saved\n",
      "\u001b[34m\u001b[1mtrain: \u001b[0mWARNING ⚠️ /home/oi/Desktop/song/cucumber-image/data/train/V003_3_3_1_2_4_2_2_1_0_0_20221019_5160_20240422195050.jpg: corrupt JPEG restored and saved\n",
      "\u001b[34m\u001b[1mtrain: \u001b[0mWARNING ⚠️ /home/oi/Desktop/song/cucumber-image/data/train/V003_3_3_1_2_4_2_2_1_0_0_20221019_5161_20240422195050.jpg: corrupt JPEG restored and saved\n",
      "\u001b[34m\u001b[1mtrain: \u001b[0mWARNING ⚠️ /home/oi/Desktop/song/cucumber-image/data/train/V003_3_3_1_2_4_2_2_1_0_0_20221019_5162_20240422195050.jpg: corrupt JPEG restored and saved\n",
      "\u001b[34m\u001b[1mtrain: \u001b[0mWARNING ⚠️ /home/oi/Desktop/song/cucumber-image/data/train/V003_3_3_1_2_4_2_2_1_0_0_20221019_5164_20240422195050.jpg: corrupt JPEG restored and saved\n",
      "\u001b[34m\u001b[1mtrain: \u001b[0mWARNING ⚠️ /home/oi/Desktop/song/cucumber-image/data/train/V003_3_3_1_2_4_2_2_1_0_0_20221019_5165_20240422195050.jpg: corrupt JPEG restored and saved\n",
      "\u001b[34m\u001b[1mtrain: \u001b[0mWARNING ⚠️ /home/oi/Desktop/song/cucumber-image/data/train/V003_3_3_1_2_4_2_2_1_0_0_20221019_5167_20240422195050.jpg: corrupt JPEG restored and saved\n",
      "\u001b[34m\u001b[1mtrain: \u001b[0mWARNING ⚠️ /home/oi/Desktop/song/cucumber-image/data/train/V003_3_3_1_2_4_2_2_1_0_0_20221019_5168_20240422195050.jpg: corrupt JPEG restored and saved\n",
      "\u001b[34m\u001b[1mtrain: \u001b[0mWARNING ⚠️ /home/oi/Desktop/song/cucumber-image/data/train/V003_3_3_1_2_4_2_2_1_0_0_20221019_5169_20240422195050.jpg: corrupt JPEG restored and saved\n",
      "\u001b[34m\u001b[1mtrain: \u001b[0mWARNING ⚠️ /home/oi/Desktop/song/cucumber-image/data/train/V003_3_3_1_2_4_2_2_1_0_0_20221019_5170_20240422195050.jpg: corrupt JPEG restored and saved\n",
      "\u001b[34m\u001b[1mtrain: \u001b[0mWARNING ⚠️ /home/oi/Desktop/song/cucumber-image/data/train/V003_3_3_1_2_4_2_2_1_0_0_20221019_5171_20240422195050.jpg: corrupt JPEG restored and saved\n",
      "\u001b[34m\u001b[1mtrain: \u001b[0mWARNING ⚠️ /home/oi/Desktop/song/cucumber-image/data/train/V003_3_3_1_2_4_2_2_1_0_0_20221019_5172_20240422195050.jpg: corrupt JPEG restored and saved\n",
      "\u001b[34m\u001b[1mtrain: \u001b[0mWARNING ⚠️ /home/oi/Desktop/song/cucumber-image/data/train/V003_3_3_1_2_4_2_2_1_0_0_20221019_5173_20240422195051.jpg: corrupt JPEG restored and saved\n",
      "\u001b[34m\u001b[1mtrain: \u001b[0mWARNING ⚠️ /home/oi/Desktop/song/cucumber-image/data/train/V003_3_3_1_2_4_2_2_1_0_0_20221019_5174_20240422195051.jpg: corrupt JPEG restored and saved\n",
      "\u001b[34m\u001b[1mtrain: \u001b[0mWARNING ⚠️ /home/oi/Desktop/song/cucumber-image/data/train/V003_3_3_1_2_4_2_2_1_0_0_20221019_5175_20240422195051.jpg: corrupt JPEG restored and saved\n",
      "\u001b[34m\u001b[1mtrain: \u001b[0mWARNING ⚠️ /home/oi/Desktop/song/cucumber-image/data/train/V003_3_3_1_2_4_2_2_1_0_0_20221019_5177_20240422195051.jpg: corrupt JPEG restored and saved\n",
      "\u001b[34m\u001b[1mtrain: \u001b[0mWARNING ⚠️ /home/oi/Desktop/song/cucumber-image/data/train/V003_3_3_1_2_4_2_2_1_0_0_20221019_5180_20240422195051.jpg: corrupt JPEG restored and saved\n",
      "\u001b[34m\u001b[1mtrain: \u001b[0mWARNING ⚠️ /home/oi/Desktop/song/cucumber-image/data/train/V003_3_3_1_2_4_2_2_1_0_0_20221019_5181_20240422195051.jpg: corrupt JPEG restored and saved\n",
      "\u001b[34m\u001b[1mtrain: \u001b[0mWARNING ⚠️ /home/oi/Desktop/song/cucumber-image/data/train/V003_3_3_1_2_4_2_2_1_0_0_20221019_5182_20240422195051.jpg: corrupt JPEG restored and saved\n",
      "\u001b[34m\u001b[1mtrain: \u001b[0mWARNING ⚠️ /home/oi/Desktop/song/cucumber-image/data/train/V003_3_3_1_2_4_2_2_1_0_0_20221019_5183_20240422195051.jpg: corrupt JPEG restored and saved\n",
      "\u001b[34m\u001b[1mtrain: \u001b[0mWARNING ⚠️ /home/oi/Desktop/song/cucumber-image/data/train/V003_3_3_1_2_4_2_2_1_0_0_20221019_5184_20240422195051.jpg: corrupt JPEG restored and saved\n",
      "\u001b[34m\u001b[1mtrain: \u001b[0mWARNING ⚠️ /home/oi/Desktop/song/cucumber-image/data/train/V003_3_3_1_2_4_2_2_1_0_0_20221019_5185_20240422195051.jpg: corrupt JPEG restored and saved\n",
      "\u001b[34m\u001b[1mtrain: \u001b[0mWARNING ⚠️ /home/oi/Desktop/song/cucumber-image/data/train/V003_3_3_1_2_4_2_2_1_0_0_20221019_5187_20240422195051.jpg: corrupt JPEG restored and saved\n",
      "\u001b[34m\u001b[1mtrain: \u001b[0mWARNING ⚠️ /home/oi/Desktop/song/cucumber-image/data/train/V003_3_3_1_2_4_2_2_1_0_0_20221019_5188_20240422195051.jpg: corrupt JPEG restored and saved\n",
      "\u001b[34m\u001b[1mtrain: \u001b[0mWARNING ⚠️ /home/oi/Desktop/song/cucumber-image/data/train/V003_3_3_1_2_4_2_2_1_0_0_20221019_5190_20240422195051.jpg: corrupt JPEG restored and saved\n",
      "\u001b[34m\u001b[1mtrain: \u001b[0mWARNING ⚠️ /home/oi/Desktop/song/cucumber-image/data/train/V003_3_3_1_2_4_2_2_1_0_0_20221019_5191_20240422195051.jpg: corrupt JPEG restored and saved\n",
      "\u001b[34m\u001b[1mtrain: \u001b[0mWARNING ⚠️ /home/oi/Desktop/song/cucumber-image/data/train/V003_3_3_1_2_4_2_2_1_0_0_20221019_5193_20240422195052.jpg: corrupt JPEG restored and saved\n",
      "\u001b[34m\u001b[1mtrain: \u001b[0mWARNING ⚠️ /home/oi/Desktop/song/cucumber-image/data/train/V003_3_3_1_2_4_2_2_1_0_0_20221019_5194_20240422195052.jpg: corrupt JPEG restored and saved\n",
      "\u001b[34m\u001b[1mtrain: \u001b[0mWARNING ⚠️ /home/oi/Desktop/song/cucumber-image/data/train/V003_3_3_1_2_4_2_2_1_0_0_20221019_5195_20240422195052.jpg: corrupt JPEG restored and saved\n",
      "\u001b[34m\u001b[1mtrain: \u001b[0mWARNING ⚠️ /home/oi/Desktop/song/cucumber-image/data/train/V003_3_3_1_2_4_2_2_1_0_0_20221019_5196_20240422195052.jpg: corrupt JPEG restored and saved\n",
      "\u001b[34m\u001b[1mtrain: \u001b[0mWARNING ⚠️ /home/oi/Desktop/song/cucumber-image/data/train/V003_3_3_1_2_4_2_2_1_0_0_20221019_5197_20240422195052.jpg: corrupt JPEG restored and saved\n",
      "\u001b[34m\u001b[1mtrain: \u001b[0mWARNING ⚠️ /home/oi/Desktop/song/cucumber-image/data/train/V003_3_3_1_2_4_2_2_1_0_0_20221019_5198_20240422195052.jpg: corrupt JPEG restored and saved\n",
      "\u001b[34m\u001b[1mtrain: \u001b[0mWARNING ⚠️ /home/oi/Desktop/song/cucumber-image/data/train/V003_3_3_1_2_4_2_2_1_0_0_20221019_5200_20240422195052.jpg: corrupt JPEG restored and saved\n",
      "\u001b[34m\u001b[1mtrain: \u001b[0mWARNING ⚠️ /home/oi/Desktop/song/cucumber-image/data/train/V003_3_3_1_2_4_2_2_1_0_0_20221019_5201_20240422195052.jpg: corrupt JPEG restored and saved\n",
      "\u001b[34m\u001b[1mtrain: \u001b[0mWARNING ⚠️ /home/oi/Desktop/song/cucumber-image/data/train/V003_3_3_1_2_4_2_2_1_0_0_20221019_5202_20240422195052.jpg: corrupt JPEG restored and saved\n",
      "\u001b[34m\u001b[1mtrain: \u001b[0mWARNING ⚠️ /home/oi/Desktop/song/cucumber-image/data/train/V003_3_3_1_2_4_2_2_1_0_0_20221019_5203_20240422195052.jpg: corrupt JPEG restored and saved\n",
      "\u001b[34m\u001b[1mtrain: \u001b[0mWARNING ⚠️ /home/oi/Desktop/song/cucumber-image/data/train/V003_3_3_1_2_4_2_2_1_0_0_20221019_5204_20240422195052.jpg: corrupt JPEG restored and saved\n",
      "\u001b[34m\u001b[1mtrain: \u001b[0mWARNING ⚠️ /home/oi/Desktop/song/cucumber-image/data/train/V003_3_3_1_2_4_2_2_1_0_0_20221019_5209_20240422195052.jpg: corrupt JPEG restored and saved\n",
      "\u001b[34m\u001b[1mtrain: \u001b[0mWARNING ⚠️ /home/oi/Desktop/song/cucumber-image/data/train/V003_3_3_1_2_4_2_2_1_0_0_20221019_5212_20240422195053.jpg: corrupt JPEG restored and saved\n",
      "\u001b[34m\u001b[1mtrain: \u001b[0mWARNING ⚠️ /home/oi/Desktop/song/cucumber-image/data/train/V003_3_3_1_2_4_2_2_1_0_0_20221019_5213_20240422195053.jpg: corrupt JPEG restored and saved\n",
      "\u001b[34m\u001b[1mtrain: \u001b[0mWARNING ⚠️ /home/oi/Desktop/song/cucumber-image/data/train/V003_3_3_1_2_4_2_2_1_0_0_20221019_5214_20240422195053.jpg: corrupt JPEG restored and saved\n",
      "\u001b[34m\u001b[1mtrain: \u001b[0mWARNING ⚠️ /home/oi/Desktop/song/cucumber-image/data/train/V003_3_3_1_2_4_2_2_1_0_0_20221019_5215_20240422195053.jpg: corrupt JPEG restored and saved\n",
      "\u001b[34m\u001b[1mtrain: \u001b[0mWARNING ⚠️ /home/oi/Desktop/song/cucumber-image/data/train/V003_3_3_1_2_4_2_2_1_0_0_20221019_5216_20240422195053.jpg: corrupt JPEG restored and saved\n",
      "\u001b[34m\u001b[1mtrain: \u001b[0mWARNING ⚠️ /home/oi/Desktop/song/cucumber-image/data/train/V003_3_3_1_2_4_2_2_1_0_0_20221019_5218_20240422195053.jpg: corrupt JPEG restored and saved\n",
      "\u001b[34m\u001b[1mtrain: \u001b[0mWARNING ⚠️ /home/oi/Desktop/song/cucumber-image/data/train/V003_3_3_1_2_4_2_2_1_0_0_20221019_5219_20240422195053.jpg: corrupt JPEG restored and saved\n",
      "\u001b[34m\u001b[1mtrain: \u001b[0mWARNING ⚠️ /home/oi/Desktop/song/cucumber-image/data/train/V003_3_3_1_2_4_2_2_1_0_0_20221019_5220_20240422195053.jpg: corrupt JPEG restored and saved\n",
      "\u001b[34m\u001b[1mtrain: \u001b[0mWARNING ⚠️ /home/oi/Desktop/song/cucumber-image/data/train/V003_3_3_1_2_4_2_2_1_0_0_20221019_5221_20240422195053.jpg: corrupt JPEG restored and saved\n",
      "\u001b[34m\u001b[1mtrain: \u001b[0mWARNING ⚠️ /home/oi/Desktop/song/cucumber-image/data/train/V003_3_3_1_2_4_2_2_1_0_0_20221019_5223_20240422195053.jpg: corrupt JPEG restored and saved\n",
      "\u001b[34m\u001b[1mtrain: \u001b[0mWARNING ⚠️ /home/oi/Desktop/song/cucumber-image/data/train/V003_3_3_1_2_4_2_2_1_0_0_20221019_5224_20240422195053.jpg: corrupt JPEG restored and saved\n",
      "\u001b[34m\u001b[1mtrain: \u001b[0mWARNING ⚠️ /home/oi/Desktop/song/cucumber-image/data/train/V003_3_3_1_2_4_2_2_1_0_0_20221019_5226_20240422195053.jpg: corrupt JPEG restored and saved\n",
      "\u001b[34m\u001b[1mtrain: \u001b[0mWARNING ⚠️ /home/oi/Desktop/song/cucumber-image/data/train/V003_3_3_1_2_4_2_2_1_0_0_20221019_5228_20240422195053.jpg: corrupt JPEG restored and saved\n",
      "\u001b[34m\u001b[1mtrain: \u001b[0mWARNING ⚠️ /home/oi/Desktop/song/cucumber-image/data/train/V003_3_3_1_2_4_2_2_1_0_0_20221019_5229_20240422195053.jpg: corrupt JPEG restored and saved\n",
      "\u001b[34m\u001b[1mtrain: \u001b[0mWARNING ⚠️ /home/oi/Desktop/song/cucumber-image/data/train/V003_3_3_1_2_4_2_2_1_0_0_20221019_5230_20240422195053.jpg: corrupt JPEG restored and saved\n",
      "\u001b[34m\u001b[1mtrain: \u001b[0mWARNING ⚠️ /home/oi/Desktop/song/cucumber-image/data/train/V003_3_3_1_2_4_2_2_1_0_0_20221019_5231_20240422195053.jpg: corrupt JPEG restored and saved\n",
      "\u001b[34m\u001b[1mtrain: \u001b[0mWARNING ⚠️ /home/oi/Desktop/song/cucumber-image/data/train/V003_3_3_1_2_4_2_2_1_0_0_20221019_5233_20240422195054.jpg: corrupt JPEG restored and saved\n",
      "\u001b[34m\u001b[1mtrain: \u001b[0mWARNING ⚠️ /home/oi/Desktop/song/cucumber-image/data/train/V003_3_3_1_2_4_2_2_1_0_0_20221019_5234_20240422195054.jpg: corrupt JPEG restored and saved\n",
      "\u001b[34m\u001b[1mtrain: \u001b[0mWARNING ⚠️ /home/oi/Desktop/song/cucumber-image/data/train/V003_3_3_1_2_4_2_2_1_0_0_20221019_5235_20240422195054.jpg: corrupt JPEG restored and saved\n",
      "\u001b[34m\u001b[1mtrain: \u001b[0mWARNING ⚠️ /home/oi/Desktop/song/cucumber-image/data/train/V003_3_3_1_2_4_2_2_1_0_0_20221019_5236_20240422195054.jpg: corrupt JPEG restored and saved\n",
      "\u001b[34m\u001b[1mtrain: \u001b[0mWARNING ⚠️ /home/oi/Desktop/song/cucumber-image/data/train/V003_3_3_1_2_4_2_2_1_0_0_20221019_5237_20240422195054.jpg: corrupt JPEG restored and saved\n",
      "\u001b[34m\u001b[1mtrain: \u001b[0mWARNING ⚠️ /home/oi/Desktop/song/cucumber-image/data/train/V003_3_3_1_2_4_2_2_1_0_0_20221019_5238_20240422195054.jpg: corrupt JPEG restored and saved\n",
      "\u001b[34m\u001b[1mtrain: \u001b[0mWARNING ⚠️ /home/oi/Desktop/song/cucumber-image/data/train/V003_3_3_1_2_4_2_2_1_0_0_20221019_5239_20240422195054.jpg: corrupt JPEG restored and saved\n",
      "\u001b[34m\u001b[1mtrain: \u001b[0mWARNING ⚠️ /home/oi/Desktop/song/cucumber-image/data/train/V003_3_3_1_2_4_2_2_1_0_0_20221019_5240_20240422195054.jpg: corrupt JPEG restored and saved\n",
      "\u001b[34m\u001b[1mtrain: \u001b[0mWARNING ⚠️ /home/oi/Desktop/song/cucumber-image/data/train/V003_3_3_1_2_4_2_2_1_0_0_20221019_5243_20240422195054.jpg: corrupt JPEG restored and saved\n",
      "\u001b[34m\u001b[1mtrain: \u001b[0mWARNING ⚠️ /home/oi/Desktop/song/cucumber-image/data/train/V003_3_3_1_2_4_2_2_1_0_0_20221019_5245_20240422195054.jpg: corrupt JPEG restored and saved\n",
      "\u001b[34m\u001b[1mtrain: \u001b[0mWARNING ⚠️ /home/oi/Desktop/song/cucumber-image/data/train/V003_3_3_1_2_4_2_2_1_0_0_20221019_5246_20240422195054.jpg: corrupt JPEG restored and saved\n",
      "\u001b[34m\u001b[1mtrain: \u001b[0mWARNING ⚠️ /home/oi/Desktop/song/cucumber-image/data/train/V003_3_3_1_2_4_2_2_1_0_0_20221019_5247_20240422195054.jpg: corrupt JPEG restored and saved\n",
      "\u001b[34m\u001b[1mtrain: \u001b[0mWARNING ⚠️ /home/oi/Desktop/song/cucumber-image/data/train/V003_3_3_1_2_4_2_2_1_0_0_20221019_5250_20240422195055.jpg: corrupt JPEG restored and saved\n",
      "\u001b[34m\u001b[1mtrain: \u001b[0mWARNING ⚠️ /home/oi/Desktop/song/cucumber-image/data/train/V003_3_3_1_2_4_2_2_1_0_0_20221019_5251_20240422195055.jpg: corrupt JPEG restored and saved\n",
      "\u001b[34m\u001b[1mtrain: \u001b[0mWARNING ⚠️ /home/oi/Desktop/song/cucumber-image/data/train/V003_3_3_1_2_4_2_2_1_0_0_20221019_5252_20240422195055.jpg: corrupt JPEG restored and saved\n",
      "\u001b[34m\u001b[1mtrain: \u001b[0mWARNING ⚠️ /home/oi/Desktop/song/cucumber-image/data/train/V003_3_3_1_2_4_2_2_1_0_0_20221019_5253_20240422195055.jpg: corrupt JPEG restored and saved\n",
      "\u001b[34m\u001b[1mtrain: \u001b[0mWARNING ⚠️ /home/oi/Desktop/song/cucumber-image/data/train/V003_3_3_1_2_4_2_2_1_0_0_20221019_5255_20240422195055.jpg: corrupt JPEG restored and saved\n",
      "\u001b[34m\u001b[1mtrain: \u001b[0mWARNING ⚠️ /home/oi/Desktop/song/cucumber-image/data/train/V003_3_3_1_2_4_2_2_1_0_0_20221019_5256_20240422195055.jpg: corrupt JPEG restored and saved\n",
      "\u001b[34m\u001b[1mtrain: \u001b[0mWARNING ⚠️ /home/oi/Desktop/song/cucumber-image/data/train/V003_3_3_1_2_4_2_2_1_0_0_20221019_5257_20240422195055.jpg: corrupt JPEG restored and saved\n",
      "\u001b[34m\u001b[1mtrain: \u001b[0mWARNING ⚠️ /home/oi/Desktop/song/cucumber-image/data/train/V003_3_3_1_2_4_2_2_1_0_0_20221019_5258_20240422195055.jpg: corrupt JPEG restored and saved\n",
      "\u001b[34m\u001b[1mtrain: \u001b[0mWARNING ⚠️ /home/oi/Desktop/song/cucumber-image/data/train/V003_3_3_1_2_4_2_2_1_0_0_20221019_5259_20240422195055.jpg: corrupt JPEG restored and saved\n",
      "\u001b[34m\u001b[1mtrain: \u001b[0mWARNING ⚠️ /home/oi/Desktop/song/cucumber-image/data/train/V003_3_3_1_2_4_2_2_1_0_0_20221019_5260_20240422195055.jpg: corrupt JPEG restored and saved\n",
      "\u001b[34m\u001b[1mtrain: \u001b[0mWARNING ⚠️ /home/oi/Desktop/song/cucumber-image/data/train/V003_3_3_1_2_4_2_2_1_0_0_20221019_5261_20240422195055.jpg: corrupt JPEG restored and saved\n",
      "\u001b[34m\u001b[1mtrain: \u001b[0mWARNING ⚠️ /home/oi/Desktop/song/cucumber-image/data/train/V003_3_3_1_2_4_2_2_1_0_0_20221019_5262_20240422195055.jpg: corrupt JPEG restored and saved\n",
      "\u001b[34m\u001b[1mtrain: \u001b[0mWARNING ⚠️ /home/oi/Desktop/song/cucumber-image/data/train/V003_3_3_1_2_4_2_2_1_0_0_20221019_5263_20240422195055.jpg: corrupt JPEG restored and saved\n",
      "\u001b[34m\u001b[1mtrain: \u001b[0mWARNING ⚠️ /home/oi/Desktop/song/cucumber-image/data/train/V003_3_3_1_2_4_2_2_1_0_0_20221019_5264_20240422195055.jpg: corrupt JPEG restored and saved\n",
      "\u001b[34m\u001b[1mtrain: \u001b[0mWARNING ⚠️ /home/oi/Desktop/song/cucumber-image/data/train/V003_3_3_1_2_4_2_2_1_0_0_20221019_5265_20240422195055.jpg: corrupt JPEG restored and saved\n",
      "\u001b[34m\u001b[1mtrain: \u001b[0mWARNING ⚠️ /home/oi/Desktop/song/cucumber-image/data/train/V003_3_3_1_2_4_2_2_1_0_0_20221019_5266_20240422195055.jpg: corrupt JPEG restored and saved\n",
      "\u001b[34m\u001b[1mtrain: \u001b[0mWARNING ⚠️ /home/oi/Desktop/song/cucumber-image/data/train/V003_3_3_1_2_4_2_2_1_0_0_20221019_5267_20240422195056.jpg: corrupt JPEG restored and saved\n",
      "\u001b[34m\u001b[1mtrain: \u001b[0mWARNING ⚠️ /home/oi/Desktop/song/cucumber-image/data/train/V003_3_3_1_2_4_2_2_1_0_0_20221019_5268_20240422195056.jpg: corrupt JPEG restored and saved\n",
      "\u001b[34m\u001b[1mtrain: \u001b[0mWARNING ⚠️ /home/oi/Desktop/song/cucumber-image/data/train/V003_3_3_1_2_4_2_2_1_0_0_20221019_5269_20240422195056.jpg: corrupt JPEG restored and saved\n",
      "\u001b[34m\u001b[1mtrain: \u001b[0mWARNING ⚠️ /home/oi/Desktop/song/cucumber-image/data/train/V003_3_3_1_2_4_2_2_1_0_0_20221019_5270_20240422195056.jpg: corrupt JPEG restored and saved\n",
      "\u001b[34m\u001b[1mtrain: \u001b[0mWARNING ⚠️ /home/oi/Desktop/song/cucumber-image/data/train/V003_3_3_1_2_4_2_2_1_0_0_20221019_5272_20240422195056.jpg: corrupt JPEG restored and saved\n",
      "\u001b[34m\u001b[1mtrain: \u001b[0mWARNING ⚠️ /home/oi/Desktop/song/cucumber-image/data/train/V003_3_3_1_2_4_2_2_1_0_0_20221019_5273_20240422195056.jpg: corrupt JPEG restored and saved\n",
      "\u001b[34m\u001b[1mtrain: \u001b[0mWARNING ⚠️ /home/oi/Desktop/song/cucumber-image/data/train/V003_3_3_1_2_4_2_2_1_0_0_20221019_5274_20240422195056.jpg: corrupt JPEG restored and saved\n",
      "\u001b[34m\u001b[1mtrain: \u001b[0mWARNING ⚠️ /home/oi/Desktop/song/cucumber-image/data/train/V003_3_3_1_2_4_2_2_1_0_0_20221019_5275_20240422195056.jpg: corrupt JPEG restored and saved\n",
      "\u001b[34m\u001b[1mtrain: \u001b[0mWARNING ⚠️ /home/oi/Desktop/song/cucumber-image/data/train/V003_3_3_1_2_4_2_2_1_0_0_20221019_5276_20240422195056.jpg: corrupt JPEG restored and saved\n",
      "\u001b[34m\u001b[1mtrain: \u001b[0mWARNING ⚠️ /home/oi/Desktop/song/cucumber-image/data/train/V003_3_3_1_2_4_2_2_1_0_0_20221019_5277_20240422195056.jpg: corrupt JPEG restored and saved\n",
      "\u001b[34m\u001b[1mtrain: \u001b[0mWARNING ⚠️ /home/oi/Desktop/song/cucumber-image/data/train/V003_3_3_1_2_4_2_2_1_0_0_20221019_5278_20240422195056.jpg: corrupt JPEG restored and saved\n",
      "\u001b[34m\u001b[1mtrain: \u001b[0mWARNING ⚠️ /home/oi/Desktop/song/cucumber-image/data/train/V003_3_3_1_2_4_2_2_1_0_0_20221019_5279_20240422195056.jpg: corrupt JPEG restored and saved\n",
      "\u001b[34m\u001b[1mtrain: \u001b[0mWARNING ⚠️ /home/oi/Desktop/song/cucumber-image/data/train/V003_3_3_1_2_4_2_2_1_0_0_20221019_5280_20240422195056.jpg: corrupt JPEG restored and saved\n",
      "\u001b[34m\u001b[1mtrain: \u001b[0mWARNING ⚠️ /home/oi/Desktop/song/cucumber-image/data/train/V003_3_3_1_2_4_2_2_1_0_0_20221019_5281_20240422195056.jpg: corrupt JPEG restored and saved\n",
      "\u001b[34m\u001b[1mtrain: \u001b[0mWARNING ⚠️ /home/oi/Desktop/song/cucumber-image/data/train/V003_3_3_1_2_4_2_2_1_0_0_20221019_5282_20240422195056.jpg: corrupt JPEG restored and saved\n",
      "\u001b[34m\u001b[1mtrain: \u001b[0mWARNING ⚠️ /home/oi/Desktop/song/cucumber-image/data/train/V003_3_3_1_2_4_2_2_1_0_0_20221019_5283_20240422195057.jpg: corrupt JPEG restored and saved\n",
      "\u001b[34m\u001b[1mtrain: \u001b[0mWARNING ⚠️ /home/oi/Desktop/song/cucumber-image/data/train/V003_3_3_1_2_4_2_2_1_0_0_20221019_5285_20240422195057.jpg: corrupt JPEG restored and saved\n",
      "\u001b[34m\u001b[1mtrain: \u001b[0mWARNING ⚠️ /home/oi/Desktop/song/cucumber-image/data/train/V003_3_3_1_2_4_2_2_1_0_0_20221019_5287_20240422195057.jpg: corrupt JPEG restored and saved\n",
      "\u001b[34m\u001b[1mtrain: \u001b[0mWARNING ⚠️ /home/oi/Desktop/song/cucumber-image/data/train/V003_3_3_1_2_4_2_2_1_0_0_20221019_5288_20240422195057.jpg: corrupt JPEG restored and saved\n",
      "\u001b[34m\u001b[1mtrain: \u001b[0mWARNING ⚠️ /home/oi/Desktop/song/cucumber-image/data/train/V003_3_3_1_2_4_2_2_1_0_0_20221019_5290_20240422195057.jpg: corrupt JPEG restored and saved\n",
      "\u001b[34m\u001b[1mtrain: \u001b[0mWARNING ⚠️ /home/oi/Desktop/song/cucumber-image/data/train/V003_3_3_1_2_4_2_2_1_0_0_20221019_5291_20240422195057.jpg: corrupt JPEG restored and saved\n",
      "\u001b[34m\u001b[1mtrain: \u001b[0mWARNING ⚠️ /home/oi/Desktop/song/cucumber-image/data/train/V003_3_3_1_2_4_2_2_1_0_0_20221019_5293_20240422195057.jpg: corrupt JPEG restored and saved\n",
      "\u001b[34m\u001b[1mtrain: \u001b[0mWARNING ⚠️ /home/oi/Desktop/song/cucumber-image/data/train/V003_3_3_1_2_4_2_2_1_0_0_20221019_5294_20240422195057.jpg: corrupt JPEG restored and saved\n",
      "\u001b[34m\u001b[1mtrain: \u001b[0mWARNING ⚠️ /home/oi/Desktop/song/cucumber-image/data/train/V003_3_3_1_2_4_2_2_1_0_0_20221019_5295_20240422195057.jpg: corrupt JPEG restored and saved\n",
      "\u001b[34m\u001b[1mtrain: \u001b[0mWARNING ⚠️ /home/oi/Desktop/song/cucumber-image/data/train/V003_3_3_1_2_4_2_2_1_0_0_20221019_5296_20240422195057.jpg: corrupt JPEG restored and saved\n",
      "\u001b[34m\u001b[1mtrain: \u001b[0mWARNING ⚠️ /home/oi/Desktop/song/cucumber-image/data/train/V003_3_3_1_2_4_2_2_1_0_0_20221019_5297_20240422195057.jpg: corrupt JPEG restored and saved\n",
      "\u001b[34m\u001b[1mtrain: \u001b[0mWARNING ⚠️ /home/oi/Desktop/song/cucumber-image/data/train/V003_3_3_1_2_4_2_2_1_0_0_20221019_5298_20240422195057.jpg: corrupt JPEG restored and saved\n",
      "\u001b[34m\u001b[1mtrain: \u001b[0mWARNING ⚠️ /home/oi/Desktop/song/cucumber-image/data/train/V003_3_3_1_2_4_2_2_1_0_0_20221019_5299_20240422195057.jpg: corrupt JPEG restored and saved\n",
      "\u001b[34m\u001b[1mtrain: \u001b[0mWARNING ⚠️ /home/oi/Desktop/song/cucumber-image/data/train/V003_3_3_1_2_4_2_2_1_0_0_20221019_5300_20240422195057.jpg: corrupt JPEG restored and saved\n",
      "\u001b[34m\u001b[1mtrain: \u001b[0mWARNING ⚠️ /home/oi/Desktop/song/cucumber-image/data/train/V003_3_3_1_2_4_2_2_1_0_0_20221019_5301_20240422195057.jpg: corrupt JPEG restored and saved\n",
      "\u001b[34m\u001b[1mtrain: \u001b[0mWARNING ⚠️ /home/oi/Desktop/song/cucumber-image/data/train/V003_3_3_1_2_4_2_2_1_0_0_20221019_5302_20240422195058.jpg: corrupt JPEG restored and saved\n",
      "\u001b[34m\u001b[1mtrain: \u001b[0mWARNING ⚠️ /home/oi/Desktop/song/cucumber-image/data/train/V003_3_3_1_2_4_2_2_1_0_0_20221019_5304_20240422195058.jpg: corrupt JPEG restored and saved\n",
      "\u001b[34m\u001b[1mtrain: \u001b[0mWARNING ⚠️ /home/oi/Desktop/song/cucumber-image/data/train/V003_3_3_1_2_4_2_2_1_0_0_20221019_5305_20240422195058.jpg: corrupt JPEG restored and saved\n",
      "\u001b[34m\u001b[1mtrain: \u001b[0mWARNING ⚠️ /home/oi/Desktop/song/cucumber-image/data/train/V003_3_3_1_2_4_2_2_1_0_0_20221019_5306_20240422195058.jpg: corrupt JPEG restored and saved\n",
      "\u001b[34m\u001b[1mtrain: \u001b[0mWARNING ⚠️ /home/oi/Desktop/song/cucumber-image/data/train/V003_3_3_1_2_4_2_2_1_0_0_20221019_5307_20240422195058.jpg: corrupt JPEG restored and saved\n",
      "\u001b[34m\u001b[1mtrain: \u001b[0mWARNING ⚠️ /home/oi/Desktop/song/cucumber-image/data/train/V003_3_3_1_2_4_2_2_1_0_0_20221019_5308_20240422195058.jpg: corrupt JPEG restored and saved\n",
      "\u001b[34m\u001b[1mtrain: \u001b[0mWARNING ⚠️ /home/oi/Desktop/song/cucumber-image/data/train/V003_3_3_1_2_4_2_2_1_0_0_20221019_5309_20240422195058.jpg: corrupt JPEG restored and saved\n",
      "\u001b[34m\u001b[1mtrain: \u001b[0mWARNING ⚠️ /home/oi/Desktop/song/cucumber-image/data/train/V003_3_3_1_2_4_2_2_1_0_0_20221019_5310_20240422195058.jpg: corrupt JPEG restored and saved\n",
      "\u001b[34m\u001b[1mtrain: \u001b[0mWARNING ⚠️ /home/oi/Desktop/song/cucumber-image/data/train/V003_3_3_1_2_4_2_2_1_0_0_20221019_5311_20240422195058.jpg: corrupt JPEG restored and saved\n",
      "\u001b[34m\u001b[1mtrain: \u001b[0mWARNING ⚠️ /home/oi/Desktop/song/cucumber-image/data/train/V003_3_3_1_2_4_2_2_1_0_0_20221019_5312_20240422195058.jpg: corrupt JPEG restored and saved\n",
      "\u001b[34m\u001b[1mtrain: \u001b[0mWARNING ⚠️ /home/oi/Desktop/song/cucumber-image/data/train/V003_3_3_1_2_4_2_2_1_0_0_20221019_5313_20240422195058.jpg: corrupt JPEG restored and saved\n",
      "\u001b[34m\u001b[1mtrain: \u001b[0mWARNING ⚠️ /home/oi/Desktop/song/cucumber-image/data/train/V003_3_3_1_2_4_2_2_1_0_0_20221019_5314_20240422195058.jpg: corrupt JPEG restored and saved\n",
      "\u001b[34m\u001b[1mtrain: \u001b[0mWARNING ⚠️ /home/oi/Desktop/song/cucumber-image/data/train/V003_3_3_1_2_4_2_2_1_0_0_20221019_5315_20240422195058.jpg: corrupt JPEG restored and saved\n",
      "\u001b[34m\u001b[1mtrain: \u001b[0mWARNING ⚠️ /home/oi/Desktop/song/cucumber-image/data/train/V003_3_3_1_2_4_2_2_1_0_0_20221019_5316_20240422195058.jpg: corrupt JPEG restored and saved\n",
      "\u001b[34m\u001b[1mtrain: \u001b[0mWARNING ⚠️ /home/oi/Desktop/song/cucumber-image/data/train/V003_3_3_1_2_4_2_2_1_0_0_20221019_5317_20240422195058.jpg: corrupt JPEG restored and saved\n",
      "\u001b[34m\u001b[1mtrain: \u001b[0mWARNING ⚠️ /home/oi/Desktop/song/cucumber-image/data/train/V003_3_3_1_2_4_2_2_1_0_0_20221019_5318_20240422195058.jpg: corrupt JPEG restored and saved\n",
      "\u001b[34m\u001b[1mtrain: \u001b[0mWARNING ⚠️ /home/oi/Desktop/song/cucumber-image/data/train/V003_3_3_1_2_4_2_2_1_0_0_20221019_5319_20240422195059.jpg: corrupt JPEG restored and saved\n",
      "\u001b[34m\u001b[1mtrain: \u001b[0mNew cache created: /home/oi/Desktop/song/cucumber-image/data/train.cache\n"
     ]
    },
    {
     "name": "stderr",
     "output_type": "stream",
     "text": [
      "\n",
      "\u001b[34m\u001b[1mval: \u001b[0mScanning /home/oi/Desktop/song/cucumber-image/data/val... 51 images, 0 backgrounds, 0 corrupt: 100%|██████████| 51/51 [00:01<00:00, 32.44it/s]"
     ]
    },
    {
     "name": "stdout",
     "output_type": "stream",
     "text": [
      "\u001b[34m\u001b[1mval: \u001b[0mWARNING ⚠️ /home/oi/Desktop/song/cucumber-image/data/val/V003_3_3_1_2_4_2_2_1_0_0_20221015_5074_20240422195045.jpg: corrupt JPEG restored and saved\n",
      "\u001b[34m\u001b[1mval: \u001b[0mWARNING ⚠️ /home/oi/Desktop/song/cucumber-image/data/val/V003_3_3_1_2_4_2_2_1_0_0_20221015_5085_20240422195046.jpg: corrupt JPEG restored and saved\n",
      "\u001b[34m\u001b[1mval: \u001b[0mWARNING ⚠️ /home/oi/Desktop/song/cucumber-image/data/val/V003_3_3_1_2_4_2_2_1_0_0_20221019_5092_20240422195046.jpg: corrupt JPEG restored and saved\n",
      "\u001b[34m\u001b[1mval: \u001b[0mWARNING ⚠️ /home/oi/Desktop/song/cucumber-image/data/val/V003_3_3_1_2_4_2_2_1_0_0_20221019_5099_20240422195047.jpg: corrupt JPEG restored and saved\n",
      "\u001b[34m\u001b[1mval: \u001b[0mWARNING ⚠️ /home/oi/Desktop/song/cucumber-image/data/val/V003_3_3_1_2_4_2_2_1_0_0_20221019_5100_20240422195047.jpg: corrupt JPEG restored and saved\n",
      "\u001b[34m\u001b[1mval: \u001b[0mWARNING ⚠️ /home/oi/Desktop/song/cucumber-image/data/val/V003_3_3_1_2_4_2_2_1_0_0_20221019_5106_20240422195047.jpg: corrupt JPEG restored and saved\n",
      "\u001b[34m\u001b[1mval: \u001b[0mWARNING ⚠️ /home/oi/Desktop/song/cucumber-image/data/val/V003_3_3_1_2_4_2_2_1_0_0_20221019_5107_20240422195047.jpg: corrupt JPEG restored and saved\n",
      "\u001b[34m\u001b[1mval: \u001b[0mWARNING ⚠️ /home/oi/Desktop/song/cucumber-image/data/val/V003_3_3_1_2_4_2_2_1_0_0_20221019_5108_20240422195047.jpg: corrupt JPEG restored and saved\n",
      "\u001b[34m\u001b[1mval: \u001b[0mWARNING ⚠️ /home/oi/Desktop/song/cucumber-image/data/val/V003_3_3_1_2_4_2_2_1_0_0_20221019_5113_20240422195047.jpg: corrupt JPEG restored and saved\n",
      "\u001b[34m\u001b[1mval: \u001b[0mWARNING ⚠️ /home/oi/Desktop/song/cucumber-image/data/val/V003_3_3_1_2_4_2_2_1_0_0_20221019_5116_20240422195048.jpg: corrupt JPEG restored and saved\n",
      "\u001b[34m\u001b[1mval: \u001b[0mWARNING ⚠️ /home/oi/Desktop/song/cucumber-image/data/val/V003_3_3_1_2_4_2_2_1_0_0_20221019_5120_20240422195048.jpg: corrupt JPEG restored and saved\n",
      "\u001b[34m\u001b[1mval: \u001b[0mWARNING ⚠️ /home/oi/Desktop/song/cucumber-image/data/val/V003_3_3_1_2_4_2_2_1_0_0_20221019_5123_20240422195048.jpg: corrupt JPEG restored and saved\n",
      "\u001b[34m\u001b[1mval: \u001b[0mWARNING ⚠️ /home/oi/Desktop/song/cucumber-image/data/val/V003_3_3_1_2_4_2_2_1_0_0_20221019_5125_20240422195048.jpg: corrupt JPEG restored and saved\n",
      "\u001b[34m\u001b[1mval: \u001b[0mWARNING ⚠️ /home/oi/Desktop/song/cucumber-image/data/val/V003_3_3_1_2_4_2_2_1_0_0_20221019_5126_20240422195048.jpg: corrupt JPEG restored and saved\n",
      "\u001b[34m\u001b[1mval: \u001b[0mWARNING ⚠️ /home/oi/Desktop/song/cucumber-image/data/val/V003_3_3_1_2_4_2_2_1_0_0_20221019_5136_20240422195049.jpg: corrupt JPEG restored and saved\n",
      "\u001b[34m\u001b[1mval: \u001b[0mWARNING ⚠️ /home/oi/Desktop/song/cucumber-image/data/val/V003_3_3_1_2_4_2_2_1_0_0_20221019_5144_20240422195049.jpg: corrupt JPEG restored and saved\n",
      "\u001b[34m\u001b[1mval: \u001b[0mWARNING ⚠️ /home/oi/Desktop/song/cucumber-image/data/val/V003_3_3_1_2_4_2_2_1_0_0_20221019_5154_20240422195049.jpg: corrupt JPEG restored and saved\n",
      "\u001b[34m\u001b[1mval: \u001b[0mWARNING ⚠️ /home/oi/Desktop/song/cucumber-image/data/val/V003_3_3_1_2_4_2_2_1_0_0_20221019_5156_20240422195050.jpg: corrupt JPEG restored and saved\n",
      "\u001b[34m\u001b[1mval: \u001b[0mWARNING ⚠️ /home/oi/Desktop/song/cucumber-image/data/val/V003_3_3_1_2_4_2_2_1_0_0_20221019_5163_20240422195050.jpg: corrupt JPEG restored and saved\n",
      "\u001b[34m\u001b[1mval: \u001b[0mWARNING ⚠️ /home/oi/Desktop/song/cucumber-image/data/val/V003_3_3_1_2_4_2_2_1_0_0_20221019_5166_20240422195050.jpg: corrupt JPEG restored and saved\n",
      "\u001b[34m\u001b[1mval: \u001b[0mWARNING ⚠️ /home/oi/Desktop/song/cucumber-image/data/val/V003_3_3_1_2_4_2_2_1_0_0_20221019_5176_20240422195051.jpg: corrupt JPEG restored and saved\n",
      "\u001b[34m\u001b[1mval: \u001b[0mWARNING ⚠️ /home/oi/Desktop/song/cucumber-image/data/val/V003_3_3_1_2_4_2_2_1_0_0_20221019_5178_20240422195051.jpg: corrupt JPEG restored and saved\n",
      "\u001b[34m\u001b[1mval: \u001b[0mWARNING ⚠️ /home/oi/Desktop/song/cucumber-image/data/val/V003_3_3_1_2_4_2_2_1_0_0_20221019_5179_20240422195051.jpg: corrupt JPEG restored and saved\n",
      "\u001b[34m\u001b[1mval: \u001b[0mWARNING ⚠️ /home/oi/Desktop/song/cucumber-image/data/val/V003_3_3_1_2_4_2_2_1_0_0_20221019_5186_20240422195051.jpg: corrupt JPEG restored and saved\n",
      "\u001b[34m\u001b[1mval: \u001b[0mWARNING ⚠️ /home/oi/Desktop/song/cucumber-image/data/val/V003_3_3_1_2_4_2_2_1_0_0_20221019_5189_20240422195051.jpg: corrupt JPEG restored and saved\n",
      "\u001b[34m\u001b[1mval: \u001b[0mWARNING ⚠️ /home/oi/Desktop/song/cucumber-image/data/val/V003_3_3_1_2_4_2_2_1_0_0_20221019_5192_20240422195052.jpg: corrupt JPEG restored and saved\n",
      "\u001b[34m\u001b[1mval: \u001b[0mWARNING ⚠️ /home/oi/Desktop/song/cucumber-image/data/val/V003_3_3_1_2_4_2_2_1_0_0_20221019_5199_20240422195052.jpg: corrupt JPEG restored and saved\n",
      "\u001b[34m\u001b[1mval: \u001b[0mWARNING ⚠️ /home/oi/Desktop/song/cucumber-image/data/val/V003_3_3_1_2_4_2_2_1_0_0_20221019_5205_20240422195052.jpg: corrupt JPEG restored and saved\n",
      "\u001b[34m\u001b[1mval: \u001b[0mWARNING ⚠️ /home/oi/Desktop/song/cucumber-image/data/val/V003_3_3_1_2_4_2_2_1_0_0_20221019_5206_20240422195052.jpg: corrupt JPEG restored and saved\n",
      "\u001b[34m\u001b[1mval: \u001b[0mWARNING ⚠️ /home/oi/Desktop/song/cucumber-image/data/val/V003_3_3_1_2_4_2_2_1_0_0_20221019_5207_20240422195052.jpg: corrupt JPEG restored and saved\n",
      "\u001b[34m\u001b[1mval: \u001b[0mWARNING ⚠️ /home/oi/Desktop/song/cucumber-image/data/val/V003_3_3_1_2_4_2_2_1_0_0_20221019_5208_20240422195052.jpg: corrupt JPEG restored and saved\n",
      "\u001b[34m\u001b[1mval: \u001b[0mWARNING ⚠️ /home/oi/Desktop/song/cucumber-image/data/val/V003_3_3_1_2_4_2_2_1_0_0_20221019_5210_20240422195052.jpg: corrupt JPEG restored and saved\n",
      "\u001b[34m\u001b[1mval: \u001b[0mWARNING ⚠️ /home/oi/Desktop/song/cucumber-image/data/val/V003_3_3_1_2_4_2_2_1_0_0_20221019_5211_20240422195052.jpg: corrupt JPEG restored and saved\n",
      "\u001b[34m\u001b[1mval: \u001b[0mWARNING ⚠️ /home/oi/Desktop/song/cucumber-image/data/val/V003_3_3_1_2_4_2_2_1_0_0_20221019_5217_20240422195053.jpg: corrupt JPEG restored and saved\n",
      "\u001b[34m\u001b[1mval: \u001b[0mWARNING ⚠️ /home/oi/Desktop/song/cucumber-image/data/val/V003_3_3_1_2_4_2_2_1_0_0_20221019_5222_20240422195053.jpg: corrupt JPEG restored and saved\n",
      "\u001b[34m\u001b[1mval: \u001b[0mWARNING ⚠️ /home/oi/Desktop/song/cucumber-image/data/val/V003_3_3_1_2_4_2_2_1_0_0_20221019_5225_20240422195053.jpg: corrupt JPEG restored and saved\n",
      "\u001b[34m\u001b[1mval: \u001b[0mWARNING ⚠️ /home/oi/Desktop/song/cucumber-image/data/val/V003_3_3_1_2_4_2_2_1_0_0_20221019_5227_20240422195053.jpg: corrupt JPEG restored and saved\n",
      "\u001b[34m\u001b[1mval: \u001b[0mWARNING ⚠️ /home/oi/Desktop/song/cucumber-image/data/val/V003_3_3_1_2_4_2_2_1_0_0_20221019_5232_20240422195054.jpg: corrupt JPEG restored and saved\n",
      "\u001b[34m\u001b[1mval: \u001b[0mWARNING ⚠️ /home/oi/Desktop/song/cucumber-image/data/val/V003_3_3_1_2_4_2_2_1_0_0_20221019_5241_20240422195054.jpg: corrupt JPEG restored and saved\n",
      "\u001b[34m\u001b[1mval: \u001b[0mWARNING ⚠️ /home/oi/Desktop/song/cucumber-image/data/val/V003_3_3_1_2_4_2_2_1_0_0_20221019_5242_20240422195054.jpg: corrupt JPEG restored and saved\n",
      "\u001b[34m\u001b[1mval: \u001b[0mWARNING ⚠️ /home/oi/Desktop/song/cucumber-image/data/val/V003_3_3_1_2_4_2_2_1_0_0_20221019_5244_20240422195054.jpg: corrupt JPEG restored and saved\n",
      "\u001b[34m\u001b[1mval: \u001b[0mWARNING ⚠️ /home/oi/Desktop/song/cucumber-image/data/val/V003_3_3_1_2_4_2_2_1_0_0_20221019_5248_20240422195054.jpg: corrupt JPEG restored and saved\n",
      "\u001b[34m\u001b[1mval: \u001b[0mWARNING ⚠️ /home/oi/Desktop/song/cucumber-image/data/val/V003_3_3_1_2_4_2_2_1_0_0_20221019_5249_20240422195054.jpg: corrupt JPEG restored and saved\n",
      "\u001b[34m\u001b[1mval: \u001b[0mWARNING ⚠️ /home/oi/Desktop/song/cucumber-image/data/val/V003_3_3_1_2_4_2_2_1_0_0_20221019_5254_20240422195055.jpg: corrupt JPEG restored and saved\n",
      "\u001b[34m\u001b[1mval: \u001b[0mWARNING ⚠️ /home/oi/Desktop/song/cucumber-image/data/val/V003_3_3_1_2_4_2_2_1_0_0_20221019_5271_20240422195056.jpg: corrupt JPEG restored and saved\n",
      "\u001b[34m\u001b[1mval: \u001b[0mWARNING ⚠️ /home/oi/Desktop/song/cucumber-image/data/val/V003_3_3_1_2_4_2_2_1_0_0_20221019_5284_20240422195057.jpg: corrupt JPEG restored and saved\n",
      "\u001b[34m\u001b[1mval: \u001b[0mWARNING ⚠️ /home/oi/Desktop/song/cucumber-image/data/val/V003_3_3_1_2_4_2_2_1_0_0_20221019_5286_20240422195057.jpg: corrupt JPEG restored and saved\n",
      "\u001b[34m\u001b[1mval: \u001b[0mWARNING ⚠️ /home/oi/Desktop/song/cucumber-image/data/val/V003_3_3_1_2_4_2_2_1_0_0_20221019_5289_20240422195057.jpg: corrupt JPEG restored and saved\n",
      "\u001b[34m\u001b[1mval: \u001b[0mWARNING ⚠️ /home/oi/Desktop/song/cucumber-image/data/val/V003_3_3_1_2_4_2_2_1_0_0_20221019_5292_20240422195057.jpg: corrupt JPEG restored and saved\n",
      "\u001b[34m\u001b[1mval: \u001b[0mWARNING ⚠️ /home/oi/Desktop/song/cucumber-image/data/val/V003_3_3_1_2_4_2_2_1_0_0_20221019_5303_20240422195058.jpg: corrupt JPEG restored and saved\n",
      "\u001b[34m\u001b[1mval: \u001b[0mWARNING ⚠️ /home/oi/Desktop/song/cucumber-image/data/val/V003_3_3_1_2_4_2_2_1_0_0_20221019_5320_20240422195059.jpg: corrupt JPEG restored and saved\n",
      "\u001b[34m\u001b[1mval: \u001b[0mNew cache created: /home/oi/Desktop/song/cucumber-image/data/val.cache\n"
     ]
    },
    {
     "name": "stderr",
     "output_type": "stream",
     "text": [
      "\n"
     ]
    },
    {
     "name": "stdout",
     "output_type": "stream",
     "text": [
      "Plotting labels to /home/oi/Desktop/song/cucumber-image/yolo_detection/oi/labels.jpg... \n",
      "\u001b[34m\u001b[1moptimizer:\u001b[0m 'optimizer=auto' found, ignoring 'lr0=0.01' and 'momentum=0.937' and determining best 'optimizer', 'lr0' and 'momentum' automatically... \n",
      "\u001b[34m\u001b[1moptimizer:\u001b[0m AdamW(lr=0.002, momentum=0.9) with parameter groups 135 weight(decay=0.0), 148 weight(decay=0.0005), 147 bias(decay=0.0)\n",
      "Image sizes 640 train, 640 val\n",
      "Using 8 dataloader workers\n",
      "Logging results to \u001b[1m/home/oi/Desktop/song/cucumber-image/yolo_detection/oi\u001b[0m\n",
      "Starting training for 100 epochs...\n",
      "\n",
      "      Epoch    GPU_mem   box_loss   cls_loss   dfl_loss  Instances       Size\n"
     ]
    },
    {
     "name": "stderr",
     "output_type": "stream",
     "text": [
      "      1/100      11.4G       2.55      9.593      3.129         29        640: 100%|██████████| 13/13 [00:05<00:00,  2.56it/s]\n",
      "                 Class     Images  Instances      Box(P          R      mAP50  mAP50-95): 100%|██████████| 2/2 [00:00<00:00,  2.28it/s]"
     ]
    },
    {
     "name": "stdout",
     "output_type": "stream",
     "text": [
      "                   all         51         51      0.348      0.314      0.349       0.19\n"
     ]
    },
    {
     "name": "stderr",
     "output_type": "stream",
     "text": [
      "\n"
     ]
    },
    {
     "name": "stdout",
     "output_type": "stream",
     "text": [
      "\n",
      "      Epoch    GPU_mem   box_loss   cls_loss   dfl_loss  Instances       Size\n"
     ]
    },
    {
     "name": "stderr",
     "output_type": "stream",
     "text": [
      "      2/100      11.6G      2.298      4.146      2.421         25        640: 100%|██████████| 13/13 [00:04<00:00,  3.18it/s]\n",
      "                 Class     Images  Instances      Box(P          R      mAP50  mAP50-95): 100%|██████████| 2/2 [00:00<00:00, 10.00it/s]"
     ]
    },
    {
     "name": "stdout",
     "output_type": "stream",
     "text": [
      "                   all         51         51      0.348      0.314      0.349       0.19\n"
     ]
    },
    {
     "name": "stderr",
     "output_type": "stream",
     "text": [
      "\n"
     ]
    },
    {
     "name": "stdout",
     "output_type": "stream",
     "text": [
      "\n",
      "      Epoch    GPU_mem   box_loss   cls_loss   dfl_loss  Instances       Size\n"
     ]
    },
    {
     "name": "stderr",
     "output_type": "stream",
     "text": [
      "      3/100      11.6G      2.457      3.218      2.647         19        640: 100%|██████████| 13/13 [00:01<00:00,  7.36it/s]\n",
      "                 Class     Images  Instances      Box(P          R      mAP50  mAP50-95): 100%|██████████| 2/2 [00:00<00:00, 13.17it/s]"
     ]
    },
    {
     "name": "stdout",
     "output_type": "stream",
     "text": [
      "                   all         51         51      0.348      0.314      0.349       0.19\n"
     ]
    },
    {
     "name": "stderr",
     "output_type": "stream",
     "text": [
      "\n"
     ]
    },
    {
     "name": "stdout",
     "output_type": "stream",
     "text": [
      "\n",
      "      Epoch    GPU_mem   box_loss   cls_loss   dfl_loss  Instances       Size\n"
     ]
    },
    {
     "name": "stderr",
     "output_type": "stream",
     "text": [
      "      4/100      11.9G      2.689      2.864      2.784         22        640: 100%|██████████| 13/13 [00:01<00:00,  7.45it/s]\n",
      "                 Class     Images  Instances      Box(P          R      mAP50  mAP50-95): 100%|██████████| 2/2 [00:00<00:00, 13.87it/s]"
     ]
    },
    {
     "name": "stdout",
     "output_type": "stream",
     "text": [
      "                   all         51         51      0.348      0.314      0.349       0.19\n"
     ]
    },
    {
     "name": "stderr",
     "output_type": "stream",
     "text": [
      "\n"
     ]
    },
    {
     "name": "stdout",
     "output_type": "stream",
     "text": [
      "\n",
      "      Epoch    GPU_mem   box_loss   cls_loss   dfl_loss  Instances       Size\n"
     ]
    },
    {
     "name": "stderr",
     "output_type": "stream",
     "text": [
      "      5/100      11.6G      2.943      2.892      2.747         20        640: 100%|██████████| 13/13 [00:01<00:00,  7.54it/s]\n",
      "                 Class     Images  Instances      Box(P          R      mAP50  mAP50-95): 100%|██████████| 2/2 [00:00<00:00, 13.52it/s]"
     ]
    },
    {
     "name": "stdout",
     "output_type": "stream",
     "text": [
      "                   all         51         51      0.348      0.314      0.349       0.19\n"
     ]
    },
    {
     "name": "stderr",
     "output_type": "stream",
     "text": [
      "\n"
     ]
    },
    {
     "name": "stdout",
     "output_type": "stream",
     "text": [
      "\n",
      "      Epoch    GPU_mem   box_loss   cls_loss   dfl_loss  Instances       Size\n"
     ]
    },
    {
     "name": "stderr",
     "output_type": "stream",
     "text": [
      "      6/100      11.6G      2.925      3.074      2.975         13        640: 100%|██████████| 13/13 [00:01<00:00,  7.59it/s]\n",
      "                 Class     Images  Instances      Box(P          R      mAP50  mAP50-95): 100%|██████████| 2/2 [00:00<00:00, 13.63it/s]"
     ]
    },
    {
     "name": "stdout",
     "output_type": "stream",
     "text": [
      "                   all         51         51      0.348      0.314      0.349       0.19\n"
     ]
    },
    {
     "name": "stderr",
     "output_type": "stream",
     "text": [
      "\n"
     ]
    },
    {
     "name": "stdout",
     "output_type": "stream",
     "text": [
      "\n",
      "      Epoch    GPU_mem   box_loss   cls_loss   dfl_loss  Instances       Size\n"
     ]
    },
    {
     "name": "stderr",
     "output_type": "stream",
     "text": [
      "      7/100      11.9G       2.74      2.812      2.668         25        640: 100%|██████████| 13/13 [00:01<00:00,  7.68it/s]\n",
      "                 Class     Images  Instances      Box(P          R      mAP50  mAP50-95): 100%|██████████| 2/2 [00:00<00:00, 13.83it/s]"
     ]
    },
    {
     "name": "stdout",
     "output_type": "stream",
     "text": [
      "                   all         51         51      0.348      0.314      0.349       0.19\n"
     ]
    },
    {
     "name": "stderr",
     "output_type": "stream",
     "text": [
      "\n"
     ]
    },
    {
     "name": "stdout",
     "output_type": "stream",
     "text": [
      "\n",
      "      Epoch    GPU_mem   box_loss   cls_loss   dfl_loss  Instances       Size\n"
     ]
    },
    {
     "name": "stderr",
     "output_type": "stream",
     "text": [
      "      8/100      11.6G      2.767       2.69      2.702         27        640: 100%|██████████| 13/13 [00:01<00:00,  7.64it/s]\n",
      "                 Class     Images  Instances      Box(P          R      mAP50  mAP50-95): 100%|██████████| 2/2 [00:00<00:00, 13.89it/s]"
     ]
    },
    {
     "name": "stdout",
     "output_type": "stream",
     "text": [
      "                   all         51         51      0.348      0.314      0.349       0.19\n"
     ]
    },
    {
     "name": "stderr",
     "output_type": "stream",
     "text": [
      "\n"
     ]
    },
    {
     "name": "stdout",
     "output_type": "stream",
     "text": [
      "\n",
      "      Epoch    GPU_mem   box_loss   cls_loss   dfl_loss  Instances       Size\n"
     ]
    },
    {
     "name": "stderr",
     "output_type": "stream",
     "text": [
      "      9/100      11.5G      2.412      2.361      2.598         21        640: 100%|██████████| 13/13 [00:01<00:00,  7.67it/s]\n",
      "                 Class     Images  Instances      Box(P          R      mAP50  mAP50-95): 100%|██████████| 2/2 [00:00<00:00, 13.89it/s]"
     ]
    },
    {
     "name": "stdout",
     "output_type": "stream",
     "text": [
      "                   all         51         51      0.348      0.314      0.349       0.19\n"
     ]
    },
    {
     "name": "stderr",
     "output_type": "stream",
     "text": [
      "\n"
     ]
    },
    {
     "name": "stdout",
     "output_type": "stream",
     "text": [
      "\n",
      "      Epoch    GPU_mem   box_loss   cls_loss   dfl_loss  Instances       Size\n"
     ]
    },
    {
     "name": "stderr",
     "output_type": "stream",
     "text": [
      "     10/100      11.6G      2.555      2.366       2.64         25        640: 100%|██████████| 13/13 [00:01<00:00,  7.70it/s]\n",
      "                 Class     Images  Instances      Box(P          R      mAP50  mAP50-95): 100%|██████████| 2/2 [00:00<00:00, 12.80it/s]"
     ]
    },
    {
     "name": "stdout",
     "output_type": "stream",
     "text": [
      "                   all         51         51      0.107      0.137     0.0389    0.00715\n"
     ]
    },
    {
     "name": "stderr",
     "output_type": "stream",
     "text": [
      "\n"
     ]
    },
    {
     "name": "stdout",
     "output_type": "stream",
     "text": [
      "\n",
      "      Epoch    GPU_mem   box_loss   cls_loss   dfl_loss  Instances       Size\n"
     ]
    },
    {
     "name": "stderr",
     "output_type": "stream",
     "text": [
      "     11/100      11.6G       2.34      2.334      2.506         16        640: 100%|██████████| 13/13 [00:01<00:00,  7.69it/s]\n",
      "                 Class     Images  Instances      Box(P          R      mAP50  mAP50-95): 100%|██████████| 2/2 [00:00<00:00, 12.81it/s]"
     ]
    },
    {
     "name": "stdout",
     "output_type": "stream",
     "text": [
      "                   all         51         51   0.000281     0.0392   0.000153   5.97e-05\n"
     ]
    },
    {
     "name": "stderr",
     "output_type": "stream",
     "text": [
      "\n"
     ]
    },
    {
     "name": "stdout",
     "output_type": "stream",
     "text": [
      "\n",
      "      Epoch    GPU_mem   box_loss   cls_loss   dfl_loss  Instances       Size\n"
     ]
    },
    {
     "name": "stderr",
     "output_type": "stream",
     "text": [
      "     12/100      11.6G      2.388      2.285      2.565         20        640: 100%|██████████| 13/13 [00:01<00:00,  7.55it/s]\n",
      "                 Class     Images  Instances      Box(P          R      mAP50  mAP50-95): 100%|██████████| 2/2 [00:00<00:00, 12.60it/s]"
     ]
    },
    {
     "name": "stdout",
     "output_type": "stream",
     "text": [
      "                   all         51         51      0.503      0.636      0.645      0.454\n"
     ]
    },
    {
     "name": "stderr",
     "output_type": "stream",
     "text": [
      "\n"
     ]
    },
    {
     "name": "stdout",
     "output_type": "stream",
     "text": [
      "\n",
      "      Epoch    GPU_mem   box_loss   cls_loss   dfl_loss  Instances       Size\n"
     ]
    },
    {
     "name": "stderr",
     "output_type": "stream",
     "text": [
      "     13/100      11.9G      2.341      2.165      2.488         22        640: 100%|██████████| 13/13 [00:01<00:00,  7.66it/s]\n",
      "                 Class     Images  Instances      Box(P          R      mAP50  mAP50-95): 100%|██████████| 2/2 [00:00<00:00, 12.66it/s]"
     ]
    },
    {
     "name": "stdout",
     "output_type": "stream",
     "text": [
      "                   all         51         51      0.642      0.549      0.612      0.447\n"
     ]
    },
    {
     "name": "stderr",
     "output_type": "stream",
     "text": [
      "\n"
     ]
    },
    {
     "name": "stdout",
     "output_type": "stream",
     "text": [
      "\n",
      "      Epoch    GPU_mem   box_loss   cls_loss   dfl_loss  Instances       Size\n"
     ]
    },
    {
     "name": "stderr",
     "output_type": "stream",
     "text": [
      "     14/100      11.6G      2.387       2.18      2.507         20        640: 100%|██████████| 13/13 [00:01<00:00,  7.59it/s]\n",
      "                 Class     Images  Instances      Box(P          R      mAP50  mAP50-95): 100%|██████████| 2/2 [00:00<00:00, 12.60it/s]"
     ]
    },
    {
     "name": "stdout",
     "output_type": "stream",
     "text": [
      "                   all         51         51       0.57      0.597      0.665      0.507\n"
     ]
    },
    {
     "name": "stderr",
     "output_type": "stream",
     "text": [
      "\n"
     ]
    },
    {
     "name": "stdout",
     "output_type": "stream",
     "text": [
      "\n",
      "      Epoch    GPU_mem   box_loss   cls_loss   dfl_loss  Instances       Size\n"
     ]
    },
    {
     "name": "stderr",
     "output_type": "stream",
     "text": [
      "     15/100      11.6G       2.27      2.025      2.482         22        640: 100%|██████████| 13/13 [00:01<00:00,  7.72it/s]\n",
      "                 Class     Images  Instances      Box(P          R      mAP50  mAP50-95): 100%|██████████| 2/2 [00:00<00:00, 12.56it/s]"
     ]
    },
    {
     "name": "stdout",
     "output_type": "stream",
     "text": [
      "                   all         51         51      0.683      0.706      0.705        0.5\n"
     ]
    },
    {
     "name": "stderr",
     "output_type": "stream",
     "text": [
      "\n"
     ]
    },
    {
     "name": "stdout",
     "output_type": "stream",
     "text": [
      "\n",
      "      Epoch    GPU_mem   box_loss   cls_loss   dfl_loss  Instances       Size\n"
     ]
    },
    {
     "name": "stderr",
     "output_type": "stream",
     "text": [
      "     16/100      11.6G      2.261       1.96      2.462         16        640: 100%|██████████| 13/13 [00:01<00:00,  7.26it/s]\n",
      "                 Class     Images  Instances      Box(P          R      mAP50  mAP50-95): 100%|██████████| 2/2 [00:00<00:00, 12.67it/s]"
     ]
    },
    {
     "name": "stdout",
     "output_type": "stream",
     "text": [
      "                   all         51         51      0.772      0.627      0.726      0.536\n"
     ]
    },
    {
     "name": "stderr",
     "output_type": "stream",
     "text": [
      "\n"
     ]
    },
    {
     "name": "stdout",
     "output_type": "stream",
     "text": [
      "\n",
      "      Epoch    GPU_mem   box_loss   cls_loss   dfl_loss  Instances       Size\n"
     ]
    },
    {
     "name": "stderr",
     "output_type": "stream",
     "text": [
      "     17/100      11.9G      2.207       1.97      2.432         25        640: 100%|██████████| 13/13 [00:01<00:00,  7.68it/s]\n",
      "                 Class     Images  Instances      Box(P          R      mAP50  mAP50-95): 100%|██████████| 2/2 [00:00<00:00, 12.65it/s]"
     ]
    },
    {
     "name": "stdout",
     "output_type": "stream",
     "text": [
      "                   all         51         51      0.792      0.746      0.825      0.639\n"
     ]
    },
    {
     "name": "stderr",
     "output_type": "stream",
     "text": [
      "\n"
     ]
    },
    {
     "name": "stdout",
     "output_type": "stream",
     "text": [
      "\n",
      "      Epoch    GPU_mem   box_loss   cls_loss   dfl_loss  Instances       Size\n"
     ]
    },
    {
     "name": "stderr",
     "output_type": "stream",
     "text": [
      "     18/100      11.6G      2.203      1.886      2.413         24        640: 100%|██████████| 13/13 [00:01<00:00,  7.66it/s]\n",
      "                 Class     Images  Instances      Box(P          R      mAP50  mAP50-95): 100%|██████████| 2/2 [00:00<00:00, 12.85it/s]"
     ]
    },
    {
     "name": "stdout",
     "output_type": "stream",
     "text": [
      "                   all         51         51      0.842      0.625      0.727      0.588\n"
     ]
    },
    {
     "name": "stderr",
     "output_type": "stream",
     "text": [
      "\n"
     ]
    },
    {
     "name": "stdout",
     "output_type": "stream",
     "text": [
      "\n",
      "      Epoch    GPU_mem   box_loss   cls_loss   dfl_loss  Instances       Size\n"
     ]
    },
    {
     "name": "stderr",
     "output_type": "stream",
     "text": [
      "     19/100      11.6G      2.127      1.757      2.422         18        640: 100%|██████████| 13/13 [00:01<00:00,  7.71it/s]\n",
      "                 Class     Images  Instances      Box(P          R      mAP50  mAP50-95): 100%|██████████| 2/2 [00:00<00:00, 12.52it/s]"
     ]
    },
    {
     "name": "stdout",
     "output_type": "stream",
     "text": [
      "                   all         51         51      0.842      0.733      0.849      0.664\n"
     ]
    },
    {
     "name": "stderr",
     "output_type": "stream",
     "text": [
      "\n"
     ]
    },
    {
     "name": "stdout",
     "output_type": "stream",
     "text": [
      "\n",
      "      Epoch    GPU_mem   box_loss   cls_loss   dfl_loss  Instances       Size\n"
     ]
    },
    {
     "name": "stderr",
     "output_type": "stream",
     "text": [
      "     20/100      11.6G      2.078      1.638      2.364         21        640: 100%|██████████| 13/13 [00:01<00:00,  7.64it/s]\n",
      "                 Class     Images  Instances      Box(P          R      mAP50  mAP50-95): 100%|██████████| 2/2 [00:00<00:00, 12.57it/s]"
     ]
    },
    {
     "name": "stdout",
     "output_type": "stream",
     "text": [
      "                   all         51         51      0.728      0.627      0.753      0.633\n"
     ]
    },
    {
     "name": "stderr",
     "output_type": "stream",
     "text": [
      "\n"
     ]
    },
    {
     "name": "stdout",
     "output_type": "stream",
     "text": [
      "\n",
      "      Epoch    GPU_mem   box_loss   cls_loss   dfl_loss  Instances       Size\n"
     ]
    },
    {
     "name": "stderr",
     "output_type": "stream",
     "text": [
      "     21/100      11.5G      2.017      1.589      2.338         19        640: 100%|██████████| 13/13 [00:01<00:00,  7.70it/s]\n",
      "                 Class     Images  Instances      Box(P          R      mAP50  mAP50-95): 100%|██████████| 2/2 [00:00<00:00, 12.68it/s]"
     ]
    },
    {
     "name": "stdout",
     "output_type": "stream",
     "text": [
      "                   all         51         51      0.669      0.674      0.733      0.584\n"
     ]
    },
    {
     "name": "stderr",
     "output_type": "stream",
     "text": [
      "\n"
     ]
    },
    {
     "name": "stdout",
     "output_type": "stream",
     "text": [
      "\n",
      "      Epoch    GPU_mem   box_loss   cls_loss   dfl_loss  Instances       Size\n"
     ]
    },
    {
     "name": "stderr",
     "output_type": "stream",
     "text": [
      "     22/100      11.6G      2.076      1.678       2.43         28        640: 100%|██████████| 13/13 [00:01<00:00,  7.67it/s]\n",
      "                 Class     Images  Instances      Box(P          R      mAP50  mAP50-95): 100%|██████████| 2/2 [00:00<00:00, 12.73it/s]"
     ]
    },
    {
     "name": "stdout",
     "output_type": "stream",
     "text": [
      "                   all         51         51       0.72      0.765      0.786      0.674\n"
     ]
    },
    {
     "name": "stderr",
     "output_type": "stream",
     "text": [
      "\n"
     ]
    },
    {
     "name": "stdout",
     "output_type": "stream",
     "text": [
      "\n",
      "      Epoch    GPU_mem   box_loss   cls_loss   dfl_loss  Instances       Size\n"
     ]
    },
    {
     "name": "stderr",
     "output_type": "stream",
     "text": [
      "     23/100      11.6G      1.953       1.72      2.321         18        640: 100%|██████████| 13/13 [00:02<00:00,  4.89it/s]\n",
      "                 Class     Images  Instances      Box(P          R      mAP50  mAP50-95): 100%|██████████| 2/2 [00:00<00:00,  3.28it/s]"
     ]
    },
    {
     "name": "stdout",
     "output_type": "stream",
     "text": [
      "                   all         51         51      0.893      0.784      0.872      0.721\n"
     ]
    },
    {
     "name": "stderr",
     "output_type": "stream",
     "text": [
      "\n"
     ]
    },
    {
     "name": "stdout",
     "output_type": "stream",
     "text": [
      "\n",
      "      Epoch    GPU_mem   box_loss   cls_loss   dfl_loss  Instances       Size\n"
     ]
    },
    {
     "name": "stderr",
     "output_type": "stream",
     "text": [
      "     24/100      11.6G      1.961      1.681      2.282         26        640: 100%|██████████| 13/13 [00:01<00:00,  7.65it/s]\n",
      "                 Class     Images  Instances      Box(P          R      mAP50  mAP50-95): 100%|██████████| 2/2 [00:00<00:00, 12.68it/s]"
     ]
    },
    {
     "name": "stdout",
     "output_type": "stream",
     "text": [
      "                   all         51         51      0.826      0.784      0.864      0.666\n"
     ]
    },
    {
     "name": "stderr",
     "output_type": "stream",
     "text": [
      "\n"
     ]
    },
    {
     "name": "stdout",
     "output_type": "stream",
     "text": [
      "\n",
      "      Epoch    GPU_mem   box_loss   cls_loss   dfl_loss  Instances       Size\n"
     ]
    },
    {
     "name": "stderr",
     "output_type": "stream",
     "text": [
      "     25/100      11.9G      1.975      1.716      2.266         19        640: 100%|██████████| 13/13 [00:01<00:00,  7.68it/s]\n",
      "                 Class     Images  Instances      Box(P          R      mAP50  mAP50-95): 100%|██████████| 2/2 [00:00<00:00, 12.74it/s]"
     ]
    },
    {
     "name": "stdout",
     "output_type": "stream",
     "text": [
      "                   all         51         51      0.864      0.804      0.894      0.698\n"
     ]
    },
    {
     "name": "stderr",
     "output_type": "stream",
     "text": [
      "\n"
     ]
    },
    {
     "name": "stdout",
     "output_type": "stream",
     "text": [
      "\n",
      "      Epoch    GPU_mem   box_loss   cls_loss   dfl_loss  Instances       Size\n"
     ]
    },
    {
     "name": "stderr",
     "output_type": "stream",
     "text": [
      "     26/100      11.6G       1.98      1.661      2.311         24        640: 100%|██████████| 13/13 [00:01<00:00,  7.66it/s]\n",
      "                 Class     Images  Instances      Box(P          R      mAP50  mAP50-95): 100%|██████████| 2/2 [00:00<00:00, 12.56it/s]"
     ]
    },
    {
     "name": "stdout",
     "output_type": "stream",
     "text": [
      "                   all         51         51       0.88      0.824       0.92      0.741\n"
     ]
    },
    {
     "name": "stderr",
     "output_type": "stream",
     "text": [
      "\n"
     ]
    },
    {
     "name": "stdout",
     "output_type": "stream",
     "text": [
      "\n",
      "      Epoch    GPU_mem   box_loss   cls_loss   dfl_loss  Instances       Size\n"
     ]
    },
    {
     "name": "stderr",
     "output_type": "stream",
     "text": [
      "     27/100      11.6G      1.948      1.648      2.276         17        640: 100%|██████████| 13/13 [00:01<00:00,  7.69it/s]\n",
      "                 Class     Images  Instances      Box(P          R      mAP50  mAP50-95): 100%|██████████| 2/2 [00:00<00:00, 12.62it/s]"
     ]
    },
    {
     "name": "stdout",
     "output_type": "stream",
     "text": [
      "                   all         51         51      0.851      0.897      0.946      0.775\n"
     ]
    },
    {
     "name": "stderr",
     "output_type": "stream",
     "text": [
      "\n"
     ]
    },
    {
     "name": "stdout",
     "output_type": "stream",
     "text": [
      "\n",
      "      Epoch    GPU_mem   box_loss   cls_loss   dfl_loss  Instances       Size\n"
     ]
    },
    {
     "name": "stderr",
     "output_type": "stream",
     "text": [
      "     28/100      11.6G      1.987      1.654      2.371         18        640: 100%|██████████| 13/13 [00:01<00:00,  7.63it/s]\n",
      "                 Class     Images  Instances      Box(P          R      mAP50  mAP50-95): 100%|██████████| 2/2 [00:00<00:00, 12.47it/s]"
     ]
    },
    {
     "name": "stdout",
     "output_type": "stream",
     "text": [
      "                   all         51         51      0.832      0.777      0.871      0.736\n"
     ]
    },
    {
     "name": "stderr",
     "output_type": "stream",
     "text": [
      "\n"
     ]
    },
    {
     "name": "stdout",
     "output_type": "stream",
     "text": [
      "\n",
      "      Epoch    GPU_mem   box_loss   cls_loss   dfl_loss  Instances       Size\n"
     ]
    },
    {
     "name": "stderr",
     "output_type": "stream",
     "text": [
      "     29/100      11.9G      1.983      1.638      2.306         29        640: 100%|██████████| 13/13 [00:01<00:00,  7.19it/s]\n",
      "                 Class     Images  Instances      Box(P          R      mAP50  mAP50-95): 100%|██████████| 2/2 [00:00<00:00, 12.73it/s]"
     ]
    },
    {
     "name": "stdout",
     "output_type": "stream",
     "text": [
      "                   all         51         51      0.802      0.715      0.771      0.636\n"
     ]
    },
    {
     "name": "stderr",
     "output_type": "stream",
     "text": [
      "\n"
     ]
    },
    {
     "name": "stdout",
     "output_type": "stream",
     "text": [
      "\n",
      "      Epoch    GPU_mem   box_loss   cls_loss   dfl_loss  Instances       Size\n"
     ]
    },
    {
     "name": "stderr",
     "output_type": "stream",
     "text": [
      "     30/100      11.6G      1.901      1.484      2.241         18        640: 100%|██████████| 13/13 [00:01<00:00,  7.68it/s]\n",
      "                 Class     Images  Instances      Box(P          R      mAP50  mAP50-95): 100%|██████████| 2/2 [00:00<00:00, 12.72it/s]"
     ]
    },
    {
     "name": "stdout",
     "output_type": "stream",
     "text": [
      "                   all         51         51      0.774      0.738      0.831      0.703\n"
     ]
    },
    {
     "name": "stderr",
     "output_type": "stream",
     "text": [
      "\n"
     ]
    },
    {
     "name": "stdout",
     "output_type": "stream",
     "text": [
      "\n",
      "      Epoch    GPU_mem   box_loss   cls_loss   dfl_loss  Instances       Size\n"
     ]
    },
    {
     "name": "stderr",
     "output_type": "stream",
     "text": [
      "     31/100      11.6G       1.96      1.577      2.337         23        640: 100%|██████████| 13/13 [00:01<00:00,  7.68it/s]\n",
      "                 Class     Images  Instances      Box(P          R      mAP50  mAP50-95): 100%|██████████| 2/2 [00:00<00:00, 12.74it/s]"
     ]
    },
    {
     "name": "stdout",
     "output_type": "stream",
     "text": [
      "                   all         51         51      0.853      0.863      0.927      0.787\n"
     ]
    },
    {
     "name": "stderr",
     "output_type": "stream",
     "text": [
      "\n"
     ]
    },
    {
     "name": "stdout",
     "output_type": "stream",
     "text": [
      "\n",
      "      Epoch    GPU_mem   box_loss   cls_loss   dfl_loss  Instances       Size\n"
     ]
    },
    {
     "name": "stderr",
     "output_type": "stream",
     "text": [
      "     32/100      11.6G      1.819      1.438      2.192         14        640: 100%|██████████| 13/13 [00:01<00:00,  7.58it/s]\n",
      "                 Class     Images  Instances      Box(P          R      mAP50  mAP50-95): 100%|██████████| 2/2 [00:00<00:00, 12.73it/s]"
     ]
    },
    {
     "name": "stdout",
     "output_type": "stream",
     "text": [
      "                   all         51         51      0.776      0.784      0.847      0.722\n"
     ]
    },
    {
     "name": "stderr",
     "output_type": "stream",
     "text": [
      "\n"
     ]
    },
    {
     "name": "stdout",
     "output_type": "stream",
     "text": [
      "\n",
      "      Epoch    GPU_mem   box_loss   cls_loss   dfl_loss  Instances       Size\n"
     ]
    },
    {
     "name": "stderr",
     "output_type": "stream",
     "text": [
      "     33/100      11.9G      1.832      1.452      2.143         16        640: 100%|██████████| 13/13 [00:01<00:00,  7.66it/s]\n",
      "                 Class     Images  Instances      Box(P          R      mAP50  mAP50-95): 100%|██████████| 2/2 [00:00<00:00, 12.71it/s]"
     ]
    },
    {
     "name": "stdout",
     "output_type": "stream",
     "text": [
      "                   all         51         51      0.889      0.745      0.857      0.722\n"
     ]
    },
    {
     "name": "stderr",
     "output_type": "stream",
     "text": [
      "\n"
     ]
    },
    {
     "name": "stdout",
     "output_type": "stream",
     "text": [
      "\n",
      "      Epoch    GPU_mem   box_loss   cls_loss   dfl_loss  Instances       Size\n"
     ]
    },
    {
     "name": "stderr",
     "output_type": "stream",
     "text": [
      "     34/100      11.6G      1.807      1.381      2.199         21        640: 100%|██████████| 13/13 [00:01<00:00,  7.67it/s]\n",
      "                 Class     Images  Instances      Box(P          R      mAP50  mAP50-95): 100%|██████████| 2/2 [00:00<00:00, 12.69it/s]"
     ]
    },
    {
     "name": "stdout",
     "output_type": "stream",
     "text": [
      "                   all         51         51       0.88      0.882       0.94      0.794\n"
     ]
    },
    {
     "name": "stderr",
     "output_type": "stream",
     "text": [
      "\n"
     ]
    },
    {
     "name": "stdout",
     "output_type": "stream",
     "text": [
      "\n",
      "      Epoch    GPU_mem   box_loss   cls_loss   dfl_loss  Instances       Size\n"
     ]
    },
    {
     "name": "stderr",
     "output_type": "stream",
     "text": [
      "     35/100      11.6G      1.749      1.287      2.176         21        640: 100%|██████████| 13/13 [00:01<00:00,  7.69it/s]\n",
      "                 Class     Images  Instances      Box(P          R      mAP50  mAP50-95): 100%|██████████| 2/2 [00:00<00:00, 12.74it/s]"
     ]
    },
    {
     "name": "stdout",
     "output_type": "stream",
     "text": [
      "                   all         51         51        0.9      0.863      0.913      0.789\n"
     ]
    },
    {
     "name": "stderr",
     "output_type": "stream",
     "text": [
      "\n"
     ]
    },
    {
     "name": "stdout",
     "output_type": "stream",
     "text": [
      "\n",
      "      Epoch    GPU_mem   box_loss   cls_loss   dfl_loss  Instances       Size\n"
     ]
    },
    {
     "name": "stderr",
     "output_type": "stream",
     "text": [
      "     36/100      11.6G      1.767      1.498      2.181         19        640: 100%|██████████| 13/13 [00:01<00:00,  7.55it/s]\n",
      "                 Class     Images  Instances      Box(P          R      mAP50  mAP50-95): 100%|██████████| 2/2 [00:00<00:00, 12.76it/s]"
     ]
    },
    {
     "name": "stdout",
     "output_type": "stream",
     "text": [
      "                   all         51         51      0.826      0.839      0.887      0.778\n"
     ]
    },
    {
     "name": "stderr",
     "output_type": "stream",
     "text": [
      "\n"
     ]
    },
    {
     "name": "stdout",
     "output_type": "stream",
     "text": [
      "\n",
      "      Epoch    GPU_mem   box_loss   cls_loss   dfl_loss  Instances       Size\n"
     ]
    },
    {
     "name": "stderr",
     "output_type": "stream",
     "text": [
      "     37/100      11.9G      1.751      1.335      2.186         19        640: 100%|██████████| 13/13 [00:01<00:00,  7.70it/s]\n",
      "                 Class     Images  Instances      Box(P          R      mAP50  mAP50-95): 100%|██████████| 2/2 [00:00<00:00, 12.64it/s]"
     ]
    },
    {
     "name": "stdout",
     "output_type": "stream",
     "text": [
      "                   all         51         51      0.884      0.895      0.943       0.81\n"
     ]
    },
    {
     "name": "stderr",
     "output_type": "stream",
     "text": [
      "\n"
     ]
    },
    {
     "name": "stdout",
     "output_type": "stream",
     "text": [
      "\n",
      "      Epoch    GPU_mem   box_loss   cls_loss   dfl_loss  Instances       Size\n"
     ]
    },
    {
     "name": "stderr",
     "output_type": "stream",
     "text": [
      "     38/100      11.6G      1.729      1.334       2.21         20        640: 100%|██████████| 13/13 [00:01<00:00,  7.69it/s]\n",
      "                 Class     Images  Instances      Box(P          R      mAP50  mAP50-95): 100%|██████████| 2/2 [00:00<00:00, 12.77it/s]"
     ]
    },
    {
     "name": "stdout",
     "output_type": "stream",
     "text": [
      "                   all         51         51      0.943      0.824      0.953      0.808\n"
     ]
    },
    {
     "name": "stderr",
     "output_type": "stream",
     "text": [
      "\n"
     ]
    },
    {
     "name": "stdout",
     "output_type": "stream",
     "text": [
      "\n",
      "      Epoch    GPU_mem   box_loss   cls_loss   dfl_loss  Instances       Size\n"
     ]
    },
    {
     "name": "stderr",
     "output_type": "stream",
     "text": [
      "     39/100      11.6G      1.648      1.206      2.165         21        640: 100%|██████████| 13/13 [00:01<00:00,  7.71it/s]\n",
      "                 Class     Images  Instances      Box(P          R      mAP50  mAP50-95): 100%|██████████| 2/2 [00:00<00:00, 12.68it/s]"
     ]
    },
    {
     "name": "stdout",
     "output_type": "stream",
     "text": [
      "                   all         51         51          1      0.818       0.96       0.82\n"
     ]
    },
    {
     "name": "stderr",
     "output_type": "stream",
     "text": [
      "\n"
     ]
    },
    {
     "name": "stdout",
     "output_type": "stream",
     "text": [
      "\n",
      "      Epoch    GPU_mem   box_loss   cls_loss   dfl_loss  Instances       Size\n"
     ]
    },
    {
     "name": "stderr",
     "output_type": "stream",
     "text": [
      "     40/100      11.6G      1.713      1.332      2.176         23        640: 100%|██████████| 13/13 [00:01<00:00,  7.64it/s]\n",
      "                 Class     Images  Instances      Box(P          R      mAP50  mAP50-95): 100%|██████████| 2/2 [00:00<00:00, 12.52it/s]"
     ]
    },
    {
     "name": "stdout",
     "output_type": "stream",
     "text": [
      "                   all         51         51       0.93      0.863      0.947      0.822\n"
     ]
    },
    {
     "name": "stderr",
     "output_type": "stream",
     "text": [
      "\n"
     ]
    },
    {
     "name": "stdout",
     "output_type": "stream",
     "text": [
      "\n",
      "      Epoch    GPU_mem   box_loss   cls_loss   dfl_loss  Instances       Size\n"
     ]
    },
    {
     "name": "stderr",
     "output_type": "stream",
     "text": [
      "     41/100      11.5G      1.764      1.351      2.153         23        640: 100%|██████████| 13/13 [00:01<00:00,  7.61it/s]\n",
      "                 Class     Images  Instances      Box(P          R      mAP50  mAP50-95): 100%|██████████| 2/2 [00:00<00:00, 12.63it/s]"
     ]
    },
    {
     "name": "stdout",
     "output_type": "stream",
     "text": [
      "                   all         51         51      0.867      0.922      0.966       0.84\n"
     ]
    },
    {
     "name": "stderr",
     "output_type": "stream",
     "text": [
      "\n"
     ]
    },
    {
     "name": "stdout",
     "output_type": "stream",
     "text": [
      "\n",
      "      Epoch    GPU_mem   box_loss   cls_loss   dfl_loss  Instances       Size\n"
     ]
    },
    {
     "name": "stderr",
     "output_type": "stream",
     "text": [
      "     42/100      11.6G      1.786      1.254      2.178         23        640: 100%|██████████| 13/13 [00:01<00:00,  7.62it/s]\n",
      "                 Class     Images  Instances      Box(P          R      mAP50  mAP50-95): 100%|██████████| 2/2 [00:00<00:00, 12.78it/s]"
     ]
    },
    {
     "name": "stdout",
     "output_type": "stream",
     "text": [
      "                   all         51         51      0.977      0.818      0.938      0.812\n"
     ]
    },
    {
     "name": "stderr",
     "output_type": "stream",
     "text": [
      "\n"
     ]
    },
    {
     "name": "stdout",
     "output_type": "stream",
     "text": [
      "\n",
      "      Epoch    GPU_mem   box_loss   cls_loss   dfl_loss  Instances       Size\n"
     ]
    },
    {
     "name": "stderr",
     "output_type": "stream",
     "text": [
      "     43/100      11.6G      1.761      1.303      2.155         22        640: 100%|██████████| 13/13 [00:01<00:00,  7.45it/s]\n",
      "                 Class     Images  Instances      Box(P          R      mAP50  mAP50-95): 100%|██████████| 2/2 [00:00<00:00, 12.68it/s]"
     ]
    },
    {
     "name": "stdout",
     "output_type": "stream",
     "text": [
      "                   all         51         51      0.888      0.936      0.957      0.836\n"
     ]
    },
    {
     "name": "stderr",
     "output_type": "stream",
     "text": [
      "\n"
     ]
    },
    {
     "name": "stdout",
     "output_type": "stream",
     "text": [
      "\n",
      "      Epoch    GPU_mem   box_loss   cls_loss   dfl_loss  Instances       Size\n"
     ]
    },
    {
     "name": "stderr",
     "output_type": "stream",
     "text": [
      "     44/100      11.6G      1.737      1.271      2.162         23        640: 100%|██████████| 13/13 [00:01<00:00,  7.58it/s]\n",
      "                 Class     Images  Instances      Box(P          R      mAP50  mAP50-95): 100%|██████████| 2/2 [00:00<00:00, 12.74it/s]"
     ]
    },
    {
     "name": "stdout",
     "output_type": "stream",
     "text": [
      "                   all         51         51      0.957      0.881      0.946      0.813\n"
     ]
    },
    {
     "name": "stderr",
     "output_type": "stream",
     "text": [
      "\n"
     ]
    },
    {
     "name": "stdout",
     "output_type": "stream",
     "text": [
      "\n",
      "      Epoch    GPU_mem   box_loss   cls_loss   dfl_loss  Instances       Size\n"
     ]
    },
    {
     "name": "stderr",
     "output_type": "stream",
     "text": [
      "     45/100      11.5G      1.734      1.226      2.162         20        640: 100%|██████████| 13/13 [00:01<00:00,  7.70it/s]\n",
      "                 Class     Images  Instances      Box(P          R      mAP50  mAP50-95): 100%|██████████| 2/2 [00:00<00:00, 12.84it/s]"
     ]
    },
    {
     "name": "stdout",
     "output_type": "stream",
     "text": [
      "                   all         51         51      0.899       0.98      0.968      0.826\n"
     ]
    },
    {
     "name": "stderr",
     "output_type": "stream",
     "text": [
      "\n"
     ]
    },
    {
     "name": "stdout",
     "output_type": "stream",
     "text": [
      "\n",
      "      Epoch    GPU_mem   box_loss   cls_loss   dfl_loss  Instances       Size\n"
     ]
    },
    {
     "name": "stderr",
     "output_type": "stream",
     "text": [
      "     46/100      11.6G      1.663      1.266      2.107         15        640: 100%|██████████| 13/13 [00:01<00:00,  7.63it/s]\n",
      "                 Class     Images  Instances      Box(P          R      mAP50  mAP50-95): 100%|██████████| 2/2 [00:00<00:00, 12.71it/s]"
     ]
    },
    {
     "name": "stdout",
     "output_type": "stream",
     "text": [
      "                   all         51         51      0.914      0.961       0.98      0.838\n"
     ]
    },
    {
     "name": "stderr",
     "output_type": "stream",
     "text": [
      "\n"
     ]
    },
    {
     "name": "stdout",
     "output_type": "stream",
     "text": [
      "\n",
      "      Epoch    GPU_mem   box_loss   cls_loss   dfl_loss  Instances       Size\n"
     ]
    },
    {
     "name": "stderr",
     "output_type": "stream",
     "text": [
      "     47/100      11.6G      1.657      1.173      2.119         19        640: 100%|██████████| 13/13 [00:01<00:00,  7.69it/s]\n",
      "                 Class     Images  Instances      Box(P          R      mAP50  mAP50-95): 100%|██████████| 2/2 [00:00<00:00, 12.67it/s]"
     ]
    },
    {
     "name": "stdout",
     "output_type": "stream",
     "text": [
      "                   all         51         51       0.86      0.882      0.961      0.858\n"
     ]
    },
    {
     "name": "stderr",
     "output_type": "stream",
     "text": [
      "\n"
     ]
    },
    {
     "name": "stdout",
     "output_type": "stream",
     "text": [
      "\n",
      "      Epoch    GPU_mem   box_loss   cls_loss   dfl_loss  Instances       Size\n"
     ]
    },
    {
     "name": "stderr",
     "output_type": "stream",
     "text": [
      "     48/100      11.6G      1.578      1.156       2.16         22        640: 100%|██████████| 13/13 [00:01<00:00,  7.66it/s]\n",
      "                 Class     Images  Instances      Box(P          R      mAP50  mAP50-95): 100%|██████████| 2/2 [00:00<00:00, 12.87it/s]"
     ]
    },
    {
     "name": "stdout",
     "output_type": "stream",
     "text": [
      "                   all         51         51      0.957      0.881      0.966      0.852\n"
     ]
    },
    {
     "name": "stderr",
     "output_type": "stream",
     "text": [
      "\n"
     ]
    },
    {
     "name": "stdout",
     "output_type": "stream",
     "text": [
      "\n",
      "      Epoch    GPU_mem   box_loss   cls_loss   dfl_loss  Instances       Size\n"
     ]
    },
    {
     "name": "stderr",
     "output_type": "stream",
     "text": [
      "     49/100      11.9G      1.622       1.25      2.134         26        640: 100%|██████████| 13/13 [00:01<00:00,  7.69it/s]\n",
      "                 Class     Images  Instances      Box(P          R      mAP50  mAP50-95): 100%|██████████| 2/2 [00:00<00:00, 12.71it/s]"
     ]
    },
    {
     "name": "stdout",
     "output_type": "stream",
     "text": [
      "                   all         51         51      0.956      0.961      0.983       0.87\n"
     ]
    },
    {
     "name": "stderr",
     "output_type": "stream",
     "text": [
      "\n"
     ]
    },
    {
     "name": "stdout",
     "output_type": "stream",
     "text": [
      "\n",
      "      Epoch    GPU_mem   box_loss   cls_loss   dfl_loss  Instances       Size\n"
     ]
    },
    {
     "name": "stderr",
     "output_type": "stream",
     "text": [
      "     50/100      11.6G      1.564      1.154       2.13         21        640: 100%|██████████| 13/13 [00:01<00:00,  7.69it/s]\n",
      "                 Class     Images  Instances      Box(P          R      mAP50  mAP50-95): 100%|██████████| 2/2 [00:00<00:00, 12.70it/s]"
     ]
    },
    {
     "name": "stdout",
     "output_type": "stream",
     "text": [
      "                   all         51         51      0.943      0.977      0.987      0.865\n"
     ]
    },
    {
     "name": "stderr",
     "output_type": "stream",
     "text": [
      "\n"
     ]
    },
    {
     "name": "stdout",
     "output_type": "stream",
     "text": [
      "\n",
      "      Epoch    GPU_mem   box_loss   cls_loss   dfl_loss  Instances       Size\n"
     ]
    },
    {
     "name": "stderr",
     "output_type": "stream",
     "text": [
      "     51/100      11.6G      1.481      1.148      2.071         24        640: 100%|██████████| 13/13 [00:01<00:00,  7.68it/s]\n",
      "                 Class     Images  Instances      Box(P          R      mAP50  mAP50-95): 100%|██████████| 2/2 [00:00<00:00, 12.70it/s]"
     ]
    },
    {
     "name": "stdout",
     "output_type": "stream",
     "text": [
      "                   all         51         51      0.939      0.961      0.981      0.869\n"
     ]
    },
    {
     "name": "stderr",
     "output_type": "stream",
     "text": [
      "\n"
     ]
    },
    {
     "name": "stdout",
     "output_type": "stream",
     "text": [
      "\n",
      "      Epoch    GPU_mem   box_loss   cls_loss   dfl_loss  Instances       Size\n"
     ]
    },
    {
     "name": "stderr",
     "output_type": "stream",
     "text": [
      "     52/100      11.6G      1.487      1.088      2.068         28        640: 100%|██████████| 13/13 [00:01<00:00,  7.62it/s]\n",
      "                 Class     Images  Instances      Box(P          R      mAP50  mAP50-95): 100%|██████████| 2/2 [00:00<00:00, 12.76it/s]"
     ]
    },
    {
     "name": "stdout",
     "output_type": "stream",
     "text": [
      "                   all         51         51      0.959      0.915      0.984      0.874\n"
     ]
    },
    {
     "name": "stderr",
     "output_type": "stream",
     "text": [
      "\n"
     ]
    },
    {
     "name": "stdout",
     "output_type": "stream",
     "text": [
      "\n",
      "      Epoch    GPU_mem   box_loss   cls_loss   dfl_loss  Instances       Size\n"
     ]
    },
    {
     "name": "stderr",
     "output_type": "stream",
     "text": [
      "     53/100      11.9G      1.636      1.176       2.14         26        640: 100%|██████████| 13/13 [00:02<00:00,  4.84it/s]\n",
      "                 Class     Images  Instances      Box(P          R      mAP50  mAP50-95): 100%|██████████| 2/2 [00:00<00:00, 12.57it/s]"
     ]
    },
    {
     "name": "stdout",
     "output_type": "stream",
     "text": [
      "                   all         51         51      0.974      0.922      0.984      0.859\n"
     ]
    },
    {
     "name": "stderr",
     "output_type": "stream",
     "text": [
      "\n"
     ]
    },
    {
     "name": "stdout",
     "output_type": "stream",
     "text": [
      "\n",
      "      Epoch    GPU_mem   box_loss   cls_loss   dfl_loss  Instances       Size\n"
     ]
    },
    {
     "name": "stderr",
     "output_type": "stream",
     "text": [
      "     54/100      11.6G      1.517      1.084       2.08         28        640: 100%|██████████| 13/13 [00:01<00:00,  7.68it/s]\n",
      "                 Class     Images  Instances      Box(P          R      mAP50  mAP50-95): 100%|██████████| 2/2 [00:00<00:00, 12.70it/s]"
     ]
    },
    {
     "name": "stdout",
     "output_type": "stream",
     "text": [
      "                   all         51         51      0.924      0.941       0.98      0.884\n"
     ]
    },
    {
     "name": "stderr",
     "output_type": "stream",
     "text": [
      "\n"
     ]
    },
    {
     "name": "stdout",
     "output_type": "stream",
     "text": [
      "\n",
      "      Epoch    GPU_mem   box_loss   cls_loss   dfl_loss  Instances       Size\n"
     ]
    },
    {
     "name": "stderr",
     "output_type": "stream",
     "text": [
      "     55/100      11.6G      1.616      1.099      2.114         17        640: 100%|██████████| 13/13 [00:01<00:00,  7.72it/s]\n",
      "                 Class     Images  Instances      Box(P          R      mAP50  mAP50-95): 100%|██████████| 2/2 [00:00<00:00, 12.74it/s]"
     ]
    },
    {
     "name": "stdout",
     "output_type": "stream",
     "text": [
      "                   all         51         51      0.968      0.941      0.983      0.884\n"
     ]
    },
    {
     "name": "stderr",
     "output_type": "stream",
     "text": [
      "\n"
     ]
    },
    {
     "name": "stdout",
     "output_type": "stream",
     "text": [
      "\n",
      "      Epoch    GPU_mem   box_loss   cls_loss   dfl_loss  Instances       Size\n"
     ]
    },
    {
     "name": "stderr",
     "output_type": "stream",
     "text": [
      "     56/100      11.6G        1.7      1.202      2.146         19        640: 100%|██████████| 13/13 [00:01<00:00,  7.30it/s]\n",
      "                 Class     Images  Instances      Box(P          R      mAP50  mAP50-95): 100%|██████████| 2/2 [00:00<00:00, 12.75it/s]"
     ]
    },
    {
     "name": "stdout",
     "output_type": "stream",
     "text": [
      "                   all         51         51      0.871      0.961      0.977      0.876\n"
     ]
    },
    {
     "name": "stderr",
     "output_type": "stream",
     "text": [
      "\n"
     ]
    },
    {
     "name": "stdout",
     "output_type": "stream",
     "text": [
      "\n",
      "      Epoch    GPU_mem   box_loss   cls_loss   dfl_loss  Instances       Size\n"
     ]
    },
    {
     "name": "stderr",
     "output_type": "stream",
     "text": [
      "     57/100      11.9G      1.533      1.231      2.106         25        640: 100%|██████████| 13/13 [00:01<00:00,  7.64it/s]\n",
      "                 Class     Images  Instances      Box(P          R      mAP50  mAP50-95): 100%|██████████| 2/2 [00:00<00:00, 12.76it/s]"
     ]
    },
    {
     "name": "stdout",
     "output_type": "stream",
     "text": [
      "                   all         51         51      0.979      0.934      0.987      0.882\n"
     ]
    },
    {
     "name": "stderr",
     "output_type": "stream",
     "text": [
      "\n"
     ]
    },
    {
     "name": "stdout",
     "output_type": "stream",
     "text": [
      "\n",
      "      Epoch    GPU_mem   box_loss   cls_loss   dfl_loss  Instances       Size\n"
     ]
    },
    {
     "name": "stderr",
     "output_type": "stream",
     "text": [
      "     58/100      11.6G      1.645      1.158       2.11         25        640: 100%|██████████| 13/13 [00:01<00:00,  6.72it/s]\n",
      "                 Class     Images  Instances      Box(P          R      mAP50  mAP50-95): 100%|██████████| 2/2 [00:00<00:00, 12.70it/s]"
     ]
    },
    {
     "name": "stdout",
     "output_type": "stream",
     "text": [
      "                   all         51         51      0.978      0.941      0.991      0.876\n"
     ]
    },
    {
     "name": "stderr",
     "output_type": "stream",
     "text": [
      "\n"
     ]
    },
    {
     "name": "stdout",
     "output_type": "stream",
     "text": [
      "\n",
      "      Epoch    GPU_mem   box_loss   cls_loss   dfl_loss  Instances       Size\n"
     ]
    },
    {
     "name": "stderr",
     "output_type": "stream",
     "text": [
      "     59/100      11.6G      1.583      1.173      2.118         23        640: 100%|██████████| 13/13 [00:01<00:00,  7.67it/s]\n",
      "                 Class     Images  Instances      Box(P          R      mAP50  mAP50-95): 100%|██████████| 2/2 [00:00<00:00, 12.83it/s]"
     ]
    },
    {
     "name": "stdout",
     "output_type": "stream",
     "text": [
      "                   all         51         51      0.976       0.98      0.993      0.893\n"
     ]
    },
    {
     "name": "stderr",
     "output_type": "stream",
     "text": [
      "\n"
     ]
    },
    {
     "name": "stdout",
     "output_type": "stream",
     "text": [
      "\n",
      "      Epoch    GPU_mem   box_loss   cls_loss   dfl_loss  Instances       Size\n"
     ]
    },
    {
     "name": "stderr",
     "output_type": "stream",
     "text": [
      "     60/100      11.6G      1.444      1.037      1.975         27        640: 100%|██████████| 13/13 [00:01<00:00,  7.61it/s]\n",
      "                 Class     Images  Instances      Box(P          R      mAP50  mAP50-95): 100%|██████████| 2/2 [00:00<00:00, 12.85it/s]"
     ]
    },
    {
     "name": "stdout",
     "output_type": "stream",
     "text": [
      "                   all         51         51          1       0.98      0.994        0.9\n"
     ]
    },
    {
     "name": "stderr",
     "output_type": "stream",
     "text": [
      "\n"
     ]
    },
    {
     "name": "stdout",
     "output_type": "stream",
     "text": [
      "\n",
      "      Epoch    GPU_mem   box_loss   cls_loss   dfl_loss  Instances       Size\n"
     ]
    },
    {
     "name": "stderr",
     "output_type": "stream",
     "text": [
      "     61/100      11.9G      1.502      1.115      2.058         26        640: 100%|██████████| 13/13 [00:01<00:00,  7.64it/s]\n",
      "                 Class     Images  Instances      Box(P          R      mAP50  mAP50-95): 100%|██████████| 2/2 [00:00<00:00, 12.83it/s]"
     ]
    },
    {
     "name": "stdout",
     "output_type": "stream",
     "text": [
      "                   all         51         51      0.975      0.941       0.99      0.902\n"
     ]
    },
    {
     "name": "stderr",
     "output_type": "stream",
     "text": [
      "\n"
     ]
    },
    {
     "name": "stdout",
     "output_type": "stream",
     "text": [
      "\n",
      "      Epoch    GPU_mem   box_loss   cls_loss   dfl_loss  Instances       Size\n"
     ]
    },
    {
     "name": "stderr",
     "output_type": "stream",
     "text": [
      "     62/100      11.6G      1.444      1.052       2.05         25        640: 100%|██████████| 13/13 [00:01<00:00,  7.68it/s]\n",
      "                 Class     Images  Instances      Box(P          R      mAP50  mAP50-95): 100%|██████████| 2/2 [00:00<00:00, 12.86it/s]"
     ]
    },
    {
     "name": "stdout",
     "output_type": "stream",
     "text": [
      "                   all         51         51      0.956      0.961      0.989      0.903\n"
     ]
    },
    {
     "name": "stderr",
     "output_type": "stream",
     "text": [
      "\n"
     ]
    },
    {
     "name": "stdout",
     "output_type": "stream",
     "text": [
      "\n",
      "      Epoch    GPU_mem   box_loss   cls_loss   dfl_loss  Instances       Size\n"
     ]
    },
    {
     "name": "stderr",
     "output_type": "stream",
     "text": [
      "     63/100      11.6G      1.459      1.149      2.075         20        640: 100%|██████████| 13/13 [00:01<00:00,  7.69it/s]\n",
      "                 Class     Images  Instances      Box(P          R      mAP50  mAP50-95): 100%|██████████| 2/2 [00:00<00:00, 12.74it/s]"
     ]
    },
    {
     "name": "stdout",
     "output_type": "stream",
     "text": [
      "                   all         51         51      0.874      0.961      0.979      0.868\n"
     ]
    },
    {
     "name": "stderr",
     "output_type": "stream",
     "text": [
      "\n"
     ]
    },
    {
     "name": "stdout",
     "output_type": "stream",
     "text": [
      "\n",
      "      Epoch    GPU_mem   box_loss   cls_loss   dfl_loss  Instances       Size\n"
     ]
    },
    {
     "name": "stderr",
     "output_type": "stream",
     "text": [
      "     64/100      11.6G      1.514      1.093      2.105         10        640: 100%|██████████| 13/13 [00:01<00:00,  7.55it/s]\n",
      "                 Class     Images  Instances      Box(P          R      mAP50  mAP50-95): 100%|██████████| 2/2 [00:00<00:00, 12.69it/s]"
     ]
    },
    {
     "name": "stdout",
     "output_type": "stream",
     "text": [
      "                   all         51         51          1      0.953      0.991      0.885\n"
     ]
    },
    {
     "name": "stderr",
     "output_type": "stream",
     "text": [
      "\n"
     ]
    },
    {
     "name": "stdout",
     "output_type": "stream",
     "text": [
      "\n",
      "      Epoch    GPU_mem   box_loss   cls_loss   dfl_loss  Instances       Size\n"
     ]
    },
    {
     "name": "stderr",
     "output_type": "stream",
     "text": [
      "     65/100      11.9G      1.537      1.075      2.126         22        640: 100%|██████████| 13/13 [00:01<00:00,  7.65it/s]\n",
      "                 Class     Images  Instances      Box(P          R      mAP50  mAP50-95): 100%|██████████| 2/2 [00:00<00:00, 12.73it/s]"
     ]
    },
    {
     "name": "stdout",
     "output_type": "stream",
     "text": [
      "                   all         51         51      0.959      0.915      0.982      0.886\n"
     ]
    },
    {
     "name": "stderr",
     "output_type": "stream",
     "text": [
      "\n"
     ]
    },
    {
     "name": "stdout",
     "output_type": "stream",
     "text": [
      "\n",
      "      Epoch    GPU_mem   box_loss   cls_loss   dfl_loss  Instances       Size\n"
     ]
    },
    {
     "name": "stderr",
     "output_type": "stream",
     "text": [
      "     66/100      11.6G       1.51      1.164      2.074         25        640: 100%|██████████| 13/13 [00:02<00:00,  6.29it/s]\n",
      "                 Class     Images  Instances      Box(P          R      mAP50  mAP50-95): 100%|██████████| 2/2 [00:00<00:00, 12.69it/s]"
     ]
    },
    {
     "name": "stdout",
     "output_type": "stream",
     "text": [
      "                   all         51         51      0.977      0.961       0.99      0.889\n"
     ]
    },
    {
     "name": "stderr",
     "output_type": "stream",
     "text": [
      "\n"
     ]
    },
    {
     "name": "stdout",
     "output_type": "stream",
     "text": [
      "\n",
      "      Epoch    GPU_mem   box_loss   cls_loss   dfl_loss  Instances       Size\n"
     ]
    },
    {
     "name": "stderr",
     "output_type": "stream",
     "text": [
      "     67/100      11.6G      1.433       1.14      2.061         15        640: 100%|██████████| 13/13 [00:01<00:00,  6.82it/s]\n",
      "                 Class     Images  Instances      Box(P          R      mAP50  mAP50-95): 100%|██████████| 2/2 [00:00<00:00, 12.78it/s]"
     ]
    },
    {
     "name": "stdout",
     "output_type": "stream",
     "text": [
      "                   all         51         51      0.937      0.961      0.985      0.905\n"
     ]
    },
    {
     "name": "stderr",
     "output_type": "stream",
     "text": [
      "\n"
     ]
    },
    {
     "name": "stdout",
     "output_type": "stream",
     "text": [
      "\n",
      "      Epoch    GPU_mem   box_loss   cls_loss   dfl_loss  Instances       Size\n"
     ]
    },
    {
     "name": "stderr",
     "output_type": "stream",
     "text": [
      "     68/100      11.6G      1.442      1.073      2.052         19        640: 100%|██████████| 13/13 [00:01<00:00,  7.05it/s]\n",
      "                 Class     Images  Instances      Box(P          R      mAP50  mAP50-95): 100%|██████████| 2/2 [00:00<00:00, 12.87it/s]"
     ]
    },
    {
     "name": "stdout",
     "output_type": "stream",
     "text": [
      "                   all         51         51      0.922       0.98      0.988      0.915\n"
     ]
    },
    {
     "name": "stderr",
     "output_type": "stream",
     "text": [
      "\n"
     ]
    },
    {
     "name": "stdout",
     "output_type": "stream",
     "text": [
      "\n",
      "      Epoch    GPU_mem   box_loss   cls_loss   dfl_loss  Instances       Size\n"
     ]
    },
    {
     "name": "stderr",
     "output_type": "stream",
     "text": [
      "     69/100      11.5G      1.445      1.049      2.071         17        640: 100%|██████████| 13/13 [00:01<00:00,  7.57it/s]\n",
      "                 Class     Images  Instances      Box(P          R      mAP50  mAP50-95): 100%|██████████| 2/2 [00:00<00:00, 12.86it/s]"
     ]
    },
    {
     "name": "stdout",
     "output_type": "stream",
     "text": [
      "                   all         51         51      0.924       0.96      0.981      0.897\n"
     ]
    },
    {
     "name": "stderr",
     "output_type": "stream",
     "text": [
      "\n"
     ]
    },
    {
     "name": "stdout",
     "output_type": "stream",
     "text": [
      "\n",
      "      Epoch    GPU_mem   box_loss   cls_loss   dfl_loss  Instances       Size\n"
     ]
    },
    {
     "name": "stderr",
     "output_type": "stream",
     "text": [
      "     70/100      11.6G      1.344     0.9867      2.013         20        640: 100%|██████████| 13/13 [00:01<00:00,  7.63it/s]\n",
      "                 Class     Images  Instances      Box(P          R      mAP50  mAP50-95): 100%|██████████| 2/2 [00:00<00:00, 12.76it/s]"
     ]
    },
    {
     "name": "stdout",
     "output_type": "stream",
     "text": [
      "                   all         51         51       0.96      0.935      0.984      0.879\n"
     ]
    },
    {
     "name": "stderr",
     "output_type": "stream",
     "text": [
      "\n"
     ]
    },
    {
     "name": "stdout",
     "output_type": "stream",
     "text": [
      "\n",
      "      Epoch    GPU_mem   box_loss   cls_loss   dfl_loss  Instances       Size\n"
     ]
    },
    {
     "name": "stderr",
     "output_type": "stream",
     "text": [
      "     71/100      11.6G      1.445     0.9925      2.073         18        640: 100%|██████████| 13/13 [00:01<00:00,  7.74it/s]\n",
      "                 Class     Images  Instances      Box(P          R      mAP50  mAP50-95): 100%|██████████| 2/2 [00:00<00:00, 12.80it/s]"
     ]
    },
    {
     "name": "stdout",
     "output_type": "stream",
     "text": [
      "                   all         51         51      0.975      0.922      0.986      0.881\n"
     ]
    },
    {
     "name": "stderr",
     "output_type": "stream",
     "text": [
      "\n"
     ]
    },
    {
     "name": "stdout",
     "output_type": "stream",
     "text": [
      "\n",
      "      Epoch    GPU_mem   box_loss   cls_loss   dfl_loss  Instances       Size\n"
     ]
    },
    {
     "name": "stderr",
     "output_type": "stream",
     "text": [
      "     72/100      11.6G      1.387     0.9327      1.997         24        640: 100%|██████████| 13/13 [00:01<00:00,  7.24it/s]\n",
      "                 Class     Images  Instances      Box(P          R      mAP50  mAP50-95): 100%|██████████| 2/2 [00:00<00:00, 12.81it/s]"
     ]
    },
    {
     "name": "stdout",
     "output_type": "stream",
     "text": [
      "                   all         51         51       0.96       0.95      0.985      0.897\n"
     ]
    },
    {
     "name": "stderr",
     "output_type": "stream",
     "text": [
      "\n"
     ]
    },
    {
     "name": "stdout",
     "output_type": "stream",
     "text": [
      "\n",
      "      Epoch    GPU_mem   box_loss   cls_loss   dfl_loss  Instances       Size\n"
     ]
    },
    {
     "name": "stderr",
     "output_type": "stream",
     "text": [
      "     73/100      11.9G      1.384      1.044       2.06         22        640: 100%|██████████| 13/13 [00:01<00:00,  7.21it/s]\n",
      "                 Class     Images  Instances      Box(P          R      mAP50  mAP50-95): 100%|██████████| 2/2 [00:00<00:00, 12.80it/s]"
     ]
    },
    {
     "name": "stdout",
     "output_type": "stream",
     "text": [
      "                   all         51         51      0.996      0.941      0.987      0.909\n"
     ]
    },
    {
     "name": "stderr",
     "output_type": "stream",
     "text": [
      "\n"
     ]
    },
    {
     "name": "stdout",
     "output_type": "stream",
     "text": [
      "\n",
      "      Epoch    GPU_mem   box_loss   cls_loss   dfl_loss  Instances       Size\n"
     ]
    },
    {
     "name": "stderr",
     "output_type": "stream",
     "text": [
      "     74/100      11.6G      1.329     0.9578      2.027         19        640: 100%|██████████| 13/13 [00:01<00:00,  7.51it/s]\n",
      "                 Class     Images  Instances      Box(P          R      mAP50  mAP50-95): 100%|██████████| 2/2 [00:00<00:00, 12.82it/s]"
     ]
    },
    {
     "name": "stdout",
     "output_type": "stream",
     "text": [
      "                   all         51         51      0.996      0.922      0.989      0.913\n"
     ]
    },
    {
     "name": "stderr",
     "output_type": "stream",
     "text": [
      "\n"
     ]
    },
    {
     "name": "stdout",
     "output_type": "stream",
     "text": [
      "\n",
      "      Epoch    GPU_mem   box_loss   cls_loss   dfl_loss  Instances       Size\n"
     ]
    },
    {
     "name": "stderr",
     "output_type": "stream",
     "text": [
      "     75/100      11.6G      1.372     0.9731      2.053         20        640: 100%|██████████| 13/13 [00:01<00:00,  7.65it/s]\n",
      "                 Class     Images  Instances      Box(P          R      mAP50  mAP50-95): 100%|██████████| 2/2 [00:00<00:00, 12.83it/s]"
     ]
    },
    {
     "name": "stdout",
     "output_type": "stream",
     "text": [
      "                   all         51         51      0.976      0.961      0.989      0.911\n"
     ]
    },
    {
     "name": "stderr",
     "output_type": "stream",
     "text": [
      "\n"
     ]
    },
    {
     "name": "stdout",
     "output_type": "stream",
     "text": [
      "\n",
      "      Epoch    GPU_mem   box_loss   cls_loss   dfl_loss  Instances       Size\n"
     ]
    },
    {
     "name": "stderr",
     "output_type": "stream",
     "text": [
      "     76/100      11.6G      1.222     0.9173      1.979         20        640: 100%|██████████| 13/13 [00:01<00:00,  7.63it/s]\n",
      "                 Class     Images  Instances      Box(P          R      mAP50  mAP50-95): 100%|██████████| 2/2 [00:00<00:00, 12.65it/s]"
     ]
    },
    {
     "name": "stdout",
     "output_type": "stream",
     "text": [
      "                   all         51         51      0.956      0.961      0.984      0.907\n"
     ]
    },
    {
     "name": "stderr",
     "output_type": "stream",
     "text": [
      "\n"
     ]
    },
    {
     "name": "stdout",
     "output_type": "stream",
     "text": [
      "\n",
      "      Epoch    GPU_mem   box_loss   cls_loss   dfl_loss  Instances       Size\n"
     ]
    },
    {
     "name": "stderr",
     "output_type": "stream",
     "text": [
      "     77/100      11.5G      1.362      1.013      2.033         26        640: 100%|██████████| 13/13 [00:01<00:00,  7.67it/s]\n",
      "                 Class     Images  Instances      Box(P          R      mAP50  mAP50-95): 100%|██████████| 2/2 [00:00<00:00, 12.48it/s]"
     ]
    },
    {
     "name": "stdout",
     "output_type": "stream",
     "text": [
      "                   all         51         51      0.953      0.922      0.976       0.91\n"
     ]
    },
    {
     "name": "stderr",
     "output_type": "stream",
     "text": [
      "\n"
     ]
    },
    {
     "name": "stdout",
     "output_type": "stream",
     "text": [
      "\n",
      "      Epoch    GPU_mem   box_loss   cls_loss   dfl_loss  Instances       Size\n"
     ]
    },
    {
     "name": "stderr",
     "output_type": "stream",
     "text": [
      "     78/100      11.6G      1.312     0.9426      1.971         20        640: 100%|██████████| 13/13 [00:01<00:00,  7.69it/s]\n",
      "                 Class     Images  Instances      Box(P          R      mAP50  mAP50-95): 100%|██████████| 2/2 [00:00<00:00, 12.81it/s]"
     ]
    },
    {
     "name": "stdout",
     "output_type": "stream",
     "text": [
      "                   all         51         51      0.956      0.922      0.981        0.9\n"
     ]
    },
    {
     "name": "stderr",
     "output_type": "stream",
     "text": [
      "\n"
     ]
    },
    {
     "name": "stdout",
     "output_type": "stream",
     "text": [
      "\n",
      "      Epoch    GPU_mem   box_loss   cls_loss   dfl_loss  Instances       Size\n"
     ]
    },
    {
     "name": "stderr",
     "output_type": "stream",
     "text": [
      "     79/100      11.6G      1.393     0.9042      2.017         21        640: 100%|██████████| 13/13 [00:01<00:00,  6.72it/s]\n",
      "                 Class     Images  Instances      Box(P          R      mAP50  mAP50-95): 100%|██████████| 2/2 [00:00<00:00, 12.77it/s]"
     ]
    },
    {
     "name": "stdout",
     "output_type": "stream",
     "text": [
      "                   all         51         51      0.908      0.969      0.979      0.901\n"
     ]
    },
    {
     "name": "stderr",
     "output_type": "stream",
     "text": [
      "\n"
     ]
    },
    {
     "name": "stdout",
     "output_type": "stream",
     "text": [
      "\n",
      "      Epoch    GPU_mem   box_loss   cls_loss   dfl_loss  Instances       Size\n"
     ]
    },
    {
     "name": "stderr",
     "output_type": "stream",
     "text": [
      "     80/100      11.6G      1.339     0.9204      2.031         23        640: 100%|██████████| 13/13 [00:01<00:00,  7.63it/s]\n",
      "                 Class     Images  Instances      Box(P          R      mAP50  mAP50-95): 100%|██████████| 2/2 [00:00<00:00, 12.75it/s]"
     ]
    },
    {
     "name": "stdout",
     "output_type": "stream",
     "text": [
      "                   all         51         51      0.942      0.955      0.982      0.892\n"
     ]
    },
    {
     "name": "stderr",
     "output_type": "stream",
     "text": [
      "\n"
     ]
    },
    {
     "name": "stdout",
     "output_type": "stream",
     "text": [
      "\n",
      "      Epoch    GPU_mem   box_loss   cls_loss   dfl_loss  Instances       Size\n"
     ]
    },
    {
     "name": "stderr",
     "output_type": "stream",
     "text": [
      "     81/100      11.5G      1.368      1.013       2.03         21        640: 100%|██████████| 13/13 [00:01<00:00,  7.59it/s]\n",
      "                 Class     Images  Instances      Box(P          R      mAP50  mAP50-95): 100%|██████████| 2/2 [00:00<00:00, 12.69it/s]"
     ]
    },
    {
     "name": "stdout",
     "output_type": "stream",
     "text": [
      "                   all         51         51      0.908      0.963      0.987      0.908\n"
     ]
    },
    {
     "name": "stderr",
     "output_type": "stream",
     "text": [
      "\n"
     ]
    },
    {
     "name": "stdout",
     "output_type": "stream",
     "text": [
      "\n",
      "      Epoch    GPU_mem   box_loss   cls_loss   dfl_loss  Instances       Size\n"
     ]
    },
    {
     "name": "stderr",
     "output_type": "stream",
     "text": [
      "     82/100      11.6G       1.27     0.8608      1.916         16        640: 100%|██████████| 13/13 [00:02<00:00,  5.60it/s]\n",
      "                 Class     Images  Instances      Box(P          R      mAP50  mAP50-95): 100%|██████████| 2/2 [00:00<00:00, 10.19it/s]"
     ]
    },
    {
     "name": "stdout",
     "output_type": "stream",
     "text": [
      "                   all         51         51      0.928      0.922      0.981      0.907\n"
     ]
    },
    {
     "name": "stderr",
     "output_type": "stream",
     "text": [
      "\n"
     ]
    },
    {
     "name": "stdout",
     "output_type": "stream",
     "text": [
      "\n",
      "      Epoch    GPU_mem   box_loss   cls_loss   dfl_loss  Instances       Size\n"
     ]
    },
    {
     "name": "stderr",
     "output_type": "stream",
     "text": [
      "     83/100      11.6G      1.364     0.9958      1.982         20        640: 100%|██████████| 13/13 [00:01<00:00,  7.72it/s]\n",
      "                 Class     Images  Instances      Box(P          R      mAP50  mAP50-95): 100%|██████████| 2/2 [00:00<00:00, 12.75it/s]"
     ]
    },
    {
     "name": "stdout",
     "output_type": "stream",
     "text": [
      "                   all         51         51      0.921      0.941      0.983      0.902\n"
     ]
    },
    {
     "name": "stderr",
     "output_type": "stream",
     "text": [
      "\n"
     ]
    },
    {
     "name": "stdout",
     "output_type": "stream",
     "text": [
      "\n",
      "      Epoch    GPU_mem   box_loss   cls_loss   dfl_loss  Instances       Size\n"
     ]
    },
    {
     "name": "stderr",
     "output_type": "stream",
     "text": [
      "     84/100      11.6G      1.277     0.9507      1.982         19        640: 100%|██████████| 13/13 [00:01<00:00,  7.63it/s]\n",
      "                 Class     Images  Instances      Box(P          R      mAP50  mAP50-95): 100%|██████████| 2/2 [00:00<00:00, 12.85it/s]"
     ]
    },
    {
     "name": "stdout",
     "output_type": "stream",
     "text": [
      "                   all         51         51      0.957      0.922      0.983      0.898\n"
     ]
    },
    {
     "name": "stderr",
     "output_type": "stream",
     "text": [
      "\n"
     ]
    },
    {
     "name": "stdout",
     "output_type": "stream",
     "text": [
      "\n",
      "      Epoch    GPU_mem   box_loss   cls_loss   dfl_loss  Instances       Size\n"
     ]
    },
    {
     "name": "stderr",
     "output_type": "stream",
     "text": [
      "     85/100      11.5G      1.202     0.8302      1.936         20        640: 100%|██████████| 13/13 [00:01<00:00,  7.71it/s]\n",
      "                 Class     Images  Instances      Box(P          R      mAP50  mAP50-95): 100%|██████████| 2/2 [00:00<00:00, 12.83it/s]"
     ]
    },
    {
     "name": "stdout",
     "output_type": "stream",
     "text": [
      "                   all         51         51       0.98       0.96       0.99      0.906\n"
     ]
    },
    {
     "name": "stderr",
     "output_type": "stream",
     "text": [
      "\n"
     ]
    },
    {
     "name": "stdout",
     "output_type": "stream",
     "text": [
      "\n",
      "      Epoch    GPU_mem   box_loss   cls_loss   dfl_loss  Instances       Size\n"
     ]
    },
    {
     "name": "stderr",
     "output_type": "stream",
     "text": [
      "     86/100      11.6G      1.255     0.8554      1.925         24        640: 100%|██████████| 13/13 [00:01<00:00,  7.70it/s]\n",
      "                 Class     Images  Instances      Box(P          R      mAP50  mAP50-95): 100%|██████████| 2/2 [00:00<00:00, 12.85it/s]"
     ]
    },
    {
     "name": "stdout",
     "output_type": "stream",
     "text": [
      "                   all         51         51      0.979      0.961      0.993      0.907\n"
     ]
    },
    {
     "name": "stderr",
     "output_type": "stream",
     "text": [
      "\n"
     ]
    },
    {
     "name": "stdout",
     "output_type": "stream",
     "text": [
      "\n",
      "      Epoch    GPU_mem   box_loss   cls_loss   dfl_loss  Instances       Size\n"
     ]
    },
    {
     "name": "stderr",
     "output_type": "stream",
     "text": [
      "     87/100      11.6G      1.302      0.939       1.97         25        640: 100%|██████████| 13/13 [00:01<00:00,  7.68it/s]\n",
      "                 Class     Images  Instances      Box(P          R      mAP50  mAP50-95): 100%|██████████| 2/2 [00:00<00:00, 12.81it/s]"
     ]
    },
    {
     "name": "stdout",
     "output_type": "stream",
     "text": [
      "                   all         51         51      0.973       0.98      0.993      0.919\n"
     ]
    },
    {
     "name": "stderr",
     "output_type": "stream",
     "text": [
      "\n"
     ]
    },
    {
     "name": "stdout",
     "output_type": "stream",
     "text": [
      "\n",
      "      Epoch    GPU_mem   box_loss   cls_loss   dfl_loss  Instances       Size\n"
     ]
    },
    {
     "name": "stderr",
     "output_type": "stream",
     "text": [
      "     88/100      11.6G      1.288     0.8826      2.016         26        640: 100%|██████████| 13/13 [00:01<00:00,  7.60it/s]\n",
      "                 Class     Images  Instances      Box(P          R      mAP50  mAP50-95): 100%|██████████| 2/2 [00:00<00:00, 12.83it/s]"
     ]
    },
    {
     "name": "stdout",
     "output_type": "stream",
     "text": [
      "                   all         51         51       0.98      0.975      0.992      0.916\n"
     ]
    },
    {
     "name": "stderr",
     "output_type": "stream",
     "text": [
      "\n"
     ]
    },
    {
     "name": "stdout",
     "output_type": "stream",
     "text": [
      "\n",
      "      Epoch    GPU_mem   box_loss   cls_loss   dfl_loss  Instances       Size\n"
     ]
    },
    {
     "name": "stderr",
     "output_type": "stream",
     "text": [
      "     89/100      11.5G      1.202      0.833       1.93         24        640: 100%|██████████| 13/13 [00:01<00:00,  7.66it/s]\n",
      "                 Class     Images  Instances      Box(P          R      mAP50  mAP50-95): 100%|██████████| 2/2 [00:00<00:00, 12.79it/s]"
     ]
    },
    {
     "name": "stdout",
     "output_type": "stream",
     "text": [
      "                   all         51         51       0.98      0.959      0.992       0.92\n"
     ]
    },
    {
     "name": "stderr",
     "output_type": "stream",
     "text": [
      "\n"
     ]
    },
    {
     "name": "stdout",
     "output_type": "stream",
     "text": [
      "\n",
      "      Epoch    GPU_mem   box_loss   cls_loss   dfl_loss  Instances       Size\n"
     ]
    },
    {
     "name": "stderr",
     "output_type": "stream",
     "text": [
      "     90/100      11.6G      1.199     0.8077      1.948         20        640: 100%|██████████| 13/13 [00:01<00:00,  7.63it/s]\n",
      "                 Class     Images  Instances      Box(P          R      mAP50  mAP50-95): 100%|██████████| 2/2 [00:00<00:00, 12.87it/s]"
     ]
    },
    {
     "name": "stdout",
     "output_type": "stream",
     "text": [
      "                   all         51         51       0.98      0.961      0.992      0.924\n"
     ]
    },
    {
     "name": "stderr",
     "output_type": "stream",
     "text": [
      "\n"
     ]
    },
    {
     "name": "stdout",
     "output_type": "stream",
     "text": [
      "Closing dataloader mosaic\n",
      "\n",
      "      Epoch    GPU_mem   box_loss   cls_loss   dfl_loss  Instances       Size\n"
     ]
    },
    {
     "name": "stderr",
     "output_type": "stream",
     "text": [
      "     91/100      11.6G     0.8867     0.5119      1.774         10        640: 100%|██████████| 13/13 [00:03<00:00,  3.68it/s]\n",
      "                 Class     Images  Instances      Box(P          R      mAP50  mAP50-95): 100%|██████████| 2/2 [00:00<00:00,  8.80it/s]"
     ]
    },
    {
     "name": "stdout",
     "output_type": "stream",
     "text": [
      "                   all         51         51      0.941      0.944      0.988      0.926\n"
     ]
    },
    {
     "name": "stderr",
     "output_type": "stream",
     "text": [
      "\n"
     ]
    },
    {
     "name": "stdout",
     "output_type": "stream",
     "text": [
      "\n",
      "      Epoch    GPU_mem   box_loss   cls_loss   dfl_loss  Instances       Size\n"
     ]
    },
    {
     "name": "stderr",
     "output_type": "stream",
     "text": [
      "     92/100      11.6G     0.8292     0.5303      1.748         10        640: 100%|██████████| 13/13 [00:01<00:00,  7.27it/s]\n",
      "                 Class     Images  Instances      Box(P          R      mAP50  mAP50-95): 100%|██████████| 2/2 [00:00<00:00, 12.47it/s]"
     ]
    },
    {
     "name": "stdout",
     "output_type": "stream",
     "text": [
      "                   all         51         51      0.965      0.922      0.987      0.931\n"
     ]
    },
    {
     "name": "stderr",
     "output_type": "stream",
     "text": [
      "\n"
     ]
    },
    {
     "name": "stdout",
     "output_type": "stream",
     "text": [
      "\n",
      "      Epoch    GPU_mem   box_loss   cls_loss   dfl_loss  Instances       Size\n"
     ]
    },
    {
     "name": "stderr",
     "output_type": "stream",
     "text": [
      "     93/100      11.9G     0.9127     0.5354      1.756         10        640: 100%|██████████| 13/13 [00:01<00:00,  7.51it/s]\n",
      "                 Class     Images  Instances      Box(P          R      mAP50  mAP50-95): 100%|██████████| 2/2 [00:00<00:00, 12.72it/s]"
     ]
    },
    {
     "name": "stdout",
     "output_type": "stream",
     "text": [
      "                   all         51         51      0.958      0.961      0.989      0.935\n"
     ]
    },
    {
     "name": "stderr",
     "output_type": "stream",
     "text": [
      "\n"
     ]
    },
    {
     "name": "stdout",
     "output_type": "stream",
     "text": [
      "\n",
      "      Epoch    GPU_mem   box_loss   cls_loss   dfl_loss  Instances       Size\n"
     ]
    },
    {
     "name": "stderr",
     "output_type": "stream",
     "text": [
      "     94/100      11.6G     0.8542     0.4819      1.712         10        640: 100%|██████████| 13/13 [00:01<00:00,  7.57it/s]\n",
      "                 Class     Images  Instances      Box(P          R      mAP50  mAP50-95): 100%|██████████| 2/2 [00:00<00:00, 12.73it/s]"
     ]
    },
    {
     "name": "stdout",
     "output_type": "stream",
     "text": [
      "                   all         51         51      0.977      0.961      0.988      0.928\n"
     ]
    },
    {
     "name": "stderr",
     "output_type": "stream",
     "text": [
      "\n"
     ]
    },
    {
     "name": "stdout",
     "output_type": "stream",
     "text": [
      "\n",
      "      Epoch    GPU_mem   box_loss   cls_loss   dfl_loss  Instances       Size\n"
     ]
    },
    {
     "name": "stderr",
     "output_type": "stream",
     "text": [
      "     95/100      11.6G     0.7897     0.4633      1.749         10        640: 100%|██████████| 13/13 [00:01<00:00,  7.71it/s]\n",
      "                 Class     Images  Instances      Box(P          R      mAP50  mAP50-95): 100%|██████████| 2/2 [00:00<00:00, 12.86it/s]"
     ]
    },
    {
     "name": "stdout",
     "output_type": "stream",
     "text": [
      "                   all         51         51      0.961      0.979      0.992      0.923\n"
     ]
    },
    {
     "name": "stderr",
     "output_type": "stream",
     "text": [
      "\n"
     ]
    },
    {
     "name": "stdout",
     "output_type": "stream",
     "text": [
      "\n",
      "      Epoch    GPU_mem   box_loss   cls_loss   dfl_loss  Instances       Size\n"
     ]
    },
    {
     "name": "stderr",
     "output_type": "stream",
     "text": [
      "     96/100      11.6G     0.8878      0.521      1.782         10        640: 100%|██████████| 13/13 [00:01<00:00,  7.61it/s]\n",
      "                 Class     Images  Instances      Box(P          R      mAP50  mAP50-95): 100%|██████████| 2/2 [00:00<00:00, 12.80it/s]"
     ]
    },
    {
     "name": "stdout",
     "output_type": "stream",
     "text": [
      "                   all         51         51      0.959       0.98      0.992      0.932\n"
     ]
    },
    {
     "name": "stderr",
     "output_type": "stream",
     "text": [
      "\n"
     ]
    },
    {
     "name": "stdout",
     "output_type": "stream",
     "text": [
      "\n",
      "      Epoch    GPU_mem   box_loss   cls_loss   dfl_loss  Instances       Size\n"
     ]
    },
    {
     "name": "stderr",
     "output_type": "stream",
     "text": [
      "     97/100      11.9G     0.8063     0.4556      1.745         10        640: 100%|██████████| 13/13 [00:01<00:00,  7.73it/s]\n",
      "                 Class     Images  Instances      Box(P          R      mAP50  mAP50-95): 100%|██████████| 2/2 [00:00<00:00, 12.88it/s]"
     ]
    },
    {
     "name": "stdout",
     "output_type": "stream",
     "text": [
      "                   all         51         51      0.978      0.961      0.992      0.934\n"
     ]
    },
    {
     "name": "stderr",
     "output_type": "stream",
     "text": [
      "\n"
     ]
    },
    {
     "name": "stdout",
     "output_type": "stream",
     "text": [
      "\n",
      "      Epoch    GPU_mem   box_loss   cls_loss   dfl_loss  Instances       Size\n"
     ]
    },
    {
     "name": "stderr",
     "output_type": "stream",
     "text": [
      "     98/100      11.6G     0.8034     0.4702      1.713         10        640: 100%|██████████| 13/13 [00:01<00:00,  7.68it/s]\n",
      "                 Class     Images  Instances      Box(P          R      mAP50  mAP50-95): 100%|██████████| 2/2 [00:00<00:00, 12.89it/s]"
     ]
    },
    {
     "name": "stdout",
     "output_type": "stream",
     "text": [
      "                   all         51         51       0.98      0.979      0.993      0.929\n"
     ]
    },
    {
     "name": "stderr",
     "output_type": "stream",
     "text": [
      "\n"
     ]
    },
    {
     "name": "stdout",
     "output_type": "stream",
     "text": [
      "\n",
      "      Epoch    GPU_mem   box_loss   cls_loss   dfl_loss  Instances       Size\n"
     ]
    },
    {
     "name": "stderr",
     "output_type": "stream",
     "text": [
      "     99/100      11.6G     0.8721     0.5169       1.78         10        640: 100%|██████████| 13/13 [00:01<00:00,  7.72it/s]\n",
      "                 Class     Images  Instances      Box(P          R      mAP50  mAP50-95): 100%|██████████| 2/2 [00:00<00:00, 12.38it/s]"
     ]
    },
    {
     "name": "stdout",
     "output_type": "stream",
     "text": [
      "                   all         51         51      0.976       0.98      0.992      0.932\n"
     ]
    },
    {
     "name": "stderr",
     "output_type": "stream",
     "text": [
      "\n"
     ]
    },
    {
     "name": "stdout",
     "output_type": "stream",
     "text": [
      "\n",
      "      Epoch    GPU_mem   box_loss   cls_loss   dfl_loss  Instances       Size\n"
     ]
    },
    {
     "name": "stderr",
     "output_type": "stream",
     "text": [
      "    100/100      11.6G      0.739     0.4536      1.709         10        640: 100%|██████████| 13/13 [00:01<00:00,  7.63it/s]\n",
      "                 Class     Images  Instances      Box(P          R      mAP50  mAP50-95): 100%|██████████| 2/2 [00:00<00:00, 12.81it/s]"
     ]
    },
    {
     "name": "stdout",
     "output_type": "stream",
     "text": [
      "                   all         51         51      0.979      0.961      0.991      0.931\n"
     ]
    },
    {
     "name": "stderr",
     "output_type": "stream",
     "text": [
      "\n"
     ]
    },
    {
     "name": "stdout",
     "output_type": "stream",
     "text": [
      "\n",
      "100 epochs completed in 0.072 hours.\n",
      "Optimizer stripped from /home/oi/Desktop/song/cucumber-image/yolo_detection/oi/weights/last.pt, 41.4MB\n",
      "Optimizer stripped from /home/oi/Desktop/song/cucumber-image/yolo_detection/oi/weights/best.pt, 41.4MB\n",
      "\n",
      "Validating /home/oi/Desktop/song/cucumber-image/yolo_detection/oi/weights/best.pt...\n",
      "Ultralytics YOLOv8.2.83 🚀 Python-3.10.14 torch-2.4.0+cu121 CUDA:0 (NVIDIA GeForce RTX 4090, 24195MiB)\n",
      "YOLOv10b summary (fused): 383 layers, 20,412,694 parameters, 0 gradients, 97.9 GFLOPs\n"
     ]
    },
    {
     "name": "stderr",
     "output_type": "stream",
     "text": [
      "                 Class     Images  Instances      Box(P          R      mAP50  mAP50-95): 100%|██████████| 2/2 [00:00<00:00, 12.29it/s]\n"
     ]
    },
    {
     "name": "stdout",
     "output_type": "stream",
     "text": [
      "                   all         51         51      0.958      0.961      0.989      0.933\n",
      "Speed: 0.1ms preprocess, 2.3ms inference, 0.0ms loss, 0.0ms postprocess per image\n",
      "Results saved to \u001b[1m/home/oi/Desktop/song/cucumber-image/yolo_detection/oi\u001b[0m\n"
     ]
    },
    {
     "data": {
      "text/plain": [
       "ultralytics.utils.metrics.DetMetrics object with attributes:\n",
       "\n",
       "ap_class_index: array([0])\n",
       "box: ultralytics.utils.metrics.Metric object\n",
       "confusion_matrix: <ultralytics.utils.metrics.ConfusionMatrix object at 0x7ff2291302b0>\n",
       "curves: ['Precision-Recall(B)', 'F1-Confidence(B)', 'Precision-Confidence(B)', 'Recall-Confidence(B)']\n",
       "curves_results: [[array([          0,    0.001001,    0.002002,    0.003003,    0.004004,    0.005005,    0.006006,    0.007007,    0.008008,    0.009009,     0.01001,    0.011011,    0.012012,    0.013013,    0.014014,    0.015015,    0.016016,    0.017017,    0.018018,    0.019019,     0.02002,    0.021021,    0.022022,    0.023023,\n",
       "          0.024024,    0.025025,    0.026026,    0.027027,    0.028028,    0.029029,     0.03003,    0.031031,    0.032032,    0.033033,    0.034034,    0.035035,    0.036036,    0.037037,    0.038038,    0.039039,     0.04004,    0.041041,    0.042042,    0.043043,    0.044044,    0.045045,    0.046046,    0.047047,\n",
       "          0.048048,    0.049049,     0.05005,    0.051051,    0.052052,    0.053053,    0.054054,    0.055055,    0.056056,    0.057057,    0.058058,    0.059059,     0.06006,    0.061061,    0.062062,    0.063063,    0.064064,    0.065065,    0.066066,    0.067067,    0.068068,    0.069069,     0.07007,    0.071071,\n",
       "          0.072072,    0.073073,    0.074074,    0.075075,    0.076076,    0.077077,    0.078078,    0.079079,     0.08008,    0.081081,    0.082082,    0.083083,    0.084084,    0.085085,    0.086086,    0.087087,    0.088088,    0.089089,     0.09009,    0.091091,    0.092092,    0.093093,    0.094094,    0.095095,\n",
       "          0.096096,    0.097097,    0.098098,    0.099099,      0.1001,      0.1011,      0.1021,      0.1031,      0.1041,     0.10511,     0.10611,     0.10711,     0.10811,     0.10911,     0.11011,     0.11111,     0.11211,     0.11311,     0.11411,     0.11512,     0.11612,     0.11712,     0.11812,     0.11912,\n",
       "           0.12012,     0.12112,     0.12212,     0.12312,     0.12412,     0.12513,     0.12613,     0.12713,     0.12813,     0.12913,     0.13013,     0.13113,     0.13213,     0.13313,     0.13413,     0.13514,     0.13614,     0.13714,     0.13814,     0.13914,     0.14014,     0.14114,     0.14214,     0.14314,\n",
       "           0.14414,     0.14515,     0.14615,     0.14715,     0.14815,     0.14915,     0.15015,     0.15115,     0.15215,     0.15315,     0.15415,     0.15516,     0.15616,     0.15716,     0.15816,     0.15916,     0.16016,     0.16116,     0.16216,     0.16316,     0.16416,     0.16517,     0.16617,     0.16717,\n",
       "           0.16817,     0.16917,     0.17017,     0.17117,     0.17217,     0.17317,     0.17417,     0.17518,     0.17618,     0.17718,     0.17818,     0.17918,     0.18018,     0.18118,     0.18218,     0.18318,     0.18418,     0.18519,     0.18619,     0.18719,     0.18819,     0.18919,     0.19019,     0.19119,\n",
       "           0.19219,     0.19319,     0.19419,      0.1952,      0.1962,      0.1972,      0.1982,      0.1992,      0.2002,      0.2012,      0.2022,      0.2032,      0.2042,     0.20521,     0.20621,     0.20721,     0.20821,     0.20921,     0.21021,     0.21121,     0.21221,     0.21321,     0.21421,     0.21522,\n",
       "           0.21622,     0.21722,     0.21822,     0.21922,     0.22022,     0.22122,     0.22222,     0.22322,     0.22422,     0.22523,     0.22623,     0.22723,     0.22823,     0.22923,     0.23023,     0.23123,     0.23223,     0.23323,     0.23423,     0.23524,     0.23624,     0.23724,     0.23824,     0.23924,\n",
       "           0.24024,     0.24124,     0.24224,     0.24324,     0.24424,     0.24525,     0.24625,     0.24725,     0.24825,     0.24925,     0.25025,     0.25125,     0.25225,     0.25325,     0.25425,     0.25526,     0.25626,     0.25726,     0.25826,     0.25926,     0.26026,     0.26126,     0.26226,     0.26326,\n",
       "           0.26426,     0.26527,     0.26627,     0.26727,     0.26827,     0.26927,     0.27027,     0.27127,     0.27227,     0.27327,     0.27427,     0.27528,     0.27628,     0.27728,     0.27828,     0.27928,     0.28028,     0.28128,     0.28228,     0.28328,     0.28428,     0.28529,     0.28629,     0.28729,\n",
       "           0.28829,     0.28929,     0.29029,     0.29129,     0.29229,     0.29329,     0.29429,      0.2953,      0.2963,      0.2973,      0.2983,      0.2993,      0.3003,      0.3013,      0.3023,      0.3033,      0.3043,     0.30531,     0.30631,     0.30731,     0.30831,     0.30931,     0.31031,     0.31131,\n",
       "           0.31231,     0.31331,     0.31431,     0.31532,     0.31632,     0.31732,     0.31832,     0.31932,     0.32032,     0.32132,     0.32232,     0.32332,     0.32432,     0.32533,     0.32633,     0.32733,     0.32833,     0.32933,     0.33033,     0.33133,     0.33233,     0.33333,     0.33433,     0.33534,\n",
       "           0.33634,     0.33734,     0.33834,     0.33934,     0.34034,     0.34134,     0.34234,     0.34334,     0.34434,     0.34535,     0.34635,     0.34735,     0.34835,     0.34935,     0.35035,     0.35135,     0.35235,     0.35335,     0.35435,     0.35536,     0.35636,     0.35736,     0.35836,     0.35936,\n",
       "           0.36036,     0.36136,     0.36236,     0.36336,     0.36436,     0.36537,     0.36637,     0.36737,     0.36837,     0.36937,     0.37037,     0.37137,     0.37237,     0.37337,     0.37437,     0.37538,     0.37638,     0.37738,     0.37838,     0.37938,     0.38038,     0.38138,     0.38238,     0.38338,\n",
       "           0.38438,     0.38539,     0.38639,     0.38739,     0.38839,     0.38939,     0.39039,     0.39139,     0.39239,     0.39339,     0.39439,      0.3954,      0.3964,      0.3974,      0.3984,      0.3994,      0.4004,      0.4014,      0.4024,      0.4034,      0.4044,     0.40541,     0.40641,     0.40741,\n",
       "           0.40841,     0.40941,     0.41041,     0.41141,     0.41241,     0.41341,     0.41441,     0.41542,     0.41642,     0.41742,     0.41842,     0.41942,     0.42042,     0.42142,     0.42242,     0.42342,     0.42442,     0.42543,     0.42643,     0.42743,     0.42843,     0.42943,     0.43043,     0.43143,\n",
       "           0.43243,     0.43343,     0.43443,     0.43544,     0.43644,     0.43744,     0.43844,     0.43944,     0.44044,     0.44144,     0.44244,     0.44344,     0.44444,     0.44545,     0.44645,     0.44745,     0.44845,     0.44945,     0.45045,     0.45145,     0.45245,     0.45345,     0.45445,     0.45546,\n",
       "           0.45646,     0.45746,     0.45846,     0.45946,     0.46046,     0.46146,     0.46246,     0.46346,     0.46446,     0.46547,     0.46647,     0.46747,     0.46847,     0.46947,     0.47047,     0.47147,     0.47247,     0.47347,     0.47447,     0.47548,     0.47648,     0.47748,     0.47848,     0.47948,\n",
       "           0.48048,     0.48148,     0.48248,     0.48348,     0.48448,     0.48549,     0.48649,     0.48749,     0.48849,     0.48949,     0.49049,     0.49149,     0.49249,     0.49349,     0.49449,      0.4955,      0.4965,      0.4975,      0.4985,      0.4995,      0.5005,      0.5015,      0.5025,      0.5035,\n",
       "            0.5045,     0.50551,     0.50651,     0.50751,     0.50851,     0.50951,     0.51051,     0.51151,     0.51251,     0.51351,     0.51451,     0.51552,     0.51652,     0.51752,     0.51852,     0.51952,     0.52052,     0.52152,     0.52252,     0.52352,     0.52452,     0.52553,     0.52653,     0.52753,\n",
       "           0.52853,     0.52953,     0.53053,     0.53153,     0.53253,     0.53353,     0.53453,     0.53554,     0.53654,     0.53754,     0.53854,     0.53954,     0.54054,     0.54154,     0.54254,     0.54354,     0.54454,     0.54555,     0.54655,     0.54755,     0.54855,     0.54955,     0.55055,     0.55155,\n",
       "           0.55255,     0.55355,     0.55455,     0.55556,     0.55656,     0.55756,     0.55856,     0.55956,     0.56056,     0.56156,     0.56256,     0.56356,     0.56456,     0.56557,     0.56657,     0.56757,     0.56857,     0.56957,     0.57057,     0.57157,     0.57257,     0.57357,     0.57457,     0.57558,\n",
       "           0.57658,     0.57758,     0.57858,     0.57958,     0.58058,     0.58158,     0.58258,     0.58358,     0.58458,     0.58559,     0.58659,     0.58759,     0.58859,     0.58959,     0.59059,     0.59159,     0.59259,     0.59359,     0.59459,      0.5956,      0.5966,      0.5976,      0.5986,      0.5996,\n",
       "            0.6006,      0.6016,      0.6026,      0.6036,      0.6046,     0.60561,     0.60661,     0.60761,     0.60861,     0.60961,     0.61061,     0.61161,     0.61261,     0.61361,     0.61461,     0.61562,     0.61662,     0.61762,     0.61862,     0.61962,     0.62062,     0.62162,     0.62262,     0.62362,\n",
       "           0.62462,     0.62563,     0.62663,     0.62763,     0.62863,     0.62963,     0.63063,     0.63163,     0.63263,     0.63363,     0.63463,     0.63564,     0.63664,     0.63764,     0.63864,     0.63964,     0.64064,     0.64164,     0.64264,     0.64364,     0.64464,     0.64565,     0.64665,     0.64765,\n",
       "           0.64865,     0.64965,     0.65065,     0.65165,     0.65265,     0.65365,     0.65465,     0.65566,     0.65666,     0.65766,     0.65866,     0.65966,     0.66066,     0.66166,     0.66266,     0.66366,     0.66466,     0.66567,     0.66667,     0.66767,     0.66867,     0.66967,     0.67067,     0.67167,\n",
       "           0.67267,     0.67367,     0.67467,     0.67568,     0.67668,     0.67768,     0.67868,     0.67968,     0.68068,     0.68168,     0.68268,     0.68368,     0.68468,     0.68569,     0.68669,     0.68769,     0.68869,     0.68969,     0.69069,     0.69169,     0.69269,     0.69369,     0.69469,      0.6957,\n",
       "            0.6967,      0.6977,      0.6987,      0.6997,      0.7007,      0.7017,      0.7027,      0.7037,      0.7047,     0.70571,     0.70671,     0.70771,     0.70871,     0.70971,     0.71071,     0.71171,     0.71271,     0.71371,     0.71471,     0.71572,     0.71672,     0.71772,     0.71872,     0.71972,\n",
       "           0.72072,     0.72172,     0.72272,     0.72372,     0.72472,     0.72573,     0.72673,     0.72773,     0.72873,     0.72973,     0.73073,     0.73173,     0.73273,     0.73373,     0.73473,     0.73574,     0.73674,     0.73774,     0.73874,     0.73974,     0.74074,     0.74174,     0.74274,     0.74374,\n",
       "           0.74474,     0.74575,     0.74675,     0.74775,     0.74875,     0.74975,     0.75075,     0.75175,     0.75275,     0.75375,     0.75475,     0.75576,     0.75676,     0.75776,     0.75876,     0.75976,     0.76076,     0.76176,     0.76276,     0.76376,     0.76476,     0.76577,     0.76677,     0.76777,\n",
       "           0.76877,     0.76977,     0.77077,     0.77177,     0.77277,     0.77377,     0.77477,     0.77578,     0.77678,     0.77778,     0.77878,     0.77978,     0.78078,     0.78178,     0.78278,     0.78378,     0.78478,     0.78579,     0.78679,     0.78779,     0.78879,     0.78979,     0.79079,     0.79179,\n",
       "           0.79279,     0.79379,     0.79479,      0.7958,      0.7968,      0.7978,      0.7988,      0.7998,      0.8008,      0.8018,      0.8028,      0.8038,      0.8048,     0.80581,     0.80681,     0.80781,     0.80881,     0.80981,     0.81081,     0.81181,     0.81281,     0.81381,     0.81481,     0.81582,\n",
       "           0.81682,     0.81782,     0.81882,     0.81982,     0.82082,     0.82182,     0.82282,     0.82382,     0.82482,     0.82583,     0.82683,     0.82783,     0.82883,     0.82983,     0.83083,     0.83183,     0.83283,     0.83383,     0.83483,     0.83584,     0.83684,     0.83784,     0.83884,     0.83984,\n",
       "           0.84084,     0.84184,     0.84284,     0.84384,     0.84484,     0.84585,     0.84685,     0.84785,     0.84885,     0.84985,     0.85085,     0.85185,     0.85285,     0.85385,     0.85485,     0.85586,     0.85686,     0.85786,     0.85886,     0.85986,     0.86086,     0.86186,     0.86286,     0.86386,\n",
       "           0.86486,     0.86587,     0.86687,     0.86787,     0.86887,     0.86987,     0.87087,     0.87187,     0.87287,     0.87387,     0.87487,     0.87588,     0.87688,     0.87788,     0.87888,     0.87988,     0.88088,     0.88188,     0.88288,     0.88388,     0.88488,     0.88589,     0.88689,     0.88789,\n",
       "           0.88889,     0.88989,     0.89089,     0.89189,     0.89289,     0.89389,     0.89489,      0.8959,      0.8969,      0.8979,      0.8989,      0.8999,      0.9009,      0.9019,      0.9029,      0.9039,      0.9049,     0.90591,     0.90691,     0.90791,     0.90891,     0.90991,     0.91091,     0.91191,\n",
       "           0.91291,     0.91391,     0.91491,     0.91592,     0.91692,     0.91792,     0.91892,     0.91992,     0.92092,     0.92192,     0.92292,     0.92392,     0.92492,     0.92593,     0.92693,     0.92793,     0.92893,     0.92993,     0.93093,     0.93193,     0.93293,     0.93393,     0.93493,     0.93594,\n",
       "           0.93694,     0.93794,     0.93894,     0.93994,     0.94094,     0.94194,     0.94294,     0.94394,     0.94494,     0.94595,     0.94695,     0.94795,     0.94895,     0.94995,     0.95095,     0.95195,     0.95295,     0.95395,     0.95495,     0.95596,     0.95696,     0.95796,     0.95896,     0.95996,\n",
       "           0.96096,     0.96196,     0.96296,     0.96396,     0.96496,     0.96597,     0.96697,     0.96797,     0.96897,     0.96997,     0.97097,     0.97197,     0.97297,     0.97397,     0.97497,     0.97598,     0.97698,     0.97798,     0.97898,     0.97998,     0.98098,     0.98198,     0.98298,     0.98398,\n",
       "           0.98498,     0.98599,     0.98699,     0.98799,     0.98899,     0.98999,     0.99099,     0.99199,     0.99299,     0.99399,     0.99499,       0.996,       0.997,       0.998,       0.999,           1]), array([[          1,           1,           1,           1,           1,           1,           1,           1,           1,           1,           1,           1,           1,           1,           1,           1,           1,           1,           1,           1,           1,           1,           1,\n",
       "                  1,           1,           1,           1,           1,           1,           1,           1,           1,           1,           1,           1,           1,           1,           1,           1,           1,           1,           1,           1,           1,           1,           1,\n",
       "                  1,           1,           1,           1,           1,           1,           1,           1,           1,           1,           1,           1,           1,           1,           1,           1,           1,           1,           1,           1,           1,           1,           1,\n",
       "                  1,           1,           1,           1,           1,           1,           1,           1,           1,           1,           1,           1,           1,           1,           1,           1,           1,           1,           1,           1,           1,           1,           1,\n",
       "                  1,           1,           1,           1,           1,           1,           1,           1,           1,           1,           1,           1,           1,           1,           1,           1,           1,           1,           1,           1,           1,           1,           1,\n",
       "                  1,           1,           1,           1,           1,           1,           1,           1,           1,           1,           1,           1,           1,           1,           1,           1,           1,           1,           1,           1,           1,           1,           1,\n",
       "                  1,           1,           1,           1,           1,           1,           1,           1,           1,           1,           1,           1,           1,           1,           1,           1,           1,           1,           1,           1,           1,           1,           1,\n",
       "                  1,           1,           1,           1,           1,           1,           1,           1,           1,           1,           1,           1,           1,           1,           1,           1,           1,           1,           1,           1,           1,           1,           1,\n",
       "                  1,           1,           1,           1,           1,           1,           1,           1,           1,           1,           1,           1,           1,           1,           1,           1,           1,           1,           1,           1,           1,           1,           1,\n",
       "                  1,           1,           1,           1,           1,           1,           1,           1,           1,           1,           1,           1,           1,           1,           1,           1,           1,           1,           1,           1,           1,           1,           1,\n",
       "                  1,           1,           1,           1,           1,           1,           1,           1,           1,           1,           1,           1,           1,           1,           1,           1,           1,           1,           1,           1,           1,           1,           1,\n",
       "                  1,           1,           1,           1,           1,           1,           1,           1,           1,           1,           1,           1,           1,           1,           1,           1,           1,           1,           1,           1,           1,           1,           1,\n",
       "                  1,           1,           1,           1,           1,           1,           1,           1,           1,           1,           1,           1,           1,           1,           1,           1,           1,           1,           1,           1,           1,           1,           1,\n",
       "                  1,           1,           1,           1,           1,           1,           1,           1,           1,           1,           1,           1,           1,           1,           1,           1,           1,           1,           1,           1,           1,           1,           1,\n",
       "                  1,           1,           1,           1,           1,           1,           1,           1,           1,           1,           1,           1,           1,           1,           1,           1,           1,           1,           1,           1,           1,           1,           1,\n",
       "                  1,           1,           1,           1,           1,           1,           1,           1,           1,           1,           1,           1,           1,           1,           1,           1,           1,           1,           1,           1,           1,           1,           1,\n",
       "                  1,           1,           1,           1,           1,           1,           1,           1,           1,           1,           1,           1,           1,           1,           1,           1,           1,           1,           1,           1,           1,           1,           1,\n",
       "                  1,           1,           1,           1,           1,           1,           1,           1,           1,           1,           1,           1,           1,           1,           1,           1,           1,           1,           1,           1,           1,           1,           1,\n",
       "                  1,           1,           1,           1,           1,           1,           1,           1,           1,           1,           1,           1,           1,           1,           1,           1,           1,           1,           1,           1,           1,           1,           1,\n",
       "                  1,           1,           1,           1,           1,           1,           1,           1,           1,           1,           1,           1,           1,           1,           1,           1,           1,           1,           1,           1,           1,           1,           1,\n",
       "                  1,           1,           1,           1,           1,           1,           1,           1,           1,           1,           1,           1,           1,           1,           1,           1,           1,           1,           1,           1,           1,           1,           1,\n",
       "                  1,           1,           1,           1,           1,           1,           1,           1,           1,           1,           1,           1,           1,           1,           1,           1,           1,           1,           1,           1,           1,           1,           1,\n",
       "                  1,           1,           1,           1,           1,           1,           1,           1,           1,           1,           1,           1,           1,           1,           1,           1,           1,           1,           1,           1,           1,           1,           1,\n",
       "                  1,           1,           1,           1,           1,           1,           1,           1,           1,           1,           1,           1,           1,           1,           1,           1,           1,           1,           1,           1,           1,           1,           1,\n",
       "                  1,           1,           1,           1,           1,           1,           1,           1,           1,           1,           1,           1,           1,           1,           1,           1,           1,           1,           1,           1,           1,           1,           1,\n",
       "                  1,           1,           1,           1,           1,           1,           1,           1,           1,           1,           1,           1,           1,           1,           1,           1,           1,           1,           1,           1,           1,           1,           1,\n",
       "                  1,           1,           1,           1,           1,           1,           1,           1,           1,           1,           1,           1,           1,           1,           1,           1,           1,           1,           1,           1,           1,           1,           1,\n",
       "                  1,           1,           1,           1,           1,           1,           1,           1,           1,           1,           1,           1,           1,           1,           1,           1,           1,           1,           1,           1,           1,           1,           1,\n",
       "                  1,           1,           1,           1,           1,           1,           1,           1,           1,           1,           1,           1,           1,           1,           1,           1,           1,           1,           1,           1,           1,           1,           1,\n",
       "                  1,           1,           1,           1,           1,           1,           1,           1,           1,           1,           1,           1,           1,           1,           1,           1,           1,           1,           1,           1,           1,           1,           1,\n",
       "                  1,           1,           1,           1,           1,           1,           1,           1,           1,           1,           1,           1,           1,           1,           1,           1,           1,           1,           1,           1,           1,           1,           1,\n",
       "                  1,           1,           1,           1,           1,           1,           1,           1,           1,           1,           1,           1,           1,           1,           1,           1,           1,           1,           1,           1,           1,           1,           1,\n",
       "                  1,           1,           1,           1,           1,           1,           1,           1,           1,           1,           1,           1,           1,           1,           1,           1,           1,           1,           1,           1,           1,           1,           1,\n",
       "                  1,           1,           1,           1,           1,           1,           1,           1,           1,           1,           1,           1,           1,           1,           1,           1,           1,           1,           1,           1,           1,           1,           1,\n",
       "                  1,           1,           1,           1,           1,           1,           1,           1,           1,           1,           1,           1,           1,           1,           1,           1,           1,           1,           1,           1,           1,           1,     0.97959,\n",
       "            0.97959,     0.97959,     0.97959,     0.97959,     0.97959,     0.97959,     0.97959,     0.97959,     0.97959,     0.97959,     0.97959,     0.97959,     0.97959,     0.97959,     0.97959,     0.97959,     0.97959,     0.97959,     0.97959,     0.97959,     0.97959,     0.97959,     0.97959,\n",
       "            0.97959,     0.97959,     0.97959,     0.97959,     0.97959,     0.97959,     0.97959,     0.97959,     0.97959,     0.97959,     0.97959,     0.97959,     0.97959,     0.97959,     0.97959,     0.97959,     0.97959,     0.97959,     0.97959,     0.97959,     0.97959,     0.97959,     0.97959,\n",
       "            0.97959,     0.97959,     0.97959,     0.97959,     0.97959,     0.97959,     0.97959,     0.97959,     0.97959,     0.97959,     0.97959,     0.97959,     0.97959,     0.97959,     0.97959,     0.97959,     0.97959,     0.97959,     0.97959,     0.97959,     0.97959,     0.97959,     0.97959,\n",
       "            0.97959,     0.97959,     0.97959,     0.97959,     0.97959,     0.97959,     0.97959,     0.97959,     0.97959,     0.97959,     0.97959,     0.97959,     0.97959,     0.97959,     0.97959,     0.97959,     0.97959,     0.97959,     0.97959,     0.97959,     0.97959,     0.97959,     0.97959,\n",
       "            0.97959,     0.97959,     0.97959,     0.97959,     0.97959,     0.97959,     0.97959,     0.97959,     0.97959,     0.97959,     0.97959,     0.97959,     0.97959,     0.97959,     0.97959,     0.97959,     0.97959,     0.97959,     0.97959,     0.97959,     0.97959,     0.97959,     0.97959,\n",
       "            0.97959,     0.97959,     0.97959,     0.97959,     0.97959,     0.97959,     0.97959,     0.97959,     0.97959,     0.97959,     0.97959,     0.97959,     0.97959,     0.97959,     0.97959,     0.97959,     0.97959,     0.97959,     0.97959,     0.97959,     0.97959,     0.96078,     0.96078,\n",
       "            0.96078,     0.96078,     0.96078,     0.96078,     0.96078,     0.96078,     0.96078,     0.96078,     0.96078,     0.96078,     0.96078,     0.96078,     0.96078,     0.96078,     0.96078,     0.96078,     0.96078,      0.9434,      0.9434,      0.9434,      0.9434,      0.9434,      0.9434,\n",
       "             0.9434,      0.9434,      0.9434,      0.9434,      0.9434,      0.9434,      0.9434,      0.9434,      0.9434,      0.9434,      0.9434,      0.9434,      0.9434,      0.9434,     0.89474,     0.89474,     0.89474,     0.89474,     0.89474,     0.89474,     0.89474,     0.89474,     0.89474,\n",
       "            0.89474,     0.89474,     0.89474,     0.89474,     0.89474,     0.89474,     0.89474,     0.89474,     0.89474,     0.89474,           0]]), 'Recall', 'Precision'], [array([          0,    0.001001,    0.002002,    0.003003,    0.004004,    0.005005,    0.006006,    0.007007,    0.008008,    0.009009,     0.01001,    0.011011,    0.012012,    0.013013,    0.014014,    0.015015,    0.016016,    0.017017,    0.018018,    0.019019,     0.02002,    0.021021,    0.022022,    0.023023,\n",
       "          0.024024,    0.025025,    0.026026,    0.027027,    0.028028,    0.029029,     0.03003,    0.031031,    0.032032,    0.033033,    0.034034,    0.035035,    0.036036,    0.037037,    0.038038,    0.039039,     0.04004,    0.041041,    0.042042,    0.043043,    0.044044,    0.045045,    0.046046,    0.047047,\n",
       "          0.048048,    0.049049,     0.05005,    0.051051,    0.052052,    0.053053,    0.054054,    0.055055,    0.056056,    0.057057,    0.058058,    0.059059,     0.06006,    0.061061,    0.062062,    0.063063,    0.064064,    0.065065,    0.066066,    0.067067,    0.068068,    0.069069,     0.07007,    0.071071,\n",
       "          0.072072,    0.073073,    0.074074,    0.075075,    0.076076,    0.077077,    0.078078,    0.079079,     0.08008,    0.081081,    0.082082,    0.083083,    0.084084,    0.085085,    0.086086,    0.087087,    0.088088,    0.089089,     0.09009,    0.091091,    0.092092,    0.093093,    0.094094,    0.095095,\n",
       "          0.096096,    0.097097,    0.098098,    0.099099,      0.1001,      0.1011,      0.1021,      0.1031,      0.1041,     0.10511,     0.10611,     0.10711,     0.10811,     0.10911,     0.11011,     0.11111,     0.11211,     0.11311,     0.11411,     0.11512,     0.11612,     0.11712,     0.11812,     0.11912,\n",
       "           0.12012,     0.12112,     0.12212,     0.12312,     0.12412,     0.12513,     0.12613,     0.12713,     0.12813,     0.12913,     0.13013,     0.13113,     0.13213,     0.13313,     0.13413,     0.13514,     0.13614,     0.13714,     0.13814,     0.13914,     0.14014,     0.14114,     0.14214,     0.14314,\n",
       "           0.14414,     0.14515,     0.14615,     0.14715,     0.14815,     0.14915,     0.15015,     0.15115,     0.15215,     0.15315,     0.15415,     0.15516,     0.15616,     0.15716,     0.15816,     0.15916,     0.16016,     0.16116,     0.16216,     0.16316,     0.16416,     0.16517,     0.16617,     0.16717,\n",
       "           0.16817,     0.16917,     0.17017,     0.17117,     0.17217,     0.17317,     0.17417,     0.17518,     0.17618,     0.17718,     0.17818,     0.17918,     0.18018,     0.18118,     0.18218,     0.18318,     0.18418,     0.18519,     0.18619,     0.18719,     0.18819,     0.18919,     0.19019,     0.19119,\n",
       "           0.19219,     0.19319,     0.19419,      0.1952,      0.1962,      0.1972,      0.1982,      0.1992,      0.2002,      0.2012,      0.2022,      0.2032,      0.2042,     0.20521,     0.20621,     0.20721,     0.20821,     0.20921,     0.21021,     0.21121,     0.21221,     0.21321,     0.21421,     0.21522,\n",
       "           0.21622,     0.21722,     0.21822,     0.21922,     0.22022,     0.22122,     0.22222,     0.22322,     0.22422,     0.22523,     0.22623,     0.22723,     0.22823,     0.22923,     0.23023,     0.23123,     0.23223,     0.23323,     0.23423,     0.23524,     0.23624,     0.23724,     0.23824,     0.23924,\n",
       "           0.24024,     0.24124,     0.24224,     0.24324,     0.24424,     0.24525,     0.24625,     0.24725,     0.24825,     0.24925,     0.25025,     0.25125,     0.25225,     0.25325,     0.25425,     0.25526,     0.25626,     0.25726,     0.25826,     0.25926,     0.26026,     0.26126,     0.26226,     0.26326,\n",
       "           0.26426,     0.26527,     0.26627,     0.26727,     0.26827,     0.26927,     0.27027,     0.27127,     0.27227,     0.27327,     0.27427,     0.27528,     0.27628,     0.27728,     0.27828,     0.27928,     0.28028,     0.28128,     0.28228,     0.28328,     0.28428,     0.28529,     0.28629,     0.28729,\n",
       "           0.28829,     0.28929,     0.29029,     0.29129,     0.29229,     0.29329,     0.29429,      0.2953,      0.2963,      0.2973,      0.2983,      0.2993,      0.3003,      0.3013,      0.3023,      0.3033,      0.3043,     0.30531,     0.30631,     0.30731,     0.30831,     0.30931,     0.31031,     0.31131,\n",
       "           0.31231,     0.31331,     0.31431,     0.31532,     0.31632,     0.31732,     0.31832,     0.31932,     0.32032,     0.32132,     0.32232,     0.32332,     0.32432,     0.32533,     0.32633,     0.32733,     0.32833,     0.32933,     0.33033,     0.33133,     0.33233,     0.33333,     0.33433,     0.33534,\n",
       "           0.33634,     0.33734,     0.33834,     0.33934,     0.34034,     0.34134,     0.34234,     0.34334,     0.34434,     0.34535,     0.34635,     0.34735,     0.34835,     0.34935,     0.35035,     0.35135,     0.35235,     0.35335,     0.35435,     0.35536,     0.35636,     0.35736,     0.35836,     0.35936,\n",
       "           0.36036,     0.36136,     0.36236,     0.36336,     0.36436,     0.36537,     0.36637,     0.36737,     0.36837,     0.36937,     0.37037,     0.37137,     0.37237,     0.37337,     0.37437,     0.37538,     0.37638,     0.37738,     0.37838,     0.37938,     0.38038,     0.38138,     0.38238,     0.38338,\n",
       "           0.38438,     0.38539,     0.38639,     0.38739,     0.38839,     0.38939,     0.39039,     0.39139,     0.39239,     0.39339,     0.39439,      0.3954,      0.3964,      0.3974,      0.3984,      0.3994,      0.4004,      0.4014,      0.4024,      0.4034,      0.4044,     0.40541,     0.40641,     0.40741,\n",
       "           0.40841,     0.40941,     0.41041,     0.41141,     0.41241,     0.41341,     0.41441,     0.41542,     0.41642,     0.41742,     0.41842,     0.41942,     0.42042,     0.42142,     0.42242,     0.42342,     0.42442,     0.42543,     0.42643,     0.42743,     0.42843,     0.42943,     0.43043,     0.43143,\n",
       "           0.43243,     0.43343,     0.43443,     0.43544,     0.43644,     0.43744,     0.43844,     0.43944,     0.44044,     0.44144,     0.44244,     0.44344,     0.44444,     0.44545,     0.44645,     0.44745,     0.44845,     0.44945,     0.45045,     0.45145,     0.45245,     0.45345,     0.45445,     0.45546,\n",
       "           0.45646,     0.45746,     0.45846,     0.45946,     0.46046,     0.46146,     0.46246,     0.46346,     0.46446,     0.46547,     0.46647,     0.46747,     0.46847,     0.46947,     0.47047,     0.47147,     0.47247,     0.47347,     0.47447,     0.47548,     0.47648,     0.47748,     0.47848,     0.47948,\n",
       "           0.48048,     0.48148,     0.48248,     0.48348,     0.48448,     0.48549,     0.48649,     0.48749,     0.48849,     0.48949,     0.49049,     0.49149,     0.49249,     0.49349,     0.49449,      0.4955,      0.4965,      0.4975,      0.4985,      0.4995,      0.5005,      0.5015,      0.5025,      0.5035,\n",
       "            0.5045,     0.50551,     0.50651,     0.50751,     0.50851,     0.50951,     0.51051,     0.51151,     0.51251,     0.51351,     0.51451,     0.51552,     0.51652,     0.51752,     0.51852,     0.51952,     0.52052,     0.52152,     0.52252,     0.52352,     0.52452,     0.52553,     0.52653,     0.52753,\n",
       "           0.52853,     0.52953,     0.53053,     0.53153,     0.53253,     0.53353,     0.53453,     0.53554,     0.53654,     0.53754,     0.53854,     0.53954,     0.54054,     0.54154,     0.54254,     0.54354,     0.54454,     0.54555,     0.54655,     0.54755,     0.54855,     0.54955,     0.55055,     0.55155,\n",
       "           0.55255,     0.55355,     0.55455,     0.55556,     0.55656,     0.55756,     0.55856,     0.55956,     0.56056,     0.56156,     0.56256,     0.56356,     0.56456,     0.56557,     0.56657,     0.56757,     0.56857,     0.56957,     0.57057,     0.57157,     0.57257,     0.57357,     0.57457,     0.57558,\n",
       "           0.57658,     0.57758,     0.57858,     0.57958,     0.58058,     0.58158,     0.58258,     0.58358,     0.58458,     0.58559,     0.58659,     0.58759,     0.58859,     0.58959,     0.59059,     0.59159,     0.59259,     0.59359,     0.59459,      0.5956,      0.5966,      0.5976,      0.5986,      0.5996,\n",
       "            0.6006,      0.6016,      0.6026,      0.6036,      0.6046,     0.60561,     0.60661,     0.60761,     0.60861,     0.60961,     0.61061,     0.61161,     0.61261,     0.61361,     0.61461,     0.61562,     0.61662,     0.61762,     0.61862,     0.61962,     0.62062,     0.62162,     0.62262,     0.62362,\n",
       "           0.62462,     0.62563,     0.62663,     0.62763,     0.62863,     0.62963,     0.63063,     0.63163,     0.63263,     0.63363,     0.63463,     0.63564,     0.63664,     0.63764,     0.63864,     0.63964,     0.64064,     0.64164,     0.64264,     0.64364,     0.64464,     0.64565,     0.64665,     0.64765,\n",
       "           0.64865,     0.64965,     0.65065,     0.65165,     0.65265,     0.65365,     0.65465,     0.65566,     0.65666,     0.65766,     0.65866,     0.65966,     0.66066,     0.66166,     0.66266,     0.66366,     0.66466,     0.66567,     0.66667,     0.66767,     0.66867,     0.66967,     0.67067,     0.67167,\n",
       "           0.67267,     0.67367,     0.67467,     0.67568,     0.67668,     0.67768,     0.67868,     0.67968,     0.68068,     0.68168,     0.68268,     0.68368,     0.68468,     0.68569,     0.68669,     0.68769,     0.68869,     0.68969,     0.69069,     0.69169,     0.69269,     0.69369,     0.69469,      0.6957,\n",
       "            0.6967,      0.6977,      0.6987,      0.6997,      0.7007,      0.7017,      0.7027,      0.7037,      0.7047,     0.70571,     0.70671,     0.70771,     0.70871,     0.70971,     0.71071,     0.71171,     0.71271,     0.71371,     0.71471,     0.71572,     0.71672,     0.71772,     0.71872,     0.71972,\n",
       "           0.72072,     0.72172,     0.72272,     0.72372,     0.72472,     0.72573,     0.72673,     0.72773,     0.72873,     0.72973,     0.73073,     0.73173,     0.73273,     0.73373,     0.73473,     0.73574,     0.73674,     0.73774,     0.73874,     0.73974,     0.74074,     0.74174,     0.74274,     0.74374,\n",
       "           0.74474,     0.74575,     0.74675,     0.74775,     0.74875,     0.74975,     0.75075,     0.75175,     0.75275,     0.75375,     0.75475,     0.75576,     0.75676,     0.75776,     0.75876,     0.75976,     0.76076,     0.76176,     0.76276,     0.76376,     0.76476,     0.76577,     0.76677,     0.76777,\n",
       "           0.76877,     0.76977,     0.77077,     0.77177,     0.77277,     0.77377,     0.77477,     0.77578,     0.77678,     0.77778,     0.77878,     0.77978,     0.78078,     0.78178,     0.78278,     0.78378,     0.78478,     0.78579,     0.78679,     0.78779,     0.78879,     0.78979,     0.79079,     0.79179,\n",
       "           0.79279,     0.79379,     0.79479,      0.7958,      0.7968,      0.7978,      0.7988,      0.7998,      0.8008,      0.8018,      0.8028,      0.8038,      0.8048,     0.80581,     0.80681,     0.80781,     0.80881,     0.80981,     0.81081,     0.81181,     0.81281,     0.81381,     0.81481,     0.81582,\n",
       "           0.81682,     0.81782,     0.81882,     0.81982,     0.82082,     0.82182,     0.82282,     0.82382,     0.82482,     0.82583,     0.82683,     0.82783,     0.82883,     0.82983,     0.83083,     0.83183,     0.83283,     0.83383,     0.83483,     0.83584,     0.83684,     0.83784,     0.83884,     0.83984,\n",
       "           0.84084,     0.84184,     0.84284,     0.84384,     0.84484,     0.84585,     0.84685,     0.84785,     0.84885,     0.84985,     0.85085,     0.85185,     0.85285,     0.85385,     0.85485,     0.85586,     0.85686,     0.85786,     0.85886,     0.85986,     0.86086,     0.86186,     0.86286,     0.86386,\n",
       "           0.86486,     0.86587,     0.86687,     0.86787,     0.86887,     0.86987,     0.87087,     0.87187,     0.87287,     0.87387,     0.87487,     0.87588,     0.87688,     0.87788,     0.87888,     0.87988,     0.88088,     0.88188,     0.88288,     0.88388,     0.88488,     0.88589,     0.88689,     0.88789,\n",
       "           0.88889,     0.88989,     0.89089,     0.89189,     0.89289,     0.89389,     0.89489,      0.8959,      0.8969,      0.8979,      0.8989,      0.8999,      0.9009,      0.9019,      0.9029,      0.9039,      0.9049,     0.90591,     0.90691,     0.90791,     0.90891,     0.90991,     0.91091,     0.91191,\n",
       "           0.91291,     0.91391,     0.91491,     0.91592,     0.91692,     0.91792,     0.91892,     0.91992,     0.92092,     0.92192,     0.92292,     0.92392,     0.92492,     0.92593,     0.92693,     0.92793,     0.92893,     0.92993,     0.93093,     0.93193,     0.93293,     0.93393,     0.93493,     0.93594,\n",
       "           0.93694,     0.93794,     0.93894,     0.93994,     0.94094,     0.94194,     0.94294,     0.94394,     0.94494,     0.94595,     0.94695,     0.94795,     0.94895,     0.94995,     0.95095,     0.95195,     0.95295,     0.95395,     0.95495,     0.95596,     0.95696,     0.95796,     0.95896,     0.95996,\n",
       "           0.96096,     0.96196,     0.96296,     0.96396,     0.96496,     0.96597,     0.96697,     0.96797,     0.96897,     0.96997,     0.97097,     0.97197,     0.97297,     0.97397,     0.97497,     0.97598,     0.97698,     0.97798,     0.97898,     0.97998,     0.98098,     0.98198,     0.98298,     0.98398,\n",
       "           0.98498,     0.98599,     0.98699,     0.98799,     0.98899,     0.98999,     0.99099,     0.99199,     0.99299,     0.99399,     0.99499,       0.996,       0.997,       0.998,       0.999,           1]), array([[    0.59649,     0.59649,      0.6235,     0.66622,     0.68115,     0.68427,     0.70289,     0.71393,     0.71698,     0.73465,      0.7518,     0.76184,     0.76864,     0.77202,     0.78605,     0.79043,     0.79791,      0.8004,     0.80288,     0.80491,     0.80689,     0.80885,     0.82321,\n",
       "            0.82977,     0.83196,     0.83414,     0.83722,     0.84777,     0.85066,     0.85149,     0.85231,     0.85313,     0.85395,     0.85477,     0.85558,      0.8564,     0.85741,     0.86047,     0.86352,     0.87256,     0.88159,     0.88709,     0.88942,     0.89174,     0.89405,     0.89736,\n",
       "            0.90106,     0.90867,      0.9121,     0.91382,     0.91554,     0.91725,     0.91894,     0.92021,     0.92148,     0.92275,     0.92401,     0.92527,     0.92653,     0.92892,     0.93297,     0.93614,     0.93734,     0.93853,     0.93972,     0.94091,      0.9421,     0.94328,     0.94444,\n",
       "            0.94405,     0.94366,     0.94327,     0.94289,      0.9425,     0.94211,     0.94172,     0.94133,     0.94094,     0.94055,     0.94016,     0.93977,     0.93938,     0.93899,     0.93859,      0.9382,     0.93781,     0.93742,     0.93703,     0.93664,     0.93624,     0.93585,     0.93546,\n",
       "            0.93506,     0.93467,     0.93509,     0.93576,     0.93642,     0.93708,     0.93775,     0.93841,     0.93907,     0.93973,     0.94039,     0.94105,      0.9417,     0.94236,     0.94301,     0.94373,     0.94452,      0.9453,     0.94609,     0.94688,     0.94766,     0.94845,     0.94923,\n",
       "            0.95001,     0.95079,     0.95157,     0.95235,     0.95358,     0.95484,      0.9561,     0.95735,      0.9586,     0.95985,     0.96109,     0.96148,     0.96138,     0.96129,     0.96119,      0.9611,       0.961,      0.9609,     0.96081,     0.96071,     0.96062,     0.96052,     0.96043,\n",
       "            0.96033,     0.96023,     0.96014,     0.96004,     0.95995,     0.95985,     0.95976,     0.95966,     0.95956,     0.95947,     0.95937,     0.95928,     0.95918,     0.95908,     0.95899,     0.95889,      0.9588,      0.9587,      0.9586,     0.95851,     0.95841,     0.95832,     0.95822,\n",
       "            0.95812,     0.95803,     0.95793,     0.95784,     0.95774,     0.95764,     0.95755,     0.95745,     0.95735,     0.95726,     0.95716,     0.95707,     0.95697,     0.95687,     0.95678,     0.95668,     0.95658,     0.95649,     0.95639,      0.9563,      0.9562,      0.9561,     0.95601,\n",
       "            0.95591,     0.95581,     0.95572,     0.95562,     0.95552,     0.95543,     0.95533,     0.95523,     0.95514,     0.95504,     0.95494,     0.95485,     0.95475,     0.95465,     0.95456,     0.95446,     0.95436,     0.95427,     0.95417,     0.95407,     0.95398,     0.95388,     0.95378,\n",
       "            0.95369,     0.95359,     0.95349,      0.9534,      0.9533,      0.9532,     0.95311,     0.95301,     0.95291,     0.95281,     0.95272,     0.95262,     0.95252,     0.95243,     0.95233,     0.95223,     0.95214,     0.95204,     0.95194,     0.95184,     0.95175,     0.95165,     0.95155,\n",
       "            0.95146,     0.95149,     0.95153,     0.95157,     0.95161,     0.95165,     0.95168,     0.95172,     0.95176,      0.9518,     0.95184,     0.95187,     0.95191,     0.95195,     0.95199,     0.95203,     0.95206,      0.9521,     0.95214,     0.95218,     0.95222,     0.95225,     0.95229,\n",
       "            0.95233,     0.95237,      0.9524,     0.95244,     0.95248,     0.95252,     0.95256,     0.95259,     0.95263,     0.95267,     0.95271,     0.95275,     0.95278,     0.95282,     0.95286,      0.9529,     0.95294,     0.95297,     0.95301,     0.95305,     0.95309,     0.95312,     0.95316,\n",
       "             0.9532,     0.95324,     0.95328,     0.95331,     0.95335,     0.95339,     0.95343,     0.95346,      0.9535,     0.95354,     0.95358,     0.95362,     0.95365,     0.95369,     0.95373,     0.95377,     0.95381,     0.95384,     0.95388,     0.95392,     0.95396,     0.95399,     0.95403,\n",
       "            0.95407,     0.95411,     0.95415,     0.95418,     0.95422,     0.95426,      0.9543,     0.95433,     0.95437,     0.95441,     0.95445,     0.95448,     0.95452,     0.95456,      0.9546,     0.95464,     0.95467,     0.95471,     0.95475,     0.95479,     0.95482,     0.95486,      0.9549,\n",
       "            0.95494,     0.95498,     0.95501,     0.95505,     0.95509,     0.95513,     0.95516,      0.9552,     0.95524,     0.95528,     0.95531,     0.95535,     0.95539,     0.95543,     0.95546,      0.9555,     0.95554,     0.95558,     0.95562,     0.95565,     0.95569,     0.95573,     0.95577,\n",
       "             0.9558,     0.95584,     0.95588,     0.95592,     0.95595,     0.95599,     0.95603,     0.95607,      0.9561,     0.95614,     0.95618,     0.95622,     0.95626,     0.95629,     0.95633,     0.95637,     0.95641,     0.95644,     0.95648,     0.95652,     0.95656,     0.95659,     0.95663,\n",
       "            0.95667,     0.95671,     0.95674,     0.95678,     0.95682,     0.95686,     0.95689,     0.95693,     0.95697,     0.95701,     0.95704,     0.95708,     0.95712,     0.95716,     0.95719,     0.95723,     0.95727,     0.95731,     0.95734,     0.95738,     0.95742,     0.95746,     0.95749,\n",
       "            0.95753,     0.95757,     0.95761,     0.95764,     0.95768,     0.95772,     0.95776,     0.95779,     0.95783,     0.95787,     0.95791,     0.95794,     0.95798,     0.95802,     0.95806,     0.95809,     0.95813,     0.95817,     0.95821,     0.95824,     0.95828,     0.95832,     0.95836,\n",
       "            0.95839,     0.95843,     0.95847,     0.95851,     0.95854,     0.95858,     0.95862,     0.95866,     0.95869,     0.95873,     0.95877,      0.9588,     0.95884,     0.95888,     0.95892,     0.95895,     0.95899,     0.95903,     0.95907,      0.9591,     0.95914,     0.95918,     0.95922,\n",
       "            0.95925,     0.95929,     0.95933,     0.95937,      0.9594,     0.95944,     0.95948,     0.95951,     0.95955,     0.95959,     0.95963,     0.95966,      0.9597,     0.95974,     0.95978,     0.95981,     0.95985,     0.95989,     0.95993,     0.95996,        0.96,     0.96004,     0.96007,\n",
       "            0.96011,     0.96015,     0.96019,     0.96022,     0.96026,      0.9603,     0.96034,     0.96037,     0.96041,     0.96045,     0.96048,     0.96052,     0.96056,      0.9606,     0.96063,     0.96067,     0.96071,     0.96075,     0.96078,      0.9605,      0.9602,      0.9599,      0.9596,\n",
       "             0.9593,       0.959,      0.9587,      0.9584,      0.9581,      0.9578,      0.9575,      0.9572,      0.9569,      0.9566,      0.9563,       0.956,      0.9557,     0.95539,     0.95509,     0.95479,     0.95449,     0.95419,     0.95389,     0.95358,     0.95328,     0.95298,     0.95268,\n",
       "            0.95237,     0.95207,     0.95177,     0.95146,     0.95116,     0.95085,     0.95055,     0.95057,     0.95067,     0.95077,     0.95087,     0.95096,     0.95106,     0.95116,     0.95126,     0.95135,     0.95145,     0.95155,     0.95165,     0.95174,     0.95184,     0.95194,     0.95203,\n",
       "            0.95213,     0.95223,     0.95233,     0.95242,     0.95252,     0.95262,     0.95271,     0.95281,     0.95291,       0.953,      0.9531,      0.9532,      0.9533,     0.95339,     0.95349,     0.95359,     0.95368,     0.95378,     0.95388,     0.95397,     0.95407,     0.95417,     0.95426,\n",
       "            0.95436,     0.95446,     0.95455,     0.95465,     0.95475,     0.95484,     0.95494,     0.95504,     0.95513,     0.95523,     0.95532,     0.95542,     0.95552,     0.95561,     0.95571,     0.95581,      0.9559,       0.956,      0.9561,     0.95619,     0.95629,     0.95638,     0.95648,\n",
       "            0.95658,     0.95667,     0.95677,     0.95687,     0.95696,     0.95706,     0.95715,     0.95725,     0.95735,     0.95744,     0.95754,     0.95763,     0.95773,     0.95783,     0.95792,     0.95802,     0.95811,     0.95821,     0.95831,      0.9584,      0.9585,     0.95859,     0.95869,\n",
       "            0.95878,     0.95888,     0.95898,     0.95907,     0.95917,     0.95926,     0.95936,     0.95945,     0.95955,     0.95964,     0.95974,     0.95984,     0.95993,     0.95985,     0.95932,     0.95878,     0.95825,     0.95771,     0.95718,     0.95664,      0.9561,     0.95557,     0.95503,\n",
       "            0.95449,     0.95395,     0.95341,     0.95287,     0.95233,     0.95179,     0.95125,     0.95071,     0.95016,     0.94962,     0.94829,     0.94673,     0.94517,      0.9436,     0.94203,     0.94045,     0.93887,     0.93866,     0.93855,     0.93843,     0.93831,     0.93819,     0.93807,\n",
       "            0.93795,     0.93784,     0.93772,      0.9376,     0.93748,     0.93736,     0.93724,     0.93713,     0.93701,     0.93689,     0.93677,     0.93665,     0.93653,     0.93641,      0.9363,     0.93618,     0.93606,     0.93594,     0.93582,      0.9357,     0.93558,     0.93546,     0.93535,\n",
       "            0.93523,     0.93511,     0.93499,     0.93487,     0.93475,     0.93463,     0.93451,     0.93439,     0.93428,     0.93416,     0.93404,     0.93392,      0.9338,     0.93368,     0.93356,     0.93344,     0.93332,      0.9332,     0.93308,     0.93296,     0.93284,     0.93272,     0.93261,\n",
       "            0.93249,     0.93237,     0.93225,     0.93213,     0.93201,     0.93189,     0.93177,     0.93165,     0.93153,     0.93141,     0.93129,     0.93117,     0.93105,     0.93093,     0.93081,     0.93069,     0.93057,     0.93045,     0.93033,     0.93021,     0.93009,     0.92997,     0.92985,\n",
       "            0.92973,     0.92961,     0.92949,     0.92937,     0.92925,     0.92913,     0.92901,     0.92889,     0.92877,     0.92865,     0.92853,     0.92841,     0.92829,     0.92817,     0.92805,     0.92793,     0.92781,     0.92773,     0.92764,     0.92755,     0.92746,     0.92737,     0.92728,\n",
       "             0.9272,     0.92711,     0.92702,     0.92693,     0.92684,     0.92675,     0.92667,     0.92658,     0.92649,      0.9264,     0.92631,     0.92622,     0.92614,     0.92605,     0.92596,     0.92587,     0.92578,     0.92569,      0.9256,     0.92552,     0.92543,     0.92534,     0.92525,\n",
       "            0.92516,     0.92507,     0.92498,      0.9249,     0.92481,     0.92472,     0.92463,     0.92454,     0.92445,     0.92436,     0.92427,     0.92419,      0.9241,     0.92401,     0.92392,     0.92383,     0.92374,     0.92365,     0.92356,     0.92348,     0.92339,      0.9233,     0.92321,\n",
       "            0.92312,     0.92303,     0.92294,     0.92285,     0.92276,     0.92267,     0.92259,      0.9225,     0.92241,     0.92232,     0.92223,     0.92214,     0.92205,     0.92196,     0.92187,     0.92178,     0.92169,     0.92161,     0.92152,     0.92143,     0.92134,     0.92125,     0.92116,\n",
       "            0.92107,     0.92098,     0.92089,      0.9208,     0.92071,     0.92062,     0.92053,     0.92044,     0.92035,     0.92027,     0.92018,     0.92009,        0.92,     0.91991,     0.91982,     0.91973,     0.91964,     0.91955,     0.91946,     0.91937,     0.91928,     0.91919,      0.9191,\n",
       "            0.91901,     0.91892,     0.91883,     0.91874,     0.91865,     0.91856,     0.91847,     0.91838,      0.9183,     0.91821,     0.91812,     0.91803,     0.91794,     0.91785,     0.91776,     0.91767,     0.91758,     0.91749,      0.9174,     0.91731,     0.91722,     0.91713,     0.91704,\n",
       "            0.91695,     0.91686,     0.91677,     0.91668,     0.91615,     0.91555,     0.91496,     0.91436,     0.91377,     0.91317,     0.91257,     0.91197,     0.91138,     0.91078,     0.91018,     0.90958,     0.90897,     0.90837,     0.90777,     0.90717,     0.90656,     0.90596,     0.90535,\n",
       "            0.90383,     0.90213,     0.90043,     0.89873,     0.89702,      0.8953,     0.89358,     0.89185,     0.89012,     0.88838,     0.88664,     0.88489,     0.88314,     0.88189,     0.88275,     0.88361,     0.88447,     0.88533,     0.88619,     0.88704,     0.88789,     0.88874,     0.88959,\n",
       "            0.89044,     0.89128,     0.88786,      0.8843,     0.88071,     0.87853,     0.87748,     0.87642,     0.87536,      0.8743,     0.87324,     0.87218,     0.87111,     0.87004,     0.86897,      0.8679,     0.86683,     0.86571,     0.86458,     0.86346,     0.86233,     0.86119,     0.86006,\n",
       "            0.85892,     0.85778,     0.85664,      0.8555,     0.85435,     0.84834,     0.84015,     0.83562,     0.83107,     0.82663,     0.82266,     0.81867,     0.81465,     0.79911,     0.79646,     0.79381,     0.79115,     0.78847,     0.78578,     0.77601,     0.76589,     0.75536,     0.74055,\n",
       "            0.73789,     0.73521,     0.73253,     0.72983,     0.72712,     0.72321,     0.71497,     0.70587,     0.69455,     0.68303,     0.67361,     0.66854,     0.66343,     0.65828,     0.64663,     0.62259,     0.57676,     0.56289,     0.54081,     0.47649,     0.46078,     0.42877,     0.41205,\n",
       "            0.35175,     0.33335,     0.30778,     0.26014,     0.24479,     0.21681,     0.18427,    0.086351,           0,           0,           0,           0,           0,           0,           0,           0,           0,           0,           0,           0,           0,           0,           0,\n",
       "                  0,           0,           0,           0,           0,           0,           0,           0,           0,           0,           0]]), 'Confidence', 'F1'], [array([          0,    0.001001,    0.002002,    0.003003,    0.004004,    0.005005,    0.006006,    0.007007,    0.008008,    0.009009,     0.01001,    0.011011,    0.012012,    0.013013,    0.014014,    0.015015,    0.016016,    0.017017,    0.018018,    0.019019,     0.02002,    0.021021,    0.022022,    0.023023,\n",
       "          0.024024,    0.025025,    0.026026,    0.027027,    0.028028,    0.029029,     0.03003,    0.031031,    0.032032,    0.033033,    0.034034,    0.035035,    0.036036,    0.037037,    0.038038,    0.039039,     0.04004,    0.041041,    0.042042,    0.043043,    0.044044,    0.045045,    0.046046,    0.047047,\n",
       "          0.048048,    0.049049,     0.05005,    0.051051,    0.052052,    0.053053,    0.054054,    0.055055,    0.056056,    0.057057,    0.058058,    0.059059,     0.06006,    0.061061,    0.062062,    0.063063,    0.064064,    0.065065,    0.066066,    0.067067,    0.068068,    0.069069,     0.07007,    0.071071,\n",
       "          0.072072,    0.073073,    0.074074,    0.075075,    0.076076,    0.077077,    0.078078,    0.079079,     0.08008,    0.081081,    0.082082,    0.083083,    0.084084,    0.085085,    0.086086,    0.087087,    0.088088,    0.089089,     0.09009,    0.091091,    0.092092,    0.093093,    0.094094,    0.095095,\n",
       "          0.096096,    0.097097,    0.098098,    0.099099,      0.1001,      0.1011,      0.1021,      0.1031,      0.1041,     0.10511,     0.10611,     0.10711,     0.10811,     0.10911,     0.11011,     0.11111,     0.11211,     0.11311,     0.11411,     0.11512,     0.11612,     0.11712,     0.11812,     0.11912,\n",
       "           0.12012,     0.12112,     0.12212,     0.12312,     0.12412,     0.12513,     0.12613,     0.12713,     0.12813,     0.12913,     0.13013,     0.13113,     0.13213,     0.13313,     0.13413,     0.13514,     0.13614,     0.13714,     0.13814,     0.13914,     0.14014,     0.14114,     0.14214,     0.14314,\n",
       "           0.14414,     0.14515,     0.14615,     0.14715,     0.14815,     0.14915,     0.15015,     0.15115,     0.15215,     0.15315,     0.15415,     0.15516,     0.15616,     0.15716,     0.15816,     0.15916,     0.16016,     0.16116,     0.16216,     0.16316,     0.16416,     0.16517,     0.16617,     0.16717,\n",
       "           0.16817,     0.16917,     0.17017,     0.17117,     0.17217,     0.17317,     0.17417,     0.17518,     0.17618,     0.17718,     0.17818,     0.17918,     0.18018,     0.18118,     0.18218,     0.18318,     0.18418,     0.18519,     0.18619,     0.18719,     0.18819,     0.18919,     0.19019,     0.19119,\n",
       "           0.19219,     0.19319,     0.19419,      0.1952,      0.1962,      0.1972,      0.1982,      0.1992,      0.2002,      0.2012,      0.2022,      0.2032,      0.2042,     0.20521,     0.20621,     0.20721,     0.20821,     0.20921,     0.21021,     0.21121,     0.21221,     0.21321,     0.21421,     0.21522,\n",
       "           0.21622,     0.21722,     0.21822,     0.21922,     0.22022,     0.22122,     0.22222,     0.22322,     0.22422,     0.22523,     0.22623,     0.22723,     0.22823,     0.22923,     0.23023,     0.23123,     0.23223,     0.23323,     0.23423,     0.23524,     0.23624,     0.23724,     0.23824,     0.23924,\n",
       "           0.24024,     0.24124,     0.24224,     0.24324,     0.24424,     0.24525,     0.24625,     0.24725,     0.24825,     0.24925,     0.25025,     0.25125,     0.25225,     0.25325,     0.25425,     0.25526,     0.25626,     0.25726,     0.25826,     0.25926,     0.26026,     0.26126,     0.26226,     0.26326,\n",
       "           0.26426,     0.26527,     0.26627,     0.26727,     0.26827,     0.26927,     0.27027,     0.27127,     0.27227,     0.27327,     0.27427,     0.27528,     0.27628,     0.27728,     0.27828,     0.27928,     0.28028,     0.28128,     0.28228,     0.28328,     0.28428,     0.28529,     0.28629,     0.28729,\n",
       "           0.28829,     0.28929,     0.29029,     0.29129,     0.29229,     0.29329,     0.29429,      0.2953,      0.2963,      0.2973,      0.2983,      0.2993,      0.3003,      0.3013,      0.3023,      0.3033,      0.3043,     0.30531,     0.30631,     0.30731,     0.30831,     0.30931,     0.31031,     0.31131,\n",
       "           0.31231,     0.31331,     0.31431,     0.31532,     0.31632,     0.31732,     0.31832,     0.31932,     0.32032,     0.32132,     0.32232,     0.32332,     0.32432,     0.32533,     0.32633,     0.32733,     0.32833,     0.32933,     0.33033,     0.33133,     0.33233,     0.33333,     0.33433,     0.33534,\n",
       "           0.33634,     0.33734,     0.33834,     0.33934,     0.34034,     0.34134,     0.34234,     0.34334,     0.34434,     0.34535,     0.34635,     0.34735,     0.34835,     0.34935,     0.35035,     0.35135,     0.35235,     0.35335,     0.35435,     0.35536,     0.35636,     0.35736,     0.35836,     0.35936,\n",
       "           0.36036,     0.36136,     0.36236,     0.36336,     0.36436,     0.36537,     0.36637,     0.36737,     0.36837,     0.36937,     0.37037,     0.37137,     0.37237,     0.37337,     0.37437,     0.37538,     0.37638,     0.37738,     0.37838,     0.37938,     0.38038,     0.38138,     0.38238,     0.38338,\n",
       "           0.38438,     0.38539,     0.38639,     0.38739,     0.38839,     0.38939,     0.39039,     0.39139,     0.39239,     0.39339,     0.39439,      0.3954,      0.3964,      0.3974,      0.3984,      0.3994,      0.4004,      0.4014,      0.4024,      0.4034,      0.4044,     0.40541,     0.40641,     0.40741,\n",
       "           0.40841,     0.40941,     0.41041,     0.41141,     0.41241,     0.41341,     0.41441,     0.41542,     0.41642,     0.41742,     0.41842,     0.41942,     0.42042,     0.42142,     0.42242,     0.42342,     0.42442,     0.42543,     0.42643,     0.42743,     0.42843,     0.42943,     0.43043,     0.43143,\n",
       "           0.43243,     0.43343,     0.43443,     0.43544,     0.43644,     0.43744,     0.43844,     0.43944,     0.44044,     0.44144,     0.44244,     0.44344,     0.44444,     0.44545,     0.44645,     0.44745,     0.44845,     0.44945,     0.45045,     0.45145,     0.45245,     0.45345,     0.45445,     0.45546,\n",
       "           0.45646,     0.45746,     0.45846,     0.45946,     0.46046,     0.46146,     0.46246,     0.46346,     0.46446,     0.46547,     0.46647,     0.46747,     0.46847,     0.46947,     0.47047,     0.47147,     0.47247,     0.47347,     0.47447,     0.47548,     0.47648,     0.47748,     0.47848,     0.47948,\n",
       "           0.48048,     0.48148,     0.48248,     0.48348,     0.48448,     0.48549,     0.48649,     0.48749,     0.48849,     0.48949,     0.49049,     0.49149,     0.49249,     0.49349,     0.49449,      0.4955,      0.4965,      0.4975,      0.4985,      0.4995,      0.5005,      0.5015,      0.5025,      0.5035,\n",
       "            0.5045,     0.50551,     0.50651,     0.50751,     0.50851,     0.50951,     0.51051,     0.51151,     0.51251,     0.51351,     0.51451,     0.51552,     0.51652,     0.51752,     0.51852,     0.51952,     0.52052,     0.52152,     0.52252,     0.52352,     0.52452,     0.52553,     0.52653,     0.52753,\n",
       "           0.52853,     0.52953,     0.53053,     0.53153,     0.53253,     0.53353,     0.53453,     0.53554,     0.53654,     0.53754,     0.53854,     0.53954,     0.54054,     0.54154,     0.54254,     0.54354,     0.54454,     0.54555,     0.54655,     0.54755,     0.54855,     0.54955,     0.55055,     0.55155,\n",
       "           0.55255,     0.55355,     0.55455,     0.55556,     0.55656,     0.55756,     0.55856,     0.55956,     0.56056,     0.56156,     0.56256,     0.56356,     0.56456,     0.56557,     0.56657,     0.56757,     0.56857,     0.56957,     0.57057,     0.57157,     0.57257,     0.57357,     0.57457,     0.57558,\n",
       "           0.57658,     0.57758,     0.57858,     0.57958,     0.58058,     0.58158,     0.58258,     0.58358,     0.58458,     0.58559,     0.58659,     0.58759,     0.58859,     0.58959,     0.59059,     0.59159,     0.59259,     0.59359,     0.59459,      0.5956,      0.5966,      0.5976,      0.5986,      0.5996,\n",
       "            0.6006,      0.6016,      0.6026,      0.6036,      0.6046,     0.60561,     0.60661,     0.60761,     0.60861,     0.60961,     0.61061,     0.61161,     0.61261,     0.61361,     0.61461,     0.61562,     0.61662,     0.61762,     0.61862,     0.61962,     0.62062,     0.62162,     0.62262,     0.62362,\n",
       "           0.62462,     0.62563,     0.62663,     0.62763,     0.62863,     0.62963,     0.63063,     0.63163,     0.63263,     0.63363,     0.63463,     0.63564,     0.63664,     0.63764,     0.63864,     0.63964,     0.64064,     0.64164,     0.64264,     0.64364,     0.64464,     0.64565,     0.64665,     0.64765,\n",
       "           0.64865,     0.64965,     0.65065,     0.65165,     0.65265,     0.65365,     0.65465,     0.65566,     0.65666,     0.65766,     0.65866,     0.65966,     0.66066,     0.66166,     0.66266,     0.66366,     0.66466,     0.66567,     0.66667,     0.66767,     0.66867,     0.66967,     0.67067,     0.67167,\n",
       "           0.67267,     0.67367,     0.67467,     0.67568,     0.67668,     0.67768,     0.67868,     0.67968,     0.68068,     0.68168,     0.68268,     0.68368,     0.68468,     0.68569,     0.68669,     0.68769,     0.68869,     0.68969,     0.69069,     0.69169,     0.69269,     0.69369,     0.69469,      0.6957,\n",
       "            0.6967,      0.6977,      0.6987,      0.6997,      0.7007,      0.7017,      0.7027,      0.7037,      0.7047,     0.70571,     0.70671,     0.70771,     0.70871,     0.70971,     0.71071,     0.71171,     0.71271,     0.71371,     0.71471,     0.71572,     0.71672,     0.71772,     0.71872,     0.71972,\n",
       "           0.72072,     0.72172,     0.72272,     0.72372,     0.72472,     0.72573,     0.72673,     0.72773,     0.72873,     0.72973,     0.73073,     0.73173,     0.73273,     0.73373,     0.73473,     0.73574,     0.73674,     0.73774,     0.73874,     0.73974,     0.74074,     0.74174,     0.74274,     0.74374,\n",
       "           0.74474,     0.74575,     0.74675,     0.74775,     0.74875,     0.74975,     0.75075,     0.75175,     0.75275,     0.75375,     0.75475,     0.75576,     0.75676,     0.75776,     0.75876,     0.75976,     0.76076,     0.76176,     0.76276,     0.76376,     0.76476,     0.76577,     0.76677,     0.76777,\n",
       "           0.76877,     0.76977,     0.77077,     0.77177,     0.77277,     0.77377,     0.77477,     0.77578,     0.77678,     0.77778,     0.77878,     0.77978,     0.78078,     0.78178,     0.78278,     0.78378,     0.78478,     0.78579,     0.78679,     0.78779,     0.78879,     0.78979,     0.79079,     0.79179,\n",
       "           0.79279,     0.79379,     0.79479,      0.7958,      0.7968,      0.7978,      0.7988,      0.7998,      0.8008,      0.8018,      0.8028,      0.8038,      0.8048,     0.80581,     0.80681,     0.80781,     0.80881,     0.80981,     0.81081,     0.81181,     0.81281,     0.81381,     0.81481,     0.81582,\n",
       "           0.81682,     0.81782,     0.81882,     0.81982,     0.82082,     0.82182,     0.82282,     0.82382,     0.82482,     0.82583,     0.82683,     0.82783,     0.82883,     0.82983,     0.83083,     0.83183,     0.83283,     0.83383,     0.83483,     0.83584,     0.83684,     0.83784,     0.83884,     0.83984,\n",
       "           0.84084,     0.84184,     0.84284,     0.84384,     0.84484,     0.84585,     0.84685,     0.84785,     0.84885,     0.84985,     0.85085,     0.85185,     0.85285,     0.85385,     0.85485,     0.85586,     0.85686,     0.85786,     0.85886,     0.85986,     0.86086,     0.86186,     0.86286,     0.86386,\n",
       "           0.86486,     0.86587,     0.86687,     0.86787,     0.86887,     0.86987,     0.87087,     0.87187,     0.87287,     0.87387,     0.87487,     0.87588,     0.87688,     0.87788,     0.87888,     0.87988,     0.88088,     0.88188,     0.88288,     0.88388,     0.88488,     0.88589,     0.88689,     0.88789,\n",
       "           0.88889,     0.88989,     0.89089,     0.89189,     0.89289,     0.89389,     0.89489,      0.8959,      0.8969,      0.8979,      0.8989,      0.8999,      0.9009,      0.9019,      0.9029,      0.9039,      0.9049,     0.90591,     0.90691,     0.90791,     0.90891,     0.90991,     0.91091,     0.91191,\n",
       "           0.91291,     0.91391,     0.91491,     0.91592,     0.91692,     0.91792,     0.91892,     0.91992,     0.92092,     0.92192,     0.92292,     0.92392,     0.92492,     0.92593,     0.92693,     0.92793,     0.92893,     0.92993,     0.93093,     0.93193,     0.93293,     0.93393,     0.93493,     0.93594,\n",
       "           0.93694,     0.93794,     0.93894,     0.93994,     0.94094,     0.94194,     0.94294,     0.94394,     0.94494,     0.94595,     0.94695,     0.94795,     0.94895,     0.94995,     0.95095,     0.95195,     0.95295,     0.95395,     0.95495,     0.95596,     0.95696,     0.95796,     0.95896,     0.95996,\n",
       "           0.96096,     0.96196,     0.96296,     0.96396,     0.96496,     0.96597,     0.96697,     0.96797,     0.96897,     0.96997,     0.97097,     0.97197,     0.97297,     0.97397,     0.97497,     0.97598,     0.97698,     0.97798,     0.97898,     0.97998,     0.98098,     0.98198,     0.98298,     0.98398,\n",
       "           0.98498,     0.98599,     0.98699,     0.98799,     0.98899,     0.98999,     0.99099,     0.99199,     0.99299,     0.99399,     0.99499,       0.996,       0.997,       0.998,       0.999,           1]), array([[      0.425,       0.425,     0.45296,     0.49949,     0.51647,     0.52007,     0.54189,     0.55512,     0.55882,     0.58059,     0.60231,      0.6153,     0.62422,      0.6287,     0.64752,     0.65348,     0.66377,     0.66722,     0.67068,     0.67352,     0.67629,     0.67906,     0.69954,\n",
       "            0.70906,     0.71227,     0.71548,     0.72001,     0.73576,     0.74013,     0.74138,     0.74263,     0.74387,     0.74512,     0.74637,     0.74761,     0.74886,     0.75041,     0.75511,     0.75982,     0.77393,     0.78825,     0.79709,     0.80086,     0.80463,      0.8084,     0.81382,\n",
       "            0.81994,     0.83263,     0.83841,     0.84132,     0.84423,     0.84715,     0.85004,     0.85222,      0.8544,     0.85658,     0.85875,     0.86093,     0.86311,     0.86727,     0.87435,     0.87995,     0.88206,     0.88418,      0.8863,     0.88841,     0.89053,     0.89265,     0.89474,\n",
       "            0.89466,     0.89459,     0.89451,     0.89444,     0.89436,     0.89429,     0.89421,     0.89414,     0.89407,     0.89399,     0.89392,     0.89384,     0.89377,     0.89369,     0.89362,     0.89354,     0.89347,      0.8934,     0.89332,     0.89325,     0.89317,      0.8931,     0.89302,\n",
       "            0.89295,     0.89287,     0.89379,     0.89501,     0.89623,     0.89744,     0.89866,     0.89987,     0.90109,      0.9023,     0.90352,     0.90474,     0.90595,     0.90717,     0.90838,      0.9097,     0.91117,     0.91264,     0.91411,     0.91558,     0.91705,     0.91852,     0.91998,\n",
       "            0.92145,     0.92292,     0.92439,     0.92586,      0.9282,     0.93059,     0.93298,     0.93537,     0.93775,     0.94014,     0.94253,     0.94339,     0.94338,     0.94337,     0.94336,     0.94335,     0.94334,     0.94333,     0.94332,     0.94331,      0.9433,     0.94329,     0.94328,\n",
       "            0.94326,     0.94325,     0.94324,     0.94323,     0.94322,     0.94321,      0.9432,     0.94319,     0.94318,     0.94317,     0.94316,     0.94315,     0.94314,     0.94313,     0.94312,     0.94311,      0.9431,     0.94309,     0.94308,     0.94307,     0.94306,     0.94305,     0.94304,\n",
       "            0.94303,     0.94302,       0.943,     0.94299,     0.94298,     0.94297,     0.94296,     0.94295,     0.94294,     0.94293,     0.94292,     0.94291,      0.9429,     0.94289,     0.94288,     0.94287,     0.94286,     0.94285,     0.94284,     0.94283,     0.94282,     0.94281,      0.9428,\n",
       "            0.94279,     0.94278,     0.94277,     0.94275,     0.94274,     0.94273,     0.94272,     0.94271,      0.9427,     0.94269,     0.94268,     0.94267,     0.94266,     0.94265,     0.94264,     0.94263,     0.94262,     0.94261,      0.9426,     0.94259,     0.94258,     0.94257,     0.94256,\n",
       "            0.94255,     0.94254,     0.94253,     0.94252,     0.94251,     0.94249,     0.94248,     0.94247,     0.94246,     0.94245,     0.94244,     0.94243,     0.94242,     0.94241,      0.9424,     0.94239,     0.94238,     0.94237,     0.94236,     0.94235,     0.94234,     0.94233,     0.94232,\n",
       "            0.94231,     0.94238,     0.94246,     0.94253,     0.94261,     0.94268,     0.94276,     0.94283,      0.9429,     0.94298,     0.94305,     0.94313,      0.9432,     0.94328,     0.94335,     0.94343,      0.9435,     0.94357,     0.94365,     0.94372,      0.9438,     0.94387,     0.94395,\n",
       "            0.94402,      0.9441,     0.94417,     0.94424,     0.94432,     0.94439,     0.94447,     0.94454,     0.94462,     0.94469,     0.94477,     0.94484,     0.94492,     0.94499,     0.94506,     0.94514,     0.94521,     0.94529,     0.94536,     0.94544,     0.94551,     0.94559,     0.94566,\n",
       "            0.94573,     0.94581,     0.94588,     0.94596,     0.94603,     0.94611,     0.94618,     0.94626,     0.94633,     0.94641,     0.94648,     0.94655,     0.94663,      0.9467,     0.94678,     0.94685,     0.94693,       0.947,     0.94708,     0.94715,     0.94722,      0.9473,     0.94737,\n",
       "            0.94745,     0.94752,      0.9476,     0.94767,     0.94775,     0.94782,     0.94789,     0.94797,     0.94804,     0.94812,     0.94819,     0.94827,     0.94834,     0.94842,     0.94849,     0.94857,     0.94864,     0.94871,     0.94879,     0.94886,     0.94894,     0.94901,     0.94909,\n",
       "            0.94916,     0.94924,     0.94931,     0.94938,     0.94946,     0.94953,     0.94961,     0.94968,     0.94976,     0.94983,     0.94991,     0.94998,     0.95006,     0.95013,      0.9502,     0.95028,     0.95035,     0.95043,      0.9505,     0.95058,     0.95065,     0.95073,      0.9508,\n",
       "            0.95087,     0.95095,     0.95102,      0.9511,     0.95117,     0.95125,     0.95132,      0.9514,     0.95147,     0.95154,     0.95162,     0.95169,     0.95177,     0.95184,     0.95192,     0.95199,     0.95207,     0.95214,     0.95222,     0.95229,     0.95236,     0.95244,     0.95251,\n",
       "            0.95259,     0.95266,     0.95274,     0.95281,     0.95289,     0.95296,     0.95303,     0.95311,     0.95318,     0.95326,     0.95333,     0.95341,     0.95348,     0.95356,     0.95363,     0.95371,     0.95378,     0.95385,     0.95393,       0.954,     0.95408,     0.95415,     0.95423,\n",
       "             0.9543,     0.95438,     0.95445,     0.95452,      0.9546,     0.95467,     0.95475,     0.95482,      0.9549,     0.95497,     0.95505,     0.95512,     0.95519,     0.95527,     0.95534,     0.95542,     0.95549,     0.95557,     0.95564,     0.95572,     0.95579,     0.95587,     0.95594,\n",
       "            0.95601,     0.95609,     0.95616,     0.95624,     0.95631,     0.95639,     0.95646,     0.95654,     0.95661,     0.95668,     0.95676,     0.95683,     0.95691,     0.95698,     0.95706,     0.95713,     0.95721,     0.95728,     0.95736,     0.95743,      0.9575,     0.95758,     0.95765,\n",
       "            0.95773,      0.9578,     0.95788,     0.95795,     0.95803,      0.9581,     0.95817,     0.95825,     0.95832,      0.9584,     0.95847,     0.95855,     0.95862,      0.9587,     0.95877,     0.95884,     0.95892,     0.95899,     0.95907,     0.95914,     0.95922,     0.95929,     0.95937,\n",
       "            0.95944,     0.95952,     0.95959,     0.95966,     0.95974,     0.95981,     0.95989,     0.95996,     0.96004,     0.96011,     0.96019,     0.96026,     0.96033,     0.96041,     0.96048,     0.96056,     0.96063,     0.96071,     0.96078,     0.96076,     0.96074,     0.96072,     0.96069,\n",
       "            0.96067,     0.96065,     0.96062,      0.9606,     0.96058,     0.96056,     0.96053,     0.96051,     0.96049,     0.96046,     0.96044,     0.96042,     0.96039,     0.96037,     0.96035,     0.96033,      0.9603,     0.96028,     0.96026,     0.96023,     0.96021,     0.96019,     0.96016,\n",
       "            0.96014,     0.96012,      0.9601,     0.96007,     0.96005,     0.96003,        0.96,     0.96016,     0.96036,     0.96056,     0.96076,     0.96096,     0.96116,     0.96136,     0.96155,     0.96175,     0.96195,     0.96215,     0.96235,     0.96255,     0.96275,     0.96295,     0.96315,\n",
       "            0.96334,     0.96354,     0.96374,     0.96394,     0.96414,     0.96434,     0.96454,     0.96474,     0.96493,     0.96513,     0.96533,     0.96553,     0.96573,     0.96593,     0.96613,     0.96633,     0.96653,     0.96672,     0.96692,     0.96712,     0.96732,     0.96752,     0.96772,\n",
       "            0.96792,     0.96812,     0.96831,     0.96851,     0.96871,     0.96891,     0.96911,     0.96931,     0.96951,     0.96971,     0.96991,      0.9701,      0.9703,      0.9705,      0.9707,      0.9709,      0.9711,      0.9713,      0.9715,     0.97169,     0.97189,     0.97209,     0.97229,\n",
       "            0.97249,     0.97269,     0.97289,     0.97309,     0.97329,     0.97348,     0.97368,     0.97388,     0.97408,     0.97428,     0.97448,     0.97468,     0.97488,     0.97507,     0.97527,     0.97547,     0.97567,     0.97587,     0.97607,     0.97627,     0.97647,     0.97667,     0.97686,\n",
       "            0.97706,     0.97726,     0.97746,     0.97766,     0.97786,     0.97806,     0.97826,     0.97846,     0.97865,     0.97885,     0.97905,     0.97925,     0.97945,     0.97959,     0.97956,     0.97954,     0.97952,      0.9795,     0.97948,     0.97945,     0.97943,     0.97941,     0.97939,\n",
       "            0.97937,     0.97935,     0.97932,      0.9793,     0.97928,     0.97926,     0.97924,     0.97922,     0.97919,     0.97917,     0.97912,     0.97905,     0.97899,     0.97892,     0.97886,     0.97879,     0.97873,     0.97872,     0.97871,     0.97871,      0.9787,      0.9787,     0.97869,\n",
       "            0.97869,     0.97868,     0.97868,     0.97867,     0.97867,     0.97866,     0.97866,     0.97865,     0.97865,     0.97864,     0.97864,     0.97863,     0.97863,     0.97862,     0.97862,     0.97861,     0.97861,      0.9786,      0.9786,     0.97859,     0.97859,     0.97858,     0.97858,\n",
       "            0.97857,     0.97857,     0.97856,     0.97856,     0.97855,     0.97855,     0.97854,     0.97854,     0.97853,     0.97853,     0.97852,     0.97852,     0.97851,     0.97851,      0.9785,      0.9785,     0.97849,     0.97849,     0.97848,     0.97848,     0.97847,     0.97847,     0.97846,\n",
       "            0.97846,     0.97845,     0.97845,     0.97844,     0.97844,     0.97843,     0.97843,     0.97842,     0.97842,     0.97841,     0.97841,      0.9784,      0.9784,     0.97839,     0.97839,     0.97838,     0.97838,     0.97837,     0.97837,     0.97836,     0.97836,     0.97835,     0.97835,\n",
       "            0.97834,     0.97834,     0.97833,     0.97833,     0.97832,     0.97832,     0.97831,     0.97831,      0.9783,     0.97829,     0.97829,     0.97828,     0.97828,     0.97827,     0.97827,     0.97826,     0.97826,     0.97826,     0.97825,     0.97825,     0.97824,     0.97824,     0.97824,\n",
       "            0.97823,     0.97823,     0.97823,     0.97822,     0.97822,     0.97821,     0.97821,     0.97821,      0.9782,      0.9782,     0.97819,     0.97819,     0.97819,     0.97818,     0.97818,     0.97818,     0.97817,     0.97817,     0.97816,     0.97816,     0.97816,     0.97815,     0.97815,\n",
       "            0.97814,     0.97814,     0.97814,     0.97813,     0.97813,     0.97813,     0.97812,     0.97812,     0.97811,     0.97811,     0.97811,      0.9781,      0.9781,     0.97809,     0.97809,     0.97809,     0.97808,     0.97808,     0.97807,     0.97807,     0.97807,     0.97806,     0.97806,\n",
       "            0.97806,     0.97805,     0.97805,     0.97804,     0.97804,     0.97804,     0.97803,     0.97803,     0.97802,     0.97802,     0.97802,     0.97801,     0.97801,     0.97801,       0.978,       0.978,     0.97799,     0.97799,     0.97799,     0.97798,     0.97798,     0.97797,     0.97797,\n",
       "            0.97797,     0.97796,     0.97796,     0.97796,     0.97795,     0.97795,     0.97794,     0.97794,     0.97794,     0.97793,     0.97793,     0.97792,     0.97792,     0.97792,     0.97791,     0.97791,     0.97791,      0.9779,      0.9779,     0.97789,     0.97789,     0.97789,     0.97788,\n",
       "            0.97788,     0.97787,     0.97787,     0.97787,     0.97786,     0.97786,     0.97786,     0.97785,     0.97785,     0.97784,     0.97784,     0.97784,     0.97783,     0.97783,     0.97782,     0.97782,     0.97782,     0.97781,     0.97781,     0.97781,      0.9778,      0.9778,     0.97779,\n",
       "            0.97779,     0.97779,     0.97778,     0.97778,     0.97775,     0.97773,      0.9777,     0.97767,     0.97765,     0.97762,      0.9776,     0.97757,     0.97754,     0.97752,     0.97749,     0.97746,     0.97744,     0.97741,     0.97738,     0.97736,     0.97733,      0.9773,     0.97728,\n",
       "            0.97721,     0.97713,     0.97705,     0.97697,      0.9769,     0.97682,     0.97674,     0.97666,     0.97658,      0.9765,     0.97642,     0.97634,     0.97626,      0.9766,     0.97872,     0.98084,     0.98297,     0.98509,     0.98721,     0.98933,     0.99145,     0.99358,      0.9957,\n",
       "            0.99782,     0.99994,           1,           1,           1,           1,           1,           1,           1,           1,           1,           1,           1,           1,           1,           1,           1,           1,           1,           1,           1,           1,           1,\n",
       "                  1,           1,           1,           1,           1,           1,           1,           1,           1,           1,           1,           1,           1,           1,           1,           1,           1,           1,           1,           1,           1,           1,           1,\n",
       "                  1,           1,           1,           1,           1,           1,           1,           1,           1,           1,           1,           1,           1,           1,           1,           1,           1,           1,           1,           1,           1,           1,           1,\n",
       "                  1,           1,           1,           1,           1,           1,           1,           1,           1,           1,           1,           1,           1,           1,           1,           1,           1,           1,           1,           1,           1,           1,           1,\n",
       "                  1,           1,           1,           1,           1,           1,           1,           1,           1,           1,           1]]), 'Confidence', 'Precision'], [array([          0,    0.001001,    0.002002,    0.003003,    0.004004,    0.005005,    0.006006,    0.007007,    0.008008,    0.009009,     0.01001,    0.011011,    0.012012,    0.013013,    0.014014,    0.015015,    0.016016,    0.017017,    0.018018,    0.019019,     0.02002,    0.021021,    0.022022,    0.023023,\n",
       "          0.024024,    0.025025,    0.026026,    0.027027,    0.028028,    0.029029,     0.03003,    0.031031,    0.032032,    0.033033,    0.034034,    0.035035,    0.036036,    0.037037,    0.038038,    0.039039,     0.04004,    0.041041,    0.042042,    0.043043,    0.044044,    0.045045,    0.046046,    0.047047,\n",
       "          0.048048,    0.049049,     0.05005,    0.051051,    0.052052,    0.053053,    0.054054,    0.055055,    0.056056,    0.057057,    0.058058,    0.059059,     0.06006,    0.061061,    0.062062,    0.063063,    0.064064,    0.065065,    0.066066,    0.067067,    0.068068,    0.069069,     0.07007,    0.071071,\n",
       "          0.072072,    0.073073,    0.074074,    0.075075,    0.076076,    0.077077,    0.078078,    0.079079,     0.08008,    0.081081,    0.082082,    0.083083,    0.084084,    0.085085,    0.086086,    0.087087,    0.088088,    0.089089,     0.09009,    0.091091,    0.092092,    0.093093,    0.094094,    0.095095,\n",
       "          0.096096,    0.097097,    0.098098,    0.099099,      0.1001,      0.1011,      0.1021,      0.1031,      0.1041,     0.10511,     0.10611,     0.10711,     0.10811,     0.10911,     0.11011,     0.11111,     0.11211,     0.11311,     0.11411,     0.11512,     0.11612,     0.11712,     0.11812,     0.11912,\n",
       "           0.12012,     0.12112,     0.12212,     0.12312,     0.12412,     0.12513,     0.12613,     0.12713,     0.12813,     0.12913,     0.13013,     0.13113,     0.13213,     0.13313,     0.13413,     0.13514,     0.13614,     0.13714,     0.13814,     0.13914,     0.14014,     0.14114,     0.14214,     0.14314,\n",
       "           0.14414,     0.14515,     0.14615,     0.14715,     0.14815,     0.14915,     0.15015,     0.15115,     0.15215,     0.15315,     0.15415,     0.15516,     0.15616,     0.15716,     0.15816,     0.15916,     0.16016,     0.16116,     0.16216,     0.16316,     0.16416,     0.16517,     0.16617,     0.16717,\n",
       "           0.16817,     0.16917,     0.17017,     0.17117,     0.17217,     0.17317,     0.17417,     0.17518,     0.17618,     0.17718,     0.17818,     0.17918,     0.18018,     0.18118,     0.18218,     0.18318,     0.18418,     0.18519,     0.18619,     0.18719,     0.18819,     0.18919,     0.19019,     0.19119,\n",
       "           0.19219,     0.19319,     0.19419,      0.1952,      0.1962,      0.1972,      0.1982,      0.1992,      0.2002,      0.2012,      0.2022,      0.2032,      0.2042,     0.20521,     0.20621,     0.20721,     0.20821,     0.20921,     0.21021,     0.21121,     0.21221,     0.21321,     0.21421,     0.21522,\n",
       "           0.21622,     0.21722,     0.21822,     0.21922,     0.22022,     0.22122,     0.22222,     0.22322,     0.22422,     0.22523,     0.22623,     0.22723,     0.22823,     0.22923,     0.23023,     0.23123,     0.23223,     0.23323,     0.23423,     0.23524,     0.23624,     0.23724,     0.23824,     0.23924,\n",
       "           0.24024,     0.24124,     0.24224,     0.24324,     0.24424,     0.24525,     0.24625,     0.24725,     0.24825,     0.24925,     0.25025,     0.25125,     0.25225,     0.25325,     0.25425,     0.25526,     0.25626,     0.25726,     0.25826,     0.25926,     0.26026,     0.26126,     0.26226,     0.26326,\n",
       "           0.26426,     0.26527,     0.26627,     0.26727,     0.26827,     0.26927,     0.27027,     0.27127,     0.27227,     0.27327,     0.27427,     0.27528,     0.27628,     0.27728,     0.27828,     0.27928,     0.28028,     0.28128,     0.28228,     0.28328,     0.28428,     0.28529,     0.28629,     0.28729,\n",
       "           0.28829,     0.28929,     0.29029,     0.29129,     0.29229,     0.29329,     0.29429,      0.2953,      0.2963,      0.2973,      0.2983,      0.2993,      0.3003,      0.3013,      0.3023,      0.3033,      0.3043,     0.30531,     0.30631,     0.30731,     0.30831,     0.30931,     0.31031,     0.31131,\n",
       "           0.31231,     0.31331,     0.31431,     0.31532,     0.31632,     0.31732,     0.31832,     0.31932,     0.32032,     0.32132,     0.32232,     0.32332,     0.32432,     0.32533,     0.32633,     0.32733,     0.32833,     0.32933,     0.33033,     0.33133,     0.33233,     0.33333,     0.33433,     0.33534,\n",
       "           0.33634,     0.33734,     0.33834,     0.33934,     0.34034,     0.34134,     0.34234,     0.34334,     0.34434,     0.34535,     0.34635,     0.34735,     0.34835,     0.34935,     0.35035,     0.35135,     0.35235,     0.35335,     0.35435,     0.35536,     0.35636,     0.35736,     0.35836,     0.35936,\n",
       "           0.36036,     0.36136,     0.36236,     0.36336,     0.36436,     0.36537,     0.36637,     0.36737,     0.36837,     0.36937,     0.37037,     0.37137,     0.37237,     0.37337,     0.37437,     0.37538,     0.37638,     0.37738,     0.37838,     0.37938,     0.38038,     0.38138,     0.38238,     0.38338,\n",
       "           0.38438,     0.38539,     0.38639,     0.38739,     0.38839,     0.38939,     0.39039,     0.39139,     0.39239,     0.39339,     0.39439,      0.3954,      0.3964,      0.3974,      0.3984,      0.3994,      0.4004,      0.4014,      0.4024,      0.4034,      0.4044,     0.40541,     0.40641,     0.40741,\n",
       "           0.40841,     0.40941,     0.41041,     0.41141,     0.41241,     0.41341,     0.41441,     0.41542,     0.41642,     0.41742,     0.41842,     0.41942,     0.42042,     0.42142,     0.42242,     0.42342,     0.42442,     0.42543,     0.42643,     0.42743,     0.42843,     0.42943,     0.43043,     0.43143,\n",
       "           0.43243,     0.43343,     0.43443,     0.43544,     0.43644,     0.43744,     0.43844,     0.43944,     0.44044,     0.44144,     0.44244,     0.44344,     0.44444,     0.44545,     0.44645,     0.44745,     0.44845,     0.44945,     0.45045,     0.45145,     0.45245,     0.45345,     0.45445,     0.45546,\n",
       "           0.45646,     0.45746,     0.45846,     0.45946,     0.46046,     0.46146,     0.46246,     0.46346,     0.46446,     0.46547,     0.46647,     0.46747,     0.46847,     0.46947,     0.47047,     0.47147,     0.47247,     0.47347,     0.47447,     0.47548,     0.47648,     0.47748,     0.47848,     0.47948,\n",
       "           0.48048,     0.48148,     0.48248,     0.48348,     0.48448,     0.48549,     0.48649,     0.48749,     0.48849,     0.48949,     0.49049,     0.49149,     0.49249,     0.49349,     0.49449,      0.4955,      0.4965,      0.4975,      0.4985,      0.4995,      0.5005,      0.5015,      0.5025,      0.5035,\n",
       "            0.5045,     0.50551,     0.50651,     0.50751,     0.50851,     0.50951,     0.51051,     0.51151,     0.51251,     0.51351,     0.51451,     0.51552,     0.51652,     0.51752,     0.51852,     0.51952,     0.52052,     0.52152,     0.52252,     0.52352,     0.52452,     0.52553,     0.52653,     0.52753,\n",
       "           0.52853,     0.52953,     0.53053,     0.53153,     0.53253,     0.53353,     0.53453,     0.53554,     0.53654,     0.53754,     0.53854,     0.53954,     0.54054,     0.54154,     0.54254,     0.54354,     0.54454,     0.54555,     0.54655,     0.54755,     0.54855,     0.54955,     0.55055,     0.55155,\n",
       "           0.55255,     0.55355,     0.55455,     0.55556,     0.55656,     0.55756,     0.55856,     0.55956,     0.56056,     0.56156,     0.56256,     0.56356,     0.56456,     0.56557,     0.56657,     0.56757,     0.56857,     0.56957,     0.57057,     0.57157,     0.57257,     0.57357,     0.57457,     0.57558,\n",
       "           0.57658,     0.57758,     0.57858,     0.57958,     0.58058,     0.58158,     0.58258,     0.58358,     0.58458,     0.58559,     0.58659,     0.58759,     0.58859,     0.58959,     0.59059,     0.59159,     0.59259,     0.59359,     0.59459,      0.5956,      0.5966,      0.5976,      0.5986,      0.5996,\n",
       "            0.6006,      0.6016,      0.6026,      0.6036,      0.6046,     0.60561,     0.60661,     0.60761,     0.60861,     0.60961,     0.61061,     0.61161,     0.61261,     0.61361,     0.61461,     0.61562,     0.61662,     0.61762,     0.61862,     0.61962,     0.62062,     0.62162,     0.62262,     0.62362,\n",
       "           0.62462,     0.62563,     0.62663,     0.62763,     0.62863,     0.62963,     0.63063,     0.63163,     0.63263,     0.63363,     0.63463,     0.63564,     0.63664,     0.63764,     0.63864,     0.63964,     0.64064,     0.64164,     0.64264,     0.64364,     0.64464,     0.64565,     0.64665,     0.64765,\n",
       "           0.64865,     0.64965,     0.65065,     0.65165,     0.65265,     0.65365,     0.65465,     0.65566,     0.65666,     0.65766,     0.65866,     0.65966,     0.66066,     0.66166,     0.66266,     0.66366,     0.66466,     0.66567,     0.66667,     0.66767,     0.66867,     0.66967,     0.67067,     0.67167,\n",
       "           0.67267,     0.67367,     0.67467,     0.67568,     0.67668,     0.67768,     0.67868,     0.67968,     0.68068,     0.68168,     0.68268,     0.68368,     0.68468,     0.68569,     0.68669,     0.68769,     0.68869,     0.68969,     0.69069,     0.69169,     0.69269,     0.69369,     0.69469,      0.6957,\n",
       "            0.6967,      0.6977,      0.6987,      0.6997,      0.7007,      0.7017,      0.7027,      0.7037,      0.7047,     0.70571,     0.70671,     0.70771,     0.70871,     0.70971,     0.71071,     0.71171,     0.71271,     0.71371,     0.71471,     0.71572,     0.71672,     0.71772,     0.71872,     0.71972,\n",
       "           0.72072,     0.72172,     0.72272,     0.72372,     0.72472,     0.72573,     0.72673,     0.72773,     0.72873,     0.72973,     0.73073,     0.73173,     0.73273,     0.73373,     0.73473,     0.73574,     0.73674,     0.73774,     0.73874,     0.73974,     0.74074,     0.74174,     0.74274,     0.74374,\n",
       "           0.74474,     0.74575,     0.74675,     0.74775,     0.74875,     0.74975,     0.75075,     0.75175,     0.75275,     0.75375,     0.75475,     0.75576,     0.75676,     0.75776,     0.75876,     0.75976,     0.76076,     0.76176,     0.76276,     0.76376,     0.76476,     0.76577,     0.76677,     0.76777,\n",
       "           0.76877,     0.76977,     0.77077,     0.77177,     0.77277,     0.77377,     0.77477,     0.77578,     0.77678,     0.77778,     0.77878,     0.77978,     0.78078,     0.78178,     0.78278,     0.78378,     0.78478,     0.78579,     0.78679,     0.78779,     0.78879,     0.78979,     0.79079,     0.79179,\n",
       "           0.79279,     0.79379,     0.79479,      0.7958,      0.7968,      0.7978,      0.7988,      0.7998,      0.8008,      0.8018,      0.8028,      0.8038,      0.8048,     0.80581,     0.80681,     0.80781,     0.80881,     0.80981,     0.81081,     0.81181,     0.81281,     0.81381,     0.81481,     0.81582,\n",
       "           0.81682,     0.81782,     0.81882,     0.81982,     0.82082,     0.82182,     0.82282,     0.82382,     0.82482,     0.82583,     0.82683,     0.82783,     0.82883,     0.82983,     0.83083,     0.83183,     0.83283,     0.83383,     0.83483,     0.83584,     0.83684,     0.83784,     0.83884,     0.83984,\n",
       "           0.84084,     0.84184,     0.84284,     0.84384,     0.84484,     0.84585,     0.84685,     0.84785,     0.84885,     0.84985,     0.85085,     0.85185,     0.85285,     0.85385,     0.85485,     0.85586,     0.85686,     0.85786,     0.85886,     0.85986,     0.86086,     0.86186,     0.86286,     0.86386,\n",
       "           0.86486,     0.86587,     0.86687,     0.86787,     0.86887,     0.86987,     0.87087,     0.87187,     0.87287,     0.87387,     0.87487,     0.87588,     0.87688,     0.87788,     0.87888,     0.87988,     0.88088,     0.88188,     0.88288,     0.88388,     0.88488,     0.88589,     0.88689,     0.88789,\n",
       "           0.88889,     0.88989,     0.89089,     0.89189,     0.89289,     0.89389,     0.89489,      0.8959,      0.8969,      0.8979,      0.8989,      0.8999,      0.9009,      0.9019,      0.9029,      0.9039,      0.9049,     0.90591,     0.90691,     0.90791,     0.90891,     0.90991,     0.91091,     0.91191,\n",
       "           0.91291,     0.91391,     0.91491,     0.91592,     0.91692,     0.91792,     0.91892,     0.91992,     0.92092,     0.92192,     0.92292,     0.92392,     0.92492,     0.92593,     0.92693,     0.92793,     0.92893,     0.92993,     0.93093,     0.93193,     0.93293,     0.93393,     0.93493,     0.93594,\n",
       "           0.93694,     0.93794,     0.93894,     0.93994,     0.94094,     0.94194,     0.94294,     0.94394,     0.94494,     0.94595,     0.94695,     0.94795,     0.94895,     0.94995,     0.95095,     0.95195,     0.95295,     0.95395,     0.95495,     0.95596,     0.95696,     0.95796,     0.95896,     0.95996,\n",
       "           0.96096,     0.96196,     0.96296,     0.96396,     0.96496,     0.96597,     0.96697,     0.96797,     0.96897,     0.96997,     0.97097,     0.97197,     0.97297,     0.97397,     0.97497,     0.97598,     0.97698,     0.97798,     0.97898,     0.97998,     0.98098,     0.98198,     0.98298,     0.98398,\n",
       "           0.98498,     0.98599,     0.98699,     0.98799,     0.98899,     0.98999,     0.99099,     0.99199,     0.99299,     0.99399,     0.99499,       0.996,       0.997,       0.998,       0.999,           1]), array([[          1,           1,           1,           1,           1,           1,           1,           1,           1,           1,           1,           1,           1,           1,           1,           1,           1,           1,           1,           1,           1,           1,           1,\n",
       "                  1,           1,           1,           1,           1,           1,           1,           1,           1,           1,           1,           1,           1,           1,           1,           1,           1,           1,           1,           1,           1,           1,           1,\n",
       "                  1,           1,           1,           1,           1,           1,           1,           1,           1,           1,           1,           1,           1,           1,           1,           1,           1,           1,           1,           1,           1,           1,     0.99999,\n",
       "            0.99921,     0.99844,     0.99766,     0.99688,     0.99611,     0.99533,     0.99455,     0.99378,       0.993,     0.99222,     0.99144,     0.99067,     0.98989,     0.98911,     0.98834,     0.98756,     0.98678,     0.98601,     0.98523,     0.98445,     0.98368,      0.9829,     0.98212,\n",
       "            0.98135,     0.98057,     0.98039,     0.98039,     0.98039,     0.98039,     0.98039,     0.98039,     0.98039,     0.98039,     0.98039,     0.98039,     0.98039,     0.98039,     0.98039,     0.98039,     0.98039,     0.98039,     0.98039,     0.98039,     0.98039,     0.98039,     0.98039,\n",
       "            0.98039,     0.98039,     0.98039,     0.98039,     0.98039,     0.98039,     0.98039,     0.98039,     0.98039,     0.98039,     0.98039,     0.98027,     0.98009,      0.9799,     0.97971,     0.97952,     0.97934,     0.97915,     0.97896,     0.97877,     0.97859,      0.9784,     0.97821,\n",
       "            0.97802,     0.97784,     0.97765,     0.97746,     0.97727,     0.97709,      0.9769,     0.97671,     0.97652,     0.97634,     0.97615,     0.97596,     0.97578,     0.97559,      0.9754,     0.97521,     0.97503,     0.97484,     0.97465,     0.97446,     0.97428,     0.97409,      0.9739,\n",
       "            0.97371,     0.97353,     0.97334,     0.97315,     0.97296,     0.97278,     0.97259,      0.9724,     0.97221,     0.97203,     0.97184,     0.97165,     0.97146,     0.97128,     0.97109,      0.9709,     0.97072,     0.97053,     0.97034,     0.97015,     0.96997,     0.96978,     0.96959,\n",
       "             0.9694,     0.96922,     0.96903,     0.96884,     0.96865,     0.96847,     0.96828,     0.96809,      0.9679,     0.96772,     0.96753,     0.96734,     0.96715,     0.96697,     0.96678,     0.96659,     0.96641,     0.96622,     0.96603,     0.96584,     0.96566,     0.96547,     0.96528,\n",
       "            0.96509,     0.96491,     0.96472,     0.96453,     0.96434,     0.96416,     0.96397,     0.96378,     0.96359,     0.96341,     0.96322,     0.96303,     0.96284,     0.96266,     0.96247,     0.96228,      0.9621,     0.96191,     0.96172,     0.96153,     0.96135,     0.96116,     0.96097,\n",
       "            0.96078,     0.96078,     0.96078,     0.96078,     0.96078,     0.96078,     0.96078,     0.96078,     0.96078,     0.96078,     0.96078,     0.96078,     0.96078,     0.96078,     0.96078,     0.96078,     0.96078,     0.96078,     0.96078,     0.96078,     0.96078,     0.96078,     0.96078,\n",
       "            0.96078,     0.96078,     0.96078,     0.96078,     0.96078,     0.96078,     0.96078,     0.96078,     0.96078,     0.96078,     0.96078,     0.96078,     0.96078,     0.96078,     0.96078,     0.96078,     0.96078,     0.96078,     0.96078,     0.96078,     0.96078,     0.96078,     0.96078,\n",
       "            0.96078,     0.96078,     0.96078,     0.96078,     0.96078,     0.96078,     0.96078,     0.96078,     0.96078,     0.96078,     0.96078,     0.96078,     0.96078,     0.96078,     0.96078,     0.96078,     0.96078,     0.96078,     0.96078,     0.96078,     0.96078,     0.96078,     0.96078,\n",
       "            0.96078,     0.96078,     0.96078,     0.96078,     0.96078,     0.96078,     0.96078,     0.96078,     0.96078,     0.96078,     0.96078,     0.96078,     0.96078,     0.96078,     0.96078,     0.96078,     0.96078,     0.96078,     0.96078,     0.96078,     0.96078,     0.96078,     0.96078,\n",
       "            0.96078,     0.96078,     0.96078,     0.96078,     0.96078,     0.96078,     0.96078,     0.96078,     0.96078,     0.96078,     0.96078,     0.96078,     0.96078,     0.96078,     0.96078,     0.96078,     0.96078,     0.96078,     0.96078,     0.96078,     0.96078,     0.96078,     0.96078,\n",
       "            0.96078,     0.96078,     0.96078,     0.96078,     0.96078,     0.96078,     0.96078,     0.96078,     0.96078,     0.96078,     0.96078,     0.96078,     0.96078,     0.96078,     0.96078,     0.96078,     0.96078,     0.96078,     0.96078,     0.96078,     0.96078,     0.96078,     0.96078,\n",
       "            0.96078,     0.96078,     0.96078,     0.96078,     0.96078,     0.96078,     0.96078,     0.96078,     0.96078,     0.96078,     0.96078,     0.96078,     0.96078,     0.96078,     0.96078,     0.96078,     0.96078,     0.96078,     0.96078,     0.96078,     0.96078,     0.96078,     0.96078,\n",
       "            0.96078,     0.96078,     0.96078,     0.96078,     0.96078,     0.96078,     0.96078,     0.96078,     0.96078,     0.96078,     0.96078,     0.96078,     0.96078,     0.96078,     0.96078,     0.96078,     0.96078,     0.96078,     0.96078,     0.96078,     0.96078,     0.96078,     0.96078,\n",
       "            0.96078,     0.96078,     0.96078,     0.96078,     0.96078,     0.96078,     0.96078,     0.96078,     0.96078,     0.96078,     0.96078,     0.96078,     0.96078,     0.96078,     0.96078,     0.96078,     0.96078,     0.96078,     0.96078,     0.96078,     0.96078,     0.96078,     0.96078,\n",
       "            0.96078,     0.96078,     0.96078,     0.96078,     0.96078,     0.96078,     0.96078,     0.96078,     0.96078,     0.96078,     0.96078,     0.96078,     0.96078,     0.96078,     0.96078,     0.96078,     0.96078,     0.96078,     0.96078,     0.96078,     0.96078,     0.96078,     0.96078,\n",
       "            0.96078,     0.96078,     0.96078,     0.96078,     0.96078,     0.96078,     0.96078,     0.96078,     0.96078,     0.96078,     0.96078,     0.96078,     0.96078,     0.96078,     0.96078,     0.96078,     0.96078,     0.96078,     0.96078,     0.96023,     0.95966,     0.95908,     0.95851,\n",
       "            0.95793,     0.95736,     0.95679,     0.95621,     0.95564,     0.95506,     0.95449,     0.95391,     0.95334,     0.95277,     0.95219,     0.95162,     0.95104,     0.95047,     0.94989,     0.94932,     0.94875,     0.94817,      0.9476,     0.94702,     0.94645,     0.94588,      0.9453,\n",
       "            0.94473,     0.94415,     0.94358,       0.943,     0.94243,     0.94186,     0.94128,     0.94118,     0.94118,     0.94118,     0.94118,     0.94118,     0.94118,     0.94118,     0.94118,     0.94118,     0.94118,     0.94118,     0.94118,     0.94118,     0.94118,     0.94118,     0.94118,\n",
       "            0.94118,     0.94118,     0.94118,     0.94118,     0.94118,     0.94118,     0.94118,     0.94118,     0.94118,     0.94118,     0.94118,     0.94118,     0.94118,     0.94118,     0.94118,     0.94118,     0.94118,     0.94118,     0.94118,     0.94118,     0.94118,     0.94118,     0.94118,\n",
       "            0.94118,     0.94118,     0.94118,     0.94118,     0.94118,     0.94118,     0.94118,     0.94118,     0.94118,     0.94118,     0.94118,     0.94118,     0.94118,     0.94118,     0.94118,     0.94118,     0.94118,     0.94118,     0.94118,     0.94118,     0.94118,     0.94118,     0.94118,\n",
       "            0.94118,     0.94118,     0.94118,     0.94118,     0.94118,     0.94118,     0.94118,     0.94118,     0.94118,     0.94118,     0.94118,     0.94118,     0.94118,     0.94118,     0.94118,     0.94118,     0.94118,     0.94118,     0.94118,     0.94118,     0.94118,     0.94118,     0.94118,\n",
       "            0.94118,     0.94118,     0.94118,     0.94118,     0.94118,     0.94118,     0.94118,     0.94118,     0.94118,     0.94118,     0.94118,     0.94118,     0.94118,     0.94089,     0.93989,     0.93888,     0.93788,     0.93687,     0.93587,     0.93486,     0.93386,     0.93285,     0.93185,\n",
       "            0.93084,     0.92984,     0.92883,     0.92783,     0.92682,     0.92582,     0.92481,     0.92381,      0.9228,      0.9218,     0.91935,     0.91648,     0.91361,     0.91074,     0.90787,       0.905,     0.90213,     0.90176,     0.90155,     0.90133,     0.90112,      0.9009,     0.90069,\n",
       "            0.90048,     0.90026,     0.90005,     0.89983,     0.89962,     0.89941,     0.89919,     0.89898,     0.89877,     0.89855,     0.89834,     0.89812,     0.89791,      0.8977,     0.89748,     0.89727,     0.89706,     0.89684,     0.89663,     0.89641,      0.8962,     0.89599,     0.89577,\n",
       "            0.89556,     0.89534,     0.89513,     0.89492,      0.8947,     0.89449,     0.89428,     0.89406,     0.89385,     0.89363,     0.89342,     0.89321,     0.89299,     0.89278,     0.89257,     0.89235,     0.89214,     0.89192,     0.89171,      0.8915,     0.89128,     0.89107,     0.89085,\n",
       "            0.89064,     0.89043,     0.89021,        0.89,     0.88979,     0.88957,     0.88936,     0.88914,     0.88893,     0.88872,      0.8885,     0.88829,     0.88808,     0.88786,     0.88765,     0.88743,     0.88722,     0.88701,     0.88679,     0.88658,     0.88636,     0.88615,     0.88594,\n",
       "            0.88572,     0.88551,      0.8853,     0.88508,     0.88487,     0.88465,     0.88444,     0.88423,     0.88401,      0.8838,     0.88359,     0.88337,     0.88316,     0.88294,     0.88273,     0.88252,     0.88232,     0.88216,       0.882,     0.88185,     0.88169,     0.88153,     0.88138,\n",
       "            0.88122,     0.88106,     0.88091,     0.88075,      0.8806,     0.88044,     0.88028,     0.88013,     0.87997,     0.87981,     0.87966,      0.8795,     0.87934,     0.87919,     0.87903,     0.87887,     0.87872,     0.87856,     0.87841,     0.87825,     0.87809,     0.87794,     0.87778,\n",
       "            0.87762,     0.87747,     0.87731,     0.87715,       0.877,     0.87684,     0.87669,     0.87653,     0.87637,     0.87622,     0.87606,      0.8759,     0.87575,     0.87559,     0.87543,     0.87528,     0.87512,     0.87496,     0.87481,     0.87465,      0.8745,     0.87434,     0.87418,\n",
       "            0.87403,     0.87387,     0.87371,     0.87356,      0.8734,     0.87324,     0.87309,     0.87293,     0.87277,     0.87262,     0.87246,     0.87231,     0.87215,     0.87199,     0.87184,     0.87168,     0.87152,     0.87137,     0.87121,     0.87105,      0.8709,     0.87074,     0.87059,\n",
       "            0.87043,     0.87027,     0.87012,     0.86996,      0.8698,     0.86965,     0.86949,     0.86933,     0.86918,     0.86902,     0.86886,     0.86871,     0.86855,      0.8684,     0.86824,     0.86808,     0.86793,     0.86777,     0.86761,     0.86746,      0.8673,     0.86714,     0.86699,\n",
       "            0.86683,     0.86667,     0.86652,     0.86636,     0.86621,     0.86605,     0.86589,     0.86574,     0.86558,     0.86542,     0.86527,     0.86511,     0.86495,      0.8648,     0.86464,     0.86449,     0.86433,     0.86417,     0.86402,     0.86386,      0.8637,     0.86355,     0.86339,\n",
       "            0.86323,     0.86308,     0.86292,     0.86276,     0.86184,     0.86081,     0.85978,     0.85875,     0.85772,     0.85669,     0.85566,     0.85463,      0.8536,     0.85257,     0.85154,     0.85051,     0.84948,     0.84844,     0.84741,     0.84638,     0.84535,     0.84432,     0.84329,\n",
       "             0.8407,     0.83782,     0.83495,     0.83208,     0.82921,     0.82634,     0.82347,      0.8206,     0.81773,     0.81485,     0.81198,     0.80911,     0.80624,     0.80392,     0.80392,     0.80392,     0.80392,     0.80392,     0.80392,     0.80392,     0.80392,     0.80392,     0.80392,\n",
       "            0.80392,     0.80392,     0.79833,     0.79259,     0.78685,     0.78338,      0.7817,     0.78003,     0.77835,     0.77668,       0.775,     0.77333,     0.77165,     0.76998,      0.7683,     0.76663,     0.76495,     0.76322,     0.76147,     0.75972,     0.75797,     0.75623,     0.75448,\n",
       "            0.75273,     0.75098,     0.74924,     0.74749,     0.74574,     0.73663,     0.72436,     0.71766,     0.71096,     0.70449,     0.69875,     0.69301,     0.68726,     0.66542,     0.66177,     0.65812,     0.65446,     0.65081,     0.64715,     0.63401,     0.62061,     0.60689,     0.58799,\n",
       "            0.58465,      0.5813,     0.57795,      0.5746,     0.57125,     0.56643,     0.55638,     0.54544,     0.53204,     0.51864,     0.50785,     0.50211,     0.49636,     0.49062,     0.47779,       0.452,     0.40524,     0.39169,     0.37063,     0.31276,     0.29936,     0.27289,     0.25949,\n",
       "            0.21341,     0.20001,     0.18188,     0.14952,     0.13947,     0.12158,     0.10148,    0.045124,           0,           0,           0,           0,           0,           0,           0,           0,           0,           0,           0,           0,           0,           0,           0,\n",
       "                  0,           0,           0,           0,           0,           0,           0,           0,           0,           0,           0]]), 'Confidence', 'Recall']]\n",
       "fitness: 0.9387919653508162\n",
       "keys: ['metrics/precision(B)', 'metrics/recall(B)', 'metrics/mAP50(B)', 'metrics/mAP50-95(B)']\n",
       "maps: array([    0.93319])\n",
       "names: {0: 'cucumber'}\n",
       "plot: True\n",
       "results_dict: {'metrics/precision(B)': 0.9578764522177482, 'metrics/recall(B)': 0.9607843137254902, 'metrics/mAP50(B)': 0.9891738363667214, 'metrics/mAP50-95(B)': 0.9331939796823823, 'fitness': 0.9387919653508162}\n",
       "save_dir: PosixPath('/home/oi/Desktop/song/cucumber-image/yolo_detection/oi')\n",
       "speed: {'preprocess': 0.11697937460506663, 'inference': 2.2990469839058667, 'loss': 0.00017764521580116422, 'postprocess': 0.028264288808785232}\n",
       "task: 'detect'"
      ]
     },
     "execution_count": 14,
     "metadata": {},
     "output_type": "execute_result"
    }
   ],
   "source": [
    "model.train(data = data,\n",
    "            epochs = 100,\n",
    "            batch = 16,\n",
    "            imgsz = 640,\n",
    "            device = \"0\",\n",
    "            project = project,\n",
    "            name = \"oi\",\n",
    "            workers = 8)"
   ]
  },
  {
   "cell_type": "code",
   "execution_count": 69,
   "metadata": {},
   "outputs": [
    {
     "name": "stdout",
     "output_type": "stream",
     "text": [
      "\n",
      "image 1/1 /home/oi/Desktop/song/cucumber-image/data/oi/train/V003_3_3_1_2_4_2_2_1_0_0_20221019_5275_20240422195056.jpg: 640x480 1 cucumber, 7.7ms\n",
      "Speed: 2.2ms preprocess, 7.7ms inference, 0.3ms postprocess per image at shape (1, 3, 640, 480)\n",
      "x: 1026, y: 1192, w: 537, h: 1551\n",
      "\n",
      "image 1/1 /home/oi/Desktop/song/cucumber-image/data/oi/train/V003_3_3_1_2_4_2_2_1_0_0_20221019_5193_20240422195052.jpg: 640x480 1 cucumber, 7.5ms\n",
      "Speed: 2.2ms preprocess, 7.5ms inference, 0.3ms postprocess per image at shape (1, 3, 640, 480)\n",
      "x: 908, y: 1401, w: 503, h: 1667\n",
      "\n",
      "image 1/1 /home/oi/Desktop/song/cucumber-image/data/oi/train/V003_3_3_1_2_4_2_2_1_0_0_20221019_5223_20240422195053.jpg: 640x480 1 cucumber, 7.5ms\n",
      "Speed: 2.2ms preprocess, 7.5ms inference, 0.3ms postprocess per image at shape (1, 3, 640, 480)\n",
      "x: 1789, y: 1703, w: 305, h: 1326\n",
      "\n",
      "image 1/1 /home/oi/Desktop/song/cucumber-image/data/oi/train/V003_3_3_1_2_4_2_2_1_0_0_20221019_5272_20240422195056.jpg: 640x480 1 cucumber, 7.7ms\n",
      "Speed: 2.2ms preprocess, 7.7ms inference, 0.3ms postprocess per image at shape (1, 3, 640, 480)\n",
      "x: 1159, y: 2160, w: 233, h: 952\n",
      "\n",
      "image 1/1 /home/oi/Desktop/song/cucumber-image/data/oi/train/V003_3_3_1_2_4_2_2_1_0_0_20221019_5283_20240422195057.jpg: 640x480 1 cucumber, 7.3ms\n",
      "Speed: 2.4ms preprocess, 7.3ms inference, 0.3ms postprocess per image at shape (1, 3, 640, 480)\n",
      "x: 1081, y: 1407, w: 430, h: 1767\n",
      "\n",
      "image 1/1 /home/oi/Desktop/song/cucumber-image/data/oi/train/V003_3_3_1_2_4_2_2_1_0_0_20221019_5094_20240422195046.jpg: 640x480 1 cucumber, 7.4ms\n",
      "Speed: 2.2ms preprocess, 7.4ms inference, 0.3ms postprocess per image at shape (1, 3, 640, 480)\n",
      "x: 924, y: 1218, w: 613, h: 1604\n",
      "\n",
      "image 1/1 /home/oi/Desktop/song/cucumber-image/data/oi/train/V003_3_3_1_2_4_2_2_1_0_0_20221019_5294_20240422195057.jpg: 640x480 1 cucumber, 7.3ms\n",
      "Speed: 2.1ms preprocess, 7.3ms inference, 0.3ms postprocess per image at shape (1, 3, 640, 480)\n",
      "x: 1236, y: 1087, w: 474, h: 1967\n",
      "\n",
      "image 1/1 /home/oi/Desktop/song/cucumber-image/data/oi/train/V003_3_3_1_2_4_2_2_1_0_0_20221019_5281_20240422195056.jpg: 640x480 1 cucumber, 7.3ms\n",
      "Speed: 2.2ms preprocess, 7.3ms inference, 0.3ms postprocess per image at shape (1, 3, 640, 480)\n",
      "x: 1004, y: 1446, w: 281, h: 1061\n",
      "\n",
      "image 1/1 /home/oi/Desktop/song/cucumber-image/data/oi/train/V003_3_3_1_2_4_2_2_1_0_0_20221019_5265_20240422195055.jpg: 640x480 1 cucumber, 7.5ms\n",
      "Speed: 2.2ms preprocess, 7.5ms inference, 0.3ms postprocess per image at shape (1, 3, 640, 480)\n",
      "x: 1419, y: 1361, w: 321, h: 1541\n",
      "\n",
      "image 1/1 /home/oi/Desktop/song/cucumber-image/data/oi/train/V003_3_3_1_2_4_2_2_1_0_0_20221019_5110_20240422195047.jpg: 640x480 (no detections), 7.5ms\n",
      "Speed: 2.3ms preprocess, 7.5ms inference, 0.2ms postprocess per image at shape (1, 3, 640, 480)\n",
      "\n",
      "image 1/1 /home/oi/Desktop/song/cucumber-image/data/oi/train/V003_3_3_1_2_4_2_2_1_0_0_20221019_5216_20240422195053.jpg: 640x480 1 cucumber, 7.8ms\n",
      "Speed: 2.3ms preprocess, 7.8ms inference, 0.3ms postprocess per image at shape (1, 3, 640, 480)\n",
      "x: 1117, y: 1140, w: 472, h: 2093\n",
      "\n",
      "image 1/1 /home/oi/Desktop/song/cucumber-image/data/oi/train/V003_3_3_1_2_4_2_2_1_0_0_20221019_5300_20240422195057.jpg: 640x480 1 cucumber, 7.6ms\n",
      "Speed: 2.2ms preprocess, 7.6ms inference, 0.3ms postprocess per image at shape (1, 3, 640, 480)\n",
      "x: 1847, y: 875, w: 392, h: 1881\n",
      "\n",
      "image 1/1 /home/oi/Desktop/song/cucumber-image/data/oi/train/V003_3_3_1_2_4_2_2_1_0_0_20221019_5234_20240422195054.jpg: 640x480 1 cucumber, 7.6ms\n",
      "Speed: 2.3ms preprocess, 7.6ms inference, 0.3ms postprocess per image at shape (1, 3, 640, 480)\n",
      "x: 986, y: 891, w: 705, h: 2354\n",
      "\n",
      "image 1/1 /home/oi/Desktop/song/cucumber-image/data/oi/train/V003_3_3_1_2_4_2_2_1_0_0_20221019_5177_20240422195051.jpg: 640x480 2 cucumbers, 7.5ms\n",
      "Speed: 2.2ms preprocess, 7.5ms inference, 0.3ms postprocess per image at shape (1, 3, 640, 480)\n",
      "x: 855, y: 747, w: 433, h: 2377\n",
      "\n",
      "image 1/1 /home/oi/Desktop/song/cucumber-image/data/oi/train/V003_3_3_1_2_4_2_2_1_0_0_20221015_5087_20240422195046.jpg: 640x480 2 cucumbers, 7.4ms\n",
      "Speed: 2.2ms preprocess, 7.4ms inference, 0.3ms postprocess per image at shape (1, 3, 640, 480)\n",
      "x: 1113, y: 1168, w: 577, h: 2196\n",
      "\n",
      "image 1/1 /home/oi/Desktop/song/cucumber-image/data/oi/train/V003_3_3_1_2_4_2_2_1_0_0_20221019_5091_20240422195046.jpg: 640x480 1 cucumber, 7.5ms\n",
      "Speed: 2.6ms preprocess, 7.5ms inference, 0.3ms postprocess per image at shape (1, 3, 640, 480)\n",
      "x: 1721, y: 1444, w: 543, h: 1393\n",
      "\n",
      "image 1/1 /home/oi/Desktop/song/cucumber-image/data/oi/train/V003_3_3_1_2_4_2_2_1_0_0_20221019_5219_20240422195053.jpg: 640x480 1 cucumber, 4.1ms\n",
      "Speed: 1.3ms preprocess, 4.1ms inference, 0.2ms postprocess per image at shape (1, 3, 640, 480)\n",
      "x: 839, y: 1096, w: 519, h: 2194\n",
      "\n",
      "image 1/1 /home/oi/Desktop/song/cucumber-image/data/oi/train/V003_3_3_1_2_4_2_2_1_0_0_20221019_5150_20240422195049.jpg: 640x480 1 cucumber, 4.1ms\n",
      "Speed: 1.3ms preprocess, 4.1ms inference, 0.2ms postprocess per image at shape (1, 3, 640, 480)\n",
      "x: 1164, y: 1412, w: 572, h: 1992\n",
      "\n",
      "image 1/1 /home/oi/Desktop/song/cucumber-image/data/oi/train/V003_3_3_1_2_4_2_2_1_0_0_20221019_5299_20240422195057.jpg: 640x480 1 cucumber, 4.1ms\n",
      "Speed: 1.4ms preprocess, 4.1ms inference, 0.2ms postprocess per image at shape (1, 3, 640, 480)\n",
      "x: 1567, y: 1797, w: 232, h: 1160\n",
      "\n",
      "image 1/1 /home/oi/Desktop/song/cucumber-image/data/oi/train/V003_3_3_1_2_4_2_2_1_0_0_20221019_5257_20240422195055.jpg: 640x480 1 cucumber, 4.1ms\n",
      "Speed: 1.4ms preprocess, 4.1ms inference, 0.2ms postprocess per image at shape (1, 3, 640, 480)\n",
      "x: 1043, y: 955, w: 815, h: 2184\n",
      "\n",
      "image 1/1 /home/oi/Desktop/song/cucumber-image/data/oi/train/V003_3_3_1_2_4_2_2_1_0_0_20221019_5259_20240422195055.jpg: 640x480 1 cucumber, 4.1ms\n",
      "Speed: 1.5ms preprocess, 4.1ms inference, 0.2ms postprocess per image at shape (1, 3, 640, 480)\n",
      "x: 1246, y: 825, w: 363, h: 1492\n",
      "\n",
      "image 1/1 /home/oi/Desktop/song/cucumber-image/data/oi/train/V003_3_3_1_2_4_2_2_1_0_0_20221019_5316_20240422195058.jpg: 640x480 1 cucumber, 4.1ms\n",
      "Speed: 1.4ms preprocess, 4.1ms inference, 0.2ms postprocess per image at shape (1, 3, 640, 480)\n",
      "x: 1414, y: 1889, w: 427, h: 1310\n",
      "\n",
      "image 1/1 /home/oi/Desktop/song/cucumber-image/data/oi/train/V003_3_3_1_2_4_2_2_1_0_0_20221019_5191_20240422195051.jpg: 640x480 1 cucumber, 4.1ms\n",
      "Speed: 1.3ms preprocess, 4.1ms inference, 0.2ms postprocess per image at shape (1, 3, 640, 480)\n",
      "x: 1434, y: 1363, w: 330, h: 1677\n",
      "\n",
      "image 1/1 /home/oi/Desktop/song/cucumber-image/data/oi/train/V003_3_3_1_2_4_2_2_1_0_0_20221019_5109_20240422195047.jpg: 640x480 2 cucumbers, 4.1ms\n",
      "Speed: 1.4ms preprocess, 4.1ms inference, 0.2ms postprocess per image at shape (1, 3, 640, 480)\n",
      "x: 769, y: 1427, w: 404, h: 1674\n",
      "\n",
      "image 1/1 /home/oi/Desktop/song/cucumber-image/data/oi/train/V003_3_3_1_2_4_2_2_1_0_0_20221019_5182_20240422195051.jpg: 640x480 2 cucumbers, 4.1ms\n",
      "Speed: 1.3ms preprocess, 4.1ms inference, 0.2ms postprocess per image at shape (1, 3, 640, 480)\n",
      "x: 1315, y: 1409, w: 587, h: 1517\n",
      "\n",
      "image 1/1 /home/oi/Desktop/song/cucumber-image/data/oi/train/V003_3_3_1_2_4_2_2_1_0_0_20221019_5129_20240422195048.jpg: 640x480 1 cucumber, 4.1ms\n",
      "Speed: 1.3ms preprocess, 4.1ms inference, 0.2ms postprocess per image at shape (1, 3, 640, 480)\n",
      "x: 1405, y: 1175, w: 1027, h: 1772\n",
      "\n",
      "image 1/1 /home/oi/Desktop/song/cucumber-image/data/oi/train/V003_3_3_1_2_4_2_2_1_0_0_20221015_5076_20240422195046.jpg: 640x480 1 cucumber, 4.1ms\n",
      "Speed: 1.3ms preprocess, 4.1ms inference, 0.2ms postprocess per image at shape (1, 3, 640, 480)\n",
      "x: 1114, y: 1455, w: 352, h: 1899\n",
      "\n",
      "image 1/1 /home/oi/Desktop/song/cucumber-image/data/oi/train/V003_3_3_1_2_4_2_2_1_0_0_20221019_5221_20240422195053.jpg: 640x480 1 cucumber, 4.1ms\n",
      "Speed: 1.3ms preprocess, 4.1ms inference, 0.2ms postprocess per image at shape (1, 3, 640, 480)\n",
      "x: 1498, y: 1527, w: 332, h: 1684\n",
      "\n",
      "image 1/1 /home/oi/Desktop/song/cucumber-image/data/oi/train/V003_3_3_1_2_4_2_2_1_0_0_20221019_5256_20240422195055.jpg: 640x480 1 cucumber, 4.1ms\n",
      "Speed: 1.3ms preprocess, 4.1ms inference, 0.2ms postprocess per image at shape (1, 3, 640, 480)\n",
      "x: 999, y: 1003, w: 789, h: 2113\n",
      "\n",
      "image 1/1 /home/oi/Desktop/song/cucumber-image/data/oi/train/V003_3_3_1_2_4_2_2_1_0_0_20221019_5224_20240422195053.jpg: 640x480 2 cucumbers, 4.1ms\n",
      "Speed: 1.3ms preprocess, 4.1ms inference, 0.2ms postprocess per image at shape (1, 3, 640, 480)\n",
      "x: 1087, y: 1322, w: 736, h: 2039\n",
      "\n",
      "image 1/1 /home/oi/Desktop/song/cucumber-image/data/oi/train/V003_3_3_1_2_4_2_2_1_0_0_20221019_5149_20240422195049.jpg: 640x480 1 cucumber, 4.1ms\n",
      "Speed: 1.3ms preprocess, 4.1ms inference, 0.2ms postprocess per image at shape (1, 3, 640, 480)\n",
      "x: 976, y: 1626, w: 386, h: 1698\n",
      "\n",
      "image 1/1 /home/oi/Desktop/song/cucumber-image/data/oi/train/V003_3_3_1_2_4_2_2_1_0_0_20221019_5218_20240422195053.jpg: 640x480 2 cucumbers, 4.1ms\n",
      "Speed: 1.3ms preprocess, 4.1ms inference, 0.2ms postprocess per image at shape (1, 3, 640, 480)\n",
      "x: 1025, y: 1427, w: 388, h: 1906\n",
      "\n",
      "image 1/1 /home/oi/Desktop/song/cucumber-image/data/oi/train/V003_3_3_1_2_4_2_2_1_0_0_20221019_5247_20240422195054.jpg: 640x480 1 cucumber, 4.1ms\n",
      "Speed: 1.3ms preprocess, 4.1ms inference, 0.2ms postprocess per image at shape (1, 3, 640, 480)\n",
      "x: 1160, y: 1621, w: 289, h: 1280\n",
      "\n",
      "image 1/1 /home/oi/Desktop/song/cucumber-image/data/oi/train/V003_3_3_1_2_4_2_2_1_0_0_20221015_5072_20240422195045.jpg: 640x480 1 cucumber, 4.1ms\n",
      "Speed: 1.2ms preprocess, 4.1ms inference, 0.2ms postprocess per image at shape (1, 3, 640, 480)\n",
      "x: 646, y: 1019, w: 609, h: 2661\n",
      "\n",
      "image 1/1 /home/oi/Desktop/song/cucumber-image/data/oi/train/V003_3_3_1_2_4_2_2_1_0_0_20221019_5111_20240422195047.jpg: 640x480 2 cucumbers, 4.1ms\n",
      "Speed: 1.3ms preprocess, 4.1ms inference, 0.1ms postprocess per image at shape (1, 3, 640, 480)\n",
      "x: 1036, y: 1326, w: 855, h: 2486\n",
      "\n",
      "image 1/1 /home/oi/Desktop/song/cucumber-image/data/oi/train/V003_3_3_1_2_4_2_2_1_0_0_20221019_5158_20240422195050.jpg: 640x480 1 cucumber, 4.1ms\n",
      "Speed: 1.3ms preprocess, 4.1ms inference, 0.2ms postprocess per image at shape (1, 3, 640, 480)\n",
      "x: 1214, y: 1231, w: 425, h: 1915\n",
      "\n",
      "image 1/1 /home/oi/Desktop/song/cucumber-image/data/oi/train/V003_3_3_1_2_4_2_2_1_0_0_20221019_5145_20240422195049.jpg: 640x480 1 cucumber, 4.0ms\n",
      "Speed: 1.3ms preprocess, 4.0ms inference, 0.2ms postprocess per image at shape (1, 3, 640, 480)\n",
      "x: 953, y: 1349, w: 801, h: 1983\n",
      "\n",
      "image 1/1 /home/oi/Desktop/song/cucumber-image/data/oi/train/V003_3_3_1_2_4_2_2_1_0_0_20221019_5295_20240422195057.jpg: 640x480 (no detections), 4.1ms\n",
      "Speed: 1.3ms preprocess, 4.1ms inference, 0.1ms postprocess per image at shape (1, 3, 640, 480)\n",
      "\n",
      "image 1/1 /home/oi/Desktop/song/cucumber-image/data/oi/train/V003_3_3_1_2_4_2_2_1_0_0_20221019_5213_20240422195053.jpg: 640x480 1 cucumber, 4.1ms\n",
      "Speed: 1.3ms preprocess, 4.1ms inference, 0.2ms postprocess per image at shape (1, 3, 640, 480)\n",
      "x: 1136, y: 1248, w: 528, h: 2080\n",
      "\n",
      "image 1/1 /home/oi/Desktop/song/cucumber-image/data/oi/train/V003_3_3_1_2_4_2_2_1_0_0_20221019_5230_20240422195053.jpg: 640x480 (no detections), 4.1ms\n",
      "Speed: 1.3ms preprocess, 4.1ms inference, 0.1ms postprocess per image at shape (1, 3, 640, 480)\n",
      "\n",
      "image 1/1 /home/oi/Desktop/song/cucumber-image/data/oi/train/V003_3_3_1_2_4_2_2_1_0_0_20221015_5080_20240422195046.jpg: 640x480 1 cucumber, 4.1ms\n",
      "Speed: 1.2ms preprocess, 4.1ms inference, 0.2ms postprocess per image at shape (1, 3, 640, 480)\n",
      "x: 1709, y: 1307, w: 498, h: 1877\n",
      "\n",
      "image 1/1 /home/oi/Desktop/song/cucumber-image/data/oi/train/V003_3_3_1_2_4_2_2_1_0_0_20221019_5128_20240422195048.jpg: 640x480 1 cucumber, 4.1ms\n",
      "Speed: 1.3ms preprocess, 4.1ms inference, 0.2ms postprocess per image at shape (1, 3, 640, 480)\n",
      "x: 1747, y: 1474, w: 546, h: 2202\n",
      "\n",
      "image 1/1 /home/oi/Desktop/song/cucumber-image/data/oi/train/V003_3_3_1_2_4_2_2_1_0_0_20221019_5203_20240422195052.jpg: 640x480 1 cucumber, 4.0ms\n",
      "Speed: 1.2ms preprocess, 4.0ms inference, 0.2ms postprocess per image at shape (1, 3, 640, 480)\n",
      "x: 545, y: 1161, w: 494, h: 2306\n",
      "\n",
      "image 1/1 /home/oi/Desktop/song/cucumber-image/data/oi/train/V003_3_3_1_2_4_2_2_1_0_0_20221019_5184_20240422195051.jpg: 640x480 1 cucumber, 4.1ms\n",
      "Speed: 1.3ms preprocess, 4.1ms inference, 0.2ms postprocess per image at shape (1, 3, 640, 480)\n",
      "x: 1398, y: 1490, w: 488, h: 1423\n",
      "\n",
      "image 1/1 /home/oi/Desktop/song/cucumber-image/data/oi/train/V003_3_3_1_2_4_2_2_1_0_0_20221019_5250_20240422195055.jpg: 640x480 1 cucumber, 4.1ms\n",
      "Speed: 1.3ms preprocess, 4.1ms inference, 0.2ms postprocess per image at shape (1, 3, 640, 480)\n",
      "x: 1358, y: 1169, w: 251, h: 1214\n",
      "\n",
      "image 1/1 /home/oi/Desktop/song/cucumber-image/data/oi/train/V003_3_3_1_2_4_2_2_1_0_0_20221019_5096_20240422195046.jpg: 640x480 1 cucumber, 4.1ms\n",
      "Speed: 1.4ms preprocess, 4.1ms inference, 0.2ms postprocess per image at shape (1, 3, 640, 480)\n",
      "x: 1352, y: 1291, w: 446, h: 1222\n",
      "\n",
      "image 1/1 /home/oi/Desktop/song/cucumber-image/data/oi/train/V003_3_3_1_2_4_2_2_1_0_0_20221019_5194_20240422195052.jpg: 640x480 1 cucumber, 4.1ms\n",
      "Speed: 1.4ms preprocess, 4.1ms inference, 0.2ms postprocess per image at shape (1, 3, 640, 480)\n",
      "x: 1152, y: 1028, w: 420, h: 1780\n",
      "\n",
      "image 1/1 /home/oi/Desktop/song/cucumber-image/data/oi/train/V003_3_3_1_2_4_2_2_1_0_0_20221019_5139_20240422195049.jpg: 640x480 1 cucumber, 4.1ms\n",
      "Speed: 1.4ms preprocess, 4.1ms inference, 0.2ms postprocess per image at shape (1, 3, 640, 480)\n",
      "x: 532, y: 1094, w: 396, h: 1853\n",
      "\n",
      "image 1/1 /home/oi/Desktop/song/cucumber-image/data/oi/train/V003_3_3_1_2_4_2_2_1_0_0_20221019_5196_20240422195052.jpg: 640x480 1 cucumber, 4.1ms\n",
      "Speed: 1.4ms preprocess, 4.1ms inference, 0.2ms postprocess per image at shape (1, 3, 640, 480)\n",
      "x: 1238, y: 1150, w: 332, h: 1575\n",
      "\n",
      "image 1/1 /home/oi/Desktop/song/cucumber-image/data/oi/train/V003_3_3_1_2_4_2_2_1_0_0_20221019_5204_20240422195052.jpg: 640x480 1 cucumber, 4.1ms\n",
      "Speed: 1.4ms preprocess, 4.1ms inference, 0.2ms postprocess per image at shape (1, 3, 640, 480)\n",
      "x: 1593, y: 1358, w: 413, h: 1909\n",
      "\n",
      "image 1/1 /home/oi/Desktop/song/cucumber-image/data/oi/train/V003_3_3_1_2_4_2_2_1_0_0_20221015_5078_20240422195046.jpg: 640x480 1 cucumber, 4.1ms\n",
      "Speed: 1.4ms preprocess, 4.1ms inference, 0.2ms postprocess per image at shape (1, 3, 640, 480)\n",
      "x: 1219, y: 1630, w: 332, h: 1771\n",
      "\n",
      "image 1/1 /home/oi/Desktop/song/cucumber-image/data/oi/train/V003_3_3_1_2_4_2_2_1_0_0_20221019_5104_20240422195047.jpg: 640x480 1 cucumber, 4.1ms\n",
      "Speed: 1.4ms preprocess, 4.1ms inference, 0.2ms postprocess per image at shape (1, 3, 640, 480)\n",
      "x: 1507, y: 1267, w: 340, h: 1572\n",
      "\n",
      "image 1/1 /home/oi/Desktop/song/cucumber-image/data/oi/train/V003_3_3_1_2_4_2_2_1_0_0_20221015_5086_20240422195046.jpg: 640x480 1 cucumber, 4.1ms\n",
      "Speed: 1.4ms preprocess, 4.1ms inference, 0.2ms postprocess per image at shape (1, 3, 640, 480)\n",
      "x: 1330, y: 986, w: 336, h: 1414\n",
      "\n",
      "image 1/1 /home/oi/Desktop/song/cucumber-image/data/oi/train/V003_3_3_1_2_4_2_2_1_0_0_20221019_5262_20240422195055.jpg: 640x480 1 cucumber, 4.1ms\n",
      "Speed: 1.5ms preprocess, 4.1ms inference, 0.2ms postprocess per image at shape (1, 3, 640, 480)\n",
      "x: 1425, y: 1153, w: 457, h: 1708\n",
      "\n",
      "image 1/1 /home/oi/Desktop/song/cucumber-image/data/oi/train/V003_3_3_1_2_4_2_2_1_0_0_20221019_5159_20240422195050.jpg: 640x480 1 cucumber, 4.1ms\n",
      "Speed: 1.5ms preprocess, 4.1ms inference, 0.2ms postprocess per image at shape (1, 3, 640, 480)\n",
      "x: 1108, y: 1071, w: 390, h: 2132\n",
      "\n",
      "image 1/1 /home/oi/Desktop/song/cucumber-image/data/oi/train/V003_3_3_1_2_4_2_2_1_0_0_20221019_5301_20240422195057.jpg: 640x480 1 cucumber, 4.1ms\n",
      "Speed: 1.5ms preprocess, 4.1ms inference, 0.2ms postprocess per image at shape (1, 3, 640, 480)\n",
      "x: 1069, y: 1350, w: 448, h: 2090\n",
      "\n",
      "image 1/1 /home/oi/Desktop/song/cucumber-image/data/oi/train/V003_3_3_1_2_4_2_2_1_0_0_20221015_5068_20240422195045.jpg: 640x480 1 cucumber, 4.1ms\n",
      "Speed: 1.4ms preprocess, 4.1ms inference, 0.2ms postprocess per image at shape (1, 3, 640, 480)\n",
      "x: 1467, y: 1425, w: 482, h: 1838\n",
      "\n",
      "image 1/1 /home/oi/Desktop/song/cucumber-image/data/oi/train/V003_3_3_1_2_4_2_2_1_0_0_20221015_5084_20240422195046.jpg: 640x480 1 cucumber, 4.1ms\n",
      "Speed: 1.4ms preprocess, 4.1ms inference, 0.2ms postprocess per image at shape (1, 3, 640, 480)\n",
      "x: 1260, y: 482, w: 459, h: 2198\n",
      "\n",
      "image 1/1 /home/oi/Desktop/song/cucumber-image/data/oi/train/V003_3_3_1_2_4_2_2_1_0_0_20221019_5180_20240422195051.jpg: 640x480 1 cucumber, 4.1ms\n",
      "Speed: 1.3ms preprocess, 4.1ms inference, 0.2ms postprocess per image at shape (1, 3, 640, 480)\n",
      "x: 992, y: 1303, w: 602, h: 1729\n",
      "\n",
      "image 1/1 /home/oi/Desktop/song/cucumber-image/data/oi/train/V003_3_3_1_2_4_2_2_1_0_0_20221019_5162_20240422195050.jpg: 640x480 1 cucumber, 4.1ms\n",
      "Speed: 1.3ms preprocess, 4.1ms inference, 0.2ms postprocess per image at shape (1, 3, 640, 480)\n",
      "x: 1283, y: 1138, w: 440, h: 2225\n",
      "\n",
      "image 1/1 /home/oi/Desktop/song/cucumber-image/data/oi/train/V003_3_3_1_2_4_2_2_1_0_0_20221019_5133_20240422195048.jpg: 640x480 1 cucumber, 4.1ms\n",
      "Speed: 1.3ms preprocess, 4.1ms inference, 0.2ms postprocess per image at shape (1, 3, 640, 480)\n",
      "x: 1769, y: 1551, w: 360, h: 1701\n",
      "\n",
      "image 1/1 /home/oi/Desktop/song/cucumber-image/data/oi/train/V003_3_3_1_2_4_2_2_1_0_0_20221019_5132_20240422195048.jpg: 640x480 2 cucumbers, 4.1ms\n",
      "Speed: 1.3ms preprocess, 4.1ms inference, 0.1ms postprocess per image at shape (1, 3, 640, 480)\n",
      "x: 1184, y: 1438, w: 619, h: 2163\n",
      "\n",
      "image 1/1 /home/oi/Desktop/song/cucumber-image/data/oi/train/V003_3_3_1_2_4_2_2_1_0_0_20221019_5237_20240422195054.jpg: 640x480 1 cucumber, 4.0ms\n",
      "Speed: 1.3ms preprocess, 4.0ms inference, 0.2ms postprocess per image at shape (1, 3, 640, 480)\n",
      "x: 1492, y: 1270, w: 536, h: 2055\n",
      "\n",
      "image 1/1 /home/oi/Desktop/song/cucumber-image/data/oi/train/V003_3_3_1_2_4_2_2_1_0_0_20221015_5069_20240422195045.jpg: 640x480 1 cucumber, 4.1ms\n",
      "Speed: 1.3ms preprocess, 4.1ms inference, 0.2ms postprocess per image at shape (1, 3, 640, 480)\n",
      "x: 1193, y: 1602, w: 790, h: 2377\n",
      "\n",
      "image 1/1 /home/oi/Desktop/song/cucumber-image/data/oi/train/V003_3_3_1_2_4_2_2_1_0_0_20221019_5245_20240422195054.jpg: 640x480 1 cucumber, 4.1ms\n",
      "Speed: 1.3ms preprocess, 4.1ms inference, 0.2ms postprocess per image at shape (1, 3, 640, 480)\n",
      "x: 1270, y: 1628, w: 417, h: 1145\n",
      "\n",
      "image 1/1 /home/oi/Desktop/song/cucumber-image/data/oi/train/V003_3_3_1_2_4_2_2_1_0_0_20221019_5297_20240422195057.jpg: 640x480 2 cucumbers, 4.1ms\n",
      "Speed: 1.2ms preprocess, 4.1ms inference, 0.1ms postprocess per image at shape (1, 3, 640, 480)\n",
      "x: 1047, y: 1590, w: 234, h: 1207\n",
      "\n",
      "image 1/1 /home/oi/Desktop/song/cucumber-image/data/oi/train/V003_3_3_1_2_4_2_2_1_0_0_20221019_5288_20240422195057.jpg: 640x480 1 cucumber, 4.1ms\n",
      "Speed: 1.3ms preprocess, 4.1ms inference, 0.2ms postprocess per image at shape (1, 3, 640, 480)\n",
      "x: 823, y: 1495, w: 220, h: 965\n",
      "\n",
      "image 1/1 /home/oi/Desktop/song/cucumber-image/data/oi/train/V003_3_3_1_2_4_2_2_1_0_0_20221019_5152_20240422195049.jpg: 640x480 2 cucumbers, 4.1ms\n",
      "Speed: 1.3ms preprocess, 4.1ms inference, 0.1ms postprocess per image at shape (1, 3, 640, 480)\n",
      "x: 1329, y: 977, w: 479, h: 2142\n",
      "\n",
      "image 1/1 /home/oi/Desktop/song/cucumber-image/data/oi/train/V003_3_3_1_2_4_2_2_1_0_0_20221019_5188_20240422195051.jpg: 640x480 1 cucumber, 4.1ms\n",
      "Speed: 1.3ms preprocess, 4.1ms inference, 0.2ms postprocess per image at shape (1, 3, 640, 480)\n",
      "x: 1014, y: 1136, w: 462, h: 2018\n",
      "\n",
      "image 1/1 /home/oi/Desktop/song/cucumber-image/data/oi/train/V003_3_3_1_2_4_2_2_1_0_0_20221019_5134_20240422195048.jpg: 640x480 1 cucumber, 4.1ms\n",
      "Speed: 1.3ms preprocess, 4.1ms inference, 0.2ms postprocess per image at shape (1, 3, 640, 480)\n",
      "x: 610, y: 1435, w: 461, h: 1739\n",
      "\n",
      "image 1/1 /home/oi/Desktop/song/cucumber-image/data/oi/train/V003_3_3_1_2_4_2_2_1_0_0_20221019_5168_20240422195050.jpg: 640x480 (no detections), 4.1ms\n",
      "Speed: 1.3ms preprocess, 4.1ms inference, 0.1ms postprocess per image at shape (1, 3, 640, 480)\n",
      "\n",
      "image 1/1 /home/oi/Desktop/song/cucumber-image/data/oi/train/V003_3_3_1_2_4_2_2_1_0_0_20221019_5090_20240422195046.jpg: 640x480 1 cucumber, 4.1ms\n",
      "Speed: 1.3ms preprocess, 4.1ms inference, 0.2ms postprocess per image at shape (1, 3, 640, 480)\n",
      "x: 1079, y: 1147, w: 597, h: 1738\n",
      "\n",
      "image 1/1 /home/oi/Desktop/song/cucumber-image/data/oi/train/V003_3_3_1_2_4_2_2_1_0_0_20221019_5270_20240422195056.jpg: 640x480 1 cucumber, 4.0ms\n",
      "Speed: 1.3ms preprocess, 4.0ms inference, 0.2ms postprocess per image at shape (1, 3, 640, 480)\n",
      "x: 1040, y: 1185, w: 529, h: 2179\n",
      "\n",
      "image 1/1 /home/oi/Desktop/song/cucumber-image/data/oi/train/V003_3_3_1_2_4_2_2_1_0_0_20221019_5130_20240422195048.jpg: 640x480 1 cucumber, 4.0ms\n",
      "Speed: 1.2ms preprocess, 4.0ms inference, 0.2ms postprocess per image at shape (1, 3, 640, 480)\n",
      "x: 1462, y: 1393, w: 607, h: 2149\n",
      "\n",
      "image 1/1 /home/oi/Desktop/song/cucumber-image/data/oi/train/V003_3_3_1_2_4_2_2_1_0_0_20221019_5171_20240422195050.jpg: 640x480 1 cucumber, 4.1ms\n",
      "Speed: 1.2ms preprocess, 4.1ms inference, 0.2ms postprocess per image at shape (1, 3, 640, 480)\n",
      "x: 1109, y: 1181, w: 523, h: 2016\n",
      "\n",
      "image 1/1 /home/oi/Desktop/song/cucumber-image/data/oi/train/V003_3_3_1_2_4_2_2_1_0_0_20221019_5290_20240422195057.jpg: 640x480 1 cucumber, 4.1ms\n",
      "Speed: 1.4ms preprocess, 4.1ms inference, 0.2ms postprocess per image at shape (1, 3, 640, 480)\n",
      "x: 1098, y: 1091, w: 452, h: 2085\n",
      "\n",
      "image 1/1 /home/oi/Desktop/song/cucumber-image/data/oi/train/V003_3_3_1_2_4_2_2_1_0_0_20221019_5307_20240422195058.jpg: 640x480 1 cucumber, 4.1ms\n",
      "Speed: 1.3ms preprocess, 4.1ms inference, 0.2ms postprocess per image at shape (1, 3, 640, 480)\n",
      "x: 1052, y: 621, w: 524, h: 2351\n",
      "\n",
      "image 1/1 /home/oi/Desktop/song/cucumber-image/data/oi/train/V003_3_3_1_2_4_2_2_1_0_0_20221019_5238_20240422195054.jpg: 640x480 1 cucumber, 4.1ms\n",
      "Speed: 1.3ms preprocess, 4.1ms inference, 0.2ms postprocess per image at shape (1, 3, 640, 480)\n",
      "x: 1147, y: 1492, w: 339, h: 1468\n",
      "\n",
      "image 1/1 /home/oi/Desktop/song/cucumber-image/data/oi/train/V003_3_3_1_2_4_2_2_1_0_0_20221015_5081_20240422195046.jpg: 640x480 1 cucumber, 4.1ms\n",
      "Speed: 1.3ms preprocess, 4.1ms inference, 0.2ms postprocess per image at shape (1, 3, 640, 480)\n",
      "x: 1286, y: 1427, w: 437, h: 1649\n",
      "\n",
      "image 1/1 /home/oi/Desktop/song/cucumber-image/data/oi/train/V003_3_3_1_2_4_2_2_1_0_0_20221019_5309_20240422195058.jpg: 640x480 1 cucumber, 4.1ms\n",
      "Speed: 1.3ms preprocess, 4.1ms inference, 0.2ms postprocess per image at shape (1, 3, 640, 480)\n",
      "x: 1232, y: 1151, w: 407, h: 2287\n",
      "\n",
      "image 1/1 /home/oi/Desktop/song/cucumber-image/data/oi/train/V003_3_3_1_2_4_2_2_1_0_0_20221019_5117_20240422195048.jpg: 640x480 1 cucumber, 4.1ms\n",
      "Speed: 1.2ms preprocess, 4.1ms inference, 0.2ms postprocess per image at shape (1, 3, 640, 480)\n",
      "x: 1648, y: 1720, w: 758, h: 1808\n",
      "\n",
      "image 1/1 /home/oi/Desktop/song/cucumber-image/data/oi/train/V003_3_3_1_2_4_2_2_1_0_0_20221019_5285_20240422195057.jpg: 640x480 1 cucumber, 4.1ms\n",
      "Speed: 1.3ms preprocess, 4.1ms inference, 0.2ms postprocess per image at shape (1, 3, 640, 480)\n",
      "x: 975, y: 1299, w: 470, h: 1784\n",
      "\n",
      "image 1/1 /home/oi/Desktop/song/cucumber-image/data/oi/train/V003_3_3_1_2_4_2_2_1_0_0_20221019_5291_20240422195057.jpg: 640x480 1 cucumber, 4.1ms\n",
      "Speed: 1.3ms preprocess, 4.1ms inference, 0.2ms postprocess per image at shape (1, 3, 640, 480)\n",
      "x: 981, y: 1179, w: 407, h: 2100\n",
      "\n",
      "image 1/1 /home/oi/Desktop/song/cucumber-image/data/oi/train/V003_3_3_1_2_4_2_2_1_0_0_20221019_5310_20240422195058.jpg: 640x480 1 cucumber, 4.1ms\n",
      "Speed: 1.3ms preprocess, 4.1ms inference, 0.1ms postprocess per image at shape (1, 3, 640, 480)\n",
      "x: 991, y: 1118, w: 450, h: 2184\n",
      "\n",
      "image 1/1 /home/oi/Desktop/song/cucumber-image/data/oi/train/V003_3_3_1_2_4_2_2_1_0_0_20221019_5093_20240422195046.jpg: 640x480 1 cucumber, 4.1ms\n",
      "Speed: 1.2ms preprocess, 4.1ms inference, 0.2ms postprocess per image at shape (1, 3, 640, 480)\n",
      "x: 1058, y: 1047, w: 616, h: 1674\n",
      "\n",
      "image 1/1 /home/oi/Desktop/song/cucumber-image/data/oi/train/V003_3_3_1_2_4_2_2_1_0_0_20221019_5252_20240422195055.jpg: 640x480 1 cucumber, 4.1ms\n",
      "Speed: 1.3ms preprocess, 4.1ms inference, 0.2ms postprocess per image at shape (1, 3, 640, 480)\n",
      "x: 1039, y: 593, w: 499, h: 1599\n",
      "\n",
      "image 1/1 /home/oi/Desktop/song/cucumber-image/data/oi/train/V003_3_3_1_2_4_2_2_1_0_0_20221019_5239_20240422195054.jpg: 640x480 1 cucumber, 4.1ms\n",
      "Speed: 1.3ms preprocess, 4.1ms inference, 0.2ms postprocess per image at shape (1, 3, 640, 480)\n",
      "x: 1528, y: 1245, w: 645, h: 2495\n",
      "\n",
      "image 1/1 /home/oi/Desktop/song/cucumber-image/data/oi/train/V003_3_3_1_2_4_2_2_1_0_0_20221015_5077_20240422195046.jpg: 640x480 1 cucumber, 4.1ms\n",
      "Speed: 1.3ms preprocess, 4.1ms inference, 0.2ms postprocess per image at shape (1, 3, 640, 480)\n",
      "x: 1402, y: 1357, w: 425, h: 1849\n",
      "\n",
      "image 1/1 /home/oi/Desktop/song/cucumber-image/data/oi/train/V003_3_3_1_2_4_2_2_1_0_0_20221019_5215_20240422195053.jpg: 640x480 1 cucumber, 4.1ms\n",
      "Speed: 1.2ms preprocess, 4.1ms inference, 0.2ms postprocess per image at shape (1, 3, 640, 480)\n",
      "x: 1327, y: 1166, w: 516, h: 2084\n",
      "\n",
      "image 1/1 /home/oi/Desktop/song/cucumber-image/data/oi/train/V003_3_3_1_2_4_2_2_1_0_0_20221019_5315_20240422195058.jpg: 640x480 1 cucumber, 4.1ms\n",
      "Speed: 1.4ms preprocess, 4.1ms inference, 0.2ms postprocess per image at shape (1, 3, 640, 480)\n",
      "x: 1371, y: 1502, w: 448, h: 1941\n",
      "\n",
      "image 1/1 /home/oi/Desktop/song/cucumber-image/data/oi/train/V003_3_3_1_2_4_2_2_1_0_0_20221019_5293_20240422195057.jpg: 640x480 1 cucumber, 4.1ms\n",
      "Speed: 1.3ms preprocess, 4.1ms inference, 0.2ms postprocess per image at shape (1, 3, 640, 480)\n",
      "x: 1015, y: 1299, w: 279, h: 1467\n",
      "\n",
      "image 1/1 /home/oi/Desktop/song/cucumber-image/data/oi/train/V003_3_3_1_2_4_2_2_1_0_0_20221019_5142_20240422195049.jpg: 640x480 1 cucumber, 4.1ms\n",
      "Speed: 1.3ms preprocess, 4.1ms inference, 0.1ms postprocess per image at shape (1, 3, 640, 480)\n",
      "x: 974, y: 1042, w: 554, h: 2112\n",
      "\n",
      "image 1/1 /home/oi/Desktop/song/cucumber-image/data/oi/train/V003_3_3_1_2_4_2_2_1_0_0_20221019_5298_20240422195057.jpg: 640x480 1 cucumber, 4.1ms\n",
      "Speed: 1.2ms preprocess, 4.1ms inference, 0.2ms postprocess per image at shape (1, 3, 640, 480)\n",
      "x: 1391, y: 1149, w: 454, h: 2157\n",
      "\n",
      "image 1/1 /home/oi/Desktop/song/cucumber-image/data/oi/train/V003_3_3_1_2_4_2_2_1_0_0_20221019_5276_20240422195056.jpg: 640x480 1 cucumber, 4.1ms\n",
      "Speed: 1.3ms preprocess, 4.1ms inference, 0.2ms postprocess per image at shape (1, 3, 640, 480)\n",
      "x: 1309, y: 1833, w: 721, h: 1167\n",
      "\n",
      "image 1/1 /home/oi/Desktop/song/cucumber-image/data/oi/train/V003_3_3_1_2_4_2_2_1_0_0_20221019_5174_20240422195051.jpg: 640x480 1 cucumber, 4.1ms\n",
      "Speed: 1.2ms preprocess, 4.1ms inference, 0.2ms postprocess per image at shape (1, 3, 640, 480)\n",
      "x: 1260, y: 1277, w: 423, h: 2170\n",
      "\n",
      "image 1/1 /home/oi/Desktop/song/cucumber-image/data/oi/train/V003_3_3_1_2_4_2_2_1_0_0_20221019_5236_20240422195054.jpg: 640x480 1 cucumber, 4.1ms\n",
      "Speed: 1.3ms preprocess, 4.1ms inference, 0.2ms postprocess per image at shape (1, 3, 640, 480)\n",
      "x: 603, y: 1085, w: 638, h: 2299\n",
      "\n",
      "image 1/1 /home/oi/Desktop/song/cucumber-image/data/oi/train/V003_3_3_1_2_4_2_2_1_0_0_20221019_5122_20240422195048.jpg: 640x480 1 cucumber, 4.1ms\n",
      "Speed: 1.3ms preprocess, 4.1ms inference, 0.2ms postprocess per image at shape (1, 3, 640, 480)\n",
      "x: 977, y: 684, w: 1077, h: 2854\n",
      "\n",
      "image 1/1 /home/oi/Desktop/song/cucumber-image/data/oi/train/V003_3_3_1_2_4_2_2_1_0_0_20221019_5175_20240422195051.jpg: 640x480 1 cucumber, 4.1ms\n",
      "Speed: 1.3ms preprocess, 4.1ms inference, 0.2ms postprocess per image at shape (1, 3, 640, 480)\n",
      "x: 860, y: 419, w: 515, h: 2790\n",
      "\n",
      "image 1/1 /home/oi/Desktop/song/cucumber-image/data/oi/train/V003_3_3_1_2_4_2_2_1_0_0_20221019_5243_20240422195054.jpg: 640x480 2 cucumbers, 4.1ms\n",
      "Speed: 1.2ms preprocess, 4.1ms inference, 0.2ms postprocess per image at shape (1, 3, 640, 480)\n",
      "x: 1044, y: 1614, w: 511, h: 1421\n",
      "\n",
      "image 1/1 /home/oi/Desktop/song/cucumber-image/data/oi/train/V003_3_3_1_2_4_2_2_1_0_0_20221019_5260_20240422195055.jpg: 640x480 1 cucumber, 4.1ms\n",
      "Speed: 1.3ms preprocess, 4.1ms inference, 0.2ms postprocess per image at shape (1, 3, 640, 480)\n",
      "x: 1004, y: 880, w: 300, h: 1968\n",
      "\n",
      "image 1/1 /home/oi/Desktop/song/cucumber-image/data/oi/train/V003_3_3_1_2_4_2_2_1_0_0_20221019_5314_20240422195058.jpg: 640x480 1 cucumber, 4.1ms\n",
      "Speed: 1.2ms preprocess, 4.1ms inference, 0.2ms postprocess per image at shape (1, 3, 640, 480)\n",
      "x: 1341, y: 1274, w: 560, h: 1948\n",
      "\n",
      "image 1/1 /home/oi/Desktop/song/cucumber-image/data/oi/train/V003_3_3_1_2_4_2_2_1_0_0_20221015_5070_20240422195045.jpg: 640x480 2 cucumbers, 4.1ms\n",
      "Speed: 1.3ms preprocess, 4.1ms inference, 0.1ms postprocess per image at shape (1, 3, 640, 480)\n",
      "x: 1180, y: 1330, w: 779, h: 2371\n",
      "\n",
      "image 1/1 /home/oi/Desktop/song/cucumber-image/data/oi/train/V003_3_3_1_2_4_2_2_1_0_0_20221019_5103_20240422195047.jpg: 640x480 1 cucumber, 4.1ms\n",
      "Speed: 1.3ms preprocess, 4.1ms inference, 0.2ms postprocess per image at shape (1, 3, 640, 480)\n",
      "x: 1881, y: 1063, w: 351, h: 1689\n",
      "\n",
      "image 1/1 /home/oi/Desktop/song/cucumber-image/data/oi/train/V003_3_3_1_2_4_2_2_1_0_0_20221019_5190_20240422195051.jpg: 640x480 1 cucumber, 4.1ms\n",
      "Speed: 1.6ms preprocess, 4.1ms inference, 0.2ms postprocess per image at shape (1, 3, 640, 480)\n",
      "x: 1362, y: 1260, w: 332, h: 1669\n",
      "\n",
      "image 1/1 /home/oi/Desktop/song/cucumber-image/data/oi/train/V003_3_3_1_2_4_2_2_1_0_0_20221019_5318_20240422195058.jpg: 640x480 1 cucumber, 4.1ms\n",
      "Speed: 1.5ms preprocess, 4.1ms inference, 0.2ms postprocess per image at shape (1, 3, 640, 480)\n",
      "x: 1008, y: 1033, w: 467, h: 2229\n",
      "\n",
      "image 1/1 /home/oi/Desktop/song/cucumber-image/data/oi/train/V003_3_3_1_2_4_2_2_1_0_0_20221019_5119_20240422195048.jpg: 480x640 (no detections), 4.2ms\n",
      "Speed: 1.3ms preprocess, 4.2ms inference, 0.1ms postprocess per image at shape (1, 3, 480, 640)\n",
      "\n",
      "image 1/1 /home/oi/Desktop/song/cucumber-image/data/oi/train/V003_3_3_1_2_4_2_2_1_0_0_20221019_5097_20240422195047.jpg: 640x480 1 cucumber, 4.3ms\n",
      "Speed: 1.4ms preprocess, 4.3ms inference, 0.1ms postprocess per image at shape (1, 3, 640, 480)\n",
      "x: 1291, y: 1371, w: 453, h: 1199\n",
      "\n",
      "image 1/1 /home/oi/Desktop/song/cucumber-image/data/oi/train/V003_3_3_1_2_4_2_2_1_0_0_20221019_5235_20240422195054.jpg: 640x480 1 cucumber, 4.1ms\n",
      "Speed: 1.4ms preprocess, 4.1ms inference, 0.1ms postprocess per image at shape (1, 3, 640, 480)\n",
      "x: 867, y: 1170, w: 591, h: 2233\n",
      "\n",
      "image 1/1 /home/oi/Desktop/song/cucumber-image/data/oi/train/V003_3_3_1_2_4_2_2_1_0_0_20221015_5071_20240422195045.jpg: 640x480 1 cucumber, 4.0ms\n",
      "Speed: 1.2ms preprocess, 4.0ms inference, 0.2ms postprocess per image at shape (1, 3, 640, 480)\n",
      "x: 853, y: 1527, w: 614, h: 2286\n",
      "\n",
      "image 1/1 /home/oi/Desktop/song/cucumber-image/data/oi/train/V003_3_3_1_2_4_2_2_1_0_0_20221019_5229_20240422195053.jpg: 640x480 1 cucumber, 4.1ms\n",
      "Speed: 1.2ms preprocess, 4.1ms inference, 0.1ms postprocess per image at shape (1, 3, 640, 480)\n",
      "x: 1104, y: 1265, w: 620, h: 2294\n",
      "\n",
      "image 1/1 /home/oi/Desktop/song/cucumber-image/data/oi/train/V003_3_3_1_2_4_2_2_1_0_0_20221019_5263_20240422195055.jpg: 640x480 1 cucumber, 4.0ms\n",
      "Speed: 1.2ms preprocess, 4.0ms inference, 0.2ms postprocess per image at shape (1, 3, 640, 480)\n",
      "x: 1413, y: 1318, w: 428, h: 1485\n",
      "\n",
      "image 1/1 /home/oi/Desktop/song/cucumber-image/data/oi/train/V003_3_3_1_2_4_2_2_1_0_0_20221019_5200_20240422195052.jpg: 640x480 1 cucumber, 4.1ms\n",
      "Speed: 1.3ms preprocess, 4.1ms inference, 0.2ms postprocess per image at shape (1, 3, 640, 480)\n",
      "x: 1012, y: 1801, w: 384, h: 1637\n",
      "\n",
      "image 1/1 /home/oi/Desktop/song/cucumber-image/data/oi/train/V003_3_3_1_2_4_2_2_1_0_0_20221019_5101_20240422195047.jpg: 640x480 1 cucumber, 4.1ms\n",
      "Speed: 1.2ms preprocess, 4.1ms inference, 0.2ms postprocess per image at shape (1, 3, 640, 480)\n",
      "x: 1365, y: 1371, w: 359, h: 1695\n",
      "\n",
      "image 1/1 /home/oi/Desktop/song/cucumber-image/data/oi/train/V003_3_3_1_2_4_2_2_1_0_0_20221019_5220_20240422195053.jpg: 640x480 2 cucumbers, 4.0ms\n",
      "Speed: 1.2ms preprocess, 4.0ms inference, 0.1ms postprocess per image at shape (1, 3, 640, 480)\n",
      "x: 669, y: 1536, w: 400, h: 1537\n",
      "\n",
      "image 1/1 /home/oi/Desktop/song/cucumber-image/data/oi/train/V003_3_3_1_2_4_2_2_1_0_0_20221015_5075_20240422195045.jpg: 640x480 2 cucumbers, 4.0ms\n",
      "Speed: 1.2ms preprocess, 4.0ms inference, 0.1ms postprocess per image at shape (1, 3, 640, 480)\n",
      "x: 1028, y: 1547, w: 456, h: 1895\n",
      "\n",
      "image 1/1 /home/oi/Desktop/song/cucumber-image/data/oi/train/V003_3_3_1_2_4_2_2_1_0_0_20221019_5231_20240422195053.jpg: 640x480 1 cucumber, 4.0ms\n",
      "Speed: 1.2ms preprocess, 4.0ms inference, 0.1ms postprocess per image at shape (1, 3, 640, 480)\n",
      "x: 1150, y: 1420, w: 583, h: 2197\n",
      "\n",
      "image 1/1 /home/oi/Desktop/song/cucumber-image/data/oi/train/V003_3_3_1_2_4_2_2_1_0_0_20221019_5115_20240422195047.jpg: 640x480 1 cucumber, 4.1ms\n",
      "Speed: 1.2ms preprocess, 4.1ms inference, 0.2ms postprocess per image at shape (1, 3, 640, 480)\n",
      "x: 1209, y: 1498, w: 383, h: 1698\n",
      "\n",
      "image 1/1 /home/oi/Desktop/song/cucumber-image/data/oi/train/V003_3_3_1_2_4_2_2_1_0_0_20221019_5173_20240422195051.jpg: 640x480 1 cucumber, 4.1ms\n",
      "Speed: 1.3ms preprocess, 4.1ms inference, 0.2ms postprocess per image at shape (1, 3, 640, 480)\n",
      "x: 1260, y: 1277, w: 423, h: 2170\n",
      "\n",
      "image 1/1 /home/oi/Desktop/song/cucumber-image/data/oi/train/V003_3_3_1_2_4_2_2_1_0_0_20221019_5105_20240422195047.jpg: 640x480 1 cucumber, 4.1ms\n",
      "Speed: 1.3ms preprocess, 4.1ms inference, 0.2ms postprocess per image at shape (1, 3, 640, 480)\n",
      "x: 1240, y: 1583, w: 469, h: 1494\n",
      "\n",
      "image 1/1 /home/oi/Desktop/song/cucumber-image/data/oi/train/V003_3_3_1_2_4_2_2_1_0_0_20221019_5161_20240422195050.jpg: 640x480 1 cucumber, 4.1ms\n",
      "Speed: 1.2ms preprocess, 4.1ms inference, 0.2ms postprocess per image at shape (1, 3, 640, 480)\n",
      "x: 1299, y: 870, w: 412, h: 2287\n",
      "\n",
      "image 1/1 /home/oi/Desktop/song/cucumber-image/data/oi/train/V003_3_3_1_2_4_2_2_1_0_0_20221019_5304_20240422195058.jpg: 640x480 1 cucumber, 4.1ms\n",
      "Speed: 1.3ms preprocess, 4.1ms inference, 0.2ms postprocess per image at shape (1, 3, 640, 480)\n",
      "x: 1431, y: 822, w: 683, h: 2175\n",
      "\n",
      "image 1/1 /home/oi/Desktop/song/cucumber-image/data/oi/train/V003_3_3_1_2_4_2_2_1_0_0_20221019_5308_20240422195058.jpg: 640x480 1 cucumber, 4.1ms\n",
      "Speed: 1.3ms preprocess, 4.1ms inference, 0.2ms postprocess per image at shape (1, 3, 640, 480)\n",
      "x: 1468, y: 1527, w: 358, h: 1601\n",
      "\n",
      "image 1/1 /home/oi/Desktop/song/cucumber-image/data/oi/train/V003_3_3_1_2_4_2_2_1_0_0_20221019_5212_20240422195053.jpg: 640x480 1 cucumber, 4.1ms\n",
      "Speed: 1.3ms preprocess, 4.1ms inference, 0.1ms postprocess per image at shape (1, 3, 640, 480)\n",
      "x: 1088, y: 1378, w: 253, h: 1285\n",
      "\n",
      "image 1/1 /home/oi/Desktop/song/cucumber-image/data/oi/train/V003_3_3_1_2_4_2_2_1_0_0_20221019_5172_20240422195050.jpg: 640x480 1 cucumber, 4.1ms\n",
      "Speed: 1.3ms preprocess, 4.1ms inference, 0.1ms postprocess per image at shape (1, 3, 640, 480)\n",
      "x: 1109, y: 1181, w: 523, h: 2016\n",
      "\n",
      "image 1/1 /home/oi/Desktop/song/cucumber-image/data/oi/train/V003_3_3_1_2_4_2_2_1_0_0_20221019_5148_20240422195049.jpg: 640x480 1 cucumber, 4.1ms\n",
      "Speed: 1.3ms preprocess, 4.1ms inference, 0.2ms postprocess per image at shape (1, 3, 640, 480)\n",
      "x: 1102, y: 1709, w: 386, h: 1698\n",
      "\n",
      "image 1/1 /home/oi/Desktop/song/cucumber-image/data/oi/train/V003_3_3_1_2_4_2_2_1_0_0_20221019_5273_20240422195056.jpg: 640x480 1 cucumber, 4.1ms\n",
      "Speed: 1.3ms preprocess, 4.1ms inference, 0.2ms postprocess per image at shape (1, 3, 640, 480)\n",
      "x: 534, y: 940, w: 724, h: 2362\n",
      "\n",
      "image 1/1 /home/oi/Desktop/song/cucumber-image/data/oi/train/V003_3_3_1_2_4_2_2_1_0_0_20221019_5138_20240422195049.jpg: 640x480 1 cucumber, 4.1ms\n",
      "Speed: 1.3ms preprocess, 4.1ms inference, 0.2ms postprocess per image at shape (1, 3, 640, 480)\n",
      "x: 822, y: 1662, w: 289, h: 1889\n",
      "\n",
      "image 1/1 /home/oi/Desktop/song/cucumber-image/data/oi/train/V003_3_3_1_2_4_2_2_1_0_0_20221019_5306_20240422195058.jpg: 640x480 2 cucumbers, 4.0ms\n",
      "Speed: 1.3ms preprocess, 4.0ms inference, 0.1ms postprocess per image at shape (1, 3, 640, 480)\n",
      "x: 1603, y: 1030, w: 354, h: 1742\n",
      "\n",
      "image 1/1 /home/oi/Desktop/song/cucumber-image/data/oi/train/V003_3_3_1_2_4_2_2_1_0_0_20221019_5266_20240422195055.jpg: 640x480 1 cucumber, 4.1ms\n",
      "Speed: 1.3ms preprocess, 4.1ms inference, 0.2ms postprocess per image at shape (1, 3, 640, 480)\n",
      "x: 1449, y: 1426, w: 348, h: 1762\n",
      "\n",
      "image 1/1 /home/oi/Desktop/song/cucumber-image/data/oi/train/V003_3_3_1_2_4_2_2_1_0_0_20221019_5319_20240422195059.jpg: 640x480 1 cucumber, 4.1ms\n",
      "Speed: 1.3ms preprocess, 4.1ms inference, 0.2ms postprocess per image at shape (1, 3, 640, 480)\n",
      "x: 567, y: 1703, w: 272, h: 903\n",
      "\n",
      "image 1/1 /home/oi/Desktop/song/cucumber-image/data/oi/train/V003_3_3_1_2_4_2_2_1_0_0_20221019_5089_20240422195046.jpg: 640x480 1 cucumber, 4.0ms\n",
      "Speed: 1.3ms preprocess, 4.0ms inference, 0.2ms postprocess per image at shape (1, 3, 640, 480)\n",
      "x: 925, y: 1206, w: 868, h: 2489\n",
      "\n",
      "image 1/1 /home/oi/Desktop/song/cucumber-image/data/oi/train/V003_3_3_1_2_4_2_2_1_0_0_20221019_5127_20240422195048.jpg: 640x480 1 cucumber, 4.0ms\n",
      "Speed: 1.2ms preprocess, 4.0ms inference, 0.2ms postprocess per image at shape (1, 3, 640, 480)\n",
      "x: 1020, y: 1373, w: 774, h: 2206\n",
      "\n",
      "image 1/1 /home/oi/Desktop/song/cucumber-image/data/oi/train/V003_3_3_1_2_4_2_2_1_0_0_20221019_5226_20240422195053.jpg: 640x480 1 cucumber, 4.1ms\n",
      "Speed: 1.3ms preprocess, 4.1ms inference, 0.2ms postprocess per image at shape (1, 3, 640, 480)\n",
      "x: 1344, y: 1210, w: 512, h: 2537\n",
      "\n",
      "image 1/1 /home/oi/Desktop/song/cucumber-image/data/oi/train/V003_3_3_1_2_4_2_2_1_0_0_20221019_5146_20240422195049.jpg: 640x480 1 cucumber, 4.1ms\n",
      "Speed: 1.3ms preprocess, 4.1ms inference, 0.2ms postprocess per image at shape (1, 3, 640, 480)\n",
      "x: 901, y: 1516, w: 500, h: 1568\n",
      "\n",
      "image 1/1 /home/oi/Desktop/song/cucumber-image/data/oi/train/V003_3_3_1_2_4_2_2_1_0_0_20221019_5118_20240422195048.jpg: 640x480 1 cucumber, 4.1ms\n",
      "Speed: 1.3ms preprocess, 4.1ms inference, 0.2ms postprocess per image at shape (1, 3, 640, 480)\n",
      "x: 962, y: 1216, w: 852, h: 2551\n",
      "\n",
      "image 1/1 /home/oi/Desktop/song/cucumber-image/data/oi/train/V003_3_3_1_2_4_2_2_1_0_0_20221019_5280_20240422195056.jpg: 640x480 1 cucumber, 4.0ms\n",
      "Speed: 1.2ms preprocess, 4.0ms inference, 0.2ms postprocess per image at shape (1, 3, 640, 480)\n",
      "x: 959, y: 1318, w: 386, h: 1898\n",
      "\n",
      "image 1/1 /home/oi/Desktop/song/cucumber-image/data/oi/train/V003_3_3_1_2_4_2_2_1_0_0_20221019_5131_20240422195048.jpg: 640x480 1 cucumber, 4.1ms\n",
      "Speed: 1.2ms preprocess, 4.1ms inference, 0.2ms postprocess per image at shape (1, 3, 640, 480)\n",
      "x: 777, y: 694, w: 678, h: 2002\n",
      "\n",
      "image 1/1 /home/oi/Desktop/song/cucumber-image/data/oi/train/V003_3_3_1_2_4_2_2_1_0_0_20221019_5197_20240422195052.jpg: 640x480 1 cucumber, 4.1ms\n",
      "Speed: 1.3ms preprocess, 4.1ms inference, 0.2ms postprocess per image at shape (1, 3, 640, 480)\n",
      "x: 1305, y: 747, w: 434, h: 1860\n",
      "\n",
      "image 1/1 /home/oi/Desktop/song/cucumber-image/data/oi/train/V003_3_3_1_2_4_2_2_1_0_0_20221019_5164_20240422195050.jpg: 640x480 1 cucumber, 4.1ms\n",
      "Speed: 1.3ms preprocess, 4.1ms inference, 0.2ms postprocess per image at shape (1, 3, 640, 480)\n",
      "x: 1963, y: 1371, w: 484, h: 1756\n",
      "\n",
      "image 1/1 /home/oi/Desktop/song/cucumber-image/data/oi/train/V003_3_3_1_2_4_2_2_1_0_0_20221019_5302_20240422195058.jpg: 640x480 1 cucumber, 4.1ms\n",
      "Speed: 1.3ms preprocess, 4.1ms inference, 0.2ms postprocess per image at shape (1, 3, 640, 480)\n",
      "x: 1628, y: 1620, w: 216, h: 1120\n",
      "\n",
      "image 1/1 /home/oi/Desktop/song/cucumber-image/data/oi/train/V003_3_3_1_2_4_2_2_1_0_0_20221015_5082_20240422195046.jpg: 640x480 1 cucumber, 4.1ms\n",
      "Speed: 1.2ms preprocess, 4.1ms inference, 0.2ms postprocess per image at shape (1, 3, 640, 480)\n",
      "x: 915, y: 1723, w: 503, h: 1397\n",
      "\n",
      "image 1/1 /home/oi/Desktop/song/cucumber-image/data/oi/train/V003_3_3_1_2_4_2_2_1_0_0_20221019_5267_20240422195056.jpg: 640x480 1 cucumber, 4.1ms\n",
      "Speed: 1.2ms preprocess, 4.1ms inference, 0.2ms postprocess per image at shape (1, 3, 640, 480)\n",
      "x: 1003, y: 1393, w: 312, h: 1769\n",
      "\n",
      "image 1/1 /home/oi/Desktop/song/cucumber-image/data/oi/train/V003_3_3_1_2_4_2_2_1_0_0_20221019_5167_20240422195050.jpg: 640x480 1 cucumber, 4.0ms\n",
      "Speed: 1.2ms preprocess, 4.0ms inference, 0.2ms postprocess per image at shape (1, 3, 640, 480)\n",
      "x: 1321, y: 1432, w: 599, h: 1632\n",
      "\n",
      "image 1/1 /home/oi/Desktop/song/cucumber-image/data/oi/train/V003_3_3_1_2_4_2_2_1_0_0_20221019_5141_20240422195049.jpg: 640x480 1 cucumber, 4.1ms\n",
      "Speed: 1.2ms preprocess, 4.1ms inference, 0.1ms postprocess per image at shape (1, 3, 640, 480)\n",
      "x: 1132, y: 1320, w: 672, h: 2009\n",
      "\n",
      "image 1/1 /home/oi/Desktop/song/cucumber-image/data/oi/train/V003_3_3_1_2_4_2_2_1_0_0_20221019_5098_20240422195047.jpg: 640x480 1 cucumber, 4.1ms\n",
      "Speed: 1.2ms preprocess, 4.1ms inference, 0.1ms postprocess per image at shape (1, 3, 640, 480)\n",
      "x: 1745, y: 1247, w: 379, h: 1300\n",
      "\n",
      "image 1/1 /home/oi/Desktop/song/cucumber-image/data/oi/train/V003_3_3_1_2_4_2_2_1_0_0_20221019_5181_20240422195051.jpg: 640x480 1 cucumber, 4.1ms\n",
      "Speed: 1.3ms preprocess, 4.1ms inference, 0.2ms postprocess per image at shape (1, 3, 640, 480)\n",
      "x: 931, y: 1214, w: 570, h: 1767\n",
      "\n",
      "image 1/1 /home/oi/Desktop/song/cucumber-image/data/oi/train/V003_3_3_1_2_4_2_2_1_0_0_20221019_5147_20240422195049.jpg: 640x480 1 cucumber, 4.1ms\n",
      "Speed: 1.3ms preprocess, 4.1ms inference, 0.2ms postprocess per image at shape (1, 3, 640, 480)\n",
      "x: 1039, y: 1129, w: 492, h: 2318\n",
      "\n",
      "image 1/1 /home/oi/Desktop/song/cucumber-image/data/oi/train/V003_3_3_1_2_4_2_2_1_0_0_20221019_5261_20240422195055.jpg: 640x480 1 cucumber, 4.1ms\n",
      "Speed: 1.3ms preprocess, 4.1ms inference, 0.2ms postprocess per image at shape (1, 3, 640, 480)\n",
      "x: 1263, y: 1237, w: 405, h: 1542\n",
      "\n",
      "image 1/1 /home/oi/Desktop/song/cucumber-image/data/oi/train/V003_3_3_1_2_4_2_2_1_0_0_20221019_5157_20240422195050.jpg: 640x480 1 cucumber, 4.1ms\n",
      "Speed: 1.3ms preprocess, 4.1ms inference, 0.2ms postprocess per image at shape (1, 3, 640, 480)\n",
      "x: 1346, y: 1198, w: 506, h: 2162\n",
      "\n",
      "image 1/1 /home/oi/Desktop/song/cucumber-image/data/oi/train/V003_3_3_1_2_4_2_2_1_0_0_20221019_5088_20240422195046.jpg: 640x480 1 cucumber, 4.1ms\n",
      "Speed: 1.3ms preprocess, 4.1ms inference, 0.2ms postprocess per image at shape (1, 3, 640, 480)\n",
      "x: 1027, y: 831, w: 393, h: 1817\n",
      "\n",
      "image 1/1 /home/oi/Desktop/song/cucumber-image/data/oi/train/V003_3_3_1_2_4_2_2_1_0_0_20221019_5269_20240422195056.jpg: 640x480 1 cucumber, 4.1ms\n",
      "Speed: 1.3ms preprocess, 4.1ms inference, 0.2ms postprocess per image at shape (1, 3, 640, 480)\n",
      "x: 1315, y: 1743, w: 275, h: 1352\n",
      "\n",
      "image 1/1 /home/oi/Desktop/song/cucumber-image/data/oi/train/V003_3_3_1_2_4_2_2_1_0_0_20221019_5121_20240422195048.jpg: 480x640 (no detections), 4.2ms\n",
      "Speed: 1.1ms preprocess, 4.2ms inference, 0.1ms postprocess per image at shape (1, 3, 480, 640)\n",
      "\n",
      "image 1/1 /home/oi/Desktop/song/cucumber-image/data/oi/train/V003_3_3_1_2_4_2_2_1_0_0_20221019_5155_20240422195050.jpg: 640x480 1 cucumber, 4.2ms\n",
      "Speed: 1.2ms preprocess, 4.2ms inference, 0.1ms postprocess per image at shape (1, 3, 640, 480)\n",
      "x: 1326, y: 1431, w: 514, h: 1905\n",
      "\n",
      "image 1/1 /home/oi/Desktop/song/cucumber-image/data/oi/train/V003_3_3_1_2_4_2_2_1_0_0_20221019_5183_20240422195051.jpg: 640x480 1 cucumber, 4.0ms\n",
      "Speed: 1.2ms preprocess, 4.0ms inference, 0.1ms postprocess per image at shape (1, 3, 640, 480)\n",
      "x: 1252, y: 1444, w: 553, h: 1589\n",
      "\n",
      "image 1/1 /home/oi/Desktop/song/cucumber-image/data/oi/train/V003_3_3_1_2_4_2_2_1_0_0_20221019_5137_20240422195049.jpg: 640x480 1 cucumber, 4.0ms\n",
      "Speed: 1.2ms preprocess, 4.0ms inference, 0.1ms postprocess per image at shape (1, 3, 640, 480)\n",
      "x: 1657, y: 1172, w: 312, h: 1759\n",
      "\n",
      "image 1/1 /home/oi/Desktop/song/cucumber-image/data/oi/train/V003_3_3_1_2_4_2_2_1_0_0_20221019_5317_20240422195058.jpg: 640x480 1 cucumber, 4.0ms\n",
      "Speed: 1.2ms preprocess, 4.0ms inference, 0.1ms postprocess per image at shape (1, 3, 640, 480)\n",
      "x: 1318, y: 924, w: 420, h: 2225\n",
      "\n",
      "image 1/1 /home/oi/Desktop/song/cucumber-image/data/oi/train/V003_3_3_1_2_4_2_2_1_0_0_20221019_5165_20240422195050.jpg: 640x480 1 cucumber, 4.1ms\n",
      "Speed: 1.2ms preprocess, 4.1ms inference, 0.2ms postprocess per image at shape (1, 3, 640, 480)\n",
      "x: 1868, y: 1466, w: 347, h: 1695\n",
      "\n",
      "image 1/1 /home/oi/Desktop/song/cucumber-image/data/oi/train/V003_3_3_1_2_4_2_2_1_0_0_20221019_5274_20240422195056.jpg: 640x480 1 cucumber, 4.0ms\n",
      "Speed: 1.2ms preprocess, 4.0ms inference, 0.1ms postprocess per image at shape (1, 3, 640, 480)\n",
      "x: 869, y: 1377, w: 1012, h: 1489\n",
      "\n",
      "image 1/1 /home/oi/Desktop/song/cucumber-image/data/oi/train/V003_3_3_1_2_4_2_2_1_0_0_20221019_5140_20240422195049.jpg: 640x480 (no detections), 4.1ms\n",
      "Speed: 1.3ms preprocess, 4.1ms inference, 0.1ms postprocess per image at shape (1, 3, 640, 480)\n",
      "\n",
      "image 1/1 /home/oi/Desktop/song/cucumber-image/data/oi/train/V003_3_3_1_2_4_2_2_1_0_0_20221019_5143_20240422195049.jpg: 640x480 1 cucumber, 4.0ms\n",
      "Speed: 1.2ms preprocess, 4.0ms inference, 0.2ms postprocess per image at shape (1, 3, 640, 480)\n",
      "x: 878, y: 1234, w: 443, h: 2026\n",
      "\n",
      "image 1/1 /home/oi/Desktop/song/cucumber-image/data/oi/train/V003_3_3_1_2_4_2_2_1_0_0_20221019_5253_20240422195055.jpg: 640x480 2 cucumbers, 4.0ms\n",
      "Speed: 1.3ms preprocess, 4.0ms inference, 0.2ms postprocess per image at shape (1, 3, 640, 480)\n",
      "x: 1093, y: 1308, w: 300, h: 1429\n",
      "x: 1030, y: 3006, w: 339, h: 762\n",
      "V003_3_3_1_2_4_2_2_1_0_0_20221019_5253_20240422195055.jpg: 1개의 객체 추가\n",
      "\n",
      "image 1/1 /home/oi/Desktop/song/cucumber-image/data/oi/train/V003_3_3_1_2_4_2_2_1_0_0_20221019_5240_20240422195054.jpg: 640x480 1 cucumber, 4.1ms\n",
      "Speed: 1.3ms preprocess, 4.1ms inference, 0.2ms postprocess per image at shape (1, 3, 640, 480)\n",
      "x: 1530, y: 970, w: 764, h: 2867\n",
      "\n",
      "image 1/1 /home/oi/Desktop/song/cucumber-image/data/oi/train/V003_3_3_1_2_4_2_2_1_0_0_20221019_5187_20240422195051.jpg: 640x480 1 cucumber, 4.1ms\n",
      "Speed: 1.2ms preprocess, 4.1ms inference, 0.2ms postprocess per image at shape (1, 3, 640, 480)\n",
      "x: 895, y: 1593, w: 547, h: 1218\n",
      "\n",
      "image 1/1 /home/oi/Desktop/song/cucumber-image/data/oi/train/V003_3_3_1_2_4_2_2_1_0_0_20221019_5246_20240422195054.jpg: 640x480 1 cucumber, 4.1ms\n",
      "Speed: 1.2ms preprocess, 4.1ms inference, 0.2ms postprocess per image at shape (1, 3, 640, 480)\n",
      "x: 1393, y: 786, w: 534, h: 2391\n",
      "\n",
      "image 1/1 /home/oi/Desktop/song/cucumber-image/data/oi/train/V003_3_3_1_2_4_2_2_1_0_0_20221019_5209_20240422195052.jpg: 640x480 1 cucumber, 4.0ms\n",
      "Speed: 1.3ms preprocess, 4.0ms inference, 0.2ms postprocess per image at shape (1, 3, 640, 480)\n",
      "x: 1208, y: 1148, w: 371, h: 1814\n",
      "\n",
      "image 1/1 /home/oi/Desktop/song/cucumber-image/data/oi/train/V003_3_3_1_2_4_2_2_1_0_0_20221019_5279_20240422195056.jpg: 640x480 1 cucumber, 4.1ms\n",
      "Speed: 1.3ms preprocess, 4.1ms inference, 0.2ms postprocess per image at shape (1, 3, 640, 480)\n",
      "x: 968, y: 1131, w: 480, h: 2375\n",
      "\n",
      "image 1/1 /home/oi/Desktop/song/cucumber-image/data/oi/train/V003_3_3_1_2_4_2_2_1_0_0_20221019_5202_20240422195052.jpg: 640x480 1 cucumber, 4.0ms\n",
      "Speed: 1.3ms preprocess, 4.0ms inference, 0.1ms postprocess per image at shape (1, 3, 640, 480)\n",
      "x: 1340, y: 836, w: 664, h: 1791\n",
      "\n",
      "image 1/1 /home/oi/Desktop/song/cucumber-image/data/oi/train/V003_3_3_1_2_4_2_2_1_0_0_20221015_5073_20240422195045.jpg: 640x480 1 cucumber, 4.1ms\n",
      "Speed: 1.2ms preprocess, 4.1ms inference, 0.2ms postprocess per image at shape (1, 3, 640, 480)\n",
      "x: 505, y: 1537, w: 523, h: 2081\n",
      "\n",
      "image 1/1 /home/oi/Desktop/song/cucumber-image/data/oi/train/V003_3_3_1_2_4_2_2_1_0_0_20221015_5083_20240422195046.jpg: 640x480 1 cucumber, 4.1ms\n",
      "Speed: 1.2ms preprocess, 4.1ms inference, 0.2ms postprocess per image at shape (1, 3, 640, 480)\n",
      "x: 523, y: 1127, w: 1052, h: 2463\n",
      "\n",
      "image 1/1 /home/oi/Desktop/song/cucumber-image/data/oi/train/V003_3_3_1_2_4_2_2_1_0_0_20221019_5135_20240422195048.jpg: 640x480 2 cucumbers, 4.1ms\n",
      "Speed: 1.3ms preprocess, 4.1ms inference, 0.1ms postprocess per image at shape (1, 3, 640, 480)\n",
      "x: 1087, y: 1322, w: 736, h: 2039\n",
      "\n",
      "image 1/1 /home/oi/Desktop/song/cucumber-image/data/oi/train/V003_3_3_1_2_4_2_2_1_0_0_20221019_5296_20240422195057.jpg: 640x480 1 cucumber, 4.1ms\n",
      "Speed: 1.3ms preprocess, 4.1ms inference, 0.2ms postprocess per image at shape (1, 3, 640, 480)\n",
      "x: 1423, y: 1148, w: 472, h: 2304\n",
      "\n",
      "image 1/1 /home/oi/Desktop/song/cucumber-image/data/oi/train/V003_3_3_1_2_4_2_2_1_0_0_20221019_5185_20240422195051.jpg: 640x480 1 cucumber, 4.1ms\n",
      "Speed: 1.3ms preprocess, 4.1ms inference, 0.2ms postprocess per image at shape (1, 3, 640, 480)\n",
      "x: 1508, y: 1460, w: 477, h: 1369\n",
      "\n",
      "image 1/1 /home/oi/Desktop/song/cucumber-image/data/oi/train/V003_3_3_1_2_4_2_2_1_0_0_20221019_5228_20240422195053.jpg: 640x480 1 cucumber, 4.1ms\n",
      "Speed: 1.3ms preprocess, 4.1ms inference, 0.2ms postprocess per image at shape (1, 3, 640, 480)\n",
      "x: 885, y: 940, w: 566, h: 2888\n",
      "\n",
      "image 1/1 /home/oi/Desktop/song/cucumber-image/data/oi/train/V003_3_3_1_2_4_2_2_1_0_0_20221019_5169_20240422195050.jpg: 640x480 2 cucumbers, 4.0ms\n",
      "Speed: 1.3ms preprocess, 4.0ms inference, 0.1ms postprocess per image at shape (1, 3, 640, 480)\n",
      "x: 1235, y: 1050, w: 594, h: 2494\n",
      "\n",
      "image 1/1 /home/oi/Desktop/song/cucumber-image/data/oi/train/V003_3_3_1_2_4_2_2_1_0_0_20221019_5255_20240422195055.jpg: 640x480 1 cucumber, 4.1ms\n",
      "Speed: 1.3ms preprocess, 4.1ms inference, 0.2ms postprocess per image at shape (1, 3, 640, 480)\n",
      "x: 1121, y: 1323, w: 408, h: 1658\n",
      "\n",
      "image 1/1 /home/oi/Desktop/song/cucumber-image/data/oi/train/V003_3_3_1_2_4_2_2_1_0_0_20221019_5233_20240422195054.jpg: 640x480 1 cucumber, 4.1ms\n",
      "Speed: 1.3ms preprocess, 4.1ms inference, 0.2ms postprocess per image at shape (1, 3, 640, 480)\n",
      "x: 1962, y: 1221, w: 530, h: 2330\n",
      "\n",
      "image 1/1 /home/oi/Desktop/song/cucumber-image/data/oi/train/V003_3_3_1_2_4_2_2_1_0_0_20221015_5079_20240422195046.jpg: 640x480 1 cucumber, 4.1ms\n",
      "Speed: 1.3ms preprocess, 4.1ms inference, 0.2ms postprocess per image at shape (1, 3, 640, 480)\n",
      "x: 2067, y: 1379, w: 518, h: 2192\n",
      "\n",
      "image 1/1 /home/oi/Desktop/song/cucumber-image/data/oi/train/V003_3_3_1_2_4_2_2_1_0_0_20221019_5311_20240422195058.jpg: 640x480 1 cucumber, 4.1ms\n",
      "Speed: 1.3ms preprocess, 4.1ms inference, 0.2ms postprocess per image at shape (1, 3, 640, 480)\n",
      "x: 1152, y: 1042, w: 835, h: 2185\n",
      "\n",
      "image 1/1 /home/oi/Desktop/song/cucumber-image/data/oi/train/V003_3_3_1_2_4_2_2_1_0_0_20221019_5170_20240422195050.jpg: 640x480 2 cucumbers, 4.1ms\n",
      "Speed: 1.2ms preprocess, 4.1ms inference, 0.2ms postprocess per image at shape (1, 3, 640, 480)\n",
      "x: 979, y: 958, w: 956, h: 2126\n",
      "\n",
      "image 1/1 /home/oi/Desktop/song/cucumber-image/data/oi/train/V003_3_3_1_2_4_2_2_1_0_0_20221019_5277_20240422195056.jpg: 640x480 1 cucumber, 4.1ms\n",
      "Speed: 1.3ms preprocess, 4.1ms inference, 0.2ms postprocess per image at shape (1, 3, 640, 480)\n",
      "x: 1041, y: 1483, w: 269, h: 1358\n",
      "\n",
      "image 1/1 /home/oi/Desktop/song/cucumber-image/data/oi/train/V003_3_3_1_2_4_2_2_1_0_0_20221019_5153_20240422195049.jpg: 640x480 (no detections), 4.1ms\n",
      "Speed: 1.3ms preprocess, 4.1ms inference, 0.1ms postprocess per image at shape (1, 3, 640, 480)\n",
      "\n",
      "image 1/1 /home/oi/Desktop/song/cucumber-image/data/oi/train/V003_3_3_1_2_4_2_2_1_0_0_20221019_5312_20240422195058.jpg: 640x480 1 cucumber, 4.1ms\n",
      "Speed: 1.3ms preprocess, 4.1ms inference, 0.2ms postprocess per image at shape (1, 3, 640, 480)\n",
      "x: 1328, y: 1312, w: 781, h: 1867\n",
      "\n",
      "image 1/1 /home/oi/Desktop/song/cucumber-image/data/oi/train/V003_3_3_1_2_4_2_2_1_0_0_20221019_5112_20240422195047.jpg: 640x480 1 cucumber, 4.1ms\n",
      "Speed: 1.3ms preprocess, 4.1ms inference, 0.2ms postprocess per image at shape (1, 3, 640, 480)\n",
      "x: 1095, y: 1114, w: 497, h: 1978\n",
      "\n",
      "image 1/1 /home/oi/Desktop/song/cucumber-image/data/oi/train/V003_3_3_1_2_4_2_2_1_0_0_20221019_5151_20240422195049.jpg: 640x480 1 cucumber, 4.1ms\n",
      "Speed: 1.3ms preprocess, 4.1ms inference, 0.2ms postprocess per image at shape (1, 3, 640, 480)\n",
      "x: 1358, y: 871, w: 347, h: 1843\n",
      "\n",
      "image 1/1 /home/oi/Desktop/song/cucumber-image/data/oi/train/V003_3_3_1_2_4_2_2_1_0_0_20221019_5160_20240422195050.jpg: 640x480 1 cucumber, 4.1ms\n",
      "Speed: 1.2ms preprocess, 4.1ms inference, 0.2ms postprocess per image at shape (1, 3, 640, 480)\n",
      "x: 1117, y: 1351, w: 344, h: 1943\n",
      "\n",
      "image 1/1 /home/oi/Desktop/song/cucumber-image/data/oi/train/V003_3_3_1_2_4_2_2_1_0_0_20221019_5278_20240422195056.jpg: 640x480 1 cucumber, 4.1ms\n",
      "Speed: 1.3ms preprocess, 4.1ms inference, 0.2ms postprocess per image at shape (1, 3, 640, 480)\n",
      "x: 1343, y: 1672, w: 264, h: 1284\n",
      "\n",
      "image 1/1 /home/oi/Desktop/song/cucumber-image/data/oi/train/V003_3_3_1_2_4_2_2_1_0_0_20221019_5251_20240422195055.jpg: 640x480 1 cucumber, 4.1ms\n",
      "Speed: 1.2ms preprocess, 4.1ms inference, 0.2ms postprocess per image at shape (1, 3, 640, 480)\n",
      "x: 1319, y: 1147, w: 328, h: 1742\n",
      "\n",
      "image 1/1 /home/oi/Desktop/song/cucumber-image/data/oi/train/V003_3_3_1_2_4_2_2_1_0_0_20221019_5268_20240422195056.jpg: 640x480 1 cucumber, 4.1ms\n",
      "Speed: 1.3ms preprocess, 4.1ms inference, 0.2ms postprocess per image at shape (1, 3, 640, 480)\n",
      "x: 1230, y: 1484, w: 290, h: 1730\n",
      "\n",
      "image 1/1 /home/oi/Desktop/song/cucumber-image/data/oi/train/V003_3_3_1_2_4_2_2_1_0_0_20221019_5102_20240422195047.jpg: 640x480 1 cucumber, 4.1ms\n",
      "Speed: 1.3ms preprocess, 4.1ms inference, 0.2ms postprocess per image at shape (1, 3, 640, 480)\n",
      "x: 1371, y: 1363, w: 360, h: 1653\n",
      "\n",
      "image 1/1 /home/oi/Desktop/song/cucumber-image/data/oi/train/V003_3_3_1_2_4_2_2_1_0_0_20221019_5095_20240422195046.jpg: 640x480 1 cucumber, 4.1ms\n",
      "Speed: 1.3ms preprocess, 4.1ms inference, 0.2ms postprocess per image at shape (1, 3, 640, 480)\n",
      "x: 1027, y: 1366, w: 466, h: 1280\n",
      "\n",
      "image 1/1 /home/oi/Desktop/song/cucumber-image/data/oi/train/V003_3_3_1_2_4_2_2_1_0_0_20221019_5287_20240422195057.jpg: 640x480 1 cucumber, 4.1ms\n",
      "Speed: 1.3ms preprocess, 4.1ms inference, 0.2ms postprocess per image at shape (1, 3, 640, 480)\n",
      "x: 923, y: 1242, w: 442, h: 2139\n",
      "\n",
      "image 1/1 /home/oi/Desktop/song/cucumber-image/data/oi/train/V003_3_3_1_2_4_2_2_1_0_0_20221019_5258_20240422195055.jpg: 640x480 1 cucumber, 4.1ms\n",
      "Speed: 1.2ms preprocess, 4.1ms inference, 0.2ms postprocess per image at shape (1, 3, 640, 480)\n",
      "x: 1288, y: 1033, w: 714, h: 1704\n",
      "\n",
      "image 1/1 /home/oi/Desktop/song/cucumber-image/data/oi/train/V003_3_3_1_2_4_2_2_1_0_0_20221019_5124_20240422195048.jpg: 640x480 1 cucumber, 4.1ms\n",
      "Speed: 1.2ms preprocess, 4.1ms inference, 0.2ms postprocess per image at shape (1, 3, 640, 480)\n",
      "x: 1008, y: 724, w: 746, h: 2793\n",
      "\n",
      "image 1/1 /home/oi/Desktop/song/cucumber-image/data/oi/train/V003_3_3_1_2_4_2_2_1_0_0_20221019_5195_20240422195052.jpg: 640x480 1 cucumber, 4.1ms\n",
      "Speed: 1.3ms preprocess, 4.1ms inference, 0.2ms postprocess per image at shape (1, 3, 640, 480)\n",
      "x: 1155, y: 1214, w: 357, h: 1686\n",
      "\n",
      "image 1/1 /home/oi/Desktop/song/cucumber-image/data/oi/train/V003_3_3_1_2_4_2_2_1_0_0_20221019_5305_20240422195058.jpg: 640x480 1 cucumber, 4.1ms\n",
      "Speed: 1.3ms preprocess, 4.1ms inference, 0.2ms postprocess per image at shape (1, 3, 640, 480)\n",
      "x: 1410, y: 869, w: 519, h: 2616\n",
      "\n",
      "image 1/1 /home/oi/Desktop/song/cucumber-image/data/oi/train/V003_3_3_1_2_4_2_2_1_0_0_20221019_5201_20240422195052.jpg: 640x480 1 cucumber, 4.1ms\n",
      "Speed: 1.3ms preprocess, 4.1ms inference, 0.2ms postprocess per image at shape (1, 3, 640, 480)\n",
      "x: 1311, y: 937, w: 638, h: 1723\n",
      "\n",
      "image 1/1 /home/oi/Desktop/song/cucumber-image/data/oi/train/V003_3_3_1_2_4_2_2_1_0_0_20221019_5114_20240422195047.jpg: 640x480 1 cucumber, 4.1ms\n",
      "Speed: 1.2ms preprocess, 4.1ms inference, 0.2ms postprocess per image at shape (1, 3, 640, 480)\n",
      "x: 1484, y: 1385, w: 350, h: 1473\n",
      "\n",
      "image 1/1 /home/oi/Desktop/song/cucumber-image/data/oi/train/V003_3_3_1_2_4_2_2_1_0_0_20221019_5198_20240422195052.jpg: 640x480 1 cucumber, 4.1ms\n",
      "Speed: 1.3ms preprocess, 4.1ms inference, 0.2ms postprocess per image at shape (1, 3, 640, 480)\n",
      "x: 1683, y: 1787, w: 324, h: 1555\n",
      "\n",
      "image 1/1 /home/oi/Desktop/song/cucumber-image/data/oi/train/V003_3_3_1_2_4_2_2_1_0_0_20221019_5282_20240422195056.jpg: 640x480 1 cucumber, 4.0ms\n",
      "Speed: 1.2ms preprocess, 4.0ms inference, 0.2ms postprocess per image at shape (1, 3, 640, 480)\n",
      "x: 964, y: 1343, w: 450, h: 1787\n",
      "\n",
      "image 1/1 /home/oi/Desktop/song/cucumber-image/data/oi/train/V003_3_3_1_2_4_2_2_1_0_0_20221019_5264_20240422195055.jpg: 640x480 1 cucumber, 4.0ms\n",
      "Speed: 1.3ms preprocess, 4.0ms inference, 0.2ms postprocess per image at shape (1, 3, 640, 480)\n",
      "x: 1070, y: 1897, w: 161, h: 968\n",
      "\n",
      "image 1/1 /home/oi/Desktop/song/cucumber-image/data/oi/train/V003_3_3_1_2_4_2_2_1_0_0_20221019_5214_20240422195053.jpg: 640x480 1 cucumber, 4.1ms\n",
      "Speed: 1.3ms preprocess, 4.1ms inference, 0.2ms postprocess per image at shape (1, 3, 640, 480)\n",
      "x: 1065, y: 1218, w: 548, h: 2122\n",
      "\n",
      "image 1/1 /home/oi/Desktop/song/cucumber-image/data/oi/train/V003_3_3_1_2_4_2_2_1_0_0_20221019_5313_20240422195058.jpg: 640x480 1 cucumber, 4.0ms\n",
      "Speed: 1.3ms preprocess, 4.0ms inference, 0.2ms postprocess per image at shape (1, 3, 640, 480)\n",
      "x: 1124, y: 1645, w: 276, h: 993\n",
      "\n",
      "image 1/1 /home/oi/Desktop/song/cucumber-image/data/oi/val/V003_3_3_1_2_4_2_2_1_0_0_20221019_5210_20240422195052.jpg: 640x480 1 cucumber, 4.1ms\n",
      "Speed: 1.2ms preprocess, 4.1ms inference, 0.3ms postprocess per image at shape (1, 3, 640, 480)\n",
      "x: 1054, y: 938, w: 378, h: 1783\n",
      "\n",
      "image 1/1 /home/oi/Desktop/song/cucumber-image/data/oi/val/V003_3_3_1_2_4_2_2_1_0_0_20221019_5211_20240422195052.jpg: 640x480 1 cucumber, 4.1ms\n",
      "Speed: 1.3ms preprocess, 4.1ms inference, 0.2ms postprocess per image at shape (1, 3, 640, 480)\n",
      "x: 1092, y: 1204, w: 448, h: 1631\n",
      "\n",
      "image 1/1 /home/oi/Desktop/song/cucumber-image/data/oi/val/V003_3_3_1_2_4_2_2_1_0_0_20221019_5178_20240422195051.jpg: 640x480 2 cucumbers, 4.1ms\n",
      "Speed: 1.2ms preprocess, 4.1ms inference, 0.2ms postprocess per image at shape (1, 3, 640, 480)\n",
      "x: 1184, y: 1438, w: 619, h: 2163\n",
      "\n",
      "image 1/1 /home/oi/Desktop/song/cucumber-image/data/oi/val/V003_3_3_1_2_4_2_2_1_0_0_20221019_5208_20240422195052.jpg: 640x480 1 cucumber, 4.1ms\n",
      "Speed: 1.3ms preprocess, 4.1ms inference, 0.2ms postprocess per image at shape (1, 3, 640, 480)\n",
      "x: 956, y: 1493, w: 432, h: 1327\n",
      "\n",
      "image 1/1 /home/oi/Desktop/song/cucumber-image/data/oi/val/V003_3_3_1_2_4_2_2_1_0_0_20221019_5116_20240422195048.jpg: 640x480 1 cucumber, 4.1ms\n",
      "Speed: 1.2ms preprocess, 4.1ms inference, 0.2ms postprocess per image at shape (1, 3, 640, 480)\n",
      "x: 782, y: 964, w: 728, h: 2471\n",
      "\n",
      "image 1/1 /home/oi/Desktop/song/cucumber-image/data/oi/val/V003_3_3_1_2_4_2_2_1_0_0_20221019_5144_20240422195049.jpg: 640x480 2 cucumbers, 4.1ms\n",
      "Speed: 1.3ms preprocess, 4.1ms inference, 0.1ms postprocess per image at shape (1, 3, 640, 480)\n",
      "x: 1220, y: 1148, w: 451, h: 1823\n",
      "x: 2392, y: 2351, w: 504, h: 1571\n",
      "V003_3_3_1_2_4_2_2_1_0_0_20221019_5144_20240422195049.jpg: 1개의 객체 추가\n",
      "\n",
      "image 1/1 /home/oi/Desktop/song/cucumber-image/data/oi/val/V003_3_3_1_2_4_2_2_1_0_0_20221019_5225_20240422195053.jpg: 640x480 1 cucumber, 4.0ms\n",
      "Speed: 1.3ms preprocess, 4.0ms inference, 0.2ms postprocess per image at shape (1, 3, 640, 480)\n",
      "x: 990, y: 1023, w: 518, h: 2331\n",
      "\n",
      "image 1/1 /home/oi/Desktop/song/cucumber-image/data/oi/val/V003_3_3_1_2_4_2_2_1_0_0_20221019_5092_20240422195046.jpg: 640x480 1 cucumber, 4.1ms\n",
      "Speed: 1.3ms preprocess, 4.1ms inference, 0.2ms postprocess per image at shape (1, 3, 640, 480)\n",
      "x: 1285, y: 1338, w: 581, h: 1417\n",
      "\n",
      "image 1/1 /home/oi/Desktop/song/cucumber-image/data/oi/val/V003_3_3_1_2_4_2_2_1_0_0_20221019_5120_20240422195048.jpg: 480x640 (no detections), 4.2ms\n",
      "Speed: 1.2ms preprocess, 4.2ms inference, 0.1ms postprocess per image at shape (1, 3, 480, 640)\n",
      "\n",
      "image 1/1 /home/oi/Desktop/song/cucumber-image/data/oi/val/V003_3_3_1_2_4_2_2_1_0_0_20221019_5113_20240422195047.jpg: 640x480 1 cucumber, 4.3ms\n",
      "Speed: 1.2ms preprocess, 4.3ms inference, 0.1ms postprocess per image at shape (1, 3, 640, 480)\n",
      "x: 1178, y: 1176, w: 542, h: 2055\n",
      "\n",
      "image 1/1 /home/oi/Desktop/song/cucumber-image/data/oi/val/V003_3_3_1_2_4_2_2_1_0_0_20221019_5227_20240422195053.jpg: 640x480 1 cucumber, 4.0ms\n",
      "Speed: 1.2ms preprocess, 4.0ms inference, 0.1ms postprocess per image at shape (1, 3, 640, 480)\n",
      "x: 543, y: 1115, w: 695, h: 2348\n",
      "\n",
      "image 1/1 /home/oi/Desktop/song/cucumber-image/data/oi/val/V003_3_3_1_2_4_2_2_1_0_0_20221019_5222_20240422195053.jpg: 640x480 1 cucumber, 4.0ms\n",
      "Speed: 1.2ms preprocess, 4.0ms inference, 0.1ms postprocess per image at shape (1, 3, 640, 480)\n",
      "x: 1190, y: 1376, w: 368, h: 1213\n",
      "\n",
      "image 1/1 /home/oi/Desktop/song/cucumber-image/data/oi/val/V003_3_3_1_2_4_2_2_1_0_0_20221019_5163_20240422195050.jpg: 640x480 1 cucumber, 4.0ms\n",
      "Speed: 1.2ms preprocess, 4.0ms inference, 0.1ms postprocess per image at shape (1, 3, 640, 480)\n",
      "x: 1747, y: 1344, w: 405, h: 2051\n",
      "\n",
      "image 1/1 /home/oi/Desktop/song/cucumber-image/data/oi/val/V003_3_3_1_2_4_2_2_1_0_0_20221019_5206_20240422195052.jpg: 640x480 1 cucumber, 4.1ms\n",
      "Speed: 1.2ms preprocess, 4.1ms inference, 0.2ms postprocess per image at shape (1, 3, 640, 480)\n",
      "x: 1976, y: 1181, w: 544, h: 2084\n",
      "\n",
      "image 1/1 /home/oi/Desktop/song/cucumber-image/data/oi/val/V003_3_3_1_2_4_2_2_1_0_0_20221019_5125_20240422195048.jpg: 640x480 1 cucumber, 4.1ms\n",
      "Speed: 1.2ms preprocess, 4.1ms inference, 0.1ms postprocess per image at shape (1, 3, 640, 480)\n",
      "x: 1745, y: 319, w: 659, h: 2903\n",
      "\n",
      "image 1/1 /home/oi/Desktop/song/cucumber-image/data/oi/val/V003_3_3_1_2_4_2_2_1_0_0_20221019_5303_20240422195058.jpg: 640x480 1 cucumber, 4.0ms\n",
      "Speed: 1.3ms preprocess, 4.0ms inference, 0.1ms postprocess per image at shape (1, 3, 640, 480)\n",
      "x: 1078, y: 1018, w: 480, h: 1558\n",
      "\n",
      "image 1/1 /home/oi/Desktop/song/cucumber-image/data/oi/val/V003_3_3_1_2_4_2_2_1_0_0_20221019_5136_20240422195049.jpg: 640x480 1 cucumber, 4.1ms\n",
      "Speed: 1.3ms preprocess, 4.1ms inference, 0.2ms postprocess per image at shape (1, 3, 640, 480)\n",
      "x: 1570, y: 1459, w: 373, h: 1780\n",
      "\n",
      "image 1/1 /home/oi/Desktop/song/cucumber-image/data/oi/val/V003_3_3_1_2_4_2_2_1_0_0_20221019_5254_20240422195055.jpg: 640x480 2 cucumbers, 4.1ms\n",
      "Speed: 1.3ms preprocess, 4.1ms inference, 0.2ms postprocess per image at shape (1, 3, 640, 480)\n",
      "x: 1218, y: 1938, w: 575, h: 905\n",
      "\n",
      "image 1/1 /home/oi/Desktop/song/cucumber-image/data/oi/val/V003_3_3_1_2_4_2_2_1_0_0_20221019_5249_20240422195054.jpg: 640x480 1 cucumber, 4.1ms\n",
      "Speed: 1.3ms preprocess, 4.1ms inference, 0.2ms postprocess per image at shape (1, 3, 640, 480)\n",
      "x: 1213, y: 975, w: 315, h: 1575\n",
      "\n",
      "image 1/1 /home/oi/Desktop/song/cucumber-image/data/oi/val/V003_3_3_1_2_4_2_2_1_0_0_20221019_5207_20240422195052.jpg: 640x480 1 cucumber, 4.1ms\n",
      "Speed: 1.3ms preprocess, 4.1ms inference, 0.2ms postprocess per image at shape (1, 3, 640, 480)\n",
      "x: 1166, y: 1372, w: 540, h: 1377\n",
      "\n",
      "image 1/1 /home/oi/Desktop/song/cucumber-image/data/oi/val/V003_3_3_1_2_4_2_2_1_0_0_20221019_5232_20240422195054.jpg: 640x480 1 cucumber, 4.0ms\n",
      "Speed: 1.3ms preprocess, 4.0ms inference, 0.1ms postprocess per image at shape (1, 3, 640, 480)\n",
      "x: 1154, y: 1644, w: 411, h: 1091\n",
      "\n",
      "image 1/1 /home/oi/Desktop/song/cucumber-image/data/oi/val/V003_3_3_1_2_4_2_2_1_0_0_20221019_5179_20240422195051.jpg: 640x480 (no detections), 4.1ms\n",
      "Speed: 1.2ms preprocess, 4.1ms inference, 0.1ms postprocess per image at shape (1, 3, 640, 480)\n",
      "\n",
      "image 1/1 /home/oi/Desktop/song/cucumber-image/data/oi/val/V003_3_3_1_2_4_2_2_1_0_0_20221019_5107_20240422195047.jpg: 640x480 1 cucumber, 4.0ms\n",
      "Speed: 1.3ms preprocess, 4.0ms inference, 0.2ms postprocess per image at shape (1, 3, 640, 480)\n",
      "x: 1366, y: 1212, w: 420, h: 1919\n",
      "\n",
      "image 1/1 /home/oi/Desktop/song/cucumber-image/data/oi/val/V003_3_3_1_2_4_2_2_1_0_0_20221019_5199_20240422195052.jpg: 640x480 1 cucumber, 4.1ms\n",
      "Speed: 1.3ms preprocess, 4.1ms inference, 0.2ms postprocess per image at shape (1, 3, 640, 480)\n",
      "x: 1285, y: 1448, w: 331, h: 1580\n",
      "\n",
      "image 1/1 /home/oi/Desktop/song/cucumber-image/data/oi/val/V003_3_3_1_2_4_2_2_1_0_0_20221019_5217_20240422195053.jpg: 640x480 1 cucumber, 4.0ms\n",
      "Speed: 1.3ms preprocess, 4.0ms inference, 0.2ms postprocess per image at shape (1, 3, 640, 480)\n",
      "x: 1443, y: 1305, w: 550, h: 1957\n",
      "\n",
      "image 1/1 /home/oi/Desktop/song/cucumber-image/data/oi/val/V003_3_3_1_2_4_2_2_1_0_0_20221019_5205_20240422195052.jpg: 640x480 1 cucumber, 4.1ms\n",
      "Speed: 1.3ms preprocess, 4.1ms inference, 0.2ms postprocess per image at shape (1, 3, 640, 480)\n",
      "x: 1405, y: 1170, w: 579, h: 1795\n",
      "\n",
      "image 1/1 /home/oi/Desktop/song/cucumber-image/data/oi/val/V003_3_3_1_2_4_2_2_1_0_0_20221019_5244_20240422195054.jpg: 640x480 1 cucumber, 4.0ms\n",
      "Speed: 1.3ms preprocess, 4.0ms inference, 0.2ms postprocess per image at shape (1, 3, 640, 480)\n",
      "x: 1157, y: 1548, w: 378, h: 1647\n",
      "\n",
      "image 1/1 /home/oi/Desktop/song/cucumber-image/data/oi/val/V003_3_3_1_2_4_2_2_1_0_0_20221019_5242_20240422195054.jpg: 640x480 (no detections), 4.1ms\n",
      "Speed: 1.3ms preprocess, 4.1ms inference, 0.1ms postprocess per image at shape (1, 3, 640, 480)\n",
      "\n",
      "image 1/1 /home/oi/Desktop/song/cucumber-image/data/oi/val/V003_3_3_1_2_4_2_2_1_0_0_20221019_5192_20240422195052.jpg: 640x480 1 cucumber, 4.3ms\n",
      "Speed: 1.4ms preprocess, 4.3ms inference, 0.2ms postprocess per image at shape (1, 3, 640, 480)\n",
      "x: 1681, y: 1364, w: 336, h: 1628\n",
      "\n",
      "image 1/1 /home/oi/Desktop/song/cucumber-image/data/oi/val/V003_3_3_1_2_4_2_2_1_0_0_20221019_5284_20240422195057.jpg: 640x480 1 cucumber, 4.1ms\n",
      "Speed: 1.4ms preprocess, 4.1ms inference, 0.2ms postprocess per image at shape (1, 3, 640, 480)\n",
      "x: 1096, y: 1184, w: 470, h: 1816\n",
      "\n",
      "image 1/1 /home/oi/Desktop/song/cucumber-image/data/oi/val/V003_3_3_1_2_4_2_2_1_0_0_20221019_5241_20240422195054.jpg: 640x480 1 cucumber, 4.0ms\n",
      "Speed: 1.2ms preprocess, 4.0ms inference, 0.2ms postprocess per image at shape (1, 3, 640, 480)\n",
      "x: 929, y: 1207, w: 675, h: 2467\n",
      "\n",
      "image 1/1 /home/oi/Desktop/song/cucumber-image/data/oi/val/V003_3_3_1_2_4_2_2_1_0_0_20221019_5108_20240422195047.jpg: 640x480 1 cucumber, 4.1ms\n",
      "Speed: 1.2ms preprocess, 4.1ms inference, 0.1ms postprocess per image at shape (1, 3, 640, 480)\n",
      "x: 1325, y: 1215, w: 401, h: 1841\n",
      "\n",
      "image 1/1 /home/oi/Desktop/song/cucumber-image/data/oi/val/V003_3_3_1_2_4_2_2_1_0_0_20221019_5286_20240422195057.jpg: 640x480 1 cucumber, 4.0ms\n",
      "Speed: 1.2ms preprocess, 4.0ms inference, 0.1ms postprocess per image at shape (1, 3, 640, 480)\n",
      "x: 1346, y: 1145, w: 418, h: 1897\n",
      "\n",
      "image 1/1 /home/oi/Desktop/song/cucumber-image/data/oi/val/V003_3_3_1_2_4_2_2_1_0_0_20221015_5074_20240422195045.jpg: 640x480 1 cucumber, 4.1ms\n",
      "Speed: 1.2ms preprocess, 4.1ms inference, 0.1ms postprocess per image at shape (1, 3, 640, 480)\n",
      "x: 788, y: 1415, w: 535, h: 2174\n",
      "\n",
      "image 1/1 /home/oi/Desktop/song/cucumber-image/data/oi/val/V003_3_3_1_2_4_2_2_1_0_0_20221019_5186_20240422195051.jpg: 640x480 1 cucumber, 4.0ms\n",
      "Speed: 1.3ms preprocess, 4.0ms inference, 0.1ms postprocess per image at shape (1, 3, 640, 480)\n",
      "x: 1423, y: 1525, w: 468, h: 1420\n",
      "\n",
      "image 1/1 /home/oi/Desktop/song/cucumber-image/data/oi/val/V003_3_3_1_2_4_2_2_1_0_0_20221019_5320_20240422195059.jpg: 640x480 2 cucumbers, 4.1ms\n",
      "Speed: 1.3ms preprocess, 4.1ms inference, 0.2ms postprocess per image at shape (1, 3, 640, 480)\n",
      "x: 508, y: 1553, w: 503, h: 1734\n",
      "\n",
      "image 1/1 /home/oi/Desktop/song/cucumber-image/data/oi/val/V003_3_3_1_2_4_2_2_1_0_0_20221019_5176_20240422195051.jpg: 640x480 1 cucumber, 4.1ms\n",
      "Speed: 1.3ms preprocess, 4.1ms inference, 0.2ms postprocess per image at shape (1, 3, 640, 480)\n",
      "x: 923, y: 812, w: 489, h: 2241\n",
      "\n",
      "image 1/1 /home/oi/Desktop/song/cucumber-image/data/oi/val/V003_3_3_1_2_4_2_2_1_0_0_20221019_5106_20240422195047.jpg: 640x480 1 cucumber, 4.0ms\n",
      "Speed: 1.2ms preprocess, 4.0ms inference, 0.1ms postprocess per image at shape (1, 3, 640, 480)\n",
      "x: 1122, y: 1146, w: 420, h: 1954\n",
      "\n",
      "image 1/1 /home/oi/Desktop/song/cucumber-image/data/oi/val/V003_3_3_1_2_4_2_2_1_0_0_20221019_5123_20240422195048.jpg: 640x480 1 cucumber, 4.0ms\n",
      "Speed: 1.2ms preprocess, 4.0ms inference, 0.2ms postprocess per image at shape (1, 3, 640, 480)\n",
      "x: 1166, y: 1390, w: 724, h: 2134\n",
      "\n",
      "image 1/1 /home/oi/Desktop/song/cucumber-image/data/oi/val/V003_3_3_1_2_4_2_2_1_0_0_20221019_5126_20240422195048.jpg: 640x480 1 cucumber, 4.1ms\n",
      "Speed: 1.3ms preprocess, 4.1ms inference, 0.2ms postprocess per image at shape (1, 3, 640, 480)\n",
      "x: 1247, y: 341, w: 565, h: 2745\n",
      "\n",
      "image 1/1 /home/oi/Desktop/song/cucumber-image/data/oi/val/V003_3_3_1_2_4_2_2_1_0_0_20221019_5156_20240422195050.jpg: 640x480 1 cucumber, 4.0ms\n",
      "Speed: 1.2ms preprocess, 4.0ms inference, 0.2ms postprocess per image at shape (1, 3, 640, 480)\n",
      "x: 963, y: 1704, w: 350, h: 1757\n",
      "\n",
      "image 1/1 /home/oi/Desktop/song/cucumber-image/data/oi/val/V003_3_3_1_2_4_2_2_1_0_0_20221019_5099_20240422195047.jpg: 640x480 1 cucumber, 4.1ms\n",
      "Speed: 1.2ms preprocess, 4.1ms inference, 0.1ms postprocess per image at shape (1, 3, 640, 480)\n",
      "x: 1552, y: 1346, w: 389, h: 1243\n",
      "\n",
      "image 1/1 /home/oi/Desktop/song/cucumber-image/data/oi/val/V003_3_3_1_2_4_2_2_1_0_0_20221019_5248_20240422195054.jpg: 640x480 1 cucumber, 4.0ms\n",
      "Speed: 1.2ms preprocess, 4.0ms inference, 0.2ms postprocess per image at shape (1, 3, 640, 480)\n",
      "x: 1354, y: 1026, w: 448, h: 1896\n",
      "\n",
      "image 1/1 /home/oi/Desktop/song/cucumber-image/data/oi/val/V003_3_3_1_2_4_2_2_1_0_0_20221015_5085_20240422195046.jpg: 640x480 1 cucumber, 4.1ms\n",
      "Speed: 1.2ms preprocess, 4.1ms inference, 0.2ms postprocess per image at shape (1, 3, 640, 480)\n",
      "x: 1104, y: 765, w: 617, h: 2249\n",
      "\n",
      "image 1/1 /home/oi/Desktop/song/cucumber-image/data/oi/val/V003_3_3_1_2_4_2_2_1_0_0_20221019_5271_20240422195056.jpg: 640x480 1 cucumber, 4.1ms\n",
      "Speed: 1.3ms preprocess, 4.1ms inference, 0.2ms postprocess per image at shape (1, 3, 640, 480)\n",
      "x: 1512, y: 1538, w: 373, h: 1631\n",
      "\n",
      "image 1/1 /home/oi/Desktop/song/cucumber-image/data/oi/val/V003_3_3_1_2_4_2_2_1_0_0_20221019_5292_20240422195057.jpg: 640x480 1 cucumber, 4.1ms\n",
      "Speed: 1.2ms preprocess, 4.1ms inference, 0.2ms postprocess per image at shape (1, 3, 640, 480)\n",
      "x: 1076, y: 1128, w: 372, h: 1918\n",
      "\n",
      "image 1/1 /home/oi/Desktop/song/cucumber-image/data/oi/val/V003_3_3_1_2_4_2_2_1_0_0_20221019_5154_20240422195049.jpg: 640x480 1 cucumber, 4.1ms\n",
      "Speed: 1.2ms preprocess, 4.1ms inference, 0.2ms postprocess per image at shape (1, 3, 640, 480)\n",
      "x: 880, y: 1359, w: 466, h: 2100\n",
      "\n",
      "image 1/1 /home/oi/Desktop/song/cucumber-image/data/oi/val/V003_3_3_1_2_4_2_2_1_0_0_20221019_5100_20240422195047.jpg: 640x480 1 cucumber, 4.0ms\n",
      "Speed: 1.2ms preprocess, 4.0ms inference, 0.2ms postprocess per image at shape (1, 3, 640, 480)\n",
      "x: 1330, y: 1303, w: 388, h: 1846\n",
      "\n",
      "image 1/1 /home/oi/Desktop/song/cucumber-image/data/oi/val/V003_3_3_1_2_4_2_2_1_0_0_20221019_5189_20240422195051.jpg: 640x480 1 cucumber, 4.1ms\n",
      "Speed: 1.3ms preprocess, 4.1ms inference, 0.2ms postprocess per image at shape (1, 3, 640, 480)\n",
      "x: 1160, y: 1461, w: 352, h: 1767\n",
      "\n",
      "image 1/1 /home/oi/Desktop/song/cucumber-image/data/oi/val/V003_3_3_1_2_4_2_2_1_0_0_20221019_5289_20240422195057.jpg: 640x480 1 cucumber, 4.1ms\n",
      "Speed: 1.3ms preprocess, 4.1ms inference, 0.2ms postprocess per image at shape (1, 3, 640, 480)\n",
      "x: 1035, y: 1127, w: 386, h: 2053\n",
      "\n",
      "image 1/1 /home/oi/Desktop/song/cucumber-image/data/oi/val/V003_3_3_1_2_4_2_2_1_0_0_20221019_5166_20240422195050.jpg: 640x480 1 cucumber, 4.0ms\n",
      "Speed: 1.2ms preprocess, 4.0ms inference, 0.2ms postprocess per image at shape (1, 3, 640, 480)\n",
      "x: 1248, y: 998, w: 503, h: 1926\n",
      "Train set에서 새롭게 추가된 레이블 수: 1\n",
      "Validation set에서 새롭게 추가된 레이블 수: 1\n",
      "총 새롭게 추가된 레이블 수: 2\n"
     ]
    }
   ],
   "source": [
    "import os\n",
    "import json\n",
    "import torch\n",
    "from torchvision.ops import nms\n",
    "from ultralytics import YOLO\n",
    "\n",
    "# YOLO 모델 불러오기\n",
    "model = YOLO(\"/home/oi/Desktop/song/cucumber-image/yolo_detection/oi/weights/best.pt\")\n",
    "\n",
    "# train 및 val 이미지 경로\n",
    "train_dir = '/home/oi/Desktop/song/cucumber-image/data/oi/train'\n",
    "val_dir = '/home/oi/Desktop/song/cucumber-image/data/oi/val'\n",
    "label_dir = '/home/oi/Desktop/song/cucumber-image/data/oi/labels'  # 기존 레이블 JSON 파일이 있는 디렉토리\n",
    "\n",
    "# YOLO 추론 및 레이블 업데이트 함수\n",
    "def update_labels_with_yolo(model, image_dir, label_dir):\n",
    "    total_new_labels = 0  # 새로 추가된 레이블 수를 저장할 변수\n",
    "    iou_threshold = 0.5\n",
    "    \n",
    "    for image_file in os.listdir(image_dir):\n",
    "        if image_file.endswith(('.jpg', '.jpeg', '.png')):  # 이미지 파일만 처리\n",
    "            image_path = os.path.join(image_dir, image_file)\n",
    "            label_file = os.path.splitext(image_file)[0] + '.json'\n",
    "            label_path = os.path.join(label_dir, label_file)\n",
    "            \n",
    "            # 기존 레이블 파일 열기\n",
    "            if os.path.exists(label_path):\n",
    "                with open(label_path, 'r', encoding='utf-8') as f:\n",
    "                    label_data = json.load(f)\n",
    "            else:\n",
    "                continue  # 레이블 파일이 없으면 다음 이미지로 이동\n",
    "            \n",
    "            # 기존 레이블의 객체 수\n",
    "            existing_objects = len(label_data['result'])\n",
    "            \n",
    "            # YOLO 추론 수행\n",
    "            results = model(image_path)\n",
    "            detections = results[0].boxes\n",
    "\n",
    "            if len(detections) == 0:\n",
    "                continue\n",
    "\n",
    "            # YOLO 결과에서 박스 좌표와 신뢰도 추출\n",
    "            boxes = torch.stack([detection.xyxy[0] for detection in detections]).cpu()  # 박스 좌표 [x_min, y_min, x_max, y_max]\n",
    "            scores = torch.tensor([detection.conf.item() for detection in detections])  # 신뢰도\n",
    "\n",
    "            # NMS 적용 (비최대 억제)\n",
    "            indices = nms(boxes, scores, iou_threshold)\n",
    "            filtered_detections = [detections[i] for i in indices]  # NMS 결과에 따른 필터링된 detection\n",
    "\n",
    "            # 이미지 크기 정보 가져오기\n",
    "            image_width = label_data['description']['width']\n",
    "            image_height = label_data['description']['height']\n",
    "            \n",
    "            # YOLO 탐지 결과를 기존 레이블에 추가\n",
    "            for detection in filtered_detections:\n",
    "                xyxy = detection.xyxy[0].cpu().numpy()  # 경계 상자 좌표 [x_min, y_min, x_max, y_max]\n",
    "                x_min, y_min, x_max, y_max = xyxy\n",
    "                x = int(x_min)\n",
    "                y = int(y_min)\n",
    "                w = int(x_max - x_min)\n",
    "                h = int(y_max - y_min)\n",
    "                \n",
    "                # 새로 탐지된 객체를 레이블에 추가\n",
    "                new_bbox = {\n",
    "                    \"id\": \"generated_id\",  # 고유한 ID\n",
    "                    \"type\": \"bbox\",\n",
    "                    \"x\": x,\n",
    "                    \"y\": y,\n",
    "                    \"w\": w,\n",
    "                    \"h\": h,\n",
    "                    \"cx\": None,\n",
    "                    \"cy\": None,\n",
    "                    \"r\": None,\n",
    "                    \"segmentation\": []\n",
    "                }\n",
    "                label_data['result'].append(new_bbox)\n",
    "                print(f'x: {x}, y: {y}, w: {w}, h: {h}')\n",
    "            \n",
    "            # 새로 추가된 객체 수 계산\n",
    "            original_objects = len(label_data['result']) - 1\n",
    "            new_objects = original_objects - existing_objects\n",
    "            if new_objects > 0:\n",
    "                print(f'{image_file}: {new_objects}개의 객체 추가')\n",
    "                # with open(label_path, 'w', encoding='utf-8') as f:\n",
    "                #     json.dump(label_data, f, indent=4)\n",
    "            \n",
    "            total_new_labels += new_objects\n",
    "\n",
    "    return total_new_labels\n",
    "\n",
    "# train 및 val 이미지에 대해 YOLO 추론 및 레이블 업데이트 수행\n",
    "new_train_labels = update_labels_with_yolo(model, train_dir, label_dir)\n",
    "new_val_labels = update_labels_with_yolo(model, val_dir, label_dir)\n",
    "\n",
    "# 새로 추가된 레이블 수 출력\n",
    "print(f\"Train set에서 새롭게 추가된 레이블 수: {new_train_labels}\")\n",
    "print(f\"Validation set에서 새롭게 추가된 레이블 수: {new_val_labels}\")\n",
    "print(f\"총 새롭게 추가된 레이블 수: {new_train_labels + new_val_labels}\")\n"
   ]
  },
  {
   "cell_type": "code",
   "execution_count": 65,
   "metadata": {},
   "outputs": [
    {
     "name": "stdout",
     "output_type": "stream",
     "text": [
      "\n",
      "image 1/1 /home/oi/Desktop/song/cucumber-image/data/oi/train/V003_3_3_1_2_4_2_2_1_0_0_20221019_5253_20240422195055.jpg: 640x480 2 cucumbers, 4.4ms\n",
      "Speed: 1.5ms preprocess, 4.4ms inference, 0.2ms postprocess per image at shape (1, 3, 640, 480)\n",
      "Filtered dets: [[     1093.3      1308.4      1393.5      2737.6     0.94979           0]\n",
      " [     1030.7      3006.4      1369.8      3769.2     0.48114           0]]\n"
     ]
    }
   ],
   "source": [
    "import os\n",
    "import cv2\n",
    "import matplotlib.pyplot as plt\n",
    "from torchvision.ops import nms\n",
    "# YOLO 모델 불러오기\n",
    "model = YOLO(\"/home/oi/Desktop/song/cucumber-image/yolo_detection/oi/weights/best.pt\")\n",
    "\n",
    "# 단일 이미지 경로\n",
    "image_path = '/home/oi/Desktop/song/cucumber-image/data/oi/train/V003_3_3_1_2_4_2_2_1_0_0_20221019_5253_20240422195055.jpg'  # 시각화할 이미지 파일 경로\n",
    "results = model(image_path)\n",
    "\n",
    "\n",
    "for idx, result in enumerate(results):\n",
    "    dets = result.boxes.data.cpu()\n",
    "    boxes = dets[:, :4]  # x1, y1, x2, y2\n",
    "    scores = dets[:, 4]  # confidence\n",
    "    indices = nms(boxes, scores, iou_threshold=0.5)\n",
    "    filtered_dets = dets[indices].numpy()\n",
    "    print(\"Filtered dets:\", filtered_dets)\n"
   ]
  },
  {
   "cell_type": "code",
   "execution_count": 48,
   "metadata": {},
   "outputs": [
    {
     "name": "stdout",
     "output_type": "stream",
     "text": [
      "ultralytics.engine.results.Boxes object with attributes:\n",
      "\n",
      "cls: tensor([0.], device='cuda:0')\n",
      "conf: tensor([0.9707], device='cuda:0')\n",
      "data: tensor([[1.0269e+03, 1.1921e+03, 1.5643e+03, 2.7436e+03, 9.7070e-01, 0.0000e+00]], device='cuda:0')\n",
      "id: None\n",
      "is_track: False\n",
      "orig_shape: (4000, 3000)\n",
      "shape: torch.Size([1, 6])\n",
      "xywh: tensor([[1295.5928, 1967.8506,  537.3885, 1551.4126]], device='cuda:0')\n",
      "xywhn: tensor([[0.4319, 0.4920, 0.1791, 0.3879]], device='cuda:0')\n",
      "xyxy: tensor([[1026.8984, 1192.1443, 1564.2870, 2743.5569]], device='cuda:0')\n",
      "xyxyn: tensor([[0.3423, 0.2980, 0.5214, 0.6859]], device='cuda:0')\n"
     ]
    }
   ],
   "source": [
    "print(boxes)"
   ]
  },
  {
   "cell_type": "code",
   "execution_count": null,
   "metadata": {},
   "outputs": [],
   "source": []
  }
 ],
 "metadata": {
  "kernelspec": {
   "display_name": "seg",
   "language": "python",
   "name": "python3"
  },
  "language_info": {
   "codemirror_mode": {
    "name": "ipython",
    "version": 3
   },
   "file_extension": ".py",
   "mimetype": "text/x-python",
   "name": "python",
   "nbconvert_exporter": "python",
   "pygments_lexer": "ipython3",
   "version": "3.10.14"
  }
 },
 "nbformat": 4,
 "nbformat_minor": 2
}
