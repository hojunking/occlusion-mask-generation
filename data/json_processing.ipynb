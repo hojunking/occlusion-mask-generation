{
 "cells": [
  {
   "cell_type": "code",
   "execution_count": null,
   "metadata": {},
   "outputs": [],
   "source": [
    "from pycocotools.coco import COCO\n",
    "import os\n",
    "import json, random\n",
    "from datetime import datetime\n",
    "from coco_format import initialize_coco_json, save_coco_json\n",
    "from config import INPUT_PATHS, OUTPUT_PATHS, HYPERPARAMETERS"
   ]
  },
  {
   "cell_type": "code",
   "execution_count": null,
   "metadata": {},
   "outputs": [],
   "source": [
    "def split_coco_json(coco_json, train_ratio=0.8):\n",
    "    # 이미지와 주석을 섞기 위해 ID 기반 매핑 생성\n",
    "    image_to_annotations = {img[\"id\"]: [] for img in coco_json[\"images\"]}\n",
    "    for ann in coco_json[\"annotations\"]:\n",
    "        image_to_annotations[ann[\"image_id\"]].append(ann)\n",
    "    \n",
    "    # 이미지 데이터를 섞기\n",
    "    shuffled_images = coco_json[\"images\"].copy()\n",
    "    random.shuffle(shuffled_images)\n",
    "    \n",
    "    # train/test 분리\n",
    "    split_idx = int(len(shuffled_images) * train_ratio)\n",
    "    train_images = shuffled_images[:split_idx]\n",
    "    test_images = shuffled_images[split_idx:]\n",
    "    \n",
    "    # train/test 데이터 생성\n",
    "    train_json = initialize_coco_json()\n",
    "    test_json = initialize_coco_json()\n",
    "\n",
    "    for img in train_images:\n",
    "        train_json[\"images\"].append(img)\n",
    "        train_json[\"annotations\"].extend(image_to_annotations[img[\"id\"]])\n",
    "    \n",
    "    for img in test_images:\n",
    "        test_json[\"images\"].append(img)\n",
    "        test_json[\"annotations\"].extend(image_to_annotations[img[\"id\"]])\n",
    "    \n",
    "    # 카테고리 복사\n",
    "    train_json[\"categories\"] = coco_json[\"categories\"]\n",
    "    test_json[\"categories\"] = coco_json[\"categories\"]\n",
    "    \n",
    "    return train_json, test_json\n",
    "\n"
   ]
  },
  {
   "cell_type": "code",
   "execution_count": null,
   "metadata": {},
   "outputs": [],
   "source": [
    "file_path = os.path.join(OUTPUT_PATHS[\"json_dir\"], \"dataset.json\")\n",
    "with open(file_path, \"r\") as json_file:\n",
    "    coco_json = json.load(json_file)\n",
    "    print(f\"COCO JSON 파일 로드됨: {file_path}\")\n",
    "\n",
    "# 2. train/test 분리\n",
    "train_json, test_json = split_coco_json(coco_json, train_ratio=0.8)\n",
    "\n",
    "train_json_dir = os.path.join(OUTPUT_PATHS[\"json_dir\"], \"train.json\")\n",
    "test_json_dir = os.path.join(OUTPUT_PATHS[\"json_dir\"], \"test.json\")\n",
    "# 3. train.json 저장\n",
    "save_coco_json(train_json, train_json_dir)\n",
    "# 4. test.json 저장\n",
    "save_coco_json(test_json, test_json_dir)"
   ]
  },
  {
   "cell_type": "code",
   "execution_count": 3,
   "metadata": {},
   "outputs": [
    {
     "name": "stdout",
     "output_type": "stream",
     "text": [
      "loading annotations into memory...\n",
      "Done (t=0.00s)\n",
      "creating index...\n",
      "index created!\n",
      "Valid COCO Format!\n"
     ]
    }
   ],
   "source": [
    "coco = COCO(\"/home/knuvi/Desktop/song/cucumber-image/data/oi_seg/amodal_info2/oi_091_2_merged_01.json\")\n",
    "print(\"Valid COCO Format!\")"
   ]
  },
  {
   "cell_type": "code",
   "execution_count": null,
   "metadata": {},
   "outputs": [],
   "source": []
  }
 ],
 "metadata": {
  "kernelspec": {
   "display_name": "seg_song",
   "language": "python",
   "name": "python3"
  },
  "language_info": {
   "codemirror_mode": {
    "name": "ipython",
    "version": 3
   },
   "file_extension": ".py",
   "mimetype": "text/x-python",
   "name": "python",
   "nbconvert_exporter": "python",
   "pygments_lexer": "ipython3",
   "version": "3.10.15"
  }
 },
 "nbformat": 4,
 "nbformat_minor": 2
}
