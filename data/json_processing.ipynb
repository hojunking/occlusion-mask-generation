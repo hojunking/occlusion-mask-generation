{
 "cells": [
  {
   "cell_type": "code",
   "execution_count": null,
   "metadata": {},
   "outputs": [],
   "source": [
    "from pycocotools.coco import COCO\n",
    "import os, sys\n",
    "import json, random\n",
    "import shutil\n",
    "from datetime import datetime\n",
    "sys.path.append(\"/home/knuvi/Desktop/song/cucumber-image/\")\n",
    "from coco_json import initialize_coco_json, save_coco_json\n",
    "from config import INPUT_PATHS, OUTPUT_PATHS, HYPERPARAMETERS"
   ]
  },
  {
   "cell_type": "code",
   "execution_count": 2,
   "metadata": {},
   "outputs": [],
   "source": [
    "def split_coco_json(coco_json, train_ratio=0.8):\n",
    "    # 이미지와 주석을 섞기 위해 ID 기반 매핑 생성\n",
    "    image_to_annotations = {img[\"id\"]: [] for img in coco_json[\"images\"]}\n",
    "    for ann in coco_json[\"annotations\"]:\n",
    "        image_to_annotations[ann[\"image_id\"]].append(ann)\n",
    "    \n",
    "    # 이미지 데이터를 섞기\n",
    "    shuffled_images = coco_json[\"images\"].copy()\n",
    "    random.shuffle(shuffled_images)\n",
    "    \n",
    "    # train/test 분리\n",
    "    split_idx = int(len(shuffled_images) * train_ratio)\n",
    "    train_images = shuffled_images[:split_idx]\n",
    "    test_images = shuffled_images[split_idx:]\n",
    "    \n",
    "    # train/test 데이터 생성\n",
    "    train_json = initialize_coco_json()\n",
    "    test_json = initialize_coco_json()\n",
    "\n",
    "    # `info` 및 `licenses` 복사\n",
    "    train_json[\"info\"] = coco_json.get(\"info\", {})\n",
    "    test_json[\"info\"] = coco_json.get(\"info\", {})\n",
    "    train_json[\"licenses\"] = coco_json.get(\"licenses\", None)\n",
    "    test_json[\"licenses\"] = coco_json.get(\"licenses\", None)\n",
    "\n",
    "    for img in train_images:\n",
    "        train_json[\"images\"].append(img)\n",
    "        train_json[\"annotations\"].extend(image_to_annotations[img[\"id\"]])\n",
    "    \n",
    "    for img in test_images:\n",
    "        test_json[\"images\"].append(img)\n",
    "        test_json[\"annotations\"].extend(image_to_annotations[img[\"id\"]])\n",
    "    \n",
    "    # 카테고리 복사\n",
    "    train_json[\"categories\"] = coco_json[\"categories\"]\n",
    "    test_json[\"categories\"] = coco_json[\"categories\"]\n",
    "    \n",
    "    return train_json, test_json\n"
   ]
  },
  {
   "cell_type": "code",
   "execution_count": null,
   "metadata": {},
   "outputs": [],
   "source": [
    "def split_images_and_annotations(coco_json, train_ratio=0.8):\n",
    "    \"\"\"\n",
    "    이미지와 주석을 train/test로 분리합니다.\n",
    "    Args:\n",
    "        coco_json (dict): COCO 형식의 JSON 데이터.\n",
    "        train_ratio (float): train 데이터 비율 (0 ~ 1).\n",
    "    Returns:\n",
    "        tuple: train_images, test_images, train_annotations, test_annotations\n",
    "    \"\"\"\n",
    "    image_to_annotations = {img[\"id\"]: [] for img in coco_json[\"images\"]}\n",
    "    for ann in coco_json[\"annotations\"]:\n",
    "        image_to_annotations[ann[\"image_id\"]].append(ann)\n",
    "\n",
    "    shuffled_images = coco_json[\"images\"].copy()\n",
    "    random.shuffle(shuffled_images)\n",
    "\n",
    "    split_idx = int(len(shuffled_images) * train_ratio)\n",
    "    train_images = shuffled_images[:split_idx]\n",
    "    test_images = shuffled_images[split_idx:]\n",
    "\n",
    "    train_annotations = [ann for img in train_images for ann in image_to_annotations[img[\"id\"]]]\n",
    "    test_annotations = [ann for img in test_images for ann in image_to_annotations[img[\"id\"]]]\n",
    "\n",
    "    return train_images, test_images, train_annotations, test_annotations\n",
    "\n",
    "\n",
    "def save_split_data(coco_json, train_images, test_images, train_annotations, test_annotations, output_paths):\n",
    "\n",
    "    # JSON 구조 생성\n",
    "    train_json = initialize_coco_json()\n",
    "    test_json = initialize_coco_json()\n",
    "\n",
    "    train_json[\"images\"] = train_images\n",
    "    train_json[\"annotations\"] = train_annotations\n",
    "    test_json[\"images\"] = test_images\n",
    "    test_json[\"annotations\"] = test_annotations\n",
    "    train_json[\"categories\"] = test_json[\"categories\"] = coco_json[\"categories\"]\n",
    "\n",
    "    # JSON 저장\n",
    "    save_coco_json(train_json, train_json_dir)\n",
    "    save_coco_json(test_json, test_json_dir)\n",
    "\n",
    "    # 이미지 저장\n",
    "    copy_images_to_split_dirs(train_images, train_image_dir, output_paths[\"save_dir\"])\n",
    "    copy_images_to_split_dirs(test_images, test_image_dir, output_paths[\"save_dir\"])\n",
    "\n",
    "\n",
    "def copy_images_to_split_dirs(images, target_dir, source_dir):\n",
    "    \"\"\"\n",
    "    이미지를 지정된 디렉터리로 복사합니다.\n",
    "    Args:\n",
    "        images (list): COCO 형식의 이미지 리스트.\n",
    "        target_dir (str): 복사할 대상 디렉터리.\n",
    "        source_dir (str): 원본 이미지 디렉터리.\n",
    "    \"\"\"\n",
    "    for img in images:\n",
    "        src_path = os.path.join(source_dir, img[\"file_name\"])\n",
    "        dest_path = os.path.join(target_dir, img[\"file_name\"])\n",
    "        if os.path.exists(src_path):\n",
    "            shutil.copy(src_path, dest_path)\n"
   ]
  },
  {
   "cell_type": "code",
   "execution_count": null,
   "metadata": {},
   "outputs": [],
   "source": [
    "train_images, test_images, train_annotations, test_annotations = split_images_and_annotations(coco_json, train_ratio=0.8)\n",
    "save_split_data(train_images, test_images, train_annotations, test_annotations, OUTPUT_PATHS)\n"
   ]
  },
  {
   "cell_type": "code",
   "execution_count": 3,
   "metadata": {},
   "outputs": [
    {
     "name": "stdout",
     "output_type": "stream",
     "text": [
      "COCO JSON 파일 로드됨: /home/knuvi/Desktop/song/cucumber-image/data/oi_seg/amodal_info4/dataset.json\n"
     ]
    }
   ],
   "source": [
    "file_path = os.path.join(OUTPUT_PATHS[\"json_dir\"], \"dataset.json\")\n",
    "with open(file_path, \"r\") as json_file:\n",
    "    coco_json = json.load(json_file)\n",
    "    print(f\"COCO JSON 파일 로드됨: {file_path}\")\n",
    "\n"
   ]
  },
  {
   "cell_type": "code",
   "execution_count": 4,
   "metadata": {},
   "outputs": [],
   "source": [
    "# 중복 확인 코드\n",
    "image_ids = [image['id'] for image in coco_json['images']]\n",
    "if len(image_ids) != len(set(image_ids)):\n",
    "    print(\"중복된 image_id가 있습니다!\")"
   ]
  },
  {
   "cell_type": "code",
   "execution_count": null,
   "metadata": {},
   "outputs": [
    {
     "ename": "KeyError",
     "evalue": "40",
     "output_type": "error",
     "traceback": [
      "\u001b[0;31m---------------------------------------------------------------------------\u001b[0m",
      "\u001b[0;31mKeyError\u001b[0m                                  Traceback (most recent call last)",
      "Cell \u001b[0;32mIn[7], line 2\u001b[0m\n\u001b[1;32m      1\u001b[0m \u001b[38;5;66;03m# 2. train/test 분리\u001b[39;00m\n\u001b[0;32m----> 2\u001b[0m train_json, test_json \u001b[38;5;241m=\u001b[39m \u001b[43msplit_coco_json\u001b[49m\u001b[43m(\u001b[49m\u001b[43mcoco_json\u001b[49m\u001b[43m,\u001b[49m\u001b[43m \u001b[49m\u001b[43mtrain_ratio\u001b[49m\u001b[38;5;241;43m=\u001b[39;49m\u001b[38;5;241;43m0.8\u001b[39;49m\u001b[43m)\u001b[49m\n\u001b[1;32m      4\u001b[0m train_json_dir \u001b[38;5;241m=\u001b[39m os\u001b[38;5;241m.\u001b[39mpath\u001b[38;5;241m.\u001b[39mjoin(OUTPUT_PATHS[\u001b[38;5;124m\"\u001b[39m\u001b[38;5;124mjson_dir\u001b[39m\u001b[38;5;124m\"\u001b[39m], \u001b[38;5;124m\"\u001b[39m\u001b[38;5;124mtrain.json\u001b[39m\u001b[38;5;124m\"\u001b[39m)\n\u001b[1;32m      5\u001b[0m test_json_dir \u001b[38;5;241m=\u001b[39m os\u001b[38;5;241m.\u001b[39mpath\u001b[38;5;241m.\u001b[39mjoin(OUTPUT_PATHS[\u001b[38;5;124m\"\u001b[39m\u001b[38;5;124mjson_dir\u001b[39m\u001b[38;5;124m\"\u001b[39m], \u001b[38;5;124m\"\u001b[39m\u001b[38;5;124mtest.json\u001b[39m\u001b[38;5;124m\"\u001b[39m)\n",
      "Cell \u001b[0;32mIn[2], line 5\u001b[0m, in \u001b[0;36msplit_coco_json\u001b[0;34m(coco_json, train_ratio)\u001b[0m\n\u001b[1;32m      3\u001b[0m image_to_annotations \u001b[38;5;241m=\u001b[39m {img[\u001b[38;5;124m\"\u001b[39m\u001b[38;5;124mid\u001b[39m\u001b[38;5;124m\"\u001b[39m]: [] \u001b[38;5;28;01mfor\u001b[39;00m img \u001b[38;5;129;01min\u001b[39;00m coco_json[\u001b[38;5;124m\"\u001b[39m\u001b[38;5;124mimages\u001b[39m\u001b[38;5;124m\"\u001b[39m]}\n\u001b[1;32m      4\u001b[0m \u001b[38;5;28;01mfor\u001b[39;00m ann \u001b[38;5;129;01min\u001b[39;00m coco_json[\u001b[38;5;124m\"\u001b[39m\u001b[38;5;124mannotations\u001b[39m\u001b[38;5;124m\"\u001b[39m]:\n\u001b[0;32m----> 5\u001b[0m     \u001b[43mimage_to_annotations\u001b[49m\u001b[43m[\u001b[49m\u001b[43mann\u001b[49m\u001b[43m[\u001b[49m\u001b[38;5;124;43m\"\u001b[39;49m\u001b[38;5;124;43mimage_id\u001b[39;49m\u001b[38;5;124;43m\"\u001b[39;49m\u001b[43m]\u001b[49m\u001b[43m]\u001b[49m\u001b[38;5;241m.\u001b[39mappend(ann)\n\u001b[1;32m      7\u001b[0m \u001b[38;5;66;03m# 이미지 데이터를 섞기\u001b[39;00m\n\u001b[1;32m      8\u001b[0m shuffled_images \u001b[38;5;241m=\u001b[39m coco_json[\u001b[38;5;124m\"\u001b[39m\u001b[38;5;124mimages\u001b[39m\u001b[38;5;124m\"\u001b[39m]\u001b[38;5;241m.\u001b[39mcopy()\n",
      "\u001b[0;31mKeyError\u001b[0m: 40"
     ]
    }
   ],
   "source": [
    "# 2. train/test 분리\n",
    "train_json, test_json = split_coco_json(coco_json, train_ratio=0.8)\n",
    "\n",
    "# Output 디렉터리 설정\n",
    "train_image_dir = os.path.join(OUTPUT_PATHS[\"save_dir\"], \"train\")\n",
    "test_image_dir = os.path.join(OUTPUT_PATHS[\"save_dir\"], \"test\")\n",
    "os.makedirs(train_image_dir, exist_ok=True)\n",
    "os.makedirs(test_image_dir, exist_ok=True)\n",
    "train_json_dir = os.path.join(OUTPUT_PATHS[\"json_dir\"], \"train.json\")\n",
    "test_json_dir = os.path.join(OUTPUT_PATHS[\"json_dir\"], \"test.json\")\n",
    "\n",
    "# 3. train.json 저장\n",
    "save_coco_json(train_json, train_json_dir)\n",
    "# 4. test.json 저장\n",
    "save_coco_json(test_json, test_json_dir)"
   ]
  },
  {
   "cell_type": "code",
   "execution_count": 14,
   "metadata": {},
   "outputs": [
    {
     "name": "stdout",
     "output_type": "stream",
     "text": [
      "loading annotations into memory...\n",
      "Done (t=0.08s)\n",
      "creating index...\n",
      "index created!\n",
      "Valid COCO Format!\n"
     ]
    }
   ],
   "source": [
    "coco = COCO(\"/home/knuvi/Desktop/song/cucumber-image/data/oi_seg/amodal_info4/dataset.json\")\n",
    "print(\"Valid COCO Format!\")"
   ]
  },
  {
   "cell_type": "code",
   "execution_count": 6,
   "metadata": {},
   "outputs": [
    {
     "name": "stdout",
     "output_type": "stream",
     "text": [
      "COCO JSON format is valid!\n"
     ]
    },
    {
     "data": {
      "text/plain": [
       "True"
      ]
     },
     "execution_count": 6,
     "metadata": {},
     "output_type": "execute_result"
    }
   ],
   "source": [
    "import json\n",
    "\n",
    "def validate_coco_format(json_path):\n",
    "    with open(json_path, \"r\") as f:\n",
    "        coco_data = json.load(f)\n",
    "\n",
    "    required_keys = [\"info\", \"images\", \"annotations\", \"categories\"]\n",
    "    missing_keys = [key for key in required_keys if key not in coco_data]\n",
    "    if missing_keys:\n",
    "        print(f\"Missing keys in COCO JSON: {missing_keys}\")\n",
    "        return False\n",
    "\n",
    "    # Validate `images`\n",
    "    for img in coco_data[\"images\"]:\n",
    "        if not all(key in img for key in [\"id\", \"width\", \"height\", \"file_name\"]):\n",
    "            print(f\"Invalid image entry: {img}\")\n",
    "            return False\n",
    "\n",
    "    # Validate `annotations`\n",
    "    for ann in coco_data[\"annotations\"]:\n",
    "        if not all(key in ann for key in [\"id\", \"image_id\", \"category_id\", \"bbox\", \"area\", \"segmentation\", \"iscrowd\"]):\n",
    "            print(f\"Invalid annotation entry: {ann}\")\n",
    "            return False\n",
    "\n",
    "    # Validate `categories`\n",
    "    for cat in coco_data[\"categories\"]:\n",
    "        if not all(key in cat for key in [\"id\", \"name\", \"supercategory\"]):\n",
    "            print(f\"Invalid category entry: {cat}\")\n",
    "            return False\n",
    "\n",
    "    print(\"COCO JSON format is valid!\")\n",
    "    return True\n",
    "\n",
    "# Replace this path with your JSON file path\n",
    "validate_coco_format(\"/home/knuvi/Desktop/song/cucumber-image/data/oi_seg/amodal_info4/dataset.json\")\n"
   ]
  },
  {
   "cell_type": "code",
   "execution_count": 8,
   "metadata": {},
   "outputs": [
    {
     "name": "stdout",
     "output_type": "stream",
     "text": [
      "Missing image IDs in 'images': {40, 41, 42, 43, 44, 45, 46, 47, 48, 49, 50, 51, 52, 53, 54, 55, 56, 57, 58, 59, 60, 61, 62, 63, 64, 65, 66, 67, 68, 69, 70, 71, 72, 73, 74, 75, 76, 77, 78, 79}\n"
     ]
    }
   ],
   "source": [
    "# images의 ID 목록\n",
    "image_ids = set(img[\"id\"] for img in coco_json[\"images\"])\n",
    "# annotations의 image_id 목록\n",
    "annotation_image_ids = set(ann[\"image_id\"] for ann in coco_json[\"annotations\"])\n",
    "\n",
    "# 차집합 확인\n",
    "missing_ids = annotation_image_ids - image_ids\n",
    "if missing_ids:\n",
    "    print(f\"Missing image IDs in 'images': {missing_ids}\")\n",
    "else:\n",
    "    print(\"All image IDs in 'annotations' are present in 'images'.\")\n"
   ]
  },
  {
   "cell_type": "code",
   "execution_count": null,
   "metadata": {},
   "outputs": [],
   "source": []
  }
 ],
 "metadata": {
  "kernelspec": {
   "display_name": "seg_song",
   "language": "python",
   "name": "python3"
  },
  "language_info": {
   "codemirror_mode": {
    "name": "ipython",
    "version": 3
   },
   "file_extension": ".py",
   "mimetype": "text/x-python",
   "name": "python",
   "nbconvert_exporter": "python",
   "pygments_lexer": "ipython3",
   "version": "3.10.15"
  }
 },
 "nbformat": 4,
 "nbformat_minor": 2
}
