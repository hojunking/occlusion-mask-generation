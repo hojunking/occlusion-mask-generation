{
 "cells": [
  {
   "cell_type": "code",
   "execution_count": null,
   "metadata": {},
   "outputs": [],
   "source": [
    "from pycocotools.coco import COCO\n",
    "import os\n",
    "import json\n",
    "from datetime import datetime"
   ]
  },
  {
   "cell_type": "code",
   "execution_count": null,
   "metadata": {},
   "outputs": [],
   "source": [
    "def initialize_coco_json():\n",
    "    \"\"\"COCO JSON 기본 구조 생성.\"\"\"\n",
    "    return {\n",
    "        \"info\": {\n",
    "            \"description\": \"Amodal segmentation dataset\",\n",
    "            \"date_created\": str(datetime.now().date())\n",
    "        },\n",
    "        \"images\": [],\n",
    "        \"annotations\": [],\n",
    "        \"categories\": [\n",
    "            {\"id\": 1, \"name\": \"cucumber\", \"supercategory\": \"vegetable\"},\n",
    "            {\"id\": 2, \"name\": \"leaf\", \"supercategory\": \"vegetable\"}\n",
    "        ]\n",
    "    }\n",
    "\n",
    "def add_to_coco_json(coco_json, image_info, annotation):\n",
    "    \"\"\"COCO JSON 구조에 이미지와 주석 추가.\"\"\"\n",
    "    coco_json[\"images\"].append(image_info)\n",
    "    coco_json[\"annotations\"].append(annotation)\n",
    "\n",
    "def save_coco_json(coco_json, output_path):\n",
    "    \"\"\"COCO JSON 파일 저장.\"\"\"\n",
    "    with open(output_path, \"w\") as json_file:\n",
    "        json.dump(coco_json, json_file, indent=4)\n",
    "    print(f\"COCO JSON 파일 저장됨: {output_path}\")\n",
    "\n",
    "# JSON 통합 작업\n",
    "def create_train_json(image_data, output_json_path):\n",
    "    \"\"\"\n",
    "    이미지 데이터를 사용해 train.json 생성.\n",
    "    Args:\n",
    "        image_data (list): 이미지와 주석 정보의 리스트 [(image_info, annotation), ...].\n",
    "        output_json_path (str): 최종 COCO JSON 파일 경로.\n",
    "    \"\"\"\n",
    "    # COCO JSON 초기화\n",
    "    coco_json = initialize_coco_json()\n",
    "\n",
    "    # 모든 이미지와 주석 정보를 추가\n",
    "    for image_info, annotation in image_data:\n",
    "        add_to_coco_json(coco_json, image_info, annotation)\n",
    "\n",
    "    # JSON 저장\n",
    "    save_coco_json(coco_json, output_json_path)"
   ]
  },
  {
   "cell_type": "code",
   "execution_count": null,
   "metadata": {},
   "outputs": [],
   "source": [
    "def merge_individual_jsons(json_dir, output_json_path):\n",
    "    \"\"\"\n",
    "    개별 JSON 파일을 통합하여 train.json 생성.\n",
    "    Args:\n",
    "        json_dir (str): 개별 JSON 파일이 저장된 디렉토리.\n",
    "        output_json_path (str): 통합된 COCO JSON 파일 경로.\n",
    "    \"\"\"\n",
    "    # COCO JSON 초기화\n",
    "    coco_json = initialize_coco_json()\n",
    "\n",
    "    # 모든 JSON 파일 읽기\n",
    "    for json_file in os.listdir(json_dir):\n",
    "        if json_file.endswith(\".json\"):\n",
    "            file_path = os.path.join(json_dir, json_file)\n",
    "            with open(file_path, \"r\") as f:\n",
    "                individual_json = json.load(f)\n",
    "            \n",
    "            # `images`와 `annotations` 데이터 추가\n",
    "            coco_json[\"images\"].extend(individual_json[\"images\"])\n",
    "            coco_json[\"annotations\"].extend(individual_json[\"annotations\"])\n",
    "\n",
    "    # JSON 저장\n",
    "    save_coco_json(coco_json, output_json_path)\n",
    "\n",
    "# 실행 예시\n",
    "merge_individual_jsons(\n",
    "    json_dir=\"/home/knuvi/Desktop/song/cucumber-image/data/oi_seg/amodal_info2\",\n",
    "    output_json_path=\"/home/knuvi/Desktop/song/cucumber-image/data/oi_seg/train.json\"\n",
    ")\n"
   ]
  },
  {
   "cell_type": "code",
   "execution_count": 3,
   "metadata": {},
   "outputs": [
    {
     "name": "stdout",
     "output_type": "stream",
     "text": [
      "loading annotations into memory...\n",
      "Done (t=0.00s)\n",
      "creating index...\n",
      "index created!\n",
      "Valid COCO Format!\n"
     ]
    }
   ],
   "source": [
    "coco = COCO(\"/home/knuvi/Desktop/song/cucumber-image/data/oi_seg/amodal_info2/oi_091_2_merged_01.json\")\n",
    "print(\"Valid COCO Format!\")"
   ]
  },
  {
   "cell_type": "code",
   "execution_count": null,
   "metadata": {},
   "outputs": [],
   "source": []
  }
 ],
 "metadata": {
  "kernelspec": {
   "display_name": "seg_song",
   "language": "python",
   "name": "python3"
  },
  "language_info": {
   "codemirror_mode": {
    "name": "ipython",
    "version": 3
   },
   "file_extension": ".py",
   "mimetype": "text/x-python",
   "name": "python",
   "nbconvert_exporter": "python",
   "pygments_lexer": "ipython3",
   "version": "3.10.15"
  }
 },
 "nbformat": 4,
 "nbformat_minor": 2
}
