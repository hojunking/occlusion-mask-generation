{
 "cells": [
  {
   "cell_type": "code",
   "execution_count": 1,
   "metadata": {},
   "outputs": [],
   "source": [
    "import os\n",
    "import json"
   ]
  },
  {
   "cell_type": "code",
   "execution_count": 12,
   "metadata": {},
   "outputs": [],
   "source": [
    "# 경로 설정\n",
    "image_dir = '/home/knuvi/Desktop/song/cucumber-image/data/leaves/train/images'\n",
    "label_dir = '/home/knuvi/Desktop/song/cucumber-image/data/leaves/train/labels'\n",
    "#output_label_dir = '/home/oi/Desktop/song/cucumber-image/data/yolo_labels'  # YOLO 포맷 레이블이 저장될 디렉토리\n",
    "#os.makedirs(output_label_dir, exist_ok=True)\n",
    "\n",
    "# 클래스 ID (오이만 존재하므로 0)\n",
    "class_id = 0"
   ]
  },
  {
   "cell_type": "code",
   "execution_count": 4,
   "metadata": {},
   "outputs": [],
   "source": [
    "def convert_to_yolo_format(image_width, image_height, bbox):\n",
    "    x, y, w, h = bbox['x'], bbox['y'], bbox['w'], bbox['h']\n",
    "    \n",
    "    # YOLO 형식으로 변환\n",
    "    x_center = (x + w / 2) / image_width\n",
    "    y_center = (y + h / 2) / image_height\n",
    "    width = w / image_width\n",
    "    height = h / image_height\n",
    "    \n",
    "    return class_id, x_center, y_center, width, height"
   ]
  },
  {
   "cell_type": "code",
   "execution_count": 5,
   "metadata": {},
   "outputs": [
    {
     "name": "stdout",
     "output_type": "stream",
     "text": [
      "YOLO 형식으로 변환 완료!\n"
     ]
    }
   ],
   "source": [
    "for json_file in os.listdir(label_dir):\n",
    "    if json_file.endswith('.json'):\n",
    "        json_path = os.path.join(label_dir, json_file)\n",
    "        with open(json_path, 'r', encoding='utf-8') as f:\n",
    "            data = json.load(f)\n",
    "        \n",
    "        # 이미지 파일명과 크기 정보\n",
    "        image_file = data['description']['image']\n",
    "        image_width = data['description']['width']\n",
    "        image_height = data['description']['height']\n",
    "        \n",
    "        # 레이블 파일명 설정\n",
    "        output_label_file = os.path.join(output_label_dir, os.path.splitext(image_file)[0] + '.txt')\n",
    "        \n",
    "        with open(output_label_file, 'w') as out_f:\n",
    "            for obj in data['result']:\n",
    "                if obj['type'] == 'bbox':\n",
    "                    # bbox 정보 추출 및 YOLO 포맷으로 변환\n",
    "                    yolo_bbox = convert_to_yolo_format(image_width, image_height, obj)\n",
    "                    out_f.write(f\"{yolo_bbox[0]} {yolo_bbox[1]} {yolo_bbox[2]} {yolo_bbox[3]} {yolo_bbox[4]}\\n\")\n",
    "\n",
    "print(\"YOLO 형식으로 변환 완료!\")"
   ]
  },
  {
   "cell_type": "code",
   "execution_count": 13,
   "metadata": {},
   "outputs": [
    {
     "name": "stdout",
     "output_type": "stream",
     "text": [
      "폴더 내 이미지 개수: 382장\n"
     ]
    }
   ],
   "source": [
    "# 지원할 이미지 파일 확장자 목록\n",
    "image_extensions = {'.jpg', '.jpeg', '.png', '.bmp', '.tiff'}\n",
    "\n",
    "# 이미지 파일 개수 세기\n",
    "def count_images_in_folder(folder_path):\n",
    "    image_count = 0\n",
    "    for file_name in os.listdir(folder_path):\n",
    "        # 파일 확장자가 이미지인지 확인\n",
    "        if os.path.splitext(file_name)[1].lower() in image_extensions:\n",
    "            image_count += 1\n",
    "    return image_count\n",
    "\n",
    "# 이미지 개수 출력\n",
    "image_count = count_images_in_folder(image_dir)\n",
    "print(f\"폴더 내 이미지 개수: {image_count}장\")\n"
   ]
  },
  {
   "cell_type": "code",
   "execution_count": 7,
   "metadata": {},
   "outputs": [
    {
     "name": "stdout",
     "output_type": "stream",
     "text": [
      "Train 데이터셋: 202장\n",
      "Validation 데이터셋: 51장\n"
     ]
    }
   ],
   "source": [
    "import random\n",
    "import shutil\n",
    "\n",
    "# 이미지가 저장된 폴더 경로 설정\n",
    "image_dir = '/home/oi/Desktop/song/cucumber-image/data/leaves/images'\n",
    "train_dir = '/home/oi/Desktop/song/cucumber-image/data/leaves/train'\n",
    "val_dir = '/home/oi/Desktop/song/cucumber-image/data/leaves/val'\n",
    "\n",
    "# train, val 디렉토리 생성\n",
    "os.makedirs(train_dir, exist_ok=True)\n",
    "os.makedirs(val_dir, exist_ok=True)\n",
    "\n",
    "# 이미지 파일 목록 가져오기\n",
    "image_files = [f for f in os.listdir(image_dir) if f.endswith(('.jpg', '.jpeg', '.png'))]\n",
    "\n",
    "# 데이터셋 크기 계산\n",
    "total_images = len(image_files)\n",
    "train_size = int(total_images * 0.8)\n",
    "val_size = total_images - train_size\n",
    "\n",
    "# 이미지 파일 섞기 (무작위로 분할하기 위해)\n",
    "random.shuffle(image_files)\n",
    "\n",
    "# 80%는 train, 20%는 val\n",
    "train_files = image_files[:train_size]\n",
    "val_files = image_files[train_size:]\n",
    "\n",
    "# 이미지 파일을 train 디렉토리로 복사\n",
    "for file_name in train_files:\n",
    "    shutil.copy(os.path.join(image_dir, file_name), os.path.join(train_dir, file_name))\n",
    "\n",
    "# 이미지 파일을 val 디렉토리로 복사\n",
    "for file_name in val_files:\n",
    "    shutil.copy(os.path.join(image_dir, file_name), os.path.join(val_dir, file_name))\n",
    "\n",
    "print(f\"Train 데이터셋: {train_size}장\")\n",
    "print(f\"Validation 데이터셋: {val_size}장\")"
   ]
  },
  {
   "cell_type": "code",
   "execution_count": 15,
   "metadata": {},
   "outputs": [
    {
     "name": "stdout",
     "output_type": "stream",
     "text": [
      "Train 데이터셋: 305장\n",
      "Validation 데이터셋: 77장\n"
     ]
    }
   ],
   "source": [
    "import os\n",
    "import random\n",
    "import shutil\n",
    "\n",
    "# 경로 설정\n",
    "image_dir = '/home/oi/Desktop/song/cucumber-image/data/leaves/images'\n",
    "label_dir = '/home/oi/Desktop/song/cucumber-image/data/leaves/labels'\n",
    "train_img_dir = '/home/oi/Desktop/song/cucumber-image/data/leaves/train/images'\n",
    "train_label_dir = '/home/oi/Desktop/song/cucumber-image/data/leaves/train/labels'\n",
    "val_img_dir = '/home/oi/Desktop/song/cucumber-image/data/leaves/val/images'\n",
    "val_label_dir = '/home/oi/Desktop/song/cucumber-image/data/leaves/val/labels'\n",
    "\n",
    "# train, val 디렉토리 생성\n",
    "os.makedirs(train_img_dir, exist_ok=True)\n",
    "os.makedirs(train_label_dir, exist_ok=True)\n",
    "os.makedirs(val_img_dir, exist_ok=True)\n",
    "os.makedirs(val_label_dir, exist_ok=True)\n",
    "\n",
    "# 이미지 파일 목록 가져오기\n",
    "image_files = [f for f in os.listdir(image_dir) if f.endswith(('.jpg', '.jpeg', '.png'))]\n",
    "\n",
    "# 데이터셋 크기 계산\n",
    "total_images = len(image_files)\n",
    "train_size = int(total_images * 0.8)\n",
    "val_size = total_images - train_size\n",
    "\n",
    "# 이미지 파일 섞기 (무작위로 분할하기 위해)\n",
    "random.shuffle(image_files)\n",
    "\n",
    "# 80%는 train, 20%는 val\n",
    "train_files = image_files[:train_size]\n",
    "val_files = image_files[train_size:]\n",
    "\n",
    "# 이미지 및 레이블 파일을 train 디렉토리로 복사\n",
    "for file_name in train_files:\n",
    "    # 이미지 복사\n",
    "    shutil.copy(os.path.join(image_dir, file_name), os.path.join(train_img_dir, file_name))\n",
    "    # 레이블 파일 복사 (.txt 확장자를 가짐)\n",
    "    label_file = os.path.splitext(file_name)[0] + '.txt'\n",
    "    shutil.copy(os.path.join(label_dir, label_file), os.path.join(train_label_dir, label_file))\n",
    "\n",
    "# 이미지 및 레이블 파일을 val 디렉토리로 복사\n",
    "for file_name in val_files:\n",
    "    # 이미지 복사\n",
    "    shutil.copy(os.path.join(image_dir, file_name), os.path.join(val_img_dir, file_name))\n",
    "    # 레이블 파일 복사 (.txt 확장자를 가짐)\n",
    "    label_file = os.path.splitext(file_name)[0] + '.txt'\n",
    "    shutil.copy(os.path.join(label_dir, label_file), os.path.join(val_label_dir, label_file))\n",
    "\n",
    "print(f\"Train 데이터셋: {train_size}장\")\n",
    "print(f\"Validation 데이터셋: {val_size}장\")\n"
   ]
  },
  {
   "cell_type": "code",
   "execution_count": 5,
   "metadata": {},
   "outputs": [
    {
     "name": "stdout",
     "output_type": "stream",
     "text": [
      "train.txt 및 val.txt 파일 생성 완료!\n"
     ]
    }
   ],
   "source": [
    "import os\n",
    "\n",
    "# 이미지와 레이블이 함께 저장된 디렉토리\n",
    "train_img_dir = '/home/knuvi/Desktop/song/cucumber-image/data/leaves/train/images'\n",
    "val_img_dir = '/home/knuvi/Desktop/song/cucumber-image/data/leaves/val/images'\n",
    "\n",
    "# 파일 목록을 저장할 텍스트 파일 경로\n",
    "train_txt_path = './train.txt'\n",
    "val_txt_path = './val.txt'\n",
    "\n",
    "# train.txt 파일 생성\n",
    "with open(train_txt_path, 'w') as train_f:\n",
    "    for image_file in os.listdir(train_img_dir):\n",
    "        if image_file.endswith(('.jpg', '.jpeg', '.png')):  # 이미지 파일만 처리\n",
    "            train_f.write(f\"{os.path.join(train_img_dir, image_file)}\\n\")\n",
    "\n",
    "# val.txt 파일 생성\n",
    "with open(val_txt_path, 'w') as val_f:\n",
    "    for image_file in os.listdir(val_img_dir):\n",
    "        if image_file.endswith(('.jpg', '.jpeg', '.png')):  # 이미지 파일만 처리\n",
    "            val_f.write(f\"{os.path.join(val_img_dir, image_file)}\\n\")\n",
    "\n",
    "print(\"train.txt 및 val.txt 파일 생성 완료!\")\n"
   ]
  },
  {
   "cell_type": "markdown",
   "metadata": {},
   "source": [
    "#### label 데이터 정리"
   ]
  },
  {
   "cell_type": "code",
   "execution_count": 6,
   "metadata": {},
   "outputs": [
    {
     "name": "stdout",
     "output_type": "stream",
     "text": [
      "총 0개의 파일이 삭제되었습니다.\n",
      "총 0개의 파일이 삭제되었습니다.\n",
      "데이터 정리가 완료되었습니다!\n"
     ]
    }
   ],
   "source": [
    "import os\n",
    "\n",
    "# 경로 설정\n",
    "train_img_dir = '/home/knuvi/Desktop/song/cucumber-image/data/leaves/train/images'\n",
    "train_label_dir = '/home/knuvi/Desktop/song/cucumber-image/data/leaves/train/labels'\n",
    "val_img_dir = '/home/knuvi/Desktop/song/cucumber-image/data/leaves/val/images'\n",
    "val_label_dir = '/home/knuvi/Desktop/song/cucumber-image/data/leaves/val/labels'\n",
    "\n",
    "# 이미지와 레이블 삭제 함수\n",
    "def clean_data(image_dir, label_dir):\n",
    "    count = 0\n",
    "    for label_file in os.listdir(label_dir):\n",
    "        label_path = os.path.join(label_dir, label_file)\n",
    "        image_file = os.path.splitext(label_file)[0] + '.jpg'  # 레이블 파일과 동일한 이름의 이미지 파일 찾기\n",
    "        image_path = os.path.join(image_dir, image_file)\n",
    "\n",
    "        # 1. 레이블 파일이 비어 있는지 확인\n",
    "        if os.path.getsize(label_path) == 0:\n",
    "            print(f\"Empty label: {label_file}, deleting {label_file} and {image_file}\")\n",
    "            os.remove(label_path)\n",
    "            os.remove(image_path)\n",
    "            count += 1\n",
    "            continue\n",
    "\n",
    "        # 2. 레이블 파일 내에서 클래스가 1인지 확인\n",
    "        with open(label_path, 'r') as f:\n",
    "            lines = f.readlines()\n",
    "            remove_flag = False\n",
    "            for line in lines:\n",
    "                if not line.startswith('0'):  # 클래스가 1인 경우\n",
    "                    remove_flag = True\n",
    "                    break\n",
    "\n",
    "        if remove_flag:\n",
    "            print(f\"Class 1 label: {label_file}, deleting {label_file} and {image_file}\")\n",
    "            os.remove(label_path)\n",
    "            os.remove(image_path)\n",
    "            count += 1\n",
    "    print(f\"총 {count}개의 파일이 삭제되었습니다.\")\n",
    "\n",
    "# train과 val에 대해 데이터 정리 수행\n",
    "clean_data(train_img_dir, train_label_dir)\n",
    "clean_data(val_img_dir, val_label_dir)\n",
    "\n",
    "print(\"데이터 정리가 완료되었습니다!\")\n"
   ]
  },
  {
   "cell_type": "code",
   "execution_count": 9,
   "metadata": {},
   "outputs": [],
   "source": [
    "import os\n",
    "\n",
    "# 레이블 디렉토리 설정\n",
    "label_dir = '/home/knuvi/Desktop/song/cucumber-image/data/leaves/val/labels'\n",
    "\n",
    "# 클래스 수 설정 (예: 1개의 클래스만 처리할 경우)\n",
    "n_classes = 1\n",
    "\n",
    "# 레이블 파일 검증 함수\n",
    "def check_labels(label_dir):\n",
    "    for label_file in os.listdir(label_dir):\n",
    "        label_path = os.path.join(label_dir, label_file)\n",
    "        \n",
    "        with open(label_path, 'r') as f:\n",
    "            for line in f:\n",
    "                parts = line.split()\n",
    "                label_class = int(parts[0])\n",
    "                bbox = list(map(float, parts[1:]))\n",
    "                \n",
    "                # 클래스 값이 유효한지 확인\n",
    "                if label_class >= n_classes:\n",
    "                    print(f\"Error: Invalid class label {label_class} in {label_file}\")\n",
    "                \n",
    "                # Bounding Box 값이 0과 1 사이인지 확인\n",
    "                if not (0 <= bbox[0] <= 1 and 0 <= bbox[1] <= 1 and 0 <= bbox[2] <= 1 and 0 <= bbox[3] <= 1):\n",
    "                    print(f\"Error: Invalid bounding box in {label_file} -> {bbox}\")\n",
    "\n",
    "# 레이블 검증 실행\n",
    "check_labels(label_dir)\n"
   ]
  },
  {
   "cell_type": "code",
   "execution_count": null,
   "metadata": {},
   "outputs": [],
   "source": [
    "import os\n",
    "\n",
    "# 경로 설정\n",
    "image_dir = '/home/knuvi/Desktop/song/cucumber-image/data/leaves/train/images'\n",
    "label_dir = '/home/knuvi/Desktop/song/cucumber-image/data/leaves/train/labels'\n",
    "\n",
    "# 파일명을 변경하는 함수\n",
    "def rename_files(image_dir, label_dir, prefix=\"leaf\"):\n",
    "    image_files = [f for f in os.listdir(image_dir) if f.endswith(('.jpg', '.jpeg', '.png'))]\n",
    "    label_files = [f for f in os.listdir(label_dir) if f.endswith('.txt')]\n",
    "\n",
    "    # 이미지 파일과 레이블 파일이 동일한 수인지 확인\n",
    "    if len(image_files) != len(label_files):\n",
    "        print(\"Error: 이미지와 레이블 파일의 수가 일치하지 않습니다.\")\n",
    "        return\n",
    "\n",
    "    # 이미지와 레이블 파일 이름을 leaf1, leaf2 ... 형식으로 변경\n",
    "    for idx, image_file in enumerate(image_files):\n",
    "        new_name = f\"{prefix}{idx + 1}\"\n",
    "\n",
    "        # 기존 이미지와 레이블 경로\n",
    "        image_path = os.path.join(image_dir, image_file)\n",
    "        label_path = os.path.join(label_dir, os.path.splitext(image_file)[0] + '.txt')\n",
    "\n",
    "        # 새 이미지와 레이블 경로\n",
    "        new_image_path = os.path.join(image_dir, new_name + os.path.splitext(image_file)[1])  # 확장자 유지\n",
    "        new_label_path = os.path.join(label_dir, new_name + '.txt')\n",
    "\n",
    "        # 파일명 변경\n",
    "        os.rename(image_path, new_image_path)\n",
    "        os.rename(label_path, new_label_path)\n",
    "\n",
    "        print(f\"Renamed: {image_file} -> {new_name + os.path.splitext(image_file)[1]}\")\n",
    "        print(f\"Renamed: {os.path.splitext(image_file)[0] + '.txt'} -> {new_name + '.txt'}\")\n",
    "\n",
    "# 파일명 변경 실행\n",
    "rename_files(image_dir, label_dir)\n"
   ]
  }
 ],
 "metadata": {
  "kernelspec": {
   "display_name": "seg",
   "language": "python",
   "name": "python3"
  },
  "language_info": {
   "codemirror_mode": {
    "name": "ipython",
    "version": 3
   },
   "file_extension": ".py",
   "mimetype": "text/x-python",
   "name": "python",
   "nbconvert_exporter": "python",
   "pygments_lexer": "ipython3",
   "version": "3.10.15"
  }
 },
 "nbformat": 4,
 "nbformat_minor": 2
}
